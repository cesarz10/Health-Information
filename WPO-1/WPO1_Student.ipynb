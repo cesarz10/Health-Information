{
  "cells": [
    {
      "cell_type": "markdown",
      "metadata": {
        "deletable": false,
        "editable": true,
        "id": "dm0nFRrDDwHJ",
        "nbgrader": {
          "checksum": "cd5f35c274c309df26ebb89b15fa842b",
          "grade": false,
          "grade_id": "cell-df9b7bcad71e33a2",
          "locked": true,
          "schema_version": 1,
          "solution": false
        },
        "tags": []
      },
      "source": [
        "# Health Information Systems and Decision Support\n",
        "## WPO 1: Introduction to data analysis and visualization  (16/02/24)\n",
        "\n",
        "*Jakub Ceranka, Pieter Boonen, Jef Vandemeulebroucke* <br>\n",
        "*Department of Electronics and Informatics (ETRO)* <br>\n",
        "*Vrije Universiteit Brussel, Pleinlaan 2, B-1050 Brussels, Belgium*"
      ]
    },
    {
      "cell_type": "markdown",
      "metadata": {
        "id": "QcTxIRorDwHP"
      },
      "source": [
        "<font color=blue>Insert students names and IDs here</font>"
      ]
    },
    {
      "cell_type": "markdown",
      "metadata": {
        "deletable": false,
        "editable": false,
        "id": "5W1YddnKDwHR",
        "nbgrader": {
          "checksum": "744cf65635b5ad1fa7823e527b8fa3e3",
          "grade": false,
          "grade_id": "cell-f9aa9363ac438c72",
          "locked": true,
          "schema_version": 1,
          "solution": false
        },
        "tags": []
      },
      "source": [
        "### Goal\n",
        "The goal of this practical session is to obtain insight in basic data analysis and data visualization techniques using Jupyter notebook. Basic operations presented today will be very useful during the next practical sessions, where you will need to design and build different decision systems. In this practical session, basic libraries like *pandas*, *matplotlib* and *seaborn* are introduced and applied to the Wisconsin breast cancer data set. Students must send their notebook using Assignment functionality of Canvas using .ipynb __and__ .html format __before 23:59 on the 22th of February__. All practical sessions are graded. Additionally, a general feedback will be provided in the next practical session.\n",
        "\n",
        "__Hints__ for all practical sessions:\n",
        "- Make sure that the code is pre-compiled and all output is generated correctly before handing in your notebook\n",
        "- Pay attention to the layout of your figures (labels, titles, legends, colors,...)\n",
        "- Chose relevant abbreviations for your variables, make sure your variables are not overwritten\n",
        "- Read all assignments thoroughly\n",
        "***\n",
        "### Jupyter notebook\n",
        "\n",
        "Jupyter notebook is an open-source application that allows editing and running notebook documents via a web browser. Notebook documents contain both computer code (python) and text elements (paragraphs, equations, figures,...). In this way, notebook files can serve as a complete computational record of a session, interleaving executable code with explanatory text, mathematics, and rich representations of resulting objects. Notebooks may be exported to a range of static formats, including HTML, reStructuredText, LaTeX and PDF. Basic functionalities of the Jupyter notebook are presented [here](http://jupyter-notebook.readthedocs.io/en/stable/examples/Notebook/Notebook%20Basics.html).\n",
        "***\n",
        "### The breast cancer Wisconsin (diagnostic) data set\n",
        "\n",
        "#### Fine needle aspirate procedure:\n",
        "The dataset consists of features computed from a digitized image of a fine needle aspirate (FNA) of a breast mass. For this type of biopsy technique, a thin hollow needle is inserted into an area of abnormal-appearing tissue for sampling cells. This sample is examined under a microscope which is used in the diagnosis of cancer. FNA is generally considered a safe procedure.\n",
        "***\n",
        "#### FNA images:\n",
        "The image below represents a smear of nuclei of benign and malignant breast mass cells. A difference in shape, size and smoothness of cells is visible.\n",
        "\n",
        " ![Image of cells](./FNA_cells.png \"FNA_cells\")\n",
        "\n",
        "[<cite>Sizilio et al. 2012</cite>](https://biomedical-engineering-online.biomedcentral.com/articles/10.1186/1475-925X-11-83)\n",
        "***\n",
        "#### Features:\n",
        "In oder to describe the images with numerical values, which can be easily interpreted by a computer, the features term has to be introduced. Features describe characteristics of the nuclei present in the microscopic image. Usually, the more of independent features describing the image, the better.\n",
        "\n",
        "Each cell nuclei has an independent set of features describing its individual properties:\n",
        "- ID number of the patient from which the cell was collected.\n",
        "- The medical diagnosis label assessed by a histologist/oncologist: Malignant or Benign.\n",
        "- The mean, standard deviation and the 3 worst values of 10 features describing mathematical properties of a cell were computed. This included:\n",
        "        a) radius (distance from center to points on the perimeter)\n",
        "        b) texture (standard deviation of gray-scale values)\n",
        "        c) perimeter\n",
        "        d) area\n",
        "        e) smoothness (local variation in radius lengths)\n",
        "        f) compactness (perimeter^2 / area - 1.0)\n",
        "        g) concavity (severity of concave portions of the contour)\n",
        "        h) concave points (number of concave portions of the contour)\n",
        "        i) symmetry\n",
        "        j) fractal dimension (a measure of cells self-similarity)\n",
        "  \n",
        "Some features were computed automatically using automatic image processing algorithms, and others acquired manually by medical experts. Microscopic images of 569 cells were analyzed and labeled as benign or malignant.\n",
        "Class distribution: 357 benign, 212 malignant.\n",
        "***\n",
        "### Libraries\n",
        "\n",
        "During this practical session, multiple libraries will be used for the analysis and visualization of data. You can use a different version of libraries, however we recommend the following build:\n",
        "\n",
        "- [__Pandas__](https://pandas.pydata.org/pandas-docs/stable/tutorials.html):     high performance library used for processing data structures and data analysis. __V 0.22.0__\n",
        "- [__Numpy__](https://docs.scipy.org/doc/numpy-dev/user/quickstart.html):      library used for scientific computing containing N-dimensional arrays, functions and Fourier transform. __V 1.13.3__\n",
        "- [__Sci-kit Learn__](http://scikit-learn.org/stable/index.html):     Simple and efficient tools for machine learning and data analysis. __V 0.19.1__\n",
        "- [__Matplotlib__](https://matplotlib.org/users/pyplot_tutorial.html): plotting library used for the visualization of data from python. __V 2.1.0__\n",
        "- [__Seaborn__](https://seaborn.pydata.org/):    visualization library based on matplotlib, providing a high-level interface for drawing attractive statistical graphics. __V 0.8.1__\n",
        "\n",
        "To import any external library, you need to import it using the **import** statement followed by the name of the library and the shortcut. The following code imports Pandas and represents it as 'pd'. You can additionally check for the module version using __version__ command. Information on updating the libraries using Anaconda can be found  [here](http://conda-test.pydata.org/docs/examples/update.html)."
      ]
    },
    {
      "cell_type": "code",
      "execution_count": 1,
      "metadata": {
        "colab": {
          "base_uri": "https://localhost:8080/"
        },
        "deletable": false,
        "editable": false,
        "id": "yaupbfAkDwHU",
        "nbgrader": {
          "checksum": "47ae42137c4a1e922f27db6e527cc11b",
          "grade": false,
          "grade_id": "cell-9ffb82fb313cfa76",
          "locked": true,
          "schema_version": 1,
          "solution": false
        },
        "outputId": "70597de8-954b-45df-9145-8d4f14ee5098"
      },
      "outputs": [
        {
          "name": "stdout",
          "output_type": "stream",
          "text": [
            "2.1.1\n"
          ]
        }
      ],
      "source": [
        "import pandas as pd\n",
        "print(pd.__version__)"
      ]
    },
    {
      "cell_type": "markdown",
      "metadata": {
        "deletable": false,
        "editable": false,
        "id": "60dvQCx9DwHb",
        "nbgrader": {
          "checksum": "92a44e50499bf44a6f6547a83e6699f1",
          "grade": false,
          "grade_id": "cell-ad703a062149a68b",
          "locked": false,
          "schema_version": 1,
          "solution": false
        },
        "tags": []
      },
      "source": [
        "***\n",
        "### Task 1: Importing data  \n",
        "\n",
        "The provided dataset is represented as the comma-separated values (.csv) file, which stores the tabular data in plain text.\n",
        "\n",
        "Load the dataset (dataWisconsinBreast.csv) as the dataframe object using Panda's __read_csv__ function and have a look at the data using the __head()__ command. By default, the statement will print out top 5 rows of the dataset.\n",
        "The __info()__ method is useful to get a quick description of the data, in particular the total number of rows, and each feature's type and number of non-null values.\n",
        "\n",
        "Hint: To use a command from a library, type the abbreviation of the library followed by a dot and the function  \n"
      ]
    },
    {
      "cell_type": "code",
      "execution_count": 2,
      "metadata": {
        "colab": {
          "base_uri": "https://localhost:8080/"
        },
        "deletable": false,
        "editable": true,
        "id": "zf0-hFquDwHc",
        "outputId": "96564d9e-9fa2-485a-9e05-ebd73fdf99f1",
        "tags": []
      },
      "outputs": [
        {
          "name": "stdout",
          "output_type": "stream",
          "text": [
            "         id diagnosis  radius_mean  texture_mean  perimeter_mean  area_mean  \\\n",
            "0    842302         M        17.99         10.38          122.80     1001.0   \n",
            "1    842517         M        20.57         17.77          132.90     1326.0   \n",
            "2  84300903         M        19.69         21.25          130.00     1203.0   \n",
            "3  84348301         M        11.42         20.38           77.58      386.1   \n",
            "4  84358402         M        20.29         14.34          135.10     1297.0   \n",
            "\n",
            "   smoothness_mean  compactness_mean  concavity_mean  concave points_mean  \\\n",
            "0          0.11840           0.27760          0.3001              0.14710   \n",
            "1          0.08474           0.07864          0.0869              0.07017   \n",
            "2          0.10960           0.15990          0.1974              0.12790   \n",
            "3          0.14250           0.28390          0.2414              0.10520   \n",
            "4          0.10030           0.13280          0.1980              0.10430   \n",
            "\n",
            "   ...  texture_worst  perimeter_worst  area_worst  smoothness_worst  \\\n",
            "0  ...          17.33           184.60      2019.0            0.1622   \n",
            "1  ...          23.41           158.80      1956.0            0.1238   \n",
            "2  ...          25.53           152.50      1709.0            0.1444   \n",
            "3  ...          26.50            98.87       567.7            0.2098   \n",
            "4  ...          16.67           152.20      1575.0            0.1374   \n",
            "\n",
            "   compactness_worst  concavity_worst  concave points_worst  symmetry_worst  \\\n",
            "0             0.6656           0.7119                0.2654          0.4601   \n",
            "1             0.1866           0.2416                0.1860          0.2750   \n",
            "2             0.4245           0.4504                0.2430          0.3613   \n",
            "3             0.8663           0.6869                0.2575          0.6638   \n",
            "4             0.2050           0.4000                0.1625          0.2364   \n",
            "\n",
            "   fractal_dimension_worst  Unnamed: 32  \n",
            "0                  0.11890          NaN  \n",
            "1                  0.08902          NaN  \n",
            "2                  0.08758          NaN  \n",
            "3                  0.17300          NaN  \n",
            "4                  0.07678          NaN  \n",
            "\n",
            "[5 rows x 33 columns]\n",
            "<class 'pandas.core.frame.DataFrame'>\n",
            "RangeIndex: 569 entries, 0 to 568\n",
            "Data columns (total 33 columns):\n",
            " #   Column                   Non-Null Count  Dtype  \n",
            "---  ------                   --------------  -----  \n",
            " 0   id                       569 non-null    int64  \n",
            " 1   diagnosis                569 non-null    object \n",
            " 2   radius_mean              569 non-null    float64\n",
            " 3   texture_mean             569 non-null    float64\n",
            " 4   perimeter_mean           569 non-null    float64\n",
            " 5   area_mean                569 non-null    float64\n",
            " 6   smoothness_mean          569 non-null    float64\n",
            " 7   compactness_mean         569 non-null    float64\n",
            " 8   concavity_mean           569 non-null    float64\n",
            " 9   concave points_mean      569 non-null    float64\n",
            " 10  symmetry_mean            569 non-null    float64\n",
            " 11  fractal_dimension_mean   569 non-null    float64\n",
            " 12  radius_se                569 non-null    float64\n",
            " 13  texture_se               569 non-null    float64\n",
            " 14  perimeter_se             569 non-null    float64\n",
            " 15  area_se                  569 non-null    float64\n",
            " 16  smoothness_se            569 non-null    float64\n",
            " 17  compactness_se           569 non-null    float64\n",
            " 18  concavity_se             569 non-null    float64\n",
            " 19  concave points_se        569 non-null    float64\n",
            " 20  symmetry_se              569 non-null    float64\n",
            " 21  fractal_dimension_se     569 non-null    float64\n",
            " 22  radius_worst             569 non-null    float64\n",
            " 23  texture_worst            569 non-null    float64\n",
            " 24  perimeter_worst          569 non-null    float64\n",
            " 25  area_worst               569 non-null    float64\n",
            " 26  smoothness_worst         569 non-null    float64\n",
            " 27  compactness_worst        569 non-null    float64\n",
            " 28  concavity_worst          569 non-null    float64\n",
            " 29  concave points_worst     569 non-null    float64\n",
            " 30  symmetry_worst           569 non-null    float64\n",
            " 31  fractal_dimension_worst  569 non-null    float64\n",
            " 32  Unnamed: 32              0 non-null      float64\n",
            "dtypes: float64(31), int64(1), object(1)\n",
            "memory usage: 146.8+ KB\n",
            "None\n",
            "\n",
            "\n",
            "Index(['id', 'diagnosis', 'radius_mean', 'texture_mean', 'perimeter_mean',\n",
            "       'area_mean', 'smoothness_mean', 'compactness_mean', 'concavity_mean',\n",
            "       'concave points_mean', 'symmetry_mean', 'fractal_dimension_mean',\n",
            "       'radius_se', 'texture_se', 'perimeter_se', 'area_se', 'smoothness_se',\n",
            "       'compactness_se', 'concavity_se', 'concave points_se', 'symmetry_se',\n",
            "       'fractal_dimension_se', 'radius_worst', 'texture_worst',\n",
            "       'perimeter_worst', 'area_worst', 'smoothness_worst',\n",
            "       'compactness_worst', 'concavity_worst', 'concave points_worst',\n",
            "       'symmetry_worst', 'fractal_dimension_worst', 'Unnamed: 32'],\n",
            "      dtype='object')\n"
          ]
        }
      ],
      "source": [
        "# YOUR CODE HERE\n",
        "df = pd.read_csv('dataWisconsinBreast.csv')\n",
        "print(df.head())\n",
        "print(df.info())\n",
        "print(f\"\\n\\n{df.columns}\")"
      ]
    },
    {
      "cell_type": "markdown",
      "metadata": {
        "deletable": false,
        "editable": false,
        "id": "SUY6ktQuDwHd",
        "nbgrader": {
          "checksum": "e204479671eed0bc822f9b10cfaaedcf",
          "grade": false,
          "grade_id": "cell-c61926438dee270c",
          "locked": true,
          "schema_version": 1,
          "solution": false
        },
        "tags": []
      },
      "source": [
        "***\n",
        "### Task 2: Dataset preprocessing\n",
        "\n",
        "Lets have a closer look at the dataset. Using inbuilt Pandas function check if the dataset's shape matches with number of cells (rows) and features (columns) provided in the section 'Features'.\n",
        "\n",
        "__Hint: Something on the index for a column?__\n",
        "\n",
        "Print the __head()__ of the dataframe again. The first column of the dataset is a random patients ID number which does not bring any clinically relevant information to the dataset. The last column represents NaN (not a number values). Remove these columns from the dataset and check if the shape has decreased accordingly. Additionally, remove all features which do not represent the mean (\\_mean) value and assign it to the new dataframe.\n",
        "\n",
        "The next step is to normalize (min-max scaling) the values. Most machine learning algorithms don't perform well when the numerical input values have very different scales. To rescale the data, we subtract the minimum from every value and divide by the maximum minus the minimum ($\\frac{value-min}{max-min}$).\n",
        "\n",
        "Hint: Use __MinMaxScaler__ from __sklearn__ for the normalization.\n",
        "\n",
        "Now that the values are all normalized, the name of the features should be changed as well. Add *_N* after each feature using __rename()__ .\n",
        "\n",
        "Hint: Printing a list with the names of the features will save you some time\n",
        "\n",
        "You can see that the dataset 'diagnosis' column has either M or B symbol, representing respectively malignant or benign cancer classification label. Split the dataframe into two datasets, representing all benign and malignant rows of features. Does the shapes of new datasets match the dataset class distribution?\n",
        "\n",
        "Save all three new datasets (cropped with B and M, cropped B and cropped M) as the .csv files in your working directory. Use these normalized datasets for the next tasks."
      ]
    },
    {
      "cell_type": "code",
      "execution_count": 4,
      "metadata": {
        "colab": {
          "base_uri": "https://localhost:8080/"
        },
        "collapsed": true,
        "deletable": false,
        "id": "a37P-5mSDwHd",
        "jupyter": {
          "outputs_hidden": true
        },
        "outputId": "ba0c08d4-88a8-490f-e549-756b1d04a8c2"
      },
      "outputs": [
        {
          "name": "stdout",
          "output_type": "stream",
          "text": [
            "\n",
            "dataframe shape: (569, 31) | normalized data shape: (569, 11)\n",
            "benign normalized shape: (357, 10) | malignant normalized shape: (212, 10)\n",
            "\n"
          ]
        },
        {
          "name": "stderr",
          "output_type": "stream",
          "text": [
            "C:\\Users\\cesar\\AppData\\Local\\Temp\\ipykernel_8144\\637517703.py:25: SettingWithCopyWarning: \n",
            "A value is trying to be set on a copy of a slice from a DataFrame\n",
            "\n",
            "See the caveats in the documentation: https://pandas.pydata.org/pandas-docs/stable/user_guide/indexing.html#returning-a-view-versus-a-copy\n",
            "  df_benign.drop('diagnosis', axis=1, inplace=True)\n",
            "C:\\Users\\cesar\\AppData\\Local\\Temp\\ipykernel_8144\\637517703.py:28: SettingWithCopyWarning: \n",
            "A value is trying to be set on a copy of a slice from a DataFrame\n",
            "\n",
            "See the caveats in the documentation: https://pandas.pydata.org/pandas-docs/stable/user_guide/indexing.html#returning-a-view-versus-a-copy\n",
            "  df_malignant.drop('diagnosis', axis=1, inplace=True)\n"
          ]
        }
      ],
      "source": [
        "import numpy as np\n",
        "from sklearn.preprocessing import MinMaxScaler\n",
        "\n",
        "scaler = MinMaxScaler()\n",
        "\n",
        "if df.shape[1] == 33:  # deleting last column (the unnamed one) if it exists\n",
        "    df.drop('id',  axis=1,  inplace=True)\n",
        "    df.drop('Unnamed: 32',  axis=1,  inplace=True)\n",
        "\n",
        "\n",
        "diagnosis_column = df['diagnosis'] # list of Bening and Malignant diagnoses together\n",
        "features_list = df.columns # list of features' names\n",
        "\n",
        "filtered_df = df.filter(regex='_mean') # filtering so only the *_mean features remain\n",
        "\n",
        "df_normalized = scaler.fit_transform(filtered_df) # normalizing the data of the whole dataframe (bening + malignant) -> returns array\n",
        "df_normalized = pd.DataFrame(df_normalized, columns=filtered_df.columns) # going from numpy array to pd dataframe again\n",
        "\n",
        "df_normalized = df_normalized.add_suffix(\"_N\") # adding suffix _N to the column names to denote that the values are normalized now\n",
        "\n",
        "df_normalized.insert(0, 'diagnosis', pd.Series(diagnosis_column)) # inserting diagnosis again so it can be split between B and M\n",
        "\n",
        "# separating Benign and Malignant classes. Dropping the diagnosis feature -it is not useful since they are fully separated-\n",
        "df_benign = df_normalized[df_normalized['diagnosis']=='B']\n",
        "df_benign.drop('diagnosis', axis=1, inplace=True)\n",
        "\n",
        "df_malignant = df_normalized[df_normalized['diagnosis']=='M']\n",
        "df_malignant.drop('diagnosis', axis=1, inplace=True)\n",
        "\n",
        "df_normalized.to_csv(\"cropped_B_M_normalized.csv\", index=False)\n",
        "df_benign.to_csv(\"cropped_B_normalized.csv\", index=False)\n",
        "df_malignant.to_csv(\"cropped_M_normalized.csv\", index=False)\n",
        "\n",
        "print(f\"\\ndataframe shape: {df.shape} | normalized data shape: {df_normalized.shape}\\nbenign normalized shape: {df_benign.shape} | malignant normalized shape: {df_malignant.shape}\\n\")\n",
        "\n"
      ]
    },
    {
      "cell_type": "markdown",
      "metadata": {
        "deletable": false,
        "editable": false,
        "id": "QPmXWMyGDwHe",
        "nbgrader": {
          "checksum": "e99831153e334fc7c3d1db8bc80ac4ed",
          "grade": false,
          "grade_id": "cell-bd21bc3dfb2a958d",
          "locked": true,
          "schema_version": 1,
          "solution": false
        },
        "tags": []
      },
      "source": [
        "***\n",
        "### Task 3: Dataset statistics\n",
        "\n",
        "In order to understand the differences and behavior of the data we need to calculate basic statistical values of features. Calculate and print the mean, median, standard deviation and 25th, 75th percentile of the both: malignant and benign dataset for the concavity_mean feature.\n",
        "\n",
        "Using *pandas* and *matplotlib* library prepare a boxplot of the distribution of the mean radius feature for benign and malignant cells (__Hint:__ concatenate columns of interest and use pandas function boxplot()).\n",
        "\n",
        "describe() method shows a summary of the numerical attributes for all features.\n",
        "\n",
        "Hint: In order to plot directly in Jupyter notebook use the following command: %matplotlib inline"
      ]
    },
    {
      "cell_type": "code",
      "execution_count": 7,
      "metadata": {
        "colab": {
          "base_uri": "https://localhost:8080/",
          "height": 1000
        },
        "collapsed": true,
        "deletable": false,
        "editable": true,
        "id": "piYAFeMRDwHf",
        "jupyter": {
          "outputs_hidden": true
        },
        "outputId": "d8e3a7b1-73aa-49e8-92a3-349116469f69",
        "tags": []
      },
      "outputs": [
        {
          "name": "stdout",
          "output_type": "stream",
          "text": [
            "mean of concavity_mean for benign: 0.10791382616776794\n",
            "mean of concavity_mean for malignant: 0.37669802479178083\n",
            "\n",
            "median of concavity_mean for benign: 0.08690253045923148\n",
            "median of concavity_mean for malignant: 0.35461574507966254\n",
            "\n",
            "standard deviation of concavity_mean for benign: 0.10178573347015366\n",
            "standard deviation of concavity_mean for malignant: 0.175771621017472\n",
            "\n",
            "25th percentile for benign is 0.04758669165885661\n",
            "75th percentile for benign is 0.1405576382380506\n",
            "25th percentile for malignant is 0.2566190253045923\n",
            "75th percentile for malignant is 0.47574976569821925\n",
            "\n"
          ]
        },
        {
          "data": {
            "text/html": [
              "<div>\n",
              "<style scoped>\n",
              "    .dataframe tbody tr th:only-of-type {\n",
              "        vertical-align: middle;\n",
              "    }\n",
              "\n",
              "    .dataframe tbody tr th {\n",
              "        vertical-align: top;\n",
              "    }\n",
              "\n",
              "    .dataframe thead th {\n",
              "        text-align: right;\n",
              "    }\n",
              "</style>\n",
              "<table border=\"1\" class=\"dataframe\">\n",
              "  <thead>\n",
              "    <tr style=\"text-align: right;\">\n",
              "      <th></th>\n",
              "      <th>radius_mean_N</th>\n",
              "      <th>texture_mean_N</th>\n",
              "      <th>perimeter_mean_N</th>\n",
              "      <th>area_mean_N</th>\n",
              "      <th>smoothness_mean_N</th>\n",
              "      <th>compactness_mean_N</th>\n",
              "      <th>concavity_mean_N</th>\n",
              "      <th>concave points_mean_N</th>\n",
              "      <th>symmetry_mean_N</th>\n",
              "      <th>fractal_dimension_mean_N</th>\n",
              "    </tr>\n",
              "  </thead>\n",
              "  <tbody>\n",
              "    <tr>\n",
              "      <th>count</th>\n",
              "      <td>212.000000</td>\n",
              "      <td>212.000000</td>\n",
              "      <td>212.000000</td>\n",
              "      <td>212.000000</td>\n",
              "      <td>212.000000</td>\n",
              "      <td>212.000000</td>\n",
              "      <td>212.000000</td>\n",
              "      <td>212.000000</td>\n",
              "      <td>212.000000</td>\n",
              "      <td>212.000000</td>\n",
              "    </tr>\n",
              "    <tr>\n",
              "      <th>mean</th>\n",
              "      <td>0.496087</td>\n",
              "      <td>0.402263</td>\n",
              "      <td>0.494613</td>\n",
              "      <td>0.354136</td>\n",
              "      <td>0.453810</td>\n",
              "      <td>0.385890</td>\n",
              "      <td>0.376698</td>\n",
              "      <td>0.437326</td>\n",
              "      <td>0.438934</td>\n",
              "      <td>0.267904</td>\n",
              "    </tr>\n",
              "    <tr>\n",
              "      <th>std</th>\n",
              "      <td>0.151639</td>\n",
              "      <td>0.127814</td>\n",
              "      <td>0.151024</td>\n",
              "      <td>0.156071</td>\n",
              "      <td>0.113824</td>\n",
              "      <td>0.165596</td>\n",
              "      <td>0.175772</td>\n",
              "      <td>0.170844</td>\n",
              "      <td>0.139586</td>\n",
              "      <td>0.159505</td>\n",
              "    </tr>\n",
              "    <tr>\n",
              "      <th>min</th>\n",
              "      <td>0.187846</td>\n",
              "      <td>0.022658</td>\n",
              "      <td>0.194251</td>\n",
              "      <td>0.092513</td>\n",
              "      <td>0.190304</td>\n",
              "      <td>0.081805</td>\n",
              "      <td>0.056186</td>\n",
              "      <td>0.100944</td>\n",
              "      <td>0.125253</td>\n",
              "      <td>0.000000</td>\n",
              "    </tr>\n",
              "    <tr>\n",
              "      <th>25%</th>\n",
              "      <td>0.383075</td>\n",
              "      <td>0.325245</td>\n",
              "      <td>0.379760</td>\n",
              "      <td>0.238303</td>\n",
              "      <td>0.373567</td>\n",
              "      <td>0.276731</td>\n",
              "      <td>0.256619</td>\n",
              "      <td>0.321173</td>\n",
              "      <td>0.343687</td>\n",
              "      <td>0.139796</td>\n",
              "    </tr>\n",
              "    <tr>\n",
              "      <th>50%</th>\n",
              "      <td>0.489564</td>\n",
              "      <td>0.397362</td>\n",
              "      <td>0.486559</td>\n",
              "      <td>0.334464</td>\n",
              "      <td>0.447504</td>\n",
              "      <td>0.346512</td>\n",
              "      <td>0.354616</td>\n",
              "      <td>0.428827</td>\n",
              "      <td>0.423737</td>\n",
              "      <td>0.244629</td>\n",
              "    </tr>\n",
              "    <tr>\n",
              "      <th>75%</th>\n",
              "      <td>0.596763</td>\n",
              "      <td>0.475313</td>\n",
              "      <td>0.595225</td>\n",
              "      <td>0.449735</td>\n",
              "      <td>0.526271</td>\n",
              "      <td>0.469358</td>\n",
              "      <td>0.475750</td>\n",
              "      <td>0.512798</td>\n",
              "      <td>0.524495</td>\n",
              "      <td>0.360468</td>\n",
              "    </tr>\n",
              "    <tr>\n",
              "      <th>max</th>\n",
              "      <td>1.000000</td>\n",
              "      <td>1.000000</td>\n",
              "      <td>1.000000</td>\n",
              "      <td>1.000000</td>\n",
              "      <td>0.831182</td>\n",
              "      <td>1.000000</td>\n",
              "      <td>1.000000</td>\n",
              "      <td>1.000000</td>\n",
              "      <td>1.000000</td>\n",
              "      <td>1.000000</td>\n",
              "    </tr>\n",
              "  </tbody>\n",
              "</table>\n",
              "</div>"
            ],
            "text/plain": [
              "       radius_mean_N  texture_mean_N  perimeter_mean_N  area_mean_N  \\\n",
              "count     212.000000      212.000000        212.000000   212.000000   \n",
              "mean        0.496087        0.402263          0.494613     0.354136   \n",
              "std         0.151639        0.127814          0.151024     0.156071   \n",
              "min         0.187846        0.022658          0.194251     0.092513   \n",
              "25%         0.383075        0.325245          0.379760     0.238303   \n",
              "50%         0.489564        0.397362          0.486559     0.334464   \n",
              "75%         0.596763        0.475313          0.595225     0.449735   \n",
              "max         1.000000        1.000000          1.000000     1.000000   \n",
              "\n",
              "       smoothness_mean_N  compactness_mean_N  concavity_mean_N  \\\n",
              "count         212.000000          212.000000        212.000000   \n",
              "mean            0.453810            0.385890          0.376698   \n",
              "std             0.113824            0.165596          0.175772   \n",
              "min             0.190304            0.081805          0.056186   \n",
              "25%             0.373567            0.276731          0.256619   \n",
              "50%             0.447504            0.346512          0.354616   \n",
              "75%             0.526271            0.469358          0.475750   \n",
              "max             0.831182            1.000000          1.000000   \n",
              "\n",
              "       concave points_mean_N  symmetry_mean_N  fractal_dimension_mean_N  \n",
              "count             212.000000       212.000000                212.000000  \n",
              "mean                0.437326         0.438934                  0.267904  \n",
              "std                 0.170844         0.139586                  0.159505  \n",
              "min                 0.100944         0.125253                  0.000000  \n",
              "25%                 0.321173         0.343687                  0.139796  \n",
              "50%                 0.428827         0.423737                  0.244629  \n",
              "75%                 0.512798         0.524495                  0.360468  \n",
              "max                 1.000000         1.000000                  1.000000  "
            ]
          },
          "execution_count": 7,
          "metadata": {},
          "output_type": "execute_result"
        },
        {
          "data": {
            "image/png": "[encoded data removed]",
            "text/plain": [
              "<Figure size 640x480 with 1 Axes>"
            ]
          },
          "metadata": {},
          "output_type": "display_data"
        }
      ],
      "source": [
        "## Basic statistical values\n",
        "# mean\n",
        "mean_benign = df_benign.loc[:, 'concavity_mean_N'].mean()\n",
        "mean_malignant = df_malignant.loc[:, 'concavity_mean_N'].mean()\n",
        "\n",
        "print(f\"mean of concavity_mean for benign: {mean_benign}\\nmean of concavity_mean for malignant: {mean_malignant}\\n\")\n",
        "\n",
        "# median\n",
        "median_benign = df_benign.loc[:, 'concavity_mean_N'].median()\n",
        "median_malignant = df_malignant.loc[:, 'concavity_mean_N'].median()\n",
        "\n",
        "print(f\"median of concavity_mean for benign: {median_benign}\\nmedian of concavity_mean for malignant: {median_malignant}\\n\")\n",
        "\n",
        "# standard deviation\n",
        "std_benign = df_benign.loc[:, 'concavity_mean_N'].std()\n",
        "std_malignant = df_malignant.loc[:, 'concavity_mean_N'].std()\n",
        "\n",
        "print(f\"standard deviation of concavity_mean for benign: {std_benign}\\nstandard deviation of concavity_mean for malignant: {std_malignant}\\n\")\n",
        "\n",
        "# percentile\n",
        "perc_25_benign = df_benign.loc[:, 'concavity_mean_N'].quantile(0.25)\n",
        "perc_75_benign = df_benign.loc[:, 'concavity_mean_N'].quantile(0.75)\n",
        "\n",
        "perc_25_malignant = df_malignant.loc[:, 'concavity_mean_N'].quantile(0.25)\n",
        "perc_75_malignant = df_malignant.loc[:, 'concavity_mean_N'].quantile(0.75)\n",
        "\n",
        "print(f\"25th percentile for benign is {perc_25_benign}\\n75th percentile for benign is {perc_75_benign}\")\n",
        "print(f\"25th percentile for malignant is {perc_25_malignant}\\n75th percentile for malignant is {perc_75_malignant}\\n\")\n",
        "\n",
        "## Boxplot\n",
        "df.boxplot('radius_mean', by='diagnosis')\n",
        "#df_malignant.boxplot('radius_mean', by='Malignant')\n",
        "#pd.concat([df_benign,df_malignant]).boxplot(column='radius_mean')#,by='urban')\n",
        "\n",
        "## Describe method\n",
        "df_malignant.describe()\n",
        "#df_benign.describe()"
      ]
    },
    {
      "cell_type": "markdown",
      "metadata": {
        "deletable": false,
        "editable": false,
        "id": "VapnSBP5DwHg",
        "nbgrader": {
          "checksum": "43fe0229adf24d2f1042642535e91c09",
          "grade": false,
          "grade_id": "cell-1d67f212185a28e7",
          "locked": true,
          "schema_version": 1,
          "solution": false
        }
      },
      "source": [
        "Can you already spot the differences in data distributions between benign and malignant cancer? What conclusions regarding the size and shape of malignant vs benign cells can be drawn?"
      ]
    },
    {
      "cell_type": "markdown",
      "metadata": {
        "deletable": false,
        "id": "YemC5kARDwHg"
      },
      "source": []
    },
    {
      "cell_type": "markdown",
      "metadata": {
        "deletable": false,
        "editable": false,
        "id": "1dpvXZAsDwHh",
        "nbgrader": {
          "checksum": "e5e9fca205fe725bd477b77fe0da8f40",
          "grade": false,
          "grade_id": "cell-8eb3d8d7afcecb2e",
          "locked": true,
          "schema_version": 1,
          "solution": false
        }
      },
      "source": [
        "***\n",
        "### Task 4: Visualization of nuclei features\n",
        "\n",
        "Another quick way to get a feel of the type of data you are dealing with is to plot a histogram for each numerical attribute. A histogram shows the number of instances (on the vertical axis) that have a given value range (on the horizontal axis). Using *matplotlib* plot a histogram of a mean radius of malignant cancer cells. On the same figure add a histogram (using a different color) of benign cancer cells radius (Hint: use *matplotlib* function hist() ). Do the histograms correlate with each other?\n",
        "\n",
        "Histogram is a great tool to visualize the distribution of a single feature. However, often a dataset consists of several features and therefore another way of visualization has to be used.\n",
        "\n",
        "A 2D scatterplot shows a relation between two features. Scatterplots are very often used to get a feeling of the data and work as a help tool for choosing a correct design of decision system which you will build during the next practical sessions.\n",
        "\n",
        "Using *matplotlib*, plot on the same figure the relation of the radius_mean feature in function of the texture_mean feature for benign and malignant cases. Mark classes with different color and provide a legend box.\n",
        "\n",
        "Scatterplots give a possibility to analyse the trends and relations between different features. Looking at the plotted scatterplot, you can see that there seem to be a linear relation between radius and texture. Lets try to find it.\n",
        "\n",
        "Using linear regression from Sci-Kit learn toolbox, fit a linear function and plot it on the same scatterplot. Give the formula of the linear function."
      ]
    },
    {
      "cell_type": "code",
      "execution_count": 25,
      "metadata": {
        "collapsed": true,
        "deletable": false,
        "id": "HF-mEIsUDwHi",
        "jupyter": {
          "outputs_hidden": true
        }
      },
      "outputs": [
        {
          "data": {
            "image/png": "[encoded data removed]",
            "text/plain": [
              "<Figure size 640x480 with 1 Axes>"
            ]
          },
          "metadata": {},
          "output_type": "display_data"
        },
        {
          "ename": "ValueError",
          "evalue": "Expected 2D array, got 1D array instead:\narray=[0.37571863 0.12039229 0.19918837 0.323977   0.34223876 0.29015894\n 0.22421373 0.43354751 0.42948935 0.35407508 0.71051742 0.13358133\n 0.3222861  0.25160636 0.22455191 0.28610078 0.23571187 0.24619547\n 0.50084545 0.39736219 0.45350017 0.25667907 0.15387217 0.26276632\n 0.30875888 0.24484275 0.31687521 0.31484613 0.36117687 0.45248563\n 0.21373013 0.3432533  0.45924924 0.299628   0.30571525 0.21981738\n 0.24923909 0.24721001 0.30267163 0.42576936 0.24416638 0.25498816\n 0.62529591 0.54210348 0.17822117 0.3814677  0.17720663 0.30808252\n 1.         0.29117349 0.27088265 0.03990531 0.33040243 0.21812648\n 0.4163003  0.15995942 0.17653027 0.10821779 0.26682448 0.29455529\n 0.34223876 0.39059858 0.29692256 0.40480216 0.18025025 0.3361515\n 0.30064254 0.23638823 0.29996618 0.21339195 0.40886033 0.21339195\n 0.22590463 0.27663172 0.42543118 0.48461278 0.29015894 0.12580318\n 0.58741968 0.51673994 0.39127494 0.51707812 0.31247886 0.35644234\n 0.11396686 0.49814001 0.62631045 0.43997295 0.30977342 0.30571525\n 0.45722016 0.3344606  0.35170781 0.67974298 0.31214068 0.38755495\n 0.23537369 0.32566791 0.72404464 0.41021305 0.14575583 0.45654379\n 0.26411904 0.11903957 0.26580994 0.37368955 0.10585052 0.32600609\n 0.33987149 0.33412242 0.38214406 0.26445722 0.11836321 0.27494082\n 0.23774095 0.24653365 0.23233006 0.56002705 0.17754481 0.45620561\n 0.52384173 0.425093   0.39905309 0.3902604  0.32702063 0.07034156\n 0.27494082 0.16706121 0.15285763 0.30402435 0.32160974 0.3084207\n 0.41799121 0.28779168 0.22658099 0.24146094 0.39803855 0.51031451\n 0.5836997  0.07642881 0.28373351 0.33243152 0.0923233  0.39634765\n 0.43151843 0.31552249 0.39567129 0.31755157 0.10990869 0.30064254\n 0.6445722  0.21846466 0.48224552 0.52079811 0.33682787 0.33310788\n 0.08488333 0.26208996 0.47548191 0.14034494 0.32566791 0.52147447\n 0.24450457 0.53364897 0.0906324  0.3361515  0.21981738 0.08319242\n 0.16672303 0.39567129 0.40818397 0.4808928  0.23233006 0.62123774\n 0.42306392 0.28271897 0.44639838 0.14778492 0.28779168 0.24112276\n 0.30639161 0.42069665 0.20290835 0.46635103 0.35678052 0.26276632\n 0.19039567 0.28542442 0.36557322 0.60534325 0.19986473 0.17754481\n 0.19208657 0.12445046 0.24146094 0.1602976  0.36692594 0.14271221\n 0.0226581  0.48156916 0.18701387 0.36557322 0.3676023  0.28677714\n 0.24822455 0.41359486 0.21846466 0.49036185 0.40209672 0.57017247\n 0.53601623 0.58978695 0.49949273 0.22590463 0.28238079 0.25059182\n 0.62326682 0.50152181 0.66351031 0.57997971 0.42069665 0.27832262\n 0.22624281 0.12106865 0.17314846 0.44132567 0.27798444 0.34190057\n 0.1481231  0.31044978 0.11599594 0.14169767 0.47480555 0.46838011\n 0.20257017 0.20358471 0.19445384 0.34731146 0.28035171 0.49239094\n 0.20459926 0.51065269 0.28643896 0.07372337 0.08927968 0.14879946\n 0.51335813 0.39431857 0.32769699 0.57118701 0.35441326 0.16909029\n 0.20257017 0.17619209 0.526209   0.1376395  0.58674332 0.26445722\n 0.37098411 0.49983091 0.22353737 0.10720325 0.34595874 0.2962462\n 0.16638485 0.35644234 0.10145418 0.51640176 0.14710856 0.70713561\n 0.20798106 0.11464322 0.33513696 0.2177883  0.28610078 0.18261752\n 0.42002029 0.52553263 0.66215759 0.03415624 0.76969902 0.174163\n 0.37368955 0.20189381 0.43388569 0.10990869 0.37166047 0.43050389\n 0.18498478 0.34731146 0.32499155 0.21508285 0.24112276 0.2056138\n 0.34223876 0.29117349 0.33141698 0.22928644 0.40480216 0.36083869\n 0.62563409 0.21203923 0.27764626 0.35847142 0.3902604  0.35745688\n 0.04058167 0.56679067 0.03753805 0.33547514 0.38180588 0.37707136\n 0.20121745 0.18498478 0.29218803 0.19039567 0.34866419 0.18397024\n 0.26208996 0.31552249 0.43050389 0.81501522 0.45924924 0.400744\n 0.3432533  0.27730808 0.3659114  0.23368279 0.31044978 0.17653027\n 0.31822793 0.05309435 0.25972269 0.16841393 0.42306392 0.08657423\n 0.28779168 0.26580994 0.32972607 0.8065607  0.35238417 0.62056138\n 0.16909029 0.37301319 0.38112952 0.39736219 0.18227934 0.15657761\n 0.42035847 0.43422388 0.31653703 0.33243152 0.48156916 0.27629354\n 0.12614136 0.26919175 0.40209672 0.48123098 0.33648969 0.3466351\n 0.15049036 0.40919851 0.57355428 0.31112614 0.41494758 0.25532634\n 0.18397024 0.61954684 0.1707812  0.26750085 0.58978695 0.41224214\n 0.25870815 0.43625296 0.37064592 0.30639161 0.34697328 0.39972946\n 0.41156578 0.47683463 0.17145756 0.28102807 0.29252621 0.51403449\n 0.10551234 0.48393642 0.32465336 0.39228948 0.37199865 0.2979371\n 0.35475144 0.31856611 0.40175854 0.5312817  0.1271559  0.20257017\n 0.52113629 0.36557322 0.26547176 0.28846804 0.42881299 0.\n 0.18058843 0.48224552 0.61210687 0.40006764 0.16503213 0.29151167\n 0.31078796 0.41258032 0.30740615 0.68515387 0.45147109 0.17010484\n 0.25363544 0.56070342 0.21508285 0.19580656 0.14169767 0.40547853\n 0.28204261 0.37301319 0.45045654 0.19783564 0.13966858 0.24484275\n 0.12208319 0.22387555 0.1166723  0.21068651 0.19411566 0.32532973\n 0.45654379 0.14440311 0.30334799 0.18599932 0.20696652 0.17653027\n 0.17788299 0.40615489 0.3554278  0.27257355 0.61345959 0.25769361\n 0.38248225 0.20223199 0.50625634 0.26885357 0.23537369 0.2404464\n 0.50659452 0.33885695 0.29387893 0.28643896 0.34020967].\nReshape your data either using array.reshape(-1, 1) if your data has a single feature or array.reshape(1, -1) if it contains a single sample.",
          "output_type": "error",
          "traceback": [
            "\u001b[1;31m---------------------------------------------------------------------------\u001b[0m",
            "\u001b[1;31mValueError\u001b[0m                                Traceback (most recent call last)",
            "Cell \u001b[1;32mIn[25], line 21\u001b[0m\n\u001b[0;32m     18\u001b[0m X_train, X_test, y_train, y_test \u001b[38;5;241m=\u001b[39m train_test_split(combined_data_texture, combined_data_radius, test_size\u001b[38;5;241m=\u001b[39m\u001b[38;5;241m0.2\u001b[39m, random_state\u001b[38;5;241m=\u001b[39m\u001b[38;5;241m30\u001b[39m)\n\u001b[0;32m     20\u001b[0m regression \u001b[38;5;241m=\u001b[39m LinearRegression()\n\u001b[1;32m---> 21\u001b[0m \u001b[43mregression\u001b[49m\u001b[38;5;241;43m.\u001b[39;49m\u001b[43mfit\u001b[49m\u001b[43m(\u001b[49m\u001b[43mX_train\u001b[49m\u001b[43m,\u001b[49m\u001b[43m \u001b[49m\u001b[43my_train\u001b[49m\u001b[43m)\u001b[49m \u001b[38;5;66;03m# train model using train data\u001b[39;00m\n\u001b[0;32m     22\u001b[0m y_prediction \u001b[38;5;241m=\u001b[39m regression\u001b[38;5;241m.\u001b[39mpredict(X_test)\n\u001b[0;32m     24\u001b[0m coefficients \u001b[38;5;241m=\u001b[39m regression\u001b[38;5;241m.\u001b[39mcoef_\n",
            "File \u001b[1;32mc:\\Python311\\Lib\\site-packages\\sklearn\\base.py:1152\u001b[0m, in \u001b[0;36m_fit_context.<locals>.decorator.<locals>.wrapper\u001b[1;34m(estimator, *args, **kwargs)\u001b[0m\n\u001b[0;32m   1145\u001b[0m     estimator\u001b[38;5;241m.\u001b[39m_validate_params()\n\u001b[0;32m   1147\u001b[0m \u001b[38;5;28;01mwith\u001b[39;00m config_context(\n\u001b[0;32m   1148\u001b[0m     skip_parameter_validation\u001b[38;5;241m=\u001b[39m(\n\u001b[0;32m   1149\u001b[0m         prefer_skip_nested_validation \u001b[38;5;129;01mor\u001b[39;00m global_skip_validation\n\u001b[0;32m   1150\u001b[0m     )\n\u001b[0;32m   1151\u001b[0m ):\n\u001b[1;32m-> 1152\u001b[0m     \u001b[38;5;28;01mreturn\u001b[39;00m \u001b[43mfit_method\u001b[49m\u001b[43m(\u001b[49m\u001b[43mestimator\u001b[49m\u001b[43m,\u001b[49m\u001b[43m \u001b[49m\u001b[38;5;241;43m*\u001b[39;49m\u001b[43margs\u001b[49m\u001b[43m,\u001b[49m\u001b[43m \u001b[49m\u001b[38;5;241;43m*\u001b[39;49m\u001b[38;5;241;43m*\u001b[39;49m\u001b[43mkwargs\u001b[49m\u001b[43m)\u001b[49m\n",
            "File \u001b[1;32mc:\\Python311\\Lib\\site-packages\\sklearn\\linear_model\\_base.py:678\u001b[0m, in \u001b[0;36mLinearRegression.fit\u001b[1;34m(self, X, y, sample_weight)\u001b[0m\n\u001b[0;32m    674\u001b[0m n_jobs_ \u001b[38;5;241m=\u001b[39m \u001b[38;5;28mself\u001b[39m\u001b[38;5;241m.\u001b[39mn_jobs\n\u001b[0;32m    676\u001b[0m accept_sparse \u001b[38;5;241m=\u001b[39m \u001b[38;5;28;01mFalse\u001b[39;00m \u001b[38;5;28;01mif\u001b[39;00m \u001b[38;5;28mself\u001b[39m\u001b[38;5;241m.\u001b[39mpositive \u001b[38;5;28;01melse\u001b[39;00m [\u001b[38;5;124m\"\u001b[39m\u001b[38;5;124mcsr\u001b[39m\u001b[38;5;124m\"\u001b[39m, \u001b[38;5;124m\"\u001b[39m\u001b[38;5;124mcsc\u001b[39m\u001b[38;5;124m\"\u001b[39m, \u001b[38;5;124m\"\u001b[39m\u001b[38;5;124mcoo\u001b[39m\u001b[38;5;124m\"\u001b[39m]\n\u001b[1;32m--> 678\u001b[0m X, y \u001b[38;5;241m=\u001b[39m \u001b[38;5;28;43mself\u001b[39;49m\u001b[38;5;241;43m.\u001b[39;49m\u001b[43m_validate_data\u001b[49m\u001b[43m(\u001b[49m\n\u001b[0;32m    679\u001b[0m \u001b[43m    \u001b[49m\u001b[43mX\u001b[49m\u001b[43m,\u001b[49m\u001b[43m \u001b[49m\u001b[43my\u001b[49m\u001b[43m,\u001b[49m\u001b[43m \u001b[49m\u001b[43maccept_sparse\u001b[49m\u001b[38;5;241;43m=\u001b[39;49m\u001b[43maccept_sparse\u001b[49m\u001b[43m,\u001b[49m\u001b[43m \u001b[49m\u001b[43my_numeric\u001b[49m\u001b[38;5;241;43m=\u001b[39;49m\u001b[38;5;28;43;01mTrue\u001b[39;49;00m\u001b[43m,\u001b[49m\u001b[43m \u001b[49m\u001b[43mmulti_output\u001b[49m\u001b[38;5;241;43m=\u001b[39;49m\u001b[38;5;28;43;01mTrue\u001b[39;49;00m\n\u001b[0;32m    680\u001b[0m \u001b[43m\u001b[49m\u001b[43m)\u001b[49m\n\u001b[0;32m    682\u001b[0m has_sw \u001b[38;5;241m=\u001b[39m sample_weight \u001b[38;5;129;01mis\u001b[39;00m \u001b[38;5;129;01mnot\u001b[39;00m \u001b[38;5;28;01mNone\u001b[39;00m\n\u001b[0;32m    683\u001b[0m \u001b[38;5;28;01mif\u001b[39;00m has_sw:\n",
            "File \u001b[1;32mc:\\Python311\\Lib\\site-packages\\sklearn\\base.py:622\u001b[0m, in \u001b[0;36mBaseEstimator._validate_data\u001b[1;34m(self, X, y, reset, validate_separately, cast_to_ndarray, **check_params)\u001b[0m\n\u001b[0;32m    620\u001b[0m         y \u001b[38;5;241m=\u001b[39m check_array(y, input_name\u001b[38;5;241m=\u001b[39m\u001b[38;5;124m\"\u001b[39m\u001b[38;5;124my\u001b[39m\u001b[38;5;124m\"\u001b[39m, \u001b[38;5;241m*\u001b[39m\u001b[38;5;241m*\u001b[39mcheck_y_params)\n\u001b[0;32m    621\u001b[0m     \u001b[38;5;28;01melse\u001b[39;00m:\n\u001b[1;32m--> 622\u001b[0m         X, y \u001b[38;5;241m=\u001b[39m \u001b[43mcheck_X_y\u001b[49m\u001b[43m(\u001b[49m\u001b[43mX\u001b[49m\u001b[43m,\u001b[49m\u001b[43m \u001b[49m\u001b[43my\u001b[49m\u001b[43m,\u001b[49m\u001b[43m \u001b[49m\u001b[38;5;241;43m*\u001b[39;49m\u001b[38;5;241;43m*\u001b[39;49m\u001b[43mcheck_params\u001b[49m\u001b[43m)\u001b[49m\n\u001b[0;32m    623\u001b[0m     out \u001b[38;5;241m=\u001b[39m X, y\n\u001b[0;32m    625\u001b[0m \u001b[38;5;28;01mif\u001b[39;00m \u001b[38;5;129;01mnot\u001b[39;00m no_val_X \u001b[38;5;129;01mand\u001b[39;00m check_params\u001b[38;5;241m.\u001b[39mget(\u001b[38;5;124m\"\u001b[39m\u001b[38;5;124mensure_2d\u001b[39m\u001b[38;5;124m\"\u001b[39m, \u001b[38;5;28;01mTrue\u001b[39;00m):\n",
            "File \u001b[1;32mc:\\Python311\\Lib\\site-packages\\sklearn\\utils\\validation.py:1146\u001b[0m, in \u001b[0;36mcheck_X_y\u001b[1;34m(X, y, accept_sparse, accept_large_sparse, dtype, order, copy, force_all_finite, ensure_2d, allow_nd, multi_output, ensure_min_samples, ensure_min_features, y_numeric, estimator)\u001b[0m\n\u001b[0;32m   1141\u001b[0m         estimator_name \u001b[38;5;241m=\u001b[39m _check_estimator_name(estimator)\n\u001b[0;32m   1142\u001b[0m     \u001b[38;5;28;01mraise\u001b[39;00m \u001b[38;5;167;01mValueError\u001b[39;00m(\n\u001b[0;32m   1143\u001b[0m         \u001b[38;5;124mf\u001b[39m\u001b[38;5;124m\"\u001b[39m\u001b[38;5;132;01m{\u001b[39;00mestimator_name\u001b[38;5;132;01m}\u001b[39;00m\u001b[38;5;124m requires y to be passed, but the target y is None\u001b[39m\u001b[38;5;124m\"\u001b[39m\n\u001b[0;32m   1144\u001b[0m     )\n\u001b[1;32m-> 1146\u001b[0m X \u001b[38;5;241m=\u001b[39m \u001b[43mcheck_array\u001b[49m\u001b[43m(\u001b[49m\n\u001b[0;32m   1147\u001b[0m \u001b[43m    \u001b[49m\u001b[43mX\u001b[49m\u001b[43m,\u001b[49m\n\u001b[0;32m   1148\u001b[0m \u001b[43m    \u001b[49m\u001b[43maccept_sparse\u001b[49m\u001b[38;5;241;43m=\u001b[39;49m\u001b[43maccept_sparse\u001b[49m\u001b[43m,\u001b[49m\n\u001b[0;32m   1149\u001b[0m \u001b[43m    \u001b[49m\u001b[43maccept_large_sparse\u001b[49m\u001b[38;5;241;43m=\u001b[39;49m\u001b[43maccept_large_sparse\u001b[49m\u001b[43m,\u001b[49m\n\u001b[0;32m   1150\u001b[0m \u001b[43m    \u001b[49m\u001b[43mdtype\u001b[49m\u001b[38;5;241;43m=\u001b[39;49m\u001b[43mdtype\u001b[49m\u001b[43m,\u001b[49m\n\u001b[0;32m   1151\u001b[0m \u001b[43m    \u001b[49m\u001b[43morder\u001b[49m\u001b[38;5;241;43m=\u001b[39;49m\u001b[43morder\u001b[49m\u001b[43m,\u001b[49m\n\u001b[0;32m   1152\u001b[0m \u001b[43m    \u001b[49m\u001b[43mcopy\u001b[49m\u001b[38;5;241;43m=\u001b[39;49m\u001b[43mcopy\u001b[49m\u001b[43m,\u001b[49m\n\u001b[0;32m   1153\u001b[0m \u001b[43m    \u001b[49m\u001b[43mforce_all_finite\u001b[49m\u001b[38;5;241;43m=\u001b[39;49m\u001b[43mforce_all_finite\u001b[49m\u001b[43m,\u001b[49m\n\u001b[0;32m   1154\u001b[0m \u001b[43m    \u001b[49m\u001b[43mensure_2d\u001b[49m\u001b[38;5;241;43m=\u001b[39;49m\u001b[43mensure_2d\u001b[49m\u001b[43m,\u001b[49m\n\u001b[0;32m   1155\u001b[0m \u001b[43m    \u001b[49m\u001b[43mallow_nd\u001b[49m\u001b[38;5;241;43m=\u001b[39;49m\u001b[43mallow_nd\u001b[49m\u001b[43m,\u001b[49m\n\u001b[0;32m   1156\u001b[0m \u001b[43m    \u001b[49m\u001b[43mensure_min_samples\u001b[49m\u001b[38;5;241;43m=\u001b[39;49m\u001b[43mensure_min_samples\u001b[49m\u001b[43m,\u001b[49m\n\u001b[0;32m   1157\u001b[0m \u001b[43m    \u001b[49m\u001b[43mensure_min_features\u001b[49m\u001b[38;5;241;43m=\u001b[39;49m\u001b[43mensure_min_features\u001b[49m\u001b[43m,\u001b[49m\n\u001b[0;32m   1158\u001b[0m \u001b[43m    \u001b[49m\u001b[43mestimator\u001b[49m\u001b[38;5;241;43m=\u001b[39;49m\u001b[43mestimator\u001b[49m\u001b[43m,\u001b[49m\n\u001b[0;32m   1159\u001b[0m \u001b[43m    \u001b[49m\u001b[43minput_name\u001b[49m\u001b[38;5;241;43m=\u001b[39;49m\u001b[38;5;124;43m\"\u001b[39;49m\u001b[38;5;124;43mX\u001b[39;49m\u001b[38;5;124;43m\"\u001b[39;49m\u001b[43m,\u001b[49m\n\u001b[0;32m   1160\u001b[0m \u001b[43m\u001b[49m\u001b[43m)\u001b[49m\n\u001b[0;32m   1162\u001b[0m y \u001b[38;5;241m=\u001b[39m _check_y(y, multi_output\u001b[38;5;241m=\u001b[39mmulti_output, y_numeric\u001b[38;5;241m=\u001b[39my_numeric, estimator\u001b[38;5;241m=\u001b[39mestimator)\n\u001b[0;32m   1164\u001b[0m check_consistent_length(X, y)\n",
            "File \u001b[1;32mc:\\Python311\\Lib\\site-packages\\sklearn\\utils\\validation.py:938\u001b[0m, in \u001b[0;36mcheck_array\u001b[1;34m(array, accept_sparse, accept_large_sparse, dtype, order, copy, force_all_finite, ensure_2d, allow_nd, ensure_min_samples, ensure_min_features, estimator, input_name)\u001b[0m\n\u001b[0;32m    936\u001b[0m     \u001b[38;5;66;03m# If input is 1D raise error\u001b[39;00m\n\u001b[0;32m    937\u001b[0m     \u001b[38;5;28;01mif\u001b[39;00m array\u001b[38;5;241m.\u001b[39mndim \u001b[38;5;241m==\u001b[39m \u001b[38;5;241m1\u001b[39m:\n\u001b[1;32m--> 938\u001b[0m         \u001b[38;5;28;01mraise\u001b[39;00m \u001b[38;5;167;01mValueError\u001b[39;00m(\n\u001b[0;32m    939\u001b[0m             \u001b[38;5;124m\"\u001b[39m\u001b[38;5;124mExpected 2D array, got 1D array instead:\u001b[39m\u001b[38;5;130;01m\\n\u001b[39;00m\u001b[38;5;124marray=\u001b[39m\u001b[38;5;132;01m{}\u001b[39;00m\u001b[38;5;124m.\u001b[39m\u001b[38;5;130;01m\\n\u001b[39;00m\u001b[38;5;124m\"\u001b[39m\n\u001b[0;32m    940\u001b[0m             \u001b[38;5;124m\"\u001b[39m\u001b[38;5;124mReshape your data either using array.reshape(-1, 1) if \u001b[39m\u001b[38;5;124m\"\u001b[39m\n\u001b[0;32m    941\u001b[0m             \u001b[38;5;124m\"\u001b[39m\u001b[38;5;124myour data has a single feature or array.reshape(1, -1) \u001b[39m\u001b[38;5;124m\"\u001b[39m\n\u001b[0;32m    942\u001b[0m             \u001b[38;5;124m\"\u001b[39m\u001b[38;5;124mif it contains a single sample.\u001b[39m\u001b[38;5;124m\"\u001b[39m\u001b[38;5;241m.\u001b[39mformat(array)\n\u001b[0;32m    943\u001b[0m         )\n\u001b[0;32m    945\u001b[0m \u001b[38;5;28;01mif\u001b[39;00m dtype_numeric \u001b[38;5;129;01mand\u001b[39;00m \u001b[38;5;28mhasattr\u001b[39m(array\u001b[38;5;241m.\u001b[39mdtype, \u001b[38;5;124m\"\u001b[39m\u001b[38;5;124mkind\u001b[39m\u001b[38;5;124m\"\u001b[39m) \u001b[38;5;129;01mand\u001b[39;00m array\u001b[38;5;241m.\u001b[39mdtype\u001b[38;5;241m.\u001b[39mkind \u001b[38;5;129;01min\u001b[39;00m \u001b[38;5;124m\"\u001b[39m\u001b[38;5;124mUSV\u001b[39m\u001b[38;5;124m\"\u001b[39m:\n\u001b[0;32m    946\u001b[0m     \u001b[38;5;28;01mraise\u001b[39;00m \u001b[38;5;167;01mValueError\u001b[39;00m(\n\u001b[0;32m    947\u001b[0m         \u001b[38;5;124m\"\u001b[39m\u001b[38;5;124mdtype=\u001b[39m\u001b[38;5;124m'\u001b[39m\u001b[38;5;124mnumeric\u001b[39m\u001b[38;5;124m'\u001b[39m\u001b[38;5;124m is not compatible with arrays of bytes/strings.\u001b[39m\u001b[38;5;124m\"\u001b[39m\n\u001b[0;32m    948\u001b[0m         \u001b[38;5;124m\"\u001b[39m\u001b[38;5;124mConvert your data to numeric values explicitly instead.\u001b[39m\u001b[38;5;124m\"\u001b[39m\n\u001b[0;32m    949\u001b[0m     )\n",
            "\u001b[1;31mValueError\u001b[0m: Expected 2D array, got 1D array instead:\narray=[0.37571863 0.12039229 0.19918837 0.323977   0.34223876 0.29015894\n 0.22421373 0.43354751 0.42948935 0.35407508 0.71051742 0.13358133\n 0.3222861  0.25160636 0.22455191 0.28610078 0.23571187 0.24619547\n 0.50084545 0.39736219 0.45350017 0.25667907 0.15387217 0.26276632\n 0.30875888 0.24484275 0.31687521 0.31484613 0.36117687 0.45248563\n 0.21373013 0.3432533  0.45924924 0.299628   0.30571525 0.21981738\n 0.24923909 0.24721001 0.30267163 0.42576936 0.24416638 0.25498816\n 0.62529591 0.54210348 0.17822117 0.3814677  0.17720663 0.30808252\n 1.         0.29117349 0.27088265 0.03990531 0.33040243 0.21812648\n 0.4163003  0.15995942 0.17653027 0.10821779 0.26682448 0.29455529\n 0.34223876 0.39059858 0.29692256 0.40480216 0.18025025 0.3361515\n 0.30064254 0.23638823 0.29996618 0.21339195 0.40886033 0.21339195\n 0.22590463 0.27663172 0.42543118 0.48461278 0.29015894 0.12580318\n 0.58741968 0.51673994 0.39127494 0.51707812 0.31247886 0.35644234\n 0.11396686 0.49814001 0.62631045 0.43997295 0.30977342 0.30571525\n 0.45722016 0.3344606  0.35170781 0.67974298 0.31214068 0.38755495\n 0.23537369 0.32566791 0.72404464 0.41021305 0.14575583 0.45654379\n 0.26411904 0.11903957 0.26580994 0.37368955 0.10585052 0.32600609\n 0.33987149 0.33412242 0.38214406 0.26445722 0.11836321 0.27494082\n 0.23774095 0.24653365 0.23233006 0.56002705 0.17754481 0.45620561\n 0.52384173 0.425093   0.39905309 0.3902604  0.32702063 0.07034156\n 0.27494082 0.16706121 0.15285763 0.30402435 0.32160974 0.3084207\n 0.41799121 0.28779168 0.22658099 0.24146094 0.39803855 0.51031451\n 0.5836997  0.07642881 0.28373351 0.33243152 0.0923233  0.39634765\n 0.43151843 0.31552249 0.39567129 0.31755157 0.10990869 0.30064254\n 0.6445722  0.21846466 0.48224552 0.52079811 0.33682787 0.33310788\n 0.08488333 0.26208996 0.47548191 0.14034494 0.32566791 0.52147447\n 0.24450457 0.53364897 0.0906324  0.3361515  0.21981738 0.08319242\n 0.16672303 0.39567129 0.40818397 0.4808928  0.23233006 0.62123774\n 0.42306392 0.28271897 0.44639838 0.14778492 0.28779168 0.24112276\n 0.30639161 0.42069665 0.20290835 0.46635103 0.35678052 0.26276632\n 0.19039567 0.28542442 0.36557322 0.60534325 0.19986473 0.17754481\n 0.19208657 0.12445046 0.24146094 0.1602976  0.36692594 0.14271221\n 0.0226581  0.48156916 0.18701387 0.36557322 0.3676023  0.28677714\n 0.24822455 0.41359486 0.21846466 0.49036185 0.40209672 0.57017247\n 0.53601623 0.58978695 0.49949273 0.22590463 0.28238079 0.25059182\n 0.62326682 0.50152181 0.66351031 0.57997971 0.42069665 0.27832262\n 0.22624281 0.12106865 0.17314846 0.44132567 0.27798444 0.34190057\n 0.1481231  0.31044978 0.11599594 0.14169767 0.47480555 0.46838011\n 0.20257017 0.20358471 0.19445384 0.34731146 0.28035171 0.49239094\n 0.20459926 0.51065269 0.28643896 0.07372337 0.08927968 0.14879946\n 0.51335813 0.39431857 0.32769699 0.57118701 0.35441326 0.16909029\n 0.20257017 0.17619209 0.526209   0.1376395  0.58674332 0.26445722\n 0.37098411 0.49983091 0.22353737 0.10720325 0.34595874 0.2962462\n 0.16638485 0.35644234 0.10145418 0.51640176 0.14710856 0.70713561\n 0.20798106 0.11464322 0.33513696 0.2177883  0.28610078 0.18261752\n 0.42002029 0.52553263 0.66215759 0.03415624 0.76969902 0.174163\n 0.37368955 0.20189381 0.43388569 0.10990869 0.37166047 0.43050389\n 0.18498478 0.34731146 0.32499155 0.21508285 0.24112276 0.2056138\n 0.34223876 0.29117349 0.33141698 0.22928644 0.40480216 0.36083869\n 0.62563409 0.21203923 0.27764626 0.35847142 0.3902604  0.35745688\n 0.04058167 0.56679067 0.03753805 0.33547514 0.38180588 0.37707136\n 0.20121745 0.18498478 0.29218803 0.19039567 0.34866419 0.18397024\n 0.26208996 0.31552249 0.43050389 0.81501522 0.45924924 0.400744\n 0.3432533  0.27730808 0.3659114  0.23368279 0.31044978 0.17653027\n 0.31822793 0.05309435 0.25972269 0.16841393 0.42306392 0.08657423\n 0.28779168 0.26580994 0.32972607 0.8065607  0.35238417 0.62056138\n 0.16909029 0.37301319 0.38112952 0.39736219 0.18227934 0.15657761\n 0.42035847 0.43422388 0.31653703 0.33243152 0.48156916 0.27629354\n 0.12614136 0.26919175 0.40209672 0.48123098 0.33648969 0.3466351\n 0.15049036 0.40919851 0.57355428 0.31112614 0.41494758 0.25532634\n 0.18397024 0.61954684 0.1707812  0.26750085 0.58978695 0.41224214\n 0.25870815 0.43625296 0.37064592 0.30639161 0.34697328 0.39972946\n 0.41156578 0.47683463 0.17145756 0.28102807 0.29252621 0.51403449\n 0.10551234 0.48393642 0.32465336 0.39228948 0.37199865 0.2979371\n 0.35475144 0.31856611 0.40175854 0.5312817  0.1271559  0.20257017\n 0.52113629 0.36557322 0.26547176 0.28846804 0.42881299 0.\n 0.18058843 0.48224552 0.61210687 0.40006764 0.16503213 0.29151167\n 0.31078796 0.41258032 0.30740615 0.68515387 0.45147109 0.17010484\n 0.25363544 0.56070342 0.21508285 0.19580656 0.14169767 0.40547853\n 0.28204261 0.37301319 0.45045654 0.19783564 0.13966858 0.24484275\n 0.12208319 0.22387555 0.1166723  0.21068651 0.19411566 0.32532973\n 0.45654379 0.14440311 0.30334799 0.18599932 0.20696652 0.17653027\n 0.17788299 0.40615489 0.3554278  0.27257355 0.61345959 0.25769361\n 0.38248225 0.20223199 0.50625634 0.26885357 0.23537369 0.2404464\n 0.50659452 0.33885695 0.29387893 0.28643896 0.34020967].\nReshape your data either using array.reshape(-1, 1) if your data has a single feature or array.reshape(1, -1) if it contains a single sample."
          ]
        }
      ],
      "source": [
        "from matplotlib import pyplot as plt\n",
        "from sklearn.linear_model import LinearRegression\n",
        "from sklearn.model_selection import train_test_split\n",
        "\n",
        "# Histogram of the mean radius (normalized) for borth Benign and Malignant types\n",
        "plt.hist(df_malignant['radius_mean_N'], label='Malignant')\n",
        "plt.hist(df_benign['radius_mean_N'], alpha=0.7, label='Benign')\n",
        "plt.legend()\n",
        "plt.title('Mean radius histogram (normalized)')\n",
        "plt.xlabel('Radius')\n",
        "\n",
        "plt.show()\n",
        "\n",
        "# Scatter plot of mean radius in function of mean texture for both Benign and Malignant types. Plot includes linear regression\n",
        "combined_data_texture = list(df_benign['texture_mean_N'])+list(df_malignant['texture_mean_N']) # x\n",
        "combined_data_radius = list(df_benign['radius_mean_N'])+list(df_malignant['radius_mean_N']) # y\n",
        "\n",
        "X_train, X_test, y_train, y_test = train_test_split(combined_data_texture, combined_data_radius, test_size=0.2, random_state=30)\n",
        "\n",
        "# regression = LinearRegression()\n",
        "# regression.fit(X_train, y_train) # train model using train data\n",
        "# y_prediction = regression.predict(X_test)\n",
        "\n",
        "# coefficients = regression.coef_\n",
        "\n",
        "# # plotting scatter + regression \n",
        "# plt.scatter(df_benign['texture_mean_N'], df_benign['radius_mean_N'], label=\"Benign\")\n",
        "# plt.scatter(df_malignant['texture_mean_N'], df_malignant['radius_mean_N'], label=\"Malignant\", alpha=0.7)\n",
        "# plt.plot(X_test, y_prediction, color='red')\n",
        "# plt.title(\"Mean texture vs Mean Radius\")\n",
        "# plt.xlabel(\"Texture mean\")\n",
        "# plt.ylabel(\"Radius mean\")\n",
        "# plt.legend()\n",
        "\n",
        "# plt.show()\n",
        "\n"
      ]
    },
    {
      "cell_type": "markdown",
      "metadata": {
        "deletable": false,
        "editable": false,
        "id": "qAP1E1z9DwHi",
        "nbgrader": {
          "checksum": "ccac093bff4be3b1d7f7a0ba22dc14c6",
          "grade": false,
          "grade_id": "cell-7c5078d9654ef528",
          "locked": true,
          "schema_version": 1,
          "solution": false
        },
        "tags": []
      },
      "source": [
        "***\n",
        "### Task 5: High-level visualization\n",
        "\n",
        "A scatter plot is a good tool to visualize the distribution of values for small number of instances. However, with very large numbers of instances, all plotted points tent to become inseparable, forming one large cluster of the same color intensity. That issue can be solved by introduction of density plots. Density plot represents data in the same way as the scatterplot, but it changes its density dependent on the number of points in its vicinity. Using *seaborn* library and *kdeplot* function, plot a density plot of the same features (radius in function of texture) for two class labels (benign and malignant) on the same figure. You can easily see that it is much easier now to interpret and separate features.\n",
        "\n",
        "You have plotted the relation between two features now, but what about all of the others. They probably contain additional relevant information for better understanding of the dataset. *Pandas* library provides an inbuilt function *scatter_matrix*, which shows a relations between all inputed features simultaneously. Use a complete dataset to create a scatter_matrix plot.\n",
        "\n",
        "Additionally to the graphical representation of feature pairs, numbers can be generated too. Use *pandas* *corr()* function to investigate correlations of radius_mean feature.\n",
        "What can you say about the relation between radius_mean against different features? Are some features dependent on another? If so, which? Is it worth to use all of the features in your future machine learning system, why?\n",
        "\n",
        "KDE plots are compute intense. If it takes too long to generate one on a whole dataset, use its fraction instead (e.g. use *pandas.sample frac 10%*).\n"
      ]
    },
    {
      "cell_type": "markdown",
      "metadata": {
        "deletable": false,
        "editable": true,
        "id": "xeZcHtdEDwHj",
        "tags": []
      },
      "source": [
        "YOUR ANSWER HERE"
      ]
    },
    {
      "cell_type": "markdown",
      "metadata": {
        "deletable": false,
        "editable": false,
        "id": "xeLpWhQODwHk",
        "nbgrader": {
          "checksum": "e339447051c9fa6c19984d31e48c07d0",
          "grade": false,
          "grade_id": "cell-975b3e4489afb8ae",
          "locked": true,
          "schema_version": 1,
          "solution": false
        },
        "tags": []
      },
      "source": [
        "\n",
        "You can now see the features distribution, but we can not distinguish which point in the provided scatter matrix corresponds to which class. Using *seaborn's pairplot* function print the scatter matrix of radius, texture and concavity for malignant and benign cells.\n",
        "\n",
        "Could you print the same plot (radius, texture & concavity for malignant and benign cells) but instead of a seaborn scatterplot matrix (pairplot) use density distribution matrix (kdeplot matrix)?"
      ]
    },
    {
      "cell_type": "code",
      "execution_count": null,
      "metadata": {
        "collapsed": true,
        "deletable": false,
        "id": "Hj6rwJPeDwHk",
        "jupyter": {
          "outputs_hidden": true
        }
      },
      "outputs": [],
      "source": [
        "# YOUR CODE HERE\n"
      ]
    },
    {
      "cell_type": "markdown",
      "metadata": {
        "deletable": false,
        "editable": false,
        "id": "pUIM8R-RDwHl",
        "nbgrader": {
          "checksum": "2748aee5b9893da658819bffa52424fb",
          "grade": false,
          "grade_id": "cell-d3475490f54c3d47",
          "locked": true,
          "schema_version": 1,
          "solution": false
        }
      },
      "source": [
        "### Task 6: Validation of classifier's performance\n",
        "Load prediction.csv file. The file stores support-vector machine classifier results for each instance in the dataset (classes malignant or benign). Inspect the prediction dataframe. Extract a column predicted from the prediction.csv dataset and column 'diagnosis' from the initial dataset (dataWisconsinBreast.csv) and store them in new dataframes.\n",
        "\n",
        "We are now going to assess the performance of the classifier. Write a python function counting and returning false positive, false negative, true positive and true negative instances. Using obtained statistical values, calculate accuracy, sensitivity, specificity of the classifier.\n",
        "\n",
        "Scikit-learn library provides functions such as *metrics.classification_report*, which calculate and printout the same measures. See the Classification metrics section of the user guide for further details. Does the output of the scikit-learn functions match the ones calculated by you?\n",
        "\n",
        "Briefly describe the difference between calculated measures.\n",
        "During classification of breast biopsies, it is highly important not to miss a malignant case. In other words, we do not want our classifier to classify malignant cell as benign case. The performance of the classifier can be optimized towards such behavior. Which statistical measure should we optimize (increase) in order to decrease these wrong classifications as much as possible?"
      ]
    },
    {
      "cell_type": "markdown",
      "metadata": {
        "deletable": false,
        "id": "yFY1BlBPDwHl"
      },
      "source": [
        "YOUR ANSWER HERE"
      ]
    },
    {
      "cell_type": "code",
      "execution_count": null,
      "metadata": {
        "collapsed": true,
        "deletable": false,
        "id": "66ry-q_XDwHm",
        "jupyter": {
          "outputs_hidden": true
        }
      },
      "outputs": [],
      "source": [
        "# YOUR CODE HERE\n"
      ]
    }
  ],
  "metadata": {
    "celltoolbar": "Create Assignment",
    "colab": {
      "provenance": []
    },
    "kernelspec": {
      "display_name": "Python 3 (ipykernel)",
      "language": "python",
      "name": "python3"
    },
    "language_info": {
      "codemirror_mode": {
        "name": "ipython",
        "version": 3
      },
      "file_extension": ".py",
      "mimetype": "text/x-python",
      "name": "python",
      "nbconvert_exporter": "python",
      "pygments_lexer": "ipython3",
      "version": "3.11.5"
    }
  },
  "nbformat": 4,
  "nbformat_minor": 0
}
