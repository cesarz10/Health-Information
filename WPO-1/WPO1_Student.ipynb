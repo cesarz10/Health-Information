{
  "cells": [
    {
      "cell_type": "markdown",
      "metadata": {
        "deletable": false,
        "editable": true,
        "id": "dm0nFRrDDwHJ",
        "nbgrader": {
          "checksum": "cd5f35c274c309df26ebb89b15fa842b",
          "grade": false,
          "grade_id": "cell-df9b7bcad71e33a2",
          "locked": true,
          "schema_version": 1,
          "solution": false
        },
        "tags": []
      },
      "source": [
        "# Health Information Systems and Decision Support\n",
        "## WPO 1: Introduction to data analysis and visualization  (16/02/24)\n",
        "\n",
        "*Jakub Ceranka, Pieter Boonen, Jef Vandemeulebroucke* <br>\n",
        "*Department of Electronics and Informatics (ETRO)* <br>\n",
        "*Vrije Universiteit Brussel, Pleinlaan 2, B-1050 Brussels, Belgium*"
      ]
    },
    {
      "cell_type": "markdown",
      "metadata": {
        "id": "QcTxIRorDwHP"
      },
      "source": [
        "<font color=blue>Insert students names and IDs here</font>"
      ]
    },
    {
      "cell_type": "markdown",
      "metadata": {
        "deletable": false,
        "editable": false,
        "id": "5W1YddnKDwHR",
        "nbgrader": {
          "checksum": "744cf65635b5ad1fa7823e527b8fa3e3",
          "grade": false,
          "grade_id": "cell-f9aa9363ac438c72",
          "locked": true,
          "schema_version": 1,
          "solution": false
        },
        "tags": []
      },
      "source": [
        "### Goal\n",
        "The goal of this practical session is to obtain insight in basic data analysis and data visualization techniques using Jupyter notebook. Basic operations presented today will be very useful during the next practical sessions, where you will need to design and build different decision systems. In this practical session, basic libraries like *pandas*, *matplotlib* and *seaborn* are introduced and applied to the Wisconsin breast cancer data set. Students must send their notebook using Assignment functionality of Canvas using .ipynb __and__ .html format __before 23:59 on the 22th of February__. All practical sessions are graded. Additionally, a general feedback will be provided in the next practical session.\n",
        "\n",
        "__Hints__ for all practical sessions:\n",
        "- Make sure that the code is pre-compiled and all output is generated correctly before handing in your notebook\n",
        "- Pay attention to the layout of your figures (labels, titles, legends, colors,...)\n",
        "- Chose relevant abbreviations for your variables, make sure your variables are not overwritten\n",
        "- Read all assignments thoroughly\n",
        "***\n",
        "### Jupyter notebook\n",
        "\n",
        "Jupyter notebook is an open-source application that allows editing and running notebook documents via a web browser. Notebook documents contain both computer code (python) and text elements (paragraphs, equations, figures,...). In this way, notebook files can serve as a complete computational record of a session, interleaving executable code with explanatory text, mathematics, and rich representations of resulting objects. Notebooks may be exported to a range of static formats, including HTML, reStructuredText, LaTeX and PDF. Basic functionalities of the Jupyter notebook are presented [here](http://jupyter-notebook.readthedocs.io/en/stable/examples/Notebook/Notebook%20Basics.html).\n",
        "***\n",
        "### The breast cancer Wisconsin (diagnostic) data set\n",
        "\n",
        "#### Fine needle aspirate procedure:\n",
        "The dataset consists of features computed from a digitized image of a fine needle aspirate (FNA) of a breast mass. For this type of biopsy technique, a thin hollow needle is inserted into an area of abnormal-appearing tissue for sampling cells. This sample is examined under a microscope which is used in the diagnosis of cancer. FNA is generally considered a safe procedure.\n",
        "***\n",
        "#### FNA images:\n",
        "The image below represents a smear of nuclei of benign and malignant breast mass cells. A difference in shape, size and smoothness of cells is visible.\n",
        "\n",
        " ![Image of cells](./FNA_cells.png \"FNA_cells\")\n",
        "\n",
        "[<cite>Sizilio et al. 2012</cite>](https://biomedical-engineering-online.biomedcentral.com/articles/10.1186/1475-925X-11-83)\n",
        "***\n",
        "#### Features:\n",
        "In oder to describe the images with numerical values, which can be easily interpreted by a computer, the features term has to be introduced. Features describe characteristics of the nuclei present in the microscopic image. Usually, the more of independent features describing the image, the better.\n",
        "\n",
        "Each cell nuclei has an independent set of features describing its individual properties:\n",
        "- ID number of the patient from which the cell was collected.\n",
        "- The medical diagnosis label assessed by a histologist/oncologist: Malignant or Benign.\n",
        "- The mean, standard deviation and the 3 worst values of 10 features describing mathematical properties of a cell were computed. This included:\n",
        "        a) radius (distance from center to points on the perimeter)\n",
        "        b) texture (standard deviation of gray-scale values)\n",
        "        c) perimeter\n",
        "        d) area\n",
        "        e) smoothness (local variation in radius lengths)\n",
        "        f) compactness (perimeter^2 / area - 1.0)\n",
        "        g) concavity (severity of concave portions of the contour)\n",
        "        h) concave points (number of concave portions of the contour)\n",
        "        i) symmetry\n",
        "        j) fractal dimension (a measure of cells self-similarity)\n",
        "  \n",
        "Some features were computed automatically using automatic image processing algorithms, and others acquired manually by medical experts. Microscopic images of 569 cells were analyzed and labeled as benign or malignant.\n",
        "Class distribution: 357 benign, 212 malignant.\n",
        "***\n",
        "### Libraries\n",
        "\n",
        "During this practical session, multiple libraries will be used for the analysis and visualization of data. You can use a different version of libraries, however we recommend the following build:\n",
        "\n",
        "- [__Pandas__](https://pandas.pydata.org/pandas-docs/stable/tutorials.html):     high performance library used for processing data structures and data analysis. __V 0.22.0__\n",
        "- [__Numpy__](https://docs.scipy.org/doc/numpy-dev/user/quickstart.html):      library used for scientific computing containing N-dimensional arrays, functions and Fourier transform. __V 1.13.3__\n",
        "- [__Sci-kit Learn__](http://scikit-learn.org/stable/index.html):     Simple and efficient tools for machine learning and data analysis. __V 0.19.1__\n",
        "- [__Matplotlib__](https://matplotlib.org/users/pyplot_tutorial.html): plotting library used for the visualization of data from python. __V 2.1.0__\n",
        "- [__Seaborn__](https://seaborn.pydata.org/):    visualization library based on matplotlib, providing a high-level interface for drawing attractive statistical graphics. __V 0.8.1__\n",
        "\n",
        "To import any external library, you need to import it using the **import** statement followed by the name of the library and the shortcut. The following code imports Pandas and represents it as 'pd'. You can additionally check for the module version using __version__ command. Information on updating the libraries using Anaconda can be found  [here](http://conda-test.pydata.org/docs/examples/update.html)."
      ]
    },
    {
      "cell_type": "code",
      "execution_count": 1,
      "metadata": {
        "colab": {
          "base_uri": "https://localhost:8080/"
        },
        "deletable": false,
        "editable": false,
        "id": "yaupbfAkDwHU",
        "nbgrader": {
          "checksum": "47ae42137c4a1e922f27db6e527cc11b",
          "grade": false,
          "grade_id": "cell-9ffb82fb313cfa76",
          "locked": true,
          "schema_version": 1,
          "solution": false
        },
        "outputId": "70597de8-954b-45df-9145-8d4f14ee5098"
      },
      "outputs": [
        {
          "name": "stdout",
          "output_type": "stream",
          "text": [
            "2.1.1\n"
          ]
        }
      ],
      "source": [
        "import pandas as pd\n",
        "print(pd.__version__)"
      ]
    },
    {
      "cell_type": "markdown",
      "metadata": {
        "deletable": false,
        "editable": false,
        "id": "60dvQCx9DwHb",
        "nbgrader": {
          "checksum": "92a44e50499bf44a6f6547a83e6699f1",
          "grade": false,
          "grade_id": "cell-ad703a062149a68b",
          "locked": false,
          "schema_version": 1,
          "solution": false
        },
        "tags": []
      },
      "source": [
        "***\n",
        "### Task 1: Importing data  \n",
        "\n",
        "The provided dataset is represented as the comma-separated values (.csv) file, which stores the tabular data in plain text.\n",
        "\n",
        "Load the dataset (dataWisconsinBreast.csv) as the dataframe object using Panda's __read_csv__ function and have a look at the data using the __head()__ command. By default, the statement will print out top 5 rows of the dataset.\n",
        "The __info()__ method is useful to get a quick description of the data, in particular the total number of rows, and each feature's type and number of non-null values.\n",
        "\n",
        "Hint: To use a command from a library, type the abbreviation of the library followed by a dot and the function  \n"
      ]
    },
    {
      "cell_type": "code",
      "execution_count": 2,
      "metadata": {
        "colab": {
          "base_uri": "https://localhost:8080/"
        },
        "deletable": false,
        "editable": true,
        "id": "zf0-hFquDwHc",
        "outputId": "96564d9e-9fa2-485a-9e05-ebd73fdf99f1",
        "tags": []
      },
      "outputs": [
        {
          "name": "stdout",
          "output_type": "stream",
          "text": [
            "         id diagnosis  radius_mean  texture_mean  perimeter_mean  area_mean  \\\n",
            "0    842302         M        17.99         10.38          122.80     1001.0   \n",
            "1    842517         M        20.57         17.77          132.90     1326.0   \n",
            "2  84300903         M        19.69         21.25          130.00     1203.0   \n",
            "3  84348301         M        11.42         20.38           77.58      386.1   \n",
            "4  84358402         M        20.29         14.34          135.10     1297.0   \n",
            "\n",
            "   smoothness_mean  compactness_mean  concavity_mean  concave points_mean  \\\n",
            "0          0.11840           0.27760          0.3001              0.14710   \n",
            "1          0.08474           0.07864          0.0869              0.07017   \n",
            "2          0.10960           0.15990          0.1974              0.12790   \n",
            "3          0.14250           0.28390          0.2414              0.10520   \n",
            "4          0.10030           0.13280          0.1980              0.10430   \n",
            "\n",
            "   ...  texture_worst  perimeter_worst  area_worst  smoothness_worst  \\\n",
            "0  ...          17.33           184.60      2019.0            0.1622   \n",
            "1  ...          23.41           158.80      1956.0            0.1238   \n",
            "2  ...          25.53           152.50      1709.0            0.1444   \n",
            "3  ...          26.50            98.87       567.7            0.2098   \n",
            "4  ...          16.67           152.20      1575.0            0.1374   \n",
            "\n",
            "   compactness_worst  concavity_worst  concave points_worst  symmetry_worst  \\\n",
            "0             0.6656           0.7119                0.2654          0.4601   \n",
            "1             0.1866           0.2416                0.1860          0.2750   \n",
            "2             0.4245           0.4504                0.2430          0.3613   \n",
            "3             0.8663           0.6869                0.2575          0.6638   \n",
            "4             0.2050           0.4000                0.1625          0.2364   \n",
            "\n",
            "   fractal_dimension_worst  Unnamed: 32  \n",
            "0                  0.11890          NaN  \n",
            "1                  0.08902          NaN  \n",
            "2                  0.08758          NaN  \n",
            "3                  0.17300          NaN  \n",
            "4                  0.07678          NaN  \n",
            "\n",
            "[5 rows x 33 columns]\n",
            "<class 'pandas.core.frame.DataFrame'>\n",
            "RangeIndex: 569 entries, 0 to 568\n",
            "Data columns (total 33 columns):\n",
            " #   Column                   Non-Null Count  Dtype  \n",
            "---  ------                   --------------  -----  \n",
            " 0   id                       569 non-null    int64  \n",
            " 1   diagnosis                569 non-null    object \n",
            " 2   radius_mean              569 non-null    float64\n",
            " 3   texture_mean             569 non-null    float64\n",
            " 4   perimeter_mean           569 non-null    float64\n",
            " 5   area_mean                569 non-null    float64\n",
            " 6   smoothness_mean          569 non-null    float64\n",
            " 7   compactness_mean         569 non-null    float64\n",
            " 8   concavity_mean           569 non-null    float64\n",
            " 9   concave points_mean      569 non-null    float64\n",
            " 10  symmetry_mean            569 non-null    float64\n",
            " 11  fractal_dimension_mean   569 non-null    float64\n",
            " 12  radius_se                569 non-null    float64\n",
            " 13  texture_se               569 non-null    float64\n",
            " 14  perimeter_se             569 non-null    float64\n",
            " 15  area_se                  569 non-null    float64\n",
            " 16  smoothness_se            569 non-null    float64\n",
            " 17  compactness_se           569 non-null    float64\n",
            " 18  concavity_se             569 non-null    float64\n",
            " 19  concave points_se        569 non-null    float64\n",
            " 20  symmetry_se              569 non-null    float64\n",
            " 21  fractal_dimension_se     569 non-null    float64\n",
            " 22  radius_worst             569 non-null    float64\n",
            " 23  texture_worst            569 non-null    float64\n",
            " 24  perimeter_worst          569 non-null    float64\n",
            " 25  area_worst               569 non-null    float64\n",
            " 26  smoothness_worst         569 non-null    float64\n",
            " 27  compactness_worst        569 non-null    float64\n",
            " 28  concavity_worst          569 non-null    float64\n",
            " 29  concave points_worst     569 non-null    float64\n",
            " 30  symmetry_worst           569 non-null    float64\n",
            " 31  fractal_dimension_worst  569 non-null    float64\n",
            " 32  Unnamed: 32              0 non-null      float64\n",
            "dtypes: float64(31), int64(1), object(1)\n",
            "memory usage: 146.8+ KB\n",
            "None\n",
            "\n",
            "\n",
            "Index(['id', 'diagnosis', 'radius_mean', 'texture_mean', 'perimeter_mean',\n",
            "       'area_mean', 'smoothness_mean', 'compactness_mean', 'concavity_mean',\n",
            "       'concave points_mean', 'symmetry_mean', 'fractal_dimension_mean',\n",
            "       'radius_se', 'texture_se', 'perimeter_se', 'area_se', 'smoothness_se',\n",
            "       'compactness_se', 'concavity_se', 'concave points_se', 'symmetry_se',\n",
            "       'fractal_dimension_se', 'radius_worst', 'texture_worst',\n",
            "       'perimeter_worst', 'area_worst', 'smoothness_worst',\n",
            "       'compactness_worst', 'concavity_worst', 'concave points_worst',\n",
            "       'symmetry_worst', 'fractal_dimension_worst', 'Unnamed: 32'],\n",
            "      dtype='object')\n"
          ]
        }
      ],
      "source": [
        "# YOUR CODE HERE\n",
        "df = pd.read_csv('dataWisconsinBreast.csv')\n",
        "print(df.head())\n",
        "print(df.info())\n",
        "print(f\"\\n\\n{df.columns}\")"
      ]
    },
    {
      "cell_type": "markdown",
      "metadata": {
        "deletable": false,
        "editable": false,
        "id": "SUY6ktQuDwHd",
        "nbgrader": {
          "checksum": "e204479671eed0bc822f9b10cfaaedcf",
          "grade": false,
          "grade_id": "cell-c61926438dee270c",
          "locked": true,
          "schema_version": 1,
          "solution": false
        },
        "tags": []
      },
      "source": [
        "***\n",
        "### Task 2: Dataset preprocessing\n",
        "\n",
        "Lets have a closer look at the dataset. Using inbuilt Pandas function check if the dataset's shape matches with number of cells (rows) and features (columns) provided in the section 'Features'.\n",
        "\n",
        "__Hint: Something on the index for a column?__\n",
        "\n",
        "Print the __head()__ of the dataframe again. The first column of the dataset is a random patients ID number which does not bring any clinically relevant information to the dataset. The last column represents NaN (not a number values). Remove these columns from the dataset and check if the shape has decreased accordingly. Additionally, remove all features which do not represent the mean (\\_mean) value and assign it to the new dataframe.\n",
        "\n",
        "The next step is to normalize (min-max scaling) the values. Most machine learning algorithms don't perform well when the numerical input values have very different scales. To rescale the data, we subtract the minimum from every value and divide by the maximum minus the minimum ($\\frac{value-min}{max-min}$).\n",
        "\n",
        "Hint: Use __MinMaxScaler__ from __sklearn__ for the normalization.\n",
        "\n",
        "Now that the values are all normalized, the name of the features should be changed as well. Add *_N* after each feature using __rename()__ .\n",
        "\n",
        "Hint: Printing a list with the names of the features will save you some time\n",
        "\n",
        "You can see that the dataset 'diagnosis' column has either M or B symbol, representing respectively malignant or benign cancer classification label. Split the dataframe into two datasets, representing all benign and malignant rows of features. Does the shapes of new datasets match the dataset class distribution?\n",
        "\n",
        "Save all three new datasets (cropped with B and M, cropped B and cropped M) as the .csv files in your working directory. Use these normalized datasets for the next tasks."
      ]
    },
    {
      "cell_type": "code",
      "execution_count": 3,
      "metadata": {
        "colab": {
          "base_uri": "https://localhost:8080/"
        },
        "collapsed": true,
        "deletable": false,
        "id": "a37P-5mSDwHd",
        "jupyter": {
          "outputs_hidden": true
        },
        "outputId": "ba0c08d4-88a8-490f-e549-756b1d04a8c2"
      },
      "outputs": [
        {
          "name": "stdout",
          "output_type": "stream",
          "text": [
            "\n",
            "dataframe shape: (569, 31) | normalized data shape: (569, 11)\n",
            "benign normalized shape: (357, 10) | malignant normalized shape: (212, 10)\n",
            "\n"
          ]
        },
        {
          "name": "stderr",
          "output_type": "stream",
          "text": [
            "C:\\Users\\cesar\\AppData\\Local\\Temp\\ipykernel_9392\\637517703.py:25: SettingWithCopyWarning: \n",
            "A value is trying to be set on a copy of a slice from a DataFrame\n",
            "\n",
            "See the caveats in the documentation: https://pandas.pydata.org/pandas-docs/stable/user_guide/indexing.html#returning-a-view-versus-a-copy\n",
            "  df_benign.drop('diagnosis', axis=1, inplace=True)\n",
            "C:\\Users\\cesar\\AppData\\Local\\Temp\\ipykernel_9392\\637517703.py:28: SettingWithCopyWarning: \n",
            "A value is trying to be set on a copy of a slice from a DataFrame\n",
            "\n",
            "See the caveats in the documentation: https://pandas.pydata.org/pandas-docs/stable/user_guide/indexing.html#returning-a-view-versus-a-copy\n",
            "  df_malignant.drop('diagnosis', axis=1, inplace=True)\n"
          ]
        }
      ],
      "source": [
        "import numpy as np\n",
        "from sklearn.preprocessing import MinMaxScaler\n",
        "\n",
        "scaler = MinMaxScaler()\n",
        "\n",
        "if df.shape[1] == 33:  # deleting last column (the unnamed one) if it exists\n",
        "    df.drop('id',  axis=1,  inplace=True)\n",
        "    df.drop('Unnamed: 32',  axis=1,  inplace=True)\n",
        "\n",
        "\n",
        "diagnosis_column = df['diagnosis'] # list of Bening and Malignant diagnoses together\n",
        "features_list = df.columns # list of features' names\n",
        "\n",
        "filtered_df = df.filter(regex='_mean') # filtering so only the *_mean features remain\n",
        "\n",
        "df_normalized = scaler.fit_transform(filtered_df) # normalizing the data of the whole dataframe (bening + malignant) -> returns array\n",
        "df_normalized = pd.DataFrame(df_normalized, columns=filtered_df.columns) # going from numpy array to pd dataframe again\n",
        "\n",
        "df_normalized = df_normalized.add_suffix(\"_N\") # adding suffix _N to the column names to denote that the values are normalized now\n",
        "\n",
        "df_normalized.insert(0, 'diagnosis', pd.Series(diagnosis_column)) # inserting diagnosis again so it can be split between B and M\n",
        "\n",
        "# separating Benign and Malignant classes. Dropping the diagnosis feature -it is not useful since they are fully separated-\n",
        "df_benign = df_normalized[df_normalized['diagnosis']=='B']\n",
        "df_benign.drop('diagnosis', axis=1, inplace=True)\n",
        "\n",
        "df_malignant = df_normalized[df_normalized['diagnosis']=='M']\n",
        "df_malignant.drop('diagnosis', axis=1, inplace=True)\n",
        "\n",
        "df_normalized.to_csv(\"cropped_B_M_normalized.csv\", index=False)\n",
        "df_benign.to_csv(\"cropped_B_normalized.csv\", index=False)\n",
        "df_malignant.to_csv(\"cropped_M_normalized.csv\", index=False)\n",
        "\n",
        "print(f\"\\ndataframe shape: {df.shape} | normalized data shape: {df_normalized.shape}\\nbenign normalized shape: {df_benign.shape} | malignant normalized shape: {df_malignant.shape}\\n\")\n",
        "\n"
      ]
    },
    {
      "cell_type": "markdown",
      "metadata": {
        "deletable": false,
        "editable": false,
        "id": "QPmXWMyGDwHe",
        "nbgrader": {
          "checksum": "e99831153e334fc7c3d1db8bc80ac4ed",
          "grade": false,
          "grade_id": "cell-bd21bc3dfb2a958d",
          "locked": true,
          "schema_version": 1,
          "solution": false
        },
        "tags": []
      },
      "source": [
        "***\n",
        "### Task 3: Dataset statistics\n",
        "\n",
        "In order to understand the differences and behavior of the data we need to calculate basic statistical values of features. Calculate and print the mean, median, standard deviation and 25th, 75th percentile of the both: malignant and benign dataset for the concavity_mean feature.\n",
        "\n",
        "Using *pandas* and *matplotlib* library prepare a boxplot of the distribution of the mean radius feature for benign and malignant cells (__Hint:__ concatenate columns of interest and use pandas function boxplot()).\n",
        "\n",
        "describe() method shows a summary of the numerical attributes for all features.\n",
        "\n",
        "Hint: In order to plot directly in Jupyter notebook use the following command: %matplotlib inline"
      ]
    },
    {
      "cell_type": "code",
      "execution_count": 4,
      "metadata": {
        "colab": {
          "base_uri": "https://localhost:8080/",
          "height": 1000
        },
        "collapsed": true,
        "deletable": false,
        "editable": true,
        "id": "piYAFeMRDwHf",
        "jupyter": {
          "outputs_hidden": true
        },
        "outputId": "d8e3a7b1-73aa-49e8-92a3-349116469f69",
        "tags": []
      },
      "outputs": [
        {
          "name": "stdout",
          "output_type": "stream",
          "text": [
            "mean of concavity_mean for benign: 0.10791382616776794\n",
            "mean of concavity_mean for malignant: 0.37669802479178083\n",
            "\n",
            "median of concavity_mean for benign: 0.08690253045923148\n",
            "median of concavity_mean for malignant: 0.35461574507966254\n",
            "\n",
            "standard deviation of concavity_mean for benign: 0.10178573347015366\n",
            "standard deviation of concavity_mean for malignant: 0.175771621017472\n",
            "\n",
            "25th percentile for benign is 0.04758669165885661\n",
            "75th percentile for benign is 0.1405576382380506\n",
            "25th percentile for malignant is 0.2566190253045923\n",
            "75th percentile for malignant is 0.47574976569821925\n",
            "\n"
          ]
        },
        {
          "data": {
            "text/html": [
              "<div>\n",
              "<style scoped>\n",
              "    .dataframe tbody tr th:only-of-type {\n",
              "        vertical-align: middle;\n",
              "    }\n",
              "\n",
              "    .dataframe tbody tr th {\n",
              "        vertical-align: top;\n",
              "    }\n",
              "\n",
              "    .dataframe thead th {\n",
              "        text-align: right;\n",
              "    }\n",
              "</style>\n",
              "<table border=\"1\" class=\"dataframe\">\n",
              "  <thead>\n",
              "    <tr style=\"text-align: right;\">\n",
              "      <th></th>\n",
              "      <th>radius_mean_N</th>\n",
              "      <th>texture_mean_N</th>\n",
              "      <th>perimeter_mean_N</th>\n",
              "      <th>area_mean_N</th>\n",
              "      <th>smoothness_mean_N</th>\n",
              "      <th>compactness_mean_N</th>\n",
              "      <th>concavity_mean_N</th>\n",
              "      <th>concave points_mean_N</th>\n",
              "      <th>symmetry_mean_N</th>\n",
              "      <th>fractal_dimension_mean_N</th>\n",
              "    </tr>\n",
              "  </thead>\n",
              "  <tbody>\n",
              "    <tr>\n",
              "      <th>count</th>\n",
              "      <td>212.000000</td>\n",
              "      <td>212.000000</td>\n",
              "      <td>212.000000</td>\n",
              "      <td>212.000000</td>\n",
              "      <td>212.000000</td>\n",
              "      <td>212.000000</td>\n",
              "      <td>212.000000</td>\n",
              "      <td>212.000000</td>\n",
              "      <td>212.000000</td>\n",
              "      <td>212.000000</td>\n",
              "    </tr>\n",
              "    <tr>\n",
              "      <th>mean</th>\n",
              "      <td>0.496087</td>\n",
              "      <td>0.402263</td>\n",
              "      <td>0.494613</td>\n",
              "      <td>0.354136</td>\n",
              "      <td>0.453810</td>\n",
              "      <td>0.385890</td>\n",
              "      <td>0.376698</td>\n",
              "      <td>0.437326</td>\n",
              "      <td>0.438934</td>\n",
              "      <td>0.267904</td>\n",
              "    </tr>\n",
              "    <tr>\n",
              "      <th>std</th>\n",
              "      <td>0.151639</td>\n",
              "      <td>0.127814</td>\n",
              "      <td>0.151024</td>\n",
              "      <td>0.156071</td>\n",
              "      <td>0.113824</td>\n",
              "      <td>0.165596</td>\n",
              "      <td>0.175772</td>\n",
              "      <td>0.170844</td>\n",
              "      <td>0.139586</td>\n",
              "      <td>0.159505</td>\n",
              "    </tr>\n",
              "    <tr>\n",
              "      <th>min</th>\n",
              "      <td>0.187846</td>\n",
              "      <td>0.022658</td>\n",
              "      <td>0.194251</td>\n",
              "      <td>0.092513</td>\n",
              "      <td>0.190304</td>\n",
              "      <td>0.081805</td>\n",
              "      <td>0.056186</td>\n",
              "      <td>0.100944</td>\n",
              "      <td>0.125253</td>\n",
              "      <td>0.000000</td>\n",
              "    </tr>\n",
              "    <tr>\n",
              "      <th>25%</th>\n",
              "      <td>0.383075</td>\n",
              "      <td>0.325245</td>\n",
              "      <td>0.379760</td>\n",
              "      <td>0.238303</td>\n",
              "      <td>0.373567</td>\n",
              "      <td>0.276731</td>\n",
              "      <td>0.256619</td>\n",
              "      <td>0.321173</td>\n",
              "      <td>0.343687</td>\n",
              "      <td>0.139796</td>\n",
              "    </tr>\n",
              "    <tr>\n",
              "      <th>50%</th>\n",
              "      <td>0.489564</td>\n",
              "      <td>0.397362</td>\n",
              "      <td>0.486559</td>\n",
              "      <td>0.334464</td>\n",
              "      <td>0.447504</td>\n",
              "      <td>0.346512</td>\n",
              "      <td>0.354616</td>\n",
              "      <td>0.428827</td>\n",
              "      <td>0.423737</td>\n",
              "      <td>0.244629</td>\n",
              "    </tr>\n",
              "    <tr>\n",
              "      <th>75%</th>\n",
              "      <td>0.596763</td>\n",
              "      <td>0.475313</td>\n",
              "      <td>0.595225</td>\n",
              "      <td>0.449735</td>\n",
              "      <td>0.526271</td>\n",
              "      <td>0.469358</td>\n",
              "      <td>0.475750</td>\n",
              "      <td>0.512798</td>\n",
              "      <td>0.524495</td>\n",
              "      <td>0.360468</td>\n",
              "    </tr>\n",
              "    <tr>\n",
              "      <th>max</th>\n",
              "      <td>1.000000</td>\n",
              "      <td>1.000000</td>\n",
              "      <td>1.000000</td>\n",
              "      <td>1.000000</td>\n",
              "      <td>0.831182</td>\n",
              "      <td>1.000000</td>\n",
              "      <td>1.000000</td>\n",
              "      <td>1.000000</td>\n",
              "      <td>1.000000</td>\n",
              "      <td>1.000000</td>\n",
              "    </tr>\n",
              "  </tbody>\n",
              "</table>\n",
              "</div>"
            ],
            "text/plain": [
              "       radius_mean_N  texture_mean_N  perimeter_mean_N  area_mean_N  \\\n",
              "count     212.000000      212.000000        212.000000   212.000000   \n",
              "mean        0.496087        0.402263          0.494613     0.354136   \n",
              "std         0.151639        0.127814          0.151024     0.156071   \n",
              "min         0.187846        0.022658          0.194251     0.092513   \n",
              "25%         0.383075        0.325245          0.379760     0.238303   \n",
              "50%         0.489564        0.397362          0.486559     0.334464   \n",
              "75%         0.596763        0.475313          0.595225     0.449735   \n",
              "max         1.000000        1.000000          1.000000     1.000000   \n",
              "\n",
              "       smoothness_mean_N  compactness_mean_N  concavity_mean_N  \\\n",
              "count         212.000000          212.000000        212.000000   \n",
              "mean            0.453810            0.385890          0.376698   \n",
              "std             0.113824            0.165596          0.175772   \n",
              "min             0.190304            0.081805          0.056186   \n",
              "25%             0.373567            0.276731          0.256619   \n",
              "50%             0.447504            0.346512          0.354616   \n",
              "75%             0.526271            0.469358          0.475750   \n",
              "max             0.831182            1.000000          1.000000   \n",
              "\n",
              "       concave points_mean_N  symmetry_mean_N  fractal_dimension_mean_N  \n",
              "count             212.000000       212.000000                212.000000  \n",
              "mean                0.437326         0.438934                  0.267904  \n",
              "std                 0.170844         0.139586                  0.159505  \n",
              "min                 0.100944         0.125253                  0.000000  \n",
              "25%                 0.321173         0.343687                  0.139796  \n",
              "50%                 0.428827         0.423737                  0.244629  \n",
              "75%                 0.512798         0.524495                  0.360468  \n",
              "max                 1.000000         1.000000                  1.000000  "
            ]
          },
          "execution_count": 4,
          "metadata": {},
          "output_type": "execute_result"
        },
        {
          "data": {
            "image/png": "[encoded data removed]",
            "text/plain": [
              "<Figure size 640x480 with 1 Axes>"
            ]
          },
          "metadata": {},
          "output_type": "display_data"
        }
      ],
      "source": [
        "## Basic statistical values\n",
        "# mean\n",
        "mean_benign = df_benign.loc[:, 'concavity_mean_N'].mean()\n",
        "mean_malignant = df_malignant.loc[:, 'concavity_mean_N'].mean()\n",
        "\n",
        "print(f\"mean of concavity_mean for benign: {mean_benign}\\nmean of concavity_mean for malignant: {mean_malignant}\\n\")\n",
        "\n",
        "# median\n",
        "median_benign = df_benign.loc[:, 'concavity_mean_N'].median()\n",
        "median_malignant = df_malignant.loc[:, 'concavity_mean_N'].median()\n",
        "\n",
        "print(f\"median of concavity_mean for benign: {median_benign}\\nmedian of concavity_mean for malignant: {median_malignant}\\n\")\n",
        "\n",
        "# standard deviation\n",
        "std_benign = df_benign.loc[:, 'concavity_mean_N'].std()\n",
        "std_malignant = df_malignant.loc[:, 'concavity_mean_N'].std()\n",
        "\n",
        "print(f\"standard deviation of concavity_mean for benign: {std_benign}\\nstandard deviation of concavity_mean for malignant: {std_malignant}\\n\")\n",
        "\n",
        "# percentile\n",
        "perc_25_benign = df_benign.loc[:, 'concavity_mean_N'].quantile(0.25)\n",
        "perc_75_benign = df_benign.loc[:, 'concavity_mean_N'].quantile(0.75)\n",
        "\n",
        "perc_25_malignant = df_malignant.loc[:, 'concavity_mean_N'].quantile(0.25)\n",
        "perc_75_malignant = df_malignant.loc[:, 'concavity_mean_N'].quantile(0.75)\n",
        "\n",
        "print(f\"25th percentile for benign is {perc_25_benign}\\n75th percentile for benign is {perc_75_benign}\")\n",
        "print(f\"25th percentile for malignant is {perc_25_malignant}\\n75th percentile for malignant is {perc_75_malignant}\\n\")\n",
        "\n",
        "## Boxplot\n",
        "df.boxplot('radius_mean', by='diagnosis')\n",
        "#df_malignant.boxplot('radius_mean', by='Malignant')\n",
        "#pd.concat([df_benign,df_malignant]).boxplot(column='radius_mean')#,by='urban')\n",
        "\n",
        "## Describe method\n",
        "df_malignant.describe()\n",
        "#df_benign.describe()"
      ]
    },
    {
      "cell_type": "markdown",
      "metadata": {
        "deletable": false,
        "editable": false,
        "id": "VapnSBP5DwHg",
        "nbgrader": {
          "checksum": "43fe0229adf24d2f1042642535e91c09",
          "grade": false,
          "grade_id": "cell-1d67f212185a28e7",
          "locked": true,
          "schema_version": 1,
          "solution": false
        }
      },
      "source": [
        "Can you already spot the differences in data distributions between benign and malignant cancer? What conclusions regarding the size and shape of malignant vs benign cells can be drawn?"
      ]
    },
    {
      "cell_type": "markdown",
      "metadata": {
        "deletable": false,
        "id": "YemC5kARDwHg"
      },
      "source": []
    },
    {
      "cell_type": "markdown",
      "metadata": {
        "deletable": false,
        "editable": false,
        "id": "1dpvXZAsDwHh",
        "nbgrader": {
          "checksum": "e5e9fca205fe725bd477b77fe0da8f40",
          "grade": false,
          "grade_id": "cell-8eb3d8d7afcecb2e",
          "locked": true,
          "schema_version": 1,
          "solution": false
        }
      },
      "source": [
        "***\n",
        "### Task 4: Visualization of nuclei features\n",
        "\n",
        "Another quick way to get a feel of the type of data you are dealing with is to plot a histogram for each numerical attribute. A histogram shows the number of instances (on the vertical axis) that have a given value range (on the horizontal axis). Using *matplotlib* plot a histogram of a mean radius of malignant cancer cells. On the same figure add a histogram (using a different color) of benign cancer cells radius (Hint: use *matplotlib* function hist() ). Do the histograms correlate with each other?\n",
        "\n",
        "Histogram is a great tool to visualize the distribution of a single feature. However, often a dataset consists of several features and therefore another way of visualization has to be used.\n",
        "\n",
        "A 2D scatterplot shows a relation between two features. Scatterplots are very often used to get a feeling of the data and work as a help tool for choosing a correct design of decision system which you will build during the next practical sessions.\n",
        "\n",
        "Using *matplotlib*, plot on the same figure the relation of the radius_mean feature in function of the texture_mean feature for benign and malignant cases. Mark classes with different color and provide a legend box.\n",
        "\n",
        "Scatterplots give a possibility to analyse the trends and relations between different features. Looking at the plotted scatterplot, you can see that there seem to be a linear relation between radius and texture. Lets try to find it.\n",
        "\n",
        "Using linear regression from Sci-Kit learn toolbox, fit a linear function and plot it on the same scatterplot. Give the formula of the linear function."
      ]
    },
    {
      "cell_type": "code",
      "execution_count": 19,
      "metadata": {
        "collapsed": true,
        "deletable": false,
        "id": "HF-mEIsUDwHi",
        "jupyter": {
          "outputs_hidden": true
        }
      },
      "outputs": [
        {
          "data": {
            "image/png": "[encoded data removed]",
            "text/plain": [
              "<Figure size 640x480 with 1 Axes>"
            ]
          },
          "metadata": {},
          "output_type": "display_data"
        },
        {
          "data": {
            "image/png": "[encoded data removed]",
            "text/plain": [
              "<Figure size 640x480 with 1 Axes>"
            ]
          },
          "metadata": {},
          "output_type": "display_data"
        },
        {
          "name": "stdout",
          "output_type": "stream",
          "text": [
            "Coefficients: y = 0.28236529082468487 * x(mean) + 0.22846297548918393\n"
          ]
        }
      ],
      "source": [
        "from matplotlib import pyplot as plt\n",
        "from sklearn.linear_model import LinearRegression\n",
        "\n",
        "# Histogram of the mean radius (normalized) for borth Benign and Malignant types\n",
        "plt.hist(df_malignant['radius_mean_N'], label='Malignant')\n",
        "plt.hist(df_benign['radius_mean_N'], alpha=0.7, label='Benign')\n",
        "plt.legend()\n",
        "plt.title('Mean radius histogram (normalized)')\n",
        "plt.xlabel('Radius')\n",
        "\n",
        "plt.show()\n",
        "\n",
        "# Scatter plot of mean radius in function of mean texture for both Benign and Malignant types. Plot includes linear regression\n",
        "x_reshape = df_normalized['radius_mean_N'].values.reshape(-1, 1)\n",
        "y_vals = df_normalized['texture_mean_N']\n",
        "\n",
        "regression = LinearRegression()\n",
        "regression.fit(x_reshape, y_vals) # train model using train data\n",
        "y_prediction = regression.predict(x_reshape)\n",
        "\n",
        "coefficients = [regression.coef_[0], regression.intercept_]\n",
        "\n",
        "# plotting scatter + regression \n",
        "plt.scatter(df_benign['radius_mean_N'], df_benign['texture_mean_N'], label=\"Benign\")\n",
        "plt.scatter(df_malignant['radius_mean_N'], df_malignant['texture_mean_N'], label=\"Malignant\", alpha=0.7)\n",
        "plt.plot(x_reshape, y_prediction, color='red')\n",
        "plt.title(\"Mean texture vs Mean Radius\")\n",
        "plt.xlabel(\"Radius mean\")\n",
        "plt.ylabel(\"Texture mean\")\n",
        "plt.legend()\n",
        "\n",
        "plt.show()\n",
        "\n",
        "print(f\"Coefficients: y = {coefficients[0]} * x(mean) + {coefficients[1]}\")\n",
        "\n"
      ]
    },
    {
      "cell_type": "markdown",
      "metadata": {
        "deletable": false,
        "editable": false,
        "id": "qAP1E1z9DwHi",
        "nbgrader": {
          "checksum": "ccac093bff4be3b1d7f7a0ba22dc14c6",
          "grade": false,
          "grade_id": "cell-7c5078d9654ef528",
          "locked": true,
          "schema_version": 1,
          "solution": false
        },
        "tags": []
      },
      "source": [
        "***\n",
        "### Task 5: High-level visualization\n",
        "\n",
        "A scatter plot is a good tool to visualize the distribution of values for small number of instances. However, with very large numbers of instances, all plotted points tent to become inseparable, forming one large cluster of the same color intensity. That issue can be solved by introduction of density plots. Density plot represents data in the same way as the scatterplot, but it changes its density dependent on the number of points in its vicinity. Using *seaborn* library and *kdeplot* function, plot a density plot of the same features (radius in function of texture) for two class labels (benign and malignant) on the same figure. You can easily see that it is much easier now to interpret and separate features.\n",
        "\n",
        "You have plotted the relation between two features now, but what about all of the others. They probably contain additional relevant information for better understanding of the dataset. *Pandas* library provides an inbuilt function *scatter_matrix*, which shows a relations between all inputed features simultaneously. Use a complete dataset to create a scatter_matrix plot.\n",
        "\n",
        "Additionally to the graphical representation of feature pairs, numbers can be generated too. Use *pandas* *corr()* function to investigate correlations of radius_mean feature.\n",
        "What can you say about the relation between radius_mean against different features? Are some features dependent on another? If so, which? Is it worth to use all of the features in your future machine learning system, why?\n",
        "\n",
        "KDE plots are compute intense. If it takes too long to generate one on a whole dataset, use its fraction instead (e.g. use *pandas.sample frac 10%*).\n"
      ]
    },
    {
      "cell_type": "markdown",
      "metadata": {
        "deletable": false,
        "editable": true,
        "id": "xeZcHtdEDwHj",
        "tags": []
      },
      "source": [
        "YOUR ANSWER HERE"
      ]
    },
    {
      "cell_type": "markdown",
      "metadata": {
        "deletable": false,
        "editable": false,
        "id": "xeLpWhQODwHk",
        "nbgrader": {
          "checksum": "e339447051c9fa6c19984d31e48c07d0",
          "grade": false,
          "grade_id": "cell-975b3e4489afb8ae",
          "locked": true,
          "schema_version": 1,
          "solution": false
        },
        "tags": []
      },
      "source": [
        "\n",
        "You can now see the features distribution, but we can not distinguish which point in the provided scatter matrix corresponds to which class. Using *seaborn's pairplot* function print the scatter matrix of radius, texture and concavity for malignant and benign cells.\n",
        "\n",
        "Could you print the same plot (radius, texture & concavity for malignant and benign cells) but instead of a seaborn scatterplot matrix (pairplot) use density distribution matrix (kdeplot matrix)?"
      ]
    },
    {
      "cell_type": "code",
      "execution_count": null,
      "metadata": {
        "collapsed": true,
        "deletable": false,
        "id": "Hj6rwJPeDwHk",
        "jupyter": {
          "outputs_hidden": true
        }
      },
      "outputs": [],
      "source": [
        "# YOUR CODE HERE\n"
      ]
    },
    {
      "cell_type": "markdown",
      "metadata": {
        "deletable": false,
        "editable": false,
        "id": "pUIM8R-RDwHl",
        "nbgrader": {
          "checksum": "2748aee5b9893da658819bffa52424fb",
          "grade": false,
          "grade_id": "cell-d3475490f54c3d47",
          "locked": true,
          "schema_version": 1,
          "solution": false
        }
      },
      "source": [
        "### Task 6: Validation of classifier's performance\n",
        "Load prediction.csv file. The file stores support-vector machine classifier results for each instance in the dataset (classes malignant or benign). Inspect the prediction dataframe. Extract a column predicted from the prediction.csv dataset and column 'diagnosis' from the initial dataset (dataWisconsinBreast.csv) and store them in new dataframes.\n",
        "\n",
        "We are now going to assess the performance of the classifier. Write a python function counting and returning false positive, false negative, true positive and true negative instances. Using obtained statistical values, calculate accuracy, sensitivity, specificity of the classifier.\n",
        "\n",
        "Scikit-learn library provides functions such as *metrics.classification_report*, which calculate and printout the same measures. See the Classification metrics section of the user guide for further details. Does the output of the scikit-learn functions match the ones calculated by you?\n",
        "\n",
        "Briefly describe the difference between calculated measures.\n",
        "During classification of breast biopsies, it is highly important not to miss a malignant case. In other words, we do not want our classifier to classify malignant cell as benign case. The performance of the classifier can be optimized towards such behavior. Which statistical measure should we optimize (increase) in order to decrease these wrong classifications as much as possible?"
      ]
    },
    {
      "cell_type": "markdown",
      "metadata": {
        "deletable": false,
        "id": "yFY1BlBPDwHl"
      },
      "source": [
        "YOUR ANSWER HERE"
      ]
    },
    {
      "cell_type": "code",
      "execution_count": null,
      "metadata": {
        "collapsed": true,
        "deletable": false,
        "id": "66ry-q_XDwHm",
        "jupyter": {
          "outputs_hidden": true
        }
      },
      "outputs": [],
      "source": [
        "# YOUR CODE HERE\n"
      ]
    }
  ],
  "metadata": {
    "celltoolbar": "Create Assignment",
    "colab": {
      "provenance": []
    },
    "kernelspec": {
      "display_name": "Python 3 (ipykernel)",
      "language": "python",
      "name": "python3"
    },
    "language_info": {
      "codemirror_mode": {
        "name": "ipython",
        "version": 3
      },
      "file_extension": ".py",
      "mimetype": "text/x-python",
      "name": "python",
      "nbconvert_exporter": "python",
      "pygments_lexer": "ipython3",
      "version": "3.11.5"
    }
  },
  "nbformat": 4,
  "nbformat_minor": 0
}
