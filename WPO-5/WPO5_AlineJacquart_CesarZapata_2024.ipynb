{
  "cells": [
    {
      "cell_type": "markdown",
      "metadata": {
        "id": "EqqZChSMw_tW"
      },
      "source": [
        "# Health Information Systems and Decision Support Systems\n",
        "# WPO 5: - CAD Systems (15/03/2024)\n",
        "***\n",
        "*Panagiotis Gonidakis, Jakub Ceranka, Joris Wuts, Jef Vandemeulebrouke*<br>\n",
        "*Department of Electronics and Informatics (ETRO)*<br>\n",
        "*Vrije Universiteit Brussel, Pleinlaan 2, B-1050 Brussels, Belgium*"
      ]
    },
    {
      "cell_type": "markdown",
      "metadata": {
        "id": "QoznCU3xw_te"
      },
      "source": [
        "<font color=blue>Aline Jacquart - 0567936 <br>\n",
        "                 César Zapata - 0596811</font>"
      ]
    },
    {
      "cell_type": "markdown",
      "metadata": {
        "id": "4HQWrOqFw_tf"
      },
      "source": [
        "### Goal\n",
        "The goal of this practical session is to get an insight into artificial neural networks, more specifically multi-layer perceptrons (MLP) and convolutional neural networks (CNN). Your tasks will involve:\n",
        "- examining and pre-processing the real life lung nodule CT data\n",
        "- training various neural networks with increasing complexity to classify if there is a lung nodule on the CT image\n",
        "- validating the performance of your system against the manual ground-truth predictions prepared by an experienced radiologist.\n",
        "- visualizing training graphs and analysing information about model performance\n",
        "\n",
        "Students must send their notebook (and `wandb` generated report for all models in `pdf`) using the Assignment functionaly of Canvas before <b> 21/03/2024, 23:59 pm. </b>, in `.ipynb` and `.html` format. The grade from this practical session will contribute to your final grade.\n",
        "\n",
        "Questions: [jceranka@etrovub.be](mailto:jceranka@etrovub.be), [jwuts@etrovub.be](mailto:jwuts@etrovub.be)"
      ]
    },
    {
      "cell_type": "markdown",
      "metadata": {
        "id": "dxhWsPacw_th"
      },
      "source": [
        "# Libraries\n",
        "During this practical session, the following libraries will be used:\n",
        "\n",
        "* Numpy (np)\n",
        "* Glob\n",
        "* Simple ITK (sitk)\n",
        "* Matplotlib\n",
        "* Sklearn\n",
        "* Tensorflow (tf)\n",
        "* Keras (you can also use pytorch if you are more familiar)\n",
        "* wandb\n",
        "\n",
        "To import any external library, you need to import it using the **import** statement followed by the name of the library and the shortcut. You can additionally check for the module version using **version** command.\n",
        "\n",
        "* If you use your own laptop, you will need to install new modules.\n",
        "\n",
        "* These expirements are simplified in order to be run without the need of a powerful GPU. However some training tasks may take 30-40 minutes using a CPU. You can accelerate your expirements if you work on [Google colab](https://colab.research.google.com/) framework where a GPU is offered. Then you need to create a GoogleDrive account and upload all the necessary data (scripts + data).\n",
        "For more information look [here](https://colab.research.google.com/) and [here](https://colab.research.google.com/notebooks/gpu.ipynb)."
      ]
    },
    {
      "cell_type": "markdown",
      "metadata": {
        "id": "PwCkQBzTw_ti"
      },
      "source": [
        "### Tensorflow and Keras\n",
        "\n",
        "TensorFlow (https://www.tensorflow.org/) is an end-to-end open-source platform for machine learning. It’s a comprehensive and flexible ecosystem of tools, libraries and other resources that provide workflows with high-level APIs. The framework offers various levels of concepts for you to choose the one you need to build and deploy machine learning models.\n",
        "\n",
        "Keras (https://keras.io/), on the other hand, is a high-level neural networks library that is running on the top of TensorFlow. Using Keras in deep learning allows for easy and fast prototyping as well as running seamlessly on CPU and GPU. This framework is written in Python code which is easy to debug and allows ease for extensibility. Keras offers simple and consistent high-level APIs and follows best practices to reduce the cognitive load for the users. Both frameworks provide high-level APIs for building and training models with ease. Keras is built in Python which makes it way more user-friendly than TensorFlow.\n",
        "\n",
        "In this exercise, <b>we recommend to use Keras</b> which allows to create/train/test neural networks with very few lines of understandable code.\n",
        "\n",
        "Keras requires Tensorflow to be installed. Normally, the new versions of Keras installs it automatically.\n",
        "\n",
        "To install Keras, open the anaconda prompt and then type:\n",
        " ```pip install keras```\n",
        "    \n",
        "If not done automatically:\n",
        " ```pip install tensorflow``` and after ```pip install keras```\n",
        "\n",
        "To start using visualization platform Weights-And-Biases go to (https://wandb.ai/) and create an account. Locally do: ```pip install wandb```\n",
        "\n",
        "\n",
        "Here are some useful resources (installation + documentation):\n",
        "\n",
        "* https://phoenixnap.com/kb/how-to-install-keras-on-linux <p>\n",
        "* https://www.tensorflow.org/install <p>\n",
        "* https://keras.io/getting_started/ <p>\n",
        "* https://keras.io/api/models/ <p>\n",
        "* https://keras.io/api/models/sequential/ <p>\n",
        "* https://docs.wandb.ai/quickstart <p>\n",
        "    \n",
        "(*) For the purpose of this exercise, you don't need to use a GPU; tensorflow and keras can be configured to run on a CPU and the most demanding training tasks should not take more than 30 min. On the other hand, [colab](https://colab.research.google.com/) offers GPU development environment and the training tasks can really be accelerated.\n",
        "\n",
        "(*) Make sure you are using tensorflow 2. It is advised to verify which version it is being used before looking for any documentation as the APIs differ."
      ]
    },
    {
      "cell_type": "markdown",
      "metadata": {
        "id": "nKB_7Lagw_tk"
      },
      "source": [
        "# Lung Nodule Analysis\n",
        "Lung cancer is the leading cause of cancer-related deaths worldwide. Screening high risk individuals for lung cancer with low-dose CT scans is now being implemented in the United States and other countries are expected to follow soon. In CT lung cancer screening, millions of CT scans will have to be analyzed, which is an enormous burden for radiologists. Therefore, there is a lot of interest in development of computer algorithms to optimize cancer screening.\n",
        "\n",
        "<img src=\"images/luna16_image.png\">\n",
        "\n",
        "A vital first step in the analysis of lung cancer CT scans is the detection of pulmonary nodules, which may or may not represent early stage lung cancer. Many computer-aided detection (CAD) systems have already been proposed for this task.\n",
        "\n",
        "The LIDC/IDRI data set is publicly available, including the ground-truth annotations of nodules performed by four radiologists.\n",
        "\n",
        "This practical session is inspired from the challenge [LUNA16](https://luna16.grand-challenge.org/home/), which focused on a large-scale evaluation of automatic nodule detection algorithms on the LIDC/IDRI data set.\n",
        "\n",
        "<img src=\"images/lung_cancer1.png\">\n",
        "\n",
        "\n",
        "### Using LIDC/IDRI data set in this practical session\n",
        "\n",
        "For the needs of this practical session, we will look for an algorithm that only determines the likelihood for a given location in a CT scan to contain a pulmonary nodule. Furthermore, we have included a very small part of the LIDC/IDRI data set and we will use only a slice of suspicious regions of a CT scan.\n",
        "\n",
        "### Data augmentation\n",
        "\n",
        "Originally our dataset was very unbalanced. There were a lot samples of non-nodules (negatives) but very few samples of nodules (positives). Machine learning algorithms and specifically neural networks and convolutional neural networks require to be trained on balanced dataset, meaning all the classes should be equally represented in the training set.\n",
        "\n",
        "Using data augmentation methods (**rotation and translation**), positive samples were massively augmented in order to balance the two classes (nodules and non-nodules)\n",
        "\n",
        "### Ground Truth data\n",
        "\n",
        "Categorical data are variables that contain label values rather than numeric values. In our dataset, a sample can represent a nodule or a non-nodule area, so initially we have our ground truth data in a categorical form. Many machine learning algorithms cannot operate on label data directly. They require all input variables to be numeric. This means that categorical data must be converted to a numerical form. This involves two steps:\n",
        "1. Integer Encoding\n",
        "2. One-Hot Encoding.\n",
        "\n",
        "As a first step, each unique category value is assigned an integer value. That's why in our dataset, a sample which represents a nodule will have as a label `1` and a sample which represents a non-nodule area will have as a label `0`.\n",
        "\n",
        "For our case, this enconding step would be enough since we have only two categories. However, in a more general problem with more than two classes, using this encoding allows the model to assume a natural ordering between categories which may result in poor performance or unexpected results. That's why, one hot encoding can be appled to the integer representation. This is where the integer encoded variable is removed and a new binary variable is added for each unique integer value.\n",
        "\n",
        "Therefore, a  nodule will be represented by the binary variable `[1,0]` and a non-nodule area by the binary variable `[0,1]`.\n",
        "\n",
        "<img src=\"images/lung_cancer2.png\">\n"
      ]
    },
    {
      "cell_type": "markdown",
      "metadata": {
        "id": "kft0iSz8w_tm"
      },
      "source": [
        "# Part 1: Visualize, load and prepare data for Machine Learning Algorithms\n",
        "\n",
        "CT images are stored in MetaImage (`mhd/raw`) format. Each .mhd file is stored with as a header file (`.mhd`) and a corresponding pixeldata file (`.raw`). To load a CT image, just **load the `.mhd` header file** and data from the binary .raw file will be automatically loaded.\n",
        "\n",
        "If you look carefully at the name of each .mhd file, you can extract useful information for a specific sample. You can identify its **number id**, its **size**, if the image was produced by a **data augmentation** method and if it contains a **nodule or not**.\n",
        "\n",
        "For example: *20046_x0y0z0_20x20x6_r0_1.mhd*\n",
        "* **20046**:   number of candidate patch\n",
        "* **x0y0z0**: no translation in any axis (if augmentation is used it is mentioned by the angle in the corresponding axis)\n",
        "* **20x20x6**: size of the image in voxels\n",
        "* **r0**:     no rotation\n",
        "* **1**:      it is a positive sample - represents a nodule\n",
        "* **.mhd**:   it is a mhd file (this is the file which can be loaded)"
      ]
    },
    {
      "cell_type": "markdown",
      "metadata": {
        "id": "iH-yaFFcw_tn"
      },
      "source": [
        "### Task 1: Import necessary libraries\n",
        "\n",
        "Load all necessary libraries using the **import** statement and check for errors."
      ]
    },
    {
      "cell_type": "code",
      "execution_count": 1,
      "metadata": {
        "colab": {
          "base_uri": "https://localhost:8080/"
        },
        "id": "aWoTLjKtyfpG",
        "outputId": "f84087dd-2e14-4b11-d407-b6bb1a19795f"
      },
      "outputs": [
        {
          "output_type": "stream",
          "name": "stdout",
          "text": [
            "Mounted at /content/drive\n"
          ]
        }
      ],
      "source": [
        "from google.colab import drive\n",
        "drive.mount('/content/drive')"
      ]
    },
    {
      "cell_type": "code",
      "execution_count": 3,
      "metadata": {
        "colab": {
          "base_uri": "https://localhost:8080/"
        },
        "id": "QfazfgCPACPA",
        "outputId": "a857b3d1-a607-40d5-86fc-9b8d03333829"
      },
      "outputs": [
        {
          "output_type": "stream",
          "name": "stdout",
          "text": [
            "Collecting SimpleITK\n",
            "  Downloading SimpleITK-2.3.1-cp310-cp310-manylinux_2_17_x86_64.manylinux2014_x86_64.whl (52.7 MB)\n",
            "\u001b[2K     \u001b[90m━━━━━━━━━━━━━━━━━━━━━━━━━━━━━━━━━━━━━━━━\u001b[0m \u001b[32m52.7/52.7 MB\u001b[0m \u001b[31m12.2 MB/s\u001b[0m eta \u001b[36m0:00:00\u001b[0m\n",
            "\u001b[?25hInstalling collected packages: SimpleITK\n",
            "Successfully installed SimpleITK-2.3.1\n",
            "Collecting wandb\n",
            "  Downloading wandb-0.16.4-py3-none-any.whl (2.2 MB)\n",
            "\u001b[2K     \u001b[90m━━━━━━━━━━━━━━━━━━━━━━━━━━━━━━━━━━━━━━━━\u001b[0m \u001b[32m2.2/2.2 MB\u001b[0m \u001b[31m20.5 MB/s\u001b[0m eta \u001b[36m0:00:00\u001b[0m\n",
            "\u001b[?25hRequirement already satisfied: Click!=8.0.0,>=7.1 in /usr/local/lib/python3.10/dist-packages (from wandb) (8.1.7)\n",
            "Collecting GitPython!=3.1.29,>=1.0.0 (from wandb)\n",
            "  Downloading GitPython-3.1.42-py3-none-any.whl (195 kB)\n",
            "\u001b[2K     \u001b[90m━━━━━━━━━━━━━━━━━━━━━━━━━━━━━━━━━━━━━━━━\u001b[0m \u001b[32m195.4/195.4 kB\u001b[0m \u001b[31m20.8 MB/s\u001b[0m eta \u001b[36m0:00:00\u001b[0m\n",
            "\u001b[?25hRequirement already satisfied: requests<3,>=2.0.0 in /usr/local/lib/python3.10/dist-packages (from wandb) (2.31.0)\n",
            "Requirement already satisfied: psutil>=5.0.0 in /usr/local/lib/python3.10/dist-packages (from wandb) (5.9.5)\n",
            "Collecting sentry-sdk>=1.0.0 (from wandb)\n",
            "  Downloading sentry_sdk-1.43.0-py2.py3-none-any.whl (264 kB)\n",
            "\u001b[2K     \u001b[90m━━━━━━━━━━━━━━━━━━━━━━━━━━━━━━━━━━━━━━━━\u001b[0m \u001b[32m264.6/264.6 kB\u001b[0m \u001b[31m22.8 MB/s\u001b[0m eta \u001b[36m0:00:00\u001b[0m\n",
            "\u001b[?25hCollecting docker-pycreds>=0.4.0 (from wandb)\n",
            "  Downloading docker_pycreds-0.4.0-py2.py3-none-any.whl (9.0 kB)\n",
            "Requirement already satisfied: PyYAML in /usr/local/lib/python3.10/dist-packages (from wandb) (6.0.1)\n",
            "Collecting setproctitle (from wandb)\n",
            "  Downloading setproctitle-1.3.3-cp310-cp310-manylinux_2_5_x86_64.manylinux1_x86_64.manylinux_2_17_x86_64.manylinux2014_x86_64.whl (30 kB)\n",
            "Requirement already satisfied: setuptools in /usr/local/lib/python3.10/dist-packages (from wandb) (67.7.2)\n",
            "Requirement already satisfied: appdirs>=1.4.3 in /usr/local/lib/python3.10/dist-packages (from wandb) (1.4.4)\n",
            "Requirement already satisfied: protobuf!=4.21.0,<5,>=3.19.0 in /usr/local/lib/python3.10/dist-packages (from wandb) (3.20.3)\n",
            "Requirement already satisfied: six>=1.4.0 in /usr/local/lib/python3.10/dist-packages (from docker-pycreds>=0.4.0->wandb) (1.16.0)\n",
            "Collecting gitdb<5,>=4.0.1 (from GitPython!=3.1.29,>=1.0.0->wandb)\n",
            "  Downloading gitdb-4.0.11-py3-none-any.whl (62 kB)\n",
            "\u001b[2K     \u001b[90m━━━━━━━━━━━━━━━━━━━━━━━━━━━━━━━━━━━━━━━━\u001b[0m \u001b[32m62.7/62.7 kB\u001b[0m \u001b[31m6.8 MB/s\u001b[0m eta \u001b[36m0:00:00\u001b[0m\n",
            "\u001b[?25hRequirement already satisfied: charset-normalizer<4,>=2 in /usr/local/lib/python3.10/dist-packages (from requests<3,>=2.0.0->wandb) (3.3.2)\n",
            "Requirement already satisfied: idna<4,>=2.5 in /usr/local/lib/python3.10/dist-packages (from requests<3,>=2.0.0->wandb) (3.6)\n",
            "Requirement already satisfied: urllib3<3,>=1.21.1 in /usr/local/lib/python3.10/dist-packages (from requests<3,>=2.0.0->wandb) (2.0.7)\n",
            "Requirement already satisfied: certifi>=2017.4.17 in /usr/local/lib/python3.10/dist-packages (from requests<3,>=2.0.0->wandb) (2024.2.2)\n",
            "Collecting smmap<6,>=3.0.1 (from gitdb<5,>=4.0.1->GitPython!=3.1.29,>=1.0.0->wandb)\n",
            "  Downloading smmap-5.0.1-py3-none-any.whl (24 kB)\n",
            "Installing collected packages: smmap, setproctitle, sentry-sdk, docker-pycreds, gitdb, GitPython, wandb\n",
            "Successfully installed GitPython-3.1.42 docker-pycreds-0.4.0 gitdb-4.0.11 sentry-sdk-1.43.0 setproctitle-1.3.3 smmap-5.0.1 wandb-0.16.4\n"
          ]
        }
      ],
      "source": [
        "!pip install SimpleITK\n",
        "!pip install wandb"
      ]
    },
    {
      "cell_type": "code",
      "execution_count": 4,
      "metadata": {
        "colab": {
          "base_uri": "https://localhost:8080/"
        },
        "collapsed": true,
        "id": "1LKweVwHw_to",
        "outputId": "f3371ab7-0af0-4695-ba18-1608be163ec7"
      },
      "outputs": [
        {
          "output_type": "stream",
          "name": "stdout",
          "text": [
            "\u001b[0m\u001b[01;34mdrive\u001b[0m/  \u001b[01;34msample_data\u001b[0m/\n"
          ]
        }
      ],
      "source": [
        "# Code for Part 1: Task 1\n",
        "import os\n",
        "import re\n",
        "import glob\n",
        "import keras\n",
        "import wandb\n",
        "import sklearn\n",
        "import numpy as np\n",
        "import pandas as pd\n",
        "import tensorflow as tf\n",
        "import SimpleITK as sitk\n",
        "from matplotlib import pyplot as plt\n",
        "from sklearn.model_selection import train_test_split\n",
        "\n",
        "%ls"
      ]
    },
    {
      "cell_type": "markdown",
      "metadata": {
        "id": "dihVp5kcw_tr"
      },
      "source": [
        "### Task 2: Inspect the dataset\n",
        "\n",
        "1. Using `SimpleITK`, create a function to load `.mhd` files (__Tip:__ The function should return a numpy array - `sitk.GetArrayFromImage( )`)\n",
        "2. Visualize the 6 slices of a chosen patch using `matplotlib` subplot figure and mention if it is a positive or a negative patch (Use colorscale `gray`)\n",
        "3. Visualize some augmented samples from the same candidate region using `matplotlib` subplot of the same patch and mention the augmentation method. Check visually if the observed patch was modified using the same augmentation method that is mentioned in the samples' filename.\n",
        "4. Count your files. How many positives and negatives there are in this dataset? (__Tip:__ Use `glob` library to get the number of specific files in your dataset)."
      ]
    },
    {
      "cell_type": "code",
      "execution_count": 46,
      "metadata": {
        "colab": {
          "base_uri": "https://localhost:8080/",
          "height": 806
        },
        "collapsed": true,
        "id": "XNVQINzpw_ts",
        "outputId": "f453c1e0-8861-4a6a-a9eb-1bcfaddc71f0"
      },
      "outputs": [
        {
          "output_type": "stream",
          "name": "stdout",
          "text": [
            "Number of positive files: 1101\n",
            "Number of negative files: 1214\n"
          ]
        },
        {
          "output_type": "display_data",
          "data": {
            "text/plain": [
              "<Figure size 800x800 with 6 Axes>"
            ],
            "image/png": "[encoded data removed]"
          },
          "metadata": {}
        }
      ],
      "source": [
        "# Code for Part 1: Task 2\n",
        "# function to show the 6 different slices for a given image of the dataset\n",
        "def showImageSlices(image_name, path, dir):\n",
        "\n",
        "    image = sitk.ReadImage(f\"{path}/{dir}/{image_name}\") # loading image\n",
        "    img_to_read = sitk.GetArrayFromImage(image) # converting to array\n",
        "    arr_image = [] # empty array for slices\n",
        "\n",
        "    for i in range(6):\n",
        "      arr_image.append(img_to_read[i, :, :]) # appending slices to empty array\n",
        "\n",
        "    # plotting image slices\n",
        "    figs, axs = plt.subplots(3, 2, figsize=(8, 8))\n",
        "    figs.tight_layout(pad=3.0)\n",
        "\n",
        "    axs[0][0].imshow(arr_image[0], cmap='gray')\n",
        "    axs[0][0].set_title(f\"{image_name} | slice1\")\n",
        "\n",
        "    axs[0][1].imshow(arr_image[1], cmap='gray')\n",
        "    axs[0][1].set_title(f\"{image_name} | slice2\")\n",
        "\n",
        "    axs[1][0].imshow(arr_image[2], cmap='gray')\n",
        "    axs[1][0].set_title(f\"{image_name} | slice3\")\n",
        "\n",
        "    axs[1][1].imshow(arr_image[3], cmap='gray')\n",
        "    axs[1][1].set_title(f\"{image_name} | slice4\")\n",
        "\n",
        "    axs[2][0].imshow(arr_image[4], cmap='gray')\n",
        "    axs[2][0].set_title(f\"{image_name} | slice5\")\n",
        "\n",
        "    axs[2][1].imshow(arr_image[5], cmap='gray')\n",
        "    axs[2][1].set_title(f\"{image_name} | slice6\")\n",
        "\n",
        "    plt.show()\n",
        "\n",
        "\n",
        "# looking for the images in the patch: trying patch 20046_x-1y0z0_20x20x6_f0_1.mhd\n",
        "abs_path = \"drive/MyDrive/UGent/Health-info-and-support/WPO-5/\" # THIS CHANGES FOR EVERYONE, LOOK AT PERSONAL PATH\n",
        "# abs_path = \"drive/MyDrive/2Master/WPO-5/\"\n",
        "images_dir = 'MiniLunaDataset3'\n",
        "patch = '20046_x-1y0z0_20x20x6_f0_1.mhd'\n",
        "\n",
        "positives = glob.glob(f'{abs_path}/{images_dir}/*_1.mhd')\n",
        "negatives = glob.glob(f'{abs_path}/{images_dir}/*_0.mhd')\n",
        "\n",
        "num_positives = len(positives)\n",
        "num_negatives = len(negatives)\n",
        "\n",
        "print(f\"Number of positive files: {num_positives}\\nNumber of negative files: {num_negatives}\")\n",
        "\n",
        "showImageSlices(patch, abs_path, images_dir)"
      ]
    },
    {
      "cell_type": "markdown",
      "metadata": {
        "id": "1Sj1GX-Pw_tt"
      },
      "source": [
        "### Task 3: Data pre-processing\n",
        "In order to use neural-networks, we need to pre-process the data and store it in a way which can be easily interpreted by keras.\n",
        "\n",
        "First of all, separate the test set from the train set. Keep 10% of your samples as a test-set. (**Tip:** Use `sklearn` `train_test_split` function.)\n",
        "\n",
        "Since 3D CNNs need a lot of computation power, we will convert our problem to 2D. Instead of using all the 6 CT slices, we will use only the 3rd CT slice. Therefore, from each sample, the 3rd slice wiil be extracted and further preprocessed. In addition, our values currently range from -1024 HU to around 2000 HU. Anything above 400 is not interesting to us, as these are simply bones with different radiodensity. A commonly used set of thresholds to normalize between is -1000 and 400. Finally the labels will be properly encoded to be used for training and testing.\n",
        "\n",
        "Write your pre-processing tasks as python functions (listed below) and in the end create a pipeline for each sample which will be also implemented as a function.\n",
        "1. Function loading the `.mhd` image as a numpy array.\n",
        "2. Function extracting the 3rd slice of a patch. The final form of patches should be a numpy array of size **20x20** pixels.\n",
        "3. Function normalizing the dataset.\n",
        "The unit of measurement in CT scans is the **Hounsfield Unit (HU)**, which is a measure of radiodensity. CT scanners are carefully calibrated to accurately measure this. From Wikipedia:\n",
        "<img src=\"images/HU_CTscannersCalibration.png\">\n",
        "\n",
        "    Create a function which is going to normalize the samples according to this table\n",
        "        * Create numpy arrays\n",
        "        * Normalize between [-1000, 400] using this normalization method\n",
        "    $npzarray = (npzarray - minHU) / (maxHU - minHU)$ <br>\n",
        "         where minHU = -1000 and maxHU = 400\n",
        "        * After this normalization set any values bigger than 1 to 1 and any values smaller than 0 to 0.\n",
        "\n",
        "4. Write an `If statement` encoding a label into a **1-hot** label as a ground-truth data in order to train the neural networks. (One-hot labels: `[0,1]` --> negative, `[1,0]` --> positive)\n",
        "\n",
        "5. Store into `.npy` data binary files. (__Tip:__ Use `np.save` to store data.)\n",
        "\n",
        "The pipeline should execute the functions as follows: <br>\n",
        "\n",
        "- Use `train_test_split` to divide the dataset into train and test subsets. Do that on patient level!\n",
        "- Create empty `np.arrays` filled with zeros to store patches and label data\n",
        "- Use for loop to iterate over all images in a train set:\n",
        "    - Load `.mhd` using `sitk`\n",
        "    - Normalize\n",
        "    - Extract 3rd slice\n",
        "    - Extract label as one-hot.\n",
        "    - Insert into empty array at correct index location\n",
        "- Save dataset.\n",
        "- Repeat for a test set.\n",
        "\n",
        "and return:\n",
        "* data:  [sample_idx,20,20]\n",
        "* labels: [sample_idx,2]\n",
        "\n",
        "Data pre-processing should be done for both: train and test set."
      ]
    },
    {
      "cell_type": "code",
      "execution_count": null,
      "metadata": {
        "colab": {
          "base_uri": "https://localhost:8080/"
        },
        "id": "hhsmnpy3w_tt",
        "outputId": "70dbd1e0-8243-4e9b-fdac-9099337cc4cb"
      },
      "outputs": [
        {
          "name": "stdout",
          "output_type": "stream",
          "text": [
            "number of images: 2325\n",
            "final shape of dataset: (2325, 20, 20)\n",
            "\n",
            "Created Y labels: (2325, 2)\n"
          ]
        }
      ],
      "source": [
        "# Code for Part 1: Task 3\n",
        "# 1. Function loading the .mhd image as a numpy array.\n",
        "def load_image(filename, path):\n",
        "  load_img = sitk.ReadImage(f\"{path}/{filename}\")\n",
        "  image = sitk.GetArrayFromImage(load_img)\n",
        "  return image\n",
        "\n",
        "# 2. Function extracting the 3rd slice of a patch. The final form of patches should be a numpy array of size 20x20 pixels.\n",
        "def extract_slice(image):\n",
        "  sliced_image = image[2, :, :] # selecting 3rd slice\n",
        "  return sliced_image\n",
        "\n",
        "# 3. Function normalizing the dataset.\n",
        "def normalize_dataset(data, minHU, maxHU):\n",
        "  minHU = np.int32(minHU) # changing dtype to be able to subtract from an array\n",
        "  maxHU = np.int32(maxHU)\n",
        "\n",
        "  normalized_data = []\n",
        "  for image in data:\n",
        "    normalized_image = (image - minHU) / (maxHU - minHU) # normalizing\n",
        "    capped_image = np.clip(normalized_image, 0., 1.) # anything < 0 = 0, anything > 1 = 1\n",
        "    normalized_data.append(capped_image)\n",
        "\n",
        "  return np.array(normalized_data)\n",
        "\n",
        "#abs_path = \"drive/MyDrive/UGent/Health-info-and-support/WPO-5\" # THIS CHANGES FOR EVERYONE, LOOK AT PERSONAL PATH\n",
        "abs_path = \"drive/MyDrive/2Master/WPO-5\"\n",
        "\n",
        "\n",
        "all_files = os.listdir(f\"{abs_path}/MiniLunaDataset3\")\n",
        "images_mhd = [x for x in all_files if x[-3:] == 'mhd'] # get only the .mhd files\n",
        "labels = [img_name.split('_')[-1][0] for img_name in images_mhd] # getting only the label of each file (positive=1, negative=0)\n",
        "Y = np.zeros(shape=(len(images_mhd), 2))\n",
        "\n",
        "print(f\"number of images: {len(images_mhd)}\")\n",
        "\n",
        "# preprocessing of the dataset\n",
        "images = [load_image(img, f\"{abs_path}/MiniLunaDataset3\") for img in images_mhd]\n",
        "sliced_imgs = [extract_slice(image_i) for image_i in images]\n",
        "normalized_imgs = normalize_dataset(sliced_imgs, -1000, 400)\n",
        "\n",
        "print(f\"final shape of dataset: {normalized_imgs.shape}\")\n",
        "\n",
        "# 4. Encoding a label into a 1-hot label as a ground-truth data in order to train the neural networks. (One-hot labels: [0,1] --> negative, [1,0] --> positive)\n",
        "# is it just giving [0, 1] to files with _0 as a suffix in the filename (no-nodule), and [1, 0] to files with _1 as a suffix in the filename (has a nodule)\n",
        "for i in range(len(labels)):\n",
        "  if int(labels[i]):\n",
        "    Y[i] = [1, 0]\n",
        "  else:\n",
        "    Y[i] = [0, 1]\n",
        "\n",
        "print(f\"\\nCreated Y labels: {Y.shape}\")\n",
        "\n",
        "# 5. Store into .npy data binary files. (Tip: Use np.save to store data.)\n",
        "np.save(f'{abs_path}/X_images', normalized_imgs)\n",
        "np.save(f'{abs_path}/Y_labels', Y)"
      ]
    },
    {
      "cell_type": "code",
      "execution_count": 6,
      "metadata": {
        "colab": {
          "base_uri": "https://localhost:8080/"
        },
        "id": "PCPP4-aZRWm8",
        "outputId": "fe08fb64-9c29-486b-a369-24fb5ec6d391"
      },
      "outputs": [
        {
          "output_type": "stream",
          "name": "stdout",
          "text": [
            "X_train: (2092, 20, 20)\n",
            "X_test: (233, 20, 20)\n",
            "Y_train: (2092, 2)\n",
            "Y_test: (233, 2)\n"
          ]
        }
      ],
      "source": [
        "X_images = np.load(f\"{abs_path}/X_images.npy\")\n",
        "Y_labels = np.load(f\"{abs_path}/Y_labels.npy\")\n",
        "X_train, X_test, Y_train, Y_test = train_test_split(X_images, Y_labels, test_size=0.1, random_state=0)\n",
        "\n",
        "print(f\"X_train: {X_train.shape}\\nX_test: {X_test.shape}\\nY_train: {Y_train.shape}\\nY_test: {Y_test.shape}\")"
      ]
    },
    {
      "cell_type": "markdown",
      "metadata": {
        "id": "soD08ptlw_tu"
      },
      "source": [
        "In case you are not able to complete Part 1, you can move to Part 2 of the session by loading the provided `.npy` files. In that case you will **not** get any credits for Part 1."
      ]
    },
    {
      "cell_type": "markdown",
      "metadata": {
        "id": "EC320UoMw_tu"
      },
      "source": [
        "# Part 2: Model training and validation"
      ]
    },
    {
      "cell_type": "markdown",
      "metadata": {
        "id": "hF_fpiLMw_tu"
      },
      "source": [
        "### Using Keras - A High Level API for Tensorflow\n",
        "\n",
        "Keras introduces a High-Level API that makes neural network building and training fast and easy. This API is intuitive and fully compatible with Tensorflow. In addition, keras provides a plethora of [APIs](https://keras.io/api/models/) and the user may select one that meets his needs. For the purpose of this exercise, the [sequential model](https://keras.io/api/models/sequential/) can be employed.\n",
        "\n",
        "### Visualization of training curves with `wandb`\n",
        "\n",
        "For the purpose of visualization in real-time the performance of our training, you will use Weights-And-Biases (`wandb`). During or after training you can use  it  to visualize the network and its performance. <b> For  all the following training tasks you are requested to include the loss and the accuracy graphs for training and also for evaluating the test-set</b>. A simple way to attach these graphs to jupyter notebook is to use generate a report after the training of all your networks is finished. Please upload that report in the pdf format and upload it in yur submission together with this notebook.\n",
        "\n",
        "Have a look at the following links for some tutorials on first use and report generation in `wandb`:\n",
        "* https://docs.wandb.ai/quickstart\n",
        "* https://docs.wandb.ai/guides/reports/create-a-report\n",
        "\n",
        "### Some Tips:\n",
        "\n",
        "* Use ```np.load``` to load your data from the previously created .npy binary files.\n",
        "* Use ```reshape``` method when it is needed to import data to the network.\n",
        "* Make your own function to create the model for each network architecture to avoid any model conflicts.\n",
        "\n",
        "* If you trained a model in a past python session, you can load the trained model but first you have to <b>define and initialize it again</b>.\n",
        "\n",
        "* Use `wandb` to visualize network and performance:\n",
        "\n",
        "* If you have strange keras errors, restart the python kernel and <b> re-run only the cells concerning your task you currently work (i.e. run the cells concerning only the current keras). Sometimes you cannot load two different keras at the same python session.</b>.\n",
        "\n",
        "(*) Depending the version of tensorflow you are working some commands might differ. Please look online for recent documentation."
      ]
    },
    {
      "cell_type": "markdown",
      "metadata": {
        "id": "_zZPPWoqw_tv"
      },
      "source": [
        "### Task 1: Load Data from the numpy binary files (from Part 1)\n",
        "Use the `numpy` load function to load the data created in the previous part of the exercise. The data has to be reshaped in a specific way (use code below) in order to be compatible with the keras neural network input standard. After the data is successfully loaded, plot any patch and its ground-truth as image title to verify that data is correctly represented."
      ]
    },
    {
      "cell_type": "code",
      "execution_count": 24,
      "metadata": {
        "id": "MVLeES7ww_tv",
        "colab": {
          "base_uri": "https://localhost:8080/",
          "height": 452
        },
        "outputId": "80a48225-e971-4ab7-d0f3-3eb13e3d6c74"
      },
      "outputs": [
        {
          "output_type": "display_data",
          "data": {
            "text/plain": [
              "<Figure size 640x480 with 1 Axes>"
            ],
            "image/png": "[encoded data removed]"
          },
          "metadata": {}
        }
      ],
      "source": [
        "# Code for Part 2: Task 1\n",
        "IMG_SIZE = 20\n",
        "\n",
        "X = X_train.reshape(-1, IMG_SIZE, IMG_SIZE, 1)\n",
        "X_val = X_test.reshape(-1, IMG_SIZE, IMG_SIZE, 1)\n",
        "\n",
        "# plot any patch and ground truth\n",
        "index = np.random.randint(len(X))\n",
        "\n",
        "# Plot the patch and its ground-truth label\n",
        "plt.imshow(X_train[index], cmap='gray')\n",
        "plt.title(f\"Label: {Y_train[index]}\")\n",
        "plt.show()"
      ]
    },
    {
      "cell_type": "markdown",
      "metadata": {
        "id": "MxiFo4fEw_tv"
      },
      "source": [
        "### Task 2: Artificial Neural Networks (1 layer)\n",
        "First, lets train our classifier using an artificial neural network with just one layer (perceptron), a fully connected one (dense). This layer will have `softmax` as activation function and only two neurons.\n",
        "\n",
        "The main advantage of using this activation function is the output range. The range of the outputs will be `[0,1]` and the sum of all the probabilities will be equal to one. Generally, if the softmax function is used for a  multi-classification model it returns the probabilities of each class and the target class will have higher probability.\n",
        "\n",
        "Using Keras, define your model. Use these hyperparameters:\n",
        "* Learning Rate = `1e-4`\n",
        "* Batch Size = `8`\n",
        "* Optimizer = `sgd`\n",
        "* Loss metric = `categorical_crossentropy`\n",
        "* Validation metric score in Keras = `accuracy`\n",
        "\n",
        "Check your model architecture with `summary()` function.\n",
        "\n",
        "Since the network is small, it is not recommended to use `Dropout`. Train first for 1-2 epochs to verify that everything works and then train for ~10 epochs. To automatically integrate `wandb` in your Keras `model.fit` function, import `from wandb.keras import WandbMetricsLogger` and add a callback statement: `callbacks=[WandbMetricsLogger()]`. Observe the training and evaluate graphs from `wandb` to decide when to stop training.\n",
        "\n",
        "To evaluate the trained model, test it with the test samples (use `validation_data` in `model.fit` function).\n",
        "\n",
        "### Tip:\n",
        "* Use `.Flatten()` layer first to create a 1D vector in your input layer.\n",
        "* It is highly recommended to write all the tasks in functions and have as an input argument your keras. Then you will be able to re-use them in the next tasks for different keras."
      ]
    },
    {
      "cell_type": "code",
      "execution_count": 8,
      "metadata": {
        "colab": {
          "base_uri": "https://localhost:8080/",
          "height": 1000
        },
        "id": "j56dXue3w_tw",
        "outputId": "9ce664ce-6edc-4ce1-cb85-8a49fdb907cb"
      },
      "outputs": [
        {
          "output_type": "stream",
          "name": "stdout",
          "text": [
            "(2092, 20, 20, 1)\n"
          ]
        },
        {
          "output_type": "display_data",
          "data": {
            "text/plain": [
              "<IPython.core.display.Javascript object>"
            ],
            "application/javascript": [
              "\n",
              "        window._wandbApiKey = new Promise((resolve, reject) => {\n",
              "            function loadScript(url) {\n",
              "            return new Promise(function(resolve, reject) {\n",
              "                let newScript = document.createElement(\"script\");\n",
              "                newScript.onerror = reject;\n",
              "                newScript.onload = resolve;\n",
              "                document.body.appendChild(newScript);\n",
              "                newScript.src = url;\n",
              "            });\n",
              "            }\n",
              "            loadScript(\"https://cdn.jsdelivr.net/npm/postmate/build/postmate.min.js\").then(() => {\n",
              "            const iframe = document.createElement('iframe')\n",
              "            iframe.style.cssText = \"width:0;height:0;border:none\"\n",
              "            document.body.appendChild(iframe)\n",
              "            const handshake = new Postmate({\n",
              "                container: iframe,\n",
              "                url: 'https://wandb.ai/authorize'\n",
              "            });\n",
              "            const timeout = setTimeout(() => reject(\"Couldn't auto authenticate\"), 5000)\n",
              "            handshake.then(function(child) {\n",
              "                child.on('authorize', data => {\n",
              "                    clearTimeout(timeout)\n",
              "                    resolve(data)\n",
              "                });\n",
              "            });\n",
              "            })\n",
              "        });\n",
              "    "
            ]
          },
          "metadata": {}
        },
        {
          "output_type": "stream",
          "name": "stderr",
          "text": [
            "\u001b[34m\u001b[1mwandb\u001b[0m: Logging into wandb.ai. (Learn how to deploy a W&B server locally: https://wandb.me/wandb-server)\n",
            "\u001b[34m\u001b[1mwandb\u001b[0m: You can find your API key in your browser here: https://wandb.ai/authorize\n",
            "wandb: Paste an API key from your profile and hit enter, or press ctrl+c to quit:"
          ]
        },
        {
          "name": "stdout",
          "output_type": "stream",
          "text": [
            " ··········\n"
          ]
        },
        {
          "output_type": "stream",
          "name": "stderr",
          "text": [
            "\u001b[34m\u001b[1mwandb\u001b[0m: Appending key for api.wandb.ai to your netrc file: /root/.netrc\n"
          ]
        },
        {
          "output_type": "display_data",
          "data": {
            "text/plain": [
              "<IPython.core.display.HTML object>"
            ],
            "text/html": [
              "Tracking run with wandb version 0.16.4"
            ]
          },
          "metadata": {}
        },
        {
          "output_type": "display_data",
          "data": {
            "text/plain": [
              "<IPython.core.display.HTML object>"
            ],
            "text/html": [
              "Run data is saved locally in <code>/content/wandb/run-20240321_190142-lh7171gm</code>"
            ]
          },
          "metadata": {}
        },
        {
          "output_type": "display_data",
          "data": {
            "text/plain": [
              "<IPython.core.display.HTML object>"
            ],
            "text/html": [
              "Syncing run <strong><a href='https://wandb.ai/health-info/WPO%205/runs/lh7171gm' target=\"_blank\">magic-music-10</a></strong> to <a href='https://wandb.ai/health-info/WPO%205' target=\"_blank\">Weights & Biases</a> (<a href='https://wandb.me/run' target=\"_blank\">docs</a>)<br/>"
            ]
          },
          "metadata": {}
        },
        {
          "output_type": "display_data",
          "data": {
            "text/plain": [
              "<IPython.core.display.HTML object>"
            ],
            "text/html": [
              " View project at <a href='https://wandb.ai/health-info/WPO%205' target=\"_blank\">https://wandb.ai/health-info/WPO%205</a>"
            ]
          },
          "metadata": {}
        },
        {
          "output_type": "display_data",
          "data": {
            "text/plain": [
              "<IPython.core.display.HTML object>"
            ],
            "text/html": [
              " View run at <a href='https://wandb.ai/health-info/WPO%205/runs/lh7171gm' target=\"_blank\">https://wandb.ai/health-info/WPO%205/runs/lh7171gm</a>"
            ]
          },
          "metadata": {}
        },
        {
          "output_type": "stream",
          "name": "stdout",
          "text": [
            "Epoch 1/20\n",
            "175/175 [==============================] - 1s 2ms/step - loss: 0.6155 - accuracy: 0.6601\n",
            "Epoch 2/20\n",
            "175/175 [==============================] - 0s 1ms/step - loss: 0.5368 - accuracy: 0.7639\n",
            "Epoch 3/20\n",
            "175/175 [==============================] - 0s 2ms/step - loss: 0.5101 - accuracy: 0.7968\n",
            "Epoch 4/20\n",
            "175/175 [==============================] - 0s 2ms/step - loss: 0.4875 - accuracy: 0.8107\n",
            "Epoch 5/20\n",
            "175/175 [==============================] - 0s 1ms/step - loss: 0.4724 - accuracy: 0.8141\n",
            "Epoch 6/20\n",
            "175/175 [==============================] - 0s 2ms/step - loss: 0.4579 - accuracy: 0.8207\n",
            "Epoch 7/20\n",
            "175/175 [==============================] - 0s 1ms/step - loss: 0.4463 - accuracy: 0.8317\n",
            "Epoch 8/20\n",
            "175/175 [==============================] - 0s 1ms/step - loss: 0.4369 - accuracy: 0.8337\n",
            "Epoch 9/20\n",
            "175/175 [==============================] - 0s 1ms/step - loss: 0.4246 - accuracy: 0.8475\n",
            "Epoch 10/20\n",
            "175/175 [==============================] - 0s 1ms/step - loss: 0.4178 - accuracy: 0.8389\n",
            "Epoch 11/20\n",
            "175/175 [==============================] - 0s 1ms/step - loss: 0.4104 - accuracy: 0.8437\n",
            "Epoch 12/20\n",
            "175/175 [==============================] - 0s 1ms/step - loss: 0.4034 - accuracy: 0.8466\n",
            "Epoch 13/20\n",
            "175/175 [==============================] - 0s 1ms/step - loss: 0.3963 - accuracy: 0.8489\n",
            "Epoch 14/20\n",
            "175/175 [==============================] - 0s 2ms/step - loss: 0.3915 - accuracy: 0.8489\n",
            "Epoch 15/20\n",
            "175/175 [==============================] - 0s 2ms/step - loss: 0.3873 - accuracy: 0.8542\n",
            "Epoch 16/20\n",
            "175/175 [==============================] - 0s 2ms/step - loss: 0.3814 - accuracy: 0.8556\n",
            "Epoch 17/20\n",
            "175/175 [==============================] - 0s 2ms/step - loss: 0.3773 - accuracy: 0.8509\n",
            "Epoch 18/20\n",
            "175/175 [==============================] - 0s 2ms/step - loss: 0.3741 - accuracy: 0.8590\n",
            "Epoch 19/20\n",
            "175/175 [==============================] - 0s 2ms/step - loss: 0.3711 - accuracy: 0.8585\n",
            "Epoch 20/20\n",
            "175/175 [==============================] - 0s 2ms/step - loss: 0.3689 - accuracy: 0.8590\n",
            "Model: \"sequential\"\n",
            "_________________________________________________________________\n",
            " Layer (type)                Output Shape              Param #   \n",
            "=================================================================\n",
            " flatten (Flatten)           (None, 400)               0         \n",
            "                                                                 \n",
            " dense (Dense)               (None, 2)                 802       \n",
            "                                                                 \n",
            "=================================================================\n",
            "Total params: 802 (3.13 KB)\n",
            "Trainable params: 802 (3.13 KB)\n",
            "Non-trainable params: 0 (0.00 Byte)\n",
            "_________________________________________________________________\n",
            "Epoch 1/20\n",
            "175/175 [==============================] - 1s 3ms/step - loss: 0.3652 - accuracy: 0.8614 - val_loss: 0.4725 - val_accuracy: 0.8026\n",
            "Epoch 2/20\n",
            "175/175 [==============================] - 0s 2ms/step - loss: 0.3620 - accuracy: 0.8590 - val_loss: 0.4678 - val_accuracy: 0.7983\n",
            "Epoch 3/20\n",
            "175/175 [==============================] - 0s 2ms/step - loss: 0.3584 - accuracy: 0.8623 - val_loss: 0.4819 - val_accuracy: 0.7983\n",
            "Epoch 4/20\n",
            "175/175 [==============================] - 0s 2ms/step - loss: 0.3575 - accuracy: 0.8633 - val_loss: 0.4632 - val_accuracy: 0.8112\n",
            "Epoch 5/20\n",
            "175/175 [==============================] - 0s 2ms/step - loss: 0.3537 - accuracy: 0.8647 - val_loss: 0.4702 - val_accuracy: 0.8112\n",
            "Epoch 6/20\n",
            "175/175 [==============================] - 0s 2ms/step - loss: 0.3525 - accuracy: 0.8709 - val_loss: 0.4602 - val_accuracy: 0.8069\n",
            "Epoch 7/20\n",
            "175/175 [==============================] - 0s 2ms/step - loss: 0.3492 - accuracy: 0.8628 - val_loss: 0.4597 - val_accuracy: 0.8112\n",
            "Epoch 8/20\n",
            "175/175 [==============================] - 0s 2ms/step - loss: 0.3489 - accuracy: 0.8681 - val_loss: 0.4593 - val_accuracy: 0.7983\n",
            "Epoch 9/20\n",
            "175/175 [==============================] - 0s 3ms/step - loss: 0.3454 - accuracy: 0.8628 - val_loss: 0.4612 - val_accuracy: 0.8240\n",
            "Epoch 10/20\n",
            "175/175 [==============================] - 0s 3ms/step - loss: 0.3447 - accuracy: 0.8700 - val_loss: 0.4531 - val_accuracy: 0.8240\n",
            "Epoch 11/20\n",
            "175/175 [==============================] - 1s 3ms/step - loss: 0.3429 - accuracy: 0.8700 - val_loss: 0.4551 - val_accuracy: 0.8197\n",
            "Epoch 12/20\n",
            "175/175 [==============================] - 1s 3ms/step - loss: 0.3411 - accuracy: 0.8685 - val_loss: 0.4523 - val_accuracy: 0.8197\n",
            "Epoch 13/20\n",
            "175/175 [==============================] - 0s 3ms/step - loss: 0.3374 - accuracy: 0.8767 - val_loss: 0.4692 - val_accuracy: 0.8069\n",
            "Epoch 14/20\n",
            "175/175 [==============================] - 1s 3ms/step - loss: 0.3399 - accuracy: 0.8695 - val_loss: 0.4475 - val_accuracy: 0.8026\n",
            "Epoch 15/20\n",
            "175/175 [==============================] - 0s 3ms/step - loss: 0.3358 - accuracy: 0.8690 - val_loss: 0.4535 - val_accuracy: 0.8197\n",
            "Epoch 16/20\n",
            "175/175 [==============================] - 0s 2ms/step - loss: 0.3359 - accuracy: 0.8728 - val_loss: 0.4489 - val_accuracy: 0.8326\n",
            "Epoch 17/20\n",
            "175/175 [==============================] - 0s 2ms/step - loss: 0.3333 - accuracy: 0.8748 - val_loss: 0.4446 - val_accuracy: 0.8155\n",
            "Epoch 18/20\n",
            "175/175 [==============================] - 0s 2ms/step - loss: 0.3331 - accuracy: 0.8748 - val_loss: 0.4439 - val_accuracy: 0.8240\n",
            "Epoch 19/20\n",
            "175/175 [==============================] - 0s 2ms/step - loss: 0.3309 - accuracy: 0.8728 - val_loss: 0.4493 - val_accuracy: 0.8240\n",
            "Epoch 20/20\n",
            "175/175 [==============================] - 0s 2ms/step - loss: 0.3306 - accuracy: 0.8743 - val_loss: 0.4429 - val_accuracy: 0.8026\n"
          ]
        }
      ],
      "source": [
        "# Code for Part 2: Task 2\n",
        "from wandb.keras import WandbMetricsLogger\n",
        "print(X.shape)\n",
        "\n",
        "model = keras.Sequential()\n",
        "\n",
        "model.add(keras.layers.Flatten(input_shape=(20, 20, 1)))\n",
        "model.add(keras.layers.Dense(2, activation='softmax'))\n",
        "model.compile(optimizer = keras.optimizers.SGD(learning_rate=1e-2), loss='categorical_crossentropy', metrics='accuracy', )\n",
        "wandb.init(project='WPO 5')\n",
        "\n",
        "model.fit(X, Y_train, epochs = 20, callbacks=[WandbMetricsLogger()], batch_size=12)\n",
        "model.summary()\n",
        "# To automatically integrate wandb in your Keras model.fit function,\n",
        "\n",
        "history = model.fit(X, Y_train, epochs=20, validation_data=(X_val, Y_test), callbacks=[WandbMetricsLogger()], batch_size=12)"
      ]
    },
    {
      "cell_type": "markdown",
      "metadata": {
        "id": "KCHB4e-tw_tw"
      },
      "source": [
        "### Task 3: Test the model\n",
        "In this section you are going to write a <b>generic</b> validation function to assess the performance of out trained models. To do so, we will need the following modules from `sklearn`:\n",
        "- `confusion_matrix`\n",
        "- `accuracy_score`\n",
        "- `roc_curve`\n",
        "\n",
        "Import the modules and create a `python` function which takes two input arguments (validation test data and its GT labels). Use `model.predict` method to predict the class of our test set. Using the function print the `confusion_matrix`, `accuracy_score` and a `roc_curve` of this specific model.\n",
        "\n",
        "Use to function to assess the performance of your first train model. Print all of the validation metrics and a ROC curve.\n",
        "\n",
        "__Hint__: For the calculation of `confusion_matrix` and `accuracy_score` you need to transform your predicted and GT labels using `np.argmax`.\n",
        "\n",
        "__Hint__: For the calculation of `roc_curve` take only the second column of the predicted one-hot label e.g. `test_preds = test_preds[:,1]`\n",
        "\n",
        "Explain these graphs and the ROC curve. What role does the decision threshold play and why it is so important? Can we have a single value as the decision threshold? Why?"
      ]
    },
    {
      "cell_type": "code",
      "execution_count": null,
      "metadata": {
        "id": "96ksnO_Sw_tw"
      },
      "outputs": [],
      "source": [
        "# Answer to the question\n"
      ]
    },
    {
      "cell_type": "code",
      "execution_count": 9,
      "metadata": {
        "colab": {
          "base_uri": "https://localhost:8080/",
          "height": 563
        },
        "id": "Yh2FQbTuw_tx",
        "outputId": "a84b3e81-8bcc-4fec-efd3-79af8c8e20ae"
      },
      "outputs": [
        {
          "output_type": "stream",
          "name": "stdout",
          "text": [
            "8/8 [==============================] - 0s 5ms/step\n",
            "the confusion matrix is:\n",
            "[[ 75  24]\n",
            " [ 22 112]]\n",
            "the accuracy score is: 0.8025751072961373\n"
          ]
        },
        {
          "output_type": "display_data",
          "data": {
            "text/plain": [
              "<Figure size 640x480 with 1 Axes>"
            ],
            "image/png": "[encoded data removed]"
          },
          "metadata": {}
        }
      ],
      "source": [
        "\n",
        "from sklearn.metrics import confusion_matrix, accuracy_score, roc_curve\n",
        "\n",
        "def perfomance_assessing(model, X_val, Y_test, name):\n",
        "    # Predict the class probabilities for the validation set\n",
        "    y_pred_proba = model.predict(X_val)\n",
        "    # transform your predicted and GT labels\n",
        "    prediction = np.argmax(y_pred_proba, axis=1) #Returns the indices of the maximum values along an axis.\n",
        "    # Convert ground truth labels to class labels\n",
        "    y_true = np.argmax(Y_test, axis=1)\n",
        "    #confusion matrix\n",
        "    confusion = confusion_matrix(y_true, prediction)\n",
        "    print(\"the confusion matrix is:\")\n",
        "    print(confusion)\n",
        "\n",
        "    #accuracy score\n",
        "    accuracy = accuracy_score(y_true, prediction)\n",
        "    print(\"the accuracy score is:\", accuracy)\n",
        "\n",
        "    #ROC curve\n",
        "    fpr, tpr, thresholds = roc_curve(y_true, y_pred_proba[:, 1]) #false positive rate, true positive rate, decreasing thresholds on the decision function used to compute fpr and tpr\n",
        "    plt.figure()\n",
        "    plt.plot(fpr, tpr, color='blue', lw=2, label='ROC curve')\n",
        "    plt.plot([0, 1], [0, 1], color='gray', lw=2, linestyle='--', label='Random')\n",
        "    plt.xlim([0.0, 1.0])\n",
        "    plt.ylim([0.0, 1.05])\n",
        "    plt.xlabel('False Positive Rate')\n",
        "    plt.ylabel('True Positive Rate')\n",
        "    plt.title(f'ROC Curve {name}')\n",
        "    plt.legend(loc=\"lower right\")\n",
        "    plt.show()\n",
        "\n",
        "    return confusion, accuracy, (fpr, tpr, thresholds)\n",
        "\n",
        "confusion_matrix_model, accuracy_model, (fpr, tpr, thresholds) = perfomance_assessing(model, X_val, Y_test, '1 layer')\n"
      ]
    },
    {
      "cell_type": "markdown",
      "metadata": {
        "id": "fU6-4hAOw_tx"
      },
      "source": [
        "### Task 4.1: Artificial Neural Networks (3 layers) - Let's go deep!\n",
        "\n",
        "From now on, we will try various networks with increasing complexity. Make sure with every network/parameter change, you update any hyperameters; you test and evaluate the new model with the previously used evaluation metrics (ROC curve, confusion matrix...). Moreover, every time check the training curves in `wandb`.\n",
        "\n",
        "Let's try 3 fully-connected layers using `sigmoid` activation function.\n",
        "\n",
        "Here is an example network but you are free to choose your own network.\n",
        "* 1st dense layer with 80 neurons, `sigmoid` activation\n",
        "* 2nd dense layer with 40 neurons, `sigmoid` activation\n",
        "* 3rd dense layer with 2 neurons and `softmax` activation\n",
        "* optimizer: `sgd`\n",
        "* learning rate: `1e-4`\n",
        "\n",
        "Explain your network's architecture and **test** your system as you did for the previous simple neural network. What do you observe? Make sure you tune again any hyperparameters like the amount of training epochs. Choose different values for the learning rate, number of epochs and batch size (e.g. 10, 20, 30...). Can you find some training curves which indicate **underfitting** and **overfitting**? If so, what network parameters play a crucial role in observing **underfitting** or **overfitting**?\n",
        "\n",
        "**Remark:** Some deeper models require more training to reach their optimal performance. If possible with your computational resources, try to train them for more epochs until no increase in accuracy is observed."
      ]
    },
    {
      "cell_type": "code",
      "execution_count": null,
      "metadata": {
        "id": "Aa1LItpRw_ty"
      },
      "outputs": [],
      "source": [
        "# Answer to the question"
      ]
    },
    {
      "cell_type": "code",
      "execution_count": 10,
      "metadata": {
        "colab": {
          "base_uri": "https://localhost:8080/",
          "height": 1000,
          "referenced_widgets": [
            "4955dfe9b42b4600b464ce4810cae843",
            "3f29b028636f4cdd813a70c214bff8d5",
            "d7b0c53b8da14bb0a513964169977ab2",
            "26550fdb563e45a5a8e64528f5811e03",
            "aa70407210df45698e567aa99e9ad7a0",
            "3179e617338a4e73bd81057cc615e277",
            "8ade30180d974096a17cb789499c7cb3",
            "197f714649db4e6dba8b6680467f5c7c",
            "1c5f50b65de6460f81b34639d10f31a6",
            "7fc8873ad28c483e97b96078b70553a1",
            "64b0e0335ba24d4da5a3ed9bf73064a7",
            "657e85aed505498193a5959a075efe33",
            "4e6da27ea5dc4aa7b444c94927e5333e",
            "67a839166bec40d8a4361771b26faeb8",
            "1f4d50c1f05f464b9a5ed8c1b0092d46",
            "9b2536f1fe004ce687135ee2fcdfef90",
            "5acad07cc58f4d90b8360e61e66496a7",
            "757b226a7f604eaebfc96798a238cbf1",
            "6e0c1b546c214f88a5067a3cdc4e385e",
            "468698d3e2ea44d0b65e3179e70843d7",
            "be31749e95d54ef1b4c63d4f4939f7b4",
            "5a8b0d83a0e643e6b9b53e5cedea84e9",
            "e15584436ee74f679e5f4269d92cf7d0",
            "4448c66f6ec3474a8dc1930a090602f2",
            "40eb8d680bf24b51b715422fdf1f8c39",
            "a2bec43222df4c54bd3677556e3bba0f",
            "2afa6c3e2041494e8cdcbb22d3662638",
            "f5fb1ac6a0a24023afe46eb1c7de2baa",
            "fac510d668ea455ca0769e74e2b849d7",
            "0a17338f5c9040358bca347d8e9ec4f1",
            "163f96daa4bb4e80b662fe0074e00f42",
            "08235b3e97d4434cbec66be20e19a492"
          ]
        },
        "id": "s24svd9Rw_ty",
        "outputId": "6f33c50f-55ae-49c5-bd09-7b81a709a763"
      },
      "outputs": [
        {
          "output_type": "stream",
          "name": "stdout",
          "text": [
            "X: (2092, 20, 20, 1)\n",
            "Y_train: (2092, 2)\n"
          ]
        },
        {
          "output_type": "display_data",
          "data": {
            "text/plain": [
              "<IPython.core.display.HTML object>"
            ],
            "text/html": [
              "Finishing last run (ID:lh7171gm) before initializing another..."
            ]
          },
          "metadata": {}
        },
        {
          "output_type": "display_data",
          "data": {
            "text/plain": [
              "VBox(children=(Label(value='0.001 MB of 0.001 MB uploaded\\r'), FloatProgress(value=1.0, max=1.0)))"
            ],
            "application/vnd.jupyter.widget-view+json": {
              "version_major": 2,
              "version_minor": 0,
              "model_id": "4955dfe9b42b4600b464ce4810cae843"
            }
          },
          "metadata": {}
        },
        {
          "output_type": "display_data",
          "data": {
            "text/plain": [
              "<IPython.core.display.HTML object>"
            ],
            "text/html": [
              "<style>\n",
              "    table.wandb td:nth-child(1) { padding: 0 10px; text-align: left ; width: auto;} td:nth-child(2) {text-align: left ; width: 100%}\n",
              "    .wandb-row { display: flex; flex-direction: row; flex-wrap: wrap; justify-content: flex-start; width: 100% }\n",
              "    .wandb-col { display: flex; flex-direction: column; flex-basis: 100%; flex: 1; padding: 10px; }\n",
              "    </style>\n",
              "<div class=\"wandb-row\"><div class=\"wandb-col\"><h3>Run history:</h3><br/><table class=\"wandb\"><tr><td>epoch/accuracy</td><td>▁▄▅▆▆▆▇▇▇▇▇▇▇▇▇▇▇▇▇▇█▇██████████████████</td></tr><tr><td>epoch/epoch</td><td>▁▁▂▂▂▃▃▄▄▄▅▅▅▆▆▇▇▇██▁▁▂▂▂▃▃▄▄▄▅▅▅▆▆▇▇▇██</td></tr><tr><td>epoch/learning_rate</td><td>▁▁▁▁▁▁▁▁▁▁▁▁▁▁▁▁▁▁▁▁▁▁▁▁▁▁▁▁▁▁▁▁▁▁▁▁▁▁▁▁</td></tr><tr><td>epoch/loss</td><td>█▆▅▅▄▄▄▄▃▃▃▃▃▂▂▂▂▂▂▂▂▂▂▂▂▂▁▁▁▁▁▁▁▁▁▁▁▁▁▁</td></tr><tr><td>epoch/val_accuracy</td><td>▂▁▁▄▄▃▄▁▆▆▅▅▃▂▅█▅▆▆▂</td></tr><tr><td>epoch/val_loss</td><td>▆▅█▅▆▄▄▄▄▃▃▃▆▂▃▂▁▁▂▁</td></tr></table><br/></div><div class=\"wandb-col\"><h3>Run summary:</h3><br/><table class=\"wandb\"><tr><td>epoch/accuracy</td><td>0.87428</td></tr><tr><td>epoch/epoch</td><td>19</td></tr><tr><td>epoch/learning_rate</td><td>0.01</td></tr><tr><td>epoch/loss</td><td>0.33061</td></tr><tr><td>epoch/val_accuracy</td><td>0.80258</td></tr><tr><td>epoch/val_loss</td><td>0.44287</td></tr></table><br/></div></div>"
            ]
          },
          "metadata": {}
        },
        {
          "output_type": "display_data",
          "data": {
            "text/plain": [
              "<IPython.core.display.HTML object>"
            ],
            "text/html": [
              " View run <strong style=\"color:#cdcd00\">magic-music-10</strong> at: <a href='https://wandb.ai/health-info/WPO%205/runs/lh7171gm' target=\"_blank\">https://wandb.ai/health-info/WPO%205/runs/lh7171gm</a><br/>Synced 5 W&B file(s), 0 media file(s), 0 artifact file(s) and 0 other file(s)"
            ]
          },
          "metadata": {}
        },
        {
          "output_type": "display_data",
          "data": {
            "text/plain": [
              "<IPython.core.display.HTML object>"
            ],
            "text/html": [
              "Find logs at: <code>./wandb/run-20240321_190142-lh7171gm/logs</code>"
            ]
          },
          "metadata": {}
        },
        {
          "output_type": "display_data",
          "data": {
            "text/plain": [
              "<IPython.core.display.HTML object>"
            ],
            "text/html": [
              "Successfully finished last run (ID:lh7171gm). Initializing new run:<br/>"
            ]
          },
          "metadata": {}
        },
        {
          "output_type": "display_data",
          "data": {
            "text/plain": [
              "<IPython.core.display.HTML object>"
            ],
            "text/html": [
              "Tracking run with wandb version 0.16.4"
            ]
          },
          "metadata": {}
        },
        {
          "output_type": "display_data",
          "data": {
            "text/plain": [
              "<IPython.core.display.HTML object>"
            ],
            "text/html": [
              "Run data is saved locally in <code>/content/wandb/run-20240321_190322-huksn69v</code>"
            ]
          },
          "metadata": {}
        },
        {
          "output_type": "display_data",
          "data": {
            "text/plain": [
              "<IPython.core.display.HTML object>"
            ],
            "text/html": [
              "Syncing run <strong><a href='https://wandb.ai/health-info/WPO%205%20task%204.1/runs/huksn69v' target=\"_blank\">electric-sun-17</a></strong> to <a href='https://wandb.ai/health-info/WPO%205%20task%204.1' target=\"_blank\">Weights & Biases</a> (<a href='https://wandb.me/run' target=\"_blank\">docs</a>)<br/>"
            ]
          },
          "metadata": {}
        },
        {
          "output_type": "display_data",
          "data": {
            "text/plain": [
              "<IPython.core.display.HTML object>"
            ],
            "text/html": [
              " View project at <a href='https://wandb.ai/health-info/WPO%205%20task%204.1' target=\"_blank\">https://wandb.ai/health-info/WPO%205%20task%204.1</a>"
            ]
          },
          "metadata": {}
        },
        {
          "output_type": "display_data",
          "data": {
            "text/plain": [
              "<IPython.core.display.HTML object>"
            ],
            "text/html": [
              " View run at <a href='https://wandb.ai/health-info/WPO%205%20task%204.1/runs/huksn69v' target=\"_blank\">https://wandb.ai/health-info/WPO%205%20task%204.1/runs/huksn69v</a>"
            ]
          },
          "metadata": {}
        },
        {
          "output_type": "stream",
          "name": "stdout",
          "text": [
            "Epoch 1/20\n",
            "175/175 [==============================] - 1s 4ms/step - loss: 0.7009 - accuracy: 0.5368\n",
            "Epoch 2/20\n",
            "175/175 [==============================] - 1s 6ms/step - loss: 0.6791 - accuracy: 0.5942\n",
            "Epoch 3/20\n",
            "175/175 [==============================] - 1s 5ms/step - loss: 0.6698 - accuracy: 0.6372\n",
            "Epoch 4/20\n",
            "175/175 [==============================] - 1s 5ms/step - loss: 0.6608 - accuracy: 0.6711\n",
            "Epoch 5/20\n",
            "175/175 [==============================] - 1s 6ms/step - loss: 0.6483 - accuracy: 0.6989\n",
            "Epoch 6/20\n",
            "175/175 [==============================] - 1s 8ms/step - loss: 0.6367 - accuracy: 0.7266\n",
            "Epoch 7/20\n",
            "175/175 [==============================] - 1s 7ms/step - loss: 0.6233 - accuracy: 0.7395\n",
            "Epoch 8/20\n",
            "175/175 [==============================] - 1s 5ms/step - loss: 0.6073 - accuracy: 0.7553\n",
            "Epoch 9/20\n",
            "175/175 [==============================] - 1s 6ms/step - loss: 0.5920 - accuracy: 0.7424\n",
            "Epoch 10/20\n",
            "175/175 [==============================] - 1s 5ms/step - loss: 0.5745 - accuracy: 0.7653\n",
            "Epoch 11/20\n",
            "175/175 [==============================] - 1s 3ms/step - loss: 0.5569 - accuracy: 0.7691\n",
            "Epoch 12/20\n",
            "175/175 [==============================] - 1s 3ms/step - loss: 0.5396 - accuracy: 0.7768\n",
            "Epoch 13/20\n",
            "175/175 [==============================] - 1s 3ms/step - loss: 0.5227 - accuracy: 0.7835\n",
            "Epoch 14/20\n",
            "175/175 [==============================] - 1s 3ms/step - loss: 0.5069 - accuracy: 0.7772\n",
            "Epoch 15/20\n",
            "175/175 [==============================] - 0s 3ms/step - loss: 0.4920 - accuracy: 0.7868\n",
            "Epoch 16/20\n",
            "175/175 [==============================] - 0s 2ms/step - loss: 0.4802 - accuracy: 0.7835\n",
            "Epoch 17/20\n",
            "175/175 [==============================] - 0s 2ms/step - loss: 0.4700 - accuracy: 0.7835\n",
            "Epoch 18/20\n",
            "175/175 [==============================] - 0s 3ms/step - loss: 0.4602 - accuracy: 0.7820\n",
            "Epoch 19/20\n",
            "175/175 [==============================] - 0s 2ms/step - loss: 0.4528 - accuracy: 0.7854\n",
            "Epoch 20/20\n",
            "175/175 [==============================] - 0s 2ms/step - loss: 0.4446 - accuracy: 0.7916\n",
            "Model: \"sequential_1\"\n",
            "_________________________________________________________________\n",
            " Layer (type)                Output Shape              Param #   \n",
            "=================================================================\n",
            " flatten_1 (Flatten)         (None, 400)               0         \n",
            "                                                                 \n",
            " dense_1 (Dense)             (None, 80)                32080     \n",
            "                                                                 \n",
            " dense_2 (Dense)             (None, 40)                3240      \n",
            "                                                                 \n",
            " dense_3 (Dense)             (None, 2)                 82        \n",
            "                                                                 \n",
            "=================================================================\n",
            "Total params: 35402 (138.29 KB)\n",
            "Trainable params: 35402 (138.29 KB)\n",
            "Non-trainable params: 0 (0.00 Byte)\n",
            "_________________________________________________________________\n"
          ]
        },
        {
          "output_type": "display_data",
          "data": {
            "text/plain": [
              "<IPython.core.display.HTML object>"
            ],
            "text/html": [
              "Finishing last run (ID:huksn69v) before initializing another..."
            ]
          },
          "metadata": {}
        },
        {
          "output_type": "display_data",
          "data": {
            "text/plain": [
              "VBox(children=(Label(value='0.013 MB of 0.013 MB uploaded\\r'), FloatProgress(value=1.0, max=1.0)))"
            ],
            "application/vnd.jupyter.widget-view+json": {
              "version_major": 2,
              "version_minor": 0,
              "model_id": "1c5f50b65de6460f81b34639d10f31a6"
            }
          },
          "metadata": {}
        },
        {
          "output_type": "display_data",
          "data": {
            "text/plain": [
              "<IPython.core.display.HTML object>"
            ],
            "text/html": [
              "<style>\n",
              "    table.wandb td:nth-child(1) { padding: 0 10px; text-align: left ; width: auto;} td:nth-child(2) {text-align: left ; width: 100%}\n",
              "    .wandb-row { display: flex; flex-direction: row; flex-wrap: wrap; justify-content: flex-start; width: 100% }\n",
              "    .wandb-col { display: flex; flex-direction: column; flex-basis: 100%; flex: 1; padding: 10px; }\n",
              "    </style>\n",
              "<div class=\"wandb-row\"><div class=\"wandb-col\"><h3>Run history:</h3><br/><table class=\"wandb\"><tr><td>epoch/accuracy</td><td>▁▃▄▅▅▆▇▇▇▇▇█████████</td></tr><tr><td>epoch/epoch</td><td>▁▁▂▂▂▃▃▄▄▄▅▅▅▆▆▇▇▇██</td></tr><tr><td>epoch/learning_rate</td><td>▁▁▁▁▁▁▁▁▁▁▁▁▁▁▁▁▁▁▁▁</td></tr><tr><td>epoch/loss</td><td>█▇▇▇▇▆▆▅▅▅▄▄▃▃▂▂▂▁▁▁</td></tr></table><br/></div><div class=\"wandb-col\"><h3>Run summary:</h3><br/><table class=\"wandb\"><tr><td>epoch/accuracy</td><td>0.79159</td></tr><tr><td>epoch/epoch</td><td>19</td></tr><tr><td>epoch/learning_rate</td><td>0.01</td></tr><tr><td>epoch/loss</td><td>0.44456</td></tr></table><br/></div></div>"
            ]
          },
          "metadata": {}
        },
        {
          "output_type": "display_data",
          "data": {
            "text/plain": [
              "<IPython.core.display.HTML object>"
            ],
            "text/html": [
              " View run <strong style=\"color:#cdcd00\">electric-sun-17</strong> at: <a href='https://wandb.ai/health-info/WPO%205%20task%204.1/runs/huksn69v' target=\"_blank\">https://wandb.ai/health-info/WPO%205%20task%204.1/runs/huksn69v</a><br/>Synced 5 W&B file(s), 0 media file(s), 0 artifact file(s) and 0 other file(s)"
            ]
          },
          "metadata": {}
        },
        {
          "output_type": "display_data",
          "data": {
            "text/plain": [
              "<IPython.core.display.HTML object>"
            ],
            "text/html": [
              "Find logs at: <code>./wandb/run-20240321_190322-huksn69v/logs</code>"
            ]
          },
          "metadata": {}
        },
        {
          "output_type": "display_data",
          "data": {
            "text/plain": [
              "<IPython.core.display.HTML object>"
            ],
            "text/html": [
              "Successfully finished last run (ID:huksn69v). Initializing new run:<br/>"
            ]
          },
          "metadata": {}
        },
        {
          "output_type": "display_data",
          "data": {
            "text/plain": [
              "<IPython.core.display.HTML object>"
            ],
            "text/html": [
              "Tracking run with wandb version 0.16.4"
            ]
          },
          "metadata": {}
        },
        {
          "output_type": "display_data",
          "data": {
            "text/plain": [
              "<IPython.core.display.HTML object>"
            ],
            "text/html": [
              "Run data is saved locally in <code>/content/wandb/run-20240321_190347-gbx53av5</code>"
            ]
          },
          "metadata": {}
        },
        {
          "output_type": "display_data",
          "data": {
            "text/plain": [
              "<IPython.core.display.HTML object>"
            ],
            "text/html": [
              "Syncing run <strong><a href='https://wandb.ai/health-info/WPO%205%20task%204.1/runs/gbx53av5' target=\"_blank\">rosy-eon-18</a></strong> to <a href='https://wandb.ai/health-info/WPO%205%20task%204.1' target=\"_blank\">Weights & Biases</a> (<a href='https://wandb.me/run' target=\"_blank\">docs</a>)<br/>"
            ]
          },
          "metadata": {}
        },
        {
          "output_type": "display_data",
          "data": {
            "text/plain": [
              "<IPython.core.display.HTML object>"
            ],
            "text/html": [
              " View project at <a href='https://wandb.ai/health-info/WPO%205%20task%204.1' target=\"_blank\">https://wandb.ai/health-info/WPO%205%20task%204.1</a>"
            ]
          },
          "metadata": {}
        },
        {
          "output_type": "display_data",
          "data": {
            "text/plain": [
              "<IPython.core.display.HTML object>"
            ],
            "text/html": [
              " View run at <a href='https://wandb.ai/health-info/WPO%205%20task%204.1/runs/gbx53av5' target=\"_blank\">https://wandb.ai/health-info/WPO%205%20task%204.1/runs/gbx53av5</a>"
            ]
          },
          "metadata": {}
        },
        {
          "output_type": "stream",
          "name": "stdout",
          "text": [
            "Epoch 1/20\n",
            "88/88 [==============================] - 1s 3ms/step - loss: 0.6921 - accuracy: 0.5793\n",
            "Epoch 2/20\n",
            "88/88 [==============================] - 0s 3ms/step - loss: 0.6780 - accuracy: 0.5837\n",
            "Epoch 3/20\n",
            "88/88 [==============================] - 0s 3ms/step - loss: 0.6728 - accuracy: 0.6305\n",
            "Epoch 4/20\n",
            "88/88 [==============================] - 0s 3ms/step - loss: 0.6667 - accuracy: 0.6663\n",
            "Epoch 5/20\n",
            "88/88 [==============================] - 0s 2ms/step - loss: 0.6621 - accuracy: 0.6530\n",
            "Epoch 6/20\n",
            "88/88 [==============================] - 0s 3ms/step - loss: 0.6562 - accuracy: 0.6922\n",
            "Epoch 7/20\n",
            "88/88 [==============================] - 0s 3ms/step - loss: 0.6511 - accuracy: 0.6716\n",
            "Epoch 8/20\n",
            "88/88 [==============================] - 0s 3ms/step - loss: 0.6445 - accuracy: 0.7409\n",
            "Epoch 9/20\n",
            "88/88 [==============================] - 0s 3ms/step - loss: 0.6379 - accuracy: 0.6912\n",
            "Epoch 10/20\n",
            "88/88 [==============================] - 0s 3ms/step - loss: 0.6319 - accuracy: 0.7304\n",
            "Epoch 11/20\n",
            "88/88 [==============================] - 0s 3ms/step - loss: 0.6238 - accuracy: 0.7204\n",
            "Epoch 12/20\n",
            "88/88 [==============================] - 0s 3ms/step - loss: 0.6177 - accuracy: 0.7476\n",
            "Epoch 13/20\n",
            "88/88 [==============================] - 0s 3ms/step - loss: 0.6091 - accuracy: 0.7538\n",
            "Epoch 14/20\n",
            "88/88 [==============================] - 0s 3ms/step - loss: 0.6025 - accuracy: 0.7605\n",
            "Epoch 15/20\n",
            "88/88 [==============================] - 0s 3ms/step - loss: 0.5947 - accuracy: 0.7725\n",
            "Epoch 16/20\n",
            "88/88 [==============================] - 0s 3ms/step - loss: 0.5855 - accuracy: 0.7667\n",
            "Epoch 17/20\n",
            "88/88 [==============================] - 0s 3ms/step - loss: 0.5777 - accuracy: 0.7729\n",
            "Epoch 18/20\n",
            "88/88 [==============================] - 0s 3ms/step - loss: 0.5690 - accuracy: 0.7744\n",
            "Epoch 19/20\n",
            "88/88 [==============================] - 0s 3ms/step - loss: 0.5597 - accuracy: 0.7782\n",
            "Epoch 20/20\n",
            "88/88 [==============================] - 0s 2ms/step - loss: 0.5513 - accuracy: 0.7787\n",
            "Model: \"sequential_2\"\n",
            "_________________________________________________________________\n",
            " Layer (type)                Output Shape              Param #   \n",
            "=================================================================\n",
            " flatten_2 (Flatten)         (None, 400)               0         \n",
            "                                                                 \n",
            " dense_4 (Dense)             (None, 80)                32080     \n",
            "                                                                 \n",
            " dense_5 (Dense)             (None, 40)                3240      \n",
            "                                                                 \n",
            " dense_6 (Dense)             (None, 2)                 82        \n",
            "                                                                 \n",
            "=================================================================\n",
            "Total params: 35402 (138.29 KB)\n",
            "Trainable params: 35402 (138.29 KB)\n",
            "Non-trainable params: 0 (0.00 Byte)\n",
            "_________________________________________________________________\n"
          ]
        },
        {
          "output_type": "display_data",
          "data": {
            "text/plain": [
              "<IPython.core.display.HTML object>"
            ],
            "text/html": [
              "Finishing last run (ID:gbx53av5) before initializing another..."
            ]
          },
          "metadata": {}
        },
        {
          "output_type": "display_data",
          "data": {
            "text/plain": [
              "VBox(children=(Label(value='0.001 MB of 0.001 MB uploaded\\r'), FloatProgress(value=1.0, max=1.0)))"
            ],
            "application/vnd.jupyter.widget-view+json": {
              "version_major": 2,
              "version_minor": 0,
              "model_id": "5acad07cc58f4d90b8360e61e66496a7"
            }
          },
          "metadata": {}
        },
        {
          "output_type": "display_data",
          "data": {
            "text/plain": [
              "<IPython.core.display.HTML object>"
            ],
            "text/html": [
              "<style>\n",
              "    table.wandb td:nth-child(1) { padding: 0 10px; text-align: left ; width: auto;} td:nth-child(2) {text-align: left ; width: 100%}\n",
              "    .wandb-row { display: flex; flex-direction: row; flex-wrap: wrap; justify-content: flex-start; width: 100% }\n",
              "    .wandb-col { display: flex; flex-direction: column; flex-basis: 100%; flex: 1; padding: 10px; }\n",
              "    </style>\n",
              "<div class=\"wandb-row\"><div class=\"wandb-col\"><h3>Run history:</h3><br/><table class=\"wandb\"><tr><td>epoch/accuracy</td><td>▁▁▃▄▄▅▄▇▅▆▆▇▇▇██████</td></tr><tr><td>epoch/epoch</td><td>▁▁▂▂▂▃▃▄▄▄▅▅▅▆▆▇▇▇██</td></tr><tr><td>epoch/learning_rate</td><td>▁▁▁▁▁▁▁▁▁▁▁▁▁▁▁▁▁▁▁▁</td></tr><tr><td>epoch/loss</td><td>█▇▇▇▇▆▆▆▅▅▅▄▄▄▃▃▂▂▁▁</td></tr></table><br/></div><div class=\"wandb-col\"><h3>Run summary:</h3><br/><table class=\"wandb\"><tr><td>epoch/accuracy</td><td>0.77868</td></tr><tr><td>epoch/epoch</td><td>19</td></tr><tr><td>epoch/learning_rate</td><td>0.01</td></tr><tr><td>epoch/loss</td><td>0.55125</td></tr></table><br/></div></div>"
            ]
          },
          "metadata": {}
        },
        {
          "output_type": "display_data",
          "data": {
            "text/plain": [
              "<IPython.core.display.HTML object>"
            ],
            "text/html": [
              " View run <strong style=\"color:#cdcd00\">rosy-eon-18</strong> at: <a href='https://wandb.ai/health-info/WPO%205%20task%204.1/runs/gbx53av5' target=\"_blank\">https://wandb.ai/health-info/WPO%205%20task%204.1/runs/gbx53av5</a><br/>Synced 5 W&B file(s), 0 media file(s), 0 artifact file(s) and 0 other file(s)"
            ]
          },
          "metadata": {}
        },
        {
          "output_type": "display_data",
          "data": {
            "text/plain": [
              "<IPython.core.display.HTML object>"
            ],
            "text/html": [
              "Find logs at: <code>./wandb/run-20240321_190347-gbx53av5/logs</code>"
            ]
          },
          "metadata": {}
        },
        {
          "output_type": "display_data",
          "data": {
            "text/plain": [
              "<IPython.core.display.HTML object>"
            ],
            "text/html": [
              "Successfully finished last run (ID:gbx53av5). Initializing new run:<br/>"
            ]
          },
          "metadata": {}
        },
        {
          "output_type": "display_data",
          "data": {
            "text/plain": [
              "<IPython.core.display.HTML object>"
            ],
            "text/html": [
              "Tracking run with wandb version 0.16.4"
            ]
          },
          "metadata": {}
        },
        {
          "output_type": "display_data",
          "data": {
            "text/plain": [
              "<IPython.core.display.HTML object>"
            ],
            "text/html": [
              "Run data is saved locally in <code>/content/wandb/run-20240321_190400-41z08zro</code>"
            ]
          },
          "metadata": {}
        },
        {
          "output_type": "display_data",
          "data": {
            "text/plain": [
              "<IPython.core.display.HTML object>"
            ],
            "text/html": [
              "Syncing run <strong><a href='https://wandb.ai/health-info/WPO%205%20task%204.1/runs/41z08zro' target=\"_blank\">divine-snowflake-19</a></strong> to <a href='https://wandb.ai/health-info/WPO%205%20task%204.1' target=\"_blank\">Weights & Biases</a> (<a href='https://wandb.me/run' target=\"_blank\">docs</a>)<br/>"
            ]
          },
          "metadata": {}
        },
        {
          "output_type": "display_data",
          "data": {
            "text/plain": [
              "<IPython.core.display.HTML object>"
            ],
            "text/html": [
              " View project at <a href='https://wandb.ai/health-info/WPO%205%20task%204.1' target=\"_blank\">https://wandb.ai/health-info/WPO%205%20task%204.1</a>"
            ]
          },
          "metadata": {}
        },
        {
          "output_type": "display_data",
          "data": {
            "text/plain": [
              "<IPython.core.display.HTML object>"
            ],
            "text/html": [
              " View run at <a href='https://wandb.ai/health-info/WPO%205%20task%204.1/runs/41z08zro' target=\"_blank\">https://wandb.ai/health-info/WPO%205%20task%204.1/runs/41z08zro</a>"
            ]
          },
          "metadata": {}
        },
        {
          "output_type": "stream",
          "name": "stdout",
          "text": [
            "Epoch 1/20\n",
            "66/66 [==============================] - 1s 2ms/step - loss: 0.7043 - accuracy: 0.4933\n",
            "Epoch 2/20\n",
            "66/66 [==============================] - 0s 2ms/step - loss: 0.6901 - accuracy: 0.5315\n",
            "Epoch 3/20\n",
            "66/66 [==============================] - 0s 2ms/step - loss: 0.6881 - accuracy: 0.5535\n",
            "Epoch 4/20\n",
            "66/66 [==============================] - 0s 2ms/step - loss: 0.6848 - accuracy: 0.5679\n",
            "Epoch 5/20\n",
            "66/66 [==============================] - 0s 2ms/step - loss: 0.6819 - accuracy: 0.6272\n",
            "Epoch 6/20\n",
            "66/66 [==============================] - 0s 2ms/step - loss: 0.6789 - accuracy: 0.6324\n",
            "Epoch 7/20\n",
            "66/66 [==============================] - 0s 2ms/step - loss: 0.6756 - accuracy: 0.6257\n",
            "Epoch 8/20\n",
            "66/66 [==============================] - 0s 2ms/step - loss: 0.6728 - accuracy: 0.6616\n",
            "Epoch 9/20\n",
            "66/66 [==============================] - 0s 2ms/step - loss: 0.6694 - accuracy: 0.6630\n",
            "Epoch 10/20\n",
            "66/66 [==============================] - 0s 2ms/step - loss: 0.6664 - accuracy: 0.6707\n",
            "Epoch 11/20\n",
            "66/66 [==============================] - 0s 2ms/step - loss: 0.6632 - accuracy: 0.6831\n",
            "Epoch 12/20\n",
            "66/66 [==============================] - 0s 2ms/step - loss: 0.6598 - accuracy: 0.6821\n",
            "Epoch 13/20\n",
            "66/66 [==============================] - 0s 2ms/step - loss: 0.6555 - accuracy: 0.6826\n",
            "Epoch 14/20\n",
            "66/66 [==============================] - 0s 2ms/step - loss: 0.6521 - accuracy: 0.6845\n",
            "Epoch 15/20\n",
            "66/66 [==============================] - 0s 2ms/step - loss: 0.6483 - accuracy: 0.7094\n",
            "Epoch 16/20\n",
            "66/66 [==============================] - 0s 2ms/step - loss: 0.6443 - accuracy: 0.6965\n",
            "Epoch 17/20\n",
            "66/66 [==============================] - 0s 2ms/step - loss: 0.6400 - accuracy: 0.7165\n",
            "Epoch 18/20\n",
            "66/66 [==============================] - 0s 2ms/step - loss: 0.6357 - accuracy: 0.7328\n",
            "Epoch 19/20\n",
            "66/66 [==============================] - 0s 2ms/step - loss: 0.6309 - accuracy: 0.7204\n",
            "Epoch 20/20\n",
            "66/66 [==============================] - 0s 2ms/step - loss: 0.6257 - accuracy: 0.7204\n",
            "Model: \"sequential_3\"\n",
            "_________________________________________________________________\n",
            " Layer (type)                Output Shape              Param #   \n",
            "=================================================================\n",
            " flatten_3 (Flatten)         (None, 400)               0         \n",
            "                                                                 \n",
            " dense_7 (Dense)             (None, 80)                32080     \n",
            "                                                                 \n",
            " dense_8 (Dense)             (None, 40)                3240      \n",
            "                                                                 \n",
            " dense_9 (Dense)             (None, 2)                 82        \n",
            "                                                                 \n",
            "=================================================================\n",
            "Total params: 35402 (138.29 KB)\n",
            "Trainable params: 35402 (138.29 KB)\n",
            "Non-trainable params: 0 (0.00 Byte)\n",
            "_________________________________________________________________\n"
          ]
        },
        {
          "output_type": "display_data",
          "data": {
            "text/plain": [
              "<IPython.core.display.HTML object>"
            ],
            "text/html": [
              "Finishing last run (ID:41z08zro) before initializing another..."
            ]
          },
          "metadata": {}
        },
        {
          "output_type": "display_data",
          "data": {
            "text/plain": [
              "VBox(children=(Label(value='0.013 MB of 0.013 MB uploaded\\r'), FloatProgress(value=1.0, max=1.0)))"
            ],
            "application/vnd.jupyter.widget-view+json": {
              "version_major": 2,
              "version_minor": 0,
              "model_id": "40eb8d680bf24b51b715422fdf1f8c39"
            }
          },
          "metadata": {}
        },
        {
          "output_type": "display_data",
          "data": {
            "text/plain": [
              "<IPython.core.display.HTML object>"
            ],
            "text/html": [
              "<style>\n",
              "    table.wandb td:nth-child(1) { padding: 0 10px; text-align: left ; width: auto;} td:nth-child(2) {text-align: left ; width: 100%}\n",
              "    .wandb-row { display: flex; flex-direction: row; flex-wrap: wrap; justify-content: flex-start; width: 100% }\n",
              "    .wandb-col { display: flex; flex-direction: column; flex-basis: 100%; flex: 1; padding: 10px; }\n",
              "    </style>\n",
              "<div class=\"wandb-row\"><div class=\"wandb-col\"><h3>Run history:</h3><br/><table class=\"wandb\"><tr><td>epoch/accuracy</td><td>▁▂▃▃▅▅▅▆▆▆▇▇▇▇▇▇████</td></tr><tr><td>epoch/epoch</td><td>▁▁▂▂▂▃▃▄▄▄▅▅▅▆▆▇▇▇██</td></tr><tr><td>epoch/learning_rate</td><td>▁▁▁▁▁▁▁▁▁▁▁▁▁▁▁▁▁▁▁▁</td></tr><tr><td>epoch/loss</td><td>█▇▇▆▆▆▅▅▅▅▄▄▄▃▃▃▂▂▁▁</td></tr></table><br/></div><div class=\"wandb-col\"><h3>Run summary:</h3><br/><table class=\"wandb\"><tr><td>epoch/accuracy</td><td>0.72036</td></tr><tr><td>epoch/epoch</td><td>19</td></tr><tr><td>epoch/learning_rate</td><td>0.01</td></tr><tr><td>epoch/loss</td><td>0.62571</td></tr></table><br/></div></div>"
            ]
          },
          "metadata": {}
        },
        {
          "output_type": "display_data",
          "data": {
            "text/plain": [
              "<IPython.core.display.HTML object>"
            ],
            "text/html": [
              " View run <strong style=\"color:#cdcd00\">divine-snowflake-19</strong> at: <a href='https://wandb.ai/health-info/WPO%205%20task%204.1/runs/41z08zro' target=\"_blank\">https://wandb.ai/health-info/WPO%205%20task%204.1/runs/41z08zro</a><br/>Synced 5 W&B file(s), 0 media file(s), 0 artifact file(s) and 0 other file(s)"
            ]
          },
          "metadata": {}
        },
        {
          "output_type": "display_data",
          "data": {
            "text/plain": [
              "<IPython.core.display.HTML object>"
            ],
            "text/html": [
              "Find logs at: <code>./wandb/run-20240321_190400-41z08zro/logs</code>"
            ]
          },
          "metadata": {}
        },
        {
          "output_type": "display_data",
          "data": {
            "text/plain": [
              "<IPython.core.display.HTML object>"
            ],
            "text/html": [
              "Successfully finished last run (ID:41z08zro). Initializing new run:<br/>"
            ]
          },
          "metadata": {}
        },
        {
          "output_type": "display_data",
          "data": {
            "text/plain": [
              "<IPython.core.display.HTML object>"
            ],
            "text/html": [
              "Tracking run with wandb version 0.16.4"
            ]
          },
          "metadata": {}
        },
        {
          "output_type": "display_data",
          "data": {
            "text/plain": [
              "<IPython.core.display.HTML object>"
            ],
            "text/html": [
              "Run data is saved locally in <code>/content/wandb/run-20240321_190414-8f0bly67</code>"
            ]
          },
          "metadata": {}
        },
        {
          "output_type": "display_data",
          "data": {
            "text/plain": [
              "<IPython.core.display.HTML object>"
            ],
            "text/html": [
              "Syncing run <strong><a href='https://wandb.ai/health-info/WPO%205%20task%204.1/runs/8f0bly67' target=\"_blank\">easy-cherry-20</a></strong> to <a href='https://wandb.ai/health-info/WPO%205%20task%204.1' target=\"_blank\">Weights & Biases</a> (<a href='https://wandb.me/run' target=\"_blank\">docs</a>)<br/>"
            ]
          },
          "metadata": {}
        },
        {
          "output_type": "display_data",
          "data": {
            "text/plain": [
              "<IPython.core.display.HTML object>"
            ],
            "text/html": [
              " View project at <a href='https://wandb.ai/health-info/WPO%205%20task%204.1' target=\"_blank\">https://wandb.ai/health-info/WPO%205%20task%204.1</a>"
            ]
          },
          "metadata": {}
        },
        {
          "output_type": "display_data",
          "data": {
            "text/plain": [
              "<IPython.core.display.HTML object>"
            ],
            "text/html": [
              " View run at <a href='https://wandb.ai/health-info/WPO%205%20task%204.1/runs/8f0bly67' target=\"_blank\">https://wandb.ai/health-info/WPO%205%20task%204.1/runs/8f0bly67</a>"
            ]
          },
          "metadata": {}
        },
        {
          "output_type": "stream",
          "name": "stdout",
          "text": [
            "Epoch 1/20\n",
            "44/44 [==============================] - 1s 2ms/step - loss: 0.6916 - accuracy: 0.5301\n",
            "Epoch 2/20\n",
            "44/44 [==============================] - 0s 2ms/step - loss: 0.6864 - accuracy: 0.5765\n",
            "Epoch 3/20\n",
            "44/44 [==============================] - 0s 2ms/step - loss: 0.6843 - accuracy: 0.5664\n",
            "Epoch 4/20\n",
            "44/44 [==============================] - 0s 2ms/step - loss: 0.6827 - accuracy: 0.6467\n",
            "Epoch 5/20\n",
            "44/44 [==============================] - 0s 2ms/step - loss: 0.6810 - accuracy: 0.6171\n",
            "Epoch 6/20\n",
            "44/44 [==============================] - 0s 2ms/step - loss: 0.6791 - accuracy: 0.5784\n",
            "Epoch 7/20\n",
            "44/44 [==============================] - 0s 2ms/step - loss: 0.6771 - accuracy: 0.6319\n",
            "Epoch 8/20\n",
            "44/44 [==============================] - 0s 2ms/step - loss: 0.6753 - accuracy: 0.7051\n",
            "Epoch 9/20\n",
            "44/44 [==============================] - 0s 2ms/step - loss: 0.6732 - accuracy: 0.6300\n",
            "Epoch 10/20\n",
            "44/44 [==============================] - 0s 3ms/step - loss: 0.6713 - accuracy: 0.6783\n",
            "Epoch 11/20\n",
            "44/44 [==============================] - 0s 2ms/step - loss: 0.6694 - accuracy: 0.6687\n",
            "Epoch 12/20\n",
            "44/44 [==============================] - 0s 2ms/step - loss: 0.6673 - accuracy: 0.6745\n",
            "Epoch 13/20\n",
            "44/44 [==============================] - 0s 2ms/step - loss: 0.6652 - accuracy: 0.7022\n",
            "Epoch 14/20\n",
            "44/44 [==============================] - 0s 2ms/step - loss: 0.6629 - accuracy: 0.6616\n",
            "Epoch 15/20\n",
            "44/44 [==============================] - 0s 2ms/step - loss: 0.6604 - accuracy: 0.6601\n",
            "Epoch 16/20\n",
            "44/44 [==============================] - 0s 2ms/step - loss: 0.6586 - accuracy: 0.7127\n",
            "Epoch 17/20\n",
            "44/44 [==============================] - 0s 2ms/step - loss: 0.6557 - accuracy: 0.7118\n",
            "Epoch 18/20\n",
            "44/44 [==============================] - 0s 2ms/step - loss: 0.6534 - accuracy: 0.6965\n",
            "Epoch 19/20\n",
            "44/44 [==============================] - 0s 2ms/step - loss: 0.6508 - accuracy: 0.7070\n",
            "Epoch 20/20\n",
            "44/44 [==============================] - 0s 2ms/step - loss: 0.6479 - accuracy: 0.7361\n",
            "Model: \"sequential_4\"\n",
            "_________________________________________________________________\n",
            " Layer (type)                Output Shape              Param #   \n",
            "=================================================================\n",
            " flatten_4 (Flatten)         (None, 400)               0         \n",
            "                                                                 \n",
            " dense_10 (Dense)            (None, 80)                32080     \n",
            "                                                                 \n",
            " dense_11 (Dense)            (None, 40)                3240      \n",
            "                                                                 \n",
            " dense_12 (Dense)            (None, 2)                 82        \n",
            "                                                                 \n",
            "=================================================================\n",
            "Total params: 35402 (138.29 KB)\n",
            "Trainable params: 35402 (138.29 KB)\n",
            "Non-trainable params: 0 (0.00 Byte)\n",
            "_________________________________________________________________\n"
          ]
        }
      ],
      "source": [
        "# Code for Part 2: Task 4.1\n",
        "print(f\"X: {X.shape}\\nY_train: {Y_train.shape}\")\n",
        "\n",
        "def model_3layers(batchSize):\n",
        "  model_3L = keras.Sequential()\n",
        "\n",
        "  model_3L.add(keras.layers.Flatten(input_shape=(20, 20, 1)))\n",
        "  model_3L.add(keras.layers.Dense(80, activation='sigmoid'))\n",
        "  model_3L.add(keras.layers.Dense(40, activation='sigmoid'))\n",
        "  model_3L.add(keras.layers.Dense(2, activation='softmax'))\n",
        "\n",
        "  model_3L.compile(optimizer = keras.optimizers.SGD(learning_rate=1e-2), loss='categorical_crossentropy', metrics='accuracy')\n",
        "  wandb.init(project='WPO 5 task 4.1')\n",
        "  model_3L.fit(X, Y_train, epochs = 20, callbacks=[WandbMetricsLogger()], batch_size=batchSize)\n",
        "\n",
        "  model_3L.summary()\n",
        "\n",
        "  return model_3L\n",
        "\n",
        "model_3L_BS12 = model_3layers(12)\n",
        "model_3L_BS24 = model_3layers(24)\n",
        "model_3L_BS32 = model_3layers(32)\n",
        "model_3L_BS48 = model_3layers(48)"
      ]
    },
    {
      "cell_type": "code",
      "execution_count": 11,
      "metadata": {
        "colab": {
          "base_uri": "https://localhost:8080/",
          "height": 1000
        },
        "id": "qb4MNFGvGFS-",
        "outputId": "f16523e6-2836-49ab-8b0b-7c4130f820d7"
      },
      "outputs": [
        {
          "output_type": "stream",
          "name": "stdout",
          "text": [
            "8/8 [==============================] - 0s 2ms/step\n",
            "the confusion matrix is:\n",
            "[[74 25]\n",
            " [36 98]]\n",
            "the accuracy score is: 0.7381974248927039\n"
          ]
        },
        {
          "output_type": "display_data",
          "data": {
            "text/plain": [
              "<Figure size 640x480 with 1 Axes>"
            ],
            "image/png": "[encoded data removed]"
          },
          "metadata": {}
        },
        {
          "output_type": "stream",
          "name": "stdout",
          "text": [
            "8/8 [==============================] - 0s 2ms/step\n",
            "the confusion matrix is:\n",
            "[[ 67  32]\n",
            " [ 24 110]]\n",
            "the accuracy score is: 0.759656652360515\n"
          ]
        },
        {
          "output_type": "display_data",
          "data": {
            "text/plain": [
              "<Figure size 640x480 with 1 Axes>"
            ],
            "image/png": "[encoded data removed]"
          },
          "metadata": {}
        },
        {
          "output_type": "stream",
          "name": "stdout",
          "text": [
            "8/8 [==============================] - 0s 2ms/step\n",
            "the confusion matrix is:\n",
            "[[ 64  35]\n",
            " [ 24 110]]\n",
            "the accuracy score is: 0.7467811158798283\n"
          ]
        },
        {
          "output_type": "display_data",
          "data": {
            "text/plain": [
              "<Figure size 640x480 with 1 Axes>"
            ],
            "image/png": "[encoded data removed]"
          },
          "metadata": {}
        },
        {
          "output_type": "stream",
          "name": "stdout",
          "text": [
            "8/8 [==============================] - 0s 2ms/step\n",
            "the confusion matrix is:\n",
            "[[ 46  53]\n",
            " [ 12 122]]\n",
            "the accuracy score is: 0.721030042918455\n"
          ]
        },
        {
          "output_type": "display_data",
          "data": {
            "text/plain": [
              "<Figure size 640x480 with 1 Axes>"
            ],
            "image/png": "[encoded data removed]"
          },
          "metadata": {}
        }
      ],
      "source": [
        "confusion_matrix_model_3L_BS12, accuracy_model_3L_BS12, (fpr, tpr, thresholds) = perfomance_assessing(model_3L_BS12, X_val, Y_test, '3 layers, batch size: 12')\n",
        "confusion_matrix_model_3L_BS24, accuracy_model_3L_BS24, (fpr, tpr, thresholds) = perfomance_assessing(model_3L_BS24, X_val, Y_test, '3 layers, batch size: 24')\n",
        "confusion_matrix_model_3L_BS32, accuracy_model_3L_BS32, (fpr, tpr, thresholds) = perfomance_assessing(model_3L_BS32, X_val, Y_test, '3 layers, batch size: 32')\n",
        "confusion_matrix_model_3L_BS48, accuracy_model_3L_BS48, (fpr, tpr, thresholds) = perfomance_assessing(model_3L_BS48, X_val, Y_test, '3 layers, batch size: 48')"
      ]
    },
    {
      "cell_type": "markdown",
      "metadata": {
        "id": "X9jkrp-_w_tz"
      },
      "source": [
        "### Task 4.2: Relu!\n",
        "RELU = Rectified Linear Unit\n",
        "\n",
        "Let's try the same network but using RELU instead of sigmoid now."
      ]
    },
    {
      "cell_type": "code",
      "execution_count": 12,
      "metadata": {
        "colab": {
          "base_uri": "https://localhost:8080/",
          "height": 1000,
          "referenced_widgets": [
            "55aa5ed77a224506b28f8fba0e3989ff",
            "425369b9d6544910a3679ce4d6ee2f0f",
            "9c6a85f76d334483818e66d35165321f",
            "bc0648e5d7a447eaadc29f98879acd74",
            "87d03815c9024eadbf7fa9ec8acd245f",
            "89c1591978a6449a8452598415b39f79",
            "c95dd481a6864ce49c58bb32da553449",
            "a75a85e5cdaa46e58e4c166d1fd6bfbf"
          ]
        },
        "collapsed": true,
        "id": "_yEak5w5w_tz",
        "outputId": "83eb2808-92f4-4b5d-cf4a-d7dd6d643288"
      },
      "outputs": [
        {
          "output_type": "display_data",
          "data": {
            "text/plain": [
              "<IPython.core.display.HTML object>"
            ],
            "text/html": [
              "Finishing last run (ID:8f0bly67) before initializing another..."
            ]
          },
          "metadata": {}
        },
        {
          "output_type": "display_data",
          "data": {
            "text/plain": [
              "VBox(children=(Label(value='0.001 MB of 0.001 MB uploaded\\r'), FloatProgress(value=1.0, max=1.0)))"
            ],
            "application/vnd.jupyter.widget-view+json": {
              "version_major": 2,
              "version_minor": 0,
              "model_id": "55aa5ed77a224506b28f8fba0e3989ff"
            }
          },
          "metadata": {}
        },
        {
          "output_type": "display_data",
          "data": {
            "text/plain": [
              "<IPython.core.display.HTML object>"
            ],
            "text/html": [
              "<style>\n",
              "    table.wandb td:nth-child(1) { padding: 0 10px; text-align: left ; width: auto;} td:nth-child(2) {text-align: left ; width: 100%}\n",
              "    .wandb-row { display: flex; flex-direction: row; flex-wrap: wrap; justify-content: flex-start; width: 100% }\n",
              "    .wandb-col { display: flex; flex-direction: column; flex-basis: 100%; flex: 1; padding: 10px; }\n",
              "    </style>\n",
              "<div class=\"wandb-row\"><div class=\"wandb-col\"><h3>Run history:</h3><br/><table class=\"wandb\"><tr><td>epoch/accuracy</td><td>▁▃▂▅▄▃▄▇▄▆▆▆▇▅▅▇▇▇▇█</td></tr><tr><td>epoch/epoch</td><td>▁▁▂▂▂▃▃▄▄▄▅▅▅▆▆▇▇▇██</td></tr><tr><td>epoch/learning_rate</td><td>▁▁▁▁▁▁▁▁▁▁▁▁▁▁▁▁▁▁▁▁</td></tr><tr><td>epoch/loss</td><td>█▇▇▇▆▆▆▅▅▅▄▄▄▃▃▃▂▂▁▁</td></tr></table><br/></div><div class=\"wandb-col\"><h3>Run summary:</h3><br/><table class=\"wandb\"><tr><td>epoch/accuracy</td><td>0.73614</td></tr><tr><td>epoch/epoch</td><td>19</td></tr><tr><td>epoch/learning_rate</td><td>0.01</td></tr><tr><td>epoch/loss</td><td>0.64794</td></tr></table><br/></div></div>"
            ]
          },
          "metadata": {}
        },
        {
          "output_type": "display_data",
          "data": {
            "text/plain": [
              "<IPython.core.display.HTML object>"
            ],
            "text/html": [
              " View run <strong style=\"color:#cdcd00\">easy-cherry-20</strong> at: <a href='https://wandb.ai/health-info/WPO%205%20task%204.1/runs/8f0bly67' target=\"_blank\">https://wandb.ai/health-info/WPO%205%20task%204.1/runs/8f0bly67</a><br/>Synced 5 W&B file(s), 0 media file(s), 0 artifact file(s) and 0 other file(s)"
            ]
          },
          "metadata": {}
        },
        {
          "output_type": "display_data",
          "data": {
            "text/plain": [
              "<IPython.core.display.HTML object>"
            ],
            "text/html": [
              "Find logs at: <code>./wandb/run-20240321_190414-8f0bly67/logs</code>"
            ]
          },
          "metadata": {}
        },
        {
          "output_type": "display_data",
          "data": {
            "text/plain": [
              "<IPython.core.display.HTML object>"
            ],
            "text/html": [
              "Successfully finished last run (ID:8f0bly67). Initializing new run:<br/>"
            ]
          },
          "metadata": {}
        },
        {
          "output_type": "display_data",
          "data": {
            "text/plain": [
              "<IPython.core.display.HTML object>"
            ],
            "text/html": [
              "Tracking run with wandb version 0.16.4"
            ]
          },
          "metadata": {}
        },
        {
          "output_type": "display_data",
          "data": {
            "text/plain": [
              "<IPython.core.display.HTML object>"
            ],
            "text/html": [
              "Run data is saved locally in <code>/content/wandb/run-20240321_190559-328za5xj</code>"
            ]
          },
          "metadata": {}
        },
        {
          "output_type": "display_data",
          "data": {
            "text/plain": [
              "<IPython.core.display.HTML object>"
            ],
            "text/html": [
              "Syncing run <strong><a href='https://wandb.ai/health-info/WPO%205%20task%204.2/runs/328za5xj' target=\"_blank\">blooming-flower-3</a></strong> to <a href='https://wandb.ai/health-info/WPO%205%20task%204.2' target=\"_blank\">Weights & Biases</a> (<a href='https://wandb.me/run' target=\"_blank\">docs</a>)<br/>"
            ]
          },
          "metadata": {}
        },
        {
          "output_type": "display_data",
          "data": {
            "text/plain": [
              "<IPython.core.display.HTML object>"
            ],
            "text/html": [
              " View project at <a href='https://wandb.ai/health-info/WPO%205%20task%204.2' target=\"_blank\">https://wandb.ai/health-info/WPO%205%20task%204.2</a>"
            ]
          },
          "metadata": {}
        },
        {
          "output_type": "display_data",
          "data": {
            "text/plain": [
              "<IPython.core.display.HTML object>"
            ],
            "text/html": [
              " View run at <a href='https://wandb.ai/health-info/WPO%205%20task%204.2/runs/328za5xj' target=\"_blank\">https://wandb.ai/health-info/WPO%205%20task%204.2/runs/328za5xj</a>"
            ]
          },
          "metadata": {}
        },
        {
          "output_type": "stream",
          "name": "stdout",
          "text": [
            "Epoch 1/20\n",
            "88/88 [==============================] - 1s 2ms/step - loss: 0.6198 - accuracy: 0.6745\n",
            "Epoch 2/20\n",
            "88/88 [==============================] - 0s 2ms/step - loss: 0.5295 - accuracy: 0.7954\n",
            "Epoch 3/20\n",
            "88/88 [==============================] - 0s 2ms/step - loss: 0.4736 - accuracy: 0.8274\n",
            "Epoch 4/20\n",
            "88/88 [==============================] - 0s 2ms/step - loss: 0.4298 - accuracy: 0.8399\n",
            "Epoch 5/20\n",
            "88/88 [==============================] - 0s 2ms/step - loss: 0.3916 - accuracy: 0.8571\n",
            "Epoch 6/20\n",
            "88/88 [==============================] - 0s 2ms/step - loss: 0.3629 - accuracy: 0.8800\n",
            "Epoch 7/20\n",
            "88/88 [==============================] - 0s 2ms/step - loss: 0.3392 - accuracy: 0.8905\n",
            "Epoch 8/20\n",
            "88/88 [==============================] - 0s 2ms/step - loss: 0.3190 - accuracy: 0.8982\n",
            "Epoch 9/20\n",
            "88/88 [==============================] - 0s 2ms/step - loss: 0.3046 - accuracy: 0.9044\n",
            "Epoch 10/20\n",
            "88/88 [==============================] - 0s 2ms/step - loss: 0.2909 - accuracy: 0.9054\n",
            "Epoch 11/20\n",
            "88/88 [==============================] - 0s 2ms/step - loss: 0.2757 - accuracy: 0.9077\n",
            "Epoch 12/20\n",
            "88/88 [==============================] - 0s 2ms/step - loss: 0.2668 - accuracy: 0.9106\n",
            "Epoch 13/20\n",
            "88/88 [==============================] - 0s 2ms/step - loss: 0.2604 - accuracy: 0.9159\n",
            "Epoch 14/20\n",
            "88/88 [==============================] - 0s 2ms/step - loss: 0.2501 - accuracy: 0.9168\n",
            "Epoch 15/20\n",
            "88/88 [==============================] - 0s 2ms/step - loss: 0.2460 - accuracy: 0.9183\n",
            "Epoch 16/20\n",
            "88/88 [==============================] - 0s 2ms/step - loss: 0.2371 - accuracy: 0.9192\n",
            "Epoch 17/20\n",
            "88/88 [==============================] - 0s 2ms/step - loss: 0.2285 - accuracy: 0.9230\n",
            "Epoch 18/20\n",
            "88/88 [==============================] - 0s 2ms/step - loss: 0.2290 - accuracy: 0.9187\n",
            "Epoch 19/20\n",
            "88/88 [==============================] - 0s 2ms/step - loss: 0.2242 - accuracy: 0.9226\n",
            "Epoch 20/20\n",
            "88/88 [==============================] - 0s 2ms/step - loss: 0.2187 - accuracy: 0.9245\n",
            "Model: \"sequential_5\"\n",
            "_________________________________________________________________\n",
            " Layer (type)                Output Shape              Param #   \n",
            "=================================================================\n",
            " flatten_5 (Flatten)         (None, 400)               0         \n",
            "                                                                 \n",
            " dense_13 (Dense)            (None, 80)                32080     \n",
            "                                                                 \n",
            " dense_14 (Dense)            (None, 40)                3240      \n",
            "                                                                 \n",
            " dense_15 (Dense)            (None, 2)                 82        \n",
            "                                                                 \n",
            "=================================================================\n",
            "Total params: 35402 (138.29 KB)\n",
            "Trainable params: 35402 (138.29 KB)\n",
            "Non-trainable params: 0 (0.00 Byte)\n",
            "_________________________________________________________________\n",
            "Epoch 1/20\n",
            "88/88 [==============================] - 1s 6ms/step - loss: 0.2153 - accuracy: 0.9250 - val_loss: 0.3562 - val_accuracy: 0.8712\n",
            "Epoch 2/20\n",
            "88/88 [==============================] - 0s 4ms/step - loss: 0.2111 - accuracy: 0.9278 - val_loss: 0.3367 - val_accuracy: 0.8841\n",
            "Epoch 3/20\n",
            "88/88 [==============================] - 0s 3ms/step - loss: 0.2071 - accuracy: 0.9269 - val_loss: 0.3181 - val_accuracy: 0.8970\n",
            "Epoch 4/20\n",
            "88/88 [==============================] - 0s 4ms/step - loss: 0.2010 - accuracy: 0.9297 - val_loss: 0.4295 - val_accuracy: 0.7897\n",
            "Epoch 5/20\n",
            "88/88 [==============================] - 0s 4ms/step - loss: 0.2018 - accuracy: 0.9336 - val_loss: 0.3865 - val_accuracy: 0.8755\n",
            "Epoch 6/20\n",
            "88/88 [==============================] - 0s 3ms/step - loss: 0.1949 - accuracy: 0.9307 - val_loss: 0.3134 - val_accuracy: 0.9013\n",
            "Epoch 7/20\n",
            "88/88 [==============================] - 0s 3ms/step - loss: 0.1863 - accuracy: 0.9379 - val_loss: 0.3138 - val_accuracy: 0.9099\n",
            "Epoch 8/20\n",
            "88/88 [==============================] - 0s 4ms/step - loss: 0.1903 - accuracy: 0.9350 - val_loss: 0.3035 - val_accuracy: 0.9013\n",
            "Epoch 9/20\n",
            "88/88 [==============================] - 0s 3ms/step - loss: 0.1835 - accuracy: 0.9374 - val_loss: 0.3135 - val_accuracy: 0.8927\n",
            "Epoch 10/20\n",
            "88/88 [==============================] - 0s 4ms/step - loss: 0.1813 - accuracy: 0.9417 - val_loss: 0.3015 - val_accuracy: 0.9056\n",
            "Epoch 11/20\n",
            "88/88 [==============================] - 0s 3ms/step - loss: 0.1763 - accuracy: 0.9402 - val_loss: 0.3738 - val_accuracy: 0.8841\n",
            "Epoch 12/20\n",
            "88/88 [==============================] - 0s 3ms/step - loss: 0.1764 - accuracy: 0.9379 - val_loss: 0.3603 - val_accuracy: 0.8841\n",
            "Epoch 13/20\n",
            "88/88 [==============================] - 0s 2ms/step - loss: 0.1737 - accuracy: 0.9393 - val_loss: 0.2903 - val_accuracy: 0.9056\n",
            "Epoch 14/20\n",
            "88/88 [==============================] - 0s 3ms/step - loss: 0.1704 - accuracy: 0.9426 - val_loss: 0.3058 - val_accuracy: 0.9056\n",
            "Epoch 15/20\n",
            "88/88 [==============================] - 0s 2ms/step - loss: 0.1652 - accuracy: 0.9422 - val_loss: 0.3430 - val_accuracy: 0.8841\n",
            "Epoch 16/20\n",
            "88/88 [==============================] - 0s 2ms/step - loss: 0.1638 - accuracy: 0.9479 - val_loss: 0.3066 - val_accuracy: 0.9142\n",
            "Epoch 17/20\n",
            "88/88 [==============================] - 0s 2ms/step - loss: 0.1591 - accuracy: 0.9474 - val_loss: 0.2896 - val_accuracy: 0.9099\n",
            "Epoch 18/20\n",
            "88/88 [==============================] - 0s 2ms/step - loss: 0.1562 - accuracy: 0.9498 - val_loss: 0.2929 - val_accuracy: 0.9227\n",
            "Epoch 19/20\n",
            "88/88 [==============================] - 0s 2ms/step - loss: 0.1579 - accuracy: 0.9455 - val_loss: 0.3186 - val_accuracy: 0.8970\n",
            "Epoch 20/20\n",
            "88/88 [==============================] - 0s 2ms/step - loss: 0.1527 - accuracy: 0.9512 - val_loss: 0.3267 - val_accuracy: 0.8927\n"
          ]
        }
      ],
      "source": [
        "# Code for Part 2: Task 4.2\n",
        "modelRELU = keras.Sequential()\n",
        "\n",
        "modelRELU.add(keras.layers.Flatten(input_shape=(20, 20, 1)))\n",
        "modelRELU.add(keras.layers.Dense(80, activation='relu'))\n",
        "modelRELU.add(keras.layers.Dense(40, activation='relu'))\n",
        "modelRELU.add(keras.layers.Dense(2, activation='softmax'))\n",
        "\n",
        "modelRELU.compile(optimizer = keras.optimizers.SGD(learning_rate=1e-2), loss='categorical_crossentropy', metrics='accuracy')\n",
        "wandb.init(project='WPO 5 task 4.2')\n",
        "modelRELU.fit(X, Y_train, epochs = 20, callbacks=[WandbMetricsLogger()], batch_size=24)\n",
        "modelRELU.summary()\n",
        "# To automatically integrate wandb in your Keras model.fit function,\n",
        "\n",
        "history = modelRELU.fit(X, Y_train, epochs=20, validation_data=(X_val, Y_test), callbacks=[WandbMetricsLogger()], batch_size=24)"
      ]
    },
    {
      "cell_type": "code",
      "execution_count": 13,
      "metadata": {
        "colab": {
          "base_uri": "https://localhost:8080/",
          "height": 563
        },
        "id": "z8395YpWGDCO",
        "outputId": "6df33b2d-9df6-4f16-a388-f8465050e077"
      },
      "outputs": [
        {
          "output_type": "stream",
          "name": "stdout",
          "text": [
            "8/8 [==============================] - 0s 2ms/step\n",
            "the confusion matrix is:\n",
            "[[ 94   5]\n",
            " [ 20 114]]\n",
            "the accuracy score is: 0.8927038626609443\n"
          ]
        },
        {
          "output_type": "display_data",
          "data": {
            "text/plain": [
              "<Figure size 640x480 with 1 Axes>"
            ],
            "image/png": "[encoded data removed]"
          },
          "metadata": {}
        }
      ],
      "source": [
        "confusion_matrix_modelRELU, accuracy_modelRELU, (fpr, tpr, thresholds) = perfomance_assessing(modelRELU, X_val, Y_test, 'RELU')"
      ]
    },
    {
      "cell_type": "markdown",
      "metadata": {
        "id": "Q-dC3UrBw_t0"
      },
      "source": [
        "### Task 4.3: Dropout!\n",
        "Now lets add two dropout layers (each after the dense layer with relu activation). Some recommended values to investigate are 0.9, 0.5, 0.1. Explain the results."
      ]
    },
    {
      "cell_type": "code",
      "execution_count": null,
      "metadata": {
        "id": "RLp1S7Vbw_t0"
      },
      "outputs": [],
      "source": [
        "# Your answer here\n",
        "# Maybe there's underfitting with a higher dropout rate (?)"
      ]
    },
    {
      "cell_type": "code",
      "execution_count": 14,
      "metadata": {
        "colab": {
          "base_uri": "https://localhost:8080/",
          "height": 1000,
          "referenced_widgets": [
            "4b5093b3277446f087ead837cb9d1f3a",
            "56dfead3d37e4db5b2f9c16b425fb82e",
            "e99a14b7214a45d6b26e7d3224a05fc5",
            "cbe6c2b4a8da460b88fc140f7aa04f26",
            "3e77fa0be7a94d3591d2ceda0406bd58",
            "98b601c1504245b2b98e2be9170679c7",
            "9f309992c2fd4a069a009838cca0416b",
            "a1db0e3594974294abe4c1394ec50962",
            "52f6e162ea344d279ecf8170ed44a3f8",
            "ceb5f59f4148499c87e13e3d0be91a95",
            "78fd171866c046eaa79f3aa200a15642",
            "d2315ae4225b42af88562e57c25c0c77",
            "8b77a3da30ba4f8ca422a9cf4efaf536",
            "e008734c631c47ec82597f3550bed597",
            "63123a21052d4cddb5b229f199490fe0",
            "8a2fd84ed3914b3c873a86b23d7226a0",
            "dabd999df4d1412db601129161ec5ec9",
            "c2432dbb60904289a36d2afcd56df300",
            "17f7e3e64c8c4bfb819fa89d14189178",
            "2ed0b4eb05a7486a8f34e3ca41d1384f",
            "7b06cb4ea868420ab508bcdfe2e34680",
            "0a34bda7a21a43b290b9448a441de1c2",
            "afc558df1cef4edebaad4d5469e0d9f1",
            "6f7e71b1637b4be5af0d3f6b1371bfd8",
            "1b0736a895ad41cc9f5940a02d792b21",
            "dc6232a3c6a24a1f83ea87c1b8712b7e",
            "1993325e9171492280d2f8536c41a098",
            "02432ed1d98544f2a96d383ab8f76c3a",
            "07954b6ecfc6457f809ffbc89c32e835",
            "e53c379cf900490db14787e83258d081",
            "c248cb830f954f81a47e2b949a4ac5c4",
            "350f93c352df475380712d29d2183918",
            "9184af86b25f45749c35a03a5d909a46",
            "34d5c762f7c94c788398f1d83cabe736",
            "05327b7984ed48c38d76095c8e1b3684",
            "bc0a41ae564d48b6aa45baa93fc77b98",
            "024b81c4cf764e4394f54054e7bfe9af",
            "dd605e4da8fc47df822e2c4fbb2708d2",
            "79510ff74fb4428fa651e79df222c1bd",
            "2ee30016e0404f12acb3f07f348f7dac"
          ]
        },
        "collapsed": true,
        "id": "cbyNUbVjw_t1",
        "outputId": "bc54cbf9-38c8-4466-a534-8f46dd4e87cd"
      },
      "outputs": [
        {
          "output_type": "display_data",
          "data": {
            "text/plain": [
              "<IPython.core.display.HTML object>"
            ],
            "text/html": [
              "Finishing last run (ID:328za5xj) before initializing another..."
            ]
          },
          "metadata": {}
        },
        {
          "output_type": "display_data",
          "data": {
            "text/plain": [
              "VBox(children=(Label(value='0.001 MB of 0.001 MB uploaded\\r'), FloatProgress(value=1.0, max=1.0)))"
            ],
            "application/vnd.jupyter.widget-view+json": {
              "version_major": 2,
              "version_minor": 0,
              "model_id": "4b5093b3277446f087ead837cb9d1f3a"
            }
          },
          "metadata": {}
        },
        {
          "output_type": "display_data",
          "data": {
            "text/plain": [
              "<IPython.core.display.HTML object>"
            ],
            "text/html": [
              "<style>\n",
              "    table.wandb td:nth-child(1) { padding: 0 10px; text-align: left ; width: auto;} td:nth-child(2) {text-align: left ; width: 100%}\n",
              "    .wandb-row { display: flex; flex-direction: row; flex-wrap: wrap; justify-content: flex-start; width: 100% }\n",
              "    .wandb-col { display: flex; flex-direction: column; flex-basis: 100%; flex: 1; padding: 10px; }\n",
              "    </style>\n",
              "<div class=\"wandb-row\"><div class=\"wandb-col\"><h3>Run history:</h3><br/><table class=\"wandb\"><tr><td>epoch/accuracy</td><td>▁▄▅▅▆▆▆▇▇▇▇▇▇▇▇▇▇▇▇▇▇▇▇▇█▇██████████████</td></tr><tr><td>epoch/epoch</td><td>▁▁▂▂▂▃▃▄▄▄▅▅▅▆▆▇▇▇██▁▁▂▂▂▃▃▄▄▄▅▅▅▆▆▇▇▇██</td></tr><tr><td>epoch/learning_rate</td><td>▁▁▁▁▁▁▁▁▁▁▁▁▁▁▁▁▁▁▁▁▁▁▁▁▁▁▁▁▁▁▁▁▁▁▁▁▁▁▁▁</td></tr><tr><td>epoch/loss</td><td>█▇▆▅▅▄▄▃▃▃▃▃▃▂▂▂▂▂▂▂▂▂▂▂▂▂▂▂▁▁▁▁▁▁▁▁▁▁▁▁</td></tr><tr><td>epoch/val_accuracy</td><td>▅▆▇▁▆▇▇▇▆▇▆▆▇▇▆█▇█▇▆</td></tr><tr><td>epoch/val_loss</td><td>▄▃▂█▆▂▂▂▂▂▅▅▁▂▄▂▁▁▂▃</td></tr></table><br/></div><div class=\"wandb-col\"><h3>Run summary:</h3><br/><table class=\"wandb\"><tr><td>epoch/accuracy</td><td>0.95124</td></tr><tr><td>epoch/epoch</td><td>19</td></tr><tr><td>epoch/learning_rate</td><td>0.01</td></tr><tr><td>epoch/loss</td><td>0.15274</td></tr><tr><td>epoch/val_accuracy</td><td>0.8927</td></tr><tr><td>epoch/val_loss</td><td>0.32671</td></tr></table><br/></div></div>"
            ]
          },
          "metadata": {}
        },
        {
          "output_type": "display_data",
          "data": {
            "text/plain": [
              "<IPython.core.display.HTML object>"
            ],
            "text/html": [
              " View run <strong style=\"color:#cdcd00\">blooming-flower-3</strong> at: <a href='https://wandb.ai/health-info/WPO%205%20task%204.2/runs/328za5xj' target=\"_blank\">https://wandb.ai/health-info/WPO%205%20task%204.2/runs/328za5xj</a><br/>Synced 5 W&B file(s), 0 media file(s), 0 artifact file(s) and 0 other file(s)"
            ]
          },
          "metadata": {}
        },
        {
          "output_type": "display_data",
          "data": {
            "text/plain": [
              "<IPython.core.display.HTML object>"
            ],
            "text/html": [
              "Find logs at: <code>./wandb/run-20240321_190559-328za5xj/logs</code>"
            ]
          },
          "metadata": {}
        },
        {
          "output_type": "display_data",
          "data": {
            "text/plain": [
              "<IPython.core.display.HTML object>"
            ],
            "text/html": [
              "Successfully finished last run (ID:328za5xj). Initializing new run:<br/>"
            ]
          },
          "metadata": {}
        },
        {
          "output_type": "display_data",
          "data": {
            "text/plain": [
              "<IPython.core.display.HTML object>"
            ],
            "text/html": [
              "Tracking run with wandb version 0.16.4"
            ]
          },
          "metadata": {}
        },
        {
          "output_type": "display_data",
          "data": {
            "text/plain": [
              "<IPython.core.display.HTML object>"
            ],
            "text/html": [
              "Run data is saved locally in <code>/content/wandb/run-20240321_190728-35ky5iia</code>"
            ]
          },
          "metadata": {}
        },
        {
          "output_type": "display_data",
          "data": {
            "text/plain": [
              "<IPython.core.display.HTML object>"
            ],
            "text/html": [
              "Syncing run <strong><a href='https://wandb.ai/health-info/WPO%205%20task%204.3/runs/35ky5iia' target=\"_blank\">grateful-serenity-5</a></strong> to <a href='https://wandb.ai/health-info/WPO%205%20task%204.3' target=\"_blank\">Weights & Biases</a> (<a href='https://wandb.me/run' target=\"_blank\">docs</a>)<br/>"
            ]
          },
          "metadata": {}
        },
        {
          "output_type": "display_data",
          "data": {
            "text/plain": [
              "<IPython.core.display.HTML object>"
            ],
            "text/html": [
              " View project at <a href='https://wandb.ai/health-info/WPO%205%20task%204.3' target=\"_blank\">https://wandb.ai/health-info/WPO%205%20task%204.3</a>"
            ]
          },
          "metadata": {}
        },
        {
          "output_type": "display_data",
          "data": {
            "text/plain": [
              "<IPython.core.display.HTML object>"
            ],
            "text/html": [
              " View run at <a href='https://wandb.ai/health-info/WPO%205%20task%204.3/runs/35ky5iia' target=\"_blank\">https://wandb.ai/health-info/WPO%205%20task%204.3/runs/35ky5iia</a>"
            ]
          },
          "metadata": {}
        },
        {
          "output_type": "stream",
          "name": "stdout",
          "text": [
            "Epoch 1/20\n",
            "88/88 [==============================] - 1s 2ms/step - loss: 0.6316 - accuracy: 0.6358\n",
            "Epoch 2/20\n",
            "88/88 [==============================] - 0s 2ms/step - loss: 0.5508 - accuracy: 0.7734\n",
            "Epoch 3/20\n",
            "88/88 [==============================] - 0s 2ms/step - loss: 0.5014 - accuracy: 0.8121\n",
            "Epoch 4/20\n",
            "88/88 [==============================] - 0s 2ms/step - loss: 0.4669 - accuracy: 0.8279\n",
            "Epoch 5/20\n",
            "88/88 [==============================] - 0s 2ms/step - loss: 0.4364 - accuracy: 0.8394\n",
            "Epoch 6/20\n",
            "88/88 [==============================] - 0s 2ms/step - loss: 0.4141 - accuracy: 0.8456\n",
            "Epoch 7/20\n",
            "88/88 [==============================] - 0s 2ms/step - loss: 0.3969 - accuracy: 0.8556\n",
            "Epoch 8/20\n",
            "88/88 [==============================] - 0s 2ms/step - loss: 0.3737 - accuracy: 0.8619\n",
            "Epoch 9/20\n",
            "88/88 [==============================] - 0s 2ms/step - loss: 0.3600 - accuracy: 0.8724\n",
            "Epoch 10/20\n",
            "88/88 [==============================] - 0s 2ms/step - loss: 0.3445 - accuracy: 0.8772\n",
            "Epoch 11/20\n",
            "88/88 [==============================] - 0s 2ms/step - loss: 0.3240 - accuracy: 0.8939\n",
            "Epoch 12/20\n",
            "88/88 [==============================] - 0s 2ms/step - loss: 0.3172 - accuracy: 0.8872\n",
            "Epoch 13/20\n",
            "88/88 [==============================] - 0s 2ms/step - loss: 0.3002 - accuracy: 0.8944\n",
            "Epoch 14/20\n",
            "88/88 [==============================] - 0s 2ms/step - loss: 0.3006 - accuracy: 0.8939\n",
            "Epoch 15/20\n",
            "88/88 [==============================] - 0s 3ms/step - loss: 0.2847 - accuracy: 0.9025\n",
            "Epoch 16/20\n",
            "88/88 [==============================] - 0s 3ms/step - loss: 0.2770 - accuracy: 0.9001\n",
            "Epoch 17/20\n",
            "88/88 [==============================] - 0s 3ms/step - loss: 0.2743 - accuracy: 0.8977\n",
            "Epoch 18/20\n",
            "88/88 [==============================] - 0s 3ms/step - loss: 0.2696 - accuracy: 0.9020\n",
            "Epoch 19/20\n",
            "88/88 [==============================] - 0s 3ms/step - loss: 0.2610 - accuracy: 0.9082\n",
            "Epoch 20/20\n",
            "88/88 [==============================] - 0s 3ms/step - loss: 0.2556 - accuracy: 0.9097\n",
            "Model: \"sequential_6\"\n",
            "_________________________________________________________________\n",
            " Layer (type)                Output Shape              Param #   \n",
            "=================================================================\n",
            " flatten_6 (Flatten)         (None, 400)               0         \n",
            "                                                                 \n",
            " dense_16 (Dense)            (None, 80)                32080     \n",
            "                                                                 \n",
            " dropout (Dropout)           (None, 80)                0         \n",
            "                                                                 \n",
            " dense_17 (Dense)            (None, 40)                3240      \n",
            "                                                                 \n",
            " dropout_1 (Dropout)         (None, 40)                0         \n",
            "                                                                 \n",
            " dense_18 (Dense)            (None, 2)                 82        \n",
            "                                                                 \n",
            "=================================================================\n",
            "Total params: 35402 (138.29 KB)\n",
            "Trainable params: 35402 (138.29 KB)\n",
            "Non-trainable params: 0 (0.00 Byte)\n",
            "_________________________________________________________________\n"
          ]
        },
        {
          "output_type": "display_data",
          "data": {
            "text/plain": [
              "<IPython.core.display.HTML object>"
            ],
            "text/html": [
              "Finishing last run (ID:35ky5iia) before initializing another..."
            ]
          },
          "metadata": {}
        },
        {
          "output_type": "display_data",
          "data": {
            "text/plain": [
              "VBox(children=(Label(value='0.001 MB of 0.001 MB uploaded\\r'), FloatProgress(value=1.0, max=1.0)))"
            ],
            "application/vnd.jupyter.widget-view+json": {
              "version_major": 2,
              "version_minor": 0,
              "model_id": "52f6e162ea344d279ecf8170ed44a3f8"
            }
          },
          "metadata": {}
        },
        {
          "output_type": "display_data",
          "data": {
            "text/plain": [
              "<IPython.core.display.HTML object>"
            ],
            "text/html": [
              "<style>\n",
              "    table.wandb td:nth-child(1) { padding: 0 10px; text-align: left ; width: auto;} td:nth-child(2) {text-align: left ; width: 100%}\n",
              "    .wandb-row { display: flex; flex-direction: row; flex-wrap: wrap; justify-content: flex-start; width: 100% }\n",
              "    .wandb-col { display: flex; flex-direction: column; flex-basis: 100%; flex: 1; padding: 10px; }\n",
              "    </style>\n",
              "<div class=\"wandb-row\"><div class=\"wandb-col\"><h3>Run history:</h3><br/><table class=\"wandb\"><tr><td>epoch/accuracy</td><td>▁▅▆▆▆▆▇▇▇▇█▇████████</td></tr><tr><td>epoch/epoch</td><td>▁▁▂▂▂▃▃▄▄▄▅▅▅▆▆▇▇▇██</td></tr><tr><td>epoch/learning_rate</td><td>▁▁▁▁▁▁▁▁▁▁▁▁▁▁▁▁▁▁▁▁</td></tr><tr><td>epoch/loss</td><td>█▆▆▅▄▄▄▃▃▃▂▂▂▂▂▁▁▁▁▁</td></tr></table><br/></div><div class=\"wandb-col\"><h3>Run summary:</h3><br/><table class=\"wandb\"><tr><td>epoch/accuracy</td><td>0.90966</td></tr><tr><td>epoch/epoch</td><td>19</td></tr><tr><td>epoch/learning_rate</td><td>0.01</td></tr><tr><td>epoch/loss</td><td>0.25555</td></tr></table><br/></div></div>"
            ]
          },
          "metadata": {}
        },
        {
          "output_type": "display_data",
          "data": {
            "text/plain": [
              "<IPython.core.display.HTML object>"
            ],
            "text/html": [
              " View run <strong style=\"color:#cdcd00\">grateful-serenity-5</strong> at: <a href='https://wandb.ai/health-info/WPO%205%20task%204.3/runs/35ky5iia' target=\"_blank\">https://wandb.ai/health-info/WPO%205%20task%204.3/runs/35ky5iia</a><br/>Synced 5 W&B file(s), 0 media file(s), 0 artifact file(s) and 0 other file(s)"
            ]
          },
          "metadata": {}
        },
        {
          "output_type": "display_data",
          "data": {
            "text/plain": [
              "<IPython.core.display.HTML object>"
            ],
            "text/html": [
              "Find logs at: <code>./wandb/run-20240321_190728-35ky5iia/logs</code>"
            ]
          },
          "metadata": {}
        },
        {
          "output_type": "display_data",
          "data": {
            "text/plain": [
              "<IPython.core.display.HTML object>"
            ],
            "text/html": [
              "Successfully finished last run (ID:35ky5iia). Initializing new run:<br/>"
            ]
          },
          "metadata": {}
        },
        {
          "output_type": "display_data",
          "data": {
            "text/plain": [
              "<IPython.core.display.HTML object>"
            ],
            "text/html": [
              "Tracking run with wandb version 0.16.4"
            ]
          },
          "metadata": {}
        },
        {
          "output_type": "display_data",
          "data": {
            "text/plain": [
              "<IPython.core.display.HTML object>"
            ],
            "text/html": [
              "Run data is saved locally in <code>/content/wandb/run-20240321_190741-eigx45wt</code>"
            ]
          },
          "metadata": {}
        },
        {
          "output_type": "display_data",
          "data": {
            "text/plain": [
              "<IPython.core.display.HTML object>"
            ],
            "text/html": [
              "Syncing run <strong><a href='https://wandb.ai/health-info/WPO%205%20task%204.3/runs/eigx45wt' target=\"_blank\">fanciful-bird-6</a></strong> to <a href='https://wandb.ai/health-info/WPO%205%20task%204.3' target=\"_blank\">Weights & Biases</a> (<a href='https://wandb.me/run' target=\"_blank\">docs</a>)<br/>"
            ]
          },
          "metadata": {}
        },
        {
          "output_type": "display_data",
          "data": {
            "text/plain": [
              "<IPython.core.display.HTML object>"
            ],
            "text/html": [
              " View project at <a href='https://wandb.ai/health-info/WPO%205%20task%204.3' target=\"_blank\">https://wandb.ai/health-info/WPO%205%20task%204.3</a>"
            ]
          },
          "metadata": {}
        },
        {
          "output_type": "display_data",
          "data": {
            "text/plain": [
              "<IPython.core.display.HTML object>"
            ],
            "text/html": [
              " View run at <a href='https://wandb.ai/health-info/WPO%205%20task%204.3/runs/eigx45wt' target=\"_blank\">https://wandb.ai/health-info/WPO%205%20task%204.3/runs/eigx45wt</a>"
            ]
          },
          "metadata": {}
        },
        {
          "output_type": "stream",
          "name": "stdout",
          "text": [
            "Epoch 1/20\n",
            "88/88 [==============================] - 1s 3ms/step - loss: 0.6568 - accuracy: 0.6157\n",
            "Epoch 2/20\n",
            "88/88 [==============================] - 0s 4ms/step - loss: 0.5849 - accuracy: 0.7299\n",
            "Epoch 3/20\n",
            "88/88 [==============================] - 0s 3ms/step - loss: 0.5301 - accuracy: 0.7729\n",
            "Epoch 4/20\n",
            "88/88 [==============================] - 0s 3ms/step - loss: 0.4986 - accuracy: 0.7925\n",
            "Epoch 5/20\n",
            "88/88 [==============================] - 0s 3ms/step - loss: 0.4634 - accuracy: 0.8160\n",
            "Epoch 6/20\n",
            "88/88 [==============================] - 0s 3ms/step - loss: 0.4504 - accuracy: 0.8284\n",
            "Epoch 7/20\n",
            "88/88 [==============================] - 0s 2ms/step - loss: 0.4076 - accuracy: 0.8485\n",
            "Epoch 8/20\n",
            "88/88 [==============================] - 0s 2ms/step - loss: 0.4058 - accuracy: 0.8370\n",
            "Epoch 9/20\n",
            "88/88 [==============================] - 0s 5ms/step - loss: 0.3911 - accuracy: 0.8451\n",
            "Epoch 10/20\n",
            "88/88 [==============================] - 0s 3ms/step - loss: 0.3756 - accuracy: 0.8461\n",
            "Epoch 11/20\n",
            "88/88 [==============================] - 0s 3ms/step - loss: 0.3665 - accuracy: 0.8599\n",
            "Epoch 12/20\n",
            "88/88 [==============================] - 0s 4ms/step - loss: 0.3601 - accuracy: 0.8590\n",
            "Epoch 13/20\n",
            "88/88 [==============================] - 0s 3ms/step - loss: 0.3477 - accuracy: 0.8705\n",
            "Epoch 14/20\n",
            "88/88 [==============================] - 0s 4ms/step - loss: 0.3368 - accuracy: 0.8662\n",
            "Epoch 15/20\n",
            "88/88 [==============================] - 0s 5ms/step - loss: 0.3205 - accuracy: 0.8714\n",
            "Epoch 16/20\n",
            "88/88 [==============================] - 1s 6ms/step - loss: 0.3181 - accuracy: 0.8776\n",
            "Epoch 17/20\n",
            "88/88 [==============================] - 1s 9ms/step - loss: 0.3163 - accuracy: 0.8858\n",
            "Epoch 18/20\n",
            "88/88 [==============================] - 1s 9ms/step - loss: 0.3139 - accuracy: 0.8709\n",
            "Epoch 19/20\n",
            "88/88 [==============================] - 1s 9ms/step - loss: 0.3112 - accuracy: 0.8772\n",
            "Epoch 20/20\n",
            "88/88 [==============================] - 1s 6ms/step - loss: 0.2934 - accuracy: 0.8991\n",
            "Model: \"sequential_7\"\n",
            "_________________________________________________________________\n",
            " Layer (type)                Output Shape              Param #   \n",
            "=================================================================\n",
            " flatten_7 (Flatten)         (None, 400)               0         \n",
            "                                                                 \n",
            " dense_19 (Dense)            (None, 80)                32080     \n",
            "                                                                 \n",
            " dropout_2 (Dropout)         (None, 80)                0         \n",
            "                                                                 \n",
            " dense_20 (Dense)            (None, 40)                3240      \n",
            "                                                                 \n",
            " dropout_3 (Dropout)         (None, 40)                0         \n",
            "                                                                 \n",
            " dense_21 (Dense)            (None, 2)                 82        \n",
            "                                                                 \n",
            "=================================================================\n",
            "Total params: 35402 (138.29 KB)\n",
            "Trainable params: 35402 (138.29 KB)\n",
            "Non-trainable params: 0 (0.00 Byte)\n",
            "_________________________________________________________________\n"
          ]
        },
        {
          "output_type": "display_data",
          "data": {
            "text/plain": [
              "<IPython.core.display.HTML object>"
            ],
            "text/html": [
              "Finishing last run (ID:eigx45wt) before initializing another..."
            ]
          },
          "metadata": {}
        },
        {
          "output_type": "display_data",
          "data": {
            "text/plain": [
              "VBox(children=(Label(value='0.001 MB of 0.013 MB uploaded\\r'), FloatProgress(value=0.07899891186071817, max=1.…"
            ],
            "application/vnd.jupyter.widget-view+json": {
              "version_major": 2,
              "version_minor": 0,
              "model_id": "dabd999df4d1412db601129161ec5ec9"
            }
          },
          "metadata": {}
        },
        {
          "output_type": "display_data",
          "data": {
            "text/plain": [
              "<IPython.core.display.HTML object>"
            ],
            "text/html": [
              "<style>\n",
              "    table.wandb td:nth-child(1) { padding: 0 10px; text-align: left ; width: auto;} td:nth-child(2) {text-align: left ; width: 100%}\n",
              "    .wandb-row { display: flex; flex-direction: row; flex-wrap: wrap; justify-content: flex-start; width: 100% }\n",
              "    .wandb-col { display: flex; flex-direction: column; flex-basis: 100%; flex: 1; padding: 10px; }\n",
              "    </style>\n",
              "<div class=\"wandb-row\"><div class=\"wandb-col\"><h3>Run history:</h3><br/><table class=\"wandb\"><tr><td>epoch/accuracy</td><td>▁▄▅▅▆▆▇▆▇▇▇▇▇▇▇▇█▇▇█</td></tr><tr><td>epoch/epoch</td><td>▁▁▂▂▂▃▃▄▄▄▅▅▅▆▆▇▇▇██</td></tr><tr><td>epoch/learning_rate</td><td>▁▁▁▁▁▁▁▁▁▁▁▁▁▁▁▁▁▁▁▁</td></tr><tr><td>epoch/loss</td><td>█▇▆▅▄▄▃▃▃▃▂▂▂▂▂▁▁▁▁▁</td></tr></table><br/></div><div class=\"wandb-col\"><h3>Run summary:</h3><br/><table class=\"wandb\"><tr><td>epoch/accuracy</td><td>0.89914</td></tr><tr><td>epoch/epoch</td><td>19</td></tr><tr><td>epoch/learning_rate</td><td>0.01</td></tr><tr><td>epoch/loss</td><td>0.29344</td></tr></table><br/></div></div>"
            ]
          },
          "metadata": {}
        },
        {
          "output_type": "display_data",
          "data": {
            "text/plain": [
              "<IPython.core.display.HTML object>"
            ],
            "text/html": [
              " View run <strong style=\"color:#cdcd00\">fanciful-bird-6</strong> at: <a href='https://wandb.ai/health-info/WPO%205%20task%204.3/runs/eigx45wt' target=\"_blank\">https://wandb.ai/health-info/WPO%205%20task%204.3/runs/eigx45wt</a><br/>Synced 5 W&B file(s), 0 media file(s), 0 artifact file(s) and 0 other file(s)"
            ]
          },
          "metadata": {}
        },
        {
          "output_type": "display_data",
          "data": {
            "text/plain": [
              "<IPython.core.display.HTML object>"
            ],
            "text/html": [
              "Find logs at: <code>./wandb/run-20240321_190741-eigx45wt/logs</code>"
            ]
          },
          "metadata": {}
        },
        {
          "output_type": "display_data",
          "data": {
            "text/plain": [
              "<IPython.core.display.HTML object>"
            ],
            "text/html": [
              "Successfully finished last run (ID:eigx45wt). Initializing new run:<br/>"
            ]
          },
          "metadata": {}
        },
        {
          "output_type": "display_data",
          "data": {
            "text/plain": [
              "<IPython.core.display.HTML object>"
            ],
            "text/html": [
              "Tracking run with wandb version 0.16.4"
            ]
          },
          "metadata": {}
        },
        {
          "output_type": "display_data",
          "data": {
            "text/plain": [
              "<IPython.core.display.HTML object>"
            ],
            "text/html": [
              "Run data is saved locally in <code>/content/wandb/run-20240321_190800-tjpcaoxz</code>"
            ]
          },
          "metadata": {}
        },
        {
          "output_type": "display_data",
          "data": {
            "text/plain": [
              "<IPython.core.display.HTML object>"
            ],
            "text/html": [
              "Syncing run <strong><a href='https://wandb.ai/health-info/WPO%205%20task%204.3/runs/tjpcaoxz' target=\"_blank\">crisp-sky-7</a></strong> to <a href='https://wandb.ai/health-info/WPO%205%20task%204.3' target=\"_blank\">Weights & Biases</a> (<a href='https://wandb.me/run' target=\"_blank\">docs</a>)<br/>"
            ]
          },
          "metadata": {}
        },
        {
          "output_type": "display_data",
          "data": {
            "text/plain": [
              "<IPython.core.display.HTML object>"
            ],
            "text/html": [
              " View project at <a href='https://wandb.ai/health-info/WPO%205%20task%204.3' target=\"_blank\">https://wandb.ai/health-info/WPO%205%20task%204.3</a>"
            ]
          },
          "metadata": {}
        },
        {
          "output_type": "display_data",
          "data": {
            "text/plain": [
              "<IPython.core.display.HTML object>"
            ],
            "text/html": [
              " View run at <a href='https://wandb.ai/health-info/WPO%205%20task%204.3/runs/tjpcaoxz' target=\"_blank\">https://wandb.ai/health-info/WPO%205%20task%204.3/runs/tjpcaoxz</a>"
            ]
          },
          "metadata": {}
        },
        {
          "output_type": "stream",
          "name": "stdout",
          "text": [
            "Epoch 1/20\n",
            "88/88 [==============================] - 1s 5ms/step - loss: 0.6976 - accuracy: 0.5416\n",
            "Epoch 2/20\n",
            "88/88 [==============================] - 1s 7ms/step - loss: 0.6431 - accuracy: 0.6453\n",
            "Epoch 3/20\n",
            "88/88 [==============================] - 1s 8ms/step - loss: 0.6091 - accuracy: 0.7036\n",
            "Epoch 4/20\n",
            "88/88 [==============================] - 1s 7ms/step - loss: 0.5932 - accuracy: 0.7271\n",
            "Epoch 5/20\n",
            "88/88 [==============================] - 1s 6ms/step - loss: 0.5535 - accuracy: 0.7490\n",
            "Epoch 6/20\n",
            "88/88 [==============================] - 1s 8ms/step - loss: 0.5444 - accuracy: 0.7729\n",
            "Epoch 7/20\n",
            "88/88 [==============================] - 1s 7ms/step - loss: 0.5122 - accuracy: 0.7878\n",
            "Epoch 8/20\n",
            "88/88 [==============================] - 1s 7ms/step - loss: 0.5002 - accuracy: 0.7935\n",
            "Epoch 9/20\n",
            "88/88 [==============================] - 1s 7ms/step - loss: 0.4800 - accuracy: 0.8021\n",
            "Epoch 10/20\n",
            "88/88 [==============================] - 0s 5ms/step - loss: 0.4675 - accuracy: 0.8059\n",
            "Epoch 11/20\n",
            "88/88 [==============================] - 0s 3ms/step - loss: 0.4673 - accuracy: 0.8145\n",
            "Epoch 12/20\n",
            "88/88 [==============================] - 0s 3ms/step - loss: 0.4438 - accuracy: 0.8227\n",
            "Epoch 13/20\n",
            "88/88 [==============================] - 0s 2ms/step - loss: 0.4403 - accuracy: 0.8184\n",
            "Epoch 14/20\n",
            "88/88 [==============================] - 0s 2ms/step - loss: 0.4338 - accuracy: 0.8198\n",
            "Epoch 15/20\n",
            "88/88 [==============================] - 0s 2ms/step - loss: 0.4149 - accuracy: 0.8317\n",
            "Epoch 16/20\n",
            "88/88 [==============================] - 0s 2ms/step - loss: 0.4132 - accuracy: 0.8327\n",
            "Epoch 17/20\n",
            "88/88 [==============================] - 0s 2ms/step - loss: 0.4021 - accuracy: 0.8408\n",
            "Epoch 18/20\n",
            "88/88 [==============================] - 0s 2ms/step - loss: 0.3815 - accuracy: 0.8513\n",
            "Epoch 19/20\n",
            "88/88 [==============================] - 0s 2ms/step - loss: 0.3872 - accuracy: 0.8461\n",
            "Epoch 20/20\n",
            "88/88 [==============================] - 0s 2ms/step - loss: 0.3798 - accuracy: 0.8466\n",
            "Model: \"sequential_8\"\n",
            "_________________________________________________________________\n",
            " Layer (type)                Output Shape              Param #   \n",
            "=================================================================\n",
            " flatten_8 (Flatten)         (None, 400)               0         \n",
            "                                                                 \n",
            " dense_22 (Dense)            (None, 80)                32080     \n",
            "                                                                 \n",
            " dropout_4 (Dropout)         (None, 80)                0         \n",
            "                                                                 \n",
            " dense_23 (Dense)            (None, 40)                3240      \n",
            "                                                                 \n",
            " dropout_5 (Dropout)         (None, 40)                0         \n",
            "                                                                 \n",
            " dense_24 (Dense)            (None, 2)                 82        \n",
            "                                                                 \n",
            "=================================================================\n",
            "Total params: 35402 (138.29 KB)\n",
            "Trainable params: 35402 (138.29 KB)\n",
            "Non-trainable params: 0 (0.00 Byte)\n",
            "_________________________________________________________________\n"
          ]
        },
        {
          "output_type": "display_data",
          "data": {
            "text/plain": [
              "<IPython.core.display.HTML object>"
            ],
            "text/html": [
              "Finishing last run (ID:tjpcaoxz) before initializing another..."
            ]
          },
          "metadata": {}
        },
        {
          "output_type": "display_data",
          "data": {
            "text/plain": [
              "VBox(children=(Label(value='0.001 MB of 0.001 MB uploaded\\r'), FloatProgress(value=1.0, max=1.0)))"
            ],
            "application/vnd.jupyter.widget-view+json": {
              "version_major": 2,
              "version_minor": 0,
              "model_id": "1b0736a895ad41cc9f5940a02d792b21"
            }
          },
          "metadata": {}
        },
        {
          "output_type": "display_data",
          "data": {
            "text/plain": [
              "<IPython.core.display.HTML object>"
            ],
            "text/html": [
              "<style>\n",
              "    table.wandb td:nth-child(1) { padding: 0 10px; text-align: left ; width: auto;} td:nth-child(2) {text-align: left ; width: 100%}\n",
              "    .wandb-row { display: flex; flex-direction: row; flex-wrap: wrap; justify-content: flex-start; width: 100% }\n",
              "    .wandb-col { display: flex; flex-direction: column; flex-basis: 100%; flex: 1; padding: 10px; }\n",
              "    </style>\n",
              "<div class=\"wandb-row\"><div class=\"wandb-col\"><h3>Run history:</h3><br/><table class=\"wandb\"><tr><td>epoch/accuracy</td><td>▁▃▅▅▆▆▇▇▇▇▇▇▇▇██████</td></tr><tr><td>epoch/epoch</td><td>▁▁▂▂▂▃▃▄▄▄▅▅▅▆▆▇▇▇██</td></tr><tr><td>epoch/learning_rate</td><td>▁▁▁▁▁▁▁▁▁▁▁▁▁▁▁▁▁▁▁▁</td></tr><tr><td>epoch/loss</td><td>█▇▆▆▅▅▄▄▃▃▃▂▂▂▂▂▁▁▁▁</td></tr></table><br/></div><div class=\"wandb-col\"><h3>Run summary:</h3><br/><table class=\"wandb\"><tr><td>epoch/accuracy</td><td>0.84656</td></tr><tr><td>epoch/epoch</td><td>19</td></tr><tr><td>epoch/learning_rate</td><td>0.01</td></tr><tr><td>epoch/loss</td><td>0.37981</td></tr></table><br/></div></div>"
            ]
          },
          "metadata": {}
        },
        {
          "output_type": "display_data",
          "data": {
            "text/plain": [
              "<IPython.core.display.HTML object>"
            ],
            "text/html": [
              " View run <strong style=\"color:#cdcd00\">crisp-sky-7</strong> at: <a href='https://wandb.ai/health-info/WPO%205%20task%204.3/runs/tjpcaoxz' target=\"_blank\">https://wandb.ai/health-info/WPO%205%20task%204.3/runs/tjpcaoxz</a><br/>Synced 5 W&B file(s), 0 media file(s), 0 artifact file(s) and 0 other file(s)"
            ]
          },
          "metadata": {}
        },
        {
          "output_type": "display_data",
          "data": {
            "text/plain": [
              "<IPython.core.display.HTML object>"
            ],
            "text/html": [
              "Find logs at: <code>./wandb/run-20240321_190800-tjpcaoxz/logs</code>"
            ]
          },
          "metadata": {}
        },
        {
          "output_type": "display_data",
          "data": {
            "text/plain": [
              "<IPython.core.display.HTML object>"
            ],
            "text/html": [
              "Successfully finished last run (ID:tjpcaoxz). Initializing new run:<br/>"
            ]
          },
          "metadata": {}
        },
        {
          "output_type": "display_data",
          "data": {
            "text/plain": [
              "<IPython.core.display.HTML object>"
            ],
            "text/html": [
              "Tracking run with wandb version 0.16.4"
            ]
          },
          "metadata": {}
        },
        {
          "output_type": "display_data",
          "data": {
            "text/plain": [
              "<IPython.core.display.HTML object>"
            ],
            "text/html": [
              "Run data is saved locally in <code>/content/wandb/run-20240321_190819-nclxvje1</code>"
            ]
          },
          "metadata": {}
        },
        {
          "output_type": "display_data",
          "data": {
            "text/plain": [
              "<IPython.core.display.HTML object>"
            ],
            "text/html": [
              "Syncing run <strong><a href='https://wandb.ai/health-info/WPO%205%20task%204.3/runs/nclxvje1' target=\"_blank\">snowy-wave-8</a></strong> to <a href='https://wandb.ai/health-info/WPO%205%20task%204.3' target=\"_blank\">Weights & Biases</a> (<a href='https://wandb.me/run' target=\"_blank\">docs</a>)<br/>"
            ]
          },
          "metadata": {}
        },
        {
          "output_type": "display_data",
          "data": {
            "text/plain": [
              "<IPython.core.display.HTML object>"
            ],
            "text/html": [
              " View project at <a href='https://wandb.ai/health-info/WPO%205%20task%204.3' target=\"_blank\">https://wandb.ai/health-info/WPO%205%20task%204.3</a>"
            ]
          },
          "metadata": {}
        },
        {
          "output_type": "display_data",
          "data": {
            "text/plain": [
              "<IPython.core.display.HTML object>"
            ],
            "text/html": [
              " View run at <a href='https://wandb.ai/health-info/WPO%205%20task%204.3/runs/nclxvje1' target=\"_blank\">https://wandb.ai/health-info/WPO%205%20task%204.3/runs/nclxvje1</a>"
            ]
          },
          "metadata": {}
        },
        {
          "output_type": "stream",
          "name": "stdout",
          "text": [
            "Epoch 1/20\n",
            "88/88 [==============================] - 1s 2ms/step - loss: 0.7331 - accuracy: 0.5330\n",
            "Epoch 2/20\n",
            "88/88 [==============================] - 0s 2ms/step - loss: 0.6702 - accuracy: 0.5918\n",
            "Epoch 3/20\n",
            "88/88 [==============================] - 0s 2ms/step - loss: 0.6478 - accuracy: 0.6448\n",
            "Epoch 4/20\n",
            "88/88 [==============================] - 0s 2ms/step - loss: 0.6174 - accuracy: 0.7051\n",
            "Epoch 5/20\n",
            "88/88 [==============================] - 0s 2ms/step - loss: 0.6023 - accuracy: 0.7127\n",
            "Epoch 6/20\n",
            "88/88 [==============================] - 0s 3ms/step - loss: 0.5933 - accuracy: 0.7194\n",
            "Epoch 7/20\n",
            "88/88 [==============================] - 0s 2ms/step - loss: 0.5765 - accuracy: 0.7318\n",
            "Epoch 8/20\n",
            "88/88 [==============================] - 0s 2ms/step - loss: 0.5444 - accuracy: 0.7629\n",
            "Epoch 9/20\n",
            "88/88 [==============================] - 0s 2ms/step - loss: 0.5366 - accuracy: 0.7438\n",
            "Epoch 10/20\n",
            "88/88 [==============================] - 0s 2ms/step - loss: 0.5153 - accuracy: 0.7600\n",
            "Epoch 11/20\n",
            "88/88 [==============================] - 0s 2ms/step - loss: 0.5176 - accuracy: 0.7653\n",
            "Epoch 12/20\n",
            "88/88 [==============================] - 0s 2ms/step - loss: 0.5192 - accuracy: 0.7744\n",
            "Epoch 13/20\n",
            "88/88 [==============================] - 0s 2ms/step - loss: 0.5051 - accuracy: 0.7801\n",
            "Epoch 14/20\n",
            "88/88 [==============================] - 0s 2ms/step - loss: 0.5065 - accuracy: 0.7744\n",
            "Epoch 15/20\n",
            "88/88 [==============================] - 0s 2ms/step - loss: 0.4758 - accuracy: 0.7882\n",
            "Epoch 16/20\n",
            "88/88 [==============================] - 0s 2ms/step - loss: 0.4583 - accuracy: 0.8064\n",
            "Epoch 17/20\n",
            "88/88 [==============================] - 0s 2ms/step - loss: 0.4519 - accuracy: 0.7992\n",
            "Epoch 18/20\n",
            "88/88 [==============================] - 0s 2ms/step - loss: 0.4636 - accuracy: 0.7978\n",
            "Epoch 19/20\n",
            "88/88 [==============================] - 0s 2ms/step - loss: 0.4505 - accuracy: 0.8040\n",
            "Epoch 20/20\n",
            "88/88 [==============================] - 0s 2ms/step - loss: 0.4432 - accuracy: 0.8117\n",
            "Model: \"sequential_9\"\n",
            "_________________________________________________________________\n",
            " Layer (type)                Output Shape              Param #   \n",
            "=================================================================\n",
            " flatten_9 (Flatten)         (None, 400)               0         \n",
            "                                                                 \n",
            " dense_25 (Dense)            (None, 80)                32080     \n",
            "                                                                 \n",
            " dropout_6 (Dropout)         (None, 80)                0         \n",
            "                                                                 \n",
            " dense_26 (Dense)            (None, 40)                3240      \n",
            "                                                                 \n",
            " dropout_7 (Dropout)         (None, 40)                0         \n",
            "                                                                 \n",
            " dense_27 (Dense)            (None, 2)                 82        \n",
            "                                                                 \n",
            "=================================================================\n",
            "Total params: 35402 (138.29 KB)\n",
            "Trainable params: 35402 (138.29 KB)\n",
            "Non-trainable params: 0 (0.00 Byte)\n",
            "_________________________________________________________________\n"
          ]
        },
        {
          "output_type": "display_data",
          "data": {
            "text/plain": [
              "<IPython.core.display.HTML object>"
            ],
            "text/html": [
              "Finishing last run (ID:nclxvje1) before initializing another..."
            ]
          },
          "metadata": {}
        },
        {
          "output_type": "display_data",
          "data": {
            "text/plain": [
              "VBox(children=(Label(value='0.001 MB of 0.001 MB uploaded\\r'), FloatProgress(value=1.0, max=1.0)))"
            ],
            "application/vnd.jupyter.widget-view+json": {
              "version_major": 2,
              "version_minor": 0,
              "model_id": "9184af86b25f45749c35a03a5d909a46"
            }
          },
          "metadata": {}
        },
        {
          "output_type": "display_data",
          "data": {
            "text/plain": [
              "<IPython.core.display.HTML object>"
            ],
            "text/html": [
              "<style>\n",
              "    table.wandb td:nth-child(1) { padding: 0 10px; text-align: left ; width: auto;} td:nth-child(2) {text-align: left ; width: 100%}\n",
              "    .wandb-row { display: flex; flex-direction: row; flex-wrap: wrap; justify-content: flex-start; width: 100% }\n",
              "    .wandb-col { display: flex; flex-direction: column; flex-basis: 100%; flex: 1; padding: 10px; }\n",
              "    </style>\n",
              "<div class=\"wandb-row\"><div class=\"wandb-col\"><h3>Run history:</h3><br/><table class=\"wandb\"><tr><td>epoch/accuracy</td><td>▁▂▄▅▆▆▆▇▆▇▇▇▇▇▇█████</td></tr><tr><td>epoch/epoch</td><td>▁▁▂▂▂▃▃▄▄▄▅▅▅▆▆▇▇▇██</td></tr><tr><td>epoch/learning_rate</td><td>▁▁▁▁▁▁▁▁▁▁▁▁▁▁▁▁▁▁▁▁</td></tr><tr><td>epoch/loss</td><td>█▆▆▅▅▅▄▃▃▃▃▃▂▃▂▁▁▁▁▁</td></tr></table><br/></div><div class=\"wandb-col\"><h3>Run summary:</h3><br/><table class=\"wandb\"><tr><td>epoch/accuracy</td><td>0.81166</td></tr><tr><td>epoch/epoch</td><td>19</td></tr><tr><td>epoch/learning_rate</td><td>0.01</td></tr><tr><td>epoch/loss</td><td>0.44322</td></tr></table><br/></div></div>"
            ]
          },
          "metadata": {}
        },
        {
          "output_type": "display_data",
          "data": {
            "text/plain": [
              "<IPython.core.display.HTML object>"
            ],
            "text/html": [
              " View run <strong style=\"color:#cdcd00\">snowy-wave-8</strong> at: <a href='https://wandb.ai/health-info/WPO%205%20task%204.3/runs/nclxvje1' target=\"_blank\">https://wandb.ai/health-info/WPO%205%20task%204.3/runs/nclxvje1</a><br/>Synced 5 W&B file(s), 0 media file(s), 0 artifact file(s) and 0 other file(s)"
            ]
          },
          "metadata": {}
        },
        {
          "output_type": "display_data",
          "data": {
            "text/plain": [
              "<IPython.core.display.HTML object>"
            ],
            "text/html": [
              "Find logs at: <code>./wandb/run-20240321_190819-nclxvje1/logs</code>"
            ]
          },
          "metadata": {}
        },
        {
          "output_type": "display_data",
          "data": {
            "text/plain": [
              "<IPython.core.display.HTML object>"
            ],
            "text/html": [
              "Successfully finished last run (ID:nclxvje1). Initializing new run:<br/>"
            ]
          },
          "metadata": {}
        },
        {
          "output_type": "display_data",
          "data": {
            "text/plain": [
              "<IPython.core.display.HTML object>"
            ],
            "text/html": [
              "Tracking run with wandb version 0.16.4"
            ]
          },
          "metadata": {}
        },
        {
          "output_type": "display_data",
          "data": {
            "text/plain": [
              "<IPython.core.display.HTML object>"
            ],
            "text/html": [
              "Run data is saved locally in <code>/content/wandb/run-20240321_190834-4lcy6wbv</code>"
            ]
          },
          "metadata": {}
        },
        {
          "output_type": "display_data",
          "data": {
            "text/plain": [
              "<IPython.core.display.HTML object>"
            ],
            "text/html": [
              "Syncing run <strong><a href='https://wandb.ai/health-info/WPO%205%20task%204.3/runs/4lcy6wbv' target=\"_blank\">cosmic-wind-9</a></strong> to <a href='https://wandb.ai/health-info/WPO%205%20task%204.3' target=\"_blank\">Weights & Biases</a> (<a href='https://wandb.me/run' target=\"_blank\">docs</a>)<br/>"
            ]
          },
          "metadata": {}
        },
        {
          "output_type": "display_data",
          "data": {
            "text/plain": [
              "<IPython.core.display.HTML object>"
            ],
            "text/html": [
              " View project at <a href='https://wandb.ai/health-info/WPO%205%20task%204.3' target=\"_blank\">https://wandb.ai/health-info/WPO%205%20task%204.3</a>"
            ]
          },
          "metadata": {}
        },
        {
          "output_type": "display_data",
          "data": {
            "text/plain": [
              "<IPython.core.display.HTML object>"
            ],
            "text/html": [
              " View run at <a href='https://wandb.ai/health-info/WPO%205%20task%204.3/runs/4lcy6wbv' target=\"_blank\">https://wandb.ai/health-info/WPO%205%20task%204.3/runs/4lcy6wbv</a>"
            ]
          },
          "metadata": {}
        },
        {
          "output_type": "stream",
          "name": "stdout",
          "text": [
            "Epoch 1/20\n",
            "88/88 [==============================] - 1s 2ms/step - loss: 0.8752 - accuracy: 0.5272\n",
            "Epoch 2/20\n",
            "88/88 [==============================] - 0s 2ms/step - loss: 0.7075 - accuracy: 0.5411\n",
            "Epoch 3/20\n",
            "88/88 [==============================] - 0s 2ms/step - loss: 0.6993 - accuracy: 0.5411\n",
            "Epoch 4/20\n",
            "88/88 [==============================] - 0s 2ms/step - loss: 0.6897 - accuracy: 0.5531\n",
            "Epoch 5/20\n",
            "88/88 [==============================] - 0s 2ms/step - loss: 0.6839 - accuracy: 0.5540\n",
            "Epoch 6/20\n",
            "88/88 [==============================] - 0s 2ms/step - loss: 0.6891 - accuracy: 0.5492\n",
            "Epoch 7/20\n",
            "88/88 [==============================] - 0s 2ms/step - loss: 0.6831 - accuracy: 0.5545\n",
            "Epoch 8/20\n",
            "88/88 [==============================] - 0s 2ms/step - loss: 0.6766 - accuracy: 0.5703\n",
            "Epoch 9/20\n",
            "88/88 [==============================] - 0s 2ms/step - loss: 0.6736 - accuracy: 0.5736\n",
            "Epoch 10/20\n",
            "88/88 [==============================] - 0s 3ms/step - loss: 0.6753 - accuracy: 0.5684\n",
            "Epoch 11/20\n",
            "88/88 [==============================] - 0s 3ms/step - loss: 0.6818 - accuracy: 0.5602\n",
            "Epoch 12/20\n",
            "88/88 [==============================] - 0s 3ms/step - loss: 0.6718 - accuracy: 0.5736\n",
            "Epoch 13/20\n",
            "88/88 [==============================] - 0s 3ms/step - loss: 0.6662 - accuracy: 0.5837\n",
            "Epoch 14/20\n",
            "88/88 [==============================] - 0s 3ms/step - loss: 0.6673 - accuracy: 0.5856\n",
            "Epoch 15/20\n",
            "88/88 [==============================] - 0s 3ms/step - loss: 0.6726 - accuracy: 0.5674\n",
            "Epoch 16/20\n",
            "88/88 [==============================] - 0s 3ms/step - loss: 0.6689 - accuracy: 0.5860\n",
            "Epoch 17/20\n",
            "88/88 [==============================] - 0s 3ms/step - loss: 0.6697 - accuracy: 0.5908\n",
            "Epoch 18/20\n",
            "88/88 [==============================] - 0s 2ms/step - loss: 0.6647 - accuracy: 0.6009\n",
            "Epoch 19/20\n",
            "88/88 [==============================] - 0s 3ms/step - loss: 0.6527 - accuracy: 0.6042\n",
            "Epoch 20/20\n",
            "88/88 [==============================] - 0s 3ms/step - loss: 0.6662 - accuracy: 0.6013\n",
            "Model: \"sequential_10\"\n",
            "_________________________________________________________________\n",
            " Layer (type)                Output Shape              Param #   \n",
            "=================================================================\n",
            " flatten_10 (Flatten)        (None, 400)               0         \n",
            "                                                                 \n",
            " dense_28 (Dense)            (None, 80)                32080     \n",
            "                                                                 \n",
            " dropout_8 (Dropout)         (None, 80)                0         \n",
            "                                                                 \n",
            " dense_29 (Dense)            (None, 40)                3240      \n",
            "                                                                 \n",
            " dropout_9 (Dropout)         (None, 40)                0         \n",
            "                                                                 \n",
            " dense_30 (Dense)            (None, 2)                 82        \n",
            "                                                                 \n",
            "=================================================================\n",
            "Total params: 35402 (138.29 KB)\n",
            "Trainable params: 35402 (138.29 KB)\n",
            "Non-trainable params: 0 (0.00 Byte)\n",
            "_________________________________________________________________\n"
          ]
        }
      ],
      "source": [
        "# Code for Part 2: Task 4.3\n",
        "\n",
        "def create_dropout_model(rate):\n",
        "  modelDropout = keras.Sequential()\n",
        "\n",
        "  # adding layers\n",
        "  modelDropout.add(keras.layers.Flatten(input_shape=(20, 20, 1)))\n",
        "  modelDropout.add(keras.layers.Dense(80, activation='relu'))\n",
        "  modelDropout.add(keras.layers.Dropout(rate))\n",
        "  modelDropout.add(keras.layers.Dense(40, activation='relu'))\n",
        "  modelDropout.add(keras.layers.Dropout(rate))\n",
        "  modelDropout.add(keras.layers.Dense(2, activation='softmax'))\n",
        "\n",
        "  modelDropout.compile(optimizer = keras.optimizers.SGD(learning_rate=1e-2), loss='categorical_crossentropy', metrics='accuracy')\n",
        "  wandb.init(project='WPO 5 task 4.3')\n",
        "  modelDropout.fit(X, Y_train, epochs = 20, callbacks=[WandbMetricsLogger()], batch_size=24)\n",
        "  modelDropout.summary()\n",
        "\n",
        "  return modelDropout\n",
        "\n",
        "model_dropout_01 = create_dropout_model(0.1)\n",
        "model_dropout_03 = create_dropout_model(0.3)\n",
        "model_dropout_05 = create_dropout_model(0.5)\n",
        "model_dropout_07 = create_dropout_model(0.7)\n",
        "model_dropout_09 = create_dropout_model(0.9)"
      ]
    },
    {
      "cell_type": "code",
      "execution_count": 15,
      "metadata": {
        "colab": {
          "base_uri": "https://localhost:8080/",
          "height": 1000
        },
        "id": "whtVOeepQRL4",
        "outputId": "c2201ce4-0b0d-4978-b978-f4c6ab2223bf"
      },
      "outputs": [
        {
          "output_type": "stream",
          "name": "stdout",
          "text": [
            "8/8 [==============================] - 0s 2ms/step\n",
            "the confusion matrix is:\n",
            "[[ 91   8]\n",
            " [ 24 110]]\n",
            "the accuracy score is: 0.8626609442060086\n"
          ]
        },
        {
          "output_type": "display_data",
          "data": {
            "text/plain": [
              "<Figure size 640x480 with 1 Axes>"
            ],
            "image/png": "[encoded data removed]"
          },
          "metadata": {}
        },
        {
          "output_type": "stream",
          "name": "stdout",
          "text": [
            "8/8 [==============================] - 0s 2ms/step\n",
            "the confusion matrix is:\n",
            "[[ 94   5]\n",
            " [ 26 108]]\n",
            "the accuracy score is: 0.8669527896995708\n"
          ]
        },
        {
          "output_type": "display_data",
          "data": {
            "text/plain": [
              "<Figure size 640x480 with 1 Axes>"
            ],
            "image/png": "[encoded data removed]"
          },
          "metadata": {}
        },
        {
          "output_type": "stream",
          "name": "stdout",
          "text": [
            "8/8 [==============================] - 0s 2ms/step\n",
            "the confusion matrix is:\n",
            "[[ 91   8]\n",
            " [ 27 107]]\n",
            "the accuracy score is: 0.8497854077253219\n"
          ]
        },
        {
          "output_type": "display_data",
          "data": {
            "text/plain": [
              "<Figure size 640x480 with 1 Axes>"
            ],
            "image/png": "[encoded data removed]"
          },
          "metadata": {}
        },
        {
          "output_type": "stream",
          "name": "stdout",
          "text": [
            "8/8 [==============================] - 0s 2ms/step\n",
            "the confusion matrix is:\n",
            "[[ 86  13]\n",
            " [ 30 104]]\n",
            "the accuracy score is: 0.8154506437768241\n"
          ]
        },
        {
          "output_type": "display_data",
          "data": {
            "text/plain": [
              "<Figure size 640x480 with 1 Axes>"
            ],
            "image/png": "[encoded data removed]"
          },
          "metadata": {}
        },
        {
          "output_type": "stream",
          "name": "stdout",
          "text": [
            "8/8 [==============================] - 0s 2ms/step\n",
            "the confusion matrix is:\n",
            "[[ 33  66]\n",
            " [  5 129]]\n",
            "the accuracy score is: 0.6952789699570815\n"
          ]
        },
        {
          "output_type": "display_data",
          "data": {
            "text/plain": [
              "<Figure size 640x480 with 1 Axes>"
            ],
            "image/png": "[encoded data removed]"
          },
          "metadata": {}
        }
      ],
      "source": [
        "confusion_matrix_model_dropout_01, accuracy_model_dropout_01, (fpr, tpr, thresholds) = perfomance_assessing(model_dropout_01, X_val, Y_test, 'dropout 0.1')\n",
        "confusion_matrix_model_dropout_03, accuracy_model_dropout_03, (fpr, tpr, thresholds) = perfomance_assessing(model_dropout_03, X_val, Y_test, 'dropout 0.3')\n",
        "confusion_matrix_model_dropout_05, accuracy_model_dropout_05, (fpr, tpr, thresholds) = perfomance_assessing(model_dropout_05, X_val, Y_test, 'dropout 0.5')\n",
        "confusion_matrix_model_dropout_07, accuracy_model_dropout_07, (fpr, tpr, thresholds) = perfomance_assessing(model_dropout_07, X_val, Y_test, 'dropout 0.7')\n",
        "confusion_matrix_model_dropout_09, accuracy_model_dropout_09, (fpr, tpr, thresholds) = perfomance_assessing(model_dropout_09, X_val, Y_test, 'dropout 0.9')\n"
      ]
    },
    {
      "cell_type": "markdown",
      "metadata": {
        "id": "nlGssC0Fw_t1"
      },
      "source": [
        "### Task 5. A Convolutional Neural Network\n",
        "\n",
        "Finally, we are going to implement a convolutional neural network - a network type showing state-of-the-art results in learning from images. This time, your input will not be flattened but we will provide a 2D image as an input (20x20x1 pixels). Use the same hyperparameters as before, unless specified differenly.\n",
        "\n",
        "#### Model definition\n",
        "\n",
        "input -> conv1 -> pool1 -> conv2 -> dense1 -> dense2 -> softmax\n",
        "* convolution layers: kernel size = 3x3, number of channels = 64, activation function = sigmoid\n",
        "* max-pooling layers: kernel size = 2x2, strides = 2\n",
        "* 1st dense layer: 50 neurons, activation function = sigmoid\n",
        "* 2nd dense layer: 2 neurons, activation function = softmax\n",
        "* optimizer = `sgd`\n",
        "* use dropout (e.g. 0.2)\n",
        "\n",
        "__Hint__: Use `.Flatten()` after before the dense layers to ensure a 1D vector as an input.\n",
        "\n",
        "Like before, measure system's prerfomance and explain."
      ]
    },
    {
      "cell_type": "code",
      "execution_count": 28,
      "metadata": {
        "collapsed": true,
        "id": "oSYI-fU9w_t1",
        "colab": {
          "base_uri": "https://localhost:8080/",
          "height": 1000,
          "referenced_widgets": [
            "e332dcac6c814ec9947340eaaef621c7",
            "91b4ee1d32674e7989ca4bda07cb7263",
            "42745c0b66744c0282fe9b64a5479912",
            "134704f0cc28412d88a1de38ba99be3a",
            "8479b16d7bcd4868811cf8039766d9c6",
            "e10e860d55374835a3e660b7fd125cd0",
            "f28e956b53e54d37b8d3af6dba9b8eb6",
            "57c2bfa2708c434d972a7f8f6b186ab8"
          ]
        },
        "outputId": "0fc7b34e-4c24-44ce-81b7-07d6de90dd01"
      },
      "outputs": [
        {
          "output_type": "display_data",
          "data": {
            "text/plain": [
              "<IPython.core.display.HTML object>"
            ],
            "text/html": [
              "Finishing last run (ID:s8n7pl65) before initializing another..."
            ]
          },
          "metadata": {}
        },
        {
          "output_type": "display_data",
          "data": {
            "text/plain": [
              "VBox(children=(Label(value='0.013 MB of 0.013 MB uploaded\\r'), FloatProgress(value=1.0, max=1.0)))"
            ],
            "application/vnd.jupyter.widget-view+json": {
              "version_major": 2,
              "version_minor": 0,
              "model_id": "e332dcac6c814ec9947340eaaef621c7"
            }
          },
          "metadata": {}
        },
        {
          "output_type": "display_data",
          "data": {
            "text/plain": [
              "<IPython.core.display.HTML object>"
            ],
            "text/html": [
              "<style>\n",
              "    table.wandb td:nth-child(1) { padding: 0 10px; text-align: left ; width: auto;} td:nth-child(2) {text-align: left ; width: 100%}\n",
              "    .wandb-row { display: flex; flex-direction: row; flex-wrap: wrap; justify-content: flex-start; width: 100% }\n",
              "    .wandb-col { display: flex; flex-direction: column; flex-basis: 100%; flex: 1; padding: 10px; }\n",
              "    </style>\n",
              "<div class=\"wandb-row\"><div class=\"wandb-col\"><h3>Run history:</h3><br/><table class=\"wandb\"><tr><td>epoch/accuracy</td><td>▁▇█▇▄█▇▇▄▄▄▃▅▄▅█▅█▇▆</td></tr><tr><td>epoch/epoch</td><td>▁▁▂▂▂▃▃▄▄▄▅▅▅▆▆▇▇▇██</td></tr><tr><td>epoch/learning_rate</td><td>▁▁▁▁▁▁▁▁▁▁▁▁▁▁▁▁▁▁▁▁</td></tr><tr><td>epoch/loss</td><td>█▁▁▁▁▁▁▁▁▁▁▁▁▁▁▁▁▁▁▁</td></tr></table><br/></div><div class=\"wandb-col\"><h3>Run summary:</h3><br/><table class=\"wandb\"><tr><td>epoch/accuracy</td><td>0.50621</td></tr><tr><td>epoch/epoch</td><td>19</td></tr><tr><td>epoch/learning_rate</td><td>0.01</td></tr><tr><td>epoch/loss</td><td>0.6943</td></tr></table><br/></div></div>"
            ]
          },
          "metadata": {}
        },
        {
          "output_type": "display_data",
          "data": {
            "text/plain": [
              "<IPython.core.display.HTML object>"
            ],
            "text/html": [
              " View run <strong style=\"color:#cdcd00\">effortless-tree-2</strong> at: <a href='https://wandb.ai/health-info/WPO%205%20task%205/runs/s8n7pl65' target=\"_blank\">https://wandb.ai/health-info/WPO%205%20task%205/runs/s8n7pl65</a><br/>Synced 5 W&B file(s), 0 media file(s), 0 artifact file(s) and 0 other file(s)"
            ]
          },
          "metadata": {}
        },
        {
          "output_type": "display_data",
          "data": {
            "text/plain": [
              "<IPython.core.display.HTML object>"
            ],
            "text/html": [
              "Find logs at: <code>./wandb/run-20240321_201156-s8n7pl65/logs</code>"
            ]
          },
          "metadata": {}
        },
        {
          "output_type": "display_data",
          "data": {
            "text/plain": [
              "<IPython.core.display.HTML object>"
            ],
            "text/html": [
              "Successfully finished last run (ID:s8n7pl65). Initializing new run:<br/>"
            ]
          },
          "metadata": {}
        },
        {
          "output_type": "display_data",
          "data": {
            "text/plain": [
              "<IPython.core.display.HTML object>"
            ],
            "text/html": [
              "Tracking run with wandb version 0.16.4"
            ]
          },
          "metadata": {}
        },
        {
          "output_type": "display_data",
          "data": {
            "text/plain": [
              "<IPython.core.display.HTML object>"
            ],
            "text/html": [
              "Run data is saved locally in <code>/content/wandb/run-20240321_201411-pvbypau7</code>"
            ]
          },
          "metadata": {}
        },
        {
          "output_type": "display_data",
          "data": {
            "text/plain": [
              "<IPython.core.display.HTML object>"
            ],
            "text/html": [
              "Syncing run <strong><a href='https://wandb.ai/health-info/WPO%205%20task%205/runs/pvbypau7' target=\"_blank\">revived-sponge-3</a></strong> to <a href='https://wandb.ai/health-info/WPO%205%20task%205' target=\"_blank\">Weights & Biases</a> (<a href='https://wandb.me/run' target=\"_blank\">docs</a>)<br/>"
            ]
          },
          "metadata": {}
        },
        {
          "output_type": "display_data",
          "data": {
            "text/plain": [
              "<IPython.core.display.HTML object>"
            ],
            "text/html": [
              " View project at <a href='https://wandb.ai/health-info/WPO%205%20task%205' target=\"_blank\">https://wandb.ai/health-info/WPO%205%20task%205</a>"
            ]
          },
          "metadata": {}
        },
        {
          "output_type": "display_data",
          "data": {
            "text/plain": [
              "<IPython.core.display.HTML object>"
            ],
            "text/html": [
              " View run at <a href='https://wandb.ai/health-info/WPO%205%20task%205/runs/pvbypau7' target=\"_blank\">https://wandb.ai/health-info/WPO%205%20task%205/runs/pvbypau7</a>"
            ]
          },
          "metadata": {}
        },
        {
          "output_type": "stream",
          "name": "stdout",
          "text": [
            "Epoch 1/20\n",
            "88/88 [==============================] - 2s 15ms/step - loss: 0.6968 - accuracy: 0.5048\n",
            "Epoch 2/20\n",
            "88/88 [==============================] - 1s 16ms/step - loss: 0.6947 - accuracy: 0.5163\n",
            "Epoch 3/20\n",
            "88/88 [==============================] - 2s 23ms/step - loss: 0.6951 - accuracy: 0.5048\n",
            "Epoch 4/20\n",
            "88/88 [==============================] - 2s 27ms/step - loss: 0.6946 - accuracy: 0.4947\n",
            "Epoch 5/20\n",
            "88/88 [==============================] - 1s 16ms/step - loss: 0.6941 - accuracy: 0.5201\n",
            "Epoch 6/20\n",
            "88/88 [==============================] - 1s 16ms/step - loss: 0.6915 - accuracy: 0.5325\n",
            "Epoch 7/20\n",
            "88/88 [==============================] - 1s 15ms/step - loss: 0.6946 - accuracy: 0.5024\n",
            "Epoch 8/20\n",
            "88/88 [==============================] - 1s 15ms/step - loss: 0.6934 - accuracy: 0.5067\n",
            "Epoch 9/20\n",
            "88/88 [==============================] - 1s 16ms/step - loss: 0.6926 - accuracy: 0.5196\n",
            "Epoch 10/20\n",
            "88/88 [==============================] - 1s 15ms/step - loss: 0.6936 - accuracy: 0.5105\n",
            "Epoch 11/20\n",
            "88/88 [==============================] - 1s 16ms/step - loss: 0.6918 - accuracy: 0.5225\n",
            "Epoch 12/20\n",
            "88/88 [==============================] - 2s 23ms/step - loss: 0.6925 - accuracy: 0.5225\n",
            "Epoch 13/20\n",
            "88/88 [==============================] - 2s 26ms/step - loss: 0.6941 - accuracy: 0.5000\n",
            "Epoch 14/20\n",
            "88/88 [==============================] - 2s 17ms/step - loss: 0.6927 - accuracy: 0.5177\n",
            "Epoch 15/20\n",
            "88/88 [==============================] - 1s 15ms/step - loss: 0.6923 - accuracy: 0.5206\n",
            "Epoch 16/20\n",
            "88/88 [==============================] - 1s 15ms/step - loss: 0.6933 - accuracy: 0.5014\n",
            "Epoch 17/20\n",
            "88/88 [==============================] - 1s 16ms/step - loss: 0.6925 - accuracy: 0.5067\n",
            "Epoch 18/20\n",
            "88/88 [==============================] - 1s 15ms/step - loss: 0.6917 - accuracy: 0.5325\n",
            "Epoch 19/20\n",
            "88/88 [==============================] - 1s 16ms/step - loss: 0.6927 - accuracy: 0.5110\n",
            "Epoch 20/20\n",
            "88/88 [==============================] - 1s 16ms/step - loss: 0.6922 - accuracy: 0.5206\n",
            "Model: \"sequential_16\"\n",
            "_________________________________________________________________\n",
            " Layer (type)                Output Shape              Param #   \n",
            "=================================================================\n",
            " conv2d_4 (Conv2D)           (None, 18, 18, 64)        640       \n",
            "                                                                 \n",
            " max_pooling2d_3 (MaxPoolin  (None, 9, 9, 64)          0         \n",
            " g2D)                                                            \n",
            "                                                                 \n",
            " conv2d_5 (Conv2D)           (None, 7, 7, 64)          36928     \n",
            "                                                                 \n",
            " max_pooling2d_4 (MaxPoolin  (None, 3, 3, 64)          0         \n",
            " g2D)                                                            \n",
            "                                                                 \n",
            " flatten_17 (Flatten)        (None, 576)               0         \n",
            "                                                                 \n",
            " dense_44 (Dense)            (None, 50)                28850     \n",
            "                                                                 \n",
            " dense_45 (Dense)            (None, 2)                 102       \n",
            "                                                                 \n",
            "=================================================================\n",
            "Total params: 66520 (259.84 KB)\n",
            "Trainable params: 66520 (259.84 KB)\n",
            "Non-trainable params: 0 (0.00 Byte)\n",
            "_________________________________________________________________\n"
          ]
        }
      ],
      "source": [
        "# Code for Part 2: Task 5\n",
        "\n",
        "def convolutional_neural_network_model():\n",
        "  modelConv = keras.Sequential()\n",
        "\n",
        "  # adding layers\n",
        "  modelConv.add(keras.layers.Conv2D(64, kernel_size=(3, 3), activation='sigmoid', input_shape=(20, 20, 1)))\n",
        "  modelConv.add(keras.layers.MaxPooling2D((2, 2), strides=2))\n",
        "  modelConv.add(keras.layers.Conv2D(64, kernel_size=(3, 3), activation='sigmoid'))\n",
        "  modelConv.add(keras.layers.MaxPooling2D((2, 2), strides=2))\n",
        "  modelConv.add(keras.layers.Flatten())\n",
        "  modelConv.add(keras.layers.Dense(50, activation='sigmoid'))\n",
        "  keras.layers.Dropout(0.3)\n",
        "  modelConv.add(keras.layers.Dense(2, activation='softmax'))\n",
        "\n",
        "  modelConv.compile(optimizer = keras.optimizers.SGD(learning_rate=1e-2), loss='categorical_crossentropy', metrics='accuracy')\n",
        "  wandb.init(project='WPO 5 task 5')\n",
        "  modelConv.fit(X, Y_train, epochs = 20, callbacks=[WandbMetricsLogger()], batch_size=24)\n",
        "  modelConv.summary()\n",
        "\n",
        "  return modelConv\n",
        "\n",
        "model_convolution = convolutional_neural_network_model()"
      ]
    },
    {
      "cell_type": "code",
      "source": [
        "confusion_matrix_model_convolution, accuracy_model_convolution, (fpr, tpr, thresholds) = perfomance_assessing(model_convolution, X_val, Y_test, 'convolution')"
      ],
      "metadata": {
        "colab": {
          "base_uri": "https://localhost:8080/",
          "height": 563
        },
        "id": "T8dztnGxiziG",
        "outputId": "60ad61ac-7cc3-4f7d-fef7-409c9ebf1aed"
      },
      "execution_count": 29,
      "outputs": [
        {
          "output_type": "stream",
          "name": "stdout",
          "text": [
            "8/8 [==============================] - 0s 5ms/step\n",
            "the confusion matrix is:\n",
            "[[ 44  55]\n",
            " [ 12 122]]\n",
            "the accuracy score is: 0.7124463519313304\n"
          ]
        },
        {
          "output_type": "display_data",
          "data": {
            "text/plain": [
              "<Figure size 640x480 with 1 Axes>"
            ],
            "image/png": "[encoded data removed]"
          },
          "metadata": {}
        }
      ]
    },
    {
      "cell_type": "markdown",
      "metadata": {
        "id": "lZ2ai6p_w_t2"
      },
      "source": [
        "### Task 6. A Deeper Convolutional Neural Network\n",
        "\n",
        "#### Model definition\n",
        "\n",
        "input -> conv1 -> pool1 -> conv2 -> conv3 -> fc1 -> fc2 -> softmax\n",
        "* convolution layers: kernel size = 5x5, number of channels = 64, activation function = 'relu', padding = 'same'\n",
        "* max-pooling layers: kernel size = 2x2, strides = 2\n",
        "* 1st fully connected: 100 neurons, activation function = relu\n",
        "* 2nd fully connected: 2 neurons, activation function = softmax\n",
        "* optimizer = `sgd` (try also `adam`)\n",
        "* use dropout (e.g. 0.5)\n",
        "\n",
        "Like before, measure system's prerfomance and explain.\n",
        "\n",
        "This was the last model you have trained. The `wandb` should now allow you to generate a common report for all train models (on the same graphs). Generate the report, download it as a `pdf`, and upload it in your assignment together with the notebook file."
      ]
    },
    {
      "cell_type": "code",
      "execution_count": 42,
      "metadata": {
        "collapsed": true,
        "id": "Wt6z7LkBw_t2",
        "colab": {
          "base_uri": "https://localhost:8080/",
          "height": 1000,
          "referenced_widgets": [
            "96ccc41a6f1f453bab55cd6cded5b671",
            "1dbdf7266cca40e78015be7cc10a8bf4",
            "cfb6f1b0da6b419ab99e0165a6f39063",
            "dcd2bc1160fe45e7a4f167e2984e4efb",
            "37c2c87213ad444e9ed1cd028b2ac8e8",
            "78c20419a9fd4907b19850be4cee0283",
            "2ae76604df4142a7b35702cf6acdd1c7",
            "b6a78221d90c4600b10bef9dd77ab7fc",
            "a4a367cabf8544ee88fb2035593e9a2a",
            "07b491a3faca4156b10146ef62761c72",
            "3f9e43a5a6114dbcb547fdd20bc4d04b",
            "52fc5ece86de4b81a3b87eba5ac872fb",
            "513858f6c0624f78a7576dd7940eb6dc",
            "49f26f5d52e84febbcd0351009a04333",
            "517952657ab74962b8122fe97ce63dfe",
            "ae721439ac624435b31f97a0d823f552"
          ]
        },
        "outputId": "9814ff88-401e-47a5-d619-ffafbaf748a6"
      },
      "outputs": [
        {
          "output_type": "display_data",
          "data": {
            "text/plain": [
              "<IPython.core.display.HTML object>"
            ],
            "text/html": [
              "Finishing last run (ID:c0li0jdm) before initializing another..."
            ]
          },
          "metadata": {}
        },
        {
          "output_type": "display_data",
          "data": {
            "text/plain": [
              "VBox(children=(Label(value='0.014 MB of 0.014 MB uploaded\\r'), FloatProgress(value=1.0, max=1.0)))"
            ],
            "application/vnd.jupyter.widget-view+json": {
              "version_major": 2,
              "version_minor": 0,
              "model_id": "96ccc41a6f1f453bab55cd6cded5b671"
            }
          },
          "metadata": {}
        },
        {
          "output_type": "display_data",
          "data": {
            "text/plain": [
              "<IPython.core.display.HTML object>"
            ],
            "text/html": [
              "<style>\n",
              "    table.wandb td:nth-child(1) { padding: 0 10px; text-align: left ; width: auto;} td:nth-child(2) {text-align: left ; width: 100%}\n",
              "    .wandb-row { display: flex; flex-direction: row; flex-wrap: wrap; justify-content: flex-start; width: 100% }\n",
              "    .wandb-col { display: flex; flex-direction: column; flex-basis: 100%; flex: 1; padding: 10px; }\n",
              "    </style>\n",
              "<div class=\"wandb-row\"><div class=\"wandb-col\"><h3>Run history:</h3><br/><table class=\"wandb\"><tr><td>epoch/accuracy</td><td>▅▇▇███▁███▄███▂▅████</td></tr><tr><td>epoch/epoch</td><td>▁▁▂▂▂▃▃▄▄▄▅▅▅▆▆▇▇▇██</td></tr><tr><td>epoch/learning_rate</td><td>▁▁▁▁▁▁▁▁▁▁▁▁▁▁▁▁▁▁▁▁</td></tr><tr><td>epoch/loss</td><td>█▁▁▁▁▁▁▁▁▁▁▁▁▁▁▁▁▁▁▁</td></tr></table><br/></div><div class=\"wandb-col\"><h3>Run summary:</h3><br/><table class=\"wandb\"><tr><td>epoch/accuracy</td><td>0.51625</td></tr><tr><td>epoch/epoch</td><td>19</td></tr><tr><td>epoch/learning_rate</td><td>0.01</td></tr><tr><td>epoch/loss</td><td>0.69301</td></tr></table><br/></div></div>"
            ]
          },
          "metadata": {}
        },
        {
          "output_type": "display_data",
          "data": {
            "text/plain": [
              "<IPython.core.display.HTML object>"
            ],
            "text/html": [
              " View run <strong style=\"color:#cdcd00\">resilient-field-5</strong> at: <a href='https://wandb.ai/health-info/WPO%205%20task%206/runs/c0li0jdm' target=\"_blank\">https://wandb.ai/health-info/WPO%205%20task%206/runs/c0li0jdm</a><br/>Synced 5 W&B file(s), 0 media file(s), 0 artifact file(s) and 0 other file(s)"
            ]
          },
          "metadata": {}
        },
        {
          "output_type": "display_data",
          "data": {
            "text/plain": [
              "<IPython.core.display.HTML object>"
            ],
            "text/html": [
              "Find logs at: <code>./wandb/run-20240321_210130-c0li0jdm/logs</code>"
            ]
          },
          "metadata": {}
        },
        {
          "output_type": "display_data",
          "data": {
            "text/plain": [
              "<IPython.core.display.HTML object>"
            ],
            "text/html": [
              "Successfully finished last run (ID:c0li0jdm). Initializing new run:<br/>"
            ]
          },
          "metadata": {}
        },
        {
          "output_type": "display_data",
          "data": {
            "text/plain": [
              "<IPython.core.display.HTML object>"
            ],
            "text/html": [
              "Tracking run with wandb version 0.16.4"
            ]
          },
          "metadata": {}
        },
        {
          "output_type": "display_data",
          "data": {
            "text/plain": [
              "<IPython.core.display.HTML object>"
            ],
            "text/html": [
              "Run data is saved locally in <code>/content/wandb/run-20240321_210452-wsaw5lvz</code>"
            ]
          },
          "metadata": {}
        },
        {
          "output_type": "display_data",
          "data": {
            "text/plain": [
              "<IPython.core.display.HTML object>"
            ],
            "text/html": [
              "Syncing run <strong><a href='https://wandb.ai/health-info/WPO%205%20task%206/runs/wsaw5lvz' target=\"_blank\">celestial-pond-6</a></strong> to <a href='https://wandb.ai/health-info/WPO%205%20task%206' target=\"_blank\">Weights & Biases</a> (<a href='https://wandb.me/run' target=\"_blank\">docs</a>)<br/>"
            ]
          },
          "metadata": {}
        },
        {
          "output_type": "display_data",
          "data": {
            "text/plain": [
              "<IPython.core.display.HTML object>"
            ],
            "text/html": [
              " View project at <a href='https://wandb.ai/health-info/WPO%205%20task%206' target=\"_blank\">https://wandb.ai/health-info/WPO%205%20task%206</a>"
            ]
          },
          "metadata": {}
        },
        {
          "output_type": "display_data",
          "data": {
            "text/plain": [
              "<IPython.core.display.HTML object>"
            ],
            "text/html": [
              " View run at <a href='https://wandb.ai/health-info/WPO%205%20task%206/runs/wsaw5lvz' target=\"_blank\">https://wandb.ai/health-info/WPO%205%20task%206/runs/wsaw5lvz</a>"
            ]
          },
          "metadata": {}
        },
        {
          "output_type": "stream",
          "name": "stdout",
          "text": [
            "Epoch 1/20\n",
            "66/66 [==============================] - 10s 138ms/step - loss: 0.6787 - accuracy: 0.6534\n",
            "Epoch 2/20\n",
            "66/66 [==============================] - 9s 134ms/step - loss: 0.6249 - accuracy: 0.7777\n",
            "Epoch 3/20\n",
            "66/66 [==============================] - 8s 127ms/step - loss: 0.5285 - accuracy: 0.7873\n",
            "Epoch 4/20\n",
            "66/66 [==============================] - 10s 145ms/step - loss: 0.4743 - accuracy: 0.7930\n",
            "Epoch 5/20\n",
            "66/66 [==============================] - 7s 113ms/step - loss: 0.4442 - accuracy: 0.7954\n",
            "Epoch 6/20\n",
            "66/66 [==============================] - 9s 135ms/step - loss: 0.4072 - accuracy: 0.8102\n",
            "Epoch 7/20\n",
            "66/66 [==============================] - 7s 113ms/step - loss: 0.3892 - accuracy: 0.8155\n",
            "Epoch 8/20\n",
            "66/66 [==============================] - 9s 137ms/step - loss: 0.3700 - accuracy: 0.8293\n",
            "Epoch 9/20\n",
            "66/66 [==============================] - 8s 114ms/step - loss: 0.3526 - accuracy: 0.8413\n",
            "Epoch 10/20\n",
            "66/66 [==============================] - 9s 132ms/step - loss: 0.3392 - accuracy: 0.8442\n",
            "Epoch 11/20\n",
            "66/66 [==============================] - 9s 130ms/step - loss: 0.3235 - accuracy: 0.8561\n",
            "Epoch 12/20\n",
            "66/66 [==============================] - 7s 109ms/step - loss: 0.3175 - accuracy: 0.8580\n",
            "Epoch 13/20\n",
            "66/66 [==============================] - 10s 153ms/step - loss: 0.3120 - accuracy: 0.8690\n",
            "Epoch 14/20\n",
            "66/66 [==============================] - 13s 197ms/step - loss: 0.3045 - accuracy: 0.8700\n",
            "Epoch 15/20\n",
            "66/66 [==============================] - 11s 161ms/step - loss: 0.2978 - accuracy: 0.8728\n",
            "Epoch 16/20\n",
            "66/66 [==============================] - 12s 180ms/step - loss: 0.2886 - accuracy: 0.8867\n",
            "Epoch 17/20\n",
            "66/66 [==============================] - 11s 164ms/step - loss: 0.2778 - accuracy: 0.8886\n",
            "Epoch 18/20\n",
            "66/66 [==============================] - 9s 136ms/step - loss: 0.2693 - accuracy: 0.8958\n",
            "Epoch 19/20\n",
            "66/66 [==============================] - 8s 117ms/step - loss: 0.2689 - accuracy: 0.8920\n",
            "Epoch 20/20\n",
            "66/66 [==============================] - 9s 143ms/step - loss: 0.2549 - accuracy: 0.8972\n",
            "Model: \"sequential_23\"\n",
            "_________________________________________________________________\n",
            " Layer (type)                Output Shape              Param #   \n",
            "=================================================================\n",
            " conv2d_24 (Conv2D)          (None, 20, 20, 64)        1664      \n",
            "                                                                 \n",
            " max_pooling2d_11 (MaxPooli  (None, 10, 10, 64)        0         \n",
            " ng2D)                                                           \n",
            "                                                                 \n",
            " conv2d_25 (Conv2D)          (None, 10, 10, 64)        102464    \n",
            "                                                                 \n",
            " conv2d_26 (Conv2D)          (None, 10, 10, 64)        102464    \n",
            "                                                                 \n",
            " flatten_24 (Flatten)        (None, 6400)              0         \n",
            "                                                                 \n",
            " dense_58 (Dense)            (None, 100)               640100    \n",
            "                                                                 \n",
            " dense_59 (Dense)            (None, 2)                 202       \n",
            "                                                                 \n",
            "=================================================================\n",
            "Total params: 846894 (3.23 MB)\n",
            "Trainable params: 846894 (3.23 MB)\n",
            "Non-trainable params: 0 (0.00 Byte)\n",
            "_________________________________________________________________\n"
          ]
        },
        {
          "output_type": "display_data",
          "data": {
            "text/plain": [
              "<IPython.core.display.HTML object>"
            ],
            "text/html": [
              "Finishing last run (ID:wsaw5lvz) before initializing another..."
            ]
          },
          "metadata": {}
        },
        {
          "output_type": "display_data",
          "data": {
            "text/plain": [
              "VBox(children=(Label(value='0.001 MB of 0.001 MB uploaded\\r'), FloatProgress(value=1.0, max=1.0)))"
            ],
            "application/vnd.jupyter.widget-view+json": {
              "version_major": 2,
              "version_minor": 0,
              "model_id": "a4a367cabf8544ee88fb2035593e9a2a"
            }
          },
          "metadata": {}
        },
        {
          "output_type": "display_data",
          "data": {
            "text/plain": [
              "<IPython.core.display.HTML object>"
            ],
            "text/html": [
              "<style>\n",
              "    table.wandb td:nth-child(1) { padding: 0 10px; text-align: left ; width: auto;} td:nth-child(2) {text-align: left ; width: 100%}\n",
              "    .wandb-row { display: flex; flex-direction: row; flex-wrap: wrap; justify-content: flex-start; width: 100% }\n",
              "    .wandb-col { display: flex; flex-direction: column; flex-basis: 100%; flex: 1; padding: 10px; }\n",
              "    </style>\n",
              "<div class=\"wandb-row\"><div class=\"wandb-col\"><h3>Run history:</h3><br/><table class=\"wandb\"><tr><td>epoch/accuracy</td><td>▁▅▅▅▅▆▆▆▆▆▇▇▇▇▇█████</td></tr><tr><td>epoch/epoch</td><td>▁▁▂▂▂▃▃▄▄▄▅▅▅▆▆▇▇▇██</td></tr><tr><td>epoch/learning_rate</td><td>▁▁▁▁▁▁▁▁▁▁▁▁▁▁▁▁▁▁▁▁</td></tr><tr><td>epoch/loss</td><td>█▇▆▅▄▄▃▃▃▂▂▂▂▂▂▂▁▁▁▁</td></tr></table><br/></div><div class=\"wandb-col\"><h3>Run summary:</h3><br/><table class=\"wandb\"><tr><td>epoch/accuracy</td><td>0.89723</td></tr><tr><td>epoch/epoch</td><td>19</td></tr><tr><td>epoch/learning_rate</td><td>0.01</td></tr><tr><td>epoch/loss</td><td>0.25486</td></tr></table><br/></div></div>"
            ]
          },
          "metadata": {}
        },
        {
          "output_type": "display_data",
          "data": {
            "text/plain": [
              "<IPython.core.display.HTML object>"
            ],
            "text/html": [
              " View run <strong style=\"color:#cdcd00\">celestial-pond-6</strong> at: <a href='https://wandb.ai/health-info/WPO%205%20task%206/runs/wsaw5lvz' target=\"_blank\">https://wandb.ai/health-info/WPO%205%20task%206/runs/wsaw5lvz</a><br/>Synced 5 W&B file(s), 0 media file(s), 0 artifact file(s) and 0 other file(s)"
            ]
          },
          "metadata": {}
        },
        {
          "output_type": "display_data",
          "data": {
            "text/plain": [
              "<IPython.core.display.HTML object>"
            ],
            "text/html": [
              "Find logs at: <code>./wandb/run-20240321_210452-wsaw5lvz/logs</code>"
            ]
          },
          "metadata": {}
        },
        {
          "output_type": "display_data",
          "data": {
            "text/plain": [
              "<IPython.core.display.HTML object>"
            ],
            "text/html": [
              "Successfully finished last run (ID:wsaw5lvz). Initializing new run:<br/>"
            ]
          },
          "metadata": {}
        },
        {
          "output_type": "display_data",
          "data": {
            "text/plain": [
              "<IPython.core.display.HTML object>"
            ],
            "text/html": [
              "Tracking run with wandb version 0.16.4"
            ]
          },
          "metadata": {}
        },
        {
          "output_type": "display_data",
          "data": {
            "text/plain": [
              "<IPython.core.display.HTML object>"
            ],
            "text/html": [
              "Run data is saved locally in <code>/content/wandb/run-20240321_210823-ufi31clo</code>"
            ]
          },
          "metadata": {}
        },
        {
          "output_type": "display_data",
          "data": {
            "text/plain": [
              "<IPython.core.display.HTML object>"
            ],
            "text/html": [
              "Syncing run <strong><a href='https://wandb.ai/health-info/WPO%205%20task%206/runs/ufi31clo' target=\"_blank\">firm-fire-7</a></strong> to <a href='https://wandb.ai/health-info/WPO%205%20task%206' target=\"_blank\">Weights & Biases</a> (<a href='https://wandb.me/run' target=\"_blank\">docs</a>)<br/>"
            ]
          },
          "metadata": {}
        },
        {
          "output_type": "display_data",
          "data": {
            "text/plain": [
              "<IPython.core.display.HTML object>"
            ],
            "text/html": [
              " View project at <a href='https://wandb.ai/health-info/WPO%205%20task%206' target=\"_blank\">https://wandb.ai/health-info/WPO%205%20task%206</a>"
            ]
          },
          "metadata": {}
        },
        {
          "output_type": "display_data",
          "data": {
            "text/plain": [
              "<IPython.core.display.HTML object>"
            ],
            "text/html": [
              " View run at <a href='https://wandb.ai/health-info/WPO%205%20task%206/runs/ufi31clo' target=\"_blank\">https://wandb.ai/health-info/WPO%205%20task%206/runs/ufi31clo</a>"
            ]
          },
          "metadata": {}
        },
        {
          "output_type": "stream",
          "name": "stdout",
          "text": [
            "Epoch 1/20\n",
            "66/66 [==============================] - 11s 148ms/step - loss: 0.5880 - accuracy: 0.6611\n",
            "Epoch 2/20\n",
            "66/66 [==============================] - 8s 121ms/step - loss: 0.4571 - accuracy: 0.8031\n",
            "Epoch 3/20\n",
            "66/66 [==============================] - 10s 151ms/step - loss: 0.3540 - accuracy: 0.8494\n",
            "Epoch 4/20\n",
            "66/66 [==============================] - 9s 140ms/step - loss: 0.2955 - accuracy: 0.8824\n",
            "Epoch 5/20\n",
            "66/66 [==============================] - 9s 128ms/step - loss: 0.2529 - accuracy: 0.9054\n",
            "Epoch 6/20\n",
            "66/66 [==============================] - 9s 142ms/step - loss: 0.2360 - accuracy: 0.9154\n",
            "Epoch 7/20\n",
            "66/66 [==============================] - 8s 122ms/step - loss: 0.2122 - accuracy: 0.9259\n",
            "Epoch 8/20\n",
            "66/66 [==============================] - 9s 143ms/step - loss: 0.1944 - accuracy: 0.9302\n",
            "Epoch 9/20\n",
            "66/66 [==============================] - 10s 146ms/step - loss: 0.1893 - accuracy: 0.9293\n",
            "Epoch 10/20\n",
            "66/66 [==============================] - 8s 120ms/step - loss: 0.1721 - accuracy: 0.9402\n",
            "Epoch 11/20\n",
            "66/66 [==============================] - 9s 142ms/step - loss: 0.1505 - accuracy: 0.9508\n",
            "Epoch 12/20\n",
            "66/66 [==============================] - 8s 126ms/step - loss: 0.1373 - accuracy: 0.9555\n",
            "Epoch 13/20\n",
            "66/66 [==============================] - 9s 140ms/step - loss: 0.1537 - accuracy: 0.9450\n",
            "Epoch 14/20\n",
            "66/66 [==============================] - 10s 154ms/step - loss: 0.1272 - accuracy: 0.9637\n",
            "Epoch 15/20\n",
            "66/66 [==============================] - 8s 117ms/step - loss: 0.1159 - accuracy: 0.9608\n",
            "Epoch 16/20\n",
            "66/66 [==============================] - 10s 149ms/step - loss: 0.1057 - accuracy: 0.9670\n",
            "Epoch 17/20\n",
            "66/66 [==============================] - 9s 144ms/step - loss: 0.0976 - accuracy: 0.9723\n",
            "Epoch 18/20\n",
            "66/66 [==============================] - 8s 118ms/step - loss: 0.0914 - accuracy: 0.9708\n",
            "Epoch 19/20\n",
            "66/66 [==============================] - 10s 147ms/step - loss: 0.0844 - accuracy: 0.9728\n",
            "Epoch 20/20\n",
            "66/66 [==============================] - 8s 117ms/step - loss: 0.0895 - accuracy: 0.9685\n",
            "Model: \"sequential_24\"\n",
            "_________________________________________________________________\n",
            " Layer (type)                Output Shape              Param #   \n",
            "=================================================================\n",
            " conv2d_27 (Conv2D)          (None, 20, 20, 64)        1664      \n",
            "                                                                 \n",
            " max_pooling2d_12 (MaxPooli  (None, 10, 10, 64)        0         \n",
            " ng2D)                                                           \n",
            "                                                                 \n",
            " conv2d_28 (Conv2D)          (None, 10, 10, 64)        102464    \n",
            "                                                                 \n",
            " conv2d_29 (Conv2D)          (None, 10, 10, 64)        102464    \n",
            "                                                                 \n",
            " flatten_25 (Flatten)        (None, 6400)              0         \n",
            "                                                                 \n",
            " dense_60 (Dense)            (None, 100)               640100    \n",
            "                                                                 \n",
            " dense_61 (Dense)            (None, 2)                 202       \n",
            "                                                                 \n",
            "=================================================================\n",
            "Total params: 846894 (3.23 MB)\n",
            "Trainable params: 846894 (3.23 MB)\n",
            "Non-trainable params: 0 (0.00 Byte)\n",
            "_________________________________________________________________\n"
          ]
        }
      ],
      "source": [
        "# Code for Part 2: Task 6\n",
        "\n",
        "def deep_convolutional_neural_network_model(my_optimizer):\n",
        "  modelConv = keras.Sequential()\n",
        "\n",
        "  # adding layers\n",
        "  modelConv.add(keras.layers.Conv2D(64, kernel_size=(5, 5), activation='relu', padding='same', input_shape=(20, 20, 1)))\n",
        "  modelConv.add(keras.layers.MaxPooling2D((2, 2), strides=2))\n",
        "  modelConv.add(keras.layers.Conv2D(64, kernel_size=(5, 5), activation='relu', padding='same'))\n",
        "  modelConv.add(keras.layers.Conv2D(64, kernel_size=(5, 5), activation='relu', padding='same'))\n",
        "  modelConv.add(keras.layers.Flatten())\n",
        "  modelConv.add(keras.layers.Dense(100, activation='relu'))\n",
        "  keras.layers.Dropout(0.3)\n",
        "  modelConv.add(keras.layers.Dense(2, activation='softmax'))\n",
        "\n",
        "  modelConv.compile(optimizer = my_optimizer, loss='categorical_crossentropy', metrics='accuracy')\n",
        "  wandb.init(project='WPO 5 task 6')\n",
        "  modelConv.fit(X, Y_train, epochs = 20, callbacks=[WandbMetricsLogger()], batch_size=32)\n",
        "  modelConv.summary()\n",
        "\n",
        "  return modelConv\n",
        "\n",
        "model_deep_convolution_sgd = deep_convolutional_neural_network_model( keras.optimizers.SGD(learning_rate=1e-2))\n",
        "model_deep_convolution_adam = deep_convolutional_neural_network_model( keras.optimizers.Adam(learning_rate=1e-4))"
      ]
    },
    {
      "cell_type": "code",
      "source": [
        "confusion_matrix_model_deep_convolution_sgd, accuracy_model_deep_convolution_sgd, (fpr, tpr, thresholds) = perfomance_assessing(model_deep_convolution_sgd, X_val, Y_test, 'deep convolution SGD')\n",
        "confusion_matrix_model_deep_convolution_adam, accuracy_model_deep_convolution_adam, (fpr, tpr, thresholds) = perfomance_assessing(model_deep_convolution_adam, X_val, Y_test, 'deep convolution Adam')"
      ],
      "metadata": {
        "colab": {
          "base_uri": "https://localhost:8080/",
          "height": 1000
        },
        "id": "cy2VgZKCrJVG",
        "outputId": "9c97b94d-4be9-42bb-92d3-0f23fcfdcc30"
      },
      "execution_count": 43,
      "outputs": [
        {
          "output_type": "stream",
          "name": "stdout",
          "text": [
            "8/8 [==============================] - 0s 28ms/step\n",
            "the confusion matrix is:\n",
            "[[ 77  22]\n",
            " [ 16 118]]\n",
            "the accuracy score is: 0.8369098712446352\n"
          ]
        },
        {
          "output_type": "display_data",
          "data": {
            "text/plain": [
              "<Figure size 640x480 with 1 Axes>"
            ],
            "image/png": "[encoded data removed]"
          },
          "metadata": {}
        },
        {
          "output_type": "stream",
          "name": "stdout",
          "text": [
            "8/8 [==============================] - 0s 27ms/step\n",
            "the confusion matrix is:\n",
            "[[ 93   6]\n",
            " [  5 129]]\n",
            "the accuracy score is: 0.9527896995708155\n"
          ]
        },
        {
          "output_type": "display_data",
          "data": {
            "text/plain": [
              "<Figure size 640x480 with 1 Axes>"
            ],
            "image/png": "[encoded data removed]"
          },
          "metadata": {}
        }
      ]
    },
    {
      "cell_type": "markdown",
      "source": [
        "Both systems were run with the learning rate that benefited each of them the most..."
      ],
      "metadata": {
        "id": "F5Vyt48-1phz"
      }
    }
  ],
  "metadata": {
    "accelerator": "GPU",
    "anaconda-cloud": {},
    "celltoolbar": "Edit Metadata",
    "colab": {
      "gpuType": "T4",
      "provenance": []
    },
    "kernelspec": {
      "display_name": "Python 3",
      "name": "python3"
    },
    "language_info": {
      "codemirror_mode": {
        "name": "ipython",
        "version": 3
      },
      "file_extension": ".py",
      "mimetype": "text/x-python",
      "name": "python",
      "nbconvert_exporter": "python",
      "pygments_lexer": "ipython3",
      "version": "3.8.3"
    },
    "widgets": {
      "application/vnd.jupyter.widget-state+json": {
        "4955dfe9b42b4600b464ce4810cae843": {
          "model_module": "@jupyter-widgets/controls",
          "model_name": "VBoxModel",
          "model_module_version": "1.5.0",
          "state": {
            "_dom_classes": [],
            "_model_module": "@jupyter-widgets/controls",
            "_model_module_version": "1.5.0",
            "_model_name": "VBoxModel",
            "_view_count": null,
            "_view_module": "@jupyter-widgets/controls",
            "_view_module_version": "1.5.0",
            "_view_name": "VBoxView",
            "box_style": "",
            "children": [
              "IPY_MODEL_3f29b028636f4cdd813a70c214bff8d5",
              "IPY_MODEL_d7b0c53b8da14bb0a513964169977ab2"
            ],
            "layout": "IPY_MODEL_26550fdb563e45a5a8e64528f5811e03"
          }
        },
        "3f29b028636f4cdd813a70c214bff8d5": {
          "model_module": "@jupyter-widgets/controls",
          "model_name": "LabelModel",
          "model_module_version": "1.5.0",
          "state": {
            "_dom_classes": [],
            "_model_module": "@jupyter-widgets/controls",
            "_model_module_version": "1.5.0",
            "_model_name": "LabelModel",
            "_view_count": null,
            "_view_module": "@jupyter-widgets/controls",
            "_view_module_version": "1.5.0",
            "_view_name": "LabelView",
            "description": "",
            "description_tooltip": null,
            "layout": "IPY_MODEL_aa70407210df45698e567aa99e9ad7a0",
            "placeholder": "​",
            "style": "IPY_MODEL_3179e617338a4e73bd81057cc615e277",
            "value": "0.016 MB of 0.016 MB uploaded\r"
          }
        },
        "d7b0c53b8da14bb0a513964169977ab2": {
          "model_module": "@jupyter-widgets/controls",
          "model_name": "FloatProgressModel",
          "model_module_version": "1.5.0",
          "state": {
            "_dom_classes": [],
            "_model_module": "@jupyter-widgets/controls",
            "_model_module_version": "1.5.0",
            "_model_name": "FloatProgressModel",
            "_view_count": null,
            "_view_module": "@jupyter-widgets/controls",
            "_view_module_version": "1.5.0",
            "_view_name": "ProgressView",
            "bar_style": "",
            "description": "",
            "description_tooltip": null,
            "layout": "IPY_MODEL_8ade30180d974096a17cb789499c7cb3",
            "max": 1,
            "min": 0,
            "orientation": "horizontal",
            "style": "IPY_MODEL_197f714649db4e6dba8b6680467f5c7c",
            "value": 1
          }
        },
        "26550fdb563e45a5a8e64528f5811e03": {
          "model_module": "@jupyter-widgets/base",
          "model_name": "LayoutModel",
          "model_module_version": "1.2.0",
          "state": {
            "_model_module": "@jupyter-widgets/base",
            "_model_module_version": "1.2.0",
            "_model_name": "LayoutModel",
            "_view_count": null,
            "_view_module": "@jupyter-widgets/base",
            "_view_module_version": "1.2.0",
            "_view_name": "LayoutView",
            "align_content": null,
            "align_items": null,
            "align_self": null,
            "border": null,
            "bottom": null,
            "display": null,
            "flex": null,
            "flex_flow": null,
            "grid_area": null,
            "grid_auto_columns": null,
            "grid_auto_flow": null,
            "grid_auto_rows": null,
            "grid_column": null,
            "grid_gap": null,
            "grid_row": null,
            "grid_template_areas": null,
            "grid_template_columns": null,
            "grid_template_rows": null,
            "height": null,
            "justify_content": null,
            "justify_items": null,
            "left": null,
            "margin": null,
            "max_height": null,
            "max_width": null,
            "min_height": null,
            "min_width": null,
            "object_fit": null,
            "object_position": null,
            "order": null,
            "overflow": null,
            "overflow_x": null,
            "overflow_y": null,
            "padding": null,
            "right": null,
            "top": null,
            "visibility": null,
            "width": null
          }
        },
        "aa70407210df45698e567aa99e9ad7a0": {
          "model_module": "@jupyter-widgets/base",
          "model_name": "LayoutModel",
          "model_module_version": "1.2.0",
          "state": {
            "_model_module": "@jupyter-widgets/base",
            "_model_module_version": "1.2.0",
            "_model_name": "LayoutModel",
            "_view_count": null,
            "_view_module": "@jupyter-widgets/base",
            "_view_module_version": "1.2.0",
            "_view_name": "LayoutView",
            "align_content": null,
            "align_items": null,
            "align_self": null,
            "border": null,
            "bottom": null,
            "display": null,
            "flex": null,
            "flex_flow": null,
            "grid_area": null,
            "grid_auto_columns": null,
            "grid_auto_flow": null,
            "grid_auto_rows": null,
            "grid_column": null,
            "grid_gap": null,
            "grid_row": null,
            "grid_template_areas": null,
            "grid_template_columns": null,
            "grid_template_rows": null,
            "height": null,
            "justify_content": null,
            "justify_items": null,
            "left": null,
            "margin": null,
            "max_height": null,
            "max_width": null,
            "min_height": null,
            "min_width": null,
            "object_fit": null,
            "object_position": null,
            "order": null,
            "overflow": null,
            "overflow_x": null,
            "overflow_y": null,
            "padding": null,
            "right": null,
            "top": null,
            "visibility": null,
            "width": null
          }
        },
        "3179e617338a4e73bd81057cc615e277": {
          "model_module": "@jupyter-widgets/controls",
          "model_name": "DescriptionStyleModel",
          "model_module_version": "1.5.0",
          "state": {
            "_model_module": "@jupyter-widgets/controls",
            "_model_module_version": "1.5.0",
            "_model_name": "DescriptionStyleModel",
            "_view_count": null,
            "_view_module": "@jupyter-widgets/base",
            "_view_module_version": "1.2.0",
            "_view_name": "StyleView",
            "description_width": ""
          }
        },
        "8ade30180d974096a17cb789499c7cb3": {
          "model_module": "@jupyter-widgets/base",
          "model_name": "LayoutModel",
          "model_module_version": "1.2.0",
          "state": {
            "_model_module": "@jupyter-widgets/base",
            "_model_module_version": "1.2.0",
            "_model_name": "LayoutModel",
            "_view_count": null,
            "_view_module": "@jupyter-widgets/base",
            "_view_module_version": "1.2.0",
            "_view_name": "LayoutView",
            "align_content": null,
            "align_items": null,
            "align_self": null,
            "border": null,
            "bottom": null,
            "display": null,
            "flex": null,
            "flex_flow": null,
            "grid_area": null,
            "grid_auto_columns": null,
            "grid_auto_flow": null,
            "grid_auto_rows": null,
            "grid_column": null,
            "grid_gap": null,
            "grid_row": null,
            "grid_template_areas": null,
            "grid_template_columns": null,
            "grid_template_rows": null,
            "height": null,
            "justify_content": null,
            "justify_items": null,
            "left": null,
            "margin": null,
            "max_height": null,
            "max_width": null,
            "min_height": null,
            "min_width": null,
            "object_fit": null,
            "object_position": null,
            "order": null,
            "overflow": null,
            "overflow_x": null,
            "overflow_y": null,
            "padding": null,
            "right": null,
            "top": null,
            "visibility": null,
            "width": null
          }
        },
        "197f714649db4e6dba8b6680467f5c7c": {
          "model_module": "@jupyter-widgets/controls",
          "model_name": "ProgressStyleModel",
          "model_module_version": "1.5.0",
          "state": {
            "_model_module": "@jupyter-widgets/controls",
            "_model_module_version": "1.5.0",
            "_model_name": "ProgressStyleModel",
            "_view_count": null,
            "_view_module": "@jupyter-widgets/base",
            "_view_module_version": "1.2.0",
            "_view_name": "StyleView",
            "bar_color": null,
            "description_width": ""
          }
        },
        "1c5f50b65de6460f81b34639d10f31a6": {
          "model_module": "@jupyter-widgets/controls",
          "model_name": "VBoxModel",
          "model_module_version": "1.5.0",
          "state": {
            "_dom_classes": [],
            "_model_module": "@jupyter-widgets/controls",
            "_model_module_version": "1.5.0",
            "_model_name": "VBoxModel",
            "_view_count": null,
            "_view_module": "@jupyter-widgets/controls",
            "_view_module_version": "1.5.0",
            "_view_name": "VBoxView",
            "box_style": "",
            "children": [
              "IPY_MODEL_7fc8873ad28c483e97b96078b70553a1",
              "IPY_MODEL_64b0e0335ba24d4da5a3ed9bf73064a7"
            ],
            "layout": "IPY_MODEL_657e85aed505498193a5959a075efe33"
          }
        },
        "7fc8873ad28c483e97b96078b70553a1": {
          "model_module": "@jupyter-widgets/controls",
          "model_name": "LabelModel",
          "model_module_version": "1.5.0",
          "state": {
            "_dom_classes": [],
            "_model_module": "@jupyter-widgets/controls",
            "_model_module_version": "1.5.0",
            "_model_name": "LabelModel",
            "_view_count": null,
            "_view_module": "@jupyter-widgets/controls",
            "_view_module_version": "1.5.0",
            "_view_name": "LabelView",
            "description": "",
            "description_tooltip": null,
            "layout": "IPY_MODEL_4e6da27ea5dc4aa7b444c94927e5333e",
            "placeholder": "​",
            "style": "IPY_MODEL_67a839166bec40d8a4361771b26faeb8",
            "value": "0.013 MB of 0.013 MB uploaded\r"
          }
        },
        "64b0e0335ba24d4da5a3ed9bf73064a7": {
          "model_module": "@jupyter-widgets/controls",
          "model_name": "FloatProgressModel",
          "model_module_version": "1.5.0",
          "state": {
            "_dom_classes": [],
            "_model_module": "@jupyter-widgets/controls",
            "_model_module_version": "1.5.0",
            "_model_name": "FloatProgressModel",
            "_view_count": null,
            "_view_module": "@jupyter-widgets/controls",
            "_view_module_version": "1.5.0",
            "_view_name": "ProgressView",
            "bar_style": "",
            "description": "",
            "description_tooltip": null,
            "layout": "IPY_MODEL_1f4d50c1f05f464b9a5ed8c1b0092d46",
            "max": 1,
            "min": 0,
            "orientation": "horizontal",
            "style": "IPY_MODEL_9b2536f1fe004ce687135ee2fcdfef90",
            "value": 1
          }
        },
        "657e85aed505498193a5959a075efe33": {
          "model_module": "@jupyter-widgets/base",
          "model_name": "LayoutModel",
          "model_module_version": "1.2.0",
          "state": {
            "_model_module": "@jupyter-widgets/base",
            "_model_module_version": "1.2.0",
            "_model_name": "LayoutModel",
            "_view_count": null,
            "_view_module": "@jupyter-widgets/base",
            "_view_module_version": "1.2.0",
            "_view_name": "LayoutView",
            "align_content": null,
            "align_items": null,
            "align_self": null,
            "border": null,
            "bottom": null,
            "display": null,
            "flex": null,
            "flex_flow": null,
            "grid_area": null,
            "grid_auto_columns": null,
            "grid_auto_flow": null,
            "grid_auto_rows": null,
            "grid_column": null,
            "grid_gap": null,
            "grid_row": null,
            "grid_template_areas": null,
            "grid_template_columns": null,
            "grid_template_rows": null,
            "height": null,
            "justify_content": null,
            "justify_items": null,
            "left": null,
            "margin": null,
            "max_height": null,
            "max_width": null,
            "min_height": null,
            "min_width": null,
            "object_fit": null,
            "object_position": null,
            "order": null,
            "overflow": null,
            "overflow_x": null,
            "overflow_y": null,
            "padding": null,
            "right": null,
            "top": null,
            "visibility": null,
            "width": null
          }
        },
        "4e6da27ea5dc4aa7b444c94927e5333e": {
          "model_module": "@jupyter-widgets/base",
          "model_name": "LayoutModel",
          "model_module_version": "1.2.0",
          "state": {
            "_model_module": "@jupyter-widgets/base",
            "_model_module_version": "1.2.0",
            "_model_name": "LayoutModel",
            "_view_count": null,
            "_view_module": "@jupyter-widgets/base",
            "_view_module_version": "1.2.0",
            "_view_name": "LayoutView",
            "align_content": null,
            "align_items": null,
            "align_self": null,
            "border": null,
            "bottom": null,
            "display": null,
            "flex": null,
            "flex_flow": null,
            "grid_area": null,
            "grid_auto_columns": null,
            "grid_auto_flow": null,
            "grid_auto_rows": null,
            "grid_column": null,
            "grid_gap": null,
            "grid_row": null,
            "grid_template_areas": null,
            "grid_template_columns": null,
            "grid_template_rows": null,
            "height": null,
            "justify_content": null,
            "justify_items": null,
            "left": null,
            "margin": null,
            "max_height": null,
            "max_width": null,
            "min_height": null,
            "min_width": null,
            "object_fit": null,
            "object_position": null,
            "order": null,
            "overflow": null,
            "overflow_x": null,
            "overflow_y": null,
            "padding": null,
            "right": null,
            "top": null,
            "visibility": null,
            "width": null
          }
        },
        "67a839166bec40d8a4361771b26faeb8": {
          "model_module": "@jupyter-widgets/controls",
          "model_name": "DescriptionStyleModel",
          "model_module_version": "1.5.0",
          "state": {
            "_model_module": "@jupyter-widgets/controls",
            "_model_module_version": "1.5.0",
            "_model_name": "DescriptionStyleModel",
            "_view_count": null,
            "_view_module": "@jupyter-widgets/base",
            "_view_module_version": "1.2.0",
            "_view_name": "StyleView",
            "description_width": ""
          }
        },
        "1f4d50c1f05f464b9a5ed8c1b0092d46": {
          "model_module": "@jupyter-widgets/base",
          "model_name": "LayoutModel",
          "model_module_version": "1.2.0",
          "state": {
            "_model_module": "@jupyter-widgets/base",
            "_model_module_version": "1.2.0",
            "_model_name": "LayoutModel",
            "_view_count": null,
            "_view_module": "@jupyter-widgets/base",
            "_view_module_version": "1.2.0",
            "_view_name": "LayoutView",
            "align_content": null,
            "align_items": null,
            "align_self": null,
            "border": null,
            "bottom": null,
            "display": null,
            "flex": null,
            "flex_flow": null,
            "grid_area": null,
            "grid_auto_columns": null,
            "grid_auto_flow": null,
            "grid_auto_rows": null,
            "grid_column": null,
            "grid_gap": null,
            "grid_row": null,
            "grid_template_areas": null,
            "grid_template_columns": null,
            "grid_template_rows": null,
            "height": null,
            "justify_content": null,
            "justify_items": null,
            "left": null,
            "margin": null,
            "max_height": null,
            "max_width": null,
            "min_height": null,
            "min_width": null,
            "object_fit": null,
            "object_position": null,
            "order": null,
            "overflow": null,
            "overflow_x": null,
            "overflow_y": null,
            "padding": null,
            "right": null,
            "top": null,
            "visibility": null,
            "width": null
          }
        },
        "9b2536f1fe004ce687135ee2fcdfef90": {
          "model_module": "@jupyter-widgets/controls",
          "model_name": "ProgressStyleModel",
          "model_module_version": "1.5.0",
          "state": {
            "_model_module": "@jupyter-widgets/controls",
            "_model_module_version": "1.5.0",
            "_model_name": "ProgressStyleModel",
            "_view_count": null,
            "_view_module": "@jupyter-widgets/base",
            "_view_module_version": "1.2.0",
            "_view_name": "StyleView",
            "bar_color": null,
            "description_width": ""
          }
        },
        "5acad07cc58f4d90b8360e61e66496a7": {
          "model_module": "@jupyter-widgets/controls",
          "model_name": "VBoxModel",
          "model_module_version": "1.5.0",
          "state": {
            "_dom_classes": [],
            "_model_module": "@jupyter-widgets/controls",
            "_model_module_version": "1.5.0",
            "_model_name": "VBoxModel",
            "_view_count": null,
            "_view_module": "@jupyter-widgets/controls",
            "_view_module_version": "1.5.0",
            "_view_name": "VBoxView",
            "box_style": "",
            "children": [
              "IPY_MODEL_757b226a7f604eaebfc96798a238cbf1",
              "IPY_MODEL_6e0c1b546c214f88a5067a3cdc4e385e"
            ],
            "layout": "IPY_MODEL_468698d3e2ea44d0b65e3179e70843d7"
          }
        },
        "757b226a7f604eaebfc96798a238cbf1": {
          "model_module": "@jupyter-widgets/controls",
          "model_name": "LabelModel",
          "model_module_version": "1.5.0",
          "state": {
            "_dom_classes": [],
            "_model_module": "@jupyter-widgets/controls",
            "_model_module_version": "1.5.0",
            "_model_name": "LabelModel",
            "_view_count": null,
            "_view_module": "@jupyter-widgets/controls",
            "_view_module_version": "1.5.0",
            "_view_name": "LabelView",
            "description": "",
            "description_tooltip": null,
            "layout": "IPY_MODEL_be31749e95d54ef1b4c63d4f4939f7b4",
            "placeholder": "​",
            "style": "IPY_MODEL_5a8b0d83a0e643e6b9b53e5cedea84e9",
            "value": "0.013 MB of 0.013 MB uploaded\r"
          }
        },
        "6e0c1b546c214f88a5067a3cdc4e385e": {
          "model_module": "@jupyter-widgets/controls",
          "model_name": "FloatProgressModel",
          "model_module_version": "1.5.0",
          "state": {
            "_dom_classes": [],
            "_model_module": "@jupyter-widgets/controls",
            "_model_module_version": "1.5.0",
            "_model_name": "FloatProgressModel",
            "_view_count": null,
            "_view_module": "@jupyter-widgets/controls",
            "_view_module_version": "1.5.0",
            "_view_name": "ProgressView",
            "bar_style": "",
            "description": "",
            "description_tooltip": null,
            "layout": "IPY_MODEL_e15584436ee74f679e5f4269d92cf7d0",
            "max": 1,
            "min": 0,
            "orientation": "horizontal",
            "style": "IPY_MODEL_4448c66f6ec3474a8dc1930a090602f2",
            "value": 1
          }
        },
        "468698d3e2ea44d0b65e3179e70843d7": {
          "model_module": "@jupyter-widgets/base",
          "model_name": "LayoutModel",
          "model_module_version": "1.2.0",
          "state": {
            "_model_module": "@jupyter-widgets/base",
            "_model_module_version": "1.2.0",
            "_model_name": "LayoutModel",
            "_view_count": null,
            "_view_module": "@jupyter-widgets/base",
            "_view_module_version": "1.2.0",
            "_view_name": "LayoutView",
            "align_content": null,
            "align_items": null,
            "align_self": null,
            "border": null,
            "bottom": null,
            "display": null,
            "flex": null,
            "flex_flow": null,
            "grid_area": null,
            "grid_auto_columns": null,
            "grid_auto_flow": null,
            "grid_auto_rows": null,
            "grid_column": null,
            "grid_gap": null,
            "grid_row": null,
            "grid_template_areas": null,
            "grid_template_columns": null,
            "grid_template_rows": null,
            "height": null,
            "justify_content": null,
            "justify_items": null,
            "left": null,
            "margin": null,
            "max_height": null,
            "max_width": null,
            "min_height": null,
            "min_width": null,
            "object_fit": null,
            "object_position": null,
            "order": null,
            "overflow": null,
            "overflow_x": null,
            "overflow_y": null,
            "padding": null,
            "right": null,
            "top": null,
            "visibility": null,
            "width": null
          }
        },
        "be31749e95d54ef1b4c63d4f4939f7b4": {
          "model_module": "@jupyter-widgets/base",
          "model_name": "LayoutModel",
          "model_module_version": "1.2.0",
          "state": {
            "_model_module": "@jupyter-widgets/base",
            "_model_module_version": "1.2.0",
            "_model_name": "LayoutModel",
            "_view_count": null,
            "_view_module": "@jupyter-widgets/base",
            "_view_module_version": "1.2.0",
            "_view_name": "LayoutView",
            "align_content": null,
            "align_items": null,
            "align_self": null,
            "border": null,
            "bottom": null,
            "display": null,
            "flex": null,
            "flex_flow": null,
            "grid_area": null,
            "grid_auto_columns": null,
            "grid_auto_flow": null,
            "grid_auto_rows": null,
            "grid_column": null,
            "grid_gap": null,
            "grid_row": null,
            "grid_template_areas": null,
            "grid_template_columns": null,
            "grid_template_rows": null,
            "height": null,
            "justify_content": null,
            "justify_items": null,
            "left": null,
            "margin": null,
            "max_height": null,
            "max_width": null,
            "min_height": null,
            "min_width": null,
            "object_fit": null,
            "object_position": null,
            "order": null,
            "overflow": null,
            "overflow_x": null,
            "overflow_y": null,
            "padding": null,
            "right": null,
            "top": null,
            "visibility": null,
            "width": null
          }
        },
        "5a8b0d83a0e643e6b9b53e5cedea84e9": {
          "model_module": "@jupyter-widgets/controls",
          "model_name": "DescriptionStyleModel",
          "model_module_version": "1.5.0",
          "state": {
            "_model_module": "@jupyter-widgets/controls",
            "_model_module_version": "1.5.0",
            "_model_name": "DescriptionStyleModel",
            "_view_count": null,
            "_view_module": "@jupyter-widgets/base",
            "_view_module_version": "1.2.0",
            "_view_name": "StyleView",
            "description_width": ""
          }
        },
        "e15584436ee74f679e5f4269d92cf7d0": {
          "model_module": "@jupyter-widgets/base",
          "model_name": "LayoutModel",
          "model_module_version": "1.2.0",
          "state": {
            "_model_module": "@jupyter-widgets/base",
            "_model_module_version": "1.2.0",
            "_model_name": "LayoutModel",
            "_view_count": null,
            "_view_module": "@jupyter-widgets/base",
            "_view_module_version": "1.2.0",
            "_view_name": "LayoutView",
            "align_content": null,
            "align_items": null,
            "align_self": null,
            "border": null,
            "bottom": null,
            "display": null,
            "flex": null,
            "flex_flow": null,
            "grid_area": null,
            "grid_auto_columns": null,
            "grid_auto_flow": null,
            "grid_auto_rows": null,
            "grid_column": null,
            "grid_gap": null,
            "grid_row": null,
            "grid_template_areas": null,
            "grid_template_columns": null,
            "grid_template_rows": null,
            "height": null,
            "justify_content": null,
            "justify_items": null,
            "left": null,
            "margin": null,
            "max_height": null,
            "max_width": null,
            "min_height": null,
            "min_width": null,
            "object_fit": null,
            "object_position": null,
            "order": null,
            "overflow": null,
            "overflow_x": null,
            "overflow_y": null,
            "padding": null,
            "right": null,
            "top": null,
            "visibility": null,
            "width": null
          }
        },
        "4448c66f6ec3474a8dc1930a090602f2": {
          "model_module": "@jupyter-widgets/controls",
          "model_name": "ProgressStyleModel",
          "model_module_version": "1.5.0",
          "state": {
            "_model_module": "@jupyter-widgets/controls",
            "_model_module_version": "1.5.0",
            "_model_name": "ProgressStyleModel",
            "_view_count": null,
            "_view_module": "@jupyter-widgets/base",
            "_view_module_version": "1.2.0",
            "_view_name": "StyleView",
            "bar_color": null,
            "description_width": ""
          }
        },
        "40eb8d680bf24b51b715422fdf1f8c39": {
          "model_module": "@jupyter-widgets/controls",
          "model_name": "VBoxModel",
          "model_module_version": "1.5.0",
          "state": {
            "_dom_classes": [],
            "_model_module": "@jupyter-widgets/controls",
            "_model_module_version": "1.5.0",
            "_model_name": "VBoxModel",
            "_view_count": null,
            "_view_module": "@jupyter-widgets/controls",
            "_view_module_version": "1.5.0",
            "_view_name": "VBoxView",
            "box_style": "",
            "children": [
              "IPY_MODEL_a2bec43222df4c54bd3677556e3bba0f",
              "IPY_MODEL_2afa6c3e2041494e8cdcbb22d3662638"
            ],
            "layout": "IPY_MODEL_f5fb1ac6a0a24023afe46eb1c7de2baa"
          }
        },
        "a2bec43222df4c54bd3677556e3bba0f": {
          "model_module": "@jupyter-widgets/controls",
          "model_name": "LabelModel",
          "model_module_version": "1.5.0",
          "state": {
            "_dom_classes": [],
            "_model_module": "@jupyter-widgets/controls",
            "_model_module_version": "1.5.0",
            "_model_name": "LabelModel",
            "_view_count": null,
            "_view_module": "@jupyter-widgets/controls",
            "_view_module_version": "1.5.0",
            "_view_name": "LabelView",
            "description": "",
            "description_tooltip": null,
            "layout": "IPY_MODEL_fac510d668ea455ca0769e74e2b849d7",
            "placeholder": "​",
            "style": "IPY_MODEL_0a17338f5c9040358bca347d8e9ec4f1",
            "value": "0.013 MB of 0.013 MB uploaded\r"
          }
        },
        "2afa6c3e2041494e8cdcbb22d3662638": {
          "model_module": "@jupyter-widgets/controls",
          "model_name": "FloatProgressModel",
          "model_module_version": "1.5.0",
          "state": {
            "_dom_classes": [],
            "_model_module": "@jupyter-widgets/controls",
            "_model_module_version": "1.5.0",
            "_model_name": "FloatProgressModel",
            "_view_count": null,
            "_view_module": "@jupyter-widgets/controls",
            "_view_module_version": "1.5.0",
            "_view_name": "ProgressView",
            "bar_style": "",
            "description": "",
            "description_tooltip": null,
            "layout": "IPY_MODEL_163f96daa4bb4e80b662fe0074e00f42",
            "max": 1,
            "min": 0,
            "orientation": "horizontal",
            "style": "IPY_MODEL_08235b3e97d4434cbec66be20e19a492",
            "value": 1
          }
        },
        "f5fb1ac6a0a24023afe46eb1c7de2baa": {
          "model_module": "@jupyter-widgets/base",
          "model_name": "LayoutModel",
          "model_module_version": "1.2.0",
          "state": {
            "_model_module": "@jupyter-widgets/base",
            "_model_module_version": "1.2.0",
            "_model_name": "LayoutModel",
            "_view_count": null,
            "_view_module": "@jupyter-widgets/base",
            "_view_module_version": "1.2.0",
            "_view_name": "LayoutView",
            "align_content": null,
            "align_items": null,
            "align_self": null,
            "border": null,
            "bottom": null,
            "display": null,
            "flex": null,
            "flex_flow": null,
            "grid_area": null,
            "grid_auto_columns": null,
            "grid_auto_flow": null,
            "grid_auto_rows": null,
            "grid_column": null,
            "grid_gap": null,
            "grid_row": null,
            "grid_template_areas": null,
            "grid_template_columns": null,
            "grid_template_rows": null,
            "height": null,
            "justify_content": null,
            "justify_items": null,
            "left": null,
            "margin": null,
            "max_height": null,
            "max_width": null,
            "min_height": null,
            "min_width": null,
            "object_fit": null,
            "object_position": null,
            "order": null,
            "overflow": null,
            "overflow_x": null,
            "overflow_y": null,
            "padding": null,
            "right": null,
            "top": null,
            "visibility": null,
            "width": null
          }
        },
        "fac510d668ea455ca0769e74e2b849d7": {
          "model_module": "@jupyter-widgets/base",
          "model_name": "LayoutModel",
          "model_module_version": "1.2.0",
          "state": {
            "_model_module": "@jupyter-widgets/base",
            "_model_module_version": "1.2.0",
            "_model_name": "LayoutModel",
            "_view_count": null,
            "_view_module": "@jupyter-widgets/base",
            "_view_module_version": "1.2.0",
            "_view_name": "LayoutView",
            "align_content": null,
            "align_items": null,
            "align_self": null,
            "border": null,
            "bottom": null,
            "display": null,
            "flex": null,
            "flex_flow": null,
            "grid_area": null,
            "grid_auto_columns": null,
            "grid_auto_flow": null,
            "grid_auto_rows": null,
            "grid_column": null,
            "grid_gap": null,
            "grid_row": null,
            "grid_template_areas": null,
            "grid_template_columns": null,
            "grid_template_rows": null,
            "height": null,
            "justify_content": null,
            "justify_items": null,
            "left": null,
            "margin": null,
            "max_height": null,
            "max_width": null,
            "min_height": null,
            "min_width": null,
            "object_fit": null,
            "object_position": null,
            "order": null,
            "overflow": null,
            "overflow_x": null,
            "overflow_y": null,
            "padding": null,
            "right": null,
            "top": null,
            "visibility": null,
            "width": null
          }
        },
        "0a17338f5c9040358bca347d8e9ec4f1": {
          "model_module": "@jupyter-widgets/controls",
          "model_name": "DescriptionStyleModel",
          "model_module_version": "1.5.0",
          "state": {
            "_model_module": "@jupyter-widgets/controls",
            "_model_module_version": "1.5.0",
            "_model_name": "DescriptionStyleModel",
            "_view_count": null,
            "_view_module": "@jupyter-widgets/base",
            "_view_module_version": "1.2.0",
            "_view_name": "StyleView",
            "description_width": ""
          }
        },
        "163f96daa4bb4e80b662fe0074e00f42": {
          "model_module": "@jupyter-widgets/base",
          "model_name": "LayoutModel",
          "model_module_version": "1.2.0",
          "state": {
            "_model_module": "@jupyter-widgets/base",
            "_model_module_version": "1.2.0",
            "_model_name": "LayoutModel",
            "_view_count": null,
            "_view_module": "@jupyter-widgets/base",
            "_view_module_version": "1.2.0",
            "_view_name": "LayoutView",
            "align_content": null,
            "align_items": null,
            "align_self": null,
            "border": null,
            "bottom": null,
            "display": null,
            "flex": null,
            "flex_flow": null,
            "grid_area": null,
            "grid_auto_columns": null,
            "grid_auto_flow": null,
            "grid_auto_rows": null,
            "grid_column": null,
            "grid_gap": null,
            "grid_row": null,
            "grid_template_areas": null,
            "grid_template_columns": null,
            "grid_template_rows": null,
            "height": null,
            "justify_content": null,
            "justify_items": null,
            "left": null,
            "margin": null,
            "max_height": null,
            "max_width": null,
            "min_height": null,
            "min_width": null,
            "object_fit": null,
            "object_position": null,
            "order": null,
            "overflow": null,
            "overflow_x": null,
            "overflow_y": null,
            "padding": null,
            "right": null,
            "top": null,
            "visibility": null,
            "width": null
          }
        },
        "08235b3e97d4434cbec66be20e19a492": {
          "model_module": "@jupyter-widgets/controls",
          "model_name": "ProgressStyleModel",
          "model_module_version": "1.5.0",
          "state": {
            "_model_module": "@jupyter-widgets/controls",
            "_model_module_version": "1.5.0",
            "_model_name": "ProgressStyleModel",
            "_view_count": null,
            "_view_module": "@jupyter-widgets/base",
            "_view_module_version": "1.2.0",
            "_view_name": "StyleView",
            "bar_color": null,
            "description_width": ""
          }
        },
        "55aa5ed77a224506b28f8fba0e3989ff": {
          "model_module": "@jupyter-widgets/controls",
          "model_name": "VBoxModel",
          "model_module_version": "1.5.0",
          "state": {
            "_dom_classes": [],
            "_model_module": "@jupyter-widgets/controls",
            "_model_module_version": "1.5.0",
            "_model_name": "VBoxModel",
            "_view_count": null,
            "_view_module": "@jupyter-widgets/controls",
            "_view_module_version": "1.5.0",
            "_view_name": "VBoxView",
            "box_style": "",
            "children": [
              "IPY_MODEL_425369b9d6544910a3679ce4d6ee2f0f",
              "IPY_MODEL_9c6a85f76d334483818e66d35165321f"
            ],
            "layout": "IPY_MODEL_bc0648e5d7a447eaadc29f98879acd74"
          }
        },
        "425369b9d6544910a3679ce4d6ee2f0f": {
          "model_module": "@jupyter-widgets/controls",
          "model_name": "LabelModel",
          "model_module_version": "1.5.0",
          "state": {
            "_dom_classes": [],
            "_model_module": "@jupyter-widgets/controls",
            "_model_module_version": "1.5.0",
            "_model_name": "LabelModel",
            "_view_count": null,
            "_view_module": "@jupyter-widgets/controls",
            "_view_module_version": "1.5.0",
            "_view_name": "LabelView",
            "description": "",
            "description_tooltip": null,
            "layout": "IPY_MODEL_87d03815c9024eadbf7fa9ec8acd245f",
            "placeholder": "​",
            "style": "IPY_MODEL_89c1591978a6449a8452598415b39f79",
            "value": "0.014 MB of 0.014 MB uploaded\r"
          }
        },
        "9c6a85f76d334483818e66d35165321f": {
          "model_module": "@jupyter-widgets/controls",
          "model_name": "FloatProgressModel",
          "model_module_version": "1.5.0",
          "state": {
            "_dom_classes": [],
            "_model_module": "@jupyter-widgets/controls",
            "_model_module_version": "1.5.0",
            "_model_name": "FloatProgressModel",
            "_view_count": null,
            "_view_module": "@jupyter-widgets/controls",
            "_view_module_version": "1.5.0",
            "_view_name": "ProgressView",
            "bar_style": "",
            "description": "",
            "description_tooltip": null,
            "layout": "IPY_MODEL_c95dd481a6864ce49c58bb32da553449",
            "max": 1,
            "min": 0,
            "orientation": "horizontal",
            "style": "IPY_MODEL_a75a85e5cdaa46e58e4c166d1fd6bfbf",
            "value": 1
          }
        },
        "bc0648e5d7a447eaadc29f98879acd74": {
          "model_module": "@jupyter-widgets/base",
          "model_name": "LayoutModel",
          "model_module_version": "1.2.0",
          "state": {
            "_model_module": "@jupyter-widgets/base",
            "_model_module_version": "1.2.0",
            "_model_name": "LayoutModel",
            "_view_count": null,
            "_view_module": "@jupyter-widgets/base",
            "_view_module_version": "1.2.0",
            "_view_name": "LayoutView",
            "align_content": null,
            "align_items": null,
            "align_self": null,
            "border": null,
            "bottom": null,
            "display": null,
            "flex": null,
            "flex_flow": null,
            "grid_area": null,
            "grid_auto_columns": null,
            "grid_auto_flow": null,
            "grid_auto_rows": null,
            "grid_column": null,
            "grid_gap": null,
            "grid_row": null,
            "grid_template_areas": null,
            "grid_template_columns": null,
            "grid_template_rows": null,
            "height": null,
            "justify_content": null,
            "justify_items": null,
            "left": null,
            "margin": null,
            "max_height": null,
            "max_width": null,
            "min_height": null,
            "min_width": null,
            "object_fit": null,
            "object_position": null,
            "order": null,
            "overflow": null,
            "overflow_x": null,
            "overflow_y": null,
            "padding": null,
            "right": null,
            "top": null,
            "visibility": null,
            "width": null
          }
        },
        "87d03815c9024eadbf7fa9ec8acd245f": {
          "model_module": "@jupyter-widgets/base",
          "model_name": "LayoutModel",
          "model_module_version": "1.2.0",
          "state": {
            "_model_module": "@jupyter-widgets/base",
            "_model_module_version": "1.2.0",
            "_model_name": "LayoutModel",
            "_view_count": null,
            "_view_module": "@jupyter-widgets/base",
            "_view_module_version": "1.2.0",
            "_view_name": "LayoutView",
            "align_content": null,
            "align_items": null,
            "align_self": null,
            "border": null,
            "bottom": null,
            "display": null,
            "flex": null,
            "flex_flow": null,
            "grid_area": null,
            "grid_auto_columns": null,
            "grid_auto_flow": null,
            "grid_auto_rows": null,
            "grid_column": null,
            "grid_gap": null,
            "grid_row": null,
            "grid_template_areas": null,
            "grid_template_columns": null,
            "grid_template_rows": null,
            "height": null,
            "justify_content": null,
            "justify_items": null,
            "left": null,
            "margin": null,
            "max_height": null,
            "max_width": null,
            "min_height": null,
            "min_width": null,
            "object_fit": null,
            "object_position": null,
            "order": null,
            "overflow": null,
            "overflow_x": null,
            "overflow_y": null,
            "padding": null,
            "right": null,
            "top": null,
            "visibility": null,
            "width": null
          }
        },
        "89c1591978a6449a8452598415b39f79": {
          "model_module": "@jupyter-widgets/controls",
          "model_name": "DescriptionStyleModel",
          "model_module_version": "1.5.0",
          "state": {
            "_model_module": "@jupyter-widgets/controls",
            "_model_module_version": "1.5.0",
            "_model_name": "DescriptionStyleModel",
            "_view_count": null,
            "_view_module": "@jupyter-widgets/base",
            "_view_module_version": "1.2.0",
            "_view_name": "StyleView",
            "description_width": ""
          }
        },
        "c95dd481a6864ce49c58bb32da553449": {
          "model_module": "@jupyter-widgets/base",
          "model_name": "LayoutModel",
          "model_module_version": "1.2.0",
          "state": {
            "_model_module": "@jupyter-widgets/base",
            "_model_module_version": "1.2.0",
            "_model_name": "LayoutModel",
            "_view_count": null,
            "_view_module": "@jupyter-widgets/base",
            "_view_module_version": "1.2.0",
            "_view_name": "LayoutView",
            "align_content": null,
            "align_items": null,
            "align_self": null,
            "border": null,
            "bottom": null,
            "display": null,
            "flex": null,
            "flex_flow": null,
            "grid_area": null,
            "grid_auto_columns": null,
            "grid_auto_flow": null,
            "grid_auto_rows": null,
            "grid_column": null,
            "grid_gap": null,
            "grid_row": null,
            "grid_template_areas": null,
            "grid_template_columns": null,
            "grid_template_rows": null,
            "height": null,
            "justify_content": null,
            "justify_items": null,
            "left": null,
            "margin": null,
            "max_height": null,
            "max_width": null,
            "min_height": null,
            "min_width": null,
            "object_fit": null,
            "object_position": null,
            "order": null,
            "overflow": null,
            "overflow_x": null,
            "overflow_y": null,
            "padding": null,
            "right": null,
            "top": null,
            "visibility": null,
            "width": null
          }
        },
        "a75a85e5cdaa46e58e4c166d1fd6bfbf": {
          "model_module": "@jupyter-widgets/controls",
          "model_name": "ProgressStyleModel",
          "model_module_version": "1.5.0",
          "state": {
            "_model_module": "@jupyter-widgets/controls",
            "_model_module_version": "1.5.0",
            "_model_name": "ProgressStyleModel",
            "_view_count": null,
            "_view_module": "@jupyter-widgets/base",
            "_view_module_version": "1.2.0",
            "_view_name": "StyleView",
            "bar_color": null,
            "description_width": ""
          }
        },
        "4b5093b3277446f087ead837cb9d1f3a": {
          "model_module": "@jupyter-widgets/controls",
          "model_name": "VBoxModel",
          "model_module_version": "1.5.0",
          "state": {
            "_dom_classes": [],
            "_model_module": "@jupyter-widgets/controls",
            "_model_module_version": "1.5.0",
            "_model_name": "VBoxModel",
            "_view_count": null,
            "_view_module": "@jupyter-widgets/controls",
            "_view_module_version": "1.5.0",
            "_view_name": "VBoxView",
            "box_style": "",
            "children": [
              "IPY_MODEL_56dfead3d37e4db5b2f9c16b425fb82e",
              "IPY_MODEL_e99a14b7214a45d6b26e7d3224a05fc5"
            ],
            "layout": "IPY_MODEL_cbe6c2b4a8da460b88fc140f7aa04f26"
          }
        },
        "56dfead3d37e4db5b2f9c16b425fb82e": {
          "model_module": "@jupyter-widgets/controls",
          "model_name": "LabelModel",
          "model_module_version": "1.5.0",
          "state": {
            "_dom_classes": [],
            "_model_module": "@jupyter-widgets/controls",
            "_model_module_version": "1.5.0",
            "_model_name": "LabelModel",
            "_view_count": null,
            "_view_module": "@jupyter-widgets/controls",
            "_view_module_version": "1.5.0",
            "_view_name": "LabelView",
            "description": "",
            "description_tooltip": null,
            "layout": "IPY_MODEL_3e77fa0be7a94d3591d2ceda0406bd58",
            "placeholder": "​",
            "style": "IPY_MODEL_98b601c1504245b2b98e2be9170679c7",
            "value": "0.016 MB of 0.016 MB uploaded\r"
          }
        },
        "e99a14b7214a45d6b26e7d3224a05fc5": {
          "model_module": "@jupyter-widgets/controls",
          "model_name": "FloatProgressModel",
          "model_module_version": "1.5.0",
          "state": {
            "_dom_classes": [],
            "_model_module": "@jupyter-widgets/controls",
            "_model_module_version": "1.5.0",
            "_model_name": "FloatProgressModel",
            "_view_count": null,
            "_view_module": "@jupyter-widgets/controls",
            "_view_module_version": "1.5.0",
            "_view_name": "ProgressView",
            "bar_style": "",
            "description": "",
            "description_tooltip": null,
            "layout": "IPY_MODEL_9f309992c2fd4a069a009838cca0416b",
            "max": 1,
            "min": 0,
            "orientation": "horizontal",
            "style": "IPY_MODEL_a1db0e3594974294abe4c1394ec50962",
            "value": 1
          }
        },
        "cbe6c2b4a8da460b88fc140f7aa04f26": {
          "model_module": "@jupyter-widgets/base",
          "model_name": "LayoutModel",
          "model_module_version": "1.2.0",
          "state": {
            "_model_module": "@jupyter-widgets/base",
            "_model_module_version": "1.2.0",
            "_model_name": "LayoutModel",
            "_view_count": null,
            "_view_module": "@jupyter-widgets/base",
            "_view_module_version": "1.2.0",
            "_view_name": "LayoutView",
            "align_content": null,
            "align_items": null,
            "align_self": null,
            "border": null,
            "bottom": null,
            "display": null,
            "flex": null,
            "flex_flow": null,
            "grid_area": null,
            "grid_auto_columns": null,
            "grid_auto_flow": null,
            "grid_auto_rows": null,
            "grid_column": null,
            "grid_gap": null,
            "grid_row": null,
            "grid_template_areas": null,
            "grid_template_columns": null,
            "grid_template_rows": null,
            "height": null,
            "justify_content": null,
            "justify_items": null,
            "left": null,
            "margin": null,
            "max_height": null,
            "max_width": null,
            "min_height": null,
            "min_width": null,
            "object_fit": null,
            "object_position": null,
            "order": null,
            "overflow": null,
            "overflow_x": null,
            "overflow_y": null,
            "padding": null,
            "right": null,
            "top": null,
            "visibility": null,
            "width": null
          }
        },
        "3e77fa0be7a94d3591d2ceda0406bd58": {
          "model_module": "@jupyter-widgets/base",
          "model_name": "LayoutModel",
          "model_module_version": "1.2.0",
          "state": {
            "_model_module": "@jupyter-widgets/base",
            "_model_module_version": "1.2.0",
            "_model_name": "LayoutModel",
            "_view_count": null,
            "_view_module": "@jupyter-widgets/base",
            "_view_module_version": "1.2.0",
            "_view_name": "LayoutView",
            "align_content": null,
            "align_items": null,
            "align_self": null,
            "border": null,
            "bottom": null,
            "display": null,
            "flex": null,
            "flex_flow": null,
            "grid_area": null,
            "grid_auto_columns": null,
            "grid_auto_flow": null,
            "grid_auto_rows": null,
            "grid_column": null,
            "grid_gap": null,
            "grid_row": null,
            "grid_template_areas": null,
            "grid_template_columns": null,
            "grid_template_rows": null,
            "height": null,
            "justify_content": null,
            "justify_items": null,
            "left": null,
            "margin": null,
            "max_height": null,
            "max_width": null,
            "min_height": null,
            "min_width": null,
            "object_fit": null,
            "object_position": null,
            "order": null,
            "overflow": null,
            "overflow_x": null,
            "overflow_y": null,
            "padding": null,
            "right": null,
            "top": null,
            "visibility": null,
            "width": null
          }
        },
        "98b601c1504245b2b98e2be9170679c7": {
          "model_module": "@jupyter-widgets/controls",
          "model_name": "DescriptionStyleModel",
          "model_module_version": "1.5.0",
          "state": {
            "_model_module": "@jupyter-widgets/controls",
            "_model_module_version": "1.5.0",
            "_model_name": "DescriptionStyleModel",
            "_view_count": null,
            "_view_module": "@jupyter-widgets/base",
            "_view_module_version": "1.2.0",
            "_view_name": "StyleView",
            "description_width": ""
          }
        },
        "9f309992c2fd4a069a009838cca0416b": {
          "model_module": "@jupyter-widgets/base",
          "model_name": "LayoutModel",
          "model_module_version": "1.2.0",
          "state": {
            "_model_module": "@jupyter-widgets/base",
            "_model_module_version": "1.2.0",
            "_model_name": "LayoutModel",
            "_view_count": null,
            "_view_module": "@jupyter-widgets/base",
            "_view_module_version": "1.2.0",
            "_view_name": "LayoutView",
            "align_content": null,
            "align_items": null,
            "align_self": null,
            "border": null,
            "bottom": null,
            "display": null,
            "flex": null,
            "flex_flow": null,
            "grid_area": null,
            "grid_auto_columns": null,
            "grid_auto_flow": null,
            "grid_auto_rows": null,
            "grid_column": null,
            "grid_gap": null,
            "grid_row": null,
            "grid_template_areas": null,
            "grid_template_columns": null,
            "grid_template_rows": null,
            "height": null,
            "justify_content": null,
            "justify_items": null,
            "left": null,
            "margin": null,
            "max_height": null,
            "max_width": null,
            "min_height": null,
            "min_width": null,
            "object_fit": null,
            "object_position": null,
            "order": null,
            "overflow": null,
            "overflow_x": null,
            "overflow_y": null,
            "padding": null,
            "right": null,
            "top": null,
            "visibility": null,
            "width": null
          }
        },
        "a1db0e3594974294abe4c1394ec50962": {
          "model_module": "@jupyter-widgets/controls",
          "model_name": "ProgressStyleModel",
          "model_module_version": "1.5.0",
          "state": {
            "_model_module": "@jupyter-widgets/controls",
            "_model_module_version": "1.5.0",
            "_model_name": "ProgressStyleModel",
            "_view_count": null,
            "_view_module": "@jupyter-widgets/base",
            "_view_module_version": "1.2.0",
            "_view_name": "StyleView",
            "bar_color": null,
            "description_width": ""
          }
        },
        "52f6e162ea344d279ecf8170ed44a3f8": {
          "model_module": "@jupyter-widgets/controls",
          "model_name": "VBoxModel",
          "model_module_version": "1.5.0",
          "state": {
            "_dom_classes": [],
            "_model_module": "@jupyter-widgets/controls",
            "_model_module_version": "1.5.0",
            "_model_name": "VBoxModel",
            "_view_count": null,
            "_view_module": "@jupyter-widgets/controls",
            "_view_module_version": "1.5.0",
            "_view_name": "VBoxView",
            "box_style": "",
            "children": [
              "IPY_MODEL_ceb5f59f4148499c87e13e3d0be91a95",
              "IPY_MODEL_78fd171866c046eaa79f3aa200a15642"
            ],
            "layout": "IPY_MODEL_d2315ae4225b42af88562e57c25c0c77"
          }
        },
        "ceb5f59f4148499c87e13e3d0be91a95": {
          "model_module": "@jupyter-widgets/controls",
          "model_name": "LabelModel",
          "model_module_version": "1.5.0",
          "state": {
            "_dom_classes": [],
            "_model_module": "@jupyter-widgets/controls",
            "_model_module_version": "1.5.0",
            "_model_name": "LabelModel",
            "_view_count": null,
            "_view_module": "@jupyter-widgets/controls",
            "_view_module_version": "1.5.0",
            "_view_name": "LabelView",
            "description": "",
            "description_tooltip": null,
            "layout": "IPY_MODEL_8b77a3da30ba4f8ca422a9cf4efaf536",
            "placeholder": "​",
            "style": "IPY_MODEL_e008734c631c47ec82597f3550bed597",
            "value": "0.013 MB of 0.013 MB uploaded\r"
          }
        },
        "78fd171866c046eaa79f3aa200a15642": {
          "model_module": "@jupyter-widgets/controls",
          "model_name": "FloatProgressModel",
          "model_module_version": "1.5.0",
          "state": {
            "_dom_classes": [],
            "_model_module": "@jupyter-widgets/controls",
            "_model_module_version": "1.5.0",
            "_model_name": "FloatProgressModel",
            "_view_count": null,
            "_view_module": "@jupyter-widgets/controls",
            "_view_module_version": "1.5.0",
            "_view_name": "ProgressView",
            "bar_style": "",
            "description": "",
            "description_tooltip": null,
            "layout": "IPY_MODEL_63123a21052d4cddb5b229f199490fe0",
            "max": 1,
            "min": 0,
            "orientation": "horizontal",
            "style": "IPY_MODEL_8a2fd84ed3914b3c873a86b23d7226a0",
            "value": 1
          }
        },
        "d2315ae4225b42af88562e57c25c0c77": {
          "model_module": "@jupyter-widgets/base",
          "model_name": "LayoutModel",
          "model_module_version": "1.2.0",
          "state": {
            "_model_module": "@jupyter-widgets/base",
            "_model_module_version": "1.2.0",
            "_model_name": "LayoutModel",
            "_view_count": null,
            "_view_module": "@jupyter-widgets/base",
            "_view_module_version": "1.2.0",
            "_view_name": "LayoutView",
            "align_content": null,
            "align_items": null,
            "align_self": null,
            "border": null,
            "bottom": null,
            "display": null,
            "flex": null,
            "flex_flow": null,
            "grid_area": null,
            "grid_auto_columns": null,
            "grid_auto_flow": null,
            "grid_auto_rows": null,
            "grid_column": null,
            "grid_gap": null,
            "grid_row": null,
            "grid_template_areas": null,
            "grid_template_columns": null,
            "grid_template_rows": null,
            "height": null,
            "justify_content": null,
            "justify_items": null,
            "left": null,
            "margin": null,
            "max_height": null,
            "max_width": null,
            "min_height": null,
            "min_width": null,
            "object_fit": null,
            "object_position": null,
            "order": null,
            "overflow": null,
            "overflow_x": null,
            "overflow_y": null,
            "padding": null,
            "right": null,
            "top": null,
            "visibility": null,
            "width": null
          }
        },
        "8b77a3da30ba4f8ca422a9cf4efaf536": {
          "model_module": "@jupyter-widgets/base",
          "model_name": "LayoutModel",
          "model_module_version": "1.2.0",
          "state": {
            "_model_module": "@jupyter-widgets/base",
            "_model_module_version": "1.2.0",
            "_model_name": "LayoutModel",
            "_view_count": null,
            "_view_module": "@jupyter-widgets/base",
            "_view_module_version": "1.2.0",
            "_view_name": "LayoutView",
            "align_content": null,
            "align_items": null,
            "align_self": null,
            "border": null,
            "bottom": null,
            "display": null,
            "flex": null,
            "flex_flow": null,
            "grid_area": null,
            "grid_auto_columns": null,
            "grid_auto_flow": null,
            "grid_auto_rows": null,
            "grid_column": null,
            "grid_gap": null,
            "grid_row": null,
            "grid_template_areas": null,
            "grid_template_columns": null,
            "grid_template_rows": null,
            "height": null,
            "justify_content": null,
            "justify_items": null,
            "left": null,
            "margin": null,
            "max_height": null,
            "max_width": null,
            "min_height": null,
            "min_width": null,
            "object_fit": null,
            "object_position": null,
            "order": null,
            "overflow": null,
            "overflow_x": null,
            "overflow_y": null,
            "padding": null,
            "right": null,
            "top": null,
            "visibility": null,
            "width": null
          }
        },
        "e008734c631c47ec82597f3550bed597": {
          "model_module": "@jupyter-widgets/controls",
          "model_name": "DescriptionStyleModel",
          "model_module_version": "1.5.0",
          "state": {
            "_model_module": "@jupyter-widgets/controls",
            "_model_module_version": "1.5.0",
            "_model_name": "DescriptionStyleModel",
            "_view_count": null,
            "_view_module": "@jupyter-widgets/base",
            "_view_module_version": "1.2.0",
            "_view_name": "StyleView",
            "description_width": ""
          }
        },
        "63123a21052d4cddb5b229f199490fe0": {
          "model_module": "@jupyter-widgets/base",
          "model_name": "LayoutModel",
          "model_module_version": "1.2.0",
          "state": {
            "_model_module": "@jupyter-widgets/base",
            "_model_module_version": "1.2.0",
            "_model_name": "LayoutModel",
            "_view_count": null,
            "_view_module": "@jupyter-widgets/base",
            "_view_module_version": "1.2.0",
            "_view_name": "LayoutView",
            "align_content": null,
            "align_items": null,
            "align_self": null,
            "border": null,
            "bottom": null,
            "display": null,
            "flex": null,
            "flex_flow": null,
            "grid_area": null,
            "grid_auto_columns": null,
            "grid_auto_flow": null,
            "grid_auto_rows": null,
            "grid_column": null,
            "grid_gap": null,
            "grid_row": null,
            "grid_template_areas": null,
            "grid_template_columns": null,
            "grid_template_rows": null,
            "height": null,
            "justify_content": null,
            "justify_items": null,
            "left": null,
            "margin": null,
            "max_height": null,
            "max_width": null,
            "min_height": null,
            "min_width": null,
            "object_fit": null,
            "object_position": null,
            "order": null,
            "overflow": null,
            "overflow_x": null,
            "overflow_y": null,
            "padding": null,
            "right": null,
            "top": null,
            "visibility": null,
            "width": null
          }
        },
        "8a2fd84ed3914b3c873a86b23d7226a0": {
          "model_module": "@jupyter-widgets/controls",
          "model_name": "ProgressStyleModel",
          "model_module_version": "1.5.0",
          "state": {
            "_model_module": "@jupyter-widgets/controls",
            "_model_module_version": "1.5.0",
            "_model_name": "ProgressStyleModel",
            "_view_count": null,
            "_view_module": "@jupyter-widgets/base",
            "_view_module_version": "1.2.0",
            "_view_name": "StyleView",
            "bar_color": null,
            "description_width": ""
          }
        },
        "dabd999df4d1412db601129161ec5ec9": {
          "model_module": "@jupyter-widgets/controls",
          "model_name": "VBoxModel",
          "model_module_version": "1.5.0",
          "state": {
            "_dom_classes": [],
            "_model_module": "@jupyter-widgets/controls",
            "_model_module_version": "1.5.0",
            "_model_name": "VBoxModel",
            "_view_count": null,
            "_view_module": "@jupyter-widgets/controls",
            "_view_module_version": "1.5.0",
            "_view_name": "VBoxView",
            "box_style": "",
            "children": [
              "IPY_MODEL_c2432dbb60904289a36d2afcd56df300",
              "IPY_MODEL_17f7e3e64c8c4bfb819fa89d14189178"
            ],
            "layout": "IPY_MODEL_2ed0b4eb05a7486a8f34e3ca41d1384f"
          }
        },
        "c2432dbb60904289a36d2afcd56df300": {
          "model_module": "@jupyter-widgets/controls",
          "model_name": "LabelModel",
          "model_module_version": "1.5.0",
          "state": {
            "_dom_classes": [],
            "_model_module": "@jupyter-widgets/controls",
            "_model_module_version": "1.5.0",
            "_model_name": "LabelModel",
            "_view_count": null,
            "_view_module": "@jupyter-widgets/controls",
            "_view_module_version": "1.5.0",
            "_view_name": "LabelView",
            "description": "",
            "description_tooltip": null,
            "layout": "IPY_MODEL_7b06cb4ea868420ab508bcdfe2e34680",
            "placeholder": "​",
            "style": "IPY_MODEL_0a34bda7a21a43b290b9448a441de1c2",
            "value": "0.013 MB of 0.013 MB uploaded\r"
          }
        },
        "17f7e3e64c8c4bfb819fa89d14189178": {
          "model_module": "@jupyter-widgets/controls",
          "model_name": "FloatProgressModel",
          "model_module_version": "1.5.0",
          "state": {
            "_dom_classes": [],
            "_model_module": "@jupyter-widgets/controls",
            "_model_module_version": "1.5.0",
            "_model_name": "FloatProgressModel",
            "_view_count": null,
            "_view_module": "@jupyter-widgets/controls",
            "_view_module_version": "1.5.0",
            "_view_name": "ProgressView",
            "bar_style": "",
            "description": "",
            "description_tooltip": null,
            "layout": "IPY_MODEL_afc558df1cef4edebaad4d5469e0d9f1",
            "max": 1,
            "min": 0,
            "orientation": "horizontal",
            "style": "IPY_MODEL_6f7e71b1637b4be5af0d3f6b1371bfd8",
            "value": 1
          }
        },
        "2ed0b4eb05a7486a8f34e3ca41d1384f": {
          "model_module": "@jupyter-widgets/base",
          "model_name": "LayoutModel",
          "model_module_version": "1.2.0",
          "state": {
            "_model_module": "@jupyter-widgets/base",
            "_model_module_version": "1.2.0",
            "_model_name": "LayoutModel",
            "_view_count": null,
            "_view_module": "@jupyter-widgets/base",
            "_view_module_version": "1.2.0",
            "_view_name": "LayoutView",
            "align_content": null,
            "align_items": null,
            "align_self": null,
            "border": null,
            "bottom": null,
            "display": null,
            "flex": null,
            "flex_flow": null,
            "grid_area": null,
            "grid_auto_columns": null,
            "grid_auto_flow": null,
            "grid_auto_rows": null,
            "grid_column": null,
            "grid_gap": null,
            "grid_row": null,
            "grid_template_areas": null,
            "grid_template_columns": null,
            "grid_template_rows": null,
            "height": null,
            "justify_content": null,
            "justify_items": null,
            "left": null,
            "margin": null,
            "max_height": null,
            "max_width": null,
            "min_height": null,
            "min_width": null,
            "object_fit": null,
            "object_position": null,
            "order": null,
            "overflow": null,
            "overflow_x": null,
            "overflow_y": null,
            "padding": null,
            "right": null,
            "top": null,
            "visibility": null,
            "width": null
          }
        },
        "7b06cb4ea868420ab508bcdfe2e34680": {
          "model_module": "@jupyter-widgets/base",
          "model_name": "LayoutModel",
          "model_module_version": "1.2.0",
          "state": {
            "_model_module": "@jupyter-widgets/base",
            "_model_module_version": "1.2.0",
            "_model_name": "LayoutModel",
            "_view_count": null,
            "_view_module": "@jupyter-widgets/base",
            "_view_module_version": "1.2.0",
            "_view_name": "LayoutView",
            "align_content": null,
            "align_items": null,
            "align_self": null,
            "border": null,
            "bottom": null,
            "display": null,
            "flex": null,
            "flex_flow": null,
            "grid_area": null,
            "grid_auto_columns": null,
            "grid_auto_flow": null,
            "grid_auto_rows": null,
            "grid_column": null,
            "grid_gap": null,
            "grid_row": null,
            "grid_template_areas": null,
            "grid_template_columns": null,
            "grid_template_rows": null,
            "height": null,
            "justify_content": null,
            "justify_items": null,
            "left": null,
            "margin": null,
            "max_height": null,
            "max_width": null,
            "min_height": null,
            "min_width": null,
            "object_fit": null,
            "object_position": null,
            "order": null,
            "overflow": null,
            "overflow_x": null,
            "overflow_y": null,
            "padding": null,
            "right": null,
            "top": null,
            "visibility": null,
            "width": null
          }
        },
        "0a34bda7a21a43b290b9448a441de1c2": {
          "model_module": "@jupyter-widgets/controls",
          "model_name": "DescriptionStyleModel",
          "model_module_version": "1.5.0",
          "state": {
            "_model_module": "@jupyter-widgets/controls",
            "_model_module_version": "1.5.0",
            "_model_name": "DescriptionStyleModel",
            "_view_count": null,
            "_view_module": "@jupyter-widgets/base",
            "_view_module_version": "1.2.0",
            "_view_name": "StyleView",
            "description_width": ""
          }
        },
        "afc558df1cef4edebaad4d5469e0d9f1": {
          "model_module": "@jupyter-widgets/base",
          "model_name": "LayoutModel",
          "model_module_version": "1.2.0",
          "state": {
            "_model_module": "@jupyter-widgets/base",
            "_model_module_version": "1.2.0",
            "_model_name": "LayoutModel",
            "_view_count": null,
            "_view_module": "@jupyter-widgets/base",
            "_view_module_version": "1.2.0",
            "_view_name": "LayoutView",
            "align_content": null,
            "align_items": null,
            "align_self": null,
            "border": null,
            "bottom": null,
            "display": null,
            "flex": null,
            "flex_flow": null,
            "grid_area": null,
            "grid_auto_columns": null,
            "grid_auto_flow": null,
            "grid_auto_rows": null,
            "grid_column": null,
            "grid_gap": null,
            "grid_row": null,
            "grid_template_areas": null,
            "grid_template_columns": null,
            "grid_template_rows": null,
            "height": null,
            "justify_content": null,
            "justify_items": null,
            "left": null,
            "margin": null,
            "max_height": null,
            "max_width": null,
            "min_height": null,
            "min_width": null,
            "object_fit": null,
            "object_position": null,
            "order": null,
            "overflow": null,
            "overflow_x": null,
            "overflow_y": null,
            "padding": null,
            "right": null,
            "top": null,
            "visibility": null,
            "width": null
          }
        },
        "6f7e71b1637b4be5af0d3f6b1371bfd8": {
          "model_module": "@jupyter-widgets/controls",
          "model_name": "ProgressStyleModel",
          "model_module_version": "1.5.0",
          "state": {
            "_model_module": "@jupyter-widgets/controls",
            "_model_module_version": "1.5.0",
            "_model_name": "ProgressStyleModel",
            "_view_count": null,
            "_view_module": "@jupyter-widgets/base",
            "_view_module_version": "1.2.0",
            "_view_name": "StyleView",
            "bar_color": null,
            "description_width": ""
          }
        },
        "1b0736a895ad41cc9f5940a02d792b21": {
          "model_module": "@jupyter-widgets/controls",
          "model_name": "VBoxModel",
          "model_module_version": "1.5.0",
          "state": {
            "_dom_classes": [],
            "_model_module": "@jupyter-widgets/controls",
            "_model_module_version": "1.5.0",
            "_model_name": "VBoxModel",
            "_view_count": null,
            "_view_module": "@jupyter-widgets/controls",
            "_view_module_version": "1.5.0",
            "_view_name": "VBoxView",
            "box_style": "",
            "children": [
              "IPY_MODEL_dc6232a3c6a24a1f83ea87c1b8712b7e",
              "IPY_MODEL_1993325e9171492280d2f8536c41a098"
            ],
            "layout": "IPY_MODEL_02432ed1d98544f2a96d383ab8f76c3a"
          }
        },
        "dc6232a3c6a24a1f83ea87c1b8712b7e": {
          "model_module": "@jupyter-widgets/controls",
          "model_name": "LabelModel",
          "model_module_version": "1.5.0",
          "state": {
            "_dom_classes": [],
            "_model_module": "@jupyter-widgets/controls",
            "_model_module_version": "1.5.0",
            "_model_name": "LabelModel",
            "_view_count": null,
            "_view_module": "@jupyter-widgets/controls",
            "_view_module_version": "1.5.0",
            "_view_name": "LabelView",
            "description": "",
            "description_tooltip": null,
            "layout": "IPY_MODEL_07954b6ecfc6457f809ffbc89c32e835",
            "placeholder": "​",
            "style": "IPY_MODEL_e53c379cf900490db14787e83258d081",
            "value": "0.013 MB of 0.013 MB uploaded\r"
          }
        },
        "1993325e9171492280d2f8536c41a098": {
          "model_module": "@jupyter-widgets/controls",
          "model_name": "FloatProgressModel",
          "model_module_version": "1.5.0",
          "state": {
            "_dom_classes": [],
            "_model_module": "@jupyter-widgets/controls",
            "_model_module_version": "1.5.0",
            "_model_name": "FloatProgressModel",
            "_view_count": null,
            "_view_module": "@jupyter-widgets/controls",
            "_view_module_version": "1.5.0",
            "_view_name": "ProgressView",
            "bar_style": "",
            "description": "",
            "description_tooltip": null,
            "layout": "IPY_MODEL_c248cb830f954f81a47e2b949a4ac5c4",
            "max": 1,
            "min": 0,
            "orientation": "horizontal",
            "style": "IPY_MODEL_350f93c352df475380712d29d2183918",
            "value": 1
          }
        },
        "02432ed1d98544f2a96d383ab8f76c3a": {
          "model_module": "@jupyter-widgets/base",
          "model_name": "LayoutModel",
          "model_module_version": "1.2.0",
          "state": {
            "_model_module": "@jupyter-widgets/base",
            "_model_module_version": "1.2.0",
            "_model_name": "LayoutModel",
            "_view_count": null,
            "_view_module": "@jupyter-widgets/base",
            "_view_module_version": "1.2.0",
            "_view_name": "LayoutView",
            "align_content": null,
            "align_items": null,
            "align_self": null,
            "border": null,
            "bottom": null,
            "display": null,
            "flex": null,
            "flex_flow": null,
            "grid_area": null,
            "grid_auto_columns": null,
            "grid_auto_flow": null,
            "grid_auto_rows": null,
            "grid_column": null,
            "grid_gap": null,
            "grid_row": null,
            "grid_template_areas": null,
            "grid_template_columns": null,
            "grid_template_rows": null,
            "height": null,
            "justify_content": null,
            "justify_items": null,
            "left": null,
            "margin": null,
            "max_height": null,
            "max_width": null,
            "min_height": null,
            "min_width": null,
            "object_fit": null,
            "object_position": null,
            "order": null,
            "overflow": null,
            "overflow_x": null,
            "overflow_y": null,
            "padding": null,
            "right": null,
            "top": null,
            "visibility": null,
            "width": null
          }
        },
        "07954b6ecfc6457f809ffbc89c32e835": {
          "model_module": "@jupyter-widgets/base",
          "model_name": "LayoutModel",
          "model_module_version": "1.2.0",
          "state": {
            "_model_module": "@jupyter-widgets/base",
            "_model_module_version": "1.2.0",
            "_model_name": "LayoutModel",
            "_view_count": null,
            "_view_module": "@jupyter-widgets/base",
            "_view_module_version": "1.2.0",
            "_view_name": "LayoutView",
            "align_content": null,
            "align_items": null,
            "align_self": null,
            "border": null,
            "bottom": null,
            "display": null,
            "flex": null,
            "flex_flow": null,
            "grid_area": null,
            "grid_auto_columns": null,
            "grid_auto_flow": null,
            "grid_auto_rows": null,
            "grid_column": null,
            "grid_gap": null,
            "grid_row": null,
            "grid_template_areas": null,
            "grid_template_columns": null,
            "grid_template_rows": null,
            "height": null,
            "justify_content": null,
            "justify_items": null,
            "left": null,
            "margin": null,
            "max_height": null,
            "max_width": null,
            "min_height": null,
            "min_width": null,
            "object_fit": null,
            "object_position": null,
            "order": null,
            "overflow": null,
            "overflow_x": null,
            "overflow_y": null,
            "padding": null,
            "right": null,
            "top": null,
            "visibility": null,
            "width": null
          }
        },
        "e53c379cf900490db14787e83258d081": {
          "model_module": "@jupyter-widgets/controls",
          "model_name": "DescriptionStyleModel",
          "model_module_version": "1.5.0",
          "state": {
            "_model_module": "@jupyter-widgets/controls",
            "_model_module_version": "1.5.0",
            "_model_name": "DescriptionStyleModel",
            "_view_count": null,
            "_view_module": "@jupyter-widgets/base",
            "_view_module_version": "1.2.0",
            "_view_name": "StyleView",
            "description_width": ""
          }
        },
        "c248cb830f954f81a47e2b949a4ac5c4": {
          "model_module": "@jupyter-widgets/base",
          "model_name": "LayoutModel",
          "model_module_version": "1.2.0",
          "state": {
            "_model_module": "@jupyter-widgets/base",
            "_model_module_version": "1.2.0",
            "_model_name": "LayoutModel",
            "_view_count": null,
            "_view_module": "@jupyter-widgets/base",
            "_view_module_version": "1.2.0",
            "_view_name": "LayoutView",
            "align_content": null,
            "align_items": null,
            "align_self": null,
            "border": null,
            "bottom": null,
            "display": null,
            "flex": null,
            "flex_flow": null,
            "grid_area": null,
            "grid_auto_columns": null,
            "grid_auto_flow": null,
            "grid_auto_rows": null,
            "grid_column": null,
            "grid_gap": null,
            "grid_row": null,
            "grid_template_areas": null,
            "grid_template_columns": null,
            "grid_template_rows": null,
            "height": null,
            "justify_content": null,
            "justify_items": null,
            "left": null,
            "margin": null,
            "max_height": null,
            "max_width": null,
            "min_height": null,
            "min_width": null,
            "object_fit": null,
            "object_position": null,
            "order": null,
            "overflow": null,
            "overflow_x": null,
            "overflow_y": null,
            "padding": null,
            "right": null,
            "top": null,
            "visibility": null,
            "width": null
          }
        },
        "350f93c352df475380712d29d2183918": {
          "model_module": "@jupyter-widgets/controls",
          "model_name": "ProgressStyleModel",
          "model_module_version": "1.5.0",
          "state": {
            "_model_module": "@jupyter-widgets/controls",
            "_model_module_version": "1.5.0",
            "_model_name": "ProgressStyleModel",
            "_view_count": null,
            "_view_module": "@jupyter-widgets/base",
            "_view_module_version": "1.2.0",
            "_view_name": "StyleView",
            "bar_color": null,
            "description_width": ""
          }
        },
        "9184af86b25f45749c35a03a5d909a46": {
          "model_module": "@jupyter-widgets/controls",
          "model_name": "VBoxModel",
          "model_module_version": "1.5.0",
          "state": {
            "_dom_classes": [],
            "_model_module": "@jupyter-widgets/controls",
            "_model_module_version": "1.5.0",
            "_model_name": "VBoxModel",
            "_view_count": null,
            "_view_module": "@jupyter-widgets/controls",
            "_view_module_version": "1.5.0",
            "_view_name": "VBoxView",
            "box_style": "",
            "children": [
              "IPY_MODEL_34d5c762f7c94c788398f1d83cabe736",
              "IPY_MODEL_05327b7984ed48c38d76095c8e1b3684"
            ],
            "layout": "IPY_MODEL_bc0a41ae564d48b6aa45baa93fc77b98"
          }
        },
        "34d5c762f7c94c788398f1d83cabe736": {
          "model_module": "@jupyter-widgets/controls",
          "model_name": "LabelModel",
          "model_module_version": "1.5.0",
          "state": {
            "_dom_classes": [],
            "_model_module": "@jupyter-widgets/controls",
            "_model_module_version": "1.5.0",
            "_model_name": "LabelModel",
            "_view_count": null,
            "_view_module": "@jupyter-widgets/controls",
            "_view_module_version": "1.5.0",
            "_view_name": "LabelView",
            "description": "",
            "description_tooltip": null,
            "layout": "IPY_MODEL_024b81c4cf764e4394f54054e7bfe9af",
            "placeholder": "​",
            "style": "IPY_MODEL_dd605e4da8fc47df822e2c4fbb2708d2",
            "value": "0.013 MB of 0.013 MB uploaded\r"
          }
        },
        "05327b7984ed48c38d76095c8e1b3684": {
          "model_module": "@jupyter-widgets/controls",
          "model_name": "FloatProgressModel",
          "model_module_version": "1.5.0",
          "state": {
            "_dom_classes": [],
            "_model_module": "@jupyter-widgets/controls",
            "_model_module_version": "1.5.0",
            "_model_name": "FloatProgressModel",
            "_view_count": null,
            "_view_module": "@jupyter-widgets/controls",
            "_view_module_version": "1.5.0",
            "_view_name": "ProgressView",
            "bar_style": "",
            "description": "",
            "description_tooltip": null,
            "layout": "IPY_MODEL_79510ff74fb4428fa651e79df222c1bd",
            "max": 1,
            "min": 0,
            "orientation": "horizontal",
            "style": "IPY_MODEL_2ee30016e0404f12acb3f07f348f7dac",
            "value": 1
          }
        },
        "bc0a41ae564d48b6aa45baa93fc77b98": {
          "model_module": "@jupyter-widgets/base",
          "model_name": "LayoutModel",
          "model_module_version": "1.2.0",
          "state": {
            "_model_module": "@jupyter-widgets/base",
            "_model_module_version": "1.2.0",
            "_model_name": "LayoutModel",
            "_view_count": null,
            "_view_module": "@jupyter-widgets/base",
            "_view_module_version": "1.2.0",
            "_view_name": "LayoutView",
            "align_content": null,
            "align_items": null,
            "align_self": null,
            "border": null,
            "bottom": null,
            "display": null,
            "flex": null,
            "flex_flow": null,
            "grid_area": null,
            "grid_auto_columns": null,
            "grid_auto_flow": null,
            "grid_auto_rows": null,
            "grid_column": null,
            "grid_gap": null,
            "grid_row": null,
            "grid_template_areas": null,
            "grid_template_columns": null,
            "grid_template_rows": null,
            "height": null,
            "justify_content": null,
            "justify_items": null,
            "left": null,
            "margin": null,
            "max_height": null,
            "max_width": null,
            "min_height": null,
            "min_width": null,
            "object_fit": null,
            "object_position": null,
            "order": null,
            "overflow": null,
            "overflow_x": null,
            "overflow_y": null,
            "padding": null,
            "right": null,
            "top": null,
            "visibility": null,
            "width": null
          }
        },
        "024b81c4cf764e4394f54054e7bfe9af": {
          "model_module": "@jupyter-widgets/base",
          "model_name": "LayoutModel",
          "model_module_version": "1.2.0",
          "state": {
            "_model_module": "@jupyter-widgets/base",
            "_model_module_version": "1.2.0",
            "_model_name": "LayoutModel",
            "_view_count": null,
            "_view_module": "@jupyter-widgets/base",
            "_view_module_version": "1.2.0",
            "_view_name": "LayoutView",
            "align_content": null,
            "align_items": null,
            "align_self": null,
            "border": null,
            "bottom": null,
            "display": null,
            "flex": null,
            "flex_flow": null,
            "grid_area": null,
            "grid_auto_columns": null,
            "grid_auto_flow": null,
            "grid_auto_rows": null,
            "grid_column": null,
            "grid_gap": null,
            "grid_row": null,
            "grid_template_areas": null,
            "grid_template_columns": null,
            "grid_template_rows": null,
            "height": null,
            "justify_content": null,
            "justify_items": null,
            "left": null,
            "margin": null,
            "max_height": null,
            "max_width": null,
            "min_height": null,
            "min_width": null,
            "object_fit": null,
            "object_position": null,
            "order": null,
            "overflow": null,
            "overflow_x": null,
            "overflow_y": null,
            "padding": null,
            "right": null,
            "top": null,
            "visibility": null,
            "width": null
          }
        },
        "dd605e4da8fc47df822e2c4fbb2708d2": {
          "model_module": "@jupyter-widgets/controls",
          "model_name": "DescriptionStyleModel",
          "model_module_version": "1.5.0",
          "state": {
            "_model_module": "@jupyter-widgets/controls",
            "_model_module_version": "1.5.0",
            "_model_name": "DescriptionStyleModel",
            "_view_count": null,
            "_view_module": "@jupyter-widgets/base",
            "_view_module_version": "1.2.0",
            "_view_name": "StyleView",
            "description_width": ""
          }
        },
        "79510ff74fb4428fa651e79df222c1bd": {
          "model_module": "@jupyter-widgets/base",
          "model_name": "LayoutModel",
          "model_module_version": "1.2.0",
          "state": {
            "_model_module": "@jupyter-widgets/base",
            "_model_module_version": "1.2.0",
            "_model_name": "LayoutModel",
            "_view_count": null,
            "_view_module": "@jupyter-widgets/base",
            "_view_module_version": "1.2.0",
            "_view_name": "LayoutView",
            "align_content": null,
            "align_items": null,
            "align_self": null,
            "border": null,
            "bottom": null,
            "display": null,
            "flex": null,
            "flex_flow": null,
            "grid_area": null,
            "grid_auto_columns": null,
            "grid_auto_flow": null,
            "grid_auto_rows": null,
            "grid_column": null,
            "grid_gap": null,
            "grid_row": null,
            "grid_template_areas": null,
            "grid_template_columns": null,
            "grid_template_rows": null,
            "height": null,
            "justify_content": null,
            "justify_items": null,
            "left": null,
            "margin": null,
            "max_height": null,
            "max_width": null,
            "min_height": null,
            "min_width": null,
            "object_fit": null,
            "object_position": null,
            "order": null,
            "overflow": null,
            "overflow_x": null,
            "overflow_y": null,
            "padding": null,
            "right": null,
            "top": null,
            "visibility": null,
            "width": null
          }
        },
        "2ee30016e0404f12acb3f07f348f7dac": {
          "model_module": "@jupyter-widgets/controls",
          "model_name": "ProgressStyleModel",
          "model_module_version": "1.5.0",
          "state": {
            "_model_module": "@jupyter-widgets/controls",
            "_model_module_version": "1.5.0",
            "_model_name": "ProgressStyleModel",
            "_view_count": null,
            "_view_module": "@jupyter-widgets/base",
            "_view_module_version": "1.2.0",
            "_view_name": "StyleView",
            "bar_color": null,
            "description_width": ""
          }
        },
        "e332dcac6c814ec9947340eaaef621c7": {
          "model_module": "@jupyter-widgets/controls",
          "model_name": "VBoxModel",
          "model_module_version": "1.5.0",
          "state": {
            "_dom_classes": [],
            "_model_module": "@jupyter-widgets/controls",
            "_model_module_version": "1.5.0",
            "_model_name": "VBoxModel",
            "_view_count": null,
            "_view_module": "@jupyter-widgets/controls",
            "_view_module_version": "1.5.0",
            "_view_name": "VBoxView",
            "box_style": "",
            "children": [
              "IPY_MODEL_91b4ee1d32674e7989ca4bda07cb7263",
              "IPY_MODEL_42745c0b66744c0282fe9b64a5479912"
            ],
            "layout": "IPY_MODEL_134704f0cc28412d88a1de38ba99be3a"
          }
        },
        "91b4ee1d32674e7989ca4bda07cb7263": {
          "model_module": "@jupyter-widgets/controls",
          "model_name": "LabelModel",
          "model_module_version": "1.5.0",
          "state": {
            "_dom_classes": [],
            "_model_module": "@jupyter-widgets/controls",
            "_model_module_version": "1.5.0",
            "_model_name": "LabelModel",
            "_view_count": null,
            "_view_module": "@jupyter-widgets/controls",
            "_view_module_version": "1.5.0",
            "_view_name": "LabelView",
            "description": "",
            "description_tooltip": null,
            "layout": "IPY_MODEL_8479b16d7bcd4868811cf8039766d9c6",
            "placeholder": "​",
            "style": "IPY_MODEL_e10e860d55374835a3e660b7fd125cd0",
            "value": "0.013 MB of 0.013 MB uploaded\r"
          }
        },
        "42745c0b66744c0282fe9b64a5479912": {
          "model_module": "@jupyter-widgets/controls",
          "model_name": "FloatProgressModel",
          "model_module_version": "1.5.0",
          "state": {
            "_dom_classes": [],
            "_model_module": "@jupyter-widgets/controls",
            "_model_module_version": "1.5.0",
            "_model_name": "FloatProgressModel",
            "_view_count": null,
            "_view_module": "@jupyter-widgets/controls",
            "_view_module_version": "1.5.0",
            "_view_name": "ProgressView",
            "bar_style": "",
            "description": "",
            "description_tooltip": null,
            "layout": "IPY_MODEL_f28e956b53e54d37b8d3af6dba9b8eb6",
            "max": 1,
            "min": 0,
            "orientation": "horizontal",
            "style": "IPY_MODEL_57c2bfa2708c434d972a7f8f6b186ab8",
            "value": 1
          }
        },
        "134704f0cc28412d88a1de38ba99be3a": {
          "model_module": "@jupyter-widgets/base",
          "model_name": "LayoutModel",
          "model_module_version": "1.2.0",
          "state": {
            "_model_module": "@jupyter-widgets/base",
            "_model_module_version": "1.2.0",
            "_model_name": "LayoutModel",
            "_view_count": null,
            "_view_module": "@jupyter-widgets/base",
            "_view_module_version": "1.2.0",
            "_view_name": "LayoutView",
            "align_content": null,
            "align_items": null,
            "align_self": null,
            "border": null,
            "bottom": null,
            "display": null,
            "flex": null,
            "flex_flow": null,
            "grid_area": null,
            "grid_auto_columns": null,
            "grid_auto_flow": null,
            "grid_auto_rows": null,
            "grid_column": null,
            "grid_gap": null,
            "grid_row": null,
            "grid_template_areas": null,
            "grid_template_columns": null,
            "grid_template_rows": null,
            "height": null,
            "justify_content": null,
            "justify_items": null,
            "left": null,
            "margin": null,
            "max_height": null,
            "max_width": null,
            "min_height": null,
            "min_width": null,
            "object_fit": null,
            "object_position": null,
            "order": null,
            "overflow": null,
            "overflow_x": null,
            "overflow_y": null,
            "padding": null,
            "right": null,
            "top": null,
            "visibility": null,
            "width": null
          }
        },
        "8479b16d7bcd4868811cf8039766d9c6": {
          "model_module": "@jupyter-widgets/base",
          "model_name": "LayoutModel",
          "model_module_version": "1.2.0",
          "state": {
            "_model_module": "@jupyter-widgets/base",
            "_model_module_version": "1.2.0",
            "_model_name": "LayoutModel",
            "_view_count": null,
            "_view_module": "@jupyter-widgets/base",
            "_view_module_version": "1.2.0",
            "_view_name": "LayoutView",
            "align_content": null,
            "align_items": null,
            "align_self": null,
            "border": null,
            "bottom": null,
            "display": null,
            "flex": null,
            "flex_flow": null,
            "grid_area": null,
            "grid_auto_columns": null,
            "grid_auto_flow": null,
            "grid_auto_rows": null,
            "grid_column": null,
            "grid_gap": null,
            "grid_row": null,
            "grid_template_areas": null,
            "grid_template_columns": null,
            "grid_template_rows": null,
            "height": null,
            "justify_content": null,
            "justify_items": null,
            "left": null,
            "margin": null,
            "max_height": null,
            "max_width": null,
            "min_height": null,
            "min_width": null,
            "object_fit": null,
            "object_position": null,
            "order": null,
            "overflow": null,
            "overflow_x": null,
            "overflow_y": null,
            "padding": null,
            "right": null,
            "top": null,
            "visibility": null,
            "width": null
          }
        },
        "e10e860d55374835a3e660b7fd125cd0": {
          "model_module": "@jupyter-widgets/controls",
          "model_name": "DescriptionStyleModel",
          "model_module_version": "1.5.0",
          "state": {
            "_model_module": "@jupyter-widgets/controls",
            "_model_module_version": "1.5.0",
            "_model_name": "DescriptionStyleModel",
            "_view_count": null,
            "_view_module": "@jupyter-widgets/base",
            "_view_module_version": "1.2.0",
            "_view_name": "StyleView",
            "description_width": ""
          }
        },
        "f28e956b53e54d37b8d3af6dba9b8eb6": {
          "model_module": "@jupyter-widgets/base",
          "model_name": "LayoutModel",
          "model_module_version": "1.2.0",
          "state": {
            "_model_module": "@jupyter-widgets/base",
            "_model_module_version": "1.2.0",
            "_model_name": "LayoutModel",
            "_view_count": null,
            "_view_module": "@jupyter-widgets/base",
            "_view_module_version": "1.2.0",
            "_view_name": "LayoutView",
            "align_content": null,
            "align_items": null,
            "align_self": null,
            "border": null,
            "bottom": null,
            "display": null,
            "flex": null,
            "flex_flow": null,
            "grid_area": null,
            "grid_auto_columns": null,
            "grid_auto_flow": null,
            "grid_auto_rows": null,
            "grid_column": null,
            "grid_gap": null,
            "grid_row": null,
            "grid_template_areas": null,
            "grid_template_columns": null,
            "grid_template_rows": null,
            "height": null,
            "justify_content": null,
            "justify_items": null,
            "left": null,
            "margin": null,
            "max_height": null,
            "max_width": null,
            "min_height": null,
            "min_width": null,
            "object_fit": null,
            "object_position": null,
            "order": null,
            "overflow": null,
            "overflow_x": null,
            "overflow_y": null,
            "padding": null,
            "right": null,
            "top": null,
            "visibility": null,
            "width": null
          }
        },
        "57c2bfa2708c434d972a7f8f6b186ab8": {
          "model_module": "@jupyter-widgets/controls",
          "model_name": "ProgressStyleModel",
          "model_module_version": "1.5.0",
          "state": {
            "_model_module": "@jupyter-widgets/controls",
            "_model_module_version": "1.5.0",
            "_model_name": "ProgressStyleModel",
            "_view_count": null,
            "_view_module": "@jupyter-widgets/base",
            "_view_module_version": "1.2.0",
            "_view_name": "StyleView",
            "bar_color": null,
            "description_width": ""
          }
        },
        "96ccc41a6f1f453bab55cd6cded5b671": {
          "model_module": "@jupyter-widgets/controls",
          "model_name": "VBoxModel",
          "model_module_version": "1.5.0",
          "state": {
            "_dom_classes": [],
            "_model_module": "@jupyter-widgets/controls",
            "_model_module_version": "1.5.0",
            "_model_name": "VBoxModel",
            "_view_count": null,
            "_view_module": "@jupyter-widgets/controls",
            "_view_module_version": "1.5.0",
            "_view_name": "VBoxView",
            "box_style": "",
            "children": [
              "IPY_MODEL_1dbdf7266cca40e78015be7cc10a8bf4",
              "IPY_MODEL_cfb6f1b0da6b419ab99e0165a6f39063"
            ],
            "layout": "IPY_MODEL_dcd2bc1160fe45e7a4f167e2984e4efb"
          }
        },
        "1dbdf7266cca40e78015be7cc10a8bf4": {
          "model_module": "@jupyter-widgets/controls",
          "model_name": "LabelModel",
          "model_module_version": "1.5.0",
          "state": {
            "_dom_classes": [],
            "_model_module": "@jupyter-widgets/controls",
            "_model_module_version": "1.5.0",
            "_model_name": "LabelModel",
            "_view_count": null,
            "_view_module": "@jupyter-widgets/controls",
            "_view_module_version": "1.5.0",
            "_view_name": "LabelView",
            "description": "",
            "description_tooltip": null,
            "layout": "IPY_MODEL_37c2c87213ad444e9ed1cd028b2ac8e8",
            "placeholder": "​",
            "style": "IPY_MODEL_78c20419a9fd4907b19850be4cee0283",
            "value": "0.014 MB of 0.014 MB uploaded\r"
          }
        },
        "cfb6f1b0da6b419ab99e0165a6f39063": {
          "model_module": "@jupyter-widgets/controls",
          "model_name": "FloatProgressModel",
          "model_module_version": "1.5.0",
          "state": {
            "_dom_classes": [],
            "_model_module": "@jupyter-widgets/controls",
            "_model_module_version": "1.5.0",
            "_model_name": "FloatProgressModel",
            "_view_count": null,
            "_view_module": "@jupyter-widgets/controls",
            "_view_module_version": "1.5.0",
            "_view_name": "ProgressView",
            "bar_style": "",
            "description": "",
            "description_tooltip": null,
            "layout": "IPY_MODEL_2ae76604df4142a7b35702cf6acdd1c7",
            "max": 1,
            "min": 0,
            "orientation": "horizontal",
            "style": "IPY_MODEL_b6a78221d90c4600b10bef9dd77ab7fc",
            "value": 1
          }
        },
        "dcd2bc1160fe45e7a4f167e2984e4efb": {
          "model_module": "@jupyter-widgets/base",
          "model_name": "LayoutModel",
          "model_module_version": "1.2.0",
          "state": {
            "_model_module": "@jupyter-widgets/base",
            "_model_module_version": "1.2.0",
            "_model_name": "LayoutModel",
            "_view_count": null,
            "_view_module": "@jupyter-widgets/base",
            "_view_module_version": "1.2.0",
            "_view_name": "LayoutView",
            "align_content": null,
            "align_items": null,
            "align_self": null,
            "border": null,
            "bottom": null,
            "display": null,
            "flex": null,
            "flex_flow": null,
            "grid_area": null,
            "grid_auto_columns": null,
            "grid_auto_flow": null,
            "grid_auto_rows": null,
            "grid_column": null,
            "grid_gap": null,
            "grid_row": null,
            "grid_template_areas": null,
            "grid_template_columns": null,
            "grid_template_rows": null,
            "height": null,
            "justify_content": null,
            "justify_items": null,
            "left": null,
            "margin": null,
            "max_height": null,
            "max_width": null,
            "min_height": null,
            "min_width": null,
            "object_fit": null,
            "object_position": null,
            "order": null,
            "overflow": null,
            "overflow_x": null,
            "overflow_y": null,
            "padding": null,
            "right": null,
            "top": null,
            "visibility": null,
            "width": null
          }
        },
        "37c2c87213ad444e9ed1cd028b2ac8e8": {
          "model_module": "@jupyter-widgets/base",
          "model_name": "LayoutModel",
          "model_module_version": "1.2.0",
          "state": {
            "_model_module": "@jupyter-widgets/base",
            "_model_module_version": "1.2.0",
            "_model_name": "LayoutModel",
            "_view_count": null,
            "_view_module": "@jupyter-widgets/base",
            "_view_module_version": "1.2.0",
            "_view_name": "LayoutView",
            "align_content": null,
            "align_items": null,
            "align_self": null,
            "border": null,
            "bottom": null,
            "display": null,
            "flex": null,
            "flex_flow": null,
            "grid_area": null,
            "grid_auto_columns": null,
            "grid_auto_flow": null,
            "grid_auto_rows": null,
            "grid_column": null,
            "grid_gap": null,
            "grid_row": null,
            "grid_template_areas": null,
            "grid_template_columns": null,
            "grid_template_rows": null,
            "height": null,
            "justify_content": null,
            "justify_items": null,
            "left": null,
            "margin": null,
            "max_height": null,
            "max_width": null,
            "min_height": null,
            "min_width": null,
            "object_fit": null,
            "object_position": null,
            "order": null,
            "overflow": null,
            "overflow_x": null,
            "overflow_y": null,
            "padding": null,
            "right": null,
            "top": null,
            "visibility": null,
            "width": null
          }
        },
        "78c20419a9fd4907b19850be4cee0283": {
          "model_module": "@jupyter-widgets/controls",
          "model_name": "DescriptionStyleModel",
          "model_module_version": "1.5.0",
          "state": {
            "_model_module": "@jupyter-widgets/controls",
            "_model_module_version": "1.5.0",
            "_model_name": "DescriptionStyleModel",
            "_view_count": null,
            "_view_module": "@jupyter-widgets/base",
            "_view_module_version": "1.2.0",
            "_view_name": "StyleView",
            "description_width": ""
          }
        },
        "2ae76604df4142a7b35702cf6acdd1c7": {
          "model_module": "@jupyter-widgets/base",
          "model_name": "LayoutModel",
          "model_module_version": "1.2.0",
          "state": {
            "_model_module": "@jupyter-widgets/base",
            "_model_module_version": "1.2.0",
            "_model_name": "LayoutModel",
            "_view_count": null,
            "_view_module": "@jupyter-widgets/base",
            "_view_module_version": "1.2.0",
            "_view_name": "LayoutView",
            "align_content": null,
            "align_items": null,
            "align_self": null,
            "border": null,
            "bottom": null,
            "display": null,
            "flex": null,
            "flex_flow": null,
            "grid_area": null,
            "grid_auto_columns": null,
            "grid_auto_flow": null,
            "grid_auto_rows": null,
            "grid_column": null,
            "grid_gap": null,
            "grid_row": null,
            "grid_template_areas": null,
            "grid_template_columns": null,
            "grid_template_rows": null,
            "height": null,
            "justify_content": null,
            "justify_items": null,
            "left": null,
            "margin": null,
            "max_height": null,
            "max_width": null,
            "min_height": null,
            "min_width": null,
            "object_fit": null,
            "object_position": null,
            "order": null,
            "overflow": null,
            "overflow_x": null,
            "overflow_y": null,
            "padding": null,
            "right": null,
            "top": null,
            "visibility": null,
            "width": null
          }
        },
        "b6a78221d90c4600b10bef9dd77ab7fc": {
          "model_module": "@jupyter-widgets/controls",
          "model_name": "ProgressStyleModel",
          "model_module_version": "1.5.0",
          "state": {
            "_model_module": "@jupyter-widgets/controls",
            "_model_module_version": "1.5.0",
            "_model_name": "ProgressStyleModel",
            "_view_count": null,
            "_view_module": "@jupyter-widgets/base",
            "_view_module_version": "1.2.0",
            "_view_name": "StyleView",
            "bar_color": null,
            "description_width": ""
          }
        },
        "a4a367cabf8544ee88fb2035593e9a2a": {
          "model_module": "@jupyter-widgets/controls",
          "model_name": "VBoxModel",
          "model_module_version": "1.5.0",
          "state": {
            "_dom_classes": [],
            "_model_module": "@jupyter-widgets/controls",
            "_model_module_version": "1.5.0",
            "_model_name": "VBoxModel",
            "_view_count": null,
            "_view_module": "@jupyter-widgets/controls",
            "_view_module_version": "1.5.0",
            "_view_name": "VBoxView",
            "box_style": "",
            "children": [
              "IPY_MODEL_07b491a3faca4156b10146ef62761c72",
              "IPY_MODEL_3f9e43a5a6114dbcb547fdd20bc4d04b"
            ],
            "layout": "IPY_MODEL_52fc5ece86de4b81a3b87eba5ac872fb"
          }
        },
        "07b491a3faca4156b10146ef62761c72": {
          "model_module": "@jupyter-widgets/controls",
          "model_name": "LabelModel",
          "model_module_version": "1.5.0",
          "state": {
            "_dom_classes": [],
            "_model_module": "@jupyter-widgets/controls",
            "_model_module_version": "1.5.0",
            "_model_name": "LabelModel",
            "_view_count": null,
            "_view_module": "@jupyter-widgets/controls",
            "_view_module_version": "1.5.0",
            "_view_name": "LabelView",
            "description": "",
            "description_tooltip": null,
            "layout": "IPY_MODEL_513858f6c0624f78a7576dd7940eb6dc",
            "placeholder": "​",
            "style": "IPY_MODEL_49f26f5d52e84febbcd0351009a04333",
            "value": "0.013 MB of 0.013 MB uploaded\r"
          }
        },
        "3f9e43a5a6114dbcb547fdd20bc4d04b": {
          "model_module": "@jupyter-widgets/controls",
          "model_name": "FloatProgressModel",
          "model_module_version": "1.5.0",
          "state": {
            "_dom_classes": [],
            "_model_module": "@jupyter-widgets/controls",
            "_model_module_version": "1.5.0",
            "_model_name": "FloatProgressModel",
            "_view_count": null,
            "_view_module": "@jupyter-widgets/controls",
            "_view_module_version": "1.5.0",
            "_view_name": "ProgressView",
            "bar_style": "",
            "description": "",
            "description_tooltip": null,
            "layout": "IPY_MODEL_517952657ab74962b8122fe97ce63dfe",
            "max": 1,
            "min": 0,
            "orientation": "horizontal",
            "style": "IPY_MODEL_ae721439ac624435b31f97a0d823f552",
            "value": 1
          }
        },
        "52fc5ece86de4b81a3b87eba5ac872fb": {
          "model_module": "@jupyter-widgets/base",
          "model_name": "LayoutModel",
          "model_module_version": "1.2.0",
          "state": {
            "_model_module": "@jupyter-widgets/base",
            "_model_module_version": "1.2.0",
            "_model_name": "LayoutModel",
            "_view_count": null,
            "_view_module": "@jupyter-widgets/base",
            "_view_module_version": "1.2.0",
            "_view_name": "LayoutView",
            "align_content": null,
            "align_items": null,
            "align_self": null,
            "border": null,
            "bottom": null,
            "display": null,
            "flex": null,
            "flex_flow": null,
            "grid_area": null,
            "grid_auto_columns": null,
            "grid_auto_flow": null,
            "grid_auto_rows": null,
            "grid_column": null,
            "grid_gap": null,
            "grid_row": null,
            "grid_template_areas": null,
            "grid_template_columns": null,
            "grid_template_rows": null,
            "height": null,
            "justify_content": null,
            "justify_items": null,
            "left": null,
            "margin": null,
            "max_height": null,
            "max_width": null,
            "min_height": null,
            "min_width": null,
            "object_fit": null,
            "object_position": null,
            "order": null,
            "overflow": null,
            "overflow_x": null,
            "overflow_y": null,
            "padding": null,
            "right": null,
            "top": null,
            "visibility": null,
            "width": null
          }
        },
        "513858f6c0624f78a7576dd7940eb6dc": {
          "model_module": "@jupyter-widgets/base",
          "model_name": "LayoutModel",
          "model_module_version": "1.2.0",
          "state": {
            "_model_module": "@jupyter-widgets/base",
            "_model_module_version": "1.2.0",
            "_model_name": "LayoutModel",
            "_view_count": null,
            "_view_module": "@jupyter-widgets/base",
            "_view_module_version": "1.2.0",
            "_view_name": "LayoutView",
            "align_content": null,
            "align_items": null,
            "align_self": null,
            "border": null,
            "bottom": null,
            "display": null,
            "flex": null,
            "flex_flow": null,
            "grid_area": null,
            "grid_auto_columns": null,
            "grid_auto_flow": null,
            "grid_auto_rows": null,
            "grid_column": null,
            "grid_gap": null,
            "grid_row": null,
            "grid_template_areas": null,
            "grid_template_columns": null,
            "grid_template_rows": null,
            "height": null,
            "justify_content": null,
            "justify_items": null,
            "left": null,
            "margin": null,
            "max_height": null,
            "max_width": null,
            "min_height": null,
            "min_width": null,
            "object_fit": null,
            "object_position": null,
            "order": null,
            "overflow": null,
            "overflow_x": null,
            "overflow_y": null,
            "padding": null,
            "right": null,
            "top": null,
            "visibility": null,
            "width": null
          }
        },
        "49f26f5d52e84febbcd0351009a04333": {
          "model_module": "@jupyter-widgets/controls",
          "model_name": "DescriptionStyleModel",
          "model_module_version": "1.5.0",
          "state": {
            "_model_module": "@jupyter-widgets/controls",
            "_model_module_version": "1.5.0",
            "_model_name": "DescriptionStyleModel",
            "_view_count": null,
            "_view_module": "@jupyter-widgets/base",
            "_view_module_version": "1.2.0",
            "_view_name": "StyleView",
            "description_width": ""
          }
        },
        "517952657ab74962b8122fe97ce63dfe": {
          "model_module": "@jupyter-widgets/base",
          "model_name": "LayoutModel",
          "model_module_version": "1.2.0",
          "state": {
            "_model_module": "@jupyter-widgets/base",
            "_model_module_version": "1.2.0",
            "_model_name": "LayoutModel",
            "_view_count": null,
            "_view_module": "@jupyter-widgets/base",
            "_view_module_version": "1.2.0",
            "_view_name": "LayoutView",
            "align_content": null,
            "align_items": null,
            "align_self": null,
            "border": null,
            "bottom": null,
            "display": null,
            "flex": null,
            "flex_flow": null,
            "grid_area": null,
            "grid_auto_columns": null,
            "grid_auto_flow": null,
            "grid_auto_rows": null,
            "grid_column": null,
            "grid_gap": null,
            "grid_row": null,
            "grid_template_areas": null,
            "grid_template_columns": null,
            "grid_template_rows": null,
            "height": null,
            "justify_content": null,
            "justify_items": null,
            "left": null,
            "margin": null,
            "max_height": null,
            "max_width": null,
            "min_height": null,
            "min_width": null,
            "object_fit": null,
            "object_position": null,
            "order": null,
            "overflow": null,
            "overflow_x": null,
            "overflow_y": null,
            "padding": null,
            "right": null,
            "top": null,
            "visibility": null,
            "width": null
          }
        },
        "ae721439ac624435b31f97a0d823f552": {
          "model_module": "@jupyter-widgets/controls",
          "model_name": "ProgressStyleModel",
          "model_module_version": "1.5.0",
          "state": {
            "_model_module": "@jupyter-widgets/controls",
            "_model_module_version": "1.5.0",
            "_model_name": "ProgressStyleModel",
            "_view_count": null,
            "_view_module": "@jupyter-widgets/base",
            "_view_module_version": "1.2.0",
            "_view_name": "StyleView",
            "bar_color": null,
            "description_width": ""
          }
        }
      }
    }
  },
  "nbformat": 4,
  "nbformat_minor": 0
}