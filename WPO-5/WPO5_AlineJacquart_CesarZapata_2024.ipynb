{
  "cells": [
    {
      "cell_type": "markdown",
      "metadata": {
        "id": "EqqZChSMw_tW"
      },
      "source": [
        "# Health Information Systems and Decision Support Systems\n",
        "# WPO 5: - CAD Systems (15/03/2024)\n",
        "***\n",
        "*Panagiotis Gonidakis, Jakub Ceranka, Joris Wuts, Jef Vandemeulebrouke*<br>\n",
        "*Department of Electronics and Informatics (ETRO)*<br>\n",
        "*Vrije Universiteit Brussel, Pleinlaan 2, B-1050 Brussels, Belgium*"
      ]
    },
    {
      "cell_type": "markdown",
      "metadata": {
        "id": "QoznCU3xw_te"
      },
      "source": [
        "<font color=blue>Aline Jacquart - 0567936 <br>\n",
        "                 César Zapata - 0596811</font>"
      ]
    },
    {
      "cell_type": "markdown",
      "metadata": {
        "id": "4HQWrOqFw_tf"
      },
      "source": [
        "### Goal\n",
        "The goal of this practical session is to get an insight into artificial neural networks, more specifically multi-layer perceptrons (MLP) and convolutional neural networks (CNN). Your tasks will involve:\n",
        "- examining and pre-processing the real life lung nodule CT data\n",
        "- training various neural networks with increasing complexity to classify if there is a lung nodule on the CT image\n",
        "- validating the performance of your system against the manual ground-truth predictions prepared by an experienced radiologist.\n",
        "- visualizing training graphs and analysing information about model performance\n",
        "\n",
        "Students must send their notebook (and `wandb` generated report for all models in `pdf`) using the Assignment functionaly of Canvas before <b> 21/03/2024, 23:59 pm. </b>, in `.ipynb` and `.html` format. The grade from this practical session will contribute to your final grade.\n",
        "\n",
        "Questions: [jceranka@etrovub.be](mailto:jceranka@etrovub.be), [jwuts@etrovub.be](mailto:jwuts@etrovub.be)"
      ]
    },
    {
      "cell_type": "markdown",
      "metadata": {
        "id": "dxhWsPacw_th"
      },
      "source": [
        "# Libraries\n",
        "During this practical session, the following libraries will be used:\n",
        "\n",
        "* Numpy (np)\n",
        "* Glob\n",
        "* Simple ITK (sitk)\n",
        "* Matplotlib\n",
        "* Sklearn\n",
        "* Tensorflow (tf)\n",
        "* Keras (you can also use pytorch if you are more familiar)\n",
        "* wandb\n",
        "\n",
        "To import any external library, you need to import it using the **import** statement followed by the name of the library and the shortcut. You can additionally check for the module version using **version** command.\n",
        "\n",
        "* If you use your own laptop, you will need to install new modules.\n",
        "\n",
        "* These expirements are simplified in order to be run without the need of a powerful GPU. However some training tasks may take 30-40 minutes using a CPU. You can accelerate your expirements if you work on [Google colab](https://colab.research.google.com/) framework where a GPU is offered. Then you need to create a GoogleDrive account and upload all the necessary data (scripts + data).\n",
        "For more information look [here](https://colab.research.google.com/) and [here](https://colab.research.google.com/notebooks/gpu.ipynb)."
      ]
    },
    {
      "cell_type": "markdown",
      "metadata": {
        "id": "PwCkQBzTw_ti"
      },
      "source": [
        "### Tensorflow and Keras\n",
        "\n",
        "TensorFlow (https://www.tensorflow.org/) is an end-to-end open-source platform for machine learning. It’s a comprehensive and flexible ecosystem of tools, libraries and other resources that provide workflows with high-level APIs. The framework offers various levels of concepts for you to choose the one you need to build and deploy machine learning models.\n",
        "\n",
        "Keras (https://keras.io/), on the other hand, is a high-level neural networks library that is running on the top of TensorFlow. Using Keras in deep learning allows for easy and fast prototyping as well as running seamlessly on CPU and GPU. This framework is written in Python code which is easy to debug and allows ease for extensibility. Keras offers simple and consistent high-level APIs and follows best practices to reduce the cognitive load for the users. Both frameworks provide high-level APIs for building and training models with ease. Keras is built in Python which makes it way more user-friendly than TensorFlow.\n",
        "\n",
        "In this exercise, <b>we recommend to use Keras</b> which allows to create/train/test neural networks with very few lines of understandable code.\n",
        "\n",
        "Keras requires Tensorflow to be installed. Normally, the new versions of Keras installs it automatically.\n",
        "\n",
        "To install Keras, open the anaconda prompt and then type:\n",
        " ```pip install keras```\n",
        "    \n",
        "If not done automatically:\n",
        " ```pip install tensorflow``` and after ```pip install keras```\n",
        "\n",
        "To start using visualization platform Weights-And-Biases go to (https://wandb.ai/) and create an account. Locally do: ```pip install wandb```\n",
        "\n",
        "\n",
        "Here are some useful resources (installation + documentation):\n",
        "\n",
        "* https://phoenixnap.com/kb/how-to-install-keras-on-linux <p>\n",
        "* https://www.tensorflow.org/install <p>\n",
        "* https://keras.io/getting_started/ <p>\n",
        "* https://keras.io/api/models/ <p>\n",
        "* https://keras.io/api/models/sequential/ <p>\n",
        "* https://docs.wandb.ai/quickstart <p>\n",
        "    \n",
        "(*) For the purpose of this exercise, you don't need to use a GPU; tensorflow and keras can be configured to run on a CPU and the most demanding training tasks should not take more than 30 min. On the other hand, [colab](https://colab.research.google.com/) offers GPU development environment and the training tasks can really be accelerated.\n",
        "\n",
        "(*) Make sure you are using tensorflow 2. It is advised to verify which version it is being used before looking for any documentation as the APIs differ."
      ]
    },
    {
      "cell_type": "markdown",
      "metadata": {
        "id": "nKB_7Lagw_tk"
      },
      "source": [
        "# Lung Nodule Analysis\n",
        "Lung cancer is the leading cause of cancer-related deaths worldwide. Screening high risk individuals for lung cancer with low-dose CT scans is now being implemented in the United States and other countries are expected to follow soon. In CT lung cancer screening, millions of CT scans will have to be analyzed, which is an enormous burden for radiologists. Therefore, there is a lot of interest in development of computer algorithms to optimize cancer screening.\n",
        "\n",
        "<img src=\"images/luna16_image.png\">\n",
        "\n",
        "A vital first step in the analysis of lung cancer CT scans is the detection of pulmonary nodules, which may or may not represent early stage lung cancer. Many computer-aided detection (CAD) systems have already been proposed for this task.\n",
        "\n",
        "The LIDC/IDRI data set is publicly available, including the ground-truth annotations of nodules performed by four radiologists.\n",
        "\n",
        "This practical session is inspired from the challenge [LUNA16](https://luna16.grand-challenge.org/home/), which focused on a large-scale evaluation of automatic nodule detection algorithms on the LIDC/IDRI data set.\n",
        "\n",
        "<img src=\"images/lung_cancer1.png\">\n",
        "\n",
        "\n",
        "### Using LIDC/IDRI data set in this practical session\n",
        "\n",
        "For the needs of this practical session, we will look for an algorithm that only determines the likelihood for a given location in a CT scan to contain a pulmonary nodule. Furthermore, we have included a very small part of the LIDC/IDRI data set and we will use only a slice of suspicious regions of a CT scan.\n",
        "\n",
        "### Data augmentation\n",
        "\n",
        "Originally our dataset was very unbalanced. There were a lot samples of non-nodules (negatives) but very few samples of nodules (positives). Machine learning algorithms and specifically neural networks and convolutional neural networks require to be trained on balanced dataset, meaning all the classes should be equally represented in the training set.\n",
        "\n",
        "Using data augmentation methods (**rotation and translation**), positive samples were massively augmented in order to balance the two classes (nodules and non-nodules)\n",
        "\n",
        "### Ground Truth data\n",
        "\n",
        "Categorical data are variables that contain label values rather than numeric values. In our dataset, a sample can represent a nodule or a non-nodule area, so initially we have our ground truth data in a categorical form. Many machine learning algorithms cannot operate on label data directly. They require all input variables to be numeric. This means that categorical data must be converted to a numerical form. This involves two steps:\n",
        "1. Integer Encoding\n",
        "2. One-Hot Encoding.\n",
        "\n",
        "As a first step, each unique category value is assigned an integer value. That's why in our dataset, a sample which represents a nodule will have as a label `1` and a sample which represents a non-nodule area will have as a label `0`.\n",
        "\n",
        "For our case, this enconding step would be enough since we have only two categories. However, in a more general problem with more than two classes, using this encoding allows the model to assume a natural ordering between categories which may result in poor performance or unexpected results. That's why, one hot encoding can be appled to the integer representation. This is where the integer encoded variable is removed and a new binary variable is added for each unique integer value.\n",
        "\n",
        "Therefore, a  nodule will be represented by the binary variable `[1,0]` and a non-nodule area by the binary variable `[0,1]`.\n",
        "\n",
        "<img src=\"images/lung_cancer2.png\">\n"
      ]
    },
    {
      "cell_type": "markdown",
      "metadata": {
        "id": "kft0iSz8w_tm"
      },
      "source": [
        "# Part 1: Visualize, load and prepare data for Machine Learning Algorithms\n",
        "\n",
        "CT images are stored in MetaImage (`mhd/raw`) format. Each .mhd file is stored with as a header file (`.mhd`) and a corresponding pixeldata file (`.raw`). To load a CT image, just **load the `.mhd` header file** and data from the binary .raw file will be automatically loaded.\n",
        "\n",
        "If you look carefully at the name of each .mhd file, you can extract useful information for a specific sample. You can identify its **number id**, its **size**, if the image was produced by a **data augmentation** method and if it contains a **nodule or not**.\n",
        "\n",
        "For example: *20046_x0y0z0_20x20x6_r0_1.mhd*\n",
        "* **20046**:   number of candidate patch\n",
        "* **x0y0z0**: no translation in any axis (if augmentation is used it is mentioned by the angle in the corresponding axis)\n",
        "* **20x20x6**: size of the image in voxels\n",
        "* **r0**:     no rotation\n",
        "* **1**:      it is a positive sample - represents a nodule\n",
        "* **.mhd**:   it is a mhd file (this is the file which can be loaded)"
      ]
    },
    {
      "cell_type": "markdown",
      "metadata": {
        "id": "iH-yaFFcw_tn"
      },
      "source": [
        "### Task 1: Import necessary libraries\n",
        "\n",
        "Load all necessary libraries using the **import** statement and check for errors."
      ]
    },
    {
      "cell_type": "code",
      "execution_count": null,
      "metadata": {
        "colab": {
          "background_save": true
        },
        "id": "aWoTLjKtyfpG",
        "outputId": "f4c18a9e-072d-4739-b4cd-5512c76bc803"
      },
      "outputs": [
        {
          "ename": "MessageError",
          "evalue": "Error: credential propagation was unsuccessful",
          "output_type": "error",
          "traceback": [
            "\u001b[0;31m---------------------------------------------------------------------------\u001b[0m",
            "\u001b[0;31mMessageError\u001b[0m                              Traceback (most recent call last)",
            "\u001b[0;32m<ipython-input-2-d5df0069828e>\u001b[0m in \u001b[0;36m<cell line: 2>\u001b[0;34m()\u001b[0m\n\u001b[1;32m      1\u001b[0m \u001b[0;32mfrom\u001b[0m \u001b[0mgoogle\u001b[0m\u001b[0;34m.\u001b[0m\u001b[0mcolab\u001b[0m \u001b[0;32mimport\u001b[0m \u001b[0mdrive\u001b[0m\u001b[0;34m\u001b[0m\u001b[0;34m\u001b[0m\u001b[0m\n\u001b[0;32m----> 2\u001b[0;31m \u001b[0mdrive\u001b[0m\u001b[0;34m.\u001b[0m\u001b[0mmount\u001b[0m\u001b[0;34m(\u001b[0m\u001b[0;34m'/content/drive'\u001b[0m\u001b[0;34m)\u001b[0m\u001b[0;34m\u001b[0m\u001b[0;34m\u001b[0m\u001b[0m\n\u001b[0m",
            "\u001b[0;32m/usr/local/lib/python3.10/dist-packages/google/colab/drive.py\u001b[0m in \u001b[0;36mmount\u001b[0;34m(mountpoint, force_remount, timeout_ms, readonly)\u001b[0m\n\u001b[1;32m     98\u001b[0m \u001b[0;32mdef\u001b[0m \u001b[0mmount\u001b[0m\u001b[0;34m(\u001b[0m\u001b[0mmountpoint\u001b[0m\u001b[0;34m,\u001b[0m \u001b[0mforce_remount\u001b[0m\u001b[0;34m=\u001b[0m\u001b[0;32mFalse\u001b[0m\u001b[0;34m,\u001b[0m \u001b[0mtimeout_ms\u001b[0m\u001b[0;34m=\u001b[0m\u001b[0;36m120000\u001b[0m\u001b[0;34m,\u001b[0m \u001b[0mreadonly\u001b[0m\u001b[0;34m=\u001b[0m\u001b[0;32mFalse\u001b[0m\u001b[0;34m)\u001b[0m\u001b[0;34m:\u001b[0m\u001b[0;34m\u001b[0m\u001b[0;34m\u001b[0m\u001b[0m\n\u001b[1;32m     99\u001b[0m   \u001b[0;34m\"\"\"Mount your Google Drive at the specified mountpoint path.\"\"\"\u001b[0m\u001b[0;34m\u001b[0m\u001b[0;34m\u001b[0m\u001b[0m\n\u001b[0;32m--> 100\u001b[0;31m   return _mount(\n\u001b[0m\u001b[1;32m    101\u001b[0m       \u001b[0mmountpoint\u001b[0m\u001b[0;34m,\u001b[0m\u001b[0;34m\u001b[0m\u001b[0;34m\u001b[0m\u001b[0m\n\u001b[1;32m    102\u001b[0m       \u001b[0mforce_remount\u001b[0m\u001b[0;34m=\u001b[0m\u001b[0mforce_remount\u001b[0m\u001b[0;34m,\u001b[0m\u001b[0;34m\u001b[0m\u001b[0;34m\u001b[0m\u001b[0m\n",
            "\u001b[0;32m/usr/local/lib/python3.10/dist-packages/google/colab/drive.py\u001b[0m in \u001b[0;36m_mount\u001b[0;34m(mountpoint, force_remount, timeout_ms, ephemeral, readonly)\u001b[0m\n\u001b[1;32m    131\u001b[0m   )\n\u001b[1;32m    132\u001b[0m   \u001b[0;32mif\u001b[0m \u001b[0mephemeral\u001b[0m\u001b[0;34m:\u001b[0m\u001b[0;34m\u001b[0m\u001b[0;34m\u001b[0m\u001b[0m\n\u001b[0;32m--> 133\u001b[0;31m     _message.blocking_request(\n\u001b[0m\u001b[1;32m    134\u001b[0m         \u001b[0;34m'request_auth'\u001b[0m\u001b[0;34m,\u001b[0m \u001b[0mrequest\u001b[0m\u001b[0;34m=\u001b[0m\u001b[0;34m{\u001b[0m\u001b[0;34m'authType'\u001b[0m\u001b[0;34m:\u001b[0m \u001b[0;34m'dfs_ephemeral'\u001b[0m\u001b[0;34m}\u001b[0m\u001b[0;34m,\u001b[0m \u001b[0mtimeout_sec\u001b[0m\u001b[0;34m=\u001b[0m\u001b[0;32mNone\u001b[0m\u001b[0;34m\u001b[0m\u001b[0;34m\u001b[0m\u001b[0m\n\u001b[1;32m    135\u001b[0m     )\n",
            "\u001b[0;32m/usr/local/lib/python3.10/dist-packages/google/colab/_message.py\u001b[0m in \u001b[0;36mblocking_request\u001b[0;34m(request_type, request, timeout_sec, parent)\u001b[0m\n\u001b[1;32m    174\u001b[0m       \u001b[0mrequest_type\u001b[0m\u001b[0;34m,\u001b[0m \u001b[0mrequest\u001b[0m\u001b[0;34m,\u001b[0m \u001b[0mparent\u001b[0m\u001b[0;34m=\u001b[0m\u001b[0mparent\u001b[0m\u001b[0;34m,\u001b[0m \u001b[0mexpect_reply\u001b[0m\u001b[0;34m=\u001b[0m\u001b[0;32mTrue\u001b[0m\u001b[0;34m\u001b[0m\u001b[0;34m\u001b[0m\u001b[0m\n\u001b[1;32m    175\u001b[0m   )\n\u001b[0;32m--> 176\u001b[0;31m   \u001b[0;32mreturn\u001b[0m \u001b[0mread_reply_from_input\u001b[0m\u001b[0;34m(\u001b[0m\u001b[0mrequest_id\u001b[0m\u001b[0;34m,\u001b[0m \u001b[0mtimeout_sec\u001b[0m\u001b[0;34m)\u001b[0m\u001b[0;34m\u001b[0m\u001b[0;34m\u001b[0m\u001b[0m\n\u001b[0m",
            "\u001b[0;32m/usr/local/lib/python3.10/dist-packages/google/colab/_message.py\u001b[0m in \u001b[0;36mread_reply_from_input\u001b[0;34m(message_id, timeout_sec)\u001b[0m\n\u001b[1;32m    101\u001b[0m     ):\n\u001b[1;32m    102\u001b[0m       \u001b[0;32mif\u001b[0m \u001b[0;34m'error'\u001b[0m \u001b[0;32min\u001b[0m \u001b[0mreply\u001b[0m\u001b[0;34m:\u001b[0m\u001b[0;34m\u001b[0m\u001b[0;34m\u001b[0m\u001b[0m\n\u001b[0;32m--> 103\u001b[0;31m         \u001b[0;32mraise\u001b[0m \u001b[0mMessageError\u001b[0m\u001b[0;34m(\u001b[0m\u001b[0mreply\u001b[0m\u001b[0;34m[\u001b[0m\u001b[0;34m'error'\u001b[0m\u001b[0;34m]\u001b[0m\u001b[0;34m)\u001b[0m\u001b[0;34m\u001b[0m\u001b[0;34m\u001b[0m\u001b[0m\n\u001b[0m\u001b[1;32m    104\u001b[0m       \u001b[0;32mreturn\u001b[0m \u001b[0mreply\u001b[0m\u001b[0;34m.\u001b[0m\u001b[0mget\u001b[0m\u001b[0;34m(\u001b[0m\u001b[0;34m'data'\u001b[0m\u001b[0;34m,\u001b[0m \u001b[0;32mNone\u001b[0m\u001b[0;34m)\u001b[0m\u001b[0;34m\u001b[0m\u001b[0;34m\u001b[0m\u001b[0m\n\u001b[1;32m    105\u001b[0m \u001b[0;34m\u001b[0m\u001b[0m\n",
            "\u001b[0;31mMessageError\u001b[0m: Error: credential propagation was unsuccessful"
          ]
        }
      ],
      "source": [
        "from google.colab import drive\n",
        "drive.mount('/content/drive')"
      ]
    },
    {
      "cell_type": "code",
      "execution_count": null,
      "metadata": {
        "colab": {
          "base_uri": "https://localhost:8080/"
        },
        "id": "QfazfgCPACPA",
        "outputId": "d454d1c0-c255-46a0-80b7-e255e46d9c43"
      },
      "outputs": [
        {
          "name": "stdout",
          "output_type": "stream",
          "text": [
            "Collecting SimpleITK\n",
            "  Downloading SimpleITK-2.3.1-cp310-cp310-manylinux_2_17_x86_64.manylinux2014_x86_64.whl (52.7 MB)\n",
            "\u001b[2K     \u001b[90m━━━━━━━━━━━━━━━━━━━━━━━━━━━━━━━━━━━━━━━━\u001b[0m \u001b[32m52.7/52.7 MB\u001b[0m \u001b[31m12.2 MB/s\u001b[0m eta \u001b[36m0:00:00\u001b[0m\n",
            "\u001b[?25hInstalling collected packages: SimpleITK\n",
            "Successfully installed SimpleITK-2.3.1\n",
            "Collecting wandb\n",
            "  Downloading wandb-0.16.4-py3-none-any.whl (2.2 MB)\n",
            "\u001b[2K     \u001b[90m━━━━━━━━━━━━━━━━━━━━━━━━━━━━━━━━━━━━━━━━\u001b[0m \u001b[32m2.2/2.2 MB\u001b[0m \u001b[31m12.3 MB/s\u001b[0m eta \u001b[36m0:00:00\u001b[0m\n",
            "\u001b[?25hRequirement already satisfied: Click!=8.0.0,>=7.1 in /usr/local/lib/python3.10/dist-packages (from wandb) (8.1.7)\n",
            "Collecting GitPython!=3.1.29,>=1.0.0 (from wandb)\n",
            "  Downloading GitPython-3.1.42-py3-none-any.whl (195 kB)\n",
            "\u001b[2K     \u001b[90m━━━━━━━━━━━━━━━━━━━━━━━━━━━━━━━━━━━━━━━━\u001b[0m \u001b[32m195.4/195.4 kB\u001b[0m \u001b[31m15.5 MB/s\u001b[0m eta \u001b[36m0:00:00\u001b[0m\n",
            "\u001b[?25hRequirement already satisfied: requests<3,>=2.0.0 in /usr/local/lib/python3.10/dist-packages (from wandb) (2.31.0)\n",
            "Requirement already satisfied: psutil>=5.0.0 in /usr/local/lib/python3.10/dist-packages (from wandb) (5.9.5)\n",
            "Collecting sentry-sdk>=1.0.0 (from wandb)\n",
            "  Downloading sentry_sdk-1.43.0-py2.py3-none-any.whl (264 kB)\n",
            "\u001b[2K     \u001b[90m━━━━━━━━━━━━━━━━━━━━━━━━━━━━━━━━━━━━━━━━\u001b[0m \u001b[32m264.6/264.6 kB\u001b[0m \u001b[31m19.8 MB/s\u001b[0m eta \u001b[36m0:00:00\u001b[0m\n",
            "\u001b[?25hCollecting docker-pycreds>=0.4.0 (from wandb)\n",
            "  Downloading docker_pycreds-0.4.0-py2.py3-none-any.whl (9.0 kB)\n",
            "Requirement already satisfied: PyYAML in /usr/local/lib/python3.10/dist-packages (from wandb) (6.0.1)\n",
            "Collecting setproctitle (from wandb)\n",
            "  Downloading setproctitle-1.3.3-cp310-cp310-manylinux_2_5_x86_64.manylinux1_x86_64.manylinux_2_17_x86_64.manylinux2014_x86_64.whl (30 kB)\n",
            "Requirement already satisfied: setuptools in /usr/local/lib/python3.10/dist-packages (from wandb) (67.7.2)\n",
            "Requirement already satisfied: appdirs>=1.4.3 in /usr/local/lib/python3.10/dist-packages (from wandb) (1.4.4)\n",
            "Requirement already satisfied: protobuf!=4.21.0,<5,>=3.19.0 in /usr/local/lib/python3.10/dist-packages (from wandb) (3.20.3)\n",
            "Requirement already satisfied: six>=1.4.0 in /usr/local/lib/python3.10/dist-packages (from docker-pycreds>=0.4.0->wandb) (1.16.0)\n",
            "Collecting gitdb<5,>=4.0.1 (from GitPython!=3.1.29,>=1.0.0->wandb)\n",
            "  Downloading gitdb-4.0.11-py3-none-any.whl (62 kB)\n",
            "\u001b[2K     \u001b[90m━━━━━━━━━━━━━━━━━━━━━━━━━━━━━━━━━━━━━━━━\u001b[0m \u001b[32m62.7/62.7 kB\u001b[0m \u001b[31m7.1 MB/s\u001b[0m eta \u001b[36m0:00:00\u001b[0m\n",
            "\u001b[?25hRequirement already satisfied: charset-normalizer<4,>=2 in /usr/local/lib/python3.10/dist-packages (from requests<3,>=2.0.0->wandb) (3.3.2)\n",
            "Requirement already satisfied: idna<4,>=2.5 in /usr/local/lib/python3.10/dist-packages (from requests<3,>=2.0.0->wandb) (3.6)\n",
            "Requirement already satisfied: urllib3<3,>=1.21.1 in /usr/local/lib/python3.10/dist-packages (from requests<3,>=2.0.0->wandb) (2.0.7)\n",
            "Requirement already satisfied: certifi>=2017.4.17 in /usr/local/lib/python3.10/dist-packages (from requests<3,>=2.0.0->wandb) (2024.2.2)\n",
            "Collecting smmap<6,>=3.0.1 (from gitdb<5,>=4.0.1->GitPython!=3.1.29,>=1.0.0->wandb)\n",
            "  Downloading smmap-5.0.1-py3-none-any.whl (24 kB)\n",
            "Installing collected packages: smmap, setproctitle, sentry-sdk, docker-pycreds, gitdb, GitPython, wandb\n",
            "Successfully installed GitPython-3.1.42 docker-pycreds-0.4.0 gitdb-4.0.11 sentry-sdk-1.43.0 setproctitle-1.3.3 smmap-5.0.1 wandb-0.16.4\n"
          ]
        }
      ],
      "source": [
        "!pip install SimpleITK\n",
        "!pip install wandb"
      ]
    },
    {
      "cell_type": "code",
      "execution_count": null,
      "metadata": {
        "colab": {
          "base_uri": "https://localhost:8080/"
        },
        "collapsed": true,
        "id": "1LKweVwHw_to",
        "outputId": "25a86515-6526-4b4f-cabc-6dc3f902d7ea"
      },
      "outputs": [
        {
          "name": "stdout",
          "output_type": "stream",
          "text": [
            "\u001b[0m\u001b[01;34mdrive\u001b[0m/  \u001b[01;34msample_data\u001b[0m/\n"
          ]
        }
      ],
      "source": [
        "# Code for Part 1: Task 1\n",
        "import os\n",
        "import re\n",
        "import glob\n",
        "import keras\n",
        "import wandb\n",
        "import sklearn\n",
        "import numpy as np\n",
        "import pandas as pd\n",
        "import tensorflow as tf\n",
        "import SimpleITK as sitk\n",
        "from matplotlib import pyplot as plt\n",
        "from sklearn.model_selection import train_test_split\n",
        "\n",
        "%ls"
      ]
    },
    {
      "cell_type": "markdown",
      "metadata": {
        "id": "dihVp5kcw_tr"
      },
      "source": [
        "### Task 2: Inspect the dataset\n",
        "\n",
        "1. Using `SimpleITK`, create a function to load `.mhd` files (__Tip:__ The function should return a numpy array - `sitk.GetArrayFromImage( )`)\n",
        "2. Visualize the 6 slices of a chosen patch using `matplotlib` subplot figure and mention if it is a positive or a negative patch (Use colorscale `gray`)\n",
        "3. Visualize some augmented samples from the same candidate region using `matplotlib` subplot of the same patch and mention the augmentation method. Check visually if the observed patch was modified using the same augmentation method that is mentioned in the samples' filename.\n",
        "4. Count your files. How many positives and negatives there are in this dataset? (__Tip:__ Use `glob` library to get the number of specific files in your dataset)."
      ]
    },
    {
      "cell_type": "code",
      "execution_count": null,
      "metadata": {
        "colab": {
          "base_uri": "https://localhost:8080/",
          "height": 770
        },
        "collapsed": true,
        "id": "XNVQINzpw_ts",
        "outputId": "252a58b3-861a-41ff-d5c1-80ca5e05cefe"
      },
      "outputs": [
        {
          "data": {
            "image/png": "[encoded data removed]",
            "text/plain": [
              "<Figure size 800x800 with 6 Axes>"
            ]
          },
          "metadata": {},
          "output_type": "display_data"
        }
      ],
      "source": [
        "# Code for Part 1: Task 2\n",
        "# function to show the 6 different slices for a given image of the dataset\n",
        "def showImageSlices(image_name, path, dir):\n",
        "\n",
        "    image = sitk.ReadImage(f\"{path}/{dir}/{image_name}\") # loading image\n",
        "    img_to_read = sitk.GetArrayFromImage(image) # converting to array\n",
        "    arr_image = [] # empty array for slices\n",
        "\n",
        "    for i in range(6):\n",
        "      arr_image.append(img_to_read[i, :, :]) # appending slices to empty array\n",
        "\n",
        "    # plotting image slices\n",
        "    figs, axs = plt.subplots(3, 2, figsize=(8, 8))\n",
        "    figs.tight_layout(pad=3.0)\n",
        "\n",
        "    axs[0][0].imshow(arr_image[0], cmap='gray')\n",
        "    axs[0][0].set_title(f\"{image_name} | slice1\")\n",
        "\n",
        "    axs[0][1].imshow(arr_image[1], cmap='gray')\n",
        "    axs[0][1].set_title(f\"{image_name} | slice2\")\n",
        "\n",
        "    axs[1][0].imshow(arr_image[2], cmap='gray')\n",
        "    axs[1][0].set_title(f\"{image_name} | slice3\")\n",
        "\n",
        "    axs[1][1].imshow(arr_image[3], cmap='gray')\n",
        "    axs[1][1].set_title(f\"{image_name} | slice4\")\n",
        "\n",
        "    axs[2][0].imshow(arr_image[4], cmap='gray')\n",
        "    axs[2][0].set_title(f\"{image_name} | slice5\")\n",
        "\n",
        "    axs[2][1].imshow(arr_image[5], cmap='gray')\n",
        "    axs[2][1].set_title(f\"{image_name} | slice6\")\n",
        "\n",
        "    plt.show()\n",
        "\n",
        "\n",
        "# looking for the images in the patch: trying patch 20046_x-1y0z0_20x20x6_f0_1.mhd\n",
        "abs_path = \"drive/MyDrive/UGent/Health-info-and-support/WPO-5/\" # THIS CHANGES FOR EVERYONE, LOOK AT PERSONAL PATH\n",
        "# abs_path = \"drive/MyDrive/2Master/WPO-5/\"\n",
        "images_dir = 'MiniLunaDataset3'\n",
        "patch = '20046_x-1y0z0_20x20x6_f0_1.mhd'\n",
        "\n",
        "showImageSlices(patch, abs_path, images_dir)"
      ]
    },
    {
      "cell_type": "markdown",
      "metadata": {
        "id": "1Sj1GX-Pw_tt"
      },
      "source": [
        "### Task 3: Data pre-processing\n",
        "In order to use neural-networks, we need to pre-process the data and store it in a way which can be easily interpreted by keras.\n",
        "\n",
        "First of all, separate the test set from the train set. Keep 10% of your samples as a test-set. (**Tip:** Use `sklearn` `train_test_split` function.)\n",
        "\n",
        "Since 3D CNNs need a lot of computation power, we will convert our problem to 2D. Instead of using all the 6 CT slices, we will use only the 3rd CT slice. Therefore, from each sample, the 3rd slice wiil be extracted and further preprocessed. In addition, our values currently range from -1024 HU to around 2000 HU. Anything above 400 is not interesting to us, as these are simply bones with different radiodensity. A commonly used set of thresholds to normalize between is -1000 and 400. Finally the labels will be properly encoded to be used for training and testing.\n",
        "\n",
        "Write your pre-processing tasks as python functions (listed below) and in the end create a pipeline for each sample which will be also implemented as a function.\n",
        "1. Function loading the `.mhd` image as a numpy array.\n",
        "2. Function extracting the 3rd slice of a patch. The final form of patches should be a numpy array of size **20x20** pixels.\n",
        "3. Function normalizing the dataset.\n",
        "The unit of measurement in CT scans is the **Hounsfield Unit (HU)**, which is a measure of radiodensity. CT scanners are carefully calibrated to accurately measure this. From Wikipedia:\n",
        "<img src=\"images/HU_CTscannersCalibration.png\">\n",
        "\n",
        "    Create a function which is going to normalize the samples according to this table\n",
        "        * Create numpy arrays\n",
        "        * Normalize between [-1000, 400] using this normalization method\n",
        "    $npzarray = (npzarray - minHU) / (maxHU - minHU)$ <br>\n",
        "         where minHU = -1000 and maxHU = 400\n",
        "        * After this normalization set any values bigger than 1 to 1 and any values smaller than 0 to 0.\n",
        "\n",
        "4. Write an `If statement` encoding a label into a **1-hot** label as a ground-truth data in order to train the neural networks. (One-hot labels: `[0,1]` --> negative, `[1,0]` --> positive)\n",
        "\n",
        "5. Store into `.npy` data binary files. (__Tip:__ Use `np.save` to store data.)\n",
        "\n",
        "The pipeline should execute the functions as follows: <br>\n",
        "\n",
        "- Use `train_test_split` to divide the dataset into train and test subsets. Do that on patient level!\n",
        "- Create empty `np.arrays` filled with zeros to store patches and label data\n",
        "- Use for loop to iterate over all images in a train set:\n",
        "    - Load `.mhd` using `sitk`\n",
        "    - Normalize\n",
        "    - Extract 3rd slice\n",
        "    - Extract label as one-hot.\n",
        "    - Insert into empty array at correct index location\n",
        "- Save dataset.\n",
        "- Repeat for a test set.\n",
        "\n",
        "and return:\n",
        "* data:  [sample_idx,20,20]\n",
        "* labels: [sample_idx,2]\n",
        "\n",
        "Data pre-processing should be done for both: train and test set."
      ]
    },
    {
      "cell_type": "code",
      "execution_count": null,
      "metadata": {
        "colab": {
          "base_uri": "https://localhost:8080/"
        },
        "id": "hhsmnpy3w_tt",
        "outputId": "70dbd1e0-8243-4e9b-fdac-9099337cc4cb"
      },
      "outputs": [
        {
          "name": "stdout",
          "output_type": "stream",
          "text": [
            "number of images: 2325\n",
            "final shape of dataset: (2325, 20, 20)\n",
            "\n",
            "Created Y labels: (2325, 2)\n"
          ]
        }
      ],
      "source": [
        "# Code for Part 1: Task 3\n",
        "# 1. Function loading the .mhd image as a numpy array.\n",
        "def load_image(filename, path):\n",
        "  load_img = sitk.ReadImage(f\"{path}/{filename}\")\n",
        "  image = sitk.GetArrayFromImage(load_img)\n",
        "  return image\n",
        "\n",
        "# 2. Function extracting the 3rd slice of a patch. The final form of patches should be a numpy array of size 20x20 pixels.\n",
        "def extract_slice(image):\n",
        "  sliced_image = image[2, :, :] # selecting 3rd slice\n",
        "  return sliced_image\n",
        "\n",
        "# 3. Function normalizing the dataset.\n",
        "def normalize_dataset(data, minHU, maxHU):\n",
        "  minHU = np.int32(minHU) # changing dtype to be able to subtract from an array\n",
        "  maxHU = np.int32(maxHU)\n",
        "\n",
        "  normalized_data = []\n",
        "  for image in data:\n",
        "    normalized_image = (image - minHU) / (maxHU - minHU) # normalizing\n",
        "    capped_image = np.clip(normalized_image, 0., 1.) # anything < 0 = 0, anything > 1 = 1\n",
        "    normalized_data.append(capped_image)\n",
        "\n",
        "  return np.array(normalized_data)\n",
        "\n",
        "#abs_path = \"drive/MyDrive/UGent/Health-info-and-support/WPO-5\" # THIS CHANGES FOR EVERYONE, LOOK AT PERSONAL PATH\n",
        "abs_path = \"drive/MyDrive/2Master/WPO-5\"\n",
        "\n",
        "\n",
        "all_files = os.listdir(f\"{abs_path}/MiniLunaDataset3\")\n",
        "images_mhd = [x for x in all_files if x[-3:] == 'mhd'] # get only the .mhd files\n",
        "labels = [img_name.split('_')[-1][0] for img_name in images_mhd] # getting only the label of each file (positive=1, negative=0)\n",
        "Y = np.zeros(shape=(len(images_mhd), 2))\n",
        "\n",
        "print(f\"number of images: {len(images_mhd)}\")\n",
        "\n",
        "# preprocessing of the dataset\n",
        "images = [load_image(img, f\"{abs_path}/MiniLunaDataset3\") for img in images_mhd]\n",
        "sliced_imgs = [extract_slice(image_i) for image_i in images]\n",
        "normalized_imgs = normalize_dataset(sliced_imgs, -1000, 400)\n",
        "\n",
        "print(f\"final shape of dataset: {normalized_imgs.shape}\")\n",
        "\n",
        "# 4. Encoding a label into a 1-hot label as a ground-truth data in order to train the neural networks. (One-hot labels: [0,1] --> negative, [1,0] --> positive)\n",
        "# is it just giving [0, 1] to files with _0 as a suffix in the filename (no-nodule), and [1, 0] to files with _1 as a suffix in the filename (has a nodule)\n",
        "for i in range(len(labels)):\n",
        "  if int(labels[i]):\n",
        "    Y[i] = [1, 0]\n",
        "  else:\n",
        "    Y[i] = [0, 1]\n",
        "\n",
        "print(f\"\\nCreated Y labels: {Y.shape}\")\n",
        "\n",
        "# 5. Store into .npy data binary files. (Tip: Use np.save to store data.)\n",
        "np.save(f'{abs_path}/X_images', normalized_imgs)\n",
        "np.save(f'{abs_path}/Y_labels', Y)"
      ]
    },
    {
      "cell_type": "code",
      "execution_count": null,
      "metadata": {
        "colab": {
          "base_uri": "https://localhost:8080/"
        },
        "id": "PCPP4-aZRWm8",
        "outputId": "4c2d7769-f2f3-43f8-9b4c-7d1bde6aeb85"
      },
      "outputs": [
        {
          "name": "stdout",
          "output_type": "stream",
          "text": [
            "X_train: (2092, 20, 20)\n",
            "X_test: (233, 20, 20)\n",
            "Y_train: (2092, 2)\n",
            "Y_test: (233, 2)\n"
          ]
        }
      ],
      "source": [
        "X_images = np.load(f\"{abs_path}/X_images.npy\")\n",
        "Y_labels = np.load(f\"{abs_path}/Y_labels.npy\")\n",
        "X_train, X_test, Y_train, Y_test = train_test_split(X_images, Y_labels, test_size=0.1, random_state=0)\n",
        "\n",
        "print(f\"X_train: {X_train.shape}\\nX_test: {X_test.shape}\\nY_train: {Y_train.shape}\\nY_test: {Y_test.shape}\")"
      ]
    },
    {
      "cell_type": "markdown",
      "metadata": {
        "id": "soD08ptlw_tu"
      },
      "source": [
        "In case you are not able to complete Part 1, you can move to Part 2 of the session by loading the provided `.npy` files. In that case you will **not** get any credits for Part 1."
      ]
    },
    {
      "cell_type": "markdown",
      "metadata": {
        "id": "EC320UoMw_tu"
      },
      "source": [
        "# Part 2: Model training and validation"
      ]
    },
    {
      "cell_type": "markdown",
      "metadata": {
        "id": "hF_fpiLMw_tu"
      },
      "source": [
        "### Using Keras - A High Level API for Tensorflow\n",
        "\n",
        "Keras introduces a High-Level API that makes neural network building and training fast and easy. This API is intuitive and fully compatible with Tensorflow. In addition, keras provides a plethora of [APIs](https://keras.io/api/models/) and the user may select one that meets his needs. For the purpose of this exercise, the [sequential model](https://keras.io/api/models/sequential/) can be employed.\n",
        "\n",
        "### Visualization of training curves with `wandb`\n",
        "\n",
        "For the purpose of visualization in real-time the performance of our training, you will use Weights-And-Biases (`wandb`). During or after training you can use  it  to visualize the network and its performance. <b> For  all the following training tasks you are requested to include the loss and the accuracy graphs for training and also for evaluating the test-set</b>. A simple way to attach these graphs to jupyter notebook is to use generate a report after the training of all your networks is finished. Please upload that report in the pdf format and upload it in yur submission together with this notebook.\n",
        "\n",
        "Have a look at the following links for some tutorials on first use and report generation in `wandb`:\n",
        "* https://docs.wandb.ai/quickstart\n",
        "* https://docs.wandb.ai/guides/reports/create-a-report\n",
        "\n",
        "### Some Tips:\n",
        "\n",
        "* Use ```np.load``` to load your data from the previously created .npy binary files.\n",
        "* Use ```reshape``` method when it is needed to import data to the network.\n",
        "* Make your own function to create the model for each network architecture to avoid any model conflicts.\n",
        "\n",
        "* If you trained a model in a past python session, you can load the trained model but first you have to <b>define and initialize it again</b>.\n",
        "\n",
        "* Use `wandb` to visualize network and performance:\n",
        "\n",
        "* If you have strange keras errors, restart the python kernel and <b> re-run only the cells concerning your task you currently work (i.e. run the cells concerning only the current keras). Sometimes you cannot load two different keras at the same python session.</b>.\n",
        "\n",
        "(*) Depending the version of tensorflow you are working some commands might differ. Please look online for recent documentation."
      ]
    },
    {
      "cell_type": "markdown",
      "metadata": {
        "id": "_zZPPWoqw_tv"
      },
      "source": [
        "### Task 1: Load Data from the numpy binary files (from Part 1)\n",
        "Use the `numpy` load function to load the data created in the previous part of the exercise. The data has to be reshaped in a specific way (use code below) in order to be compatible with the keras neural network input standard. After the data is successfully loaded, plot any patch and its ground-truth as image title to verify that data is correctly represented."
      ]
    },
    {
      "cell_type": "code",
      "execution_count": null,
      "metadata": {
        "id": "MVLeES7ww_tv"
      },
      "outputs": [],
      "source": [
        "# Code for Part 2: Task 1\n",
        "IMG_SIZE = 20\n",
        "\n",
        "X = X_train.reshape(-1, IMG_SIZE, IMG_SIZE, 1)\n",
        "X_val = X_test.reshape(-1, IMG_SIZE, IMG_SIZE, 1)"
      ]
    },
    {
      "cell_type": "markdown",
      "metadata": {
        "id": "MxiFo4fEw_tv"
      },
      "source": [
        "### Task 2: Artificial Neural Networks (1 layer)\n",
        "First, lets train our classifier using an artificial neural network with just one layer (perceptron), a fully connected one (dense). This layer will have `softmax` as activation function and only two neurons.\n",
        "\n",
        "The main advantage of using this activation function is the output range. The range of the outputs will be `[0,1]` and the sum of all the probabilities will be equal to one. Generally, if the softmax function is used for a  multi-classification model it returns the probabilities of each class and the target class will have higher probability.\n",
        "\n",
        "Using Keras, define your model. Use these hyperparameters:\n",
        "* Learning Rate = `1e-4`\n",
        "* Batch Size = `8`\n",
        "* Optimizer = `sgd`\n",
        "* Loss metric = `categorical_crossentropy`\n",
        "* Validation metric score in Keras = `accuracy`\n",
        "\n",
        "Check your model architecture with `summary()` function.\n",
        "\n",
        "Since the network is small, it is not recommended to use `Dropout`. Train first for 1-2 epochs to verify that everything works and then train for ~10 epochs. To automatically integrate `wandb` in your Keras `model.fit` function, import `from wandb.keras import WandbMetricsLogger` and add a callback statement: `callbacks=[WandbMetricsLogger()]`. Observe the training and evaluate graphs from `wandb` to decide when to stop training.\n",
        "\n",
        "To evaluate the trained model, test it with the test samples (use `validation_data` in `model.fit` function).\n",
        "\n",
        "### Tip:\n",
        "* Use `.Flatten()` layer first to create a 1D vector in your input layer.\n",
        "* It is highly recommended to write all the tasks in functions and have as an input argument your keras. Then you will be able to re-use them in the next tasks for different keras."
      ]
    },
    {
      "cell_type": "code",
      "execution_count": null,
      "metadata": {
        "colab": {
          "base_uri": "https://localhost:8080/",
          "height": 1000,
          "referenced_widgets": [
            "545537017c2b4ad68249fd5efd82ef8c",
            "4560043d5ee34e9997a3d5ba660fc160",
            "d7a3b2ac92c94118b55aa132a9e52c56",
            "2bacecfea0894d02b3e64551d25c5a7e",
            "06d54f01538d4b9288a33b87e0c77bd5",
            "61dc3b24173749b6aa7d5ff3c98a97c2",
            "31f92244421e49a29e8303355416c8f0",
            "5cba8949c3084fa195172b28cc8ef35a"
          ]
        },
        "id": "j56dXue3w_tw",
        "outputId": "56574dd1-7427-4cd7-f6dd-4444c9be69e9"
      },
      "outputs": [
        {
          "name": "stdout",
          "output_type": "stream",
          "text": [
            "(2092, 20, 20, 1)\n"
          ]
        },
        {
          "data": {
            "text/html": [
              "Finishing last run (ID:8ik653hj) before initializing another..."
            ],
            "text/plain": [
              "<IPython.core.display.HTML object>"
            ]
          },
          "metadata": {},
          "output_type": "display_data"
        },
        {
          "data": {
            "application/vnd.jupyter.widget-view+json": {
              "model_id": "545537017c2b4ad68249fd5efd82ef8c",
              "version_major": 2,
              "version_minor": 0
            },
            "text/plain": [
              "VBox(children=(Label(value='0.001 MB of 0.010 MB uploaded\\r'), FloatProgress(value=0.10740704211460696, max=1.…"
            ]
          },
          "metadata": {},
          "output_type": "display_data"
        },
        {
          "data": {
            "text/html": [
              " View run <strong style=\"color:#cdcd00\">trim-totem-8</strong> at: <a href='https://wandb.ai/health-info/WPO%205/runs/8ik653hj' target=\"_blank\">https://wandb.ai/health-info/WPO%205/runs/8ik653hj</a><br/>Synced 5 W&B file(s), 0 media file(s), 0 artifact file(s) and 0 other file(s)"
            ],
            "text/plain": [
              "<IPython.core.display.HTML object>"
            ]
          },
          "metadata": {},
          "output_type": "display_data"
        },
        {
          "data": {
            "text/html": [
              "Find logs at: <code>./wandb/run-20240321_124554-8ik653hj/logs</code>"
            ],
            "text/plain": [
              "<IPython.core.display.HTML object>"
            ]
          },
          "metadata": {},
          "output_type": "display_data"
        },
        {
          "data": {
            "text/html": [
              "Successfully finished last run (ID:8ik653hj). Initializing new run:<br/>"
            ],
            "text/plain": [
              "<IPython.core.display.HTML object>"
            ]
          },
          "metadata": {},
          "output_type": "display_data"
        },
        {
          "data": {
            "text/html": [
              "Tracking run with wandb version 0.16.4"
            ],
            "text/plain": [
              "<IPython.core.display.HTML object>"
            ]
          },
          "metadata": {},
          "output_type": "display_data"
        },
        {
          "data": {
            "text/html": [
              "Run data is saved locally in <code>/content/wandb/run-20240321_125212-us3uiguy</code>"
            ],
            "text/plain": [
              "<IPython.core.display.HTML object>"
            ]
          },
          "metadata": {},
          "output_type": "display_data"
        },
        {
          "data": {
            "text/html": [
              "Syncing run <strong><a href='https://wandb.ai/health-info/WPO%205/runs/us3uiguy' target=\"_blank\">zesty-pyramid-9</a></strong> to <a href='https://wandb.ai/health-info/WPO%205' target=\"_blank\">Weights & Biases</a> (<a href='https://wandb.me/run' target=\"_blank\">docs</a>)<br/>"
            ],
            "text/plain": [
              "<IPython.core.display.HTML object>"
            ]
          },
          "metadata": {},
          "output_type": "display_data"
        },
        {
          "data": {
            "text/html": [
              " View project at <a href='https://wandb.ai/health-info/WPO%205' target=\"_blank\">https://wandb.ai/health-info/WPO%205</a>"
            ],
            "text/plain": [
              "<IPython.core.display.HTML object>"
            ]
          },
          "metadata": {},
          "output_type": "display_data"
        },
        {
          "data": {
            "text/html": [
              " View run at <a href='https://wandb.ai/health-info/WPO%205/runs/us3uiguy' target=\"_blank\">https://wandb.ai/health-info/WPO%205/runs/us3uiguy</a>"
            ],
            "text/plain": [
              "<IPython.core.display.HTML object>"
            ]
          },
          "metadata": {},
          "output_type": "display_data"
        },
        {
          "name": "stdout",
          "output_type": "stream",
          "text": [
            "Epoch 1/20\n",
            "262/262 [==============================] - 1s 2ms/step - loss: 0.6582 - accuracy: 0.6850\n",
            "Epoch 2/20\n",
            "262/262 [==============================] - 1s 2ms/step - loss: 0.6397 - accuracy: 0.7165\n",
            "Epoch 3/20\n",
            "262/262 [==============================] - 1s 2ms/step - loss: 0.6305 - accuracy: 0.7041\n",
            "Epoch 4/20\n",
            "262/262 [==============================] - 0s 2ms/step - loss: 0.6253 - accuracy: 0.6816\n",
            "Epoch 5/20\n",
            "262/262 [==============================] - 1s 2ms/step - loss: 0.6216 - accuracy: 0.6759\n",
            "Epoch 6/20\n",
            "262/262 [==============================] - 1s 2ms/step - loss: 0.6186 - accuracy: 0.6683\n",
            "Epoch 7/20\n",
            "262/262 [==============================] - 1s 2ms/step - loss: 0.6159 - accuracy: 0.6683\n",
            "Epoch 8/20\n",
            "262/262 [==============================] - 1s 2ms/step - loss: 0.6135 - accuracy: 0.6687\n",
            "Epoch 9/20\n",
            "262/262 [==============================] - 1s 2ms/step - loss: 0.6111 - accuracy: 0.6678\n",
            "Epoch 10/20\n",
            "262/262 [==============================] - 1s 2ms/step - loss: 0.6089 - accuracy: 0.6707\n",
            "Epoch 11/20\n",
            "262/262 [==============================] - 1s 2ms/step - loss: 0.6067 - accuracy: 0.6773\n",
            "Epoch 12/20\n",
            "262/262 [==============================] - 1s 2ms/step - loss: 0.6046 - accuracy: 0.6783\n",
            "Epoch 13/20\n",
            "262/262 [==============================] - 1s 2ms/step - loss: 0.6026 - accuracy: 0.6812\n",
            "Epoch 14/20\n",
            "262/262 [==============================] - 1s 2ms/step - loss: 0.6007 - accuracy: 0.6821\n",
            "Epoch 15/20\n",
            "262/262 [==============================] - 1s 2ms/step - loss: 0.5988 - accuracy: 0.6850\n",
            "Epoch 16/20\n",
            "262/262 [==============================] - 1s 3ms/step - loss: 0.5970 - accuracy: 0.6864\n",
            "Epoch 17/20\n",
            "262/262 [==============================] - 1s 3ms/step - loss: 0.5953 - accuracy: 0.6898\n",
            "Epoch 18/20\n",
            "262/262 [==============================] - 1s 4ms/step - loss: 0.5936 - accuracy: 0.6898\n",
            "Epoch 19/20\n",
            "262/262 [==============================] - 1s 4ms/step - loss: 0.5919 - accuracy: 0.6922\n",
            "Epoch 20/20\n",
            "262/262 [==============================] - 1s 4ms/step - loss: 0.5904 - accuracy: 0.6955\n",
            "Model: \"sequential_12\"\n",
            "_________________________________________________________________\n",
            " Layer (type)                Output Shape              Param #   \n",
            "=================================================================\n",
            " flatten_10 (Flatten)        (None, 400)               0         \n",
            "                                                                 \n",
            " dense_20 (Dense)            (None, 2)                 802       \n",
            "                                                                 \n",
            "=================================================================\n",
            "Total params: 802 (3.13 KB)\n",
            "Trainable params: 802 (3.13 KB)\n",
            "Non-trainable params: 0 (0.00 Byte)\n",
            "_________________________________________________________________\n",
            "Epoch 1/20\n",
            "262/262 [==============================] - 1s 3ms/step - loss: 0.5888 - accuracy: 0.6993 - val_loss: 0.6537 - val_accuracy: 0.5966\n",
            "Epoch 2/20\n",
            "262/262 [==============================] - 1s 2ms/step - loss: 0.5873 - accuracy: 0.6974 - val_loss: 0.6530 - val_accuracy: 0.6009\n",
            "Epoch 3/20\n",
            "262/262 [==============================] - 1s 3ms/step - loss: 0.5859 - accuracy: 0.7017 - val_loss: 0.6524 - val_accuracy: 0.6009\n",
            "Epoch 4/20\n",
            "262/262 [==============================] - 1s 3ms/step - loss: 0.5845 - accuracy: 0.7041 - val_loss: 0.6519 - val_accuracy: 0.6009\n",
            "Epoch 5/20\n",
            "262/262 [==============================] - 1s 2ms/step - loss: 0.5832 - accuracy: 0.7022 - val_loss: 0.6512 - val_accuracy: 0.6009\n",
            "Epoch 6/20\n",
            "262/262 [==============================] - 1s 3ms/step - loss: 0.5818 - accuracy: 0.7108 - val_loss: 0.6508 - val_accuracy: 0.6009\n",
            "Epoch 7/20\n",
            "262/262 [==============================] - 1s 2ms/step - loss: 0.5805 - accuracy: 0.7113 - val_loss: 0.6503 - val_accuracy: 0.6009\n",
            "Epoch 8/20\n",
            "262/262 [==============================] - 1s 2ms/step - loss: 0.5793 - accuracy: 0.7098 - val_loss: 0.6497 - val_accuracy: 0.6052\n",
            "Epoch 9/20\n",
            "262/262 [==============================] - 1s 2ms/step - loss: 0.5781 - accuracy: 0.7108 - val_loss: 0.6492 - val_accuracy: 0.6052\n",
            "Epoch 10/20\n",
            "262/262 [==============================] - 1s 2ms/step - loss: 0.5769 - accuracy: 0.7146 - val_loss: 0.6487 - val_accuracy: 0.6094\n",
            "Epoch 11/20\n",
            "262/262 [==============================] - 1s 3ms/step - loss: 0.5757 - accuracy: 0.7146 - val_loss: 0.6482 - val_accuracy: 0.6137\n",
            "Epoch 12/20\n",
            "262/262 [==============================] - 1s 3ms/step - loss: 0.5746 - accuracy: 0.7175 - val_loss: 0.6477 - val_accuracy: 0.6180\n",
            "Epoch 13/20\n",
            "262/262 [==============================] - 1s 3ms/step - loss: 0.5735 - accuracy: 0.7180 - val_loss: 0.6473 - val_accuracy: 0.6180\n",
            "Epoch 14/20\n",
            "262/262 [==============================] - 1s 3ms/step - loss: 0.5724 - accuracy: 0.7189 - val_loss: 0.6469 - val_accuracy: 0.6223\n",
            "Epoch 15/20\n",
            "262/262 [==============================] - 1s 3ms/step - loss: 0.5713 - accuracy: 0.7194 - val_loss: 0.6464 - val_accuracy: 0.6266\n",
            "Epoch 16/20\n",
            "262/262 [==============================] - 1s 4ms/step - loss: 0.5703 - accuracy: 0.7204 - val_loss: 0.6460 - val_accuracy: 0.6309\n",
            "Epoch 17/20\n",
            "262/262 [==============================] - 1s 4ms/step - loss: 0.5693 - accuracy: 0.7213 - val_loss: 0.6457 - val_accuracy: 0.6266\n",
            "Epoch 18/20\n",
            "262/262 [==============================] - 1s 4ms/step - loss: 0.5683 - accuracy: 0.7218 - val_loss: 0.6452 - val_accuracy: 0.6309\n",
            "Epoch 19/20\n",
            "262/262 [==============================] - 1s 5ms/step - loss: 0.5673 - accuracy: 0.7228 - val_loss: 0.6448 - val_accuracy: 0.6309\n",
            "Epoch 20/20\n",
            "262/262 [==============================] - 1s 3ms/step - loss: 0.5664 - accuracy: 0.7256 - val_loss: 0.6444 - val_accuracy: 0.6309\n"
          ]
        }
      ],
      "source": [
        "# Code for Part 2: Task 2\n",
        "from wandb.keras import WandbMetricsLogger\n",
        "print(X.shape)\n",
        "\n",
        "model = keras.Sequential()\n",
        "\n",
        "model.add(keras.layers.Flatten(input_shape=(20, 20, 1)))\n",
        "model.add(keras.layers.Dense(2, activation='softmax')) # is the output the number of categories (positive and negative for nodules)?\n",
        "model.compile(optimizer = keras.optimizers.SGD(learning_rate=1e-4), loss='categorical_crossentropy', metrics='accuracy', )\n",
        "wandb.init(project='WPO 5')\n",
        "\n",
        "model.fit(X, Y_train, epochs = 20, callbacks=[WandbMetricsLogger()], batch_size=8)\n",
        "model.summary()\n",
        "# To automatically integrate wandb in your Keras model.fit function,\n",
        "\n",
        "history = model.fit(X, Y_train, epochs=20, validation_data=(X_val, Y_test), callbacks=[WandbMetricsLogger()], batch_size=8)"
      ]
    },
    {
      "cell_type": "markdown",
      "metadata": {
        "id": "KCHB4e-tw_tw"
      },
      "source": [
        "### Task 3: Test the model\n",
        "In this section you are going to write a <b>generic</b> validation function to assess the performance of out trained models. To do so, we will need the following modules from `sklearn`:\n",
        "- `confusion_matrix`\n",
        "- `accuracy_score`\n",
        "- `roc_curve`\n",
        "\n",
        "Import the modules and create a `python` function which takes two input arguments (validation test data and its GT labels). Use `model.predict` method to predict the class of our test set. Using the function print the `confusion_matrix`, `accuracy_score` and a `roc_curve` of this specific model.\n",
        "\n",
        "Use to function to assess the performance of your first train model. Print all of the validation metrics and a ROC curve.\n",
        "\n",
        "__Hint__: For the calculation of `confusion_matrix` and `accuracy_score` you need to transform your predicted and GT labels using `np.argmax`.\n",
        "\n",
        "__Hint__: For the calculation of `roc_curve` take only the second column of the predicted one-hot label e.g. `test_preds = test_preds[:,1]`\n",
        "\n",
        "Explain these graphs and the ROC curve. What role does the decision threshold play and why it is so important? Can we have a single value as the decision threshold? Why?"
      ]
    },
    {
      "cell_type": "code",
      "execution_count": null,
      "metadata": {
        "id": "96ksnO_Sw_tw"
      },
      "outputs": [],
      "source": [
        "# Answer to the question\n"
      ]
    },
    {
      "cell_type": "code",
      "execution_count": null,
      "metadata": {
        "colab": {
          "base_uri": "https://localhost:8080/",
          "height": 563
        },
        "id": "Yh2FQbTuw_tx",
        "outputId": "1f089119-508b-4577-9c06-7c58d1ef65d0"
      },
      "outputs": [
        {
          "name": "stdout",
          "output_type": "stream",
          "text": [
            "8/8 [==============================] - 0s 2ms/step\n",
            "the confusion matrix is:\n",
            "[[67 32]\n",
            " [54 80]]\n",
            "the accuracy score is: 0.630901287553648\n"
          ]
        },
        {
          "data": {
            "image/png": "[encoded data removed]",
            "text/plain": [
              "<Figure size 640x480 with 1 Axes>"
            ]
          },
          "metadata": {},
          "output_type": "display_data"
        }
      ],
      "source": [
        "\n",
        "from sklearn.metrics import confusion_matrix, accuracy_score, roc_curve\n",
        "\n",
        "def perfomance_assessing(model, X_val, Y_test, GT_labels, name):\n",
        "    # Predict the class probabilities for the validation set\n",
        "    y_pred_proba = model.predict(X_val)\n",
        "    # transform your predicted and GT labels\n",
        "    prediction = np.argmax(y_pred_proba, axis=1) #Returns the indices of the maximum values along an axis.\n",
        "    # Convert ground truth labels to class labels\n",
        "    y_true = np.argmax(Y_test, axis=1)\n",
        "    #confusion matrix\n",
        "    confusion = confusion_matrix(y_true, prediction)\n",
        "    print(\"the confusion matrix is:\")\n",
        "    print(confusion)\n",
        "\n",
        "    #accuracy score\n",
        "    accuracy = accuracy_score(y_true, prediction)\n",
        "    print(\"the accuracy score is:\", accuracy)\n",
        "\n",
        "    #ROC curve\n",
        "    fpr, tpr, thresholds = roc_curve(y_true, y_pred_proba[:, 1]) #false positive rate, true positive rate, decreasing thresholds on the decision function used to compute fpr and tpr\n",
        "    plt.figure()\n",
        "    plt.plot(fpr, tpr, color='blue', lw=2, label='ROC curve')\n",
        "    plt.plot([0, 1], [0, 1], color='gray', lw=2, linestyle='--', label='Random')\n",
        "    plt.xlim([0.0, 1.0])\n",
        "    plt.ylim([0.0, 1.05])\n",
        "    plt.xlabel('False Positive Rate')\n",
        "    plt.ylabel('True Positive Rate')\n",
        "    plt.title(f'ROC Curve {name}')\n",
        "    plt.legend(loc=\"lower right\")\n",
        "    plt.show()\n",
        "\n",
        "    return confusion, accuracy, (fpr, tpr, thresholds)\n",
        "\n",
        "confusion_matrix_model, accuracy_model, (fpr, tpr, thresholds) = perfomance_assessing(model, X_val, Y_test, Y_labels, '1 layer')\n"
      ]
    },
    {
      "cell_type": "markdown",
      "metadata": {
        "id": "fU6-4hAOw_tx"
      },
      "source": [
        "### Task 4.1: Artificial Neural Networks (3 layers) - Let's go deep!\n",
        "\n",
        "From now on, we will try various networks with increasing complexity. Make sure with every network/parameter change, you update any hyperameters; you test and evaluate the new model with the previously used evaluation metrics (ROC curve, confusion matrix...). Moreover, every time check the training curves in `wandb`.\n",
        "\n",
        "Let's try 3 fully-connected layers using `sigmoid` activation function.\n",
        "\n",
        "Here is an example network but you are free to choose your own network.\n",
        "* 1st dense layer with 80 neurons, `sigmoid` activation\n",
        "* 2nd dense layer with 40 neurons, `sigmoid` activation\n",
        "* 3rd dense layer with 2 neurons and `softmax` activation\n",
        "* optimizer: `sgd`\n",
        "* learning rate: `1e-4`\n",
        "\n",
        "Explain your network's architecture and **test** your system as you did for the previous simple neural network. What do you observe? Make sure you tune again any hyperparameters like the amount of training epochs. Choose different values for the learning rate, number of epochs and batch size (e.g. 10, 20, 30...). Can you find some training curves which indicate **underfitting** and **overfitting**? If so, what network parameters play a crucial role in observing **underfitting** or **overfitting**?\n",
        "\n",
        "**Remark:** Some deeper models require more training to reach their optimal performance. If possible with your computational resources, try to train them for more epochs until no increase in accuracy is observed."
      ]
    },
    {
      "cell_type": "code",
      "execution_count": null,
      "metadata": {
        "id": "Aa1LItpRw_ty"
      },
      "outputs": [],
      "source": [
        "# Answer to the question"
      ]
    },
    {
      "cell_type": "code",
      "execution_count": null,
      "metadata": {
        "colab": {
          "base_uri": "https://localhost:8080/",
          "height": 1000,
          "referenced_widgets": [
            "7ae189487bc24a0fa0f546caa3c0f8d5",
            "a3d086425e804247b1bf540707f15d76",
            "d457eed9d3d34c61ac9c3a4412c83d78",
            "337b85767d054026bb23810a762bd675",
            "e62a6d1708154a038d45358b83534bf0",
            "a1079e5a9fa04e3083badb57f3ae04ab",
            "6e483f4c9f754b20a88adacad192cc3f",
            "16f74f4cf6c745cab51f1dd17c75c01a",
            "604c161b826743c188d55cd9de024e03",
            "bfab67308be843dfa5dd42085840b45f",
            "730b175ec4014ee78738494a09c4461c",
            "042dea42b96d4fd185133123e224f837",
            "0b1c57b2a292442eb671187ae8b76c9a",
            "7815c1cba61e41b0b3e6056a6ef8a65e",
            "301a76fbc56b47288bf5aab2fe43484e",
            "79aee67ec8814e968e06d4f8b8cade37",
            "0884144d0c1a49269fedc31df1afb968",
            "d7bb0bd4f7ba4386ad4fa74347797257",
            "07869f215a9a42368ecf3296d6d42c03",
            "d64eeb65cb1d4ce7b4dd995afbefecb5",
            "0816b7feb6f645788e1033a9bf65c823",
            "fe66d8dec92443b6866d2c25456a6dda",
            "de56f48794df4affbef84ce0bc06ab00",
            "f882bd5e72824efea9262c18462605ee",
            "48e82e7c9ba04f35979f541298094ab0",
            "2f1c983fb1ef40668fb191db076726d7",
            "5a557f0b283242ba8e8bb5b71ff05fcd",
            "16c7a3d6ae144eaa8dbc16a857b3fe02",
            "f6c9a11012364306803a1b15e17495ce",
            "f1c1b2a1037d40ac843e3880caf045c2",
            "81613e47ef604eb483531ecad6a94d6f",
            "386a6ca48d844da39340d1472b29cf38"
          ]
        },
        "id": "s24svd9Rw_ty",
        "outputId": "344b6b24-405e-4b49-c111-0f8da57ddb99"
      },
      "outputs": [
        {
          "name": "stdout",
          "output_type": "stream",
          "text": [
            "X: (2092, 20, 20, 1)\n",
            "Y_train: (2092, 2)\n"
          ]
        },
        {
          "data": {
            "text/html": [
              "Finishing last run (ID:r6yhdzx1) before initializing another..."
            ],
            "text/plain": [
              "<IPython.core.display.HTML object>"
            ]
          },
          "metadata": {},
          "output_type": "display_data"
        },
        {
          "data": {
            "application/vnd.jupyter.widget-view+json": {
              "model_id": "7ae189487bc24a0fa0f546caa3c0f8d5",
              "version_major": 2,
              "version_minor": 0
            },
            "text/plain": [
              "VBox(children=(Label(value='0.001 MB of 0.001 MB uploaded\\r'), FloatProgress(value=1.0, max=1.0)))"
            ]
          },
          "metadata": {},
          "output_type": "display_data"
        },
        {
          "data": {
            "text/html": [
              "<style>\n",
              "    table.wandb td:nth-child(1) { padding: 0 10px; text-align: left ; width: auto;} td:nth-child(2) {text-align: left ; width: 100%}\n",
              "    .wandb-row { display: flex; flex-direction: row; flex-wrap: wrap; justify-content: flex-start; width: 100% }\n",
              "    .wandb-col { display: flex; flex-direction: column; flex-basis: 100%; flex: 1; padding: 10px; }\n",
              "    </style>\n",
              "<div class=\"wandb-row\"><div class=\"wandb-col\"><h3>Run history:</h3><br/><table class=\"wandb\"><tr><td>epoch/accuracy</td><td>▁▂▃▃▄▅▅▅▆▆▆▇▆▇▆▇██▇▇</td></tr><tr><td>epoch/epoch</td><td>▁▁▂▂▂▃▃▄▄▄▅▅▅▆▆▇▇▇██</td></tr><tr><td>epoch/learning_rate</td><td>▁▁▁▁▁▁▁▁▁▁▁▁▁▁▁▁▁▁▁▁</td></tr><tr><td>epoch/loss</td><td>█▇▆▆▆▅▅▅▅▄▄▄▃▃▃▂▂▂▁▁</td></tr></table><br/></div><div class=\"wandb-col\"><h3>Run summary:</h3><br/><table class=\"wandb\"><tr><td>epoch/accuracy</td><td>0.71463</td></tr><tr><td>epoch/epoch</td><td>19</td></tr><tr><td>epoch/learning_rate</td><td>0.01</td></tr><tr><td>epoch/loss</td><td>0.64769</td></tr></table><br/></div></div>"
            ],
            "text/plain": [
              "<IPython.core.display.HTML object>"
            ]
          },
          "metadata": {},
          "output_type": "display_data"
        },
        {
          "data": {
            "text/html": [
              " View run <strong style=\"color:#cdcd00\">efficient-sound-12</strong> at: <a href='https://wandb.ai/health-info/WPO%205%20task%204.1/runs/r6yhdzx1' target=\"_blank\">https://wandb.ai/health-info/WPO%205%20task%204.1/runs/r6yhdzx1</a><br/>Synced 5 W&B file(s), 0 media file(s), 0 artifact file(s) and 0 other file(s)"
            ],
            "text/plain": [
              "<IPython.core.display.HTML object>"
            ]
          },
          "metadata": {},
          "output_type": "display_data"
        },
        {
          "data": {
            "text/html": [
              "Find logs at: <code>./wandb/run-20240321_142556-r6yhdzx1/logs</code>"
            ],
            "text/plain": [
              "<IPython.core.display.HTML object>"
            ]
          },
          "metadata": {},
          "output_type": "display_data"
        },
        {
          "data": {
            "text/html": [
              "Successfully finished last run (ID:r6yhdzx1). Initializing new run:<br/>"
            ],
            "text/plain": [
              "<IPython.core.display.HTML object>"
            ]
          },
          "metadata": {},
          "output_type": "display_data"
        },
        {
          "data": {
            "text/html": [
              "Tracking run with wandb version 0.16.4"
            ],
            "text/plain": [
              "<IPython.core.display.HTML object>"
            ]
          },
          "metadata": {},
          "output_type": "display_data"
        },
        {
          "data": {
            "text/html": [
              "Run data is saved locally in <code>/content/wandb/run-20240321_142802-devcs2nw</code>"
            ],
            "text/plain": [
              "<IPython.core.display.HTML object>"
            ]
          },
          "metadata": {},
          "output_type": "display_data"
        },
        {
          "data": {
            "text/html": [
              "Syncing run <strong><a href='https://wandb.ai/health-info/WPO%205%20task%204.1/runs/devcs2nw' target=\"_blank\">kind-water-13</a></strong> to <a href='https://wandb.ai/health-info/WPO%205%20task%204.1' target=\"_blank\">Weights & Biases</a> (<a href='https://wandb.me/run' target=\"_blank\">docs</a>)<br/>"
            ],
            "text/plain": [
              "<IPython.core.display.HTML object>"
            ]
          },
          "metadata": {},
          "output_type": "display_data"
        },
        {
          "data": {
            "text/html": [
              " View project at <a href='https://wandb.ai/health-info/WPO%205%20task%204.1' target=\"_blank\">https://wandb.ai/health-info/WPO%205%20task%204.1</a>"
            ],
            "text/plain": [
              "<IPython.core.display.HTML object>"
            ]
          },
          "metadata": {},
          "output_type": "display_data"
        },
        {
          "data": {
            "text/html": [
              " View run at <a href='https://wandb.ai/health-info/WPO%205%20task%204.1/runs/devcs2nw' target=\"_blank\">https://wandb.ai/health-info/WPO%205%20task%204.1/runs/devcs2nw</a>"
            ],
            "text/plain": [
              "<IPython.core.display.HTML object>"
            ]
          },
          "metadata": {},
          "output_type": "display_data"
        },
        {
          "name": "stdout",
          "output_type": "stream",
          "text": [
            "Epoch 1/20\n",
            "262/262 [==============================] - 2s 3ms/step - loss: 0.6926 - accuracy: 0.5325\n",
            "Epoch 2/20\n",
            "262/262 [==============================] - 1s 4ms/step - loss: 0.6738 - accuracy: 0.5980\n",
            "Epoch 3/20\n",
            "262/262 [==============================] - 2s 8ms/step - loss: 0.6557 - accuracy: 0.6601\n",
            "Epoch 4/20\n",
            "262/262 [==============================] - 2s 8ms/step - loss: 0.6377 - accuracy: 0.7132\n",
            "Epoch 5/20\n",
            "262/262 [==============================] - 2s 8ms/step - loss: 0.6161 - accuracy: 0.7347\n",
            "Epoch 6/20\n",
            "262/262 [==============================] - 2s 7ms/step - loss: 0.5925 - accuracy: 0.7529\n",
            "Epoch 7/20\n",
            "262/262 [==============================] - 1s 5ms/step - loss: 0.5674 - accuracy: 0.7715\n",
            "Epoch 8/20\n",
            "262/262 [==============================] - 1s 4ms/step - loss: 0.5413 - accuracy: 0.7777\n",
            "Epoch 9/20\n",
            "262/262 [==============================] - 1s 4ms/step - loss: 0.5164 - accuracy: 0.7792\n",
            "Epoch 10/20\n",
            "262/262 [==============================] - 1s 6ms/step - loss: 0.4950 - accuracy: 0.7777\n",
            "Epoch 11/20\n",
            "262/262 [==============================] - 2s 6ms/step - loss: 0.4770 - accuracy: 0.7820\n",
            "Epoch 12/20\n",
            "262/262 [==============================] - 1s 4ms/step - loss: 0.4623 - accuracy: 0.7882\n",
            "Epoch 13/20\n",
            "262/262 [==============================] - 1s 5ms/step - loss: 0.4513 - accuracy: 0.7863\n",
            "Epoch 14/20\n",
            "262/262 [==============================] - 1s 6ms/step - loss: 0.4411 - accuracy: 0.7887\n",
            "Epoch 15/20\n",
            "262/262 [==============================] - 1s 4ms/step - loss: 0.4363 - accuracy: 0.7935\n",
            "Epoch 16/20\n",
            "262/262 [==============================] - 1s 4ms/step - loss: 0.4293 - accuracy: 0.7945\n",
            "Epoch 17/20\n",
            "262/262 [==============================] - 1s 4ms/step - loss: 0.4230 - accuracy: 0.7959\n",
            "Epoch 18/20\n",
            "262/262 [==============================] - 2s 6ms/step - loss: 0.4173 - accuracy: 0.8011\n",
            "Epoch 19/20\n",
            "262/262 [==============================] - 2s 9ms/step - loss: 0.4119 - accuracy: 0.8059\n",
            "Epoch 20/20\n",
            "262/262 [==============================] - 3s 12ms/step - loss: 0.4067 - accuracy: 0.8098\n",
            "Model: \"sequential_31\"\n",
            "_________________________________________________________________\n",
            " Layer (type)                Output Shape              Param #   \n",
            "=================================================================\n",
            " flatten_24 (Flatten)        (None, 400)               0         \n",
            "                                                                 \n",
            " dense_73 (Dense)            (None, 80)                32080     \n",
            "                                                                 \n",
            " dense_74 (Dense)            (None, 40)                3240      \n",
            "                                                                 \n",
            " dense_75 (Dense)            (None, 2)                 82        \n",
            "                                                                 \n",
            "=================================================================\n",
            "Total params: 35402 (138.29 KB)\n",
            "Trainable params: 35402 (138.29 KB)\n",
            "Non-trainable params: 0 (0.00 Byte)\n",
            "_________________________________________________________________\n"
          ]
        },
        {
          "data": {
            "text/html": [
              "Finishing last run (ID:devcs2nw) before initializing another..."
            ],
            "text/plain": [
              "<IPython.core.display.HTML object>"
            ]
          },
          "metadata": {},
          "output_type": "display_data"
        },
        {
          "data": {
            "application/vnd.jupyter.widget-view+json": {
              "model_id": "604c161b826743c188d55cd9de024e03",
              "version_major": 2,
              "version_minor": 0
            },
            "text/plain": [
              "VBox(children=(Label(value='0.001 MB of 0.001 MB uploaded\\r'), FloatProgress(value=1.0, max=1.0)))"
            ]
          },
          "metadata": {},
          "output_type": "display_data"
        },
        {
          "data": {
            "text/html": [
              "<style>\n",
              "    table.wandb td:nth-child(1) { padding: 0 10px; text-align: left ; width: auto;} td:nth-child(2) {text-align: left ; width: 100%}\n",
              "    .wandb-row { display: flex; flex-direction: row; flex-wrap: wrap; justify-content: flex-start; width: 100% }\n",
              "    .wandb-col { display: flex; flex-direction: column; flex-basis: 100%; flex: 1; padding: 10px; }\n",
              "    </style>\n",
              "<div class=\"wandb-row\"><div class=\"wandb-col\"><h3>Run history:</h3><br/><table class=\"wandb\"><tr><td>epoch/accuracy</td><td>▁▃▄▆▆▇▇▇▇▇▇▇▇▇██████</td></tr><tr><td>epoch/epoch</td><td>▁▁▂▂▂▃▃▄▄▄▅▅▅▆▆▇▇▇██</td></tr><tr><td>epoch/learning_rate</td><td>▁▁▁▁▁▁▁▁▁▁▁▁▁▁▁▁▁▁▁▁</td></tr><tr><td>epoch/loss</td><td>██▇▇▆▆▅▄▄▃▃▂▂▂▂▂▁▁▁▁</td></tr></table><br/></div><div class=\"wandb-col\"><h3>Run summary:</h3><br/><table class=\"wandb\"><tr><td>epoch/accuracy</td><td>0.80975</td></tr><tr><td>epoch/epoch</td><td>19</td></tr><tr><td>epoch/learning_rate</td><td>0.01</td></tr><tr><td>epoch/loss</td><td>0.4067</td></tr></table><br/></div></div>"
            ],
            "text/plain": [
              "<IPython.core.display.HTML object>"
            ]
          },
          "metadata": {},
          "output_type": "display_data"
        },
        {
          "data": {
            "text/html": [
              " View run <strong style=\"color:#cdcd00\">kind-water-13</strong> at: <a href='https://wandb.ai/health-info/WPO%205%20task%204.1/runs/devcs2nw' target=\"_blank\">https://wandb.ai/health-info/WPO%205%20task%204.1/runs/devcs2nw</a><br/>Synced 5 W&B file(s), 0 media file(s), 0 artifact file(s) and 0 other file(s)"
            ],
            "text/plain": [
              "<IPython.core.display.HTML object>"
            ]
          },
          "metadata": {},
          "output_type": "display_data"
        },
        {
          "data": {
            "text/html": [
              "Find logs at: <code>./wandb/run-20240321_142802-devcs2nw/logs</code>"
            ],
            "text/plain": [
              "<IPython.core.display.HTML object>"
            ]
          },
          "metadata": {},
          "output_type": "display_data"
        },
        {
          "data": {
            "text/html": [
              "Successfully finished last run (ID:devcs2nw). Initializing new run:<br/>"
            ],
            "text/plain": [
              "<IPython.core.display.HTML object>"
            ]
          },
          "metadata": {},
          "output_type": "display_data"
        },
        {
          "data": {
            "text/html": [
              "Tracking run with wandb version 0.16.4"
            ],
            "text/plain": [
              "<IPython.core.display.HTML object>"
            ]
          },
          "metadata": {},
          "output_type": "display_data"
        },
        {
          "data": {
            "text/html": [
              "Run data is saved locally in <code>/content/wandb/run-20240321_142854-yyr8g9mt</code>"
            ],
            "text/plain": [
              "<IPython.core.display.HTML object>"
            ]
          },
          "metadata": {},
          "output_type": "display_data"
        },
        {
          "data": {
            "text/html": [
              "Syncing run <strong><a href='https://wandb.ai/health-info/WPO%205%20task%204.1/runs/yyr8g9mt' target=\"_blank\">radiant-yogurt-14</a></strong> to <a href='https://wandb.ai/health-info/WPO%205%20task%204.1' target=\"_blank\">Weights & Biases</a> (<a href='https://wandb.me/run' target=\"_blank\">docs</a>)<br/>"
            ],
            "text/plain": [
              "<IPython.core.display.HTML object>"
            ]
          },
          "metadata": {},
          "output_type": "display_data"
        },
        {
          "data": {
            "text/html": [
              " View project at <a href='https://wandb.ai/health-info/WPO%205%20task%204.1' target=\"_blank\">https://wandb.ai/health-info/WPO%205%20task%204.1</a>"
            ],
            "text/plain": [
              "<IPython.core.display.HTML object>"
            ]
          },
          "metadata": {},
          "output_type": "display_data"
        },
        {
          "data": {
            "text/html": [
              " View run at <a href='https://wandb.ai/health-info/WPO%205%20task%204.1/runs/yyr8g9mt' target=\"_blank\">https://wandb.ai/health-info/WPO%205%20task%204.1/runs/yyr8g9mt</a>"
            ],
            "text/plain": [
              "<IPython.core.display.HTML object>"
            ]
          },
          "metadata": {},
          "output_type": "display_data"
        },
        {
          "name": "stdout",
          "output_type": "stream",
          "text": [
            "Epoch 1/20\n",
            "88/88 [==============================] - 1s 3ms/step - loss: 0.7109 - accuracy: 0.4943\n",
            "Epoch 2/20\n",
            "88/88 [==============================] - 0s 3ms/step - loss: 0.6902 - accuracy: 0.5301\n",
            "Epoch 3/20\n",
            "88/88 [==============================] - 0s 4ms/step - loss: 0.6865 - accuracy: 0.5779\n",
            "Epoch 4/20\n",
            "88/88 [==============================] - 0s 4ms/step - loss: 0.6834 - accuracy: 0.5574\n",
            "Epoch 5/20\n",
            "88/88 [==============================] - 0s 3ms/step - loss: 0.6792 - accuracy: 0.6166\n",
            "Epoch 6/20\n",
            "88/88 [==============================] - 0s 4ms/step - loss: 0.6754 - accuracy: 0.6286\n",
            "Epoch 7/20\n",
            "88/88 [==============================] - 0s 3ms/step - loss: 0.6716 - accuracy: 0.6405\n",
            "Epoch 8/20\n",
            "88/88 [==============================] - 0s 3ms/step - loss: 0.6676 - accuracy: 0.6219\n",
            "Epoch 9/20\n",
            "88/88 [==============================] - 0s 3ms/step - loss: 0.6624 - accuracy: 0.6726\n",
            "Epoch 10/20\n",
            "88/88 [==============================] - 0s 3ms/step - loss: 0.6580 - accuracy: 0.6969\n",
            "Epoch 11/20\n",
            "88/88 [==============================] - 0s 3ms/step - loss: 0.6530 - accuracy: 0.6950\n",
            "Epoch 12/20\n",
            "88/88 [==============================] - 0s 3ms/step - loss: 0.6473 - accuracy: 0.7065\n",
            "Epoch 13/20\n",
            "88/88 [==============================] - 0s 3ms/step - loss: 0.6419 - accuracy: 0.7008\n",
            "Epoch 14/20\n",
            "88/88 [==============================] - 0s 5ms/step - loss: 0.6363 - accuracy: 0.6979\n",
            "Epoch 15/20\n",
            "88/88 [==============================] - 0s 5ms/step - loss: 0.6296 - accuracy: 0.6845\n",
            "Epoch 16/20\n",
            "88/88 [==============================] - 0s 5ms/step - loss: 0.6222 - accuracy: 0.7414\n",
            "Epoch 17/20\n",
            "88/88 [==============================] - 0s 5ms/step - loss: 0.6150 - accuracy: 0.7285\n",
            "Epoch 18/20\n",
            "88/88 [==============================] - 0s 5ms/step - loss: 0.6084 - accuracy: 0.7553\n",
            "Epoch 19/20\n",
            "88/88 [==============================] - 0s 4ms/step - loss: 0.6001 - accuracy: 0.7567\n",
            "Epoch 20/20\n",
            "88/88 [==============================] - 0s 5ms/step - loss: 0.5915 - accuracy: 0.7490\n",
            "Model: \"sequential_32\"\n",
            "_________________________________________________________________\n",
            " Layer (type)                Output Shape              Param #   \n",
            "=================================================================\n",
            " flatten_25 (Flatten)        (None, 400)               0         \n",
            "                                                                 \n",
            " dense_76 (Dense)            (None, 80)                32080     \n",
            "                                                                 \n",
            " dense_77 (Dense)            (None, 40)                3240      \n",
            "                                                                 \n",
            " dense_78 (Dense)            (None, 2)                 82        \n",
            "                                                                 \n",
            "=================================================================\n",
            "Total params: 35402 (138.29 KB)\n",
            "Trainable params: 35402 (138.29 KB)\n",
            "Non-trainable params: 0 (0.00 Byte)\n",
            "_________________________________________________________________\n"
          ]
        },
        {
          "data": {
            "text/html": [
              "Finishing last run (ID:yyr8g9mt) before initializing another..."
            ],
            "text/plain": [
              "<IPython.core.display.HTML object>"
            ]
          },
          "metadata": {},
          "output_type": "display_data"
        },
        {
          "data": {
            "application/vnd.jupyter.widget-view+json": {
              "model_id": "0884144d0c1a49269fedc31df1afb968",
              "version_major": 2,
              "version_minor": 0
            },
            "text/plain": [
              "VBox(children=(Label(value='0.001 MB of 0.013 MB uploaded\\r'), FloatProgress(value=0.07964019306713471, max=1.…"
            ]
          },
          "metadata": {},
          "output_type": "display_data"
        },
        {
          "data": {
            "text/html": [
              "<style>\n",
              "    table.wandb td:nth-child(1) { padding: 0 10px; text-align: left ; width: auto;} td:nth-child(2) {text-align: left ; width: 100%}\n",
              "    .wandb-row { display: flex; flex-direction: row; flex-wrap: wrap; justify-content: flex-start; width: 100% }\n",
              "    .wandb-col { display: flex; flex-direction: column; flex-basis: 100%; flex: 1; padding: 10px; }\n",
              "    </style>\n",
              "<div class=\"wandb-row\"><div class=\"wandb-col\"><h3>Run history:</h3><br/><table class=\"wandb\"><tr><td>epoch/accuracy</td><td>▁▂▃▃▄▅▅▄▆▆▆▇▇▆▆█▇███</td></tr><tr><td>epoch/epoch</td><td>▁▁▂▂▂▃▃▄▄▄▅▅▅▆▆▇▇▇██</td></tr><tr><td>epoch/learning_rate</td><td>▁▁▁▁▁▁▁▁▁▁▁▁▁▁▁▁▁▁▁▁</td></tr><tr><td>epoch/loss</td><td>█▇▇▆▆▆▆▅▅▅▅▄▄▄▃▃▂▂▂▁</td></tr></table><br/></div><div class=\"wandb-col\"><h3>Run summary:</h3><br/><table class=\"wandb\"><tr><td>epoch/accuracy</td><td>0.74904</td></tr><tr><td>epoch/epoch</td><td>19</td></tr><tr><td>epoch/learning_rate</td><td>0.01</td></tr><tr><td>epoch/loss</td><td>0.59154</td></tr></table><br/></div></div>"
            ],
            "text/plain": [
              "<IPython.core.display.HTML object>"
            ]
          },
          "metadata": {},
          "output_type": "display_data"
        },
        {
          "data": {
            "text/html": [
              " View run <strong style=\"color:#cdcd00\">radiant-yogurt-14</strong> at: <a href='https://wandb.ai/health-info/WPO%205%20task%204.1/runs/yyr8g9mt' target=\"_blank\">https://wandb.ai/health-info/WPO%205%20task%204.1/runs/yyr8g9mt</a><br/>Synced 5 W&B file(s), 0 media file(s), 0 artifact file(s) and 0 other file(s)"
            ],
            "text/plain": [
              "<IPython.core.display.HTML object>"
            ]
          },
          "metadata": {},
          "output_type": "display_data"
        },
        {
          "data": {
            "text/html": [
              "Find logs at: <code>./wandb/run-20240321_142854-yyr8g9mt/logs</code>"
            ],
            "text/plain": [
              "<IPython.core.display.HTML object>"
            ]
          },
          "metadata": {},
          "output_type": "display_data"
        },
        {
          "data": {
            "text/html": [
              "Successfully finished last run (ID:yyr8g9mt). Initializing new run:<br/>"
            ],
            "text/plain": [
              "<IPython.core.display.HTML object>"
            ]
          },
          "metadata": {},
          "output_type": "display_data"
        },
        {
          "data": {
            "text/html": [
              "Tracking run with wandb version 0.16.4"
            ],
            "text/plain": [
              "<IPython.core.display.HTML object>"
            ]
          },
          "metadata": {},
          "output_type": "display_data"
        },
        {
          "data": {
            "text/html": [
              "Run data is saved locally in <code>/content/wandb/run-20240321_142911-j8zch3jo</code>"
            ],
            "text/plain": [
              "<IPython.core.display.HTML object>"
            ]
          },
          "metadata": {},
          "output_type": "display_data"
        },
        {
          "data": {
            "text/html": [
              "Syncing run <strong><a href='https://wandb.ai/health-info/WPO%205%20task%204.1/runs/j8zch3jo' target=\"_blank\">generous-resonance-15</a></strong> to <a href='https://wandb.ai/health-info/WPO%205%20task%204.1' target=\"_blank\">Weights & Biases</a> (<a href='https://wandb.me/run' target=\"_blank\">docs</a>)<br/>"
            ],
            "text/plain": [
              "<IPython.core.display.HTML object>"
            ]
          },
          "metadata": {},
          "output_type": "display_data"
        },
        {
          "data": {
            "text/html": [
              " View project at <a href='https://wandb.ai/health-info/WPO%205%20task%204.1' target=\"_blank\">https://wandb.ai/health-info/WPO%205%20task%204.1</a>"
            ],
            "text/plain": [
              "<IPython.core.display.HTML object>"
            ]
          },
          "metadata": {},
          "output_type": "display_data"
        },
        {
          "data": {
            "text/html": [
              " View run at <a href='https://wandb.ai/health-info/WPO%205%20task%204.1/runs/j8zch3jo' target=\"_blank\">https://wandb.ai/health-info/WPO%205%20task%204.1/runs/j8zch3jo</a>"
            ],
            "text/plain": [
              "<IPython.core.display.HTML object>"
            ]
          },
          "metadata": {},
          "output_type": "display_data"
        },
        {
          "name": "stdout",
          "output_type": "stream",
          "text": [
            "Epoch 1/20\n",
            "66/66 [==============================] - 1s 3ms/step - loss: 0.6933 - accuracy: 0.5234\n",
            "Epoch 2/20\n",
            "66/66 [==============================] - 0s 4ms/step - loss: 0.6906 - accuracy: 0.5296\n",
            "Epoch 3/20\n",
            "66/66 [==============================] - 0s 3ms/step - loss: 0.6869 - accuracy: 0.5793\n",
            "Epoch 4/20\n",
            "66/66 [==============================] - 0s 4ms/step - loss: 0.6828 - accuracy: 0.6099\n",
            "Epoch 5/20\n",
            "66/66 [==============================] - 0s 3ms/step - loss: 0.6805 - accuracy: 0.6162\n",
            "Epoch 6/20\n",
            "66/66 [==============================] - 0s 3ms/step - loss: 0.6774 - accuracy: 0.6076\n",
            "Epoch 7/20\n",
            "66/66 [==============================] - 0s 3ms/step - loss: 0.6731 - accuracy: 0.6420\n",
            "Epoch 8/20\n",
            "66/66 [==============================] - 0s 3ms/step - loss: 0.6700 - accuracy: 0.6592\n",
            "Epoch 9/20\n",
            "66/66 [==============================] - 0s 3ms/step - loss: 0.6665 - accuracy: 0.7075\n",
            "Epoch 10/20\n",
            "66/66 [==============================] - 0s 4ms/step - loss: 0.6628 - accuracy: 0.7137\n",
            "Epoch 11/20\n",
            "66/66 [==============================] - 0s 4ms/step - loss: 0.6592 - accuracy: 0.6836\n",
            "Epoch 12/20\n",
            "66/66 [==============================] - 0s 4ms/step - loss: 0.6547 - accuracy: 0.7447\n",
            "Epoch 13/20\n",
            "66/66 [==============================] - 0s 5ms/step - loss: 0.6513 - accuracy: 0.6965\n",
            "Epoch 14/20\n",
            "66/66 [==============================] - 0s 4ms/step - loss: 0.6466 - accuracy: 0.7380\n",
            "Epoch 15/20\n",
            "66/66 [==============================] - 0s 5ms/step - loss: 0.6420 - accuracy: 0.7151\n",
            "Epoch 16/20\n",
            "66/66 [==============================] - 0s 5ms/step - loss: 0.6379 - accuracy: 0.7553\n",
            "Epoch 17/20\n",
            "66/66 [==============================] - 0s 5ms/step - loss: 0.6326 - accuracy: 0.7409\n",
            "Epoch 18/20\n",
            "66/66 [==============================] - 0s 5ms/step - loss: 0.6278 - accuracy: 0.7529\n",
            "Epoch 19/20\n",
            "66/66 [==============================] - 0s 4ms/step - loss: 0.6226 - accuracy: 0.7576\n",
            "Epoch 20/20\n",
            "66/66 [==============================] - 0s 4ms/step - loss: 0.6169 - accuracy: 0.7639\n",
            "Model: \"sequential_33\"\n",
            "_________________________________________________________________\n",
            " Layer (type)                Output Shape              Param #   \n",
            "=================================================================\n",
            " flatten_26 (Flatten)        (None, 400)               0         \n",
            "                                                                 \n",
            " dense_79 (Dense)            (None, 80)                32080     \n",
            "                                                                 \n",
            " dense_80 (Dense)            (None, 40)                3240      \n",
            "                                                                 \n",
            " dense_81 (Dense)            (None, 2)                 82        \n",
            "                                                                 \n",
            "=================================================================\n",
            "Total params: 35402 (138.29 KB)\n",
            "Trainable params: 35402 (138.29 KB)\n",
            "Non-trainable params: 0 (0.00 Byte)\n",
            "_________________________________________________________________\n"
          ]
        },
        {
          "data": {
            "text/html": [
              "Finishing last run (ID:j8zch3jo) before initializing another..."
            ],
            "text/plain": [
              "<IPython.core.display.HTML object>"
            ]
          },
          "metadata": {},
          "output_type": "display_data"
        },
        {
          "data": {
            "application/vnd.jupyter.widget-view+json": {
              "model_id": "48e82e7c9ba04f35979f541298094ab0",
              "version_major": 2,
              "version_minor": 0
            },
            "text/plain": [
              "VBox(children=(Label(value='0.001 MB of 0.001 MB uploaded\\r'), FloatProgress(value=1.0, max=1.0)))"
            ]
          },
          "metadata": {},
          "output_type": "display_data"
        },
        {
          "data": {
            "text/html": [
              "<style>\n",
              "    table.wandb td:nth-child(1) { padding: 0 10px; text-align: left ; width: auto;} td:nth-child(2) {text-align: left ; width: 100%}\n",
              "    .wandb-row { display: flex; flex-direction: row; flex-wrap: wrap; justify-content: flex-start; width: 100% }\n",
              "    .wandb-col { display: flex; flex-direction: column; flex-basis: 100%; flex: 1; padding: 10px; }\n",
              "    </style>\n",
              "<div class=\"wandb-row\"><div class=\"wandb-col\"><h3>Run history:</h3><br/><table class=\"wandb\"><tr><td>epoch/accuracy</td><td>▁▁▃▄▄▃▄▅▆▇▆▇▆▇▇█▇███</td></tr><tr><td>epoch/epoch</td><td>▁▁▂▂▂▃▃▄▄▄▅▅▅▆▆▇▇▇██</td></tr><tr><td>epoch/learning_rate</td><td>▁▁▁▁▁▁▁▁▁▁▁▁▁▁▁▁▁▁▁▁</td></tr><tr><td>epoch/loss</td><td>██▇▇▇▇▆▆▆▅▅▄▄▄▃▃▂▂▂▁</td></tr></table><br/></div><div class=\"wandb-col\"><h3>Run summary:</h3><br/><table class=\"wandb\"><tr><td>epoch/accuracy</td><td>0.76386</td></tr><tr><td>epoch/epoch</td><td>19</td></tr><tr><td>epoch/learning_rate</td><td>0.01</td></tr><tr><td>epoch/loss</td><td>0.61688</td></tr></table><br/></div></div>"
            ],
            "text/plain": [
              "<IPython.core.display.HTML object>"
            ]
          },
          "metadata": {},
          "output_type": "display_data"
        },
        {
          "data": {
            "text/html": [
              " View run <strong style=\"color:#cdcd00\">generous-resonance-15</strong> at: <a href='https://wandb.ai/health-info/WPO%205%20task%204.1/runs/j8zch3jo' target=\"_blank\">https://wandb.ai/health-info/WPO%205%20task%204.1/runs/j8zch3jo</a><br/>Synced 5 W&B file(s), 0 media file(s), 0 artifact file(s) and 0 other file(s)"
            ],
            "text/plain": [
              "<IPython.core.display.HTML object>"
            ]
          },
          "metadata": {},
          "output_type": "display_data"
        },
        {
          "data": {
            "text/html": [
              "Find logs at: <code>./wandb/run-20240321_142911-j8zch3jo/logs</code>"
            ],
            "text/plain": [
              "<IPython.core.display.HTML object>"
            ]
          },
          "metadata": {},
          "output_type": "display_data"
        },
        {
          "data": {
            "text/html": [
              "Successfully finished last run (ID:j8zch3jo). Initializing new run:<br/>"
            ],
            "text/plain": [
              "<IPython.core.display.HTML object>"
            ]
          },
          "metadata": {},
          "output_type": "display_data"
        },
        {
          "data": {
            "text/html": [
              "Tracking run with wandb version 0.16.4"
            ],
            "text/plain": [
              "<IPython.core.display.HTML object>"
            ]
          },
          "metadata": {},
          "output_type": "display_data"
        },
        {
          "data": {
            "text/html": [
              "Run data is saved locally in <code>/content/wandb/run-20240321_142931-plinrwd3</code>"
            ],
            "text/plain": [
              "<IPython.core.display.HTML object>"
            ]
          },
          "metadata": {},
          "output_type": "display_data"
        },
        {
          "data": {
            "text/html": [
              "Syncing run <strong><a href='https://wandb.ai/health-info/WPO%205%20task%204.1/runs/plinrwd3' target=\"_blank\">pious-pyramid-16</a></strong> to <a href='https://wandb.ai/health-info/WPO%205%20task%204.1' target=\"_blank\">Weights & Biases</a> (<a href='https://wandb.me/run' target=\"_blank\">docs</a>)<br/>"
            ],
            "text/plain": [
              "<IPython.core.display.HTML object>"
            ]
          },
          "metadata": {},
          "output_type": "display_data"
        },
        {
          "data": {
            "text/html": [
              " View project at <a href='https://wandb.ai/health-info/WPO%205%20task%204.1' target=\"_blank\">https://wandb.ai/health-info/WPO%205%20task%204.1</a>"
            ],
            "text/plain": [
              "<IPython.core.display.HTML object>"
            ]
          },
          "metadata": {},
          "output_type": "display_data"
        },
        {
          "data": {
            "text/html": [
              " View run at <a href='https://wandb.ai/health-info/WPO%205%20task%204.1/runs/plinrwd3' target=\"_blank\">https://wandb.ai/health-info/WPO%205%20task%204.1/runs/plinrwd3</a>"
            ],
            "text/plain": [
              "<IPython.core.display.HTML object>"
            ]
          },
          "metadata": {},
          "output_type": "display_data"
        },
        {
          "name": "stdout",
          "output_type": "stream",
          "text": [
            "Epoch 1/20\n",
            "44/44 [==============================] - 1s 4ms/step - loss: 0.6961 - accuracy: 0.5220\n",
            "Epoch 2/20\n",
            "44/44 [==============================] - 0s 5ms/step - loss: 0.6799 - accuracy: 0.5875\n",
            "Epoch 3/20\n",
            "44/44 [==============================] - 0s 4ms/step - loss: 0.6766 - accuracy: 0.6209\n",
            "Epoch 4/20\n",
            "44/44 [==============================] - 0s 3ms/step - loss: 0.6731 - accuracy: 0.6338\n",
            "Epoch 5/20\n",
            "44/44 [==============================] - 0s 3ms/step - loss: 0.6699 - accuracy: 0.6577\n",
            "Epoch 6/20\n",
            "44/44 [==============================] - 0s 3ms/step - loss: 0.6666 - accuracy: 0.6974\n",
            "Epoch 7/20\n",
            "44/44 [==============================] - 0s 3ms/step - loss: 0.6635 - accuracy: 0.6377\n",
            "Epoch 8/20\n",
            "44/44 [==============================] - 0s 4ms/step - loss: 0.6602 - accuracy: 0.6850\n",
            "Epoch 9/20\n",
            "44/44 [==============================] - 0s 3ms/step - loss: 0.6569 - accuracy: 0.7232\n",
            "Epoch 10/20\n",
            "44/44 [==============================] - 0s 3ms/step - loss: 0.6538 - accuracy: 0.6845\n",
            "Epoch 11/20\n",
            "44/44 [==============================] - 0s 3ms/step - loss: 0.6504 - accuracy: 0.6960\n",
            "Epoch 12/20\n",
            "44/44 [==============================] - 0s 4ms/step - loss: 0.6469 - accuracy: 0.6979\n",
            "Epoch 13/20\n",
            "44/44 [==============================] - 0s 3ms/step - loss: 0.6431 - accuracy: 0.6946\n",
            "Epoch 14/20\n",
            "44/44 [==============================] - 0s 3ms/step - loss: 0.6399 - accuracy: 0.7299\n",
            "Epoch 15/20\n",
            "44/44 [==============================] - 0s 4ms/step - loss: 0.6367 - accuracy: 0.7347\n",
            "Epoch 16/20\n",
            "44/44 [==============================] - 0s 4ms/step - loss: 0.6318 - accuracy: 0.7620\n",
            "Epoch 17/20\n",
            "44/44 [==============================] - 0s 3ms/step - loss: 0.6293 - accuracy: 0.7141\n",
            "Epoch 18/20\n",
            "44/44 [==============================] - 0s 4ms/step - loss: 0.6253 - accuracy: 0.7557\n",
            "Epoch 19/20\n",
            "44/44 [==============================] - 0s 3ms/step - loss: 0.6212 - accuracy: 0.7548\n",
            "Epoch 20/20\n",
            "44/44 [==============================] - 0s 3ms/step - loss: 0.6173 - accuracy: 0.7524\n",
            "Model: \"sequential_34\"\n",
            "_________________________________________________________________\n",
            " Layer (type)                Output Shape              Param #   \n",
            "=================================================================\n",
            " flatten_27 (Flatten)        (None, 400)               0         \n",
            "                                                                 \n",
            " dense_82 (Dense)            (None, 80)                32080     \n",
            "                                                                 \n",
            " dense_83 (Dense)            (None, 40)                3240      \n",
            "                                                                 \n",
            " dense_84 (Dense)            (None, 2)                 82        \n",
            "                                                                 \n",
            "=================================================================\n",
            "Total params: 35402 (138.29 KB)\n",
            "Trainable params: 35402 (138.29 KB)\n",
            "Non-trainable params: 0 (0.00 Byte)\n",
            "_________________________________________________________________\n"
          ]
        }
      ],
      "source": [
        "# Code for Part 2: Task 4.1\n",
        "print(f\"X: {X.shape}\\nY_train: {Y_train.shape}\")\n",
        "\n",
        "def model_3layers(batchSize):\n",
        "  model_3L = keras.Sequential()\n",
        "\n",
        "  model_3L.add(keras.layers.Flatten(input_shape=(20, 20, 1)))\n",
        "  model_3L.add(keras.layers.Dense(80, activation='sigmoid'))\n",
        "  model_3L.add(keras.layers.Dense(40, activation='sigmoid'))\n",
        "  model_3L.add(keras.layers.Dense(2, activation='softmax'))\n",
        "\n",
        "  model_3L.compile(optimizer = keras.optimizers.SGD(learning_rate=1e-2), loss='categorical_crossentropy', metrics='accuracy')\n",
        "  wandb.init(project='WPO 5 task 4.1')\n",
        "  model_3L.fit(X, Y_train, epochs = 20, callbacks=[WandbMetricsLogger()], batch_size=batchSize)\n",
        "\n",
        "  model_3L.summary()\n",
        "\n",
        "  return model_3L\n",
        "\n",
        "model_3L_BS8 = model_3layers(8)\n",
        "model_3L_BS24 = model_3layers(24)\n",
        "model_3L_BS32 = model_3layers(32)\n",
        "model_3L_BS48 = model_3layers(48)"
      ]
    },
    {
      "cell_type": "code",
      "execution_count": null,
      "metadata": {
        "colab": {
          "base_uri": "https://localhost:8080/",
          "height": 1000
        },
        "id": "qb4MNFGvGFS-",
        "outputId": "e2a71dc6-a082-41a7-a919-aee9df3e44da"
      },
      "outputs": [
        {
          "name": "stdout",
          "output_type": "stream",
          "text": [
            "8/8 [==============================] - 0s 2ms/step\n",
            "the confusion matrix is:\n",
            "[[ 61  38]\n",
            " [ 27 107]]\n",
            "the accuracy score is: 0.721030042918455\n"
          ]
        },
        {
          "data": {
            "image/png": "[encoded data removed]",
            "text/plain": [
              "<Figure size 640x480 with 1 Axes>"
            ]
          },
          "metadata": {},
          "output_type": "display_data"
        },
        {
          "name": "stdout",
          "output_type": "stream",
          "text": [
            "8/8 [==============================] - 0s 3ms/step\n",
            "the confusion matrix is:\n",
            "[[ 66  33]\n",
            " [ 23 111]]\n",
            "the accuracy score is: 0.759656652360515\n"
          ]
        },
        {
          "data": {
            "image/png": "[encoded data removed]",
            "text/plain": [
              "<Figure size 640x480 with 1 Axes>"
            ]
          },
          "metadata": {},
          "output_type": "display_data"
        },
        {
          "name": "stdout",
          "output_type": "stream",
          "text": [
            "8/8 [==============================] - 0s 3ms/step\n",
            "the confusion matrix is:\n",
            "[[ 63  36]\n",
            " [ 21 113]]\n",
            "the accuracy score is: 0.7553648068669528\n"
          ]
        },
        {
          "data": {
            "image/png": "[encoded data removed]",
            "text/plain": [
              "<Figure size 640x480 with 1 Axes>"
            ]
          },
          "metadata": {},
          "output_type": "display_data"
        },
        {
          "name": "stdout",
          "output_type": "stream",
          "text": [
            "8/8 [==============================] - 0s 3ms/step\n",
            "the confusion matrix is:\n",
            "[[ 63  36]\n",
            " [ 25 109]]\n",
            "the accuracy score is: 0.7381974248927039\n"
          ]
        },
        {
          "data": {
            "image/png": "[encoded data removed]",
            "text/plain": [
              "<Figure size 640x480 with 1 Axes>"
            ]
          },
          "metadata": {},
          "output_type": "display_data"
        }
      ],
      "source": [
        "confusion_matrix_model_3L_BS8, accuracy_model_3L_BS8, (fpr, tpr, thresholds) = perfomance_assessing(model_3L_BS8, X_val, Y_test, Y_labels, '3 layers, batch size: 8')\n",
        "confusion_matrix_model_3L_BS24, accuracy_model_3L_BS24, (fpr, tpr, thresholds) = perfomance_assessing(model_3L_BS24, X_val, Y_test, Y_labels, '3 layers, batch size: 24')\n",
        "confusion_matrix_model_3L_BS32, accuracy_model_3L_BS32, (fpr, tpr, thresholds) = perfomance_assessing(model_3L_BS32, X_val, Y_test, Y_labels, '3 layers, batch size: 32')\n",
        "confusion_matrix_model_3L_BS48, accuracy_model_3L_BS48, (fpr, tpr, thresholds) = perfomance_assessing(model_3L_BS48, X_val, Y_test, Y_labels, '3 layers, batch size: 48')"
      ]
    },
    {
      "cell_type": "markdown",
      "metadata": {
        "id": "X9jkrp-_w_tz"
      },
      "source": [
        "### Task 4.2: Relu!\n",
        "RELU = Rectified Linear Unit\n",
        "\n",
        "Let's try the same network but using RELU instead of sigmoid now."
      ]
    },
    {
      "cell_type": "code",
      "execution_count": null,
      "metadata": {
        "colab": {
          "base_uri": "https://localhost:8080/",
          "height": 219
        },
        "collapsed": true,
        "id": "_yEak5w5w_tz",
        "outputId": "94b5f7a6-7509-4735-a555-ca2fe484ecbd"
      },
      "outputs": [
        {
          "ename": "NameError",
          "evalue": "name 'keras' is not defined",
          "output_type": "error",
          "traceback": [
            "\u001b[0;31m---------------------------------------------------------------------------\u001b[0m",
            "\u001b[0;31mNameError\u001b[0m                                 Traceback (most recent call last)",
            "\u001b[0;32m<ipython-input-1-618c06b57c02>\u001b[0m in \u001b[0;36m<cell line: 2>\u001b[0;34m()\u001b[0m\n\u001b[1;32m      1\u001b[0m \u001b[0;31m# Code for Part 2: Task 4.2\u001b[0m\u001b[0;34m\u001b[0m\u001b[0;34m\u001b[0m\u001b[0m\n\u001b[0;32m----> 2\u001b[0;31m \u001b[0mmodelRELU\u001b[0m \u001b[0;34m=\u001b[0m \u001b[0mkeras\u001b[0m\u001b[0;34m.\u001b[0m\u001b[0mSequential\u001b[0m\u001b[0;34m(\u001b[0m\u001b[0;34m)\u001b[0m\u001b[0;34m\u001b[0m\u001b[0;34m\u001b[0m\u001b[0m\n\u001b[0m\u001b[1;32m      3\u001b[0m \u001b[0;31m#[ ]\u001b[0m\u001b[0;34m\u001b[0m\u001b[0;34m\u001b[0m\u001b[0m\n\u001b[1;32m      4\u001b[0m \u001b[0mmodelRELU\u001b[0m\u001b[0;34m.\u001b[0m\u001b[0madd\u001b[0m\u001b[0;34m(\u001b[0m\u001b[0mkeras\u001b[0m\u001b[0;34m.\u001b[0m\u001b[0mlayers\u001b[0m\u001b[0;34m.\u001b[0m\u001b[0mFlatten\u001b[0m\u001b[0;34m(\u001b[0m\u001b[0minput_shape\u001b[0m\u001b[0;34m=\u001b[0m\u001b[0;34m(\u001b[0m\u001b[0;36m20\u001b[0m\u001b[0;34m,\u001b[0m \u001b[0;36m20\u001b[0m\u001b[0;34m,\u001b[0m \u001b[0;36m1\u001b[0m\u001b[0;34m)\u001b[0m\u001b[0;34m)\u001b[0m\u001b[0;34m)\u001b[0m\u001b[0;34m\u001b[0m\u001b[0;34m\u001b[0m\u001b[0m\n\u001b[1;32m      5\u001b[0m \u001b[0mmodelRELU\u001b[0m\u001b[0;34m.\u001b[0m\u001b[0madd\u001b[0m\u001b[0;34m(\u001b[0m\u001b[0mkeras\u001b[0m\u001b[0;34m.\u001b[0m\u001b[0mlayers\u001b[0m\u001b[0;34m.\u001b[0m\u001b[0mDense\u001b[0m\u001b[0;34m(\u001b[0m\u001b[0;36m80\u001b[0m\u001b[0;34m,\u001b[0m \u001b[0mactivation\u001b[0m\u001b[0;34m=\u001b[0m\u001b[0;34m'relu'\u001b[0m\u001b[0;34m)\u001b[0m\u001b[0;34m)\u001b[0m\u001b[0;34m\u001b[0m\u001b[0;34m\u001b[0m\u001b[0m\n",
            "\u001b[0;31mNameError\u001b[0m: name 'keras' is not defined"
          ]
        }
      ],
      "source": [
        "# Code for Part 2: Task 4.2\n",
        "modelRELU = keras.Sequential()\n",
        "#[ ]\n",
        "modelRELU.add(keras.layers.Flatten(input_shape=(20, 20, 1)))\n",
        "modelRELU.add(keras.layers.Dense(80, activation='relu'))\n",
        "modelRELU.add(keras.layers.Dense(40, activation='relu'))\n",
        "modelRELU.add(keras.layers.Dense(2, activation='softmax'))\n",
        "# model.compile(optimizer='sgd', loss='categorical_crossentropy', metrics='accuracy')\n",
        "modelRELU.compile(optimizer = keras.optimizers.SGD(learning_rate=1e-4), loss='categorical_crossentropy', metrics='accuracy')\n",
        "wandb.init(project='WPO 5 task 4.2')\n",
        "modelRELU.fit(X, Y_train, epochs = 20, callbacks=[WandbMetricsLogger()], batch_size=8)\n",
        "modelRELU.summary()\n",
        "# To automatically integrate wandb in your Keras model.fit function,\n",
        "#model.fit(X_train, Y_train, epochs = 10)\n",
        "history = modelRELU.fit(X, Y_train, epochs=20, validation_data=(X_val, Y_test), callbacks=[WandbMetricsLogger()], batch_size=8)"
      ]
    },
    {
      "cell_type": "code",
      "execution_count": null,
      "metadata": {
        "colab": {
          "base_uri": "https://localhost:8080/",
          "height": 563
        },
        "id": "z8395YpWGDCO",
        "outputId": "3a84d706-0ed7-417c-c584-b73f08e29189"
      },
      "outputs": [
        {
          "name": "stdout",
          "output_type": "stream",
          "text": [
            "8/8 [==============================] - 0s 7ms/step\n",
            "the confusion matrix is:\n",
            "[[80 19]\n",
            " [43 91]]\n",
            "the accuracy score is: 0.7339055793991416\n"
          ]
        },
        {
          "data": {
            "image/png": "[encoded data removed]",
            "text/plain": [
              "<Figure size 640x480 with 1 Axes>"
            ]
          },
          "metadata": {},
          "output_type": "display_data"
        }
      ],
      "source": [
        "confusion_matrix_modelRELU, accuracy_modelRELU, (fpr, tpr, thresholds) = perfomance_assessing(modelRELU, X_val, Y_test, Y_labels, 'RELU')"
      ]
    },
    {
      "cell_type": "markdown",
      "metadata": {
        "id": "Q-dC3UrBw_t0"
      },
      "source": [
        "### Task 4.3: Dropout!\n",
        "Now lets add two dropout layers (each after the dense layer with relu activation). Some recommended values to investigate are 0.9, 0.5, 0.1. Explain the results."
      ]
    },
    {
      "cell_type": "code",
      "execution_count": null,
      "metadata": {
        "id": "RLp1S7Vbw_t0"
      },
      "outputs": [],
      "source": [
        "# Your answer here\n",
        "# Maybe there's underfitting with a higher dropout rate!!"
      ]
    },
    {
      "cell_type": "code",
      "execution_count": null,
      "metadata": {
        "colab": {
          "base_uri": "https://localhost:8080/",
          "height": 1000,
          "referenced_widgets": [
            "ae813c85b649414eb832f9343054e69f",
            "cf71eeba9b164458867d1015aad8b5ad",
            "a07ab11750024396858da8c0dddaa360",
            "b38c2741a78b4bab8de04a7739cefec0",
            "1e805b1f4fb6486daec62117896cda5d",
            "52026ef00feb44b8888f9f070bcbd815",
            "07a6161c413c4d72b0b1ecb01664e610",
            "238a770a46154f3a87ab3f60e7ff245f",
            "c1bb81125390475ebe9174bf5b6569c2",
            "efdee16f479f461185a3b8602087e117",
            "00820ff60cd34349a2a46063b8d15360",
            "f6a0a7988c36422a83b2836f4c746d0d",
            "0b795209fa224d199fbea440807671fd",
            "41a5b5536b6b4a5d831152ca0cc023d0",
            "8b31b9c1a59948438de3f295ed8d33d7",
            "a8a33a0c920e4d8eb10970de3d75fe73",
            "de41bea323204239b9450ea4de2d3664",
            "5265abf2c18e4291b71d49b3d14a884e",
            "294471e28c9a4e6da32e5aae848db999",
            "920503b8fbb2475b99ef47f5d5a822ad",
            "0b31d9ca454444ea9a8dc62f05135750",
            "d6e9c5bbc12346bea4d27d11cedbdb0e",
            "0972a9a199aa4415a7e88a6404b328e3",
            "18b7596b1779401ea2cb008f8060d89b",
            "311715914b1847a99f26a0cf29821254",
            "07a171d0692249b293756362c5cc8597",
            "80ae8c6c0ef9406dbfea9a4e553ac3a2",
            "44b09b66dc02455092e6676a790e24f2",
            "ccd5304584c24f8eb45299eb8e39af76",
            "226d4d8a045d4461bf77cfc8355679d4",
            "d77c5fa25f01422098b0841123159d54",
            "864e8c5e0db042a488150ed864cc8ce1"
          ]
        },
        "collapsed": true,
        "id": "cbyNUbVjw_t1",
        "outputId": "7500d87d-d85d-4367-ee4a-7f3850b93fea"
      },
      "outputs": [
        {
          "data": {
            "text/html": [
              "Finishing last run (ID:k16rjbd3) before initializing another..."
            ],
            "text/plain": [
              "<IPython.core.display.HTML object>"
            ]
          },
          "metadata": {},
          "output_type": "display_data"
        },
        {
          "data": {
            "application/vnd.jupyter.widget-view+json": {
              "model_id": "ae813c85b649414eb832f9343054e69f",
              "version_major": 2,
              "version_minor": 0
            },
            "text/plain": [
              "VBox(children=(Label(value='0.001 MB of 0.001 MB uploaded\\r'), FloatProgress(value=1.0, max=1.0)))"
            ]
          },
          "metadata": {},
          "output_type": "display_data"
        },
        {
          "data": {
            "text/html": [
              "<style>\n",
              "    table.wandb td:nth-child(1) { padding: 0 10px; text-align: left ; width: auto;} td:nth-child(2) {text-align: left ; width: 100%}\n",
              "    .wandb-row { display: flex; flex-direction: row; flex-wrap: wrap; justify-content: flex-start; width: 100% }\n",
              "    .wandb-col { display: flex; flex-direction: column; flex-basis: 100%; flex: 1; padding: 10px; }\n",
              "    </style>\n",
              "<div class=\"wandb-row\"><div class=\"wandb-col\"><h3>Run history:</h3><br/><table class=\"wandb\"><tr><td>epoch/accuracy</td><td>▁▁▂▁▂▂▂▃▃▃▃▄▄▃▄▃▅▄▄▄▅▅▅▅▅▆▅▆▇▇▆▆▆▆▆▇▆██▇</td></tr><tr><td>epoch/epoch</td><td>▁▁▂▂▂▃▃▄▄▄▅▅▅▆▆▇▇▇██▁▁▂▂▂▃▃▄▄▄▅▅▅▆▆▇▇▇██</td></tr><tr><td>epoch/learning_rate</td><td>▁▁▁▁▁▁▁▁▁▁▁▁▁▁▁▁▁▁▁▁▁▁▁▁▁▁▁▁▁▁▁▁▁▁▁▁▁▁▁▁</td></tr><tr><td>epoch/loss</td><td>█▇▇▇▇▆▆▆▆▅▅▅▅▆▅▅▄▄▄▅▄▃▄▄▃▃▃▃▃▂▂▂▂▂▂▁▂▁▁▂</td></tr><tr><td>epoch/val_accuracy</td><td>▇▅▅▅▇▇▇▇▇▇▇█▇▇▁▂▁▁▂▂</td></tr><tr><td>epoch/val_loss</td><td>██▇▇▇▆▆▅▅▄▄▄▃▃▃▂▂▂▁▁</td></tr></table><br/></div><div class=\"wandb-col\"><h3>Run summary:</h3><br/><table class=\"wandb\"><tr><td>epoch/accuracy</td><td>0.66826</td></tr><tr><td>epoch/epoch</td><td>19</td></tr><tr><td>epoch/learning_rate</td><td>0.0001</td></tr><tr><td>epoch/loss</td><td>0.63057</td></tr><tr><td>epoch/val_accuracy</td><td>0.6867</td></tr><tr><td>epoch/val_loss</td><td>0.62991</td></tr></table><br/></div></div>"
            ],
            "text/plain": [
              "<IPython.core.display.HTML object>"
            ]
          },
          "metadata": {},
          "output_type": "display_data"
        },
        {
          "data": {
            "text/html": [
              " View run <strong style=\"color:#cdcd00\">winter-lake-1</strong> at: <a href='https://wandb.ai/health-info/WPO%205%20task%204.3/runs/k16rjbd3' target=\"_blank\">https://wandb.ai/health-info/WPO%205%20task%204.3/runs/k16rjbd3</a><br/>Synced 5 W&B file(s), 0 media file(s), 0 artifact file(s) and 0 other file(s)"
            ],
            "text/plain": [
              "<IPython.core.display.HTML object>"
            ]
          },
          "metadata": {},
          "output_type": "display_data"
        },
        {
          "data": {
            "text/html": [
              "Find logs at: <code>./wandb/run-20240321_134358-k16rjbd3/logs</code>"
            ],
            "text/plain": [
              "<IPython.core.display.HTML object>"
            ]
          },
          "metadata": {},
          "output_type": "display_data"
        },
        {
          "data": {
            "text/html": [
              "Successfully finished last run (ID:k16rjbd3). Initializing new run:<br/>"
            ],
            "text/plain": [
              "<IPython.core.display.HTML object>"
            ]
          },
          "metadata": {},
          "output_type": "display_data"
        },
        {
          "data": {
            "text/html": [
              "Tracking run with wandb version 0.16.4"
            ],
            "text/plain": [
              "<IPython.core.display.HTML object>"
            ]
          },
          "metadata": {},
          "output_type": "display_data"
        },
        {
          "data": {
            "text/html": [
              "Run data is saved locally in <code>/content/wandb/run-20240321_135228-si7e4rgl</code>"
            ],
            "text/plain": [
              "<IPython.core.display.HTML object>"
            ]
          },
          "metadata": {},
          "output_type": "display_data"
        },
        {
          "data": {
            "text/html": [
              "Syncing run <strong><a href='https://wandb.ai/health-info/WPO%205%20task%204.3/runs/si7e4rgl' target=\"_blank\">absurd-sponge-2</a></strong> to <a href='https://wandb.ai/health-info/WPO%205%20task%204.3' target=\"_blank\">Weights & Biases</a> (<a href='https://wandb.me/run' target=\"_blank\">docs</a>)<br/>"
            ],
            "text/plain": [
              "<IPython.core.display.HTML object>"
            ]
          },
          "metadata": {},
          "output_type": "display_data"
        },
        {
          "data": {
            "text/html": [
              " View project at <a href='https://wandb.ai/health-info/WPO%205%20task%204.3' target=\"_blank\">https://wandb.ai/health-info/WPO%205%20task%204.3</a>"
            ],
            "text/plain": [
              "<IPython.core.display.HTML object>"
            ]
          },
          "metadata": {},
          "output_type": "display_data"
        },
        {
          "data": {
            "text/html": [
              " View run at <a href='https://wandb.ai/health-info/WPO%205%20task%204.3/runs/si7e4rgl' target=\"_blank\">https://wandb.ai/health-info/WPO%205%20task%204.3/runs/si7e4rgl</a>"
            ],
            "text/plain": [
              "<IPython.core.display.HTML object>"
            ]
          },
          "metadata": {},
          "output_type": "display_data"
        },
        {
          "name": "stdout",
          "output_type": "stream",
          "text": [
            "Epoch 1/20\n",
            "262/262 [==============================] - 1s 3ms/step - loss: 0.7035 - accuracy: 0.4866\n",
            "Epoch 2/20\n",
            "262/262 [==============================] - 1s 3ms/step - loss: 0.6865 - accuracy: 0.4990\n",
            "Epoch 3/20\n",
            "262/262 [==============================] - 1s 3ms/step - loss: 0.6757 - accuracy: 0.5258\n",
            "Epoch 4/20\n",
            "262/262 [==============================] - 1s 3ms/step - loss: 0.6668 - accuracy: 0.5411\n",
            "Epoch 5/20\n",
            "262/262 [==============================] - 1s 3ms/step - loss: 0.6601 - accuracy: 0.5550\n",
            "Epoch 6/20\n",
            "262/262 [==============================] - 1s 4ms/step - loss: 0.6571 - accuracy: 0.5765\n",
            "Epoch 7/20\n",
            "262/262 [==============================] - 2s 8ms/step - loss: 0.6511 - accuracy: 0.6047\n",
            "Epoch 8/20\n",
            "262/262 [==============================] - 1s 5ms/step - loss: 0.6400 - accuracy: 0.6066\n",
            "Epoch 9/20\n",
            "262/262 [==============================] - 2s 8ms/step - loss: 0.6354 - accuracy: 0.6324\n",
            "Epoch 10/20\n",
            "262/262 [==============================] - 1s 5ms/step - loss: 0.6347 - accuracy: 0.6472\n",
            "Epoch 11/20\n",
            "262/262 [==============================] - 1s 5ms/step - loss: 0.6235 - accuracy: 0.6716\n",
            "Epoch 12/20\n",
            "262/262 [==============================] - 1s 5ms/step - loss: 0.6238 - accuracy: 0.6601\n",
            "Epoch 13/20\n",
            "262/262 [==============================] - 1s 5ms/step - loss: 0.6177 - accuracy: 0.6859\n",
            "Epoch 14/20\n",
            "262/262 [==============================] - 1s 5ms/step - loss: 0.6172 - accuracy: 0.6783\n",
            "Epoch 15/20\n",
            "262/262 [==============================] - 1s 4ms/step - loss: 0.6122 - accuracy: 0.6759\n",
            "Epoch 16/20\n",
            "262/262 [==============================] - 1s 5ms/step - loss: 0.6123 - accuracy: 0.6750\n",
            "Epoch 17/20\n",
            "262/262 [==============================] - 1s 5ms/step - loss: 0.6045 - accuracy: 0.6912\n",
            "Epoch 18/20\n",
            "262/262 [==============================] - 2s 6ms/step - loss: 0.6053 - accuracy: 0.7008\n",
            "Epoch 19/20\n",
            "262/262 [==============================] - 2s 6ms/step - loss: 0.5982 - accuracy: 0.7141\n",
            "Epoch 20/20\n",
            "262/262 [==============================] - 2s 7ms/step - loss: 0.5956 - accuracy: 0.7051\n",
            "Model: \"sequential_21\"\n",
            "_________________________________________________________________\n",
            " Layer (type)                Output Shape              Param #   \n",
            "=================================================================\n",
            " flatten_14 (Flatten)        (None, 400)               0         \n",
            "                                                                 \n",
            " dense_43 (Dense)            (None, 80)                32080     \n",
            "                                                                 \n",
            " dropout_2 (Dropout)         (None, 80)                0         \n",
            "                                                                 \n",
            " dense_44 (Dense)            (None, 40)                3240      \n",
            "                                                                 \n",
            " dropout_3 (Dropout)         (None, 40)                0         \n",
            "                                                                 \n",
            " dense_45 (Dense)            (None, 2)                 82        \n",
            "                                                                 \n",
            "=================================================================\n",
            "Total params: 35402 (138.29 KB)\n",
            "Trainable params: 35402 (138.29 KB)\n",
            "Non-trainable params: 0 (0.00 Byte)\n",
            "_________________________________________________________________\n"
          ]
        },
        {
          "data": {
            "text/html": [
              "Finishing last run (ID:si7e4rgl) before initializing another..."
            ],
            "text/plain": [
              "<IPython.core.display.HTML object>"
            ]
          },
          "metadata": {},
          "output_type": "display_data"
        },
        {
          "data": {
            "application/vnd.jupyter.widget-view+json": {
              "model_id": "c1bb81125390475ebe9174bf5b6569c2",
              "version_major": 2,
              "version_minor": 0
            },
            "text/plain": [
              "VBox(children=(Label(value='0.010 MB of 0.013 MB uploaded\\r'), FloatProgress(value=0.7275423115868653, max=1.0…"
            ]
          },
          "metadata": {},
          "output_type": "display_data"
        },
        {
          "data": {
            "text/html": [
              "<style>\n",
              "    table.wandb td:nth-child(1) { padding: 0 10px; text-align: left ; width: auto;} td:nth-child(2) {text-align: left ; width: 100%}\n",
              "    .wandb-row { display: flex; flex-direction: row; flex-wrap: wrap; justify-content: flex-start; width: 100% }\n",
              "    .wandb-col { display: flex; flex-direction: column; flex-basis: 100%; flex: 1; padding: 10px; }\n",
              "    </style>\n",
              "<div class=\"wandb-row\"><div class=\"wandb-col\"><h3>Run history:</h3><br/><table class=\"wandb\"><tr><td>epoch/accuracy</td><td>▁▁▂▃▃▄▅▅▅▆▇▆▇▇▇▇▇███</td></tr><tr><td>epoch/epoch</td><td>▁▁▂▂▂▃▃▄▄▄▅▅▅▆▆▇▇▇██</td></tr><tr><td>epoch/learning_rate</td><td>▁▁▁▁▁▁▁▁▁▁▁▁▁▁▁▁▁▁▁▁</td></tr><tr><td>epoch/loss</td><td>█▇▆▆▅▅▅▄▄▄▃▃▂▂▂▂▂▂▁▁</td></tr></table><br/></div><div class=\"wandb-col\"><h3>Run summary:</h3><br/><table class=\"wandb\"><tr><td>epoch/accuracy</td><td>0.70507</td></tr><tr><td>epoch/epoch</td><td>19</td></tr><tr><td>epoch/learning_rate</td><td>0.0001</td></tr><tr><td>epoch/loss</td><td>0.5956</td></tr></table><br/></div></div>"
            ],
            "text/plain": [
              "<IPython.core.display.HTML object>"
            ]
          },
          "metadata": {},
          "output_type": "display_data"
        },
        {
          "data": {
            "text/html": [
              " View run <strong style=\"color:#cdcd00\">absurd-sponge-2</strong> at: <a href='https://wandb.ai/health-info/WPO%205%20task%204.3/runs/si7e4rgl' target=\"_blank\">https://wandb.ai/health-info/WPO%205%20task%204.3/runs/si7e4rgl</a><br/>Synced 5 W&B file(s), 0 media file(s), 0 artifact file(s) and 0 other file(s)"
            ],
            "text/plain": [
              "<IPython.core.display.HTML object>"
            ]
          },
          "metadata": {},
          "output_type": "display_data"
        },
        {
          "data": {
            "text/html": [
              "Find logs at: <code>./wandb/run-20240321_135228-si7e4rgl/logs</code>"
            ],
            "text/plain": [
              "<IPython.core.display.HTML object>"
            ]
          },
          "metadata": {},
          "output_type": "display_data"
        },
        {
          "data": {
            "text/html": [
              "Successfully finished last run (ID:si7e4rgl). Initializing new run:<br/>"
            ],
            "text/plain": [
              "<IPython.core.display.HTML object>"
            ]
          },
          "metadata": {},
          "output_type": "display_data"
        },
        {
          "data": {
            "text/html": [
              "Tracking run with wandb version 0.16.4"
            ],
            "text/plain": [
              "<IPython.core.display.HTML object>"
            ]
          },
          "metadata": {},
          "output_type": "display_data"
        },
        {
          "data": {
            "text/html": [
              "Run data is saved locally in <code>/content/wandb/run-20240321_135319-twfba4yj</code>"
            ],
            "text/plain": [
              "<IPython.core.display.HTML object>"
            ]
          },
          "metadata": {},
          "output_type": "display_data"
        },
        {
          "data": {
            "text/html": [
              "Syncing run <strong><a href='https://wandb.ai/health-info/WPO%205%20task%204.3/runs/twfba4yj' target=\"_blank\">denim-plasma-3</a></strong> to <a href='https://wandb.ai/health-info/WPO%205%20task%204.3' target=\"_blank\">Weights & Biases</a> (<a href='https://wandb.me/run' target=\"_blank\">docs</a>)<br/>"
            ],
            "text/plain": [
              "<IPython.core.display.HTML object>"
            ]
          },
          "metadata": {},
          "output_type": "display_data"
        },
        {
          "data": {
            "text/html": [
              " View project at <a href='https://wandb.ai/health-info/WPO%205%20task%204.3' target=\"_blank\">https://wandb.ai/health-info/WPO%205%20task%204.3</a>"
            ],
            "text/plain": [
              "<IPython.core.display.HTML object>"
            ]
          },
          "metadata": {},
          "output_type": "display_data"
        },
        {
          "data": {
            "text/html": [
              " View run at <a href='https://wandb.ai/health-info/WPO%205%20task%204.3/runs/twfba4yj' target=\"_blank\">https://wandb.ai/health-info/WPO%205%20task%204.3/runs/twfba4yj</a>"
            ],
            "text/plain": [
              "<IPython.core.display.HTML object>"
            ]
          },
          "metadata": {},
          "output_type": "display_data"
        },
        {
          "name": "stdout",
          "output_type": "stream",
          "text": [
            "Epoch 1/20\n",
            "262/262 [==============================] - 2s 4ms/step - loss: 0.8109 - accuracy: 0.5234\n",
            "Epoch 2/20\n",
            "262/262 [==============================] - 1s 5ms/step - loss: 0.8073 - accuracy: 0.4943\n",
            "Epoch 3/20\n",
            "262/262 [==============================] - 1s 4ms/step - loss: 0.7775 - accuracy: 0.5134\n",
            "Epoch 4/20\n",
            "262/262 [==============================] - 1s 3ms/step - loss: 0.7428 - accuracy: 0.5459\n",
            "Epoch 5/20\n",
            "262/262 [==============================] - 1s 3ms/step - loss: 0.7453 - accuracy: 0.5225\n",
            "Epoch 6/20\n",
            "262/262 [==============================] - 1s 3ms/step - loss: 0.7368 - accuracy: 0.5272\n",
            "Epoch 7/20\n",
            "262/262 [==============================] - 1s 3ms/step - loss: 0.7301 - accuracy: 0.5172\n",
            "Epoch 8/20\n",
            "262/262 [==============================] - 1s 3ms/step - loss: 0.7300 - accuracy: 0.5067\n",
            "Epoch 9/20\n",
            "262/262 [==============================] - 1s 2ms/step - loss: 0.7360 - accuracy: 0.5210\n",
            "Epoch 10/20\n",
            "262/262 [==============================] - 1s 2ms/step - loss: 0.7101 - accuracy: 0.5459\n",
            "Epoch 11/20\n",
            "262/262 [==============================] - 1s 2ms/step - loss: 0.7114 - accuracy: 0.5258\n",
            "Epoch 12/20\n",
            "262/262 [==============================] - 1s 2ms/step - loss: 0.7156 - accuracy: 0.5344\n",
            "Epoch 13/20\n",
            "262/262 [==============================] - 1s 2ms/step - loss: 0.7119 - accuracy: 0.5368\n",
            "Epoch 14/20\n",
            "262/262 [==============================] - 1s 2ms/step - loss: 0.7176 - accuracy: 0.5363\n",
            "Epoch 15/20\n",
            "262/262 [==============================] - 1s 3ms/step - loss: 0.6992 - accuracy: 0.5392\n",
            "Epoch 16/20\n",
            "262/262 [==============================] - 1s 3ms/step - loss: 0.7024 - accuracy: 0.5263\n",
            "Epoch 17/20\n",
            "262/262 [==============================] - 1s 3ms/step - loss: 0.6922 - accuracy: 0.5511\n",
            "Epoch 18/20\n",
            "262/262 [==============================] - 1s 4ms/step - loss: 0.6928 - accuracy: 0.5607\n",
            "Epoch 19/20\n",
            "262/262 [==============================] - 1s 4ms/step - loss: 0.6954 - accuracy: 0.5349\n",
            "Epoch 20/20\n",
            "262/262 [==============================] - 1s 4ms/step - loss: 0.6940 - accuracy: 0.5578\n",
            "Model: \"sequential_22\"\n",
            "_________________________________________________________________\n",
            " Layer (type)                Output Shape              Param #   \n",
            "=================================================================\n",
            " flatten_15 (Flatten)        (None, 400)               0         \n",
            "                                                                 \n",
            " dense_46 (Dense)            (None, 80)                32080     \n",
            "                                                                 \n",
            " dropout_4 (Dropout)         (None, 80)                0         \n",
            "                                                                 \n",
            " dense_47 (Dense)            (None, 40)                3240      \n",
            "                                                                 \n",
            " dropout_5 (Dropout)         (None, 40)                0         \n",
            "                                                                 \n",
            " dense_48 (Dense)            (None, 2)                 82        \n",
            "                                                                 \n",
            "=================================================================\n",
            "Total params: 35402 (138.29 KB)\n",
            "Trainable params: 35402 (138.29 KB)\n",
            "Non-trainable params: 0 (0.00 Byte)\n",
            "_________________________________________________________________\n"
          ]
        },
        {
          "data": {
            "text/html": [
              "Finishing last run (ID:twfba4yj) before initializing another..."
            ],
            "text/plain": [
              "<IPython.core.display.HTML object>"
            ]
          },
          "metadata": {},
          "output_type": "display_data"
        },
        {
          "data": {
            "application/vnd.jupyter.widget-view+json": {
              "model_id": "de41bea323204239b9450ea4de2d3664",
              "version_major": 2,
              "version_minor": 0
            },
            "text/plain": [
              "VBox(children=(Label(value='0.013 MB of 0.013 MB uploaded\\r'), FloatProgress(value=1.0, max=1.0)))"
            ]
          },
          "metadata": {},
          "output_type": "display_data"
        },
        {
          "data": {
            "text/html": [
              "<style>\n",
              "    table.wandb td:nth-child(1) { padding: 0 10px; text-align: left ; width: auto;} td:nth-child(2) {text-align: left ; width: 100%}\n",
              "    .wandb-row { display: flex; flex-direction: row; flex-wrap: wrap; justify-content: flex-start; width: 100% }\n",
              "    .wandb-col { display: flex; flex-direction: column; flex-basis: 100%; flex: 1; padding: 10px; }\n",
              "    </style>\n",
              "<div class=\"wandb-row\"><div class=\"wandb-col\"><h3>Run history:</h3><br/><table class=\"wandb\"><tr><td>epoch/accuracy</td><td>▄▁▃▆▄▄▃▂▄▆▄▅▅▅▆▄▇█▅█</td></tr><tr><td>epoch/epoch</td><td>▁▁▂▂▂▃▃▄▄▄▅▅▅▆▆▇▇▇██</td></tr><tr><td>epoch/learning_rate</td><td>▁▁▁▁▁▁▁▁▁▁▁▁▁▁▁▁▁▁▁▁</td></tr><tr><td>epoch/loss</td><td>██▆▄▄▄▃▃▄▂▂▂▂▂▁▂▁▁▁▁</td></tr></table><br/></div><div class=\"wandb-col\"><h3>Run summary:</h3><br/><table class=\"wandb\"><tr><td>epoch/accuracy</td><td>0.55784</td></tr><tr><td>epoch/epoch</td><td>19</td></tr><tr><td>epoch/learning_rate</td><td>0.0001</td></tr><tr><td>epoch/loss</td><td>0.69396</td></tr></table><br/></div></div>"
            ],
            "text/plain": [
              "<IPython.core.display.HTML object>"
            ]
          },
          "metadata": {},
          "output_type": "display_data"
        },
        {
          "data": {
            "text/html": [
              " View run <strong style=\"color:#cdcd00\">denim-plasma-3</strong> at: <a href='https://wandb.ai/health-info/WPO%205%20task%204.3/runs/twfba4yj' target=\"_blank\">https://wandb.ai/health-info/WPO%205%20task%204.3/runs/twfba4yj</a><br/>Synced 5 W&B file(s), 0 media file(s), 0 artifact file(s) and 0 other file(s)"
            ],
            "text/plain": [
              "<IPython.core.display.HTML object>"
            ]
          },
          "metadata": {},
          "output_type": "display_data"
        },
        {
          "data": {
            "text/html": [
              "Find logs at: <code>./wandb/run-20240321_135319-twfba4yj/logs</code>"
            ],
            "text/plain": [
              "<IPython.core.display.HTML object>"
            ]
          },
          "metadata": {},
          "output_type": "display_data"
        },
        {
          "data": {
            "text/html": [
              "Successfully finished last run (ID:twfba4yj). Initializing new run:<br/>"
            ],
            "text/plain": [
              "<IPython.core.display.HTML object>"
            ]
          },
          "metadata": {},
          "output_type": "display_data"
        },
        {
          "data": {
            "application/vnd.jupyter.widget-view+json": {
              "model_id": "311715914b1847a99f26a0cf29821254",
              "version_major": 2,
              "version_minor": 0
            },
            "text/plain": [
              "VBox(children=(Label(value='Waiting for wandb.init()...\\r'), FloatProgress(value=0.011112895833341302, max=1.0…"
            ]
          },
          "metadata": {},
          "output_type": "display_data"
        },
        {
          "data": {
            "text/html": [
              "Tracking run with wandb version 0.16.4"
            ],
            "text/plain": [
              "<IPython.core.display.HTML object>"
            ]
          },
          "metadata": {},
          "output_type": "display_data"
        },
        {
          "data": {
            "text/html": [
              "Run data is saved locally in <code>/content/wandb/run-20240321_135348-sr4ew4t4</code>"
            ],
            "text/plain": [
              "<IPython.core.display.HTML object>"
            ]
          },
          "metadata": {},
          "output_type": "display_data"
        },
        {
          "data": {
            "text/html": [
              "Syncing run <strong><a href='https://wandb.ai/health-info/WPO%205%20task%204.3/runs/sr4ew4t4' target=\"_blank\">stoic-breeze-4</a></strong> to <a href='https://wandb.ai/health-info/WPO%205%20task%204.3' target=\"_blank\">Weights & Biases</a> (<a href='https://wandb.me/run' target=\"_blank\">docs</a>)<br/>"
            ],
            "text/plain": [
              "<IPython.core.display.HTML object>"
            ]
          },
          "metadata": {},
          "output_type": "display_data"
        },
        {
          "data": {
            "text/html": [
              " View project at <a href='https://wandb.ai/health-info/WPO%205%20task%204.3' target=\"_blank\">https://wandb.ai/health-info/WPO%205%20task%204.3</a>"
            ],
            "text/plain": [
              "<IPython.core.display.HTML object>"
            ]
          },
          "metadata": {},
          "output_type": "display_data"
        },
        {
          "data": {
            "text/html": [
              " View run at <a href='https://wandb.ai/health-info/WPO%205%20task%204.3/runs/sr4ew4t4' target=\"_blank\">https://wandb.ai/health-info/WPO%205%20task%204.3/runs/sr4ew4t4</a>"
            ],
            "text/plain": [
              "<IPython.core.display.HTML object>"
            ]
          },
          "metadata": {},
          "output_type": "display_data"
        },
        {
          "name": "stdout",
          "output_type": "stream",
          "text": [
            "Epoch 1/20\n",
            "262/262 [==============================] - 1s 3ms/step - loss: 1.7482 - accuracy: 0.4990\n",
            "Epoch 2/20\n",
            "262/262 [==============================] - 1s 3ms/step - loss: 1.6335 - accuracy: 0.4799\n",
            "Epoch 3/20\n",
            "262/262 [==============================] - 1s 3ms/step - loss: 1.4113 - accuracy: 0.5143\n",
            "Epoch 4/20\n",
            "262/262 [==============================] - 1s 3ms/step - loss: 1.2357 - accuracy: 0.5215\n",
            "Epoch 5/20\n",
            "262/262 [==============================] - 1s 3ms/step - loss: 1.0789 - accuracy: 0.5143\n",
            "Epoch 6/20\n",
            "262/262 [==============================] - 1s 3ms/step - loss: 1.0363 - accuracy: 0.5158\n",
            "Epoch 7/20\n",
            "262/262 [==============================] - 1s 3ms/step - loss: 0.9555 - accuracy: 0.5010\n",
            "Epoch 8/20\n",
            "262/262 [==============================] - 1s 3ms/step - loss: 0.9060 - accuracy: 0.4938\n",
            "Epoch 9/20\n",
            "262/262 [==============================] - 1s 3ms/step - loss: 0.8654 - accuracy: 0.5067\n",
            "Epoch 10/20\n",
            "262/262 [==============================] - 1s 4ms/step - loss: 0.8475 - accuracy: 0.5292\n",
            "Epoch 11/20\n",
            "262/262 [==============================] - 1s 4ms/step - loss: 0.8290 - accuracy: 0.5081\n",
            "Epoch 12/20\n",
            "262/262 [==============================] - 1s 4ms/step - loss: 0.8248 - accuracy: 0.4962\n",
            "Epoch 13/20\n",
            "262/262 [==============================] - 1s 4ms/step - loss: 0.8164 - accuracy: 0.5330\n",
            "Epoch 14/20\n",
            "262/262 [==============================] - 1s 3ms/step - loss: 0.7668 - accuracy: 0.5167\n",
            "Epoch 15/20\n",
            "262/262 [==============================] - 1s 3ms/step - loss: 0.7681 - accuracy: 0.5402\n",
            "Epoch 16/20\n",
            "262/262 [==============================] - 1s 3ms/step - loss: 0.7502 - accuracy: 0.5535\n",
            "Epoch 17/20\n",
            "262/262 [==============================] - 1s 3ms/step - loss: 0.7511 - accuracy: 0.5177\n",
            "Epoch 18/20\n",
            "262/262 [==============================] - 1s 3ms/step - loss: 0.7294 - accuracy: 0.5301\n",
            "Epoch 19/20\n",
            "262/262 [==============================] - 1s 3ms/step - loss: 0.7566 - accuracy: 0.5387\n",
            "Epoch 20/20\n",
            "262/262 [==============================] - 1s 3ms/step - loss: 0.7474 - accuracy: 0.5425\n",
            "Model: \"sequential_23\"\n",
            "_________________________________________________________________\n",
            " Layer (type)                Output Shape              Param #   \n",
            "=================================================================\n",
            " flatten_16 (Flatten)        (None, 400)               0         \n",
            "                                                                 \n",
            " dense_49 (Dense)            (None, 80)                32080     \n",
            "                                                                 \n",
            " dropout_6 (Dropout)         (None, 80)                0         \n",
            "                                                                 \n",
            " dense_50 (Dense)            (None, 40)                3240      \n",
            "                                                                 \n",
            " dropout_7 (Dropout)         (None, 40)                0         \n",
            "                                                                 \n",
            " dense_51 (Dense)            (None, 2)                 82        \n",
            "                                                                 \n",
            "=================================================================\n",
            "Total params: 35402 (138.29 KB)\n",
            "Trainable params: 35402 (138.29 KB)\n",
            "Non-trainable params: 0 (0.00 Byte)\n",
            "_________________________________________________________________\n"
          ]
        }
      ],
      "source": [
        "# Code for Part 2: Task 4.3\n",
        "\n",
        "def create_dropout_model(rate):\n",
        "  modelDropout = keras.Sequential()\n",
        "\n",
        "  # adding layers\n",
        "  modelDropout.add(keras.layers.Flatten(input_shape=(20, 20, 1)))\n",
        "  modelDropout.add(keras.layers.Dense(80, activation='relu'))\n",
        "  modelDropout.add(keras.layers.Dropout(rate))\n",
        "  modelDropout.add(keras.layers.Dense(40, activation='relu'))\n",
        "  modelDropout.add(keras.layers.Dropout(rate))\n",
        "  modelDropout.add(keras.layers.Dense(2, activation='softmax'))\n",
        "\n",
        "  modelDropout.compile(optimizer = keras.optimizers.SGD(learning_rate=1e-4), loss='categorical_crossentropy', metrics='accuracy')\n",
        "  wandb.init(project='WPO 5 task 4.3')\n",
        "  modelDropout.fit(X, Y_train, epochs = 20, callbacks=[WandbMetricsLogger()], batch_size=8)\n",
        "  modelDropout.summary()\n",
        "\n",
        "  return modelDropout\n",
        "\n",
        "model_dropout_01 = create_dropout_model(0.1)\n",
        "model_dropout_05 = create_dropout_model(0.5)\n",
        "model_dropout_09 = create_dropout_model(0.9)"
      ]
    },
    {
      "cell_type": "code",
      "execution_count": null,
      "metadata": {
        "colab": {
          "base_uri": "https://localhost:8080/",
          "height": 1000
        },
        "id": "whtVOeepQRL4",
        "outputId": "5d1221da-d819-4799-ed42-6d97308eef42"
      },
      "outputs": [
        {
          "name": "stdout",
          "output_type": "stream",
          "text": [
            "8/8 [==============================] - 0s 4ms/step\n",
            "the confusion matrix is:\n",
            "[[77 22]\n",
            " [47 87]]\n",
            "the accuracy score is: 0.703862660944206\n"
          ]
        },
        {
          "data": {
            "image/png": "[encoded data removed]",
            "text/plain": [
              "<Figure size 640x480 with 1 Axes>"
            ]
          },
          "metadata": {},
          "output_type": "display_data"
        },
        {
          "name": "stdout",
          "output_type": "stream",
          "text": [
            "8/8 [==============================] - 0s 3ms/step\n",
            "the confusion matrix is:\n",
            "[[ 99   0]\n",
            " [125   9]]\n",
            "the accuracy score is: 0.463519313304721\n"
          ]
        },
        {
          "data": {
            "image/png": "[encoded data removed]",
            "text/plain": [
              "<Figure size 640x480 with 1 Axes>"
            ]
          },
          "metadata": {},
          "output_type": "display_data"
        },
        {
          "name": "stdout",
          "output_type": "stream",
          "text": [
            "8/8 [==============================] - 0s 4ms/step\n",
            "the confusion matrix is:\n",
            "[[ 57  42]\n",
            " [ 30 104]]\n",
            "the accuracy score is: 0.6909871244635193\n"
          ]
        },
        {
          "data": {
            "image/png": "[encoded data removed]",
            "text/plain": [
              "<Figure size 640x480 with 1 Axes>"
            ]
          },
          "metadata": {},
          "output_type": "display_data"
        }
      ],
      "source": [
        "confusion_matrix_model_dropout_01, accuracy_model_dropout_01, (fpr, tpr, thresholds) = perfomance_assessing(model_dropout_01, X_val, Y_test, Y_labels, 'dropout 0.1')\n",
        "confusion_matrix_model_dropout_05, accuracy_model_dropout_05, (fpr, tpr, thresholds) = perfomance_assessing(model_dropout_05, X_val, Y_test, Y_labels, 'dropout 0.5')\n",
        "confusion_matrix_model_dropout_09, accuracy_model_dropout_09, (fpr, tpr, thresholds) = perfomance_assessing(model_dropout_09, X_val, Y_test, Y_labels, 'dropout 0.9')\n"
      ]
    },
    {
      "cell_type": "markdown",
      "metadata": {
        "id": "nlGssC0Fw_t1"
      },
      "source": [
        "### Task 5. A Convolutional Neural Network\n",
        "\n",
        "Finally, we are going to implement a convolutional neural network - a network type showing state-of-the-art results in learning from images. This time, your input will not be flattened but we will provide a 2D image as an input (20x20x1 pixels). Use the same hyperparameters as before, unless specified differenly.\n",
        "\n",
        "#### Model definition\n",
        "\n",
        "input -> conv1 -> pool1 -> conv2 -> dense1 -> dense2 -> softmax\n",
        "* convolution layers: kernel size = 3x3, number of channels = 64, activation function = sigmoid\n",
        "* max-pooling layers: kernel size = 2x2, strides = 2\n",
        "* 1st dense layer: 50 neurons, activation function = sigmoid\n",
        "* 2nd dense layer: 2 neurons, activation function = softmax\n",
        "* optimizer = `sgd`\n",
        "* use dropout (e.g. 0.2)\n",
        "\n",
        "__Hint__: Use `.Flatten()` after before the dense layers to ensure a 1D vector as an input.\n",
        "\n",
        "Like before, measure system's prerfomance and explain."
      ]
    },
    {
      "cell_type": "code",
      "execution_count": null,
      "metadata": {
        "collapsed": true,
        "id": "oSYI-fU9w_t1"
      },
      "outputs": [],
      "source": [
        "# Code for Part 2: Task 5\n",
        "\n",
        "def convoutional_neural_network_model(rate):\n",
        "  modelDropout = keras.Sequential()\n",
        "\n",
        "  # adding layers\n",
        "  modelDropout.add(keras.layers.Flatten(input_shape=(20, 20, 1)))\n",
        "  modelDropout.add(keras.layers.Dense(80, activation='relu'))\n",
        "  modelDropout.add(keras.layers.Dropout(rate))\n",
        "  modelDropout.add(keras.layers.Dense(40, activation='relu'))\n",
        "  modelDropout.add(keras.layers.Dropout(rate))\n",
        "  modelDropout.add(keras.layers.Dense(2, activation='softmax'))\n",
        "\n",
        "  modelDropout.compile(optimizer = keras.optimizers.SGD(learning_rate=1e-4), loss='categorical_crossentropy', metrics='accuracy')\n",
        "  wandb.init(project='WPO 5 task 4.3')\n",
        "  modelDropout.fit(X, Y_train, epochs = 20, callbacks=[WandbMetricsLogger()], batch_size=8)\n",
        "  modelDropout.summary()\n",
        "\n",
        "  return modelDropout\n",
        "\n",
        "model_dropout_01 = create_dropout_model(0.1)\n",
        "model_dropout_05 = create_dropout_model(0.5)\n",
        "model_dropout_09 = create_dropout_model(0.9)"
      ]
    },
    {
      "cell_type": "markdown",
      "metadata": {
        "id": "lZ2ai6p_w_t2"
      },
      "source": [
        "### Task 6. A Deeper Convolutional Neural Network\n",
        "\n",
        "#### Model definition\n",
        "\n",
        "input -> conv1 -> pool1 -> conv2 -> conv3 -> fc1 -> fc2 -> softmax\n",
        "* convolution layers: kernel size = 5x5, number of channels = 64, activation function = 'relu', padding = 'same'\n",
        "* max-pooling layers: kernel size = 2x2, strides = 2\n",
        "* 1st fully connected: 100 neurons, activation function = relu\n",
        "* 2nd fully connected: 2 neurons, activation function = softmax\n",
        "* optimizer = `sgd` (try also `adam`)\n",
        "* use dropout (e.g. 0.5)\n",
        "\n",
        "Like before, measure system's prerfomance and explain.\n",
        "\n",
        "This was the last model you have trained. The `wandb` should now allow you to generate a common report for all train models (on the same graphs). Generate the report, download it as a `pdf`, and upload it in your assignment together with the notebook file."
      ]
    },
    {
      "cell_type": "code",
      "execution_count": null,
      "metadata": {
        "collapsed": true,
        "id": "Wt6z7LkBw_t2"
      },
      "outputs": [],
      "source": [
        "# Code for Part 2: Task 6"
      ]
    }
  ],
  "metadata": {
    "accelerator": "GPU",
    "anaconda-cloud": {},
    "celltoolbar": "Edit Metadata",
    "colab": {
      "gpuType": "T4",
      "provenance": []
    },
    "kernelspec": {
      "display_name": "Python 3",
      "name": "python3"
    },
    "language_info": {
      "codemirror_mode": {
        "name": "ipython",
        "version": 3
      },
      "file_extension": ".py",
      "mimetype": "text/x-python",
      "name": "python",
      "nbconvert_exporter": "python",
      "pygments_lexer": "ipython3",
      "version": "3.8.3"
    },
    "widgets": {
      "application/vnd.jupyter.widget-state+json": {
        "00820ff60cd34349a2a46063b8d15360": {
          "model_module": "@jupyter-widgets/controls",
          "model_module_version": "1.5.0",
          "model_name": "FloatProgressModel",
          "state": {
            "_dom_classes": [],
            "_model_module": "@jupyter-widgets/controls",
            "_model_module_version": "1.5.0",
            "_model_name": "FloatProgressModel",
            "_view_count": null,
            "_view_module": "@jupyter-widgets/controls",
            "_view_module_version": "1.5.0",
            "_view_name": "ProgressView",
            "bar_style": "",
            "description": "",
            "description_tooltip": null,
            "layout": "IPY_MODEL_8b31b9c1a59948438de3f295ed8d33d7",
            "max": 1,
            "min": 0,
            "orientation": "horizontal",
            "style": "IPY_MODEL_a8a33a0c920e4d8eb10970de3d75fe73",
            "value": 1
          }
        },
        "042dea42b96d4fd185133123e224f837": {
          "model_module": "@jupyter-widgets/base",
          "model_module_version": "1.2.0",
          "model_name": "LayoutModel",
          "state": {
            "_model_module": "@jupyter-widgets/base",
            "_model_module_version": "1.2.0",
            "_model_name": "LayoutModel",
            "_view_count": null,
            "_view_module": "@jupyter-widgets/base",
            "_view_module_version": "1.2.0",
            "_view_name": "LayoutView",
            "align_content": null,
            "align_items": null,
            "align_self": null,
            "border": null,
            "bottom": null,
            "display": null,
            "flex": null,
            "flex_flow": null,
            "grid_area": null,
            "grid_auto_columns": null,
            "grid_auto_flow": null,
            "grid_auto_rows": null,
            "grid_column": null,
            "grid_gap": null,
            "grid_row": null,
            "grid_template_areas": null,
            "grid_template_columns": null,
            "grid_template_rows": null,
            "height": null,
            "justify_content": null,
            "justify_items": null,
            "left": null,
            "margin": null,
            "max_height": null,
            "max_width": null,
            "min_height": null,
            "min_width": null,
            "object_fit": null,
            "object_position": null,
            "order": null,
            "overflow": null,
            "overflow_x": null,
            "overflow_y": null,
            "padding": null,
            "right": null,
            "top": null,
            "visibility": null,
            "width": null
          }
        },
        "06d54f01538d4b9288a33b87e0c77bd5": {
          "model_module": "@jupyter-widgets/base",
          "model_module_version": "1.2.0",
          "model_name": "LayoutModel",
          "state": {
            "_model_module": "@jupyter-widgets/base",
            "_model_module_version": "1.2.0",
            "_model_name": "LayoutModel",
            "_view_count": null,
            "_view_module": "@jupyter-widgets/base",
            "_view_module_version": "1.2.0",
            "_view_name": "LayoutView",
            "align_content": null,
            "align_items": null,
            "align_self": null,
            "border": null,
            "bottom": null,
            "display": null,
            "flex": null,
            "flex_flow": null,
            "grid_area": null,
            "grid_auto_columns": null,
            "grid_auto_flow": null,
            "grid_auto_rows": null,
            "grid_column": null,
            "grid_gap": null,
            "grid_row": null,
            "grid_template_areas": null,
            "grid_template_columns": null,
            "grid_template_rows": null,
            "height": null,
            "justify_content": null,
            "justify_items": null,
            "left": null,
            "margin": null,
            "max_height": null,
            "max_width": null,
            "min_height": null,
            "min_width": null,
            "object_fit": null,
            "object_position": null,
            "order": null,
            "overflow": null,
            "overflow_x": null,
            "overflow_y": null,
            "padding": null,
            "right": null,
            "top": null,
            "visibility": null,
            "width": null
          }
        },
        "07869f215a9a42368ecf3296d6d42c03": {
          "model_module": "@jupyter-widgets/controls",
          "model_module_version": "1.5.0",
          "model_name": "FloatProgressModel",
          "state": {
            "_dom_classes": [],
            "_model_module": "@jupyter-widgets/controls",
            "_model_module_version": "1.5.0",
            "_model_name": "FloatProgressModel",
            "_view_count": null,
            "_view_module": "@jupyter-widgets/controls",
            "_view_module_version": "1.5.0",
            "_view_name": "ProgressView",
            "bar_style": "",
            "description": "",
            "description_tooltip": null,
            "layout": "IPY_MODEL_de56f48794df4affbef84ce0bc06ab00",
            "max": 1,
            "min": 0,
            "orientation": "horizontal",
            "style": "IPY_MODEL_f882bd5e72824efea9262c18462605ee",
            "value": 1
          }
        },
        "07a171d0692249b293756362c5cc8597": {
          "model_module": "@jupyter-widgets/controls",
          "model_module_version": "1.5.0",
          "model_name": "LabelModel",
          "state": {
            "_dom_classes": [],
            "_model_module": "@jupyter-widgets/controls",
            "_model_module_version": "1.5.0",
            "_model_name": "LabelModel",
            "_view_count": null,
            "_view_module": "@jupyter-widgets/controls",
            "_view_module_version": "1.5.0",
            "_view_name": "LabelView",
            "description": "",
            "description_tooltip": null,
            "layout": "IPY_MODEL_ccd5304584c24f8eb45299eb8e39af76",
            "placeholder": "​",
            "style": "IPY_MODEL_226d4d8a045d4461bf77cfc8355679d4",
            "value": "Waiting for wandb.init()...\r"
          }
        },
        "07a6161c413c4d72b0b1ecb01664e610": {
          "model_module": "@jupyter-widgets/base",
          "model_module_version": "1.2.0",
          "model_name": "LayoutModel",
          "state": {
            "_model_module": "@jupyter-widgets/base",
            "_model_module_version": "1.2.0",
            "_model_name": "LayoutModel",
            "_view_count": null,
            "_view_module": "@jupyter-widgets/base",
            "_view_module_version": "1.2.0",
            "_view_name": "LayoutView",
            "align_content": null,
            "align_items": null,
            "align_self": null,
            "border": null,
            "bottom": null,
            "display": null,
            "flex": null,
            "flex_flow": null,
            "grid_area": null,
            "grid_auto_columns": null,
            "grid_auto_flow": null,
            "grid_auto_rows": null,
            "grid_column": null,
            "grid_gap": null,
            "grid_row": null,
            "grid_template_areas": null,
            "grid_template_columns": null,
            "grid_template_rows": null,
            "height": null,
            "justify_content": null,
            "justify_items": null,
            "left": null,
            "margin": null,
            "max_height": null,
            "max_width": null,
            "min_height": null,
            "min_width": null,
            "object_fit": null,
            "object_position": null,
            "order": null,
            "overflow": null,
            "overflow_x": null,
            "overflow_y": null,
            "padding": null,
            "right": null,
            "top": null,
            "visibility": null,
            "width": null
          }
        },
        "0816b7feb6f645788e1033a9bf65c823": {
          "model_module": "@jupyter-widgets/base",
          "model_module_version": "1.2.0",
          "model_name": "LayoutModel",
          "state": {
            "_model_module": "@jupyter-widgets/base",
            "_model_module_version": "1.2.0",
            "_model_name": "LayoutModel",
            "_view_count": null,
            "_view_module": "@jupyter-widgets/base",
            "_view_module_version": "1.2.0",
            "_view_name": "LayoutView",
            "align_content": null,
            "align_items": null,
            "align_self": null,
            "border": null,
            "bottom": null,
            "display": null,
            "flex": null,
            "flex_flow": null,
            "grid_area": null,
            "grid_auto_columns": null,
            "grid_auto_flow": null,
            "grid_auto_rows": null,
            "grid_column": null,
            "grid_gap": null,
            "grid_row": null,
            "grid_template_areas": null,
            "grid_template_columns": null,
            "grid_template_rows": null,
            "height": null,
            "justify_content": null,
            "justify_items": null,
            "left": null,
            "margin": null,
            "max_height": null,
            "max_width": null,
            "min_height": null,
            "min_width": null,
            "object_fit": null,
            "object_position": null,
            "order": null,
            "overflow": null,
            "overflow_x": null,
            "overflow_y": null,
            "padding": null,
            "right": null,
            "top": null,
            "visibility": null,
            "width": null
          }
        },
        "0884144d0c1a49269fedc31df1afb968": {
          "model_module": "@jupyter-widgets/controls",
          "model_module_version": "1.5.0",
          "model_name": "VBoxModel",
          "state": {
            "_dom_classes": [],
            "_model_module": "@jupyter-widgets/controls",
            "_model_module_version": "1.5.0",
            "_model_name": "VBoxModel",
            "_view_count": null,
            "_view_module": "@jupyter-widgets/controls",
            "_view_module_version": "1.5.0",
            "_view_name": "VBoxView",
            "box_style": "",
            "children": [
              "IPY_MODEL_d7bb0bd4f7ba4386ad4fa74347797257",
              "IPY_MODEL_07869f215a9a42368ecf3296d6d42c03"
            ],
            "layout": "IPY_MODEL_d64eeb65cb1d4ce7b4dd995afbefecb5"
          }
        },
        "0972a9a199aa4415a7e88a6404b328e3": {
          "model_module": "@jupyter-widgets/base",
          "model_module_version": "1.2.0",
          "model_name": "LayoutModel",
          "state": {
            "_model_module": "@jupyter-widgets/base",
            "_model_module_version": "1.2.0",
            "_model_name": "LayoutModel",
            "_view_count": null,
            "_view_module": "@jupyter-widgets/base",
            "_view_module_version": "1.2.0",
            "_view_name": "LayoutView",
            "align_content": null,
            "align_items": null,
            "align_self": null,
            "border": null,
            "bottom": null,
            "display": null,
            "flex": null,
            "flex_flow": null,
            "grid_area": null,
            "grid_auto_columns": null,
            "grid_auto_flow": null,
            "grid_auto_rows": null,
            "grid_column": null,
            "grid_gap": null,
            "grid_row": null,
            "grid_template_areas": null,
            "grid_template_columns": null,
            "grid_template_rows": null,
            "height": null,
            "justify_content": null,
            "justify_items": null,
            "left": null,
            "margin": null,
            "max_height": null,
            "max_width": null,
            "min_height": null,
            "min_width": null,
            "object_fit": null,
            "object_position": null,
            "order": null,
            "overflow": null,
            "overflow_x": null,
            "overflow_y": null,
            "padding": null,
            "right": null,
            "top": null,
            "visibility": null,
            "width": null
          }
        },
        "0b1c57b2a292442eb671187ae8b76c9a": {
          "model_module": "@jupyter-widgets/base",
          "model_module_version": "1.2.0",
          "model_name": "LayoutModel",
          "state": {
            "_model_module": "@jupyter-widgets/base",
            "_model_module_version": "1.2.0",
            "_model_name": "LayoutModel",
            "_view_count": null,
            "_view_module": "@jupyter-widgets/base",
            "_view_module_version": "1.2.0",
            "_view_name": "LayoutView",
            "align_content": null,
            "align_items": null,
            "align_self": null,
            "border": null,
            "bottom": null,
            "display": null,
            "flex": null,
            "flex_flow": null,
            "grid_area": null,
            "grid_auto_columns": null,
            "grid_auto_flow": null,
            "grid_auto_rows": null,
            "grid_column": null,
            "grid_gap": null,
            "grid_row": null,
            "grid_template_areas": null,
            "grid_template_columns": null,
            "grid_template_rows": null,
            "height": null,
            "justify_content": null,
            "justify_items": null,
            "left": null,
            "margin": null,
            "max_height": null,
            "max_width": null,
            "min_height": null,
            "min_width": null,
            "object_fit": null,
            "object_position": null,
            "order": null,
            "overflow": null,
            "overflow_x": null,
            "overflow_y": null,
            "padding": null,
            "right": null,
            "top": null,
            "visibility": null,
            "width": null
          }
        },
        "0b31d9ca454444ea9a8dc62f05135750": {
          "model_module": "@jupyter-widgets/base",
          "model_module_version": "1.2.0",
          "model_name": "LayoutModel",
          "state": {
            "_model_module": "@jupyter-widgets/base",
            "_model_module_version": "1.2.0",
            "_model_name": "LayoutModel",
            "_view_count": null,
            "_view_module": "@jupyter-widgets/base",
            "_view_module_version": "1.2.0",
            "_view_name": "LayoutView",
            "align_content": null,
            "align_items": null,
            "align_self": null,
            "border": null,
            "bottom": null,
            "display": null,
            "flex": null,
            "flex_flow": null,
            "grid_area": null,
            "grid_auto_columns": null,
            "grid_auto_flow": null,
            "grid_auto_rows": null,
            "grid_column": null,
            "grid_gap": null,
            "grid_row": null,
            "grid_template_areas": null,
            "grid_template_columns": null,
            "grid_template_rows": null,
            "height": null,
            "justify_content": null,
            "justify_items": null,
            "left": null,
            "margin": null,
            "max_height": null,
            "max_width": null,
            "min_height": null,
            "min_width": null,
            "object_fit": null,
            "object_position": null,
            "order": null,
            "overflow": null,
            "overflow_x": null,
            "overflow_y": null,
            "padding": null,
            "right": null,
            "top": null,
            "visibility": null,
            "width": null
          }
        },
        "0b795209fa224d199fbea440807671fd": {
          "model_module": "@jupyter-widgets/base",
          "model_module_version": "1.2.0",
          "model_name": "LayoutModel",
          "state": {
            "_model_module": "@jupyter-widgets/base",
            "_model_module_version": "1.2.0",
            "_model_name": "LayoutModel",
            "_view_count": null,
            "_view_module": "@jupyter-widgets/base",
            "_view_module_version": "1.2.0",
            "_view_name": "LayoutView",
            "align_content": null,
            "align_items": null,
            "align_self": null,
            "border": null,
            "bottom": null,
            "display": null,
            "flex": null,
            "flex_flow": null,
            "grid_area": null,
            "grid_auto_columns": null,
            "grid_auto_flow": null,
            "grid_auto_rows": null,
            "grid_column": null,
            "grid_gap": null,
            "grid_row": null,
            "grid_template_areas": null,
            "grid_template_columns": null,
            "grid_template_rows": null,
            "height": null,
            "justify_content": null,
            "justify_items": null,
            "left": null,
            "margin": null,
            "max_height": null,
            "max_width": null,
            "min_height": null,
            "min_width": null,
            "object_fit": null,
            "object_position": null,
            "order": null,
            "overflow": null,
            "overflow_x": null,
            "overflow_y": null,
            "padding": null,
            "right": null,
            "top": null,
            "visibility": null,
            "width": null
          }
        },
        "16c7a3d6ae144eaa8dbc16a857b3fe02": {
          "model_module": "@jupyter-widgets/base",
          "model_module_version": "1.2.0",
          "model_name": "LayoutModel",
          "state": {
            "_model_module": "@jupyter-widgets/base",
            "_model_module_version": "1.2.0",
            "_model_name": "LayoutModel",
            "_view_count": null,
            "_view_module": "@jupyter-widgets/base",
            "_view_module_version": "1.2.0",
            "_view_name": "LayoutView",
            "align_content": null,
            "align_items": null,
            "align_self": null,
            "border": null,
            "bottom": null,
            "display": null,
            "flex": null,
            "flex_flow": null,
            "grid_area": null,
            "grid_auto_columns": null,
            "grid_auto_flow": null,
            "grid_auto_rows": null,
            "grid_column": null,
            "grid_gap": null,
            "grid_row": null,
            "grid_template_areas": null,
            "grid_template_columns": null,
            "grid_template_rows": null,
            "height": null,
            "justify_content": null,
            "justify_items": null,
            "left": null,
            "margin": null,
            "max_height": null,
            "max_width": null,
            "min_height": null,
            "min_width": null,
            "object_fit": null,
            "object_position": null,
            "order": null,
            "overflow": null,
            "overflow_x": null,
            "overflow_y": null,
            "padding": null,
            "right": null,
            "top": null,
            "visibility": null,
            "width": null
          }
        },
        "16f74f4cf6c745cab51f1dd17c75c01a": {
          "model_module": "@jupyter-widgets/controls",
          "model_module_version": "1.5.0",
          "model_name": "ProgressStyleModel",
          "state": {
            "_model_module": "@jupyter-widgets/controls",
            "_model_module_version": "1.5.0",
            "_model_name": "ProgressStyleModel",
            "_view_count": null,
            "_view_module": "@jupyter-widgets/base",
            "_view_module_version": "1.2.0",
            "_view_name": "StyleView",
            "bar_color": null,
            "description_width": ""
          }
        },
        "18b7596b1779401ea2cb008f8060d89b": {
          "model_module": "@jupyter-widgets/controls",
          "model_module_version": "1.5.0",
          "model_name": "ProgressStyleModel",
          "state": {
            "_model_module": "@jupyter-widgets/controls",
            "_model_module_version": "1.5.0",
            "_model_name": "ProgressStyleModel",
            "_view_count": null,
            "_view_module": "@jupyter-widgets/base",
            "_view_module_version": "1.2.0",
            "_view_name": "StyleView",
            "bar_color": null,
            "description_width": ""
          }
        },
        "1e805b1f4fb6486daec62117896cda5d": {
          "model_module": "@jupyter-widgets/base",
          "model_module_version": "1.2.0",
          "model_name": "LayoutModel",
          "state": {
            "_model_module": "@jupyter-widgets/base",
            "_model_module_version": "1.2.0",
            "_model_name": "LayoutModel",
            "_view_count": null,
            "_view_module": "@jupyter-widgets/base",
            "_view_module_version": "1.2.0",
            "_view_name": "LayoutView",
            "align_content": null,
            "align_items": null,
            "align_self": null,
            "border": null,
            "bottom": null,
            "display": null,
            "flex": null,
            "flex_flow": null,
            "grid_area": null,
            "grid_auto_columns": null,
            "grid_auto_flow": null,
            "grid_auto_rows": null,
            "grid_column": null,
            "grid_gap": null,
            "grid_row": null,
            "grid_template_areas": null,
            "grid_template_columns": null,
            "grid_template_rows": null,
            "height": null,
            "justify_content": null,
            "justify_items": null,
            "left": null,
            "margin": null,
            "max_height": null,
            "max_width": null,
            "min_height": null,
            "min_width": null,
            "object_fit": null,
            "object_position": null,
            "order": null,
            "overflow": null,
            "overflow_x": null,
            "overflow_y": null,
            "padding": null,
            "right": null,
            "top": null,
            "visibility": null,
            "width": null
          }
        },
        "226d4d8a045d4461bf77cfc8355679d4": {
          "model_module": "@jupyter-widgets/controls",
          "model_module_version": "1.5.0",
          "model_name": "DescriptionStyleModel",
          "state": {
            "_model_module": "@jupyter-widgets/controls",
            "_model_module_version": "1.5.0",
            "_model_name": "DescriptionStyleModel",
            "_view_count": null,
            "_view_module": "@jupyter-widgets/base",
            "_view_module_version": "1.2.0",
            "_view_name": "StyleView",
            "description_width": ""
          }
        },
        "238a770a46154f3a87ab3f60e7ff245f": {
          "model_module": "@jupyter-widgets/controls",
          "model_module_version": "1.5.0",
          "model_name": "ProgressStyleModel",
          "state": {
            "_model_module": "@jupyter-widgets/controls",
            "_model_module_version": "1.5.0",
            "_model_name": "ProgressStyleModel",
            "_view_count": null,
            "_view_module": "@jupyter-widgets/base",
            "_view_module_version": "1.2.0",
            "_view_name": "StyleView",
            "bar_color": null,
            "description_width": ""
          }
        },
        "294471e28c9a4e6da32e5aae848db999": {
          "model_module": "@jupyter-widgets/controls",
          "model_module_version": "1.5.0",
          "model_name": "FloatProgressModel",
          "state": {
            "_dom_classes": [],
            "_model_module": "@jupyter-widgets/controls",
            "_model_module_version": "1.5.0",
            "_model_name": "FloatProgressModel",
            "_view_count": null,
            "_view_module": "@jupyter-widgets/controls",
            "_view_module_version": "1.5.0",
            "_view_name": "ProgressView",
            "bar_style": "",
            "description": "",
            "description_tooltip": null,
            "layout": "IPY_MODEL_0972a9a199aa4415a7e88a6404b328e3",
            "max": 1,
            "min": 0,
            "orientation": "horizontal",
            "style": "IPY_MODEL_18b7596b1779401ea2cb008f8060d89b",
            "value": 1
          }
        },
        "2bacecfea0894d02b3e64551d25c5a7e": {
          "model_module": "@jupyter-widgets/base",
          "model_module_version": "1.2.0",
          "model_name": "LayoutModel",
          "state": {
            "_model_module": "@jupyter-widgets/base",
            "_model_module_version": "1.2.0",
            "_model_name": "LayoutModel",
            "_view_count": null,
            "_view_module": "@jupyter-widgets/base",
            "_view_module_version": "1.2.0",
            "_view_name": "LayoutView",
            "align_content": null,
            "align_items": null,
            "align_self": null,
            "border": null,
            "bottom": null,
            "display": null,
            "flex": null,
            "flex_flow": null,
            "grid_area": null,
            "grid_auto_columns": null,
            "grid_auto_flow": null,
            "grid_auto_rows": null,
            "grid_column": null,
            "grid_gap": null,
            "grid_row": null,
            "grid_template_areas": null,
            "grid_template_columns": null,
            "grid_template_rows": null,
            "height": null,
            "justify_content": null,
            "justify_items": null,
            "left": null,
            "margin": null,
            "max_height": null,
            "max_width": null,
            "min_height": null,
            "min_width": null,
            "object_fit": null,
            "object_position": null,
            "order": null,
            "overflow": null,
            "overflow_x": null,
            "overflow_y": null,
            "padding": null,
            "right": null,
            "top": null,
            "visibility": null,
            "width": null
          }
        },
        "2f1c983fb1ef40668fb191db076726d7": {
          "model_module": "@jupyter-widgets/controls",
          "model_module_version": "1.5.0",
          "model_name": "LabelModel",
          "state": {
            "_dom_classes": [],
            "_model_module": "@jupyter-widgets/controls",
            "_model_module_version": "1.5.0",
            "_model_name": "LabelModel",
            "_view_count": null,
            "_view_module": "@jupyter-widgets/controls",
            "_view_module_version": "1.5.0",
            "_view_name": "LabelView",
            "description": "",
            "description_tooltip": null,
            "layout": "IPY_MODEL_f6c9a11012364306803a1b15e17495ce",
            "placeholder": "​",
            "style": "IPY_MODEL_f1c1b2a1037d40ac843e3880caf045c2",
            "value": "0.013 MB of 0.013 MB uploaded\r"
          }
        },
        "301a76fbc56b47288bf5aab2fe43484e": {
          "model_module": "@jupyter-widgets/base",
          "model_module_version": "1.2.0",
          "model_name": "LayoutModel",
          "state": {
            "_model_module": "@jupyter-widgets/base",
            "_model_module_version": "1.2.0",
            "_model_name": "LayoutModel",
            "_view_count": null,
            "_view_module": "@jupyter-widgets/base",
            "_view_module_version": "1.2.0",
            "_view_name": "LayoutView",
            "align_content": null,
            "align_items": null,
            "align_self": null,
            "border": null,
            "bottom": null,
            "display": null,
            "flex": null,
            "flex_flow": null,
            "grid_area": null,
            "grid_auto_columns": null,
            "grid_auto_flow": null,
            "grid_auto_rows": null,
            "grid_column": null,
            "grid_gap": null,
            "grid_row": null,
            "grid_template_areas": null,
            "grid_template_columns": null,
            "grid_template_rows": null,
            "height": null,
            "justify_content": null,
            "justify_items": null,
            "left": null,
            "margin": null,
            "max_height": null,
            "max_width": null,
            "min_height": null,
            "min_width": null,
            "object_fit": null,
            "object_position": null,
            "order": null,
            "overflow": null,
            "overflow_x": null,
            "overflow_y": null,
            "padding": null,
            "right": null,
            "top": null,
            "visibility": null,
            "width": null
          }
        },
        "311715914b1847a99f26a0cf29821254": {
          "model_module": "@jupyter-widgets/controls",
          "model_module_version": "1.5.0",
          "model_name": "VBoxModel",
          "state": {
            "_dom_classes": [],
            "_model_module": "@jupyter-widgets/controls",
            "_model_module_version": "1.5.0",
            "_model_name": "VBoxModel",
            "_view_count": null,
            "_view_module": "@jupyter-widgets/controls",
            "_view_module_version": "1.5.0",
            "_view_name": "VBoxView",
            "box_style": "",
            "children": [
              "IPY_MODEL_07a171d0692249b293756362c5cc8597",
              "IPY_MODEL_80ae8c6c0ef9406dbfea9a4e553ac3a2"
            ],
            "layout": "IPY_MODEL_44b09b66dc02455092e6676a790e24f2"
          }
        },
        "31f92244421e49a29e8303355416c8f0": {
          "model_module": "@jupyter-widgets/base",
          "model_module_version": "1.2.0",
          "model_name": "LayoutModel",
          "state": {
            "_model_module": "@jupyter-widgets/base",
            "_model_module_version": "1.2.0",
            "_model_name": "LayoutModel",
            "_view_count": null,
            "_view_module": "@jupyter-widgets/base",
            "_view_module_version": "1.2.0",
            "_view_name": "LayoutView",
            "align_content": null,
            "align_items": null,
            "align_self": null,
            "border": null,
            "bottom": null,
            "display": null,
            "flex": null,
            "flex_flow": null,
            "grid_area": null,
            "grid_auto_columns": null,
            "grid_auto_flow": null,
            "grid_auto_rows": null,
            "grid_column": null,
            "grid_gap": null,
            "grid_row": null,
            "grid_template_areas": null,
            "grid_template_columns": null,
            "grid_template_rows": null,
            "height": null,
            "justify_content": null,
            "justify_items": null,
            "left": null,
            "margin": null,
            "max_height": null,
            "max_width": null,
            "min_height": null,
            "min_width": null,
            "object_fit": null,
            "object_position": null,
            "order": null,
            "overflow": null,
            "overflow_x": null,
            "overflow_y": null,
            "padding": null,
            "right": null,
            "top": null,
            "visibility": null,
            "width": null
          }
        },
        "337b85767d054026bb23810a762bd675": {
          "model_module": "@jupyter-widgets/base",
          "model_module_version": "1.2.0",
          "model_name": "LayoutModel",
          "state": {
            "_model_module": "@jupyter-widgets/base",
            "_model_module_version": "1.2.0",
            "_model_name": "LayoutModel",
            "_view_count": null,
            "_view_module": "@jupyter-widgets/base",
            "_view_module_version": "1.2.0",
            "_view_name": "LayoutView",
            "align_content": null,
            "align_items": null,
            "align_self": null,
            "border": null,
            "bottom": null,
            "display": null,
            "flex": null,
            "flex_flow": null,
            "grid_area": null,
            "grid_auto_columns": null,
            "grid_auto_flow": null,
            "grid_auto_rows": null,
            "grid_column": null,
            "grid_gap": null,
            "grid_row": null,
            "grid_template_areas": null,
            "grid_template_columns": null,
            "grid_template_rows": null,
            "height": null,
            "justify_content": null,
            "justify_items": null,
            "left": null,
            "margin": null,
            "max_height": null,
            "max_width": null,
            "min_height": null,
            "min_width": null,
            "object_fit": null,
            "object_position": null,
            "order": null,
            "overflow": null,
            "overflow_x": null,
            "overflow_y": null,
            "padding": null,
            "right": null,
            "top": null,
            "visibility": null,
            "width": null
          }
        },
        "386a6ca48d844da39340d1472b29cf38": {
          "model_module": "@jupyter-widgets/controls",
          "model_module_version": "1.5.0",
          "model_name": "ProgressStyleModel",
          "state": {
            "_model_module": "@jupyter-widgets/controls",
            "_model_module_version": "1.5.0",
            "_model_name": "ProgressStyleModel",
            "_view_count": null,
            "_view_module": "@jupyter-widgets/base",
            "_view_module_version": "1.2.0",
            "_view_name": "StyleView",
            "bar_color": null,
            "description_width": ""
          }
        },
        "41a5b5536b6b4a5d831152ca0cc023d0": {
          "model_module": "@jupyter-widgets/controls",
          "model_module_version": "1.5.0",
          "model_name": "DescriptionStyleModel",
          "state": {
            "_model_module": "@jupyter-widgets/controls",
            "_model_module_version": "1.5.0",
            "_model_name": "DescriptionStyleModel",
            "_view_count": null,
            "_view_module": "@jupyter-widgets/base",
            "_view_module_version": "1.2.0",
            "_view_name": "StyleView",
            "description_width": ""
          }
        },
        "44b09b66dc02455092e6676a790e24f2": {
          "model_module": "@jupyter-widgets/base",
          "model_module_version": "1.2.0",
          "model_name": "LayoutModel",
          "state": {
            "_model_module": "@jupyter-widgets/base",
            "_model_module_version": "1.2.0",
            "_model_name": "LayoutModel",
            "_view_count": null,
            "_view_module": "@jupyter-widgets/base",
            "_view_module_version": "1.2.0",
            "_view_name": "LayoutView",
            "align_content": null,
            "align_items": null,
            "align_self": null,
            "border": null,
            "bottom": null,
            "display": null,
            "flex": null,
            "flex_flow": null,
            "grid_area": null,
            "grid_auto_columns": null,
            "grid_auto_flow": null,
            "grid_auto_rows": null,
            "grid_column": null,
            "grid_gap": null,
            "grid_row": null,
            "grid_template_areas": null,
            "grid_template_columns": null,
            "grid_template_rows": null,
            "height": null,
            "justify_content": null,
            "justify_items": null,
            "left": null,
            "margin": null,
            "max_height": null,
            "max_width": null,
            "min_height": null,
            "min_width": null,
            "object_fit": null,
            "object_position": null,
            "order": null,
            "overflow": null,
            "overflow_x": null,
            "overflow_y": null,
            "padding": null,
            "right": null,
            "top": null,
            "visibility": null,
            "width": null
          }
        },
        "4560043d5ee34e9997a3d5ba660fc160": {
          "model_module": "@jupyter-widgets/controls",
          "model_module_version": "1.5.0",
          "model_name": "LabelModel",
          "state": {
            "_dom_classes": [],
            "_model_module": "@jupyter-widgets/controls",
            "_model_module_version": "1.5.0",
            "_model_name": "LabelModel",
            "_view_count": null,
            "_view_module": "@jupyter-widgets/controls",
            "_view_module_version": "1.5.0",
            "_view_name": "LabelView",
            "description": "",
            "description_tooltip": null,
            "layout": "IPY_MODEL_06d54f01538d4b9288a33b87e0c77bd5",
            "placeholder": "​",
            "style": "IPY_MODEL_61dc3b24173749b6aa7d5ff3c98a97c2",
            "value": "0.010 MB of 0.010 MB uploaded\r"
          }
        },
        "48e82e7c9ba04f35979f541298094ab0": {
          "model_module": "@jupyter-widgets/controls",
          "model_module_version": "1.5.0",
          "model_name": "VBoxModel",
          "state": {
            "_dom_classes": [],
            "_model_module": "@jupyter-widgets/controls",
            "_model_module_version": "1.5.0",
            "_model_name": "VBoxModel",
            "_view_count": null,
            "_view_module": "@jupyter-widgets/controls",
            "_view_module_version": "1.5.0",
            "_view_name": "VBoxView",
            "box_style": "",
            "children": [
              "IPY_MODEL_2f1c983fb1ef40668fb191db076726d7",
              "IPY_MODEL_5a557f0b283242ba8e8bb5b71ff05fcd"
            ],
            "layout": "IPY_MODEL_16c7a3d6ae144eaa8dbc16a857b3fe02"
          }
        },
        "52026ef00feb44b8888f9f070bcbd815": {
          "model_module": "@jupyter-widgets/controls",
          "model_module_version": "1.5.0",
          "model_name": "DescriptionStyleModel",
          "state": {
            "_model_module": "@jupyter-widgets/controls",
            "_model_module_version": "1.5.0",
            "_model_name": "DescriptionStyleModel",
            "_view_count": null,
            "_view_module": "@jupyter-widgets/base",
            "_view_module_version": "1.2.0",
            "_view_name": "StyleView",
            "description_width": ""
          }
        },
        "5265abf2c18e4291b71d49b3d14a884e": {
          "model_module": "@jupyter-widgets/controls",
          "model_module_version": "1.5.0",
          "model_name": "LabelModel",
          "state": {
            "_dom_classes": [],
            "_model_module": "@jupyter-widgets/controls",
            "_model_module_version": "1.5.0",
            "_model_name": "LabelModel",
            "_view_count": null,
            "_view_module": "@jupyter-widgets/controls",
            "_view_module_version": "1.5.0",
            "_view_name": "LabelView",
            "description": "",
            "description_tooltip": null,
            "layout": "IPY_MODEL_0b31d9ca454444ea9a8dc62f05135750",
            "placeholder": "​",
            "style": "IPY_MODEL_d6e9c5bbc12346bea4d27d11cedbdb0e",
            "value": "0.013 MB of 0.013 MB uploaded\r"
          }
        },
        "545537017c2b4ad68249fd5efd82ef8c": {
          "model_module": "@jupyter-widgets/controls",
          "model_module_version": "1.5.0",
          "model_name": "VBoxModel",
          "state": {
            "_dom_classes": [],
            "_model_module": "@jupyter-widgets/controls",
            "_model_module_version": "1.5.0",
            "_model_name": "VBoxModel",
            "_view_count": null,
            "_view_module": "@jupyter-widgets/controls",
            "_view_module_version": "1.5.0",
            "_view_name": "VBoxView",
            "box_style": "",
            "children": [
              "IPY_MODEL_4560043d5ee34e9997a3d5ba660fc160",
              "IPY_MODEL_d7a3b2ac92c94118b55aa132a9e52c56"
            ],
            "layout": "IPY_MODEL_2bacecfea0894d02b3e64551d25c5a7e"
          }
        },
        "5a557f0b283242ba8e8bb5b71ff05fcd": {
          "model_module": "@jupyter-widgets/controls",
          "model_module_version": "1.5.0",
          "model_name": "FloatProgressModel",
          "state": {
            "_dom_classes": [],
            "_model_module": "@jupyter-widgets/controls",
            "_model_module_version": "1.5.0",
            "_model_name": "FloatProgressModel",
            "_view_count": null,
            "_view_module": "@jupyter-widgets/controls",
            "_view_module_version": "1.5.0",
            "_view_name": "ProgressView",
            "bar_style": "",
            "description": "",
            "description_tooltip": null,
            "layout": "IPY_MODEL_81613e47ef604eb483531ecad6a94d6f",
            "max": 1,
            "min": 0,
            "orientation": "horizontal",
            "style": "IPY_MODEL_386a6ca48d844da39340d1472b29cf38",
            "value": 1
          }
        },
        "5cba8949c3084fa195172b28cc8ef35a": {
          "model_module": "@jupyter-widgets/controls",
          "model_module_version": "1.5.0",
          "model_name": "ProgressStyleModel",
          "state": {
            "_model_module": "@jupyter-widgets/controls",
            "_model_module_version": "1.5.0",
            "_model_name": "ProgressStyleModel",
            "_view_count": null,
            "_view_module": "@jupyter-widgets/base",
            "_view_module_version": "1.2.0",
            "_view_name": "StyleView",
            "bar_color": null,
            "description_width": ""
          }
        },
        "604c161b826743c188d55cd9de024e03": {
          "model_module": "@jupyter-widgets/controls",
          "model_module_version": "1.5.0",
          "model_name": "VBoxModel",
          "state": {
            "_dom_classes": [],
            "_model_module": "@jupyter-widgets/controls",
            "_model_module_version": "1.5.0",
            "_model_name": "VBoxModel",
            "_view_count": null,
            "_view_module": "@jupyter-widgets/controls",
            "_view_module_version": "1.5.0",
            "_view_name": "VBoxView",
            "box_style": "",
            "children": [
              "IPY_MODEL_bfab67308be843dfa5dd42085840b45f",
              "IPY_MODEL_730b175ec4014ee78738494a09c4461c"
            ],
            "layout": "IPY_MODEL_042dea42b96d4fd185133123e224f837"
          }
        },
        "61dc3b24173749b6aa7d5ff3c98a97c2": {
          "model_module": "@jupyter-widgets/controls",
          "model_module_version": "1.5.0",
          "model_name": "DescriptionStyleModel",
          "state": {
            "_model_module": "@jupyter-widgets/controls",
            "_model_module_version": "1.5.0",
            "_model_name": "DescriptionStyleModel",
            "_view_count": null,
            "_view_module": "@jupyter-widgets/base",
            "_view_module_version": "1.2.0",
            "_view_name": "StyleView",
            "description_width": ""
          }
        },
        "6e483f4c9f754b20a88adacad192cc3f": {
          "model_module": "@jupyter-widgets/base",
          "model_module_version": "1.2.0",
          "model_name": "LayoutModel",
          "state": {
            "_model_module": "@jupyter-widgets/base",
            "_model_module_version": "1.2.0",
            "_model_name": "LayoutModel",
            "_view_count": null,
            "_view_module": "@jupyter-widgets/base",
            "_view_module_version": "1.2.0",
            "_view_name": "LayoutView",
            "align_content": null,
            "align_items": null,
            "align_self": null,
            "border": null,
            "bottom": null,
            "display": null,
            "flex": null,
            "flex_flow": null,
            "grid_area": null,
            "grid_auto_columns": null,
            "grid_auto_flow": null,
            "grid_auto_rows": null,
            "grid_column": null,
            "grid_gap": null,
            "grid_row": null,
            "grid_template_areas": null,
            "grid_template_columns": null,
            "grid_template_rows": null,
            "height": null,
            "justify_content": null,
            "justify_items": null,
            "left": null,
            "margin": null,
            "max_height": null,
            "max_width": null,
            "min_height": null,
            "min_width": null,
            "object_fit": null,
            "object_position": null,
            "order": null,
            "overflow": null,
            "overflow_x": null,
            "overflow_y": null,
            "padding": null,
            "right": null,
            "top": null,
            "visibility": null,
            "width": null
          }
        },
        "730b175ec4014ee78738494a09c4461c": {
          "model_module": "@jupyter-widgets/controls",
          "model_module_version": "1.5.0",
          "model_name": "FloatProgressModel",
          "state": {
            "_dom_classes": [],
            "_model_module": "@jupyter-widgets/controls",
            "_model_module_version": "1.5.0",
            "_model_name": "FloatProgressModel",
            "_view_count": null,
            "_view_module": "@jupyter-widgets/controls",
            "_view_module_version": "1.5.0",
            "_view_name": "ProgressView",
            "bar_style": "",
            "description": "",
            "description_tooltip": null,
            "layout": "IPY_MODEL_301a76fbc56b47288bf5aab2fe43484e",
            "max": 1,
            "min": 0,
            "orientation": "horizontal",
            "style": "IPY_MODEL_79aee67ec8814e968e06d4f8b8cade37",
            "value": 1
          }
        },
        "7815c1cba61e41b0b3e6056a6ef8a65e": {
          "model_module": "@jupyter-widgets/controls",
          "model_module_version": "1.5.0",
          "model_name": "DescriptionStyleModel",
          "state": {
            "_model_module": "@jupyter-widgets/controls",
            "_model_module_version": "1.5.0",
            "_model_name": "DescriptionStyleModel",
            "_view_count": null,
            "_view_module": "@jupyter-widgets/base",
            "_view_module_version": "1.2.0",
            "_view_name": "StyleView",
            "description_width": ""
          }
        },
        "79aee67ec8814e968e06d4f8b8cade37": {
          "model_module": "@jupyter-widgets/controls",
          "model_module_version": "1.5.0",
          "model_name": "ProgressStyleModel",
          "state": {
            "_model_module": "@jupyter-widgets/controls",
            "_model_module_version": "1.5.0",
            "_model_name": "ProgressStyleModel",
            "_view_count": null,
            "_view_module": "@jupyter-widgets/base",
            "_view_module_version": "1.2.0",
            "_view_name": "StyleView",
            "bar_color": null,
            "description_width": ""
          }
        },
        "7ae189487bc24a0fa0f546caa3c0f8d5": {
          "model_module": "@jupyter-widgets/controls",
          "model_module_version": "1.5.0",
          "model_name": "VBoxModel",
          "state": {
            "_dom_classes": [],
            "_model_module": "@jupyter-widgets/controls",
            "_model_module_version": "1.5.0",
            "_model_name": "VBoxModel",
            "_view_count": null,
            "_view_module": "@jupyter-widgets/controls",
            "_view_module_version": "1.5.0",
            "_view_name": "VBoxView",
            "box_style": "",
            "children": [
              "IPY_MODEL_a3d086425e804247b1bf540707f15d76",
              "IPY_MODEL_d457eed9d3d34c61ac9c3a4412c83d78"
            ],
            "layout": "IPY_MODEL_337b85767d054026bb23810a762bd675"
          }
        },
        "80ae8c6c0ef9406dbfea9a4e553ac3a2": {
          "model_module": "@jupyter-widgets/controls",
          "model_module_version": "1.5.0",
          "model_name": "FloatProgressModel",
          "state": {
            "_dom_classes": [],
            "_model_module": "@jupyter-widgets/controls",
            "_model_module_version": "1.5.0",
            "_model_name": "FloatProgressModel",
            "_view_count": null,
            "_view_module": "@jupyter-widgets/controls",
            "_view_module_version": "1.5.0",
            "_view_name": "ProgressView",
            "bar_style": "",
            "description": "",
            "description_tooltip": null,
            "layout": "IPY_MODEL_d77c5fa25f01422098b0841123159d54",
            "max": 1,
            "min": 0,
            "orientation": "horizontal",
            "style": "IPY_MODEL_864e8c5e0db042a488150ed864cc8ce1",
            "value": 1
          }
        },
        "81613e47ef604eb483531ecad6a94d6f": {
          "model_module": "@jupyter-widgets/base",
          "model_module_version": "1.2.0",
          "model_name": "LayoutModel",
          "state": {
            "_model_module": "@jupyter-widgets/base",
            "_model_module_version": "1.2.0",
            "_model_name": "LayoutModel",
            "_view_count": null,
            "_view_module": "@jupyter-widgets/base",
            "_view_module_version": "1.2.0",
            "_view_name": "LayoutView",
            "align_content": null,
            "align_items": null,
            "align_self": null,
            "border": null,
            "bottom": null,
            "display": null,
            "flex": null,
            "flex_flow": null,
            "grid_area": null,
            "grid_auto_columns": null,
            "grid_auto_flow": null,
            "grid_auto_rows": null,
            "grid_column": null,
            "grid_gap": null,
            "grid_row": null,
            "grid_template_areas": null,
            "grid_template_columns": null,
            "grid_template_rows": null,
            "height": null,
            "justify_content": null,
            "justify_items": null,
            "left": null,
            "margin": null,
            "max_height": null,
            "max_width": null,
            "min_height": null,
            "min_width": null,
            "object_fit": null,
            "object_position": null,
            "order": null,
            "overflow": null,
            "overflow_x": null,
            "overflow_y": null,
            "padding": null,
            "right": null,
            "top": null,
            "visibility": null,
            "width": null
          }
        },
        "864e8c5e0db042a488150ed864cc8ce1": {
          "model_module": "@jupyter-widgets/controls",
          "model_module_version": "1.5.0",
          "model_name": "ProgressStyleModel",
          "state": {
            "_model_module": "@jupyter-widgets/controls",
            "_model_module_version": "1.5.0",
            "_model_name": "ProgressStyleModel",
            "_view_count": null,
            "_view_module": "@jupyter-widgets/base",
            "_view_module_version": "1.2.0",
            "_view_name": "StyleView",
            "bar_color": null,
            "description_width": ""
          }
        },
        "8b31b9c1a59948438de3f295ed8d33d7": {
          "model_module": "@jupyter-widgets/base",
          "model_module_version": "1.2.0",
          "model_name": "LayoutModel",
          "state": {
            "_model_module": "@jupyter-widgets/base",
            "_model_module_version": "1.2.0",
            "_model_name": "LayoutModel",
            "_view_count": null,
            "_view_module": "@jupyter-widgets/base",
            "_view_module_version": "1.2.0",
            "_view_name": "LayoutView",
            "align_content": null,
            "align_items": null,
            "align_self": null,
            "border": null,
            "bottom": null,
            "display": null,
            "flex": null,
            "flex_flow": null,
            "grid_area": null,
            "grid_auto_columns": null,
            "grid_auto_flow": null,
            "grid_auto_rows": null,
            "grid_column": null,
            "grid_gap": null,
            "grid_row": null,
            "grid_template_areas": null,
            "grid_template_columns": null,
            "grid_template_rows": null,
            "height": null,
            "justify_content": null,
            "justify_items": null,
            "left": null,
            "margin": null,
            "max_height": null,
            "max_width": null,
            "min_height": null,
            "min_width": null,
            "object_fit": null,
            "object_position": null,
            "order": null,
            "overflow": null,
            "overflow_x": null,
            "overflow_y": null,
            "padding": null,
            "right": null,
            "top": null,
            "visibility": null,
            "width": null
          }
        },
        "920503b8fbb2475b99ef47f5d5a822ad": {
          "model_module": "@jupyter-widgets/base",
          "model_module_version": "1.2.0",
          "model_name": "LayoutModel",
          "state": {
            "_model_module": "@jupyter-widgets/base",
            "_model_module_version": "1.2.0",
            "_model_name": "LayoutModel",
            "_view_count": null,
            "_view_module": "@jupyter-widgets/base",
            "_view_module_version": "1.2.0",
            "_view_name": "LayoutView",
            "align_content": null,
            "align_items": null,
            "align_self": null,
            "border": null,
            "bottom": null,
            "display": null,
            "flex": null,
            "flex_flow": null,
            "grid_area": null,
            "grid_auto_columns": null,
            "grid_auto_flow": null,
            "grid_auto_rows": null,
            "grid_column": null,
            "grid_gap": null,
            "grid_row": null,
            "grid_template_areas": null,
            "grid_template_columns": null,
            "grid_template_rows": null,
            "height": null,
            "justify_content": null,
            "justify_items": null,
            "left": null,
            "margin": null,
            "max_height": null,
            "max_width": null,
            "min_height": null,
            "min_width": null,
            "object_fit": null,
            "object_position": null,
            "order": null,
            "overflow": null,
            "overflow_x": null,
            "overflow_y": null,
            "padding": null,
            "right": null,
            "top": null,
            "visibility": null,
            "width": null
          }
        },
        "a07ab11750024396858da8c0dddaa360": {
          "model_module": "@jupyter-widgets/controls",
          "model_module_version": "1.5.0",
          "model_name": "FloatProgressModel",
          "state": {
            "_dom_classes": [],
            "_model_module": "@jupyter-widgets/controls",
            "_model_module_version": "1.5.0",
            "_model_name": "FloatProgressModel",
            "_view_count": null,
            "_view_module": "@jupyter-widgets/controls",
            "_view_module_version": "1.5.0",
            "_view_name": "ProgressView",
            "bar_style": "",
            "description": "",
            "description_tooltip": null,
            "layout": "IPY_MODEL_07a6161c413c4d72b0b1ecb01664e610",
            "max": 1,
            "min": 0,
            "orientation": "horizontal",
            "style": "IPY_MODEL_238a770a46154f3a87ab3f60e7ff245f",
            "value": 1
          }
        },
        "a1079e5a9fa04e3083badb57f3ae04ab": {
          "model_module": "@jupyter-widgets/controls",
          "model_module_version": "1.5.0",
          "model_name": "DescriptionStyleModel",
          "state": {
            "_model_module": "@jupyter-widgets/controls",
            "_model_module_version": "1.5.0",
            "_model_name": "DescriptionStyleModel",
            "_view_count": null,
            "_view_module": "@jupyter-widgets/base",
            "_view_module_version": "1.2.0",
            "_view_name": "StyleView",
            "description_width": ""
          }
        },
        "a3d086425e804247b1bf540707f15d76": {
          "model_module": "@jupyter-widgets/controls",
          "model_module_version": "1.5.0",
          "model_name": "LabelModel",
          "state": {
            "_dom_classes": [],
            "_model_module": "@jupyter-widgets/controls",
            "_model_module_version": "1.5.0",
            "_model_name": "LabelModel",
            "_view_count": null,
            "_view_module": "@jupyter-widgets/controls",
            "_view_module_version": "1.5.0",
            "_view_name": "LabelView",
            "description": "",
            "description_tooltip": null,
            "layout": "IPY_MODEL_e62a6d1708154a038d45358b83534bf0",
            "placeholder": "​",
            "style": "IPY_MODEL_a1079e5a9fa04e3083badb57f3ae04ab",
            "value": "0.013 MB of 0.013 MB uploaded\r"
          }
        },
        "a8a33a0c920e4d8eb10970de3d75fe73": {
          "model_module": "@jupyter-widgets/controls",
          "model_module_version": "1.5.0",
          "model_name": "ProgressStyleModel",
          "state": {
            "_model_module": "@jupyter-widgets/controls",
            "_model_module_version": "1.5.0",
            "_model_name": "ProgressStyleModel",
            "_view_count": null,
            "_view_module": "@jupyter-widgets/base",
            "_view_module_version": "1.2.0",
            "_view_name": "StyleView",
            "bar_color": null,
            "description_width": ""
          }
        },
        "ae813c85b649414eb832f9343054e69f": {
          "model_module": "@jupyter-widgets/controls",
          "model_module_version": "1.5.0",
          "model_name": "VBoxModel",
          "state": {
            "_dom_classes": [],
            "_model_module": "@jupyter-widgets/controls",
            "_model_module_version": "1.5.0",
            "_model_name": "VBoxModel",
            "_view_count": null,
            "_view_module": "@jupyter-widgets/controls",
            "_view_module_version": "1.5.0",
            "_view_name": "VBoxView",
            "box_style": "",
            "children": [
              "IPY_MODEL_cf71eeba9b164458867d1015aad8b5ad",
              "IPY_MODEL_a07ab11750024396858da8c0dddaa360"
            ],
            "layout": "IPY_MODEL_b38c2741a78b4bab8de04a7739cefec0"
          }
        },
        "b38c2741a78b4bab8de04a7739cefec0": {
          "model_module": "@jupyter-widgets/base",
          "model_module_version": "1.2.0",
          "model_name": "LayoutModel",
          "state": {
            "_model_module": "@jupyter-widgets/base",
            "_model_module_version": "1.2.0",
            "_model_name": "LayoutModel",
            "_view_count": null,
            "_view_module": "@jupyter-widgets/base",
            "_view_module_version": "1.2.0",
            "_view_name": "LayoutView",
            "align_content": null,
            "align_items": null,
            "align_self": null,
            "border": null,
            "bottom": null,
            "display": null,
            "flex": null,
            "flex_flow": null,
            "grid_area": null,
            "grid_auto_columns": null,
            "grid_auto_flow": null,
            "grid_auto_rows": null,
            "grid_column": null,
            "grid_gap": null,
            "grid_row": null,
            "grid_template_areas": null,
            "grid_template_columns": null,
            "grid_template_rows": null,
            "height": null,
            "justify_content": null,
            "justify_items": null,
            "left": null,
            "margin": null,
            "max_height": null,
            "max_width": null,
            "min_height": null,
            "min_width": null,
            "object_fit": null,
            "object_position": null,
            "order": null,
            "overflow": null,
            "overflow_x": null,
            "overflow_y": null,
            "padding": null,
            "right": null,
            "top": null,
            "visibility": null,
            "width": null
          }
        },
        "bfab67308be843dfa5dd42085840b45f": {
          "model_module": "@jupyter-widgets/controls",
          "model_module_version": "1.5.0",
          "model_name": "LabelModel",
          "state": {
            "_dom_classes": [],
            "_model_module": "@jupyter-widgets/controls",
            "_model_module_version": "1.5.0",
            "_model_name": "LabelModel",
            "_view_count": null,
            "_view_module": "@jupyter-widgets/controls",
            "_view_module_version": "1.5.0",
            "_view_name": "LabelView",
            "description": "",
            "description_tooltip": null,
            "layout": "IPY_MODEL_0b1c57b2a292442eb671187ae8b76c9a",
            "placeholder": "​",
            "style": "IPY_MODEL_7815c1cba61e41b0b3e6056a6ef8a65e",
            "value": "0.013 MB of 0.013 MB uploaded\r"
          }
        },
        "c1bb81125390475ebe9174bf5b6569c2": {
          "model_module": "@jupyter-widgets/controls",
          "model_module_version": "1.5.0",
          "model_name": "VBoxModel",
          "state": {
            "_dom_classes": [],
            "_model_module": "@jupyter-widgets/controls",
            "_model_module_version": "1.5.0",
            "_model_name": "VBoxModel",
            "_view_count": null,
            "_view_module": "@jupyter-widgets/controls",
            "_view_module_version": "1.5.0",
            "_view_name": "VBoxView",
            "box_style": "",
            "children": [
              "IPY_MODEL_efdee16f479f461185a3b8602087e117",
              "IPY_MODEL_00820ff60cd34349a2a46063b8d15360"
            ],
            "layout": "IPY_MODEL_f6a0a7988c36422a83b2836f4c746d0d"
          }
        },
        "ccd5304584c24f8eb45299eb8e39af76": {
          "model_module": "@jupyter-widgets/base",
          "model_module_version": "1.2.0",
          "model_name": "LayoutModel",
          "state": {
            "_model_module": "@jupyter-widgets/base",
            "_model_module_version": "1.2.0",
            "_model_name": "LayoutModel",
            "_view_count": null,
            "_view_module": "@jupyter-widgets/base",
            "_view_module_version": "1.2.0",
            "_view_name": "LayoutView",
            "align_content": null,
            "align_items": null,
            "align_self": null,
            "border": null,
            "bottom": null,
            "display": null,
            "flex": null,
            "flex_flow": null,
            "grid_area": null,
            "grid_auto_columns": null,
            "grid_auto_flow": null,
            "grid_auto_rows": null,
            "grid_column": null,
            "grid_gap": null,
            "grid_row": null,
            "grid_template_areas": null,
            "grid_template_columns": null,
            "grid_template_rows": null,
            "height": null,
            "justify_content": null,
            "justify_items": null,
            "left": null,
            "margin": null,
            "max_height": null,
            "max_width": null,
            "min_height": null,
            "min_width": null,
            "object_fit": null,
            "object_position": null,
            "order": null,
            "overflow": null,
            "overflow_x": null,
            "overflow_y": null,
            "padding": null,
            "right": null,
            "top": null,
            "visibility": null,
            "width": null
          }
        },
        "cf71eeba9b164458867d1015aad8b5ad": {
          "model_module": "@jupyter-widgets/controls",
          "model_module_version": "1.5.0",
          "model_name": "LabelModel",
          "state": {
            "_dom_classes": [],
            "_model_module": "@jupyter-widgets/controls",
            "_model_module_version": "1.5.0",
            "_model_name": "LabelModel",
            "_view_count": null,
            "_view_module": "@jupyter-widgets/controls",
            "_view_module_version": "1.5.0",
            "_view_name": "LabelView",
            "description": "",
            "description_tooltip": null,
            "layout": "IPY_MODEL_1e805b1f4fb6486daec62117896cda5d",
            "placeholder": "​",
            "style": "IPY_MODEL_52026ef00feb44b8888f9f070bcbd815",
            "value": "0.017 MB of 0.017 MB uploaded\r"
          }
        },
        "d457eed9d3d34c61ac9c3a4412c83d78": {
          "model_module": "@jupyter-widgets/controls",
          "model_module_version": "1.5.0",
          "model_name": "FloatProgressModel",
          "state": {
            "_dom_classes": [],
            "_model_module": "@jupyter-widgets/controls",
            "_model_module_version": "1.5.0",
            "_model_name": "FloatProgressModel",
            "_view_count": null,
            "_view_module": "@jupyter-widgets/controls",
            "_view_module_version": "1.5.0",
            "_view_name": "ProgressView",
            "bar_style": "",
            "description": "",
            "description_tooltip": null,
            "layout": "IPY_MODEL_6e483f4c9f754b20a88adacad192cc3f",
            "max": 1,
            "min": 0,
            "orientation": "horizontal",
            "style": "IPY_MODEL_16f74f4cf6c745cab51f1dd17c75c01a",
            "value": 1
          }
        },
        "d64eeb65cb1d4ce7b4dd995afbefecb5": {
          "model_module": "@jupyter-widgets/base",
          "model_module_version": "1.2.0",
          "model_name": "LayoutModel",
          "state": {
            "_model_module": "@jupyter-widgets/base",
            "_model_module_version": "1.2.0",
            "_model_name": "LayoutModel",
            "_view_count": null,
            "_view_module": "@jupyter-widgets/base",
            "_view_module_version": "1.2.0",
            "_view_name": "LayoutView",
            "align_content": null,
            "align_items": null,
            "align_self": null,
            "border": null,
            "bottom": null,
            "display": null,
            "flex": null,
            "flex_flow": null,
            "grid_area": null,
            "grid_auto_columns": null,
            "grid_auto_flow": null,
            "grid_auto_rows": null,
            "grid_column": null,
            "grid_gap": null,
            "grid_row": null,
            "grid_template_areas": null,
            "grid_template_columns": null,
            "grid_template_rows": null,
            "height": null,
            "justify_content": null,
            "justify_items": null,
            "left": null,
            "margin": null,
            "max_height": null,
            "max_width": null,
            "min_height": null,
            "min_width": null,
            "object_fit": null,
            "object_position": null,
            "order": null,
            "overflow": null,
            "overflow_x": null,
            "overflow_y": null,
            "padding": null,
            "right": null,
            "top": null,
            "visibility": null,
            "width": null
          }
        },
        "d6e9c5bbc12346bea4d27d11cedbdb0e": {
          "model_module": "@jupyter-widgets/controls",
          "model_module_version": "1.5.0",
          "model_name": "DescriptionStyleModel",
          "state": {
            "_model_module": "@jupyter-widgets/controls",
            "_model_module_version": "1.5.0",
            "_model_name": "DescriptionStyleModel",
            "_view_count": null,
            "_view_module": "@jupyter-widgets/base",
            "_view_module_version": "1.2.0",
            "_view_name": "StyleView",
            "description_width": ""
          }
        },
        "d77c5fa25f01422098b0841123159d54": {
          "model_module": "@jupyter-widgets/base",
          "model_module_version": "1.2.0",
          "model_name": "LayoutModel",
          "state": {
            "_model_module": "@jupyter-widgets/base",
            "_model_module_version": "1.2.0",
            "_model_name": "LayoutModel",
            "_view_count": null,
            "_view_module": "@jupyter-widgets/base",
            "_view_module_version": "1.2.0",
            "_view_name": "LayoutView",
            "align_content": null,
            "align_items": null,
            "align_self": null,
            "border": null,
            "bottom": null,
            "display": null,
            "flex": null,
            "flex_flow": null,
            "grid_area": null,
            "grid_auto_columns": null,
            "grid_auto_flow": null,
            "grid_auto_rows": null,
            "grid_column": null,
            "grid_gap": null,
            "grid_row": null,
            "grid_template_areas": null,
            "grid_template_columns": null,
            "grid_template_rows": null,
            "height": null,
            "justify_content": null,
            "justify_items": null,
            "left": null,
            "margin": null,
            "max_height": null,
            "max_width": null,
            "min_height": null,
            "min_width": null,
            "object_fit": null,
            "object_position": null,
            "order": null,
            "overflow": null,
            "overflow_x": null,
            "overflow_y": null,
            "padding": null,
            "right": null,
            "top": null,
            "visibility": null,
            "width": null
          }
        },
        "d7a3b2ac92c94118b55aa132a9e52c56": {
          "model_module": "@jupyter-widgets/controls",
          "model_module_version": "1.5.0",
          "model_name": "FloatProgressModel",
          "state": {
            "_dom_classes": [],
            "_model_module": "@jupyter-widgets/controls",
            "_model_module_version": "1.5.0",
            "_model_name": "FloatProgressModel",
            "_view_count": null,
            "_view_module": "@jupyter-widgets/controls",
            "_view_module_version": "1.5.0",
            "_view_name": "ProgressView",
            "bar_style": "",
            "description": "",
            "description_tooltip": null,
            "layout": "IPY_MODEL_31f92244421e49a29e8303355416c8f0",
            "max": 1,
            "min": 0,
            "orientation": "horizontal",
            "style": "IPY_MODEL_5cba8949c3084fa195172b28cc8ef35a",
            "value": 1
          }
        },
        "d7bb0bd4f7ba4386ad4fa74347797257": {
          "model_module": "@jupyter-widgets/controls",
          "model_module_version": "1.5.0",
          "model_name": "LabelModel",
          "state": {
            "_dom_classes": [],
            "_model_module": "@jupyter-widgets/controls",
            "_model_module_version": "1.5.0",
            "_model_name": "LabelModel",
            "_view_count": null,
            "_view_module": "@jupyter-widgets/controls",
            "_view_module_version": "1.5.0",
            "_view_name": "LabelView",
            "description": "",
            "description_tooltip": null,
            "layout": "IPY_MODEL_0816b7feb6f645788e1033a9bf65c823",
            "placeholder": "​",
            "style": "IPY_MODEL_fe66d8dec92443b6866d2c25456a6dda",
            "value": "0.013 MB of 0.013 MB uploaded\r"
          }
        },
        "de41bea323204239b9450ea4de2d3664": {
          "model_module": "@jupyter-widgets/controls",
          "model_module_version": "1.5.0",
          "model_name": "VBoxModel",
          "state": {
            "_dom_classes": [],
            "_model_module": "@jupyter-widgets/controls",
            "_model_module_version": "1.5.0",
            "_model_name": "VBoxModel",
            "_view_count": null,
            "_view_module": "@jupyter-widgets/controls",
            "_view_module_version": "1.5.0",
            "_view_name": "VBoxView",
            "box_style": "",
            "children": [
              "IPY_MODEL_5265abf2c18e4291b71d49b3d14a884e",
              "IPY_MODEL_294471e28c9a4e6da32e5aae848db999"
            ],
            "layout": "IPY_MODEL_920503b8fbb2475b99ef47f5d5a822ad"
          }
        },
        "de56f48794df4affbef84ce0bc06ab00": {
          "model_module": "@jupyter-widgets/base",
          "model_module_version": "1.2.0",
          "model_name": "LayoutModel",
          "state": {
            "_model_module": "@jupyter-widgets/base",
            "_model_module_version": "1.2.0",
            "_model_name": "LayoutModel",
            "_view_count": null,
            "_view_module": "@jupyter-widgets/base",
            "_view_module_version": "1.2.0",
            "_view_name": "LayoutView",
            "align_content": null,
            "align_items": null,
            "align_self": null,
            "border": null,
            "bottom": null,
            "display": null,
            "flex": null,
            "flex_flow": null,
            "grid_area": null,
            "grid_auto_columns": null,
            "grid_auto_flow": null,
            "grid_auto_rows": null,
            "grid_column": null,
            "grid_gap": null,
            "grid_row": null,
            "grid_template_areas": null,
            "grid_template_columns": null,
            "grid_template_rows": null,
            "height": null,
            "justify_content": null,
            "justify_items": null,
            "left": null,
            "margin": null,
            "max_height": null,
            "max_width": null,
            "min_height": null,
            "min_width": null,
            "object_fit": null,
            "object_position": null,
            "order": null,
            "overflow": null,
            "overflow_x": null,
            "overflow_y": null,
            "padding": null,
            "right": null,
            "top": null,
            "visibility": null,
            "width": null
          }
        },
        "e62a6d1708154a038d45358b83534bf0": {
          "model_module": "@jupyter-widgets/base",
          "model_module_version": "1.2.0",
          "model_name": "LayoutModel",
          "state": {
            "_model_module": "@jupyter-widgets/base",
            "_model_module_version": "1.2.0",
            "_model_name": "LayoutModel",
            "_view_count": null,
            "_view_module": "@jupyter-widgets/base",
            "_view_module_version": "1.2.0",
            "_view_name": "LayoutView",
            "align_content": null,
            "align_items": null,
            "align_self": null,
            "border": null,
            "bottom": null,
            "display": null,
            "flex": null,
            "flex_flow": null,
            "grid_area": null,
            "grid_auto_columns": null,
            "grid_auto_flow": null,
            "grid_auto_rows": null,
            "grid_column": null,
            "grid_gap": null,
            "grid_row": null,
            "grid_template_areas": null,
            "grid_template_columns": null,
            "grid_template_rows": null,
            "height": null,
            "justify_content": null,
            "justify_items": null,
            "left": null,
            "margin": null,
            "max_height": null,
            "max_width": null,
            "min_height": null,
            "min_width": null,
            "object_fit": null,
            "object_position": null,
            "order": null,
            "overflow": null,
            "overflow_x": null,
            "overflow_y": null,
            "padding": null,
            "right": null,
            "top": null,
            "visibility": null,
            "width": null
          }
        },
        "efdee16f479f461185a3b8602087e117": {
          "model_module": "@jupyter-widgets/controls",
          "model_module_version": "1.5.0",
          "model_name": "LabelModel",
          "state": {
            "_dom_classes": [],
            "_model_module": "@jupyter-widgets/controls",
            "_model_module_version": "1.5.0",
            "_model_name": "LabelModel",
            "_view_count": null,
            "_view_module": "@jupyter-widgets/controls",
            "_view_module_version": "1.5.0",
            "_view_name": "LabelView",
            "description": "",
            "description_tooltip": null,
            "layout": "IPY_MODEL_0b795209fa224d199fbea440807671fd",
            "placeholder": "​",
            "style": "IPY_MODEL_41a5b5536b6b4a5d831152ca0cc023d0",
            "value": "0.013 MB of 0.013 MB uploaded\r"
          }
        },
        "f1c1b2a1037d40ac843e3880caf045c2": {
          "model_module": "@jupyter-widgets/controls",
          "model_module_version": "1.5.0",
          "model_name": "DescriptionStyleModel",
          "state": {
            "_model_module": "@jupyter-widgets/controls",
            "_model_module_version": "1.5.0",
            "_model_name": "DescriptionStyleModel",
            "_view_count": null,
            "_view_module": "@jupyter-widgets/base",
            "_view_module_version": "1.2.0",
            "_view_name": "StyleView",
            "description_width": ""
          }
        },
        "f6a0a7988c36422a83b2836f4c746d0d": {
          "model_module": "@jupyter-widgets/base",
          "model_module_version": "1.2.0",
          "model_name": "LayoutModel",
          "state": {
            "_model_module": "@jupyter-widgets/base",
            "_model_module_version": "1.2.0",
            "_model_name": "LayoutModel",
            "_view_count": null,
            "_view_module": "@jupyter-widgets/base",
            "_view_module_version": "1.2.0",
            "_view_name": "LayoutView",
            "align_content": null,
            "align_items": null,
            "align_self": null,
            "border": null,
            "bottom": null,
            "display": null,
            "flex": null,
            "flex_flow": null,
            "grid_area": null,
            "grid_auto_columns": null,
            "grid_auto_flow": null,
            "grid_auto_rows": null,
            "grid_column": null,
            "grid_gap": null,
            "grid_row": null,
            "grid_template_areas": null,
            "grid_template_columns": null,
            "grid_template_rows": null,
            "height": null,
            "justify_content": null,
            "justify_items": null,
            "left": null,
            "margin": null,
            "max_height": null,
            "max_width": null,
            "min_height": null,
            "min_width": null,
            "object_fit": null,
            "object_position": null,
            "order": null,
            "overflow": null,
            "overflow_x": null,
            "overflow_y": null,
            "padding": null,
            "right": null,
            "top": null,
            "visibility": null,
            "width": null
          }
        },
        "f6c9a11012364306803a1b15e17495ce": {
          "model_module": "@jupyter-widgets/base",
          "model_module_version": "1.2.0",
          "model_name": "LayoutModel",
          "state": {
            "_model_module": "@jupyter-widgets/base",
            "_model_module_version": "1.2.0",
            "_model_name": "LayoutModel",
            "_view_count": null,
            "_view_module": "@jupyter-widgets/base",
            "_view_module_version": "1.2.0",
            "_view_name": "LayoutView",
            "align_content": null,
            "align_items": null,
            "align_self": null,
            "border": null,
            "bottom": null,
            "display": null,
            "flex": null,
            "flex_flow": null,
            "grid_area": null,
            "grid_auto_columns": null,
            "grid_auto_flow": null,
            "grid_auto_rows": null,
            "grid_column": null,
            "grid_gap": null,
            "grid_row": null,
            "grid_template_areas": null,
            "grid_template_columns": null,
            "grid_template_rows": null,
            "height": null,
            "justify_content": null,
            "justify_items": null,
            "left": null,
            "margin": null,
            "max_height": null,
            "max_width": null,
            "min_height": null,
            "min_width": null,
            "object_fit": null,
            "object_position": null,
            "order": null,
            "overflow": null,
            "overflow_x": null,
            "overflow_y": null,
            "padding": null,
            "right": null,
            "top": null,
            "visibility": null,
            "width": null
          }
        },
        "f882bd5e72824efea9262c18462605ee": {
          "model_module": "@jupyter-widgets/controls",
          "model_module_version": "1.5.0",
          "model_name": "ProgressStyleModel",
          "state": {
            "_model_module": "@jupyter-widgets/controls",
            "_model_module_version": "1.5.0",
            "_model_name": "ProgressStyleModel",
            "_view_count": null,
            "_view_module": "@jupyter-widgets/base",
            "_view_module_version": "1.2.0",
            "_view_name": "StyleView",
            "bar_color": null,
            "description_width": ""
          }
        },
        "fe66d8dec92443b6866d2c25456a6dda": {
          "model_module": "@jupyter-widgets/controls",
          "model_module_version": "1.5.0",
          "model_name": "DescriptionStyleModel",
          "state": {
            "_model_module": "@jupyter-widgets/controls",
            "_model_module_version": "1.5.0",
            "_model_name": "DescriptionStyleModel",
            "_view_count": null,
            "_view_module": "@jupyter-widgets/base",
            "_view_module_version": "1.2.0",
            "_view_name": "StyleView",
            "description_width": ""
          }
        }
      }
    }
  },
  "nbformat": 4,
  "nbformat_minor": 0
}