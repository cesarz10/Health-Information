{
  "cells": [
    {
      "cell_type": "markdown",
      "metadata": {
        "deletable": false,
        "nbgrader": {
          "checksum": "f511eff26871492f3fa4ae077230fe51",
          "grade": false,
          "grade_id": "cell-f77284e87f75a760",
          "locked": true,
          "schema_version": 1,
          "solution": false
        },
        "id": "EqqZChSMw_tW"
      },
      "source": [
        "# Health Information Systems and Decision Support Systems\n",
        "# WPO 5: - CAD Systems (15/03/2024)\n",
        "***\n",
        "*Panagiotis Gonidakis, Jakub Ceranka, Joris Wuts, Jef Vandemeulebrouke*<br>\n",
        "*Department of Electronics and Informatics (ETRO)*<br>\n",
        "*Vrije Universiteit Brussel, Pleinlaan 2, B-1050 Brussels, Belgium*"
      ]
    },
    {
      "cell_type": "markdown",
      "metadata": {
        "id": "QoznCU3xw_te"
      },
      "source": [
        "<font color=blue>Aline Jacquart - 0567936 <br>\n",
        "                 César Zapata - 0596811</font>"
      ]
    },
    {
      "cell_type": "markdown",
      "metadata": {
        "deletable": false,
        "nbgrader": {
          "checksum": "35e56d1502506c7d95a2179be1975802",
          "grade": false,
          "grade_id": "cell-1180f9385da3b954",
          "locked": true,
          "schema_version": 1,
          "solution": false
        },
        "id": "4HQWrOqFw_tf"
      },
      "source": [
        "### Goal\n",
        "The goal of this practical session is to get an insight into artificial neural networks, more specifically multi-layer perceptrons (MLP) and convolutional neural networks (CNN). Your tasks will involve:\n",
        "- examining and pre-processing the real life lung nodule CT data\n",
        "- training various neural networks with increasing complexity to classify if there is a lung nodule on the CT image\n",
        "- validating the performance of your system against the manual ground-truth predictions prepared by an experienced radiologist.\n",
        "- visualizing training graphs and analysing information about model performance\n",
        "\n",
        "Students must send their notebook (and `wandb` generated report for all models in `pdf`) using the Assignment functionaly of Canvas before <b> 21/03/2024, 23:59 pm. </b>, in `.ipynb` and `.html` format. The grade from this practical session will contribute to your final grade.\n",
        "\n",
        "Questions: [jceranka@etrovub.be](mailto:jceranka@etrovub.be), [jwuts@etrovub.be](mailto:jwuts@etrovub.be)"
      ]
    },
    {
      "cell_type": "markdown",
      "metadata": {
        "deletable": false,
        "nbgrader": {
          "checksum": "5287e4bf438bc9b077ef9f2e4bcec518",
          "grade": false,
          "grade_id": "cell-65dd4b67d3695b43",
          "locked": true,
          "schema_version": 1,
          "solution": false
        },
        "id": "dxhWsPacw_th"
      },
      "source": [
        "# Libraries\n",
        "During this practical session, the following libraries will be used:\n",
        "\n",
        "* Numpy (np)\n",
        "* Glob\n",
        "* Simple ITK (sitk)\n",
        "* Matplotlib\n",
        "* Sklearn\n",
        "* Tensorflow (tf)\n",
        "* Keras (you can also use pytorch if you are more familiar)\n",
        "* wandb\n",
        "\n",
        "To import any external library, you need to import it using the **import** statement followed by the name of the library and the shortcut. You can additionally check for the module version using **version** command.\n",
        "\n",
        "* If you use your own laptop, you will need to install new modules.\n",
        "\n",
        "* These expirements are simplified in order to be run without the need of a powerful GPU. However some training tasks may take 30-40 minutes using a CPU. You can accelerate your expirements if you work on [Google colab](https://colab.research.google.com/) framework where a GPU is offered. Then you need to create a GoogleDrive account and upload all the necessary data (scripts + data).\n",
        "For more information look [here](https://colab.research.google.com/) and [here](https://colab.research.google.com/notebooks/gpu.ipynb)."
      ]
    },
    {
      "cell_type": "markdown",
      "metadata": {
        "deletable": false,
        "nbgrader": {
          "checksum": "90dddf608397c1410372081b65393f39",
          "grade": false,
          "grade_id": "cell-cfeba9f5a5235a75",
          "locked": true,
          "schema_version": 1,
          "solution": false
        },
        "id": "PwCkQBzTw_ti"
      },
      "source": [
        "### Tensorflow and Keras\n",
        "\n",
        "TensorFlow (https://www.tensorflow.org/) is an end-to-end open-source platform for machine learning. It’s a comprehensive and flexible ecosystem of tools, libraries and other resources that provide workflows with high-level APIs. The framework offers various levels of concepts for you to choose the one you need to build and deploy machine learning models.\n",
        "\n",
        "Keras (https://keras.io/), on the other hand, is a high-level neural networks library that is running on the top of TensorFlow. Using Keras in deep learning allows for easy and fast prototyping as well as running seamlessly on CPU and GPU. This framework is written in Python code which is easy to debug and allows ease for extensibility. Keras offers simple and consistent high-level APIs and follows best practices to reduce the cognitive load for the users. Both frameworks provide high-level APIs for building and training models with ease. Keras is built in Python which makes it way more user-friendly than TensorFlow.\n",
        "\n",
        "In this exercise, <b>we recommend to use Keras</b> which allows to create/train/test neural networks with very few lines of understandable code.\n",
        "\n",
        "Keras requires Tensorflow to be installed. Normally, the new versions of Keras installs it automatically.\n",
        "\n",
        "To install Keras, open the anaconda prompt and then type:\n",
        " ```pip install keras```\n",
        "    \n",
        "If not done automatically:\n",
        " ```pip install tensorflow``` and after ```pip install keras```\n",
        "\n",
        "To start using visualization platform Weights-And-Biases go to (https://wandb.ai/) and create an account. Locally do: ```pip install wandb```\n",
        "\n",
        "\n",
        "Here are some useful resources (installation + documentation):\n",
        "\n",
        "* https://phoenixnap.com/kb/how-to-install-keras-on-linux <p>\n",
        "* https://www.tensorflow.org/install <p>\n",
        "* https://keras.io/getting_started/ <p>\n",
        "* https://keras.io/api/models/ <p>\n",
        "* https://keras.io/api/models/sequential/ <p>\n",
        "* https://docs.wandb.ai/quickstart <p>\n",
        "    \n",
        "(*) For the purpose of this exercise, you don't need to use a GPU; tensorflow and keras can be configured to run on a CPU and the most demanding training tasks should not take more than 30 min. On the other hand, [colab](https://colab.research.google.com/) offers GPU development environment and the training tasks can really be accelerated.\n",
        "\n",
        "(*) Make sure you are using tensorflow 2. It is advised to verify which version it is being used before looking for any documentation as the APIs differ."
      ]
    },
    {
      "cell_type": "markdown",
      "metadata": {
        "deletable": false,
        "nbgrader": {
          "checksum": "8f6b761e553767615fad950fc7d54345",
          "grade": false,
          "grade_id": "cell-e04efc9902fe123b",
          "locked": true,
          "schema_version": 1,
          "solution": false
        },
        "id": "nKB_7Lagw_tk"
      },
      "source": [
        "# Lung Nodule Analysis\n",
        "Lung cancer is the leading cause of cancer-related deaths worldwide. Screening high risk individuals for lung cancer with low-dose CT scans is now being implemented in the United States and other countries are expected to follow soon. In CT lung cancer screening, millions of CT scans will have to be analyzed, which is an enormous burden for radiologists. Therefore, there is a lot of interest in development of computer algorithms to optimize cancer screening.\n",
        "\n",
        "<img src=\"images/luna16_image.png\">\n",
        "\n",
        "A vital first step in the analysis of lung cancer CT scans is the detection of pulmonary nodules, which may or may not represent early stage lung cancer. Many computer-aided detection (CAD) systems have already been proposed for this task.\n",
        "\n",
        "The LIDC/IDRI data set is publicly available, including the ground-truth annotations of nodules performed by four radiologists.\n",
        "\n",
        "This practical session is inspired from the challenge [LUNA16](https://luna16.grand-challenge.org/home/), which focused on a large-scale evaluation of automatic nodule detection algorithms on the LIDC/IDRI data set.\n",
        "\n",
        "<img src=\"images/lung_cancer1.png\">\n",
        "\n",
        "\n",
        "### Using LIDC/IDRI data set in this practical session\n",
        "\n",
        "For the needs of this practical session, we will look for an algorithm that only determines the likelihood for a given location in a CT scan to contain a pulmonary nodule. Furthermore, we have included a very small part of the LIDC/IDRI data set and we will use only a slice of suspicious regions of a CT scan.\n",
        "\n",
        "### Data augmentation\n",
        "\n",
        "Originally our dataset was very unbalanced. There were a lot samples of non-nodules (negatives) but very few samples of nodules (positives). Machine learning algorithms and specifically neural networks and convolutional neural networks require to be trained on balanced dataset, meaning all the classes should be equally represented in the training set.\n",
        "\n",
        "Using data augmentation methods (**rotation and translation**), positive samples were massively augmented in order to balance the two classes (nodules and non-nodules)\n",
        "\n",
        "### Ground Truth data\n",
        "\n",
        "Categorical data are variables that contain label values rather than numeric values. In our dataset, a sample can represent a nodule or a non-nodule area, so initially we have our ground truth data in a categorical form. Many machine learning algorithms cannot operate on label data directly. They require all input variables to be numeric. This means that categorical data must be converted to a numerical form. This involves two steps:\n",
        "1. Integer Encoding\n",
        "2. One-Hot Encoding.\n",
        "\n",
        "As a first step, each unique category value is assigned an integer value. That's why in our dataset, a sample which represents a nodule will have as a label `1` and a sample which represents a non-nodule area will have as a label `0`.\n",
        "\n",
        "For our case, this enconding step would be enough since we have only two categories. However, in a more general problem with more than two classes, using this encoding allows the model to assume a natural ordering between categories which may result in poor performance or unexpected results. That's why, one hot encoding can be appled to the integer representation. This is where the integer encoded variable is removed and a new binary variable is added for each unique integer value.\n",
        "\n",
        "Therefore, a  nodule will be represented by the binary variable `[1,0]` and a non-nodule area by the binary variable `[0,1]`.\n",
        "\n",
        "<img src=\"images/lung_cancer2.png\">\n"
      ]
    },
    {
      "cell_type": "markdown",
      "metadata": {
        "deletable": false,
        "nbgrader": {
          "checksum": "77b5ce922c11056fda2cc0a605361876",
          "grade": false,
          "grade_id": "cell-88edf7d56c17540b",
          "locked": true,
          "schema_version": 1,
          "solution": false
        },
        "id": "kft0iSz8w_tm"
      },
      "source": [
        "# Part 1: Visualize, load and prepare data for Machine Learning Algorithms\n",
        "\n",
        "CT images are stored in MetaImage (`mhd/raw`) format. Each .mhd file is stored with as a header file (`.mhd`) and a corresponding pixeldata file (`.raw`). To load a CT image, just **load the `.mhd` header file** and data from the binary .raw file will be automatically loaded.\n",
        "\n",
        "If you look carefully at the name of each .mhd file, you can extract useful information for a specific sample. You can identify its **number id**, its **size**, if the image was produced by a **data augmentation** method and if it contains a **nodule or not**.\n",
        "\n",
        "For example: *20046_x0y0z0_20x20x6_r0_1.mhd*\n",
        "* **20046**:   number of candidate patch\n",
        "* **x0y0z0**: no translation in any axis (if augmentation is used it is mentioned by the angle in the corresponding axis)\n",
        "* **20x20x6**: size of the image in voxels\n",
        "* **r0**:     no rotation\n",
        "* **1**:      it is a positive sample - represents a nodule\n",
        "* **.mhd**:   it is a mhd file (this is the file which can be loaded)"
      ]
    },
    {
      "cell_type": "markdown",
      "metadata": {
        "deletable": false,
        "nbgrader": {
          "checksum": "eaa451a946fc33d891799f2910eb06af",
          "grade": false,
          "grade_id": "cell-6e65384d14dac861",
          "locked": true,
          "schema_version": 1,
          "solution": false
        },
        "id": "iH-yaFFcw_tn"
      },
      "source": [
        "### Task 1: Import necessary libraries\n",
        "\n",
        "Load all necessary libraries using the **import** statement and check for errors."
      ]
    },
    {
      "cell_type": "code",
      "source": [
        "from google.colab import drive\n",
        "drive.mount('/content/drive')"
      ],
      "metadata": {
        "id": "aWoTLjKtyfpG",
        "colab": {
          "base_uri": "https://localhost:8080/"
        },
        "outputId": "fb7896e7-ee69-4ee5-f3ec-2292df5a050c"
      },
      "execution_count": 1,
      "outputs": [
        {
          "output_type": "stream",
          "name": "stdout",
          "text": [
            "Mounted at /content/drive\n"
          ]
        }
      ]
    },
    {
      "cell_type": "code",
      "source": [
        "!pip install SimpleITK\n",
        "!pip install wandb"
      ],
      "metadata": {
        "colab": {
          "base_uri": "https://localhost:8080/"
        },
        "id": "QfazfgCPACPA",
        "outputId": "d454d1c0-c255-46a0-80b7-e255e46d9c43"
      },
      "execution_count": 3,
      "outputs": [
        {
          "output_type": "stream",
          "name": "stdout",
          "text": [
            "Collecting SimpleITK\n",
            "  Downloading SimpleITK-2.3.1-cp310-cp310-manylinux_2_17_x86_64.manylinux2014_x86_64.whl (52.7 MB)\n",
            "\u001b[2K     \u001b[90m━━━━━━━━━━━━━━━━━━━━━━━━━━━━━━━━━━━━━━━━\u001b[0m \u001b[32m52.7/52.7 MB\u001b[0m \u001b[31m12.2 MB/s\u001b[0m eta \u001b[36m0:00:00\u001b[0m\n",
            "\u001b[?25hInstalling collected packages: SimpleITK\n",
            "Successfully installed SimpleITK-2.3.1\n",
            "Collecting wandb\n",
            "  Downloading wandb-0.16.4-py3-none-any.whl (2.2 MB)\n",
            "\u001b[2K     \u001b[90m━━━━━━━━━━━━━━━━━━━━━━━━━━━━━━━━━━━━━━━━\u001b[0m \u001b[32m2.2/2.2 MB\u001b[0m \u001b[31m12.3 MB/s\u001b[0m eta \u001b[36m0:00:00\u001b[0m\n",
            "\u001b[?25hRequirement already satisfied: Click!=8.0.0,>=7.1 in /usr/local/lib/python3.10/dist-packages (from wandb) (8.1.7)\n",
            "Collecting GitPython!=3.1.29,>=1.0.0 (from wandb)\n",
            "  Downloading GitPython-3.1.42-py3-none-any.whl (195 kB)\n",
            "\u001b[2K     \u001b[90m━━━━━━━━━━━━━━━━━━━━━━━━━━━━━━━━━━━━━━━━\u001b[0m \u001b[32m195.4/195.4 kB\u001b[0m \u001b[31m15.5 MB/s\u001b[0m eta \u001b[36m0:00:00\u001b[0m\n",
            "\u001b[?25hRequirement already satisfied: requests<3,>=2.0.0 in /usr/local/lib/python3.10/dist-packages (from wandb) (2.31.0)\n",
            "Requirement already satisfied: psutil>=5.0.0 in /usr/local/lib/python3.10/dist-packages (from wandb) (5.9.5)\n",
            "Collecting sentry-sdk>=1.0.0 (from wandb)\n",
            "  Downloading sentry_sdk-1.43.0-py2.py3-none-any.whl (264 kB)\n",
            "\u001b[2K     \u001b[90m━━━━━━━━━━━━━━━━━━━━━━━━━━━━━━━━━━━━━━━━\u001b[0m \u001b[32m264.6/264.6 kB\u001b[0m \u001b[31m19.8 MB/s\u001b[0m eta \u001b[36m0:00:00\u001b[0m\n",
            "\u001b[?25hCollecting docker-pycreds>=0.4.0 (from wandb)\n",
            "  Downloading docker_pycreds-0.4.0-py2.py3-none-any.whl (9.0 kB)\n",
            "Requirement already satisfied: PyYAML in /usr/local/lib/python3.10/dist-packages (from wandb) (6.0.1)\n",
            "Collecting setproctitle (from wandb)\n",
            "  Downloading setproctitle-1.3.3-cp310-cp310-manylinux_2_5_x86_64.manylinux1_x86_64.manylinux_2_17_x86_64.manylinux2014_x86_64.whl (30 kB)\n",
            "Requirement already satisfied: setuptools in /usr/local/lib/python3.10/dist-packages (from wandb) (67.7.2)\n",
            "Requirement already satisfied: appdirs>=1.4.3 in /usr/local/lib/python3.10/dist-packages (from wandb) (1.4.4)\n",
            "Requirement already satisfied: protobuf!=4.21.0,<5,>=3.19.0 in /usr/local/lib/python3.10/dist-packages (from wandb) (3.20.3)\n",
            "Requirement already satisfied: six>=1.4.0 in /usr/local/lib/python3.10/dist-packages (from docker-pycreds>=0.4.0->wandb) (1.16.0)\n",
            "Collecting gitdb<5,>=4.0.1 (from GitPython!=3.1.29,>=1.0.0->wandb)\n",
            "  Downloading gitdb-4.0.11-py3-none-any.whl (62 kB)\n",
            "\u001b[2K     \u001b[90m━━━━━━━━━━━━━━━━━━━━━━━━━━━━━━━━━━━━━━━━\u001b[0m \u001b[32m62.7/62.7 kB\u001b[0m \u001b[31m7.1 MB/s\u001b[0m eta \u001b[36m0:00:00\u001b[0m\n",
            "\u001b[?25hRequirement already satisfied: charset-normalizer<4,>=2 in /usr/local/lib/python3.10/dist-packages (from requests<3,>=2.0.0->wandb) (3.3.2)\n",
            "Requirement already satisfied: idna<4,>=2.5 in /usr/local/lib/python3.10/dist-packages (from requests<3,>=2.0.0->wandb) (3.6)\n",
            "Requirement already satisfied: urllib3<3,>=1.21.1 in /usr/local/lib/python3.10/dist-packages (from requests<3,>=2.0.0->wandb) (2.0.7)\n",
            "Requirement already satisfied: certifi>=2017.4.17 in /usr/local/lib/python3.10/dist-packages (from requests<3,>=2.0.0->wandb) (2024.2.2)\n",
            "Collecting smmap<6,>=3.0.1 (from gitdb<5,>=4.0.1->GitPython!=3.1.29,>=1.0.0->wandb)\n",
            "  Downloading smmap-5.0.1-py3-none-any.whl (24 kB)\n",
            "Installing collected packages: smmap, setproctitle, sentry-sdk, docker-pycreds, gitdb, GitPython, wandb\n",
            "Successfully installed GitPython-3.1.42 docker-pycreds-0.4.0 gitdb-4.0.11 sentry-sdk-1.43.0 setproctitle-1.3.3 smmap-5.0.1 wandb-0.16.4\n"
          ]
        }
      ]
    },
    {
      "cell_type": "code",
      "execution_count": 4,
      "metadata": {
        "collapsed": true,
        "jupyter": {
          "outputs_hidden": true
        },
        "id": "1LKweVwHw_to",
        "colab": {
          "base_uri": "https://localhost:8080/"
        },
        "outputId": "25a86515-6526-4b4f-cabc-6dc3f902d7ea"
      },
      "outputs": [
        {
          "output_type": "stream",
          "name": "stdout",
          "text": [
            "\u001b[0m\u001b[01;34mdrive\u001b[0m/  \u001b[01;34msample_data\u001b[0m/\n"
          ]
        }
      ],
      "source": [
        "# Code for Part 1: Task 1\n",
        "import os\n",
        "import re\n",
        "import glob\n",
        "import keras\n",
        "import wandb\n",
        "import sklearn\n",
        "import numpy as np\n",
        "import pandas as pd\n",
        "import tensorflow as tf\n",
        "import SimpleITK as sitk\n",
        "from matplotlib import pyplot as plt\n",
        "from sklearn.model_selection import train_test_split\n",
        "\n",
        "%ls"
      ]
    },
    {
      "cell_type": "markdown",
      "metadata": {
        "deletable": false,
        "nbgrader": {
          "checksum": "945c2ee4613c085addad9e466a2e2d03",
          "grade": false,
          "grade_id": "cell-1f6fe6d45fa0e86d",
          "locked": true,
          "schema_version": 1,
          "solution": false
        },
        "id": "dihVp5kcw_tr"
      },
      "source": [
        "### Task 2: Inspect the dataset\n",
        "\n",
        "1. Using `SimpleITK`, create a function to load `.mhd` files (__Tip:__ The function should return a numpy array - `sitk.GetArrayFromImage( )`)\n",
        "2. Visualize the 6 slices of a chosen patch using `matplotlib` subplot figure and mention if it is a positive or a negative patch (Use colorscale `gray`)\n",
        "3. Visualize some augmented samples from the same candidate region using `matplotlib` subplot of the same patch and mention the augmentation method. Check visually if the observed patch was modified using the same augmentation method that is mentioned in the samples' filename.\n",
        "4. Count your files. How many positives and negatives there are in this dataset? (__Tip:__ Use `glob` library to get the number of specific files in your dataset)."
      ]
    },
    {
      "cell_type": "code",
      "execution_count": 6,
      "metadata": {
        "collapsed": true,
        "jupyter": {
          "outputs_hidden": true
        },
        "id": "XNVQINzpw_ts",
        "colab": {
          "base_uri": "https://localhost:8080/",
          "height": 770
        },
        "outputId": "252a58b3-861a-41ff-d5c1-80ca5e05cefe"
      },
      "outputs": [
        {
          "output_type": "display_data",
          "data": {
            "text/plain": [
              "<Figure size 800x800 with 6 Axes>"
            ],
            "image/png": "[encoded data removed]"
          },
          "metadata": {}
        }
      ],
      "source": [
        "# Code for Part 1: Task 2\n",
        "# function to show the 6 different slices for a given image of the dataset\n",
        "def showImageSlices(image_name, path, dir):\n",
        "\n",
        "    image = sitk.ReadImage(f\"{path}/{dir}/{image_name}\") # loading image\n",
        "    img_to_read = sitk.GetArrayFromImage(image) # converting to array\n",
        "    arr_image = [] # empty array for slices\n",
        "\n",
        "    for i in range(6):\n",
        "      arr_image.append(img_to_read[i, :, :]) # appending slices to empty array\n",
        "\n",
        "    # plotting image slices\n",
        "    figs, axs = plt.subplots(3, 2, figsize=(8, 8))\n",
        "    figs.tight_layout(pad=3.0)\n",
        "\n",
        "    axs[0][0].imshow(arr_image[0], cmap='gray')\n",
        "    axs[0][0].set_title(f\"{image_name} | slice1\")\n",
        "\n",
        "    axs[0][1].imshow(arr_image[1], cmap='gray')\n",
        "    axs[0][1].set_title(f\"{image_name} | slice2\")\n",
        "\n",
        "    axs[1][0].imshow(arr_image[2], cmap='gray')\n",
        "    axs[1][0].set_title(f\"{image_name} | slice3\")\n",
        "\n",
        "    axs[1][1].imshow(arr_image[3], cmap='gray')\n",
        "    axs[1][1].set_title(f\"{image_name} | slice4\")\n",
        "\n",
        "    axs[2][0].imshow(arr_image[4], cmap='gray')\n",
        "    axs[2][0].set_title(f\"{image_name} | slice5\")\n",
        "\n",
        "    axs[2][1].imshow(arr_image[5], cmap='gray')\n",
        "    axs[2][1].set_title(f\"{image_name} | slice6\")\n",
        "\n",
        "    plt.show()\n",
        "\n",
        "\n",
        "# looking for the images in the patch: trying patch 20046_x-1y0z0_20x20x6_f0_1.mhd\n",
        "abs_path = \"drive/MyDrive/UGent/Health-info-and-support/WPO-5/\" # THIS CHANGES FOR EVERYONE, LOOK AT PERSONAL PATH\n",
        "# abs_path = \"drive/MyDrive/2Master/WPO-5/\"\n",
        "images_dir = 'MiniLunaDataset3'\n",
        "patch = '20046_x-1y0z0_20x20x6_f0_1.mhd'\n",
        "\n",
        "showImageSlices(patch, abs_path, images_dir)"
      ]
    },
    {
      "cell_type": "markdown",
      "metadata": {
        "deletable": false,
        "nbgrader": {
          "checksum": "dcf46ab947dd55a873e1469c775a2f59",
          "grade": false,
          "grade_id": "cell-d9e7fbe181dfe944",
          "locked": true,
          "schema_version": 1,
          "solution": false
        },
        "id": "1Sj1GX-Pw_tt"
      },
      "source": [
        "### Task 3: Data pre-processing\n",
        "In order to use neural-networks, we need to pre-process the data and store it in a way which can be easily interpreted by keras.\n",
        "\n",
        "First of all, separate the test set from the train set. Keep 10% of your samples as a test-set. (**Tip:** Use `sklearn` `train_test_split` function.)\n",
        "\n",
        "Since 3D CNNs need a lot of computation power, we will convert our problem to 2D. Instead of using all the 6 CT slices, we will use only the 3rd CT slice. Therefore, from each sample, the 3rd slice wiil be extracted and further preprocessed. In addition, our values currently range from -1024 HU to around 2000 HU. Anything above 400 is not interesting to us, as these are simply bones with different radiodensity. A commonly used set of thresholds to normalize between is -1000 and 400. Finally the labels will be properly encoded to be used for training and testing.\n",
        "\n",
        "Write your pre-processing tasks as python functions (listed below) and in the end create a pipeline for each sample which will be also implemented as a function.\n",
        "1. Function loading the `.mhd` image as a numpy array.\n",
        "2. Function extracting the 3rd slice of a patch. The final form of patches should be a numpy array of size **20x20** pixels.\n",
        "3. Function normalizing the dataset.\n",
        "The unit of measurement in CT scans is the **Hounsfield Unit (HU)**, which is a measure of radiodensity. CT scanners are carefully calibrated to accurately measure this. From Wikipedia:\n",
        "<img src=\"images/HU_CTscannersCalibration.png\">\n",
        "\n",
        "    Create a function which is going to normalize the samples according to this table\n",
        "        * Create numpy arrays\n",
        "        * Normalize between [-1000, 400] using this normalization method\n",
        "    $npzarray = (npzarray - minHU) / (maxHU - minHU)$ <br>\n",
        "         where minHU = -1000 and maxHU = 400\n",
        "        * After this normalization set any values bigger than 1 to 1 and any values smaller than 0 to 0.\n",
        "\n",
        "4. Write an `If statement` encoding a label into a **1-hot** label as a ground-truth data in order to train the neural networks. (One-hot labels: `[0,1]` --> negative, `[1,0]` --> positive)\n",
        "\n",
        "5. Store into `.npy` data binary files. (__Tip:__ Use `np.save` to store data.)\n",
        "\n",
        "The pipeline should execute the functions as follows: <br>\n",
        "\n",
        "- Use `train_test_split` to divide the dataset into train and test subsets. Do that on patient level!\n",
        "- Create empty `np.arrays` filled with zeros to store patches and label data\n",
        "- Use for loop to iterate over all images in a train set:\n",
        "    - Load `.mhd` using `sitk`\n",
        "    - Normalize\n",
        "    - Extract 3rd slice\n",
        "    - Extract label as one-hot.\n",
        "    - Insert into empty array at correct index location\n",
        "- Save dataset.\n",
        "- Repeat for a test set.\n",
        "\n",
        "and return:\n",
        "* data:  [sample_idx,20,20]\n",
        "* labels: [sample_idx,2]\n",
        "\n",
        "Data pre-processing should be done for both: train and test set."
      ]
    },
    {
      "cell_type": "code",
      "execution_count": null,
      "metadata": {
        "jupyter": {
          "outputs_hidden": true
        },
        "id": "hhsmnpy3w_tt",
        "colab": {
          "base_uri": "https://localhost:8080/"
        },
        "outputId": "70dbd1e0-8243-4e9b-fdac-9099337cc4cb"
      },
      "outputs": [
        {
          "output_type": "stream",
          "name": "stdout",
          "text": [
            "number of images: 2325\n",
            "final shape of dataset: (2325, 20, 20)\n",
            "\n",
            "Created Y labels: (2325, 2)\n"
          ]
        }
      ],
      "source": [
        "# Code for Part 1: Task 3\n",
        "# 1. Function loading the .mhd image as a numpy array.\n",
        "def load_image(filename, path):\n",
        "  load_img = sitk.ReadImage(f\"{path}/{filename}\")\n",
        "  image = sitk.GetArrayFromImage(load_img)\n",
        "  return image\n",
        "\n",
        "# 2. Function extracting the 3rd slice of a patch. The final form of patches should be a numpy array of size 20x20 pixels.\n",
        "def extract_slice(image):\n",
        "  sliced_image = image[2, :, :] # selecting 3rd slice\n",
        "  return sliced_image\n",
        "\n",
        "# 3. Function normalizing the dataset.\n",
        "def normalize_dataset(data, minHU, maxHU):\n",
        "  minHU = np.int32(minHU) # changing dtype to be able to subtract from an array\n",
        "  maxHU = np.int32(maxHU)\n",
        "\n",
        "  normalized_data = []\n",
        "  for image in data:\n",
        "    normalized_image = (image - minHU) / (maxHU - minHU) # normalizing\n",
        "    capped_image = np.clip(normalized_image, 0., 1.) # anything < 0 = 0, anything > 1 = 1\n",
        "    normalized_data.append(capped_image)\n",
        "\n",
        "  return np.array(normalized_data)\n",
        "\n",
        "#abs_path = \"drive/MyDrive/UGent/Health-info-and-support/WPO-5\" # THIS CHANGES FOR EVERYONE, LOOK AT PERSONAL PATH\n",
        "abs_path = \"drive/MyDrive/2Master/WPO-5\"\n",
        "\n",
        "\n",
        "all_files = os.listdir(f\"{abs_path}/MiniLunaDataset3\")\n",
        "images_mhd = [x for x in all_files if x[-3:] == 'mhd'] # get only the .mhd files\n",
        "labels = [img_name.split('_')[-1][0] for img_name in images_mhd] # getting only the label of each file (positive=1, negative=0)\n",
        "Y = np.zeros(shape=(len(images_mhd), 2))\n",
        "\n",
        "print(f\"number of images: {len(images_mhd)}\")\n",
        "\n",
        "# preprocessing of the dataset\n",
        "images = [load_image(img, f\"{abs_path}/MiniLunaDataset3\") for img in images_mhd]\n",
        "sliced_imgs = [extract_slice(image_i) for image_i in images]\n",
        "normalized_imgs = normalize_dataset(sliced_imgs, -1000, 400)\n",
        "\n",
        "print(f\"final shape of dataset: {normalized_imgs.shape}\")\n",
        "\n",
        "# 4. Encoding a label into a 1-hot label as a ground-truth data in order to train the neural networks. (One-hot labels: [0,1] --> negative, [1,0] --> positive)\n",
        "# is it just giving [0, 1] to files with _0 as a suffix in the filename (no-nodule), and [1, 0] to files with _1 as a suffix in the filename (has a nodule)\n",
        "for i in range(len(labels)):\n",
        "  if int(labels[i]):\n",
        "    Y[i] = [1, 0]\n",
        "  else:\n",
        "    Y[i] = [0, 1]\n",
        "\n",
        "print(f\"\\nCreated Y labels: {Y.shape}\")\n",
        "\n",
        "# 5. Store into .npy data binary files. (Tip: Use np.save to store data.)\n",
        "np.save(f'{abs_path}/X_images', normalized_imgs)\n",
        "np.save(f'{abs_path}/Y_labels', Y)"
      ]
    },
    {
      "cell_type": "code",
      "source": [
        "X_images = np.load(f\"{abs_path}/X_images.npy\")\n",
        "Y_labels = np.load(f\"{abs_path}/Y_labels.npy\")\n",
        "X_train, X_test, Y_train, Y_test = train_test_split(X_images, Y_labels, test_size=0.1, random_state=0)\n",
        "\n",
        "print(f\"X_train: {X_train.shape}\\nX_test: {X_test.shape}\\nY_train: {Y_train.shape}\\nY_test: {Y_test.shape}\")"
      ],
      "metadata": {
        "colab": {
          "base_uri": "https://localhost:8080/"
        },
        "id": "PCPP4-aZRWm8",
        "outputId": "4c2d7769-f2f3-43f8-9b4c-7d1bde6aeb85"
      },
      "execution_count": 7,
      "outputs": [
        {
          "output_type": "stream",
          "name": "stdout",
          "text": [
            "X_train: (2092, 20, 20)\n",
            "X_test: (233, 20, 20)\n",
            "Y_train: (2092, 2)\n",
            "Y_test: (233, 2)\n"
          ]
        }
      ]
    },
    {
      "cell_type": "markdown",
      "metadata": {
        "deletable": false,
        "nbgrader": {
          "checksum": "f0f3e11c93d2004ee46bad5992f6c714",
          "grade": false,
          "grade_id": "cell-f4edb7482a0753c4",
          "locked": true,
          "schema_version": 1,
          "solution": false
        },
        "id": "soD08ptlw_tu"
      },
      "source": [
        "In case you are not able to complete Part 1, you can move to Part 2 of the session by loading the provided `.npy` files. In that case you will **not** get any credits for Part 1."
      ]
    },
    {
      "cell_type": "markdown",
      "metadata": {
        "deletable": false,
        "editable": false,
        "nbgrader": {
          "checksum": "687da3742ff425ca860c8478ed7d081a",
          "grade": false,
          "grade_id": "cell-d1fb33251b563bb8",
          "locked": true,
          "schema_version": 1,
          "solution": false
        },
        "id": "EC320UoMw_tu"
      },
      "source": [
        "# Part 2: Model training and validation"
      ]
    },
    {
      "cell_type": "markdown",
      "metadata": {
        "deletable": false,
        "nbgrader": {
          "checksum": "3d1de1e961e4781cd28635929dc63f5d",
          "grade": false,
          "grade_id": "cell-a11370ef4ea445ca",
          "locked": true,
          "schema_version": 1,
          "solution": false
        },
        "id": "hF_fpiLMw_tu"
      },
      "source": [
        "### Using Keras - A High Level API for Tensorflow\n",
        "\n",
        "Keras introduces a High-Level API that makes neural network building and training fast and easy. This API is intuitive and fully compatible with Tensorflow. In addition, keras provides a plethora of [APIs](https://keras.io/api/models/) and the user may select one that meets his needs. For the purpose of this exercise, the [sequential model](https://keras.io/api/models/sequential/) can be employed.\n",
        "\n",
        "### Visualization of training curves with `wandb`\n",
        "\n",
        "For the purpose of visualization in real-time the performance of our training, you will use Weights-And-Biases (`wandb`). During or after training you can use  it  to visualize the network and its performance. <b> For  all the following training tasks you are requested to include the loss and the accuracy graphs for training and also for evaluating the test-set</b>. A simple way to attach these graphs to jupyter notebook is to use generate a report after the training of all your networks is finished. Please upload that report in the pdf format and upload it in yur submission together with this notebook.\n",
        "\n",
        "Have a look at the following links for some tutorials on first use and report generation in `wandb`:\n",
        "* https://docs.wandb.ai/quickstart\n",
        "* https://docs.wandb.ai/guides/reports/create-a-report\n",
        "\n",
        "### Some Tips:\n",
        "\n",
        "* Use ```np.load``` to load your data from the previously created .npy binary files.\n",
        "* Use ```reshape``` method when it is needed to import data to the network.\n",
        "* Make your own function to create the model for each network architecture to avoid any model conflicts.\n",
        "\n",
        "* If you trained a model in a past python session, you can load the trained model but first you have to <b>define and initialize it again</b>.\n",
        "\n",
        "* Use `wandb` to visualize network and performance:\n",
        "\n",
        "* If you have strange keras errors, restart the python kernel and <b> re-run only the cells concerning your task you currently work (i.e. run the cells concerning only the current keras). Sometimes you cannot load two different keras at the same python session.</b>.\n",
        "\n",
        "(*) Depending the version of tensorflow you are working some commands might differ. Please look online for recent documentation."
      ]
    },
    {
      "cell_type": "markdown",
      "metadata": {
        "deletable": false,
        "nbgrader": {
          "checksum": "839c62166cf59b1aba0ebb12f7e38d6d",
          "grade": false,
          "grade_id": "cell-d5025d3539123bdb",
          "locked": true,
          "schema_version": 1,
          "solution": false
        },
        "id": "_zZPPWoqw_tv"
      },
      "source": [
        "### Task 1: Load Data from the numpy binary files (from Part 1)\n",
        "Use the `numpy` load function to load the data created in the previous part of the exercise. The data has to be reshaped in a specific way (use code below) in order to be compatible with the keras neural network input standard. After the data is successfully loaded, plot any patch and its ground-truth as image title to verify that data is correctly represented."
      ]
    },
    {
      "cell_type": "code",
      "execution_count": 23,
      "metadata": {
        "id": "MVLeES7ww_tv"
      },
      "outputs": [],
      "source": [
        "# Code for Part 2: Task 1\n",
        "IMG_SIZE = 20\n",
        "\n",
        "X = X_train.reshape(-1, IMG_SIZE, IMG_SIZE, 1)\n",
        "X_val = X_test.reshape(-1, IMG_SIZE, IMG_SIZE, 1)"
      ]
    },
    {
      "cell_type": "markdown",
      "metadata": {
        "deletable": false,
        "nbgrader": {
          "checksum": "0d1106dc6ff56598fb4c8afd41d9061f",
          "grade": false,
          "grade_id": "cell-0afd5980978d0695",
          "locked": true,
          "schema_version": 1,
          "solution": false
        },
        "id": "MxiFo4fEw_tv"
      },
      "source": [
        "### Task 2: Artificial Neural Networks (1 layer)\n",
        "First, lets train our classifier using an artificial neural network with just one layer (perceptron), a fully connected one (dense). This layer will have `softmax` as activation function and only two neurons.\n",
        "\n",
        "The main advantage of using this activation function is the output range. The range of the outputs will be `[0,1]` and the sum of all the probabilities will be equal to one. Generally, if the softmax function is used for a  multi-classification model it returns the probabilities of each class and the target class will have higher probability.\n",
        "\n",
        "Using Keras, define your model. Use these hyperparameters:\n",
        "* Learning Rate = `1e-4`\n",
        "* Batch Size = `8`\n",
        "* Optimizer = `sgd`\n",
        "* Loss metric = `categorical_crossentropy`\n",
        "* Validation metric score in Keras = `accuracy`\n",
        "\n",
        "Check your model architecture with `summary()` function.\n",
        "\n",
        "Since the network is small, it is not recommended to use `Dropout`. Train first for 1-2 epochs to verify that everything works and then train for ~10 epochs. To automatically integrate `wandb` in your Keras `model.fit` function, import `from wandb.keras import WandbMetricsLogger` and add a callback statement: `callbacks=[WandbMetricsLogger()]`. Observe the training and evaluate graphs from `wandb` to decide when to stop training.\n",
        "\n",
        "To evaluate the trained model, test it with the test samples (use `validation_data` in `model.fit` function).\n",
        "\n",
        "### Tip:\n",
        "* Use `.Flatten()` layer first to create a 1D vector in your input layer.\n",
        "* It is highly recommended to write all the tasks in functions and have as an input argument your keras. Then you will be able to re-use them in the next tasks for different keras."
      ]
    },
    {
      "cell_type": "code",
      "source": [
        "# myY_train = Y_train.reshape(8, 2)\n",
        "print(Y_train.shape)"
      ],
      "metadata": {
        "colab": {
          "base_uri": "https://localhost:8080/"
        },
        "id": "KX-0Al1_DVWB",
        "outputId": "a2d402b0-62ca-4ff4-83f4-fdae8e2c21e8"
      },
      "execution_count": 28,
      "outputs": [
        {
          "output_type": "stream",
          "name": "stdout",
          "text": [
            "(2092, 2)\n"
          ]
        }
      ]
    },
    {
      "cell_type": "code",
      "execution_count": 29,
      "metadata": {
        "jupyter": {
          "outputs_hidden": true
        },
        "id": "j56dXue3w_tw",
        "colab": {
          "base_uri": "https://localhost:8080/",
          "height": 1000,
          "referenced_widgets": [
            "545537017c2b4ad68249fd5efd82ef8c",
            "4560043d5ee34e9997a3d5ba660fc160",
            "d7a3b2ac92c94118b55aa132a9e52c56",
            "2bacecfea0894d02b3e64551d25c5a7e",
            "06d54f01538d4b9288a33b87e0c77bd5",
            "61dc3b24173749b6aa7d5ff3c98a97c2",
            "31f92244421e49a29e8303355416c8f0",
            "5cba8949c3084fa195172b28cc8ef35a"
          ]
        },
        "outputId": "56574dd1-7427-4cd7-f6dd-4444c9be69e9"
      },
      "outputs": [
        {
          "output_type": "stream",
          "name": "stdout",
          "text": [
            "(2092, 20, 20, 1)\n"
          ]
        },
        {
          "output_type": "display_data",
          "data": {
            "text/plain": [
              "<IPython.core.display.HTML object>"
            ],
            "text/html": [
              "Finishing last run (ID:8ik653hj) before initializing another..."
            ]
          },
          "metadata": {}
        },
        {
          "output_type": "display_data",
          "data": {
            "text/plain": [
              "VBox(children=(Label(value='0.001 MB of 0.010 MB uploaded\\r'), FloatProgress(value=0.10740704211460696, max=1.…"
            ],
            "application/vnd.jupyter.widget-view+json": {
              "version_major": 2,
              "version_minor": 0,
              "model_id": "545537017c2b4ad68249fd5efd82ef8c"
            }
          },
          "metadata": {}
        },
        {
          "output_type": "display_data",
          "data": {
            "text/plain": [
              "<IPython.core.display.HTML object>"
            ],
            "text/html": [
              " View run <strong style=\"color:#cdcd00\">trim-totem-8</strong> at: <a href='https://wandb.ai/health-info/WPO%205/runs/8ik653hj' target=\"_blank\">https://wandb.ai/health-info/WPO%205/runs/8ik653hj</a><br/>Synced 5 W&B file(s), 0 media file(s), 0 artifact file(s) and 0 other file(s)"
            ]
          },
          "metadata": {}
        },
        {
          "output_type": "display_data",
          "data": {
            "text/plain": [
              "<IPython.core.display.HTML object>"
            ],
            "text/html": [
              "Find logs at: <code>./wandb/run-20240321_124554-8ik653hj/logs</code>"
            ]
          },
          "metadata": {}
        },
        {
          "output_type": "display_data",
          "data": {
            "text/plain": [
              "<IPython.core.display.HTML object>"
            ],
            "text/html": [
              "Successfully finished last run (ID:8ik653hj). Initializing new run:<br/>"
            ]
          },
          "metadata": {}
        },
        {
          "output_type": "display_data",
          "data": {
            "text/plain": [
              "<IPython.core.display.HTML object>"
            ],
            "text/html": [
              "Tracking run with wandb version 0.16.4"
            ]
          },
          "metadata": {}
        },
        {
          "output_type": "display_data",
          "data": {
            "text/plain": [
              "<IPython.core.display.HTML object>"
            ],
            "text/html": [
              "Run data is saved locally in <code>/content/wandb/run-20240321_125212-us3uiguy</code>"
            ]
          },
          "metadata": {}
        },
        {
          "output_type": "display_data",
          "data": {
            "text/plain": [
              "<IPython.core.display.HTML object>"
            ],
            "text/html": [
              "Syncing run <strong><a href='https://wandb.ai/health-info/WPO%205/runs/us3uiguy' target=\"_blank\">zesty-pyramid-9</a></strong> to <a href='https://wandb.ai/health-info/WPO%205' target=\"_blank\">Weights & Biases</a> (<a href='https://wandb.me/run' target=\"_blank\">docs</a>)<br/>"
            ]
          },
          "metadata": {}
        },
        {
          "output_type": "display_data",
          "data": {
            "text/plain": [
              "<IPython.core.display.HTML object>"
            ],
            "text/html": [
              " View project at <a href='https://wandb.ai/health-info/WPO%205' target=\"_blank\">https://wandb.ai/health-info/WPO%205</a>"
            ]
          },
          "metadata": {}
        },
        {
          "output_type": "display_data",
          "data": {
            "text/plain": [
              "<IPython.core.display.HTML object>"
            ],
            "text/html": [
              " View run at <a href='https://wandb.ai/health-info/WPO%205/runs/us3uiguy' target=\"_blank\">https://wandb.ai/health-info/WPO%205/runs/us3uiguy</a>"
            ]
          },
          "metadata": {}
        },
        {
          "output_type": "stream",
          "name": "stdout",
          "text": [
            "Epoch 1/20\n",
            "262/262 [==============================] - 1s 2ms/step - loss: 0.6582 - accuracy: 0.6850\n",
            "Epoch 2/20\n",
            "262/262 [==============================] - 1s 2ms/step - loss: 0.6397 - accuracy: 0.7165\n",
            "Epoch 3/20\n",
            "262/262 [==============================] - 1s 2ms/step - loss: 0.6305 - accuracy: 0.7041\n",
            "Epoch 4/20\n",
            "262/262 [==============================] - 0s 2ms/step - loss: 0.6253 - accuracy: 0.6816\n",
            "Epoch 5/20\n",
            "262/262 [==============================] - 1s 2ms/step - loss: 0.6216 - accuracy: 0.6759\n",
            "Epoch 6/20\n",
            "262/262 [==============================] - 1s 2ms/step - loss: 0.6186 - accuracy: 0.6683\n",
            "Epoch 7/20\n",
            "262/262 [==============================] - 1s 2ms/step - loss: 0.6159 - accuracy: 0.6683\n",
            "Epoch 8/20\n",
            "262/262 [==============================] - 1s 2ms/step - loss: 0.6135 - accuracy: 0.6687\n",
            "Epoch 9/20\n",
            "262/262 [==============================] - 1s 2ms/step - loss: 0.6111 - accuracy: 0.6678\n",
            "Epoch 10/20\n",
            "262/262 [==============================] - 1s 2ms/step - loss: 0.6089 - accuracy: 0.6707\n",
            "Epoch 11/20\n",
            "262/262 [==============================] - 1s 2ms/step - loss: 0.6067 - accuracy: 0.6773\n",
            "Epoch 12/20\n",
            "262/262 [==============================] - 1s 2ms/step - loss: 0.6046 - accuracy: 0.6783\n",
            "Epoch 13/20\n",
            "262/262 [==============================] - 1s 2ms/step - loss: 0.6026 - accuracy: 0.6812\n",
            "Epoch 14/20\n",
            "262/262 [==============================] - 1s 2ms/step - loss: 0.6007 - accuracy: 0.6821\n",
            "Epoch 15/20\n",
            "262/262 [==============================] - 1s 2ms/step - loss: 0.5988 - accuracy: 0.6850\n",
            "Epoch 16/20\n",
            "262/262 [==============================] - 1s 3ms/step - loss: 0.5970 - accuracy: 0.6864\n",
            "Epoch 17/20\n",
            "262/262 [==============================] - 1s 3ms/step - loss: 0.5953 - accuracy: 0.6898\n",
            "Epoch 18/20\n",
            "262/262 [==============================] - 1s 4ms/step - loss: 0.5936 - accuracy: 0.6898\n",
            "Epoch 19/20\n",
            "262/262 [==============================] - 1s 4ms/step - loss: 0.5919 - accuracy: 0.6922\n",
            "Epoch 20/20\n",
            "262/262 [==============================] - 1s 4ms/step - loss: 0.5904 - accuracy: 0.6955\n",
            "Model: \"sequential_12\"\n",
            "_________________________________________________________________\n",
            " Layer (type)                Output Shape              Param #   \n",
            "=================================================================\n",
            " flatten_10 (Flatten)        (None, 400)               0         \n",
            "                                                                 \n",
            " dense_20 (Dense)            (None, 2)                 802       \n",
            "                                                                 \n",
            "=================================================================\n",
            "Total params: 802 (3.13 KB)\n",
            "Trainable params: 802 (3.13 KB)\n",
            "Non-trainable params: 0 (0.00 Byte)\n",
            "_________________________________________________________________\n",
            "Epoch 1/20\n",
            "262/262 [==============================] - 1s 3ms/step - loss: 0.5888 - accuracy: 0.6993 - val_loss: 0.6537 - val_accuracy: 0.5966\n",
            "Epoch 2/20\n",
            "262/262 [==============================] - 1s 2ms/step - loss: 0.5873 - accuracy: 0.6974 - val_loss: 0.6530 - val_accuracy: 0.6009\n",
            "Epoch 3/20\n",
            "262/262 [==============================] - 1s 3ms/step - loss: 0.5859 - accuracy: 0.7017 - val_loss: 0.6524 - val_accuracy: 0.6009\n",
            "Epoch 4/20\n",
            "262/262 [==============================] - 1s 3ms/step - loss: 0.5845 - accuracy: 0.7041 - val_loss: 0.6519 - val_accuracy: 0.6009\n",
            "Epoch 5/20\n",
            "262/262 [==============================] - 1s 2ms/step - loss: 0.5832 - accuracy: 0.7022 - val_loss: 0.6512 - val_accuracy: 0.6009\n",
            "Epoch 6/20\n",
            "262/262 [==============================] - 1s 3ms/step - loss: 0.5818 - accuracy: 0.7108 - val_loss: 0.6508 - val_accuracy: 0.6009\n",
            "Epoch 7/20\n",
            "262/262 [==============================] - 1s 2ms/step - loss: 0.5805 - accuracy: 0.7113 - val_loss: 0.6503 - val_accuracy: 0.6009\n",
            "Epoch 8/20\n",
            "262/262 [==============================] - 1s 2ms/step - loss: 0.5793 - accuracy: 0.7098 - val_loss: 0.6497 - val_accuracy: 0.6052\n",
            "Epoch 9/20\n",
            "262/262 [==============================] - 1s 2ms/step - loss: 0.5781 - accuracy: 0.7108 - val_loss: 0.6492 - val_accuracy: 0.6052\n",
            "Epoch 10/20\n",
            "262/262 [==============================] - 1s 2ms/step - loss: 0.5769 - accuracy: 0.7146 - val_loss: 0.6487 - val_accuracy: 0.6094\n",
            "Epoch 11/20\n",
            "262/262 [==============================] - 1s 3ms/step - loss: 0.5757 - accuracy: 0.7146 - val_loss: 0.6482 - val_accuracy: 0.6137\n",
            "Epoch 12/20\n",
            "262/262 [==============================] - 1s 3ms/step - loss: 0.5746 - accuracy: 0.7175 - val_loss: 0.6477 - val_accuracy: 0.6180\n",
            "Epoch 13/20\n",
            "262/262 [==============================] - 1s 3ms/step - loss: 0.5735 - accuracy: 0.7180 - val_loss: 0.6473 - val_accuracy: 0.6180\n",
            "Epoch 14/20\n",
            "262/262 [==============================] - 1s 3ms/step - loss: 0.5724 - accuracy: 0.7189 - val_loss: 0.6469 - val_accuracy: 0.6223\n",
            "Epoch 15/20\n",
            "262/262 [==============================] - 1s 3ms/step - loss: 0.5713 - accuracy: 0.7194 - val_loss: 0.6464 - val_accuracy: 0.6266\n",
            "Epoch 16/20\n",
            "262/262 [==============================] - 1s 4ms/step - loss: 0.5703 - accuracy: 0.7204 - val_loss: 0.6460 - val_accuracy: 0.6309\n",
            "Epoch 17/20\n",
            "262/262 [==============================] - 1s 4ms/step - loss: 0.5693 - accuracy: 0.7213 - val_loss: 0.6457 - val_accuracy: 0.6266\n",
            "Epoch 18/20\n",
            "262/262 [==============================] - 1s 4ms/step - loss: 0.5683 - accuracy: 0.7218 - val_loss: 0.6452 - val_accuracy: 0.6309\n",
            "Epoch 19/20\n",
            "262/262 [==============================] - 1s 5ms/step - loss: 0.5673 - accuracy: 0.7228 - val_loss: 0.6448 - val_accuracy: 0.6309\n",
            "Epoch 20/20\n",
            "262/262 [==============================] - 1s 3ms/step - loss: 0.5664 - accuracy: 0.7256 - val_loss: 0.6444 - val_accuracy: 0.6309\n"
          ]
        }
      ],
      "source": [
        "# Code for Part 2: Task 2\n",
        "from wandb.keras import WandbMetricsLogger\n",
        "print(X.shape)\n",
        "# hyperparameters = {'activation_function': 'softmax', 'learning_rate': 1e-4, 'batch_size': 8, 'optimizer': 'sgd', 'loss_metric': 'categorical_crossentropy', 'val_metric_score': 'accuracy'}\n",
        "model = keras.Sequential()\n",
        "#[ ]\n",
        "model.add(keras.layers.Flatten(input_shape=(20, 20, 1)))\n",
        "model.add(keras.layers.Dense(2, activation='softmax')) # is the output the number of categories (positive and negative for nodules)?\n",
        "# model.compile(optimizer='sgd', loss='categorical_crossentropy', metrics='accuracy')\n",
        "model.compile(optimizer = keras.optimizers.SGD(learning_rate=1e-4), loss='categorical_crossentropy', metrics='accuracy', )\n",
        "wandb.init(project='WPO 5')\n",
        "model.fit(X, Y_train, epochs = 20, callbacks=[WandbMetricsLogger()], batch_size=8)\n",
        "model.summary()\n",
        "# To automatically integrate wandb in your Keras model.fit function,\n",
        "\n",
        "#model.fit(X_train, Y_train, epochs = 10)\n",
        "history = model.fit(X, Y_train, epochs=20, validation_data=(X_val, Y_test), callbacks=[WandbMetricsLogger()], batch_size=8)\n",
        "#history.summary()"
      ]
    },
    {
      "cell_type": "markdown",
      "metadata": {
        "deletable": false,
        "nbgrader": {
          "checksum": "729112bb739cb27832f2c27f1d3d3c5a",
          "grade": false,
          "grade_id": "cell-ec3cbbcde6634b2d",
          "locked": true,
          "schema_version": 1,
          "solution": false
        },
        "id": "KCHB4e-tw_tw"
      },
      "source": [
        "### Task 3: Test the model\n",
        "In this section you are going to write a <b>generic</b> validation function to assess the performance of out trained models. To do so, we will need the following modules from `sklearn`:\n",
        "- `confusion_matrix`\n",
        "- `accuracy_score`\n",
        "- `roc_curve`\n",
        "\n",
        "Import the modules and create a `python` function which takes two input arguments (validation test data and its GT labels). Use `model.predict` method to predict the class of our test set. Using the function print the `confusion_matrix`, `accuracy_score` and a `roc_curve` of this specific model.\n",
        "\n",
        "Use to function to assess the performance of your first train model. Print all of the validation metrics and a ROC curve.\n",
        "\n",
        "__Hint__: For the calculation of `confusion_matrix` and `accuracy_score` you need to transform your predicted and GT labels using `np.argmax`.\n",
        "\n",
        "__Hint__: For the calculation of `roc_curve` take only the second column of the predicted one-hot label e.g. `test_preds = test_preds[:,1]`\n",
        "\n",
        "Explain these graphs and the ROC curve. What role does the decision threshold play and why it is so important? Can we have a single value as the decision threshold? Why?"
      ]
    },
    {
      "cell_type": "code",
      "execution_count": null,
      "metadata": {
        "id": "96ksnO_Sw_tw"
      },
      "outputs": [],
      "source": [
        "# Answer to the question\n"
      ]
    },
    {
      "cell_type": "code",
      "execution_count": 32,
      "metadata": {
        "id": "Yh2FQbTuw_tx",
        "colab": {
          "base_uri": "https://localhost:8080/",
          "height": 1000
        },
        "outputId": "080c4515-2927-4e58-ad66-bf18d1e7797e"
      },
      "outputs": [
        {
          "output_type": "stream",
          "name": "stdout",
          "text": [
            "8/8 [==============================] - 0s 3ms/step\n",
            "the confusion matrix is:\n",
            "[[67 32]\n",
            " [54 80]]\n",
            "the accuracy score is: 0.630901287553648\n"
          ]
        },
        {
          "output_type": "display_data",
          "data": {
            "text/plain": [
              "<Figure size 640x480 with 1 Axes>"
            ],
            "image/png": "[encoded data removed]"
          },
          "metadata": {}
        },
        {
          "output_type": "execute_result",
          "data": {
            "text/plain": [
              "(array([[67, 32],\n",
              "        [54, 80]]),\n",
              " 0.630901287553648,\n",
              " (array([0.        , 0.        , 0.        , 0.08080808, 0.08080808,\n",
              "         0.12121212, 0.12121212, 0.17171717, 0.17171717, 0.18181818,\n",
              "         0.18181818, 0.19191919, 0.19191919, 0.2020202 , 0.2020202 ,\n",
              "         0.21212121, 0.21212121, 0.22222222, 0.22222222, 0.23232323,\n",
              "         0.23232323, 0.24242424, 0.24242424, 0.26262626, 0.26262626,\n",
              "         0.27272727, 0.27272727, 0.28282828, 0.28282828, 0.29292929,\n",
              "         0.29292929, 0.3030303 , 0.3030303 , 0.31313131, 0.31313131,\n",
              "         0.32323232, 0.32323232, 0.34343434, 0.34343434, 0.35353535,\n",
              "         0.35353535, 0.36363636, 0.36363636, 0.38383838, 0.38383838,\n",
              "         0.39393939, 0.39393939, 0.4040404 , 0.4040404 , 0.41414141,\n",
              "         0.41414141, 0.42424242, 0.42424242, 0.46464646, 0.46464646,\n",
              "         0.53535354, 0.53535354, 0.55555556, 0.55555556, 0.58585859,\n",
              "         0.58585859, 0.5959596 , 0.5959596 , 0.60606061, 0.60606061,\n",
              "         0.62626263, 0.62626263, 0.63636364, 0.63636364, 0.71717172,\n",
              "         0.71717172, 0.73737374, 0.73737374, 0.74747475, 0.74747475,\n",
              "         0.75757576, 0.75757576, 0.78787879, 0.78787879, 1.        ]),\n",
              "  array([0.        , 0.00746269, 0.06716418, 0.06716418, 0.08208955,\n",
              "         0.08208955, 0.08955224, 0.08955224, 0.12686567, 0.12686567,\n",
              "         0.13432836, 0.13432836, 0.14179104, 0.14179104, 0.15671642,\n",
              "         0.15671642, 0.18656716, 0.18656716, 0.20149254, 0.20149254,\n",
              "         0.23134328, 0.23134328, 0.23880597, 0.23880597, 0.24626866,\n",
              "         0.24626866, 0.26119403, 0.26119403, 0.32089552, 0.32089552,\n",
              "         0.35820896, 0.35820896, 0.38059701, 0.38059701, 0.51492537,\n",
              "         0.51492537, 0.60447761, 0.60447761, 0.62686567, 0.62686567,\n",
              "         0.6641791 , 0.6641791 , 0.67910448, 0.67910448, 0.76865672,\n",
              "         0.76865672, 0.78358209, 0.78358209, 0.79850746, 0.79850746,\n",
              "         0.81343284, 0.81343284, 0.82835821, 0.82835821, 0.85074627,\n",
              "         0.85074627, 0.85820896, 0.85820896, 0.87313433, 0.87313433,\n",
              "         0.88059701, 0.88059701, 0.8880597 , 0.8880597 , 0.89552239,\n",
              "         0.89552239, 0.92537313, 0.92537313, 0.93283582, 0.93283582,\n",
              "         0.94029851, 0.94029851, 0.95522388, 0.95522388, 0.96268657,\n",
              "         0.96268657, 0.99253731, 0.99253731, 1.        , 1.        ]),\n",
              "  array([1.8962111 , 0.8962111 , 0.7473103 , 0.69009924, 0.68882334,\n",
              "         0.6588044 , 0.6547536 , 0.6479089 , 0.617301  , 0.6152012 ,\n",
              "         0.61333716, 0.6133354 , 0.6122204 , 0.610995  , 0.608216  ,\n",
              "         0.6056916 , 0.60020566, 0.5999946 , 0.59600735, 0.59356457,\n",
              "         0.5832065 , 0.58206767, 0.58176863, 0.5795764 , 0.57690775,\n",
              "         0.57689774, 0.5719527 , 0.5718988 , 0.5470017 , 0.54577214,\n",
              "         0.5407625 , 0.5397329 , 0.5372895 , 0.5370375 , 0.5218751 ,\n",
              "         0.5183817 , 0.49877495, 0.4953304 , 0.4845377 , 0.48426995,\n",
              "         0.47412166, 0.47385797, 0.47035223, 0.46909007, 0.45127538,\n",
              "         0.44794127, 0.44171983, 0.4391958 , 0.43411392, 0.43186414,\n",
              "         0.42770663, 0.42731225, 0.41937122, 0.41479355, 0.41062796,\n",
              "         0.39449477, 0.39390254, 0.3813781 , 0.37660107, 0.3677976 ,\n",
              "         0.36644232, 0.3605016 , 0.35699213, 0.35641593, 0.35584807,\n",
              "         0.34897333, 0.33313155, 0.33161917, 0.3248509 , 0.28742427,\n",
              "         0.2690996 , 0.26787376, 0.26234102, 0.25230047, 0.24985278,\n",
              "         0.24890864, 0.21529911, 0.19264965, 0.18927038, 0.05796736],\n",
              "        dtype=float32)))"
            ]
          },
          "metadata": {},
          "execution_count": 32
        }
      ],
      "source": [
        "\n",
        "from sklearn.metrics import confusion_matrix, accuracy_score, roc_curve\n",
        "\n",
        "def perfomance_assessing(model, X_val, Y_test, GT_labels):\n",
        "    # Predict the class probabilities for the validation set\n",
        "    y_pred_proba = model.predict(X_val)\n",
        "    # transform your predicted and GT labels\n",
        "    prediction = np.argmax(y_pred_proba, axis=1) #Returns the indices of the maximum values along an axis.\n",
        "    # Convert ground truth labels to class labels\n",
        "    y_true = np.argmax(Y_test, axis=1)\n",
        "    #confusion matrix\n",
        "    confusion = confusion_matrix(y_true, prediction)\n",
        "    print(\"the confusion matrix is:\")\n",
        "    print(confusion)\n",
        "\n",
        "    #accuracy score\n",
        "    accuracy = accuracy_score(y_true, prediction)\n",
        "    print(\"the accuracy score is:\", accuracy)\n",
        "\n",
        "    #ROC curve\n",
        "    fpr, tpr, thresholds = roc_curve(y_true, y_pred_proba[:, 1]) #false positive rate, true positive rate, decreasing thresholds on the decision function used to compute fpr and tpr\n",
        "    plt.figure()\n",
        "    plt.plot(fpr, tpr, color='blue', lw=2, label='ROC curve')\n",
        "    plt.plot([0, 1], [0, 1], color='gray', lw=2, linestyle='--', label='Random')\n",
        "    plt.xlim([0.0, 1.0])\n",
        "    plt.ylim([0.0, 1.05])\n",
        "    plt.xlabel('False Positive Rate')\n",
        "    plt.ylabel('True Positive Rate')\n",
        "    plt.title('ROC Curve')\n",
        "    plt.legend(loc=\"lower right\")\n",
        "    plt.show()\n",
        "\n",
        "    return confusion, accuracy, (fpr, tpr, thresholds)\n",
        "\n",
        "perfomance_assessing(model, X_val, Y_test, Y_labels)\n"
      ]
    },
    {
      "cell_type": "markdown",
      "metadata": {
        "deletable": false,
        "nbgrader": {
          "checksum": "d82ad9587727760dd790c5846e9ba05f",
          "grade": false,
          "grade_id": "cell-ec462a6ad2168c48",
          "locked": true,
          "schema_version": 1,
          "solution": false
        },
        "id": "fU6-4hAOw_tx"
      },
      "source": [
        "### Task 4.1: Artificial Neural Networks (3 layers) - Let's go deep!\n",
        "\n",
        "From now on, we will try various networks with increasing complexity. Make sure with every network/parameter change, you update any hyperameters; you test and evaluate the new model with the previously used evaluation metrics (ROC curve, confusion matrix...). Moreover, every time check the training curves in `wandb`.\n",
        "\n",
        "Let's try 3 fully-connected layers using `sigmoid` activation function.\n",
        "\n",
        "Here is an example network but you are free to choose your own network.\n",
        "* 1st dense layer with 80 neurons, `sigmoid` activation\n",
        "* 2nd dense layer with 40 neurons, `sigmoid` activation\n",
        "* 3rd dense layer with 2 neurons and `softmax` activation\n",
        "* optimizer: `sgd`\n",
        "* learning rate: `1e-4`\n",
        "\n",
        "Explain your network's architecture and **test** your system as you did for the previous simple neural network. What do you observe? Make sure you tune again any hyperparameters like the amount of training epochs. Choose different values for the learning rate, number of epochs and batch size (e.g. 10, 20, 30...). Can you find some training curves which indicate **underfitting** and **overfitting**? If so, what network parameters play a crucial role in observing **underfitting** or **overfitting**?\n",
        "\n",
        "**Remark:** Some deeper models require more training to reach their optimal performance. If possible with your computational resources, try to train them for more epochs until no increase in accuracy is observed."
      ]
    },
    {
      "cell_type": "code",
      "execution_count": null,
      "metadata": {
        "id": "Aa1LItpRw_ty"
      },
      "outputs": [],
      "source": [
        "# Answer to the question"
      ]
    },
    {
      "cell_type": "code",
      "execution_count": 31,
      "metadata": {
        "jupyter": {
          "outputs_hidden": true
        },
        "id": "s24svd9Rw_ty",
        "colab": {
          "base_uri": "https://localhost:8080/",
          "height": 1000,
          "referenced_widgets": [
            "b3bf06949d2a48809ec59a7dd76891a3",
            "c5842d532ec04cee9ac463346576282c",
            "c35d4a1b41914a6aacdd252b653e6a3c",
            "265e9d2c650a4084847b91fcdc4371e8",
            "3f81aaef3962457d8bce482d969ef033",
            "3423250c1a184af3be9426a5e5f64b71",
            "dbc69e0b9b674023913478e84887b45f",
            "4f04c36610de418b94f833c3c49acd07"
          ]
        },
        "outputId": "2dbe0282-f498-4283-a651-5a10d348ee68"
      },
      "outputs": [
        {
          "output_type": "stream",
          "name": "stdout",
          "text": [
            "X: (2092, 20, 20, 1)\n",
            "Y_train: (2092, 2)\n"
          ]
        },
        {
          "output_type": "display_data",
          "data": {
            "text/plain": [
              "<IPython.core.display.HTML object>"
            ],
            "text/html": [
              "Finishing last run (ID:us3uiguy) before initializing another..."
            ]
          },
          "metadata": {}
        },
        {
          "output_type": "display_data",
          "data": {
            "text/plain": [
              "VBox(children=(Label(value='0.001 MB of 0.001 MB uploaded\\r'), FloatProgress(value=1.0, max=1.0)))"
            ],
            "application/vnd.jupyter.widget-view+json": {
              "version_major": 2,
              "version_minor": 0,
              "model_id": "b3bf06949d2a48809ec59a7dd76891a3"
            }
          },
          "metadata": {}
        },
        {
          "output_type": "display_data",
          "data": {
            "text/plain": [
              "<IPython.core.display.HTML object>"
            ],
            "text/html": [
              "<style>\n",
              "    table.wandb td:nth-child(1) { padding: 0 10px; text-align: left ; width: auto;} td:nth-child(2) {text-align: left ; width: 100%}\n",
              "    .wandb-row { display: flex; flex-direction: row; flex-wrap: wrap; justify-content: flex-start; width: 100% }\n",
              "    .wandb-col { display: flex; flex-direction: column; flex-basis: 100%; flex: 1; padding: 10px; }\n",
              "    </style>\n",
              "<div class=\"wandb-row\"><div class=\"wandb-col\"><h3>Run history:</h3><br/><table class=\"wandb\"><tr><td>epoch/accuracy</td><td>▃▇▅▃▂▁▁▁▁▁▂▂▃▃▃▃▄▄▄▄▅▅▅▅▅▆▆▆▆▇▇▇▇▇▇▇▇███</td></tr><tr><td>epoch/epoch</td><td>▁▁▂▂▂▃▃▄▄▄▅▅▅▆▆▇▇▇██▁▁▂▂▂▃▃▄▄▄▅▅▅▆▆▇▇▇██</td></tr><tr><td>epoch/learning_rate</td><td>▁▁▁▁▁▁▁▁▁▁▁▁▁▁▁▁▁▁▁▁▁▁▁▁▁▁▁▁▁▁▁▁▁▁▁▁▁▁▁▁</td></tr><tr><td>epoch/loss</td><td>█▇▆▅▅▅▅▅▄▄▄▄▄▄▃▃▃▃▃▃▃▃▂▂▂▂▂▂▂▂▂▂▂▁▁▁▁▁▁▁</td></tr><tr><td>epoch/val_accuracy</td><td>▁▂▂▂▂▂▂▃▃▄▅▅▅▆▇█▇███</td></tr><tr><td>epoch/val_loss</td><td>██▇▇▆▆▅▅▅▄▄▄▃▃▃▂▂▂▁▁</td></tr></table><br/></div><div class=\"wandb-col\"><h3>Run summary:</h3><br/><table class=\"wandb\"><tr><td>epoch/accuracy</td><td>0.72562</td></tr><tr><td>epoch/epoch</td><td>19</td></tr><tr><td>epoch/learning_rate</td><td>0.0001</td></tr><tr><td>epoch/loss</td><td>0.56639</td></tr><tr><td>epoch/val_accuracy</td><td>0.6309</td></tr><tr><td>epoch/val_loss</td><td>0.64442</td></tr></table><br/></div></div>"
            ]
          },
          "metadata": {}
        },
        {
          "output_type": "display_data",
          "data": {
            "text/plain": [
              "<IPython.core.display.HTML object>"
            ],
            "text/html": [
              " View run <strong style=\"color:#cdcd00\">zesty-pyramid-9</strong> at: <a href='https://wandb.ai/health-info/WPO%205/runs/us3uiguy' target=\"_blank\">https://wandb.ai/health-info/WPO%205/runs/us3uiguy</a><br/>Synced 5 W&B file(s), 0 media file(s), 0 artifact file(s) and 0 other file(s)"
            ]
          },
          "metadata": {}
        },
        {
          "output_type": "display_data",
          "data": {
            "text/plain": [
              "<IPython.core.display.HTML object>"
            ],
            "text/html": [
              "Find logs at: <code>./wandb/run-20240321_125212-us3uiguy/logs</code>"
            ]
          },
          "metadata": {}
        },
        {
          "output_type": "display_data",
          "data": {
            "text/plain": [
              "<IPython.core.display.HTML object>"
            ],
            "text/html": [
              "Successfully finished last run (ID:us3uiguy). Initializing new run:<br/>"
            ]
          },
          "metadata": {}
        },
        {
          "output_type": "display_data",
          "data": {
            "text/plain": [
              "<IPython.core.display.HTML object>"
            ],
            "text/html": [
              "Tracking run with wandb version 0.16.4"
            ]
          },
          "metadata": {}
        },
        {
          "output_type": "display_data",
          "data": {
            "text/plain": [
              "<IPython.core.display.HTML object>"
            ],
            "text/html": [
              "Run data is saved locally in <code>/content/wandb/run-20240321_125655-7ng2jiig</code>"
            ]
          },
          "metadata": {}
        },
        {
          "output_type": "display_data",
          "data": {
            "text/plain": [
              "<IPython.core.display.HTML object>"
            ],
            "text/html": [
              "Syncing run <strong><a href='https://wandb.ai/health-info/WPO%205%20task%204.1/runs/7ng2jiig' target=\"_blank\">dark-dew-5</a></strong> to <a href='https://wandb.ai/health-info/WPO%205%20task%204.1' target=\"_blank\">Weights & Biases</a> (<a href='https://wandb.me/run' target=\"_blank\">docs</a>)<br/>"
            ]
          },
          "metadata": {}
        },
        {
          "output_type": "display_data",
          "data": {
            "text/plain": [
              "<IPython.core.display.HTML object>"
            ],
            "text/html": [
              " View project at <a href='https://wandb.ai/health-info/WPO%205%20task%204.1' target=\"_blank\">https://wandb.ai/health-info/WPO%205%20task%204.1</a>"
            ]
          },
          "metadata": {}
        },
        {
          "output_type": "display_data",
          "data": {
            "text/plain": [
              "<IPython.core.display.HTML object>"
            ],
            "text/html": [
              " View run at <a href='https://wandb.ai/health-info/WPO%205%20task%204.1/runs/7ng2jiig' target=\"_blank\">https://wandb.ai/health-info/WPO%205%20task%204.1/runs/7ng2jiig</a>"
            ]
          },
          "metadata": {}
        },
        {
          "output_type": "stream",
          "name": "stdout",
          "text": [
            "Epoch 1/20\n",
            "262/262 [==============================] - 3s 5ms/step - loss: 0.6896 - accuracy: 0.5521\n",
            "Epoch 2/20\n",
            "262/262 [==============================] - 1s 5ms/step - loss: 0.6716 - accuracy: 0.6310\n",
            "Epoch 3/20\n",
            "262/262 [==============================] - 1s 5ms/step - loss: 0.6530 - accuracy: 0.6855\n",
            "Epoch 4/20\n",
            "262/262 [==============================] - 1s 5ms/step - loss: 0.6352 - accuracy: 0.7376\n",
            "Epoch 5/20\n",
            "262/262 [==============================] - 1s 5ms/step - loss: 0.6133 - accuracy: 0.7419\n",
            "Epoch 6/20\n",
            "262/262 [==============================] - 1s 5ms/step - loss: 0.5887 - accuracy: 0.7658\n",
            "Epoch 7/20\n",
            "262/262 [==============================] - 1s 4ms/step - loss: 0.5625 - accuracy: 0.7691\n",
            "Epoch 8/20\n",
            "262/262 [==============================] - 1s 4ms/step - loss: 0.5374 - accuracy: 0.7763\n",
            "Epoch 9/20\n",
            "262/262 [==============================] - 3s 10ms/step - loss: 0.5134 - accuracy: 0.7806\n",
            "Epoch 10/20\n",
            "262/262 [==============================] - 3s 12ms/step - loss: 0.4930 - accuracy: 0.7806\n",
            "Epoch 11/20\n",
            "262/262 [==============================] - 1s 5ms/step - loss: 0.4744 - accuracy: 0.7839\n",
            "Epoch 12/20\n",
            "262/262 [==============================] - 1s 4ms/step - loss: 0.4613 - accuracy: 0.7854\n",
            "Epoch 13/20\n",
            "262/262 [==============================] - 1s 4ms/step - loss: 0.4487 - accuracy: 0.7935\n",
            "Epoch 14/20\n",
            "262/262 [==============================] - 1s 4ms/step - loss: 0.4421 - accuracy: 0.7897\n",
            "Epoch 15/20\n",
            "262/262 [==============================] - 1s 5ms/step - loss: 0.4351 - accuracy: 0.7940\n",
            "Epoch 16/20\n",
            "262/262 [==============================] - 1s 5ms/step - loss: 0.4279 - accuracy: 0.7968\n",
            "Epoch 17/20\n",
            "262/262 [==============================] - 1s 4ms/step - loss: 0.4216 - accuracy: 0.7992\n",
            "Epoch 18/20\n",
            "262/262 [==============================] - 1s 5ms/step - loss: 0.4166 - accuracy: 0.8016\n",
            "Epoch 19/20\n",
            "262/262 [==============================] - 2s 6ms/step - loss: 0.4119 - accuracy: 0.8016\n",
            "Epoch 20/20\n",
            "262/262 [==============================] - 2s 9ms/step - loss: 0.4059 - accuracy: 0.8074\n",
            "Model: \"sequential_13\"\n",
            "_________________________________________________________________\n",
            " Layer (type)                Output Shape              Param #   \n",
            "=================================================================\n",
            " flatten_11 (Flatten)        (None, 400)               0         \n",
            "                                                                 \n",
            " dense_21 (Dense)            (None, 80)                32080     \n",
            "                                                                 \n",
            " dense_22 (Dense)            (None, 40)                3240      \n",
            "                                                                 \n",
            " dense_23 (Dense)            (None, 2)                 82        \n",
            "                                                                 \n",
            "=================================================================\n",
            "Total params: 35402 (138.29 KB)\n",
            "Trainable params: 35402 (138.29 KB)\n",
            "Non-trainable params: 0 (0.00 Byte)\n",
            "_________________________________________________________________\n",
            "Epoch 1/20\n",
            "262/262 [==============================] - 2s 9ms/step - loss: 0.4011 - accuracy: 0.8155 - val_loss: 0.5006 - val_accuracy: 0.7682\n",
            "Epoch 2/20\n",
            "262/262 [==============================] - 1s 5ms/step - loss: 0.3959 - accuracy: 0.8126 - val_loss: 0.4940 - val_accuracy: 0.7339\n",
            "Epoch 3/20\n",
            "262/262 [==============================] - 1s 5ms/step - loss: 0.3917 - accuracy: 0.8174 - val_loss: 0.4900 - val_accuracy: 0.7425\n",
            "Epoch 4/20\n",
            "262/262 [==============================] - 1s 5ms/step - loss: 0.3851 - accuracy: 0.8193 - val_loss: 0.4873 - val_accuracy: 0.7725\n",
            "Epoch 5/20\n",
            "262/262 [==============================] - 1s 5ms/step - loss: 0.3826 - accuracy: 0.8203 - val_loss: 0.4878 - val_accuracy: 0.7768\n",
            "Epoch 6/20\n",
            "262/262 [==============================] - 1s 5ms/step - loss: 0.3761 - accuracy: 0.8241 - val_loss: 0.4795 - val_accuracy: 0.7725\n",
            "Epoch 7/20\n",
            "262/262 [==============================] - 1s 5ms/step - loss: 0.3728 - accuracy: 0.8236 - val_loss: 0.4763 - val_accuracy: 0.7725\n",
            "Epoch 8/20\n",
            "262/262 [==============================] - 1s 5ms/step - loss: 0.3671 - accuracy: 0.8337 - val_loss: 0.4775 - val_accuracy: 0.7854\n",
            "Epoch 9/20\n",
            "262/262 [==============================] - 2s 8ms/step - loss: 0.3640 - accuracy: 0.8337 - val_loss: 0.4676 - val_accuracy: 0.7768\n",
            "Epoch 10/20\n",
            "262/262 [==============================] - 2s 8ms/step - loss: 0.3584 - accuracy: 0.8399 - val_loss: 0.4664 - val_accuracy: 0.7897\n",
            "Epoch 11/20\n",
            "262/262 [==============================] - 2s 8ms/step - loss: 0.3556 - accuracy: 0.8399 - val_loss: 0.4616 - val_accuracy: 0.7811\n",
            "Epoch 12/20\n",
            "262/262 [==============================] - 1s 5ms/step - loss: 0.3496 - accuracy: 0.8494 - val_loss: 0.4577 - val_accuracy: 0.7854\n",
            "Epoch 13/20\n",
            "262/262 [==============================] - 1s 5ms/step - loss: 0.3455 - accuracy: 0.8518 - val_loss: 0.4601 - val_accuracy: 0.7940\n",
            "Epoch 14/20\n",
            "262/262 [==============================] - 1s 5ms/step - loss: 0.3425 - accuracy: 0.8547 - val_loss: 0.4498 - val_accuracy: 0.7854\n",
            "Epoch 15/20\n",
            "262/262 [==============================] - 1s 5ms/step - loss: 0.3385 - accuracy: 0.8561 - val_loss: 0.4514 - val_accuracy: 0.7983\n",
            "Epoch 16/20\n",
            "262/262 [==============================] - 1s 5ms/step - loss: 0.3344 - accuracy: 0.8633 - val_loss: 0.4485 - val_accuracy: 0.8026\n",
            "Epoch 17/20\n",
            "262/262 [==============================] - 1s 5ms/step - loss: 0.3299 - accuracy: 0.8647 - val_loss: 0.4385 - val_accuracy: 0.7983\n",
            "Epoch 18/20\n",
            "262/262 [==============================] - 1s 6ms/step - loss: 0.3268 - accuracy: 0.8690 - val_loss: 0.4436 - val_accuracy: 0.7725\n",
            "Epoch 19/20\n",
            "262/262 [==============================] - 2s 9ms/step - loss: 0.3230 - accuracy: 0.8714 - val_loss: 0.4312 - val_accuracy: 0.7983\n",
            "Epoch 20/20\n",
            "262/262 [==============================] - 3s 10ms/step - loss: 0.3197 - accuracy: 0.8748 - val_loss: 0.4338 - val_accuracy: 0.8197\n"
          ]
        }
      ],
      "source": [
        "# Code for Part 2: Task 4.1\n",
        "print(f\"X: {X.shape}\\nY_train: {Y_train.shape}\")\n",
        "\n",
        "model1 = keras.Sequential()\n",
        "#[ ]\n",
        "model1.add(keras.layers.Flatten(input_shape=(20, 20, 1)))\n",
        "model1.add(keras.layers.Dense(80, activation='sigmoid'))\n",
        "model1.add(keras.layers.Dense(40, activation='sigmoid')) # is the output the number of categories (positive and negative for nodules)?\n",
        "model1.add(keras.layers.Dense(2, activation='softmax'))\n",
        "# model.compile(optimizer='sgd', loss='categorical_crossentropy', metrics='accuracy')\n",
        "model1.compile(optimizer = keras.optimizers.SGD(learning_rate=1e-2), loss='categorical_crossentropy', metrics='accuracy')\n",
        "wandb.init(project='WPO 5 task 4.1')\n",
        "model1.fit(X, Y_train, epochs = 20, callbacks=[WandbMetricsLogger()], batch_size=8)\n",
        "# To automatically integrate wandb in your Keras model.fit function,\n",
        "#model.fit(X_train, Y_train, epochs = 10)\n",
        "model1.summary()\n",
        "\n",
        "history = model1.fit(X, Y_train, epochs=20, validation_data=(X_val, Y_test), callbacks=[WandbMetricsLogger()], batch_size=8)"
      ]
    },
    {
      "cell_type": "code",
      "source": [
        "perfomance_assessing(model1, X_val, Y_test, Y_labels)"
      ],
      "metadata": {
        "colab": {
          "base_uri": "https://localhost:8080/",
          "height": 1000
        },
        "id": "qb4MNFGvGFS-",
        "outputId": "bc967f00-28b5-435a-fe98-0c7c52a521a2"
      },
      "execution_count": 33,
      "outputs": [
        {
          "output_type": "stream",
          "name": "stdout",
          "text": [
            "8/8 [==============================] - 0s 4ms/step\n",
            "the confusion matrix is:\n",
            "[[ 85  14]\n",
            " [ 28 106]]\n",
            "the accuracy score is: 0.8197424892703863\n"
          ]
        },
        {
          "output_type": "display_data",
          "data": {
            "text/plain": [
              "<Figure size 640x480 with 1 Axes>"
            ],
            "image/png": "[encoded data removed]"
          },
          "metadata": {}
        },
        {
          "output_type": "execute_result",
          "data": {
            "text/plain": [
              "(array([[ 85,  14],\n",
              "        [ 28, 106]]),\n",
              " 0.8197424892703863,\n",
              " (array([0.        , 0.        , 0.        , 0.01010101, 0.01010101,\n",
              "         0.03030303, 0.03030303, 0.04040404, 0.04040404, 0.06060606,\n",
              "         0.06060606, 0.07070707, 0.07070707, 0.08080808, 0.08080808,\n",
              "         0.09090909, 0.09090909, 0.1010101 , 0.1010101 , 0.11111111,\n",
              "         0.11111111, 0.12121212, 0.12121212, 0.14141414, 0.14141414,\n",
              "         0.22222222, 0.22222222, 0.24242424, 0.24242424, 0.25252525,\n",
              "         0.25252525, 0.26262626, 0.26262626, 0.28282828, 0.28282828,\n",
              "         0.29292929, 0.29292929, 0.32323232, 0.32323232, 0.39393939,\n",
              "         0.39393939, 0.4040404 , 0.4040404 , 0.45454545, 0.45454545,\n",
              "         0.48484848, 0.48484848, 0.51515152, 0.51515152, 0.53535354,\n",
              "         0.53535354, 0.54545455, 0.54545455, 0.58585859, 0.58585859,\n",
              "         0.61616162, 0.61616162, 0.63636364, 0.63636364, 0.73737374,\n",
              "         0.73737374, 0.74747475, 0.74747475, 0.77777778, 0.77777778,\n",
              "         1.        ]),\n",
              "  array([0.        , 0.00746269, 0.55223881, 0.55223881, 0.61940299,\n",
              "         0.61940299, 0.64179104, 0.64179104, 0.67164179, 0.67164179,\n",
              "         0.67910448, 0.67910448, 0.70895522, 0.70895522, 0.71641791,\n",
              "         0.71641791, 0.7238806 , 0.7238806 , 0.74626866, 0.74626866,\n",
              "         0.76865672, 0.76865672, 0.7761194 , 0.7761194 , 0.81343284,\n",
              "         0.81343284, 0.82089552, 0.82089552, 0.82835821, 0.82835821,\n",
              "         0.8358209 , 0.8358209 , 0.85074627, 0.85074627, 0.85820896,\n",
              "         0.85820896, 0.86567164, 0.86567164, 0.87313433, 0.87313433,\n",
              "         0.88059701, 0.88059701, 0.8880597 , 0.8880597 , 0.89552239,\n",
              "         0.89552239, 0.90298507, 0.90298507, 0.91044776, 0.91044776,\n",
              "         0.91791045, 0.91791045, 0.92537313, 0.92537313, 0.93283582,\n",
              "         0.93283582, 0.94029851, 0.94029851, 0.96268657, 0.96268657,\n",
              "         0.97014925, 0.97014925, 0.98507463, 0.98507463, 1.        ,\n",
              "         1.        ]),\n",
              "  array([1.9934611 , 0.99346113, 0.81913203, 0.81701094, 0.72946644,\n",
              "         0.7201405 , 0.71251744, 0.7124515 , 0.70579726, 0.7001665 ,\n",
              "         0.68532825, 0.67067873, 0.6267822 , 0.62360054, 0.6230081 ,\n",
              "         0.6205411 , 0.6129905 , 0.6095955 , 0.58930075, 0.5835896 ,\n",
              "         0.5502314 , 0.5493001 , 0.5369315 , 0.53456104, 0.48492673,\n",
              "         0.45608878, 0.45072508, 0.42902395, 0.42660892, 0.41777197,\n",
              "         0.41731757, 0.40220872, 0.39448395, 0.38288835, 0.377161  ,\n",
              "         0.36241522, 0.35787404, 0.33572206, 0.3306655 , 0.2859463 ,\n",
              "         0.28577897, 0.28338775, 0.27755055, 0.2534424 , 0.2477195 ,\n",
              "         0.24511085, 0.24225137, 0.22518791, 0.22467789, 0.21385562,\n",
              "         0.20463006, 0.19391105, 0.19322616, 0.18246153, 0.17322809,\n",
              "         0.15198244, 0.15124387, 0.14527807, 0.13369937, 0.05031453,\n",
              "         0.03730775, 0.03456281, 0.02978479, 0.02406311, 0.01429498,\n",
              "         0.00316159], dtype=float32)))"
            ]
          },
          "metadata": {},
          "execution_count": 33
        }
      ]
    },
    {
      "cell_type": "markdown",
      "metadata": {
        "deletable": false,
        "editable": false,
        "nbgrader": {
          "checksum": "822f2a649d5f2f9cebf5cfb29e5681f1",
          "grade": false,
          "grade_id": "cell-2f4b91a56afdcffa",
          "locked": true,
          "schema_version": 1,
          "solution": false
        },
        "id": "X9jkrp-_w_tz"
      },
      "source": [
        "### Task 4.2: Relu!\n",
        "RELU = Rectified Linear Unit\n",
        "\n",
        "Let's try the same network but using RELU instead of sigmoid now."
      ]
    },
    {
      "cell_type": "code",
      "execution_count": 39,
      "metadata": {
        "collapsed": true,
        "jupyter": {
          "outputs_hidden": true
        },
        "id": "_yEak5w5w_tz",
        "colab": {
          "base_uri": "https://localhost:8080/",
          "height": 1000,
          "referenced_widgets": [
            "bbef7c3471664b5bb21fae4f3070df7b",
            "62d51b75566b48e6bffa308a7d311594",
            "7747d87f25b04f09a3423fb72e2400f4",
            "10e9b05655294d68a7bf5168f8f28148",
            "5f35903e97da478fbf45df3470a58f23",
            "7741ae84828147b4b811d262091fc7f1",
            "98642d517715483bbd920f872ea120cc",
            "ca2009897ab6494abb721bb24776647a"
          ]
        },
        "outputId": "87bd3270-28a4-4989-9137-5640ed65bb45"
      },
      "outputs": [
        {
          "output_type": "display_data",
          "data": {
            "text/plain": [
              "<IPython.core.display.HTML object>"
            ],
            "text/html": [
              "Finishing last run (ID:fyda8j14) before initializing another..."
            ]
          },
          "metadata": {}
        },
        {
          "output_type": "display_data",
          "data": {
            "text/plain": [
              "VBox(children=(Label(value='0.001 MB of 0.001 MB uploaded\\r'), FloatProgress(value=1.0, max=1.0)))"
            ],
            "application/vnd.jupyter.widget-view+json": {
              "version_major": 2,
              "version_minor": 0,
              "model_id": "bbef7c3471664b5bb21fae4f3070df7b"
            }
          },
          "metadata": {}
        },
        {
          "output_type": "display_data",
          "data": {
            "text/plain": [
              "<IPython.core.display.HTML object>"
            ],
            "text/html": [
              " View run <strong style=\"color:#cdcd00\">electric-leaf-1</strong> at: <a href='https://wandb.ai/health-info/WPO%205%20task%204.2/runs/fyda8j14' target=\"_blank\">https://wandb.ai/health-info/WPO%205%20task%204.2/runs/fyda8j14</a><br/>Synced 5 W&B file(s), 0 media file(s), 0 artifact file(s) and 0 other file(s)"
            ]
          },
          "metadata": {}
        },
        {
          "output_type": "display_data",
          "data": {
            "text/plain": [
              "<IPython.core.display.HTML object>"
            ],
            "text/html": [
              "Find logs at: <code>./wandb/run-20240321_130604-fyda8j14/logs</code>"
            ]
          },
          "metadata": {}
        },
        {
          "output_type": "display_data",
          "data": {
            "text/plain": [
              "<IPython.core.display.HTML object>"
            ],
            "text/html": [
              "Successfully finished last run (ID:fyda8j14). Initializing new run:<br/>"
            ]
          },
          "metadata": {}
        },
        {
          "output_type": "display_data",
          "data": {
            "text/plain": [
              "<IPython.core.display.HTML object>"
            ],
            "text/html": [
              "Tracking run with wandb version 0.16.4"
            ]
          },
          "metadata": {}
        },
        {
          "output_type": "display_data",
          "data": {
            "text/plain": [
              "<IPython.core.display.HTML object>"
            ],
            "text/html": [
              "Run data is saved locally in <code>/content/wandb/run-20240321_130656-jmfi5eev</code>"
            ]
          },
          "metadata": {}
        },
        {
          "output_type": "display_data",
          "data": {
            "text/plain": [
              "<IPython.core.display.HTML object>"
            ],
            "text/html": [
              "Syncing run <strong><a href='https://wandb.ai/health-info/WPO%205%20task%204.2/runs/jmfi5eev' target=\"_blank\">legendary-smoke-2</a></strong> to <a href='https://wandb.ai/health-info/WPO%205%20task%204.2' target=\"_blank\">Weights & Biases</a> (<a href='https://wandb.me/run' target=\"_blank\">docs</a>)<br/>"
            ]
          },
          "metadata": {}
        },
        {
          "output_type": "display_data",
          "data": {
            "text/plain": [
              "<IPython.core.display.HTML object>"
            ],
            "text/html": [
              " View project at <a href='https://wandb.ai/health-info/WPO%205%20task%204.2' target=\"_blank\">https://wandb.ai/health-info/WPO%205%20task%204.2</a>"
            ]
          },
          "metadata": {}
        },
        {
          "output_type": "display_data",
          "data": {
            "text/plain": [
              "<IPython.core.display.HTML object>"
            ],
            "text/html": [
              " View run at <a href='https://wandb.ai/health-info/WPO%205%20task%204.2/runs/jmfi5eev' target=\"_blank\">https://wandb.ai/health-info/WPO%205%20task%204.2/runs/jmfi5eev</a>"
            ]
          },
          "metadata": {}
        },
        {
          "output_type": "stream",
          "name": "stdout",
          "text": [
            "Epoch 1/20\n",
            "262/262 [==============================] - 1s 3ms/step - loss: 0.7107 - accuracy: 0.4622\n",
            "Epoch 2/20\n",
            "262/262 [==============================] - 1s 3ms/step - loss: 0.7026 - accuracy: 0.4904\n",
            "Epoch 3/20\n",
            "262/262 [==============================] - 1s 2ms/step - loss: 0.6953 - accuracy: 0.5282\n",
            "Epoch 4/20\n",
            "262/262 [==============================] - 2s 6ms/step - loss: 0.6888 - accuracy: 0.5669\n",
            "Epoch 5/20\n",
            "262/262 [==============================] - 1s 3ms/step - loss: 0.6831 - accuracy: 0.5851\n",
            "Epoch 6/20\n",
            "262/262 [==============================] - 1s 3ms/step - loss: 0.6779 - accuracy: 0.5951\n",
            "Epoch 7/20\n",
            "262/262 [==============================] - 1s 3ms/step - loss: 0.6730 - accuracy: 0.6090\n",
            "Epoch 8/20\n",
            "262/262 [==============================] - 1s 3ms/step - loss: 0.6686 - accuracy: 0.6123\n",
            "Epoch 9/20\n",
            "262/262 [==============================] - 1s 3ms/step - loss: 0.6644 - accuracy: 0.6181\n",
            "Epoch 10/20\n",
            "262/262 [==============================] - 1s 3ms/step - loss: 0.6604 - accuracy: 0.6281\n",
            "Epoch 11/20\n",
            "262/262 [==============================] - 1s 3ms/step - loss: 0.6567 - accuracy: 0.6377\n",
            "Epoch 12/20\n",
            "262/262 [==============================] - 1s 3ms/step - loss: 0.6531 - accuracy: 0.6467\n",
            "Epoch 13/20\n",
            "262/262 [==============================] - 1s 3ms/step - loss: 0.6496 - accuracy: 0.6501\n",
            "Epoch 14/20\n",
            "262/262 [==============================] - 1s 3ms/step - loss: 0.6462 - accuracy: 0.6597\n",
            "Epoch 15/20\n",
            "262/262 [==============================] - 1s 4ms/step - loss: 0.6430 - accuracy: 0.6702\n",
            "Epoch 16/20\n",
            "262/262 [==============================] - 1s 3ms/step - loss: 0.6398 - accuracy: 0.6855\n",
            "Epoch 17/20\n",
            "262/262 [==============================] - 1s 2ms/step - loss: 0.6366 - accuracy: 0.6969\n",
            "Epoch 18/20\n",
            "262/262 [==============================] - 1s 2ms/step - loss: 0.6336 - accuracy: 0.7055\n",
            "Epoch 19/20\n",
            "262/262 [==============================] - 1s 3ms/step - loss: 0.6306 - accuracy: 0.7161\n",
            "Epoch 20/20\n",
            "262/262 [==============================] - 1s 2ms/step - loss: 0.6276 - accuracy: 0.7247\n",
            "Model: \"sequential_19\"\n",
            "_________________________________________________________________\n",
            " Layer (type)                Output Shape              Param #   \n",
            "=================================================================\n",
            " flatten_12 (Flatten)        (None, 400)               0         \n",
            "                                                                 \n",
            " dense_37 (Dense)            (None, 80)                32080     \n",
            "                                                                 \n",
            " dense_38 (Dense)            (None, 40)                3240      \n",
            "                                                                 \n",
            " dense_39 (Dense)            (None, 2)                 82        \n",
            "                                                                 \n",
            "=================================================================\n",
            "Total params: 35402 (138.29 KB)\n",
            "Trainable params: 35402 (138.29 KB)\n",
            "Non-trainable params: 0 (0.00 Byte)\n",
            "_________________________________________________________________\n",
            "Epoch 1/20\n",
            "262/262 [==============================] - 1s 3ms/step - loss: 0.6247 - accuracy: 0.7323 - val_loss: 0.6340 - val_accuracy: 0.6867\n",
            "Epoch 2/20\n",
            "262/262 [==============================] - 1s 3ms/step - loss: 0.6219 - accuracy: 0.7404 - val_loss: 0.6320 - val_accuracy: 0.6867\n",
            "Epoch 3/20\n",
            "262/262 [==============================] - 1s 3ms/step - loss: 0.6190 - accuracy: 0.7447 - val_loss: 0.6301 - val_accuracy: 0.6867\n",
            "Epoch 4/20\n",
            "262/262 [==============================] - 1s 5ms/step - loss: 0.6162 - accuracy: 0.7553 - val_loss: 0.6282 - val_accuracy: 0.6910\n",
            "Epoch 5/20\n",
            "262/262 [==============================] - 1s 4ms/step - loss: 0.6134 - accuracy: 0.7620 - val_loss: 0.6262 - val_accuracy: 0.6867\n",
            "Epoch 6/20\n",
            "262/262 [==============================] - 1s 4ms/step - loss: 0.6106 - accuracy: 0.7653 - val_loss: 0.6242 - val_accuracy: 0.6867\n",
            "Epoch 7/20\n",
            "262/262 [==============================] - 1s 4ms/step - loss: 0.6078 - accuracy: 0.7801 - val_loss: 0.6223 - val_accuracy: 0.6867\n",
            "Epoch 8/20\n",
            "262/262 [==============================] - 1s 3ms/step - loss: 0.6050 - accuracy: 0.7811 - val_loss: 0.6203 - val_accuracy: 0.6910\n",
            "Epoch 9/20\n",
            "262/262 [==============================] - 1s 3ms/step - loss: 0.6022 - accuracy: 0.7854 - val_loss: 0.6184 - val_accuracy: 0.6910\n",
            "Epoch 10/20\n",
            "262/262 [==============================] - 1s 3ms/step - loss: 0.5994 - accuracy: 0.7887 - val_loss: 0.6164 - val_accuracy: 0.6996\n",
            "Epoch 11/20\n",
            "262/262 [==============================] - 1s 3ms/step - loss: 0.5967 - accuracy: 0.7997 - val_loss: 0.6146 - val_accuracy: 0.7167\n",
            "Epoch 12/20\n",
            "262/262 [==============================] - 1s 3ms/step - loss: 0.5939 - accuracy: 0.7983 - val_loss: 0.6127 - val_accuracy: 0.7210\n",
            "Epoch 13/20\n",
            "262/262 [==============================] - 1s 3ms/step - loss: 0.5911 - accuracy: 0.8050 - val_loss: 0.6109 - val_accuracy: 0.7210\n",
            "Epoch 14/20\n",
            "262/262 [==============================] - 1s 3ms/step - loss: 0.5884 - accuracy: 0.8083 - val_loss: 0.6092 - val_accuracy: 0.7210\n",
            "Epoch 15/20\n",
            "262/262 [==============================] - 1s 3ms/step - loss: 0.5856 - accuracy: 0.8117 - val_loss: 0.6075 - val_accuracy: 0.7339\n",
            "Epoch 16/20\n",
            "262/262 [==============================] - 1s 3ms/step - loss: 0.5829 - accuracy: 0.8150 - val_loss: 0.6058 - val_accuracy: 0.7339\n",
            "Epoch 17/20\n",
            "262/262 [==============================] - 1s 3ms/step - loss: 0.5802 - accuracy: 0.8174 - val_loss: 0.6040 - val_accuracy: 0.7339\n",
            "Epoch 18/20\n",
            "262/262 [==============================] - 1s 3ms/step - loss: 0.5775 - accuracy: 0.8160 - val_loss: 0.6023 - val_accuracy: 0.7296\n",
            "Epoch 19/20\n",
            "262/262 [==============================] - 1s 2ms/step - loss: 0.5749 - accuracy: 0.8198 - val_loss: 0.6006 - val_accuracy: 0.7339\n",
            "Epoch 20/20\n",
            "262/262 [==============================] - 1s 2ms/step - loss: 0.5723 - accuracy: 0.8222 - val_loss: 0.5991 - val_accuracy: 0.7339\n"
          ]
        }
      ],
      "source": [
        "# Code for Part 2: Task 4.2\n",
        "modelRELU = keras.Sequential()\n",
        "#[ ]\n",
        "modelRELU.add(keras.layers.Flatten(input_shape=(20, 20, 1)))\n",
        "modelRELU.add(keras.layers.Dense(80, activation='relu'))\n",
        "modelRELU.add(keras.layers.Dense(40, activation='relu'))\n",
        "modelRELU.add(keras.layers.Dense(2, activation='softmax'))\n",
        "# model.compile(optimizer='sgd', loss='categorical_crossentropy', metrics='accuracy')\n",
        "modelRELU.compile(optimizer = keras.optimizers.SGD(learning_rate=1e-4), loss='categorical_crossentropy', metrics='accuracy')\n",
        "wandb.init(project='WPO 5 task 4.2')\n",
        "modelRELU.fit(X, Y_train, epochs = 20, callbacks=[WandbMetricsLogger()], batch_size=8)\n",
        "modelRELU.summary()\n",
        "# To automatically integrate wandb in your Keras model.fit function,\n",
        "#model.fit(X_train, Y_train, epochs = 10)\n",
        "history = modelRELU.fit(X, Y_train, epochs=20, validation_data=(X_val, Y_test), callbacks=[WandbMetricsLogger()], batch_size=8)"
      ]
    },
    {
      "cell_type": "code",
      "source": [
        "perfomance_assessing(modelRELU, X_val, Y_test, Y_labels)"
      ],
      "metadata": {
        "colab": {
          "base_uri": "https://localhost:8080/",
          "height": 1000
        },
        "id": "z8395YpWGDCO",
        "outputId": "aef2ed73-bd94-42b6-b78d-bbe055c1ea6c"
      },
      "execution_count": 40,
      "outputs": [
        {
          "output_type": "stream",
          "name": "stdout",
          "text": [
            "8/8 [==============================] - 0s 4ms/step\n",
            "the confusion matrix is:\n",
            "[[80 19]\n",
            " [43 91]]\n",
            "the accuracy score is: 0.7339055793991416\n"
          ]
        },
        {
          "output_type": "display_data",
          "data": {
            "text/plain": [
              "<Figure size 640x480 with 1 Axes>"
            ],
            "image/png": "[encoded data removed]"
          },
          "metadata": {}
        },
        {
          "output_type": "execute_result",
          "data": {
            "text/plain": [
              "(array([[80, 19],\n",
              "        [43, 91]]),\n",
              " 0.7339055793991416,\n",
              " (array([0.        , 0.        , 0.        , 0.01010101, 0.01010101,\n",
              "         0.02020202, 0.02020202, 0.04040404, 0.04040404, 0.05050505,\n",
              "         0.05050505, 0.06060606, 0.06060606, 0.09090909, 0.09090909,\n",
              "         0.1010101 , 0.1010101 , 0.11111111, 0.11111111, 0.12121212,\n",
              "         0.12121212, 0.13131313, 0.13131313, 0.14141414, 0.14141414,\n",
              "         0.15151515, 0.15151515, 0.16161616, 0.16161616, 0.17171717,\n",
              "         0.17171717, 0.18181818, 0.18181818, 0.19191919, 0.19191919,\n",
              "         0.2020202 , 0.2020202 , 0.21212121, 0.21212121, 0.23232323,\n",
              "         0.23232323, 0.24242424, 0.24242424, 0.25252525, 0.25252525,\n",
              "         0.28282828, 0.28282828, 0.29292929, 0.29292929, 0.3030303 ,\n",
              "         0.3030303 , 0.34343434, 0.34343434, 0.35353535, 0.35353535,\n",
              "         0.41414141, 0.41414141, 0.42424242, 0.42424242, 0.44444444,\n",
              "         0.44444444, 0.47474747, 0.47474747, 0.49494949, 0.49494949,\n",
              "         0.52525253, 0.52525253, 0.55555556, 0.55555556, 0.61616162,\n",
              "         0.61616162, 0.67676768, 0.67676768, 0.76767677, 0.76767677,\n",
              "         0.77777778, 0.77777778, 0.7979798 , 0.7979798 , 0.82828283,\n",
              "         0.82828283, 1.        ]),\n",
              "  array([0.        , 0.00746269, 0.10447761, 0.10447761, 0.12686567,\n",
              "         0.12686567, 0.13432836, 0.13432836, 0.1641791 , 0.1641791 ,\n",
              "         0.17164179, 0.17164179, 0.18656716, 0.18656716, 0.20895522,\n",
              "         0.20895522, 0.23880597, 0.23880597, 0.24626866, 0.24626866,\n",
              "         0.36567164, 0.36567164, 0.38059701, 0.38059701, 0.44776119,\n",
              "         0.44776119, 0.54477612, 0.54477612, 0.59701493, 0.59701493,\n",
              "         0.64179104, 0.64179104, 0.67164179, 0.67164179, 0.67910448,\n",
              "         0.67910448, 0.70149254, 0.70149254, 0.71641791, 0.71641791,\n",
              "         0.75373134, 0.75373134, 0.76865672, 0.76865672, 0.79104478,\n",
              "         0.79104478, 0.82089552, 0.82089552, 0.82835821, 0.82835821,\n",
              "         0.85074627, 0.85074627, 0.88059701, 0.88059701, 0.89552239,\n",
              "         0.89552239, 0.90298507, 0.90298507, 0.91044776, 0.91044776,\n",
              "         0.91791045, 0.91791045, 0.93283582, 0.93283582, 0.94029851,\n",
              "         0.94029851, 0.94776119, 0.94776119, 0.95522388, 0.95522388,\n",
              "         0.96268657, 0.96268657, 0.97014925, 0.97014925, 0.97761194,\n",
              "         0.97761194, 0.98507463, 0.98507463, 0.99253731, 0.99253731,\n",
              "         1.        , 1.        ]),\n",
              "  array([1.7871227 , 0.7871228 , 0.6214877 , 0.60884845, 0.5997202 ,\n",
              "         0.5979857 , 0.5958593 , 0.5954166 , 0.5897494 , 0.58926696,\n",
              "         0.5884321 , 0.5868634 , 0.58608705, 0.5777221 , 0.5743496 ,\n",
              "         0.572737  , 0.5711174 , 0.56980795, 0.56695056, 0.56578857,\n",
              "         0.5468797 , 0.5466401 , 0.5432701 , 0.5429672 , 0.53681433,\n",
              "         0.5365298 , 0.5270723 , 0.5264508 , 0.5190801 , 0.5176845 ,\n",
              "         0.5056256 , 0.50548327, 0.5010389 , 0.5002344 , 0.5000467 ,\n",
              "         0.4994913 , 0.4984904 , 0.4977962 , 0.49452356, 0.4913083 ,\n",
              "         0.48793402, 0.48714226, 0.48556903, 0.48503625, 0.48285875,\n",
              "         0.4790842 , 0.47338727, 0.4717621 , 0.46895838, 0.46729836,\n",
              "         0.46459526, 0.45695454, 0.45226374, 0.4513018 , 0.4498639 ,\n",
              "         0.44587705, 0.44248208, 0.44119498, 0.44073507, 0.43684635,\n",
              "         0.4362716 , 0.42964715, 0.42524278, 0.4196397 , 0.41633928,\n",
              "         0.41197512, 0.4104056 , 0.4023738 , 0.39988804, 0.3895017 ,\n",
              "         0.38712114, 0.36641136, 0.36472446, 0.32101908, 0.3131677 ,\n",
              "         0.31311208, 0.3072845 , 0.30124182, 0.29237458, 0.28412408,\n",
              "         0.26215646, 0.11531906], dtype=float32)))"
            ]
          },
          "metadata": {},
          "execution_count": 40
        }
      ]
    },
    {
      "cell_type": "markdown",
      "metadata": {
        "deletable": false,
        "nbgrader": {
          "checksum": "9daeec5dcb3d381740aeac3613a7b8ba",
          "grade": false,
          "grade_id": "cell-a6394cf303cb2289",
          "locked": true,
          "schema_version": 1,
          "solution": false
        },
        "id": "Q-dC3UrBw_t0"
      },
      "source": [
        "### Task 4.3: Dropout!\n",
        "Now lets add two dropout layers (each after the dense layer with relu activation). Some recommended values to investigate are 0.9, 0.5, 0.1. Explain the results."
      ]
    },
    {
      "cell_type": "code",
      "execution_count": null,
      "metadata": {
        "id": "RLp1S7Vbw_t0"
      },
      "outputs": [],
      "source": [
        "# Your answer here"
      ]
    },
    {
      "cell_type": "code",
      "execution_count": null,
      "metadata": {
        "collapsed": true,
        "jupyter": {
          "outputs_hidden": true
        },
        "id": "cbyNUbVjw_t1"
      },
      "outputs": [],
      "source": [
        "# Code for Part 2: Task 4.3"
      ]
    },
    {
      "cell_type": "markdown",
      "metadata": {
        "deletable": false,
        "nbgrader": {
          "checksum": "c7c0f2e845aafc10ec8ad052d48e9119",
          "grade": false,
          "grade_id": "cell-2df072bbe1906a59",
          "locked": true,
          "schema_version": 1,
          "solution": false
        },
        "id": "nlGssC0Fw_t1"
      },
      "source": [
        "### Task 5. A Convolutional Neural Network\n",
        "\n",
        "Finally, we are going to implement a convolutional neural network - a network type showing state-of-the-art results in learning from images. This time, your input will not be flattened but we will provide a 2D image as an input (20x20x1 pixels). Use the same hyperparameters as before, unless specified differenly.\n",
        "\n",
        "#### Model definition\n",
        "\n",
        "input -> conv1 -> pool1 -> conv2 -> dense1 -> dense2 -> softmax\n",
        "* convolution layers: kernel size = 3x3, number of channels = 64, activation function = sigmoid\n",
        "* max-pooling layers: kernel size = 2x2, strides = 2\n",
        "* 1st dense layer: 50 neurons, activation function = sigmoid\n",
        "* 2nd dense layer: 2 neurons, activation function = softmax\n",
        "* optimizer = `sgd`\n",
        "* use dropout (e.g. 0.2)\n",
        "\n",
        "__Hint__: Use `.Flatten()` after before the dense layers to ensure a 1D vector as an input.\n",
        "\n",
        "Like before, measure system's prerfomance and explain."
      ]
    },
    {
      "cell_type": "code",
      "execution_count": null,
      "metadata": {
        "collapsed": true,
        "jupyter": {
          "outputs_hidden": true
        },
        "id": "oSYI-fU9w_t1"
      },
      "outputs": [],
      "source": [
        "# Code for Part 2: Task 5"
      ]
    },
    {
      "cell_type": "markdown",
      "metadata": {
        "deletable": false,
        "nbgrader": {
          "checksum": "c7c0f2e845aafc10ec8ad052d48e9119",
          "grade": false,
          "grade_id": "cell-2df072bbe1906a59",
          "locked": true,
          "schema_version": 1,
          "solution": false
        },
        "id": "lZ2ai6p_w_t2"
      },
      "source": [
        "### Task 6. A Deeper Convolutional Neural Network\n",
        "\n",
        "#### Model definition\n",
        "\n",
        "input -> conv1 -> pool1 -> conv2 -> conv3 -> fc1 -> fc2 -> softmax\n",
        "* convolution layers: kernel size = 5x5, number of channels = 64, activation function = 'relu', padding = 'same'\n",
        "* max-pooling layers: kernel size = 2x2, strides = 2\n",
        "* 1st fully connected: 100 neurons, activation function = relu\n",
        "* 2nd fully connected: 2 neurons, activation function = softmax\n",
        "* optimizer = `sgd` (try also `adam`)\n",
        "* use dropout (e.g. 0.5)\n",
        "\n",
        "Like before, measure system's prerfomance and explain.\n",
        "\n",
        "This was the last model you have trained. The `wandb` should now allow you to generate a common report for all train models (on the same graphs). Generate the report, download it as a `pdf`, and upload it in your assignment together with the notebook file."
      ]
    },
    {
      "cell_type": "code",
      "execution_count": null,
      "metadata": {
        "collapsed": true,
        "jupyter": {
          "outputs_hidden": true
        },
        "id": "Wt6z7LkBw_t2"
      },
      "outputs": [],
      "source": [
        "# Code for Part 2: Task 6"
      ]
    }
  ],
  "metadata": {
    "anaconda-cloud": {},
    "celltoolbar": "Edit Metadata",
    "kernelspec": {
      "display_name": "Python 3",
      "name": "python3"
    },
    "language_info": {
      "codemirror_mode": {
        "name": "ipython",
        "version": 3
      },
      "file_extension": ".py",
      "mimetype": "text/x-python",
      "name": "python",
      "nbconvert_exporter": "python",
      "pygments_lexer": "ipython3",
      "version": "3.8.3"
    },
    "colab": {
      "provenance": [],
      "gpuType": "T4"
    },
    "accelerator": "GPU",
    "widgets": {
      "application/vnd.jupyter.widget-state+json": {
        "545537017c2b4ad68249fd5efd82ef8c": {
          "model_module": "@jupyter-widgets/controls",
          "model_name": "VBoxModel",
          "model_module_version": "1.5.0",
          "state": {
            "_dom_classes": [],
            "_model_module": "@jupyter-widgets/controls",
            "_model_module_version": "1.5.0",
            "_model_name": "VBoxModel",
            "_view_count": null,
            "_view_module": "@jupyter-widgets/controls",
            "_view_module_version": "1.5.0",
            "_view_name": "VBoxView",
            "box_style": "",
            "children": [
              "IPY_MODEL_4560043d5ee34e9997a3d5ba660fc160",
              "IPY_MODEL_d7a3b2ac92c94118b55aa132a9e52c56"
            ],
            "layout": "IPY_MODEL_2bacecfea0894d02b3e64551d25c5a7e"
          }
        },
        "4560043d5ee34e9997a3d5ba660fc160": {
          "model_module": "@jupyter-widgets/controls",
          "model_name": "LabelModel",
          "model_module_version": "1.5.0",
          "state": {
            "_dom_classes": [],
            "_model_module": "@jupyter-widgets/controls",
            "_model_module_version": "1.5.0",
            "_model_name": "LabelModel",
            "_view_count": null,
            "_view_module": "@jupyter-widgets/controls",
            "_view_module_version": "1.5.0",
            "_view_name": "LabelView",
            "description": "",
            "description_tooltip": null,
            "layout": "IPY_MODEL_06d54f01538d4b9288a33b87e0c77bd5",
            "placeholder": "​",
            "style": "IPY_MODEL_61dc3b24173749b6aa7d5ff3c98a97c2",
            "value": "0.010 MB of 0.010 MB uploaded\r"
          }
        },
        "d7a3b2ac92c94118b55aa132a9e52c56": {
          "model_module": "@jupyter-widgets/controls",
          "model_name": "FloatProgressModel",
          "model_module_version": "1.5.0",
          "state": {
            "_dom_classes": [],
            "_model_module": "@jupyter-widgets/controls",
            "_model_module_version": "1.5.0",
            "_model_name": "FloatProgressModel",
            "_view_count": null,
            "_view_module": "@jupyter-widgets/controls",
            "_view_module_version": "1.5.0",
            "_view_name": "ProgressView",
            "bar_style": "",
            "description": "",
            "description_tooltip": null,
            "layout": "IPY_MODEL_31f92244421e49a29e8303355416c8f0",
            "max": 1,
            "min": 0,
            "orientation": "horizontal",
            "style": "IPY_MODEL_5cba8949c3084fa195172b28cc8ef35a",
            "value": 1
          }
        },
        "2bacecfea0894d02b3e64551d25c5a7e": {
          "model_module": "@jupyter-widgets/base",
          "model_name": "LayoutModel",
          "model_module_version": "1.2.0",
          "state": {
            "_model_module": "@jupyter-widgets/base",
            "_model_module_version": "1.2.0",
            "_model_name": "LayoutModel",
            "_view_count": null,
            "_view_module": "@jupyter-widgets/base",
            "_view_module_version": "1.2.0",
            "_view_name": "LayoutView",
            "align_content": null,
            "align_items": null,
            "align_self": null,
            "border": null,
            "bottom": null,
            "display": null,
            "flex": null,
            "flex_flow": null,
            "grid_area": null,
            "grid_auto_columns": null,
            "grid_auto_flow": null,
            "grid_auto_rows": null,
            "grid_column": null,
            "grid_gap": null,
            "grid_row": null,
            "grid_template_areas": null,
            "grid_template_columns": null,
            "grid_template_rows": null,
            "height": null,
            "justify_content": null,
            "justify_items": null,
            "left": null,
            "margin": null,
            "max_height": null,
            "max_width": null,
            "min_height": null,
            "min_width": null,
            "object_fit": null,
            "object_position": null,
            "order": null,
            "overflow": null,
            "overflow_x": null,
            "overflow_y": null,
            "padding": null,
            "right": null,
            "top": null,
            "visibility": null,
            "width": null
          }
        },
        "06d54f01538d4b9288a33b87e0c77bd5": {
          "model_module": "@jupyter-widgets/base",
          "model_name": "LayoutModel",
          "model_module_version": "1.2.0",
          "state": {
            "_model_module": "@jupyter-widgets/base",
            "_model_module_version": "1.2.0",
            "_model_name": "LayoutModel",
            "_view_count": null,
            "_view_module": "@jupyter-widgets/base",
            "_view_module_version": "1.2.0",
            "_view_name": "LayoutView",
            "align_content": null,
            "align_items": null,
            "align_self": null,
            "border": null,
            "bottom": null,
            "display": null,
            "flex": null,
            "flex_flow": null,
            "grid_area": null,
            "grid_auto_columns": null,
            "grid_auto_flow": null,
            "grid_auto_rows": null,
            "grid_column": null,
            "grid_gap": null,
            "grid_row": null,
            "grid_template_areas": null,
            "grid_template_columns": null,
            "grid_template_rows": null,
            "height": null,
            "justify_content": null,
            "justify_items": null,
            "left": null,
            "margin": null,
            "max_height": null,
            "max_width": null,
            "min_height": null,
            "min_width": null,
            "object_fit": null,
            "object_position": null,
            "order": null,
            "overflow": null,
            "overflow_x": null,
            "overflow_y": null,
            "padding": null,
            "right": null,
            "top": null,
            "visibility": null,
            "width": null
          }
        },
        "61dc3b24173749b6aa7d5ff3c98a97c2": {
          "model_module": "@jupyter-widgets/controls",
          "model_name": "DescriptionStyleModel",
          "model_module_version": "1.5.0",
          "state": {
            "_model_module": "@jupyter-widgets/controls",
            "_model_module_version": "1.5.0",
            "_model_name": "DescriptionStyleModel",
            "_view_count": null,
            "_view_module": "@jupyter-widgets/base",
            "_view_module_version": "1.2.0",
            "_view_name": "StyleView",
            "description_width": ""
          }
        },
        "31f92244421e49a29e8303355416c8f0": {
          "model_module": "@jupyter-widgets/base",
          "model_name": "LayoutModel",
          "model_module_version": "1.2.0",
          "state": {
            "_model_module": "@jupyter-widgets/base",
            "_model_module_version": "1.2.0",
            "_model_name": "LayoutModel",
            "_view_count": null,
            "_view_module": "@jupyter-widgets/base",
            "_view_module_version": "1.2.0",
            "_view_name": "LayoutView",
            "align_content": null,
            "align_items": null,
            "align_self": null,
            "border": null,
            "bottom": null,
            "display": null,
            "flex": null,
            "flex_flow": null,
            "grid_area": null,
            "grid_auto_columns": null,
            "grid_auto_flow": null,
            "grid_auto_rows": null,
            "grid_column": null,
            "grid_gap": null,
            "grid_row": null,
            "grid_template_areas": null,
            "grid_template_columns": null,
            "grid_template_rows": null,
            "height": null,
            "justify_content": null,
            "justify_items": null,
            "left": null,
            "margin": null,
            "max_height": null,
            "max_width": null,
            "min_height": null,
            "min_width": null,
            "object_fit": null,
            "object_position": null,
            "order": null,
            "overflow": null,
            "overflow_x": null,
            "overflow_y": null,
            "padding": null,
            "right": null,
            "top": null,
            "visibility": null,
            "width": null
          }
        },
        "5cba8949c3084fa195172b28cc8ef35a": {
          "model_module": "@jupyter-widgets/controls",
          "model_name": "ProgressStyleModel",
          "model_module_version": "1.5.0",
          "state": {
            "_model_module": "@jupyter-widgets/controls",
            "_model_module_version": "1.5.0",
            "_model_name": "ProgressStyleModel",
            "_view_count": null,
            "_view_module": "@jupyter-widgets/base",
            "_view_module_version": "1.2.0",
            "_view_name": "StyleView",
            "bar_color": null,
            "description_width": ""
          }
        },
        "b3bf06949d2a48809ec59a7dd76891a3": {
          "model_module": "@jupyter-widgets/controls",
          "model_name": "VBoxModel",
          "model_module_version": "1.5.0",
          "state": {
            "_dom_classes": [],
            "_model_module": "@jupyter-widgets/controls",
            "_model_module_version": "1.5.0",
            "_model_name": "VBoxModel",
            "_view_count": null,
            "_view_module": "@jupyter-widgets/controls",
            "_view_module_version": "1.5.0",
            "_view_name": "VBoxView",
            "box_style": "",
            "children": [
              "IPY_MODEL_c5842d532ec04cee9ac463346576282c",
              "IPY_MODEL_c35d4a1b41914a6aacdd252b653e6a3c"
            ],
            "layout": "IPY_MODEL_265e9d2c650a4084847b91fcdc4371e8"
          }
        },
        "c5842d532ec04cee9ac463346576282c": {
          "model_module": "@jupyter-widgets/controls",
          "model_name": "LabelModel",
          "model_module_version": "1.5.0",
          "state": {
            "_dom_classes": [],
            "_model_module": "@jupyter-widgets/controls",
            "_model_module_version": "1.5.0",
            "_model_name": "LabelModel",
            "_view_count": null,
            "_view_module": "@jupyter-widgets/controls",
            "_view_module_version": "1.5.0",
            "_view_name": "LabelView",
            "description": "",
            "description_tooltip": null,
            "layout": "IPY_MODEL_3f81aaef3962457d8bce482d969ef033",
            "placeholder": "​",
            "style": "IPY_MODEL_3423250c1a184af3be9426a5e5f64b71",
            "value": "0.016 MB of 0.016 MB uploaded\r"
          }
        },
        "c35d4a1b41914a6aacdd252b653e6a3c": {
          "model_module": "@jupyter-widgets/controls",
          "model_name": "FloatProgressModel",
          "model_module_version": "1.5.0",
          "state": {
            "_dom_classes": [],
            "_model_module": "@jupyter-widgets/controls",
            "_model_module_version": "1.5.0",
            "_model_name": "FloatProgressModel",
            "_view_count": null,
            "_view_module": "@jupyter-widgets/controls",
            "_view_module_version": "1.5.0",
            "_view_name": "ProgressView",
            "bar_style": "",
            "description": "",
            "description_tooltip": null,
            "layout": "IPY_MODEL_dbc69e0b9b674023913478e84887b45f",
            "max": 1,
            "min": 0,
            "orientation": "horizontal",
            "style": "IPY_MODEL_4f04c36610de418b94f833c3c49acd07",
            "value": 1
          }
        },
        "265e9d2c650a4084847b91fcdc4371e8": {
          "model_module": "@jupyter-widgets/base",
          "model_name": "LayoutModel",
          "model_module_version": "1.2.0",
          "state": {
            "_model_module": "@jupyter-widgets/base",
            "_model_module_version": "1.2.0",
            "_model_name": "LayoutModel",
            "_view_count": null,
            "_view_module": "@jupyter-widgets/base",
            "_view_module_version": "1.2.0",
            "_view_name": "LayoutView",
            "align_content": null,
            "align_items": null,
            "align_self": null,
            "border": null,
            "bottom": null,
            "display": null,
            "flex": null,
            "flex_flow": null,
            "grid_area": null,
            "grid_auto_columns": null,
            "grid_auto_flow": null,
            "grid_auto_rows": null,
            "grid_column": null,
            "grid_gap": null,
            "grid_row": null,
            "grid_template_areas": null,
            "grid_template_columns": null,
            "grid_template_rows": null,
            "height": null,
            "justify_content": null,
            "justify_items": null,
            "left": null,
            "margin": null,
            "max_height": null,
            "max_width": null,
            "min_height": null,
            "min_width": null,
            "object_fit": null,
            "object_position": null,
            "order": null,
            "overflow": null,
            "overflow_x": null,
            "overflow_y": null,
            "padding": null,
            "right": null,
            "top": null,
            "visibility": null,
            "width": null
          }
        },
        "3f81aaef3962457d8bce482d969ef033": {
          "model_module": "@jupyter-widgets/base",
          "model_name": "LayoutModel",
          "model_module_version": "1.2.0",
          "state": {
            "_model_module": "@jupyter-widgets/base",
            "_model_module_version": "1.2.0",
            "_model_name": "LayoutModel",
            "_view_count": null,
            "_view_module": "@jupyter-widgets/base",
            "_view_module_version": "1.2.0",
            "_view_name": "LayoutView",
            "align_content": null,
            "align_items": null,
            "align_self": null,
            "border": null,
            "bottom": null,
            "display": null,
            "flex": null,
            "flex_flow": null,
            "grid_area": null,
            "grid_auto_columns": null,
            "grid_auto_flow": null,
            "grid_auto_rows": null,
            "grid_column": null,
            "grid_gap": null,
            "grid_row": null,
            "grid_template_areas": null,
            "grid_template_columns": null,
            "grid_template_rows": null,
            "height": null,
            "justify_content": null,
            "justify_items": null,
            "left": null,
            "margin": null,
            "max_height": null,
            "max_width": null,
            "min_height": null,
            "min_width": null,
            "object_fit": null,
            "object_position": null,
            "order": null,
            "overflow": null,
            "overflow_x": null,
            "overflow_y": null,
            "padding": null,
            "right": null,
            "top": null,
            "visibility": null,
            "width": null
          }
        },
        "3423250c1a184af3be9426a5e5f64b71": {
          "model_module": "@jupyter-widgets/controls",
          "model_name": "DescriptionStyleModel",
          "model_module_version": "1.5.0",
          "state": {
            "_model_module": "@jupyter-widgets/controls",
            "_model_module_version": "1.5.0",
            "_model_name": "DescriptionStyleModel",
            "_view_count": null,
            "_view_module": "@jupyter-widgets/base",
            "_view_module_version": "1.2.0",
            "_view_name": "StyleView",
            "description_width": ""
          }
        },
        "dbc69e0b9b674023913478e84887b45f": {
          "model_module": "@jupyter-widgets/base",
          "model_name": "LayoutModel",
          "model_module_version": "1.2.0",
          "state": {
            "_model_module": "@jupyter-widgets/base",
            "_model_module_version": "1.2.0",
            "_model_name": "LayoutModel",
            "_view_count": null,
            "_view_module": "@jupyter-widgets/base",
            "_view_module_version": "1.2.0",
            "_view_name": "LayoutView",
            "align_content": null,
            "align_items": null,
            "align_self": null,
            "border": null,
            "bottom": null,
            "display": null,
            "flex": null,
            "flex_flow": null,
            "grid_area": null,
            "grid_auto_columns": null,
            "grid_auto_flow": null,
            "grid_auto_rows": null,
            "grid_column": null,
            "grid_gap": null,
            "grid_row": null,
            "grid_template_areas": null,
            "grid_template_columns": null,
            "grid_template_rows": null,
            "height": null,
            "justify_content": null,
            "justify_items": null,
            "left": null,
            "margin": null,
            "max_height": null,
            "max_width": null,
            "min_height": null,
            "min_width": null,
            "object_fit": null,
            "object_position": null,
            "order": null,
            "overflow": null,
            "overflow_x": null,
            "overflow_y": null,
            "padding": null,
            "right": null,
            "top": null,
            "visibility": null,
            "width": null
          }
        },
        "4f04c36610de418b94f833c3c49acd07": {
          "model_module": "@jupyter-widgets/controls",
          "model_name": "ProgressStyleModel",
          "model_module_version": "1.5.0",
          "state": {
            "_model_module": "@jupyter-widgets/controls",
            "_model_module_version": "1.5.0",
            "_model_name": "ProgressStyleModel",
            "_view_count": null,
            "_view_module": "@jupyter-widgets/base",
            "_view_module_version": "1.2.0",
            "_view_name": "StyleView",
            "bar_color": null,
            "description_width": ""
          }
        },
        "bbef7c3471664b5bb21fae4f3070df7b": {
          "model_module": "@jupyter-widgets/controls",
          "model_name": "VBoxModel",
          "model_module_version": "1.5.0",
          "state": {
            "_dom_classes": [],
            "_model_module": "@jupyter-widgets/controls",
            "_model_module_version": "1.5.0",
            "_model_name": "VBoxModel",
            "_view_count": null,
            "_view_module": "@jupyter-widgets/controls",
            "_view_module_version": "1.5.0",
            "_view_name": "VBoxView",
            "box_style": "",
            "children": [
              "IPY_MODEL_62d51b75566b48e6bffa308a7d311594",
              "IPY_MODEL_7747d87f25b04f09a3423fb72e2400f4"
            ],
            "layout": "IPY_MODEL_10e9b05655294d68a7bf5168f8f28148"
          }
        },
        "62d51b75566b48e6bffa308a7d311594": {
          "model_module": "@jupyter-widgets/controls",
          "model_name": "LabelModel",
          "model_module_version": "1.5.0",
          "state": {
            "_dom_classes": [],
            "_model_module": "@jupyter-widgets/controls",
            "_model_module_version": "1.5.0",
            "_model_name": "LabelModel",
            "_view_count": null,
            "_view_module": "@jupyter-widgets/controls",
            "_view_module_version": "1.5.0",
            "_view_name": "LabelView",
            "description": "",
            "description_tooltip": null,
            "layout": "IPY_MODEL_5f35903e97da478fbf45df3470a58f23",
            "placeholder": "​",
            "style": "IPY_MODEL_7741ae84828147b4b811d262091fc7f1",
            "value": "0.010 MB of 0.010 MB uploaded\r"
          }
        },
        "7747d87f25b04f09a3423fb72e2400f4": {
          "model_module": "@jupyter-widgets/controls",
          "model_name": "FloatProgressModel",
          "model_module_version": "1.5.0",
          "state": {
            "_dom_classes": [],
            "_model_module": "@jupyter-widgets/controls",
            "_model_module_version": "1.5.0",
            "_model_name": "FloatProgressModel",
            "_view_count": null,
            "_view_module": "@jupyter-widgets/controls",
            "_view_module_version": "1.5.0",
            "_view_name": "ProgressView",
            "bar_style": "",
            "description": "",
            "description_tooltip": null,
            "layout": "IPY_MODEL_98642d517715483bbd920f872ea120cc",
            "max": 1,
            "min": 0,
            "orientation": "horizontal",
            "style": "IPY_MODEL_ca2009897ab6494abb721bb24776647a",
            "value": 1
          }
        },
        "10e9b05655294d68a7bf5168f8f28148": {
          "model_module": "@jupyter-widgets/base",
          "model_name": "LayoutModel",
          "model_module_version": "1.2.0",
          "state": {
            "_model_module": "@jupyter-widgets/base",
            "_model_module_version": "1.2.0",
            "_model_name": "LayoutModel",
            "_view_count": null,
            "_view_module": "@jupyter-widgets/base",
            "_view_module_version": "1.2.0",
            "_view_name": "LayoutView",
            "align_content": null,
            "align_items": null,
            "align_self": null,
            "border": null,
            "bottom": null,
            "display": null,
            "flex": null,
            "flex_flow": null,
            "grid_area": null,
            "grid_auto_columns": null,
            "grid_auto_flow": null,
            "grid_auto_rows": null,
            "grid_column": null,
            "grid_gap": null,
            "grid_row": null,
            "grid_template_areas": null,
            "grid_template_columns": null,
            "grid_template_rows": null,
            "height": null,
            "justify_content": null,
            "justify_items": null,
            "left": null,
            "margin": null,
            "max_height": null,
            "max_width": null,
            "min_height": null,
            "min_width": null,
            "object_fit": null,
            "object_position": null,
            "order": null,
            "overflow": null,
            "overflow_x": null,
            "overflow_y": null,
            "padding": null,
            "right": null,
            "top": null,
            "visibility": null,
            "width": null
          }
        },
        "5f35903e97da478fbf45df3470a58f23": {
          "model_module": "@jupyter-widgets/base",
          "model_name": "LayoutModel",
          "model_module_version": "1.2.0",
          "state": {
            "_model_module": "@jupyter-widgets/base",
            "_model_module_version": "1.2.0",
            "_model_name": "LayoutModel",
            "_view_count": null,
            "_view_module": "@jupyter-widgets/base",
            "_view_module_version": "1.2.0",
            "_view_name": "LayoutView",
            "align_content": null,
            "align_items": null,
            "align_self": null,
            "border": null,
            "bottom": null,
            "display": null,
            "flex": null,
            "flex_flow": null,
            "grid_area": null,
            "grid_auto_columns": null,
            "grid_auto_flow": null,
            "grid_auto_rows": null,
            "grid_column": null,
            "grid_gap": null,
            "grid_row": null,
            "grid_template_areas": null,
            "grid_template_columns": null,
            "grid_template_rows": null,
            "height": null,
            "justify_content": null,
            "justify_items": null,
            "left": null,
            "margin": null,
            "max_height": null,
            "max_width": null,
            "min_height": null,
            "min_width": null,
            "object_fit": null,
            "object_position": null,
            "order": null,
            "overflow": null,
            "overflow_x": null,
            "overflow_y": null,
            "padding": null,
            "right": null,
            "top": null,
            "visibility": null,
            "width": null
          }
        },
        "7741ae84828147b4b811d262091fc7f1": {
          "model_module": "@jupyter-widgets/controls",
          "model_name": "DescriptionStyleModel",
          "model_module_version": "1.5.0",
          "state": {
            "_model_module": "@jupyter-widgets/controls",
            "_model_module_version": "1.5.0",
            "_model_name": "DescriptionStyleModel",
            "_view_count": null,
            "_view_module": "@jupyter-widgets/base",
            "_view_module_version": "1.2.0",
            "_view_name": "StyleView",
            "description_width": ""
          }
        },
        "98642d517715483bbd920f872ea120cc": {
          "model_module": "@jupyter-widgets/base",
          "model_name": "LayoutModel",
          "model_module_version": "1.2.0",
          "state": {
            "_model_module": "@jupyter-widgets/base",
            "_model_module_version": "1.2.0",
            "_model_name": "LayoutModel",
            "_view_count": null,
            "_view_module": "@jupyter-widgets/base",
            "_view_module_version": "1.2.0",
            "_view_name": "LayoutView",
            "align_content": null,
            "align_items": null,
            "align_self": null,
            "border": null,
            "bottom": null,
            "display": null,
            "flex": null,
            "flex_flow": null,
            "grid_area": null,
            "grid_auto_columns": null,
            "grid_auto_flow": null,
            "grid_auto_rows": null,
            "grid_column": null,
            "grid_gap": null,
            "grid_row": null,
            "grid_template_areas": null,
            "grid_template_columns": null,
            "grid_template_rows": null,
            "height": null,
            "justify_content": null,
            "justify_items": null,
            "left": null,
            "margin": null,
            "max_height": null,
            "max_width": null,
            "min_height": null,
            "min_width": null,
            "object_fit": null,
            "object_position": null,
            "order": null,
            "overflow": null,
            "overflow_x": null,
            "overflow_y": null,
            "padding": null,
            "right": null,
            "top": null,
            "visibility": null,
            "width": null
          }
        },
        "ca2009897ab6494abb721bb24776647a": {
          "model_module": "@jupyter-widgets/controls",
          "model_name": "ProgressStyleModel",
          "model_module_version": "1.5.0",
          "state": {
            "_model_module": "@jupyter-widgets/controls",
            "_model_module_version": "1.5.0",
            "_model_name": "ProgressStyleModel",
            "_view_count": null,
            "_view_module": "@jupyter-widgets/base",
            "_view_module_version": "1.2.0",
            "_view_name": "StyleView",
            "bar_color": null,
            "description_width": ""
          }
        }
      }
    }
  },
  "nbformat": 4,
  "nbformat_minor": 0
}