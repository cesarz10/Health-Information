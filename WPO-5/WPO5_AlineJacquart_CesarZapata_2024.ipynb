{
  "cells": [
    {
      "cell_type": "markdown",
      "metadata": {
        "deletable": false,
        "nbgrader": {
          "checksum": "f511eff26871492f3fa4ae077230fe51",
          "grade": false,
          "grade_id": "cell-f77284e87f75a760",
          "locked": true,
          "schema_version": 1,
          "solution": false
        },
        "id": "EqqZChSMw_tW"
      },
      "source": [
        "# Health Information Systems and Decision Support Systems\n",
        "# WPO 5: - CAD Systems (15/03/2024)\n",
        "***\n",
        "*Panagiotis Gonidakis, Jakub Ceranka, Joris Wuts, Jef Vandemeulebrouke*<br>\n",
        "*Department of Electronics and Informatics (ETRO)*<br>\n",
        "*Vrije Universiteit Brussel, Pleinlaan 2, B-1050 Brussels, Belgium*"
      ]
    },
    {
      "cell_type": "markdown",
      "metadata": {
        "id": "QoznCU3xw_te"
      },
      "source": [
        "<font color=blue>Aline Jacquart - 0567936 <br>\n",
        "                 César Zapata - 0596811</font>"
      ]
    },
    {
      "cell_type": "markdown",
      "metadata": {
        "deletable": false,
        "nbgrader": {
          "checksum": "35e56d1502506c7d95a2179be1975802",
          "grade": false,
          "grade_id": "cell-1180f9385da3b954",
          "locked": true,
          "schema_version": 1,
          "solution": false
        },
        "id": "4HQWrOqFw_tf"
      },
      "source": [
        "### Goal\n",
        "The goal of this practical session is to get an insight into artificial neural networks, more specifically multi-layer perceptrons (MLP) and convolutional neural networks (CNN). Your tasks will involve:\n",
        "- examining and pre-processing the real life lung nodule CT data\n",
        "- training various neural networks with increasing complexity to classify if there is a lung nodule on the CT image\n",
        "- validating the performance of your system against the manual ground-truth predictions prepared by an experienced radiologist.\n",
        "- visualizing training graphs and analysing information about model performance\n",
        "\n",
        "Students must send their notebook (and `wandb` generated report for all models in `pdf`) using the Assignment functionaly of Canvas before <b> 21/03/2024, 23:59 pm. </b>, in `.ipynb` and `.html` format. The grade from this practical session will contribute to your final grade.\n",
        "\n",
        "Questions: [jceranka@etrovub.be](mailto:jceranka@etrovub.be), [jwuts@etrovub.be](mailto:jwuts@etrovub.be)"
      ]
    },
    {
      "cell_type": "markdown",
      "metadata": {
        "deletable": false,
        "nbgrader": {
          "checksum": "5287e4bf438bc9b077ef9f2e4bcec518",
          "grade": false,
          "grade_id": "cell-65dd4b67d3695b43",
          "locked": true,
          "schema_version": 1,
          "solution": false
        },
        "id": "dxhWsPacw_th"
      },
      "source": [
        "# Libraries\n",
        "During this practical session, the following libraries will be used:\n",
        "\n",
        "* Numpy (np)\n",
        "* Glob\n",
        "* Simple ITK (sitk)\n",
        "* Matplotlib\n",
        "* Sklearn\n",
        "* Tensorflow (tf)\n",
        "* Keras (you can also use pytorch if you are more familiar)\n",
        "* wandb\n",
        "\n",
        "To import any external library, you need to import it using the **import** statement followed by the name of the library and the shortcut. You can additionally check for the module version using **version** command.\n",
        "\n",
        "* If you use your own laptop, you will need to install new modules.\n",
        "\n",
        "* These expirements are simplified in order to be run without the need of a powerful GPU. However some training tasks may take 30-40 minutes using a CPU. You can accelerate your expirements if you work on [Google colab](https://colab.research.google.com/) framework where a GPU is offered. Then you need to create a GoogleDrive account and upload all the necessary data (scripts + data).\n",
        "For more information look [here](https://colab.research.google.com/) and [here](https://colab.research.google.com/notebooks/gpu.ipynb)."
      ]
    },
    {
      "cell_type": "markdown",
      "metadata": {
        "deletable": false,
        "nbgrader": {
          "checksum": "90dddf608397c1410372081b65393f39",
          "grade": false,
          "grade_id": "cell-cfeba9f5a5235a75",
          "locked": true,
          "schema_version": 1,
          "solution": false
        },
        "id": "PwCkQBzTw_ti"
      },
      "source": [
        "### Tensorflow and Keras\n",
        "\n",
        "TensorFlow (https://www.tensorflow.org/) is an end-to-end open-source platform for machine learning. It’s a comprehensive and flexible ecosystem of tools, libraries and other resources that provide workflows with high-level APIs. The framework offers various levels of concepts for you to choose the one you need to build and deploy machine learning models.\n",
        "\n",
        "Keras (https://keras.io/), on the other hand, is a high-level neural networks library that is running on the top of TensorFlow. Using Keras in deep learning allows for easy and fast prototyping as well as running seamlessly on CPU and GPU. This framework is written in Python code which is easy to debug and allows ease for extensibility. Keras offers simple and consistent high-level APIs and follows best practices to reduce the cognitive load for the users. Both frameworks provide high-level APIs for building and training models with ease. Keras is built in Python which makes it way more user-friendly than TensorFlow.\n",
        "\n",
        "In this exercise, <b>we recommend to use Keras</b> which allows to create/train/test neural networks with very few lines of understandable code.\n",
        "\n",
        "Keras requires Tensorflow to be installed. Normally, the new versions of Keras installs it automatically.\n",
        "\n",
        "To install Keras, open the anaconda prompt and then type:\n",
        " ```pip install keras```\n",
        "    \n",
        "If not done automatically:\n",
        " ```pip install tensorflow``` and after ```pip install keras```\n",
        "\n",
        "To start using visualization platform Weights-And-Biases go to (https://wandb.ai/) and create an account. Locally do: ```pip install wandb```\n",
        "\n",
        "\n",
        "Here are some useful resources (installation + documentation):\n",
        "\n",
        "* https://phoenixnap.com/kb/how-to-install-keras-on-linux <p>\n",
        "* https://www.tensorflow.org/install <p>\n",
        "* https://keras.io/getting_started/ <p>\n",
        "* https://keras.io/api/models/ <p>\n",
        "* https://keras.io/api/models/sequential/ <p>\n",
        "* https://docs.wandb.ai/quickstart <p>\n",
        "    \n",
        "(*) For the purpose of this exercise, you don't need to use a GPU; tensorflow and keras can be configured to run on a CPU and the most demanding training tasks should not take more than 30 min. On the other hand, [colab](https://colab.research.google.com/) offers GPU development environment and the training tasks can really be accelerated.\n",
        "\n",
        "(*) Make sure you are using tensorflow 2. It is advised to verify which version it is being used before looking for any documentation as the APIs differ."
      ]
    },
    {
      "cell_type": "markdown",
      "metadata": {
        "deletable": false,
        "nbgrader": {
          "checksum": "8f6b761e553767615fad950fc7d54345",
          "grade": false,
          "grade_id": "cell-e04efc9902fe123b",
          "locked": true,
          "schema_version": 1,
          "solution": false
        },
        "id": "nKB_7Lagw_tk"
      },
      "source": [
        "# Lung Nodule Analysis\n",
        "Lung cancer is the leading cause of cancer-related deaths worldwide. Screening high risk individuals for lung cancer with low-dose CT scans is now being implemented in the United States and other countries are expected to follow soon. In CT lung cancer screening, millions of CT scans will have to be analyzed, which is an enormous burden for radiologists. Therefore, there is a lot of interest in development of computer algorithms to optimize cancer screening.\n",
        "\n",
        "<img src=\"images/luna16_image.png\">\n",
        "\n",
        "A vital first step in the analysis of lung cancer CT scans is the detection of pulmonary nodules, which may or may not represent early stage lung cancer. Many computer-aided detection (CAD) systems have already been proposed for this task.\n",
        "\n",
        "The LIDC/IDRI data set is publicly available, including the ground-truth annotations of nodules performed by four radiologists.\n",
        "\n",
        "This practical session is inspired from the challenge [LUNA16](https://luna16.grand-challenge.org/home/), which focused on a large-scale evaluation of automatic nodule detection algorithms on the LIDC/IDRI data set.\n",
        "\n",
        "<img src=\"images/lung_cancer1.png\">\n",
        "\n",
        "\n",
        "### Using LIDC/IDRI data set in this practical session\n",
        "\n",
        "For the needs of this practical session, we will look for an algorithm that only determines the likelihood for a given location in a CT scan to contain a pulmonary nodule. Furthermore, we have included a very small part of the LIDC/IDRI data set and we will use only a slice of suspicious regions of a CT scan.\n",
        "\n",
        "### Data augmentation\n",
        "\n",
        "Originally our dataset was very unbalanced. There were a lot samples of non-nodules (negatives) but very few samples of nodules (positives). Machine learning algorithms and specifically neural networks and convolutional neural networks require to be trained on balanced dataset, meaning all the classes should be equally represented in the training set.\n",
        "\n",
        "Using data augmentation methods (**rotation and translation**), positive samples were massively augmented in order to balance the two classes (nodules and non-nodules)\n",
        "\n",
        "### Ground Truth data\n",
        "\n",
        "Categorical data are variables that contain label values rather than numeric values. In our dataset, a sample can represent a nodule or a non-nodule area, so initially we have our ground truth data in a categorical form. Many machine learning algorithms cannot operate on label data directly. They require all input variables to be numeric. This means that categorical data must be converted to a numerical form. This involves two steps:\n",
        "1. Integer Encoding\n",
        "2. One-Hot Encoding.\n",
        "\n",
        "As a first step, each unique category value is assigned an integer value. That's why in our dataset, a sample which represents a nodule will have as a label `1` and a sample which represents a non-nodule area will have as a label `0`.\n",
        "\n",
        "For our case, this enconding step would be enough since we have only two categories. However, in a more general problem with more than two classes, using this encoding allows the model to assume a natural ordering between categories which may result in poor performance or unexpected results. That's why, one hot encoding can be appled to the integer representation. This is where the integer encoded variable is removed and a new binary variable is added for each unique integer value.\n",
        "\n",
        "Therefore, a  nodule will be represented by the binary variable `[1,0]` and a non-nodule area by the binary variable `[0,1]`.\n",
        "\n",
        "<img src=\"images/lung_cancer2.png\">\n"
      ]
    },
    {
      "cell_type": "markdown",
      "metadata": {
        "deletable": false,
        "nbgrader": {
          "checksum": "77b5ce922c11056fda2cc0a605361876",
          "grade": false,
          "grade_id": "cell-88edf7d56c17540b",
          "locked": true,
          "schema_version": 1,
          "solution": false
        },
        "id": "kft0iSz8w_tm"
      },
      "source": [
        "# Part 1: Visualize, load and prepare data for Machine Learning Algorithms\n",
        "\n",
        "CT images are stored in MetaImage (`mhd/raw`) format. Each .mhd file is stored with as a header file (`.mhd`) and a corresponding pixeldata file (`.raw`). To load a CT image, just **load the `.mhd` header file** and data from the binary .raw file will be automatically loaded.\n",
        "\n",
        "If you look carefully at the name of each .mhd file, you can extract useful information for a specific sample. You can identify its **number id**, its **size**, if the image was produced by a **data augmentation** method and if it contains a **nodule or not**.\n",
        "\n",
        "For example: *20046_x0y0z0_20x20x6_r0_1.mhd*\n",
        "* **20046**:   number of candidate patch\n",
        "* **x0y0z0**: no translation in any axis (if augmentation is used it is mentioned by the angle in the corresponding axis)\n",
        "* **20x20x6**: size of the image in voxels\n",
        "* **r0**:     no rotation\n",
        "* **1**:      it is a positive sample - represents a nodule\n",
        "* **.mhd**:   it is a mhd file (this is the file which can be loaded)"
      ]
    },
    {
      "cell_type": "markdown",
      "metadata": {
        "deletable": false,
        "nbgrader": {
          "checksum": "eaa451a946fc33d891799f2910eb06af",
          "grade": false,
          "grade_id": "cell-6e65384d14dac861",
          "locked": true,
          "schema_version": 1,
          "solution": false
        },
        "id": "iH-yaFFcw_tn"
      },
      "source": [
        "### Task 1: Import necessary libraries\n",
        "\n",
        "Load all necessary libraries using the **import** statement and check for errors."
      ]
    },
    {
      "cell_type": "code",
      "source": [
        "from google.colab import drive\n",
        "drive.mount('/content/drive')"
      ],
      "metadata": {
        "id": "aWoTLjKtyfpG",
        "colab": {
          "base_uri": "https://localhost:8080/"
        },
        "outputId": "54a98eef-51b2-4d02-c3fd-25f7fb8e32bb"
      },
      "execution_count": null,
      "outputs": [
        {
          "output_type": "stream",
          "name": "stdout",
          "text": [
            "Mounted at /content/drive\n"
          ]
        }
      ]
    },
    {
      "cell_type": "code",
      "source": [
        "!pip install SimpleITK\n",
        "!pip install wandb"
      ],
      "metadata": {
        "colab": {
          "base_uri": "https://localhost:8080/"
        },
        "id": "QfazfgCPACPA",
        "outputId": "f314b9c5-9c97-40f2-96e4-94285f470709"
      },
      "execution_count": null,
      "outputs": [
        {
          "output_type": "stream",
          "name": "stdout",
          "text": [
            "Collecting SimpleITK\n",
            "  Downloading SimpleITK-2.3.1-cp310-cp310-manylinux_2_17_x86_64.manylinux2014_x86_64.whl (52.7 MB)\n",
            "\u001b[2K     \u001b[90m━━━━━━━━━━━━━━━━━━━━━━━━━━━━━━━━━━━━━━━━\u001b[0m \u001b[32m52.7/52.7 MB\u001b[0m \u001b[31m8.6 MB/s\u001b[0m eta \u001b[36m0:00:00\u001b[0m\n",
            "\u001b[?25hInstalling collected packages: SimpleITK\n",
            "Successfully installed SimpleITK-2.3.1\n",
            "Collecting wandb\n",
            "  Downloading wandb-0.16.4-py3-none-any.whl (2.2 MB)\n",
            "\u001b[2K     \u001b[90m━━━━━━━━━━━━━━━━━━━━━━━━━━━━━━━━━━━━━━━━\u001b[0m \u001b[32m2.2/2.2 MB\u001b[0m \u001b[31m29.3 MB/s\u001b[0m eta \u001b[36m0:00:00\u001b[0m\n",
            "\u001b[?25hRequirement already satisfied: Click!=8.0.0,>=7.1 in /usr/local/lib/python3.10/dist-packages (from wandb) (8.1.7)\n",
            "Collecting GitPython!=3.1.29,>=1.0.0 (from wandb)\n",
            "  Downloading GitPython-3.1.42-py3-none-any.whl (195 kB)\n",
            "\u001b[2K     \u001b[90m━━━━━━━━━━━━━━━━━━━━━━━━━━━━━━━━━━━━━━━━\u001b[0m \u001b[32m195.4/195.4 kB\u001b[0m \u001b[31m20.8 MB/s\u001b[0m eta \u001b[36m0:00:00\u001b[0m\n",
            "\u001b[?25hRequirement already satisfied: requests<3,>=2.0.0 in /usr/local/lib/python3.10/dist-packages (from wandb) (2.31.0)\n",
            "Requirement already satisfied: psutil>=5.0.0 in /usr/local/lib/python3.10/dist-packages (from wandb) (5.9.5)\n",
            "Collecting sentry-sdk>=1.0.0 (from wandb)\n",
            "  Downloading sentry_sdk-1.43.0-py2.py3-none-any.whl (264 kB)\n",
            "\u001b[2K     \u001b[90m━━━━━━━━━━━━━━━━━━━━━━━━━━━━━━━━━━━━━━━━\u001b[0m \u001b[32m264.6/264.6 kB\u001b[0m \u001b[31m26.5 MB/s\u001b[0m eta \u001b[36m0:00:00\u001b[0m\n",
            "\u001b[?25hCollecting docker-pycreds>=0.4.0 (from wandb)\n",
            "  Downloading docker_pycreds-0.4.0-py2.py3-none-any.whl (9.0 kB)\n",
            "Requirement already satisfied: PyYAML in /usr/local/lib/python3.10/dist-packages (from wandb) (6.0.1)\n",
            "Collecting setproctitle (from wandb)\n",
            "  Downloading setproctitle-1.3.3-cp310-cp310-manylinux_2_5_x86_64.manylinux1_x86_64.manylinux_2_17_x86_64.manylinux2014_x86_64.whl (30 kB)\n",
            "Requirement already satisfied: setuptools in /usr/local/lib/python3.10/dist-packages (from wandb) (67.7.2)\n",
            "Requirement already satisfied: appdirs>=1.4.3 in /usr/local/lib/python3.10/dist-packages (from wandb) (1.4.4)\n",
            "Requirement already satisfied: protobuf!=4.21.0,<5,>=3.19.0 in /usr/local/lib/python3.10/dist-packages (from wandb) (3.20.3)\n",
            "Requirement already satisfied: six>=1.4.0 in /usr/local/lib/python3.10/dist-packages (from docker-pycreds>=0.4.0->wandb) (1.16.0)\n",
            "Collecting gitdb<5,>=4.0.1 (from GitPython!=3.1.29,>=1.0.0->wandb)\n",
            "  Downloading gitdb-4.0.11-py3-none-any.whl (62 kB)\n",
            "\u001b[2K     \u001b[90m━━━━━━━━━━━━━━━━━━━━━━━━━━━━━━━━━━━━━━━━\u001b[0m \u001b[32m62.7/62.7 kB\u001b[0m \u001b[31m6.6 MB/s\u001b[0m eta \u001b[36m0:00:00\u001b[0m\n",
            "\u001b[?25hRequirement already satisfied: charset-normalizer<4,>=2 in /usr/local/lib/python3.10/dist-packages (from requests<3,>=2.0.0->wandb) (3.3.2)\n",
            "Requirement already satisfied: idna<4,>=2.5 in /usr/local/lib/python3.10/dist-packages (from requests<3,>=2.0.0->wandb) (3.6)\n",
            "Requirement already satisfied: urllib3<3,>=1.21.1 in /usr/local/lib/python3.10/dist-packages (from requests<3,>=2.0.0->wandb) (2.0.7)\n",
            "Requirement already satisfied: certifi>=2017.4.17 in /usr/local/lib/python3.10/dist-packages (from requests<3,>=2.0.0->wandb) (2024.2.2)\n",
            "Collecting smmap<6,>=3.0.1 (from gitdb<5,>=4.0.1->GitPython!=3.1.29,>=1.0.0->wandb)\n",
            "  Downloading smmap-5.0.1-py3-none-any.whl (24 kB)\n",
            "Installing collected packages: smmap, setproctitle, sentry-sdk, docker-pycreds, gitdb, GitPython, wandb\n",
            "Successfully installed GitPython-3.1.42 docker-pycreds-0.4.0 gitdb-4.0.11 sentry-sdk-1.43.0 setproctitle-1.3.3 smmap-5.0.1 wandb-0.16.4\n"
          ]
        }
      ]
    },
    {
      "cell_type": "code",
      "execution_count": null,
      "metadata": {
        "collapsed": true,
        "jupyter": {
          "outputs_hidden": true
        },
        "id": "1LKweVwHw_to",
        "colab": {
          "base_uri": "https://localhost:8080/"
        },
        "outputId": "f58bfcf9-400a-4c62-a88e-97e445ae0db3"
      },
      "outputs": [
        {
          "output_type": "stream",
          "name": "stdout",
          "text": [
            "\u001b[0m\u001b[01;34mdrive\u001b[0m/  \u001b[01;34msample_data\u001b[0m/\n"
          ]
        }
      ],
      "source": [
        "# Code for Part 1: Task 1\n",
        "import os\n",
        "import re\n",
        "import glob\n",
        "import keras\n",
        "import wandb\n",
        "import sklearn\n",
        "import numpy as np\n",
        "import pandas as pd\n",
        "import tensorflow as tf\n",
        "import SimpleITK as sitk\n",
        "from matplotlib import pyplot as plt\n",
        "from sklearn.model_selection import train_test_split\n",
        "\n",
        "%ls"
      ]
    },
    {
      "cell_type": "markdown",
      "metadata": {
        "deletable": false,
        "nbgrader": {
          "checksum": "945c2ee4613c085addad9e466a2e2d03",
          "grade": false,
          "grade_id": "cell-1f6fe6d45fa0e86d",
          "locked": true,
          "schema_version": 1,
          "solution": false
        },
        "id": "dihVp5kcw_tr"
      },
      "source": [
        "### Task 2: Inspect the dataset\n",
        "\n",
        "1. Using `SimpleITK`, create a function to load `.mhd` files (__Tip:__ The function should return a numpy array - `sitk.GetArrayFromImage( )`)\n",
        "2. Visualize the 6 slices of a chosen patch using `matplotlib` subplot figure and mention if it is a positive or a negative patch (Use colorscale `gray`)\n",
        "3. Visualize some augmented samples from the same candidate region using `matplotlib` subplot of the same patch and mention the augmentation method. Check visually if the observed patch was modified using the same augmentation method that is mentioned in the samples' filename.\n",
        "4. Count your files. How many positives and negatives there are in this dataset? (__Tip:__ Use `glob` library to get the number of specific files in your dataset)."
      ]
    },
    {
      "cell_type": "code",
      "execution_count": null,
      "metadata": {
        "collapsed": true,
        "jupyter": {
          "outputs_hidden": true
        },
        "id": "XNVQINzpw_ts",
        "colab": {
          "base_uri": "https://localhost:8080/",
          "height": 770
        },
        "outputId": "ec9d7ed6-5acd-4dad-9b5a-290de022a7fe"
      },
      "outputs": [
        {
          "output_type": "display_data",
          "data": {
            "text/plain": [
              "<Figure size 800x800 with 6 Axes>"
            ],
            "image/png": "[encoded data removed]"
          },
          "metadata": {}
        }
      ],
      "source": [
        "# Code for Part 1: Task 2\n",
        "\n",
        "# function to show the 6 different slices for a given image of the dataset\n",
        "def showImageSlices(image_name, path, dir):\n",
        "\n",
        "    image = sitk.ReadImage(f\"{path}/{dir}/{image_name}\") # loading image\n",
        "    img_to_read = sitk.GetArrayFromImage(image) # converting to array\n",
        "    arr_image = [] # empty array for slices\n",
        "\n",
        "    for i in range(6):\n",
        "      arr_image.append(img_to_read[i, :, :]) # appending slices to empty array\n",
        "\n",
        "    # plotting image slices\n",
        "    figs, axs = plt.subplots(3, 2, figsize=(8, 8))\n",
        "    figs.tight_layout(pad=3.0)\n",
        "\n",
        "    axs[0][0].imshow(arr_image[0], cmap='gray')\n",
        "    axs[0][0].set_title(f\"{image_name} | slice1\")\n",
        "\n",
        "    axs[0][1].imshow(arr_image[1], cmap='gray')\n",
        "    axs[0][1].set_title(f\"{image_name} | slice2\")\n",
        "\n",
        "    axs[1][0].imshow(arr_image[2], cmap='gray')\n",
        "    axs[1][0].set_title(f\"{image_name} | slice3\")\n",
        "\n",
        "    axs[1][1].imshow(arr_image[3], cmap='gray')\n",
        "    axs[1][1].set_title(f\"{image_name} | slice4\")\n",
        "\n",
        "    axs[2][0].imshow(arr_image[4], cmap='gray')\n",
        "    axs[2][0].set_title(f\"{image_name} | slice5\")\n",
        "\n",
        "    axs[2][1].imshow(arr_image[5], cmap='gray')\n",
        "    axs[2][1].set_title(f\"{image_name} | slice6\")\n",
        "\n",
        "    plt.show()\n",
        "\n",
        "\n",
        "# looking for the images in the patch: trying patch 20046_x-1y0z0_20x20x6_f0_1.mhd\n",
        "# abs_path = \"drive/MyDrive/UGent/Health-info-and-support/WPO-5/\" # THIS CHANGES FOR EVERYONE, LOOK AT PERSONAL PATH\n",
        "abs_path = \"drive/MyDrive/2Master/WPO-5/\"\n",
        "images_dir = 'MiniLunaDataset3'\n",
        "patch = '20046_x-1y0z0_20x20x6_f0_1.mhd'\n",
        "\n",
        "showImageSlices(patch, abs_path, images_dir)"
      ]
    },
    {
      "cell_type": "markdown",
      "metadata": {
        "deletable": false,
        "nbgrader": {
          "checksum": "dcf46ab947dd55a873e1469c775a2f59",
          "grade": false,
          "grade_id": "cell-d9e7fbe181dfe944",
          "locked": true,
          "schema_version": 1,
          "solution": false
        },
        "id": "1Sj1GX-Pw_tt"
      },
      "source": [
        "### Task 3: Data pre-processing\n",
        "In order to use neural-networks, we need to pre-process the data and store it in a way which can be easily interpreted by keras.\n",
        "\n",
        "First of all, separate the test set from the train set. Keep 10% of your samples as a test-set. (**Tip:** Use `sklearn` `train_test_split` function.)\n",
        "\n",
        "Since 3D CNNs need a lot of computation power, we will convert our problem to 2D. Instead of using all the 6 CT slices, we will use only the 3rd CT slice. Therefore, from each sample, the 3rd slice wiil be extracted and further preprocessed. In addition, our values currently range from -1024 HU to around 2000 HU. Anything above 400 is not interesting to us, as these are simply bones with different radiodensity. A commonly used set of thresholds to normalize between is -1000 and 400. Finally the labels will be properly encoded to be used for training and testing.\n",
        "\n",
        "Write your pre-processing tasks as python functions (listed below) and in the end create a pipeline for each sample which will be also implemented as a function.\n",
        "1. Function loading the `.mhd` image as a numpy array.\n",
        "2. Function extracting the 3rd slice of a patch. The final form of patches should be a numpy array of size **20x20** pixels.\n",
        "3. Function normalizing the dataset.\n",
        "The unit of measurement in CT scans is the **Hounsfield Unit (HU)**, which is a measure of radiodensity. CT scanners are carefully calibrated to accurately measure this. From Wikipedia:\n",
        "<img src=\"images/HU_CTscannersCalibration.png\">\n",
        "\n",
        "    Create a function which is going to normalize the samples according to this table\n",
        "        * Create numpy arrays\n",
        "        * Normalize between [-1000, 400] using this normalization method\n",
        "    $npzarray = (npzarray - minHU) / (maxHU - minHU)$ <br>\n",
        "         where minHU = -1000 and maxHU = 400\n",
        "        * After this normalization set any values bigger than 1 to 1 and any values smaller than 0 to 0.\n",
        "\n",
        "4. Write an `If statement` encoding a label into a **1-hot** label as a ground-truth data in order to train the neural networks. (One-hot labels: `[0,1]` --> negative, `[1,0]` --> positive)\n",
        "\n",
        "5. Store into `.npy` data binary files. (__Tip:__ Use `np.save` to store data.)\n",
        "\n",
        "The pipeline should execute the functions as follows: <br>\n",
        "\n",
        "- Use `train_test_split` to divide the dataset into train and test subsets. Do that on patient level!\n",
        "- Create empty `np.arrays` filled with zeros to store patches and label data\n",
        "- Use for loop to iterate over all images in a train set:\n",
        "    - Load `.mhd` using `sitk`\n",
        "    - Normalize\n",
        "    - Extract 3rd slice\n",
        "    - Extract label as one-hot.\n",
        "    - Insert into empty array at correct index location\n",
        "- Save dataset.\n",
        "- Repeat for a test set.\n",
        "\n",
        "and return:\n",
        "* data:  [sample_idx,20,20]\n",
        "* labels: [sample_idx,2]\n",
        "\n",
        "Data pre-processing should be done for both: train and test set."
      ]
    },
    {
      "cell_type": "code",
      "execution_count": null,
      "metadata": {
        "jupyter": {
          "outputs_hidden": true
        },
        "id": "hhsmnpy3w_tt",
        "colab": {
          "base_uri": "https://localhost:8080/"
        },
        "outputId": "2499a40c-a063-4418-981d-b7b82c8effeb"
      },
      "outputs": [
        {
          "output_type": "stream",
          "name": "stdout",
          "text": [
            "number of images: 2325\n",
            "final shape of dataset: (2325, 20, 20)\n",
            "\n",
            "Created Y labels: (2325, 2)\n"
          ]
        }
      ],
      "source": [
        "# Code for Part 1: Task 3\n",
        "# 1. Function loading the .mhd image as a numpy array.\n",
        "def load_image(filename, path):\n",
        "  load_img = sitk.ReadImage(f\"{path}/{filename}\")\n",
        "  image = sitk.GetArrayFromImage(load_img)\n",
        "  return image\n",
        "\n",
        "# 2. Function extracting the 3rd slice of a patch. The final form of patches should be a numpy array of size 20x20 pixels.\n",
        "def extract_slice(image):\n",
        "  sliced_image = image[2, :, :] # selecting 3rd slice\n",
        "  return sliced_image\n",
        "\n",
        "# 3. Function normalizing the dataset.\n",
        "def normalize_dataset(data, minHU, maxHU):\n",
        "  minHU = np.int32(minHU) # changing dtype to be able to subtract from an array\n",
        "  maxHU = np.int32(maxHU)\n",
        "\n",
        "  normalized_data = []\n",
        "  for image in data:\n",
        "    normalized_image = (image - minHU) / (maxHU - minHU) # normalizing\n",
        "    capped_image = np.clip(normalized_image, 0., 1.) # anything < 0 = 0, anything > 1 = 1\n",
        "    normalized_data.append(capped_image)\n",
        "\n",
        "  return np.array(normalized_data)\n",
        "\n",
        "#abs_path = \"drive/MyDrive/UGent/Health-info-and-support/WPO-5\" # THIS CHANGES FOR EVERYONE, LOOK AT PERSONAL PATH\n",
        "abs_path = \"drive/MyDrive/2Master/WPO-5\"\n",
        "\n",
        "\n",
        "all_files = os.listdir(f\"{abs_path}/MiniLunaDataset3\")\n",
        "images_mhd = [x for x in all_files if x[-3:] == 'mhd'] # get only the .mhd files\n",
        "labels = [img_name.split('_')[-1][0] for img_name in images_mhd] # getting only the label of each file (positive=1, negative=0)\n",
        "Y = np.zeros(shape=(len(images_mhd), 2))\n",
        "\n",
        "print(f\"number of images: {len(images_mhd)}\")\n",
        "\n",
        "# preprocessing of the dataset\n",
        "images = [load_image(img, f\"{abs_path}/MiniLunaDataset3\") for img in images_mhd]\n",
        "sliced_imgs = [extract_slice(image_i) for image_i in images]\n",
        "normalized_imgs = normalize_dataset(sliced_imgs, -1000, 400)\n",
        "\n",
        "print(f\"final shape of dataset: {normalized_imgs.shape}\")\n",
        "\n",
        "# 4. Encoding a label into a 1-hot label as a ground-truth data in order to train the neural networks. (One-hot labels: [0,1] --> negative, [1,0] --> positive)\n",
        "# is it just giving [0, 1] to files with _0 as a suffix in the filename (no-nodule), and [1, 0] to files with _1 as a suffix in the filename (has a nodule)\n",
        "for i in range(len(labels)):\n",
        "  if int(labels[i]):\n",
        "    Y[i] = [1, 0]\n",
        "  else:\n",
        "    Y[i] = [0, 1]\n",
        "\n",
        "print(f\"\\nCreated Y labels: {Y.shape}\")\n",
        "\n",
        "# 5. Store into .npy data binary files. (Tip: Use np.save to store data.)\n",
        "np.save(f'{abs_path}/X_images', normalized_imgs)\n",
        "np.save(f'{abs_path}/Y_labels', Y)"
      ]
    },
    {
      "cell_type": "code",
      "source": [
        "X_images = np.load(f\"{abs_path}/X_images.npy\")\n",
        "Y_labels = np.load(f\"{abs_path}/Y_labels.npy\")\n",
        "X_train, X_test, Y_train, Y_test = train_test_split(X_images, Y_labels, test_size=0.1, random_state=0)\n",
        "\n",
        "print(f\"X_train: {X_train.shape}\\nX_test: {X_test.shape}\\nY_train: {Y_train.shape}\\nY_test: {Y_test.shape}\")"
      ],
      "metadata": {
        "colab": {
          "base_uri": "https://localhost:8080/"
        },
        "id": "PCPP4-aZRWm8",
        "outputId": "8283c636-f776-4360-d7da-4194cf5ac73d"
      },
      "execution_count": null,
      "outputs": [
        {
          "output_type": "stream",
          "name": "stdout",
          "text": [
            "X_train: (2092, 20, 20)\n",
            "X_test: (233, 20, 20)\n",
            "Y_train: (2092, 2)\n",
            "Y_test: (233, 2)\n"
          ]
        }
      ]
    },
    {
      "cell_type": "markdown",
      "metadata": {
        "deletable": false,
        "nbgrader": {
          "checksum": "f0f3e11c93d2004ee46bad5992f6c714",
          "grade": false,
          "grade_id": "cell-f4edb7482a0753c4",
          "locked": true,
          "schema_version": 1,
          "solution": false
        },
        "id": "soD08ptlw_tu"
      },
      "source": [
        "In case you are not able to complete Part 1, you can move to Part 2 of the session by loading the provided `.npy` files. In that case you will **not** get any credits for Part 1."
      ]
    },
    {
      "cell_type": "markdown",
      "metadata": {
        "deletable": false,
        "editable": false,
        "nbgrader": {
          "checksum": "687da3742ff425ca860c8478ed7d081a",
          "grade": false,
          "grade_id": "cell-d1fb33251b563bb8",
          "locked": true,
          "schema_version": 1,
          "solution": false
        },
        "id": "EC320UoMw_tu"
      },
      "source": [
        "# Part 2: Model training and validation"
      ]
    },
    {
      "cell_type": "markdown",
      "metadata": {
        "deletable": false,
        "nbgrader": {
          "checksum": "3d1de1e961e4781cd28635929dc63f5d",
          "grade": false,
          "grade_id": "cell-a11370ef4ea445ca",
          "locked": true,
          "schema_version": 1,
          "solution": false
        },
        "id": "hF_fpiLMw_tu"
      },
      "source": [
        "### Using Keras - A High Level API for Tensorflow\n",
        "\n",
        "Keras introduces a High-Level API that makes neural network building and training fast and easy. This API is intuitive and fully compatible with Tensorflow. In addition, keras provides a plethora of [APIs](https://keras.io/api/models/) and the user may select one that meets his needs. For the purpose of this exercise, the [sequential model](https://keras.io/api/models/sequential/) can be employed.\n",
        "\n",
        "### Visualization of training curves with `wandb`\n",
        "\n",
        "For the purpose of visualization in real-time the performance of our training, you will use Weights-And-Biases (`wandb`). During or after training you can use  it  to visualize the network and its performance. <b> For  all the following training tasks you are requested to include the loss and the accuracy graphs for training and also for evaluating the test-set</b>. A simple way to attach these graphs to jupyter notebook is to use generate a report after the training of all your networks is finished. Please upload that report in the pdf format and upload it in yur submission together with this notebook.\n",
        "\n",
        "Have a look at the following links for some tutorials on first use and report generation in `wandb`:\n",
        "* https://docs.wandb.ai/quickstart\n",
        "* https://docs.wandb.ai/guides/reports/create-a-report\n",
        "\n",
        "### Some Tips:\n",
        "\n",
        "* Use ```np.load``` to load your data from the previously created .npy binary files.\n",
        "* Use ```reshape``` method when it is needed to import data to the network.\n",
        "* Make your own function to create the model for each network architecture to avoid any model conflicts.\n",
        "\n",
        "* If you trained a model in a past python session, you can load the trained model but first you have to <b>define and initialize it again</b>.\n",
        "\n",
        "* Use `wandb` to visualize network and performance:\n",
        "\n",
        "* If you have strange keras errors, restart the python kernel and <b> re-run only the cells concerning your task you currently work (i.e. run the cells concerning only the current keras). Sometimes you cannot load two different keras at the same python session.</b>.\n",
        "\n",
        "(*) Depending the version of tensorflow you are working some commands might differ. Please look online for recent documentation."
      ]
    },
    {
      "cell_type": "markdown",
      "metadata": {
        "deletable": false,
        "nbgrader": {
          "checksum": "839c62166cf59b1aba0ebb12f7e38d6d",
          "grade": false,
          "grade_id": "cell-d5025d3539123bdb",
          "locked": true,
          "schema_version": 1,
          "solution": false
        },
        "id": "_zZPPWoqw_tv"
      },
      "source": [
        "### Task 1: Load Data from the numpy binary files (from Part 1)\n",
        "Use the `numpy` load function to load the data created in the previous part of the exercise. The data has to be reshaped in a specific way (use code below) in order to be compatible with the keras neural network input standard. After the data is successfully loaded, plot any patch and its ground-truth as image title to verify that data is correctly represented."
      ]
    },
    {
      "cell_type": "code",
      "execution_count": null,
      "metadata": {
        "id": "MVLeES7ww_tv"
      },
      "outputs": [],
      "source": [
        "# Code for Part 2: Task 1\n",
        "IMG_SIZE = 20\n",
        "\n",
        "X = X_train.reshape(-1,IMG_SIZE,IMG_SIZE,1)\n",
        "X_val = X_test.reshape(-1,IMG_SIZE,IMG_SIZE,1)"
      ]
    },
    {
      "cell_type": "markdown",
      "metadata": {
        "deletable": false,
        "nbgrader": {
          "checksum": "0d1106dc6ff56598fb4c8afd41d9061f",
          "grade": false,
          "grade_id": "cell-0afd5980978d0695",
          "locked": true,
          "schema_version": 1,
          "solution": false
        },
        "id": "MxiFo4fEw_tv"
      },
      "source": [
        "### Task 2: Artificial Neural Networks (1 layer)\n",
        "First, lets train our classifier using an artificial neural network with just one layer (perceptron), a fully connected one (dense). This layer will have `softmax` as activation function and only two neurons.\n",
        "\n",
        "The main advantage of using this activation function is the output range. The range of the outputs will be `[0,1]` and the sum of all the probabilities will be equal to one. Generally, if the softmax function is used for a  multi-classification model it returns the probabilities of each class and the target class will have higher probability.\n",
        "\n",
        "Using Keras, define your model. Use these hyperparameters:\n",
        "* Learning Rate = `1e-4`\n",
        "* Batch Size = `8`\n",
        "* Optimizer = `sgd`\n",
        "* Loss metric = `categorical_crossentropy`\n",
        "* Validation metric score in Keras = `accuracy`\n",
        "\n",
        "Check your model architecture with `summary()` function.\n",
        "\n",
        "Since the network is small, it is not recommended to use `Dropout`. Train first for 1-2 epochs to verify that everything works and then train for ~10 epochs. To automatically integrate `wandb` in your Keras `model.fit` function, import `from wandb.keras import WandbMetricsLogger` and add a callback statement: `callbacks=[WandbMetricsLogger()]`. Observe the training and evaluate graphs from `wandb` to decide when to stop training.\n",
        "\n",
        "To evaluate the trained model, test it with the test samples (use `validation_data` in `model.fit` function).\n",
        "\n",
        "### Tip:\n",
        "* Use `.Flatten()` layer first to create a 1D vector in your input layer.\n",
        "* It is highly recommended to write all the tasks in functions and have as an input argument your keras. Then you will be able to re-use them in the next tasks for different keras."
      ]
    },
    {
      "cell_type": "code",
      "execution_count": null,
      "metadata": {
        "jupyter": {
          "outputs_hidden": true
        },
        "id": "j56dXue3w_tw",
        "colab": {
          "base_uri": "https://localhost:8080/",
          "height": 1000
        },
        "outputId": "bb198713-0de5-4490-fa06-dd1ad6ac8d8a"
      },
      "outputs": [
        {
          "output_type": "stream",
          "name": "stdout",
          "text": [
            "(2092, 20, 20, 1)\n",
            "Model: \"sequential_1\"\n",
            "_________________________________________________________________\n",
            " Layer (type)                Output Shape              Param #   \n",
            "=================================================================\n",
            " flatten_1 (Flatten)         (None, 400)               0         \n",
            "                                                                 \n",
            " dense_1 (Dense)             (None, 2)                 802       \n",
            "                                                                 \n",
            "=================================================================\n",
            "Total params: 802 (3.13 KB)\n",
            "Trainable params: 802 (3.13 KB)\n",
            "Non-trainable params: 0 (0.00 Byte)\n",
            "_________________________________________________________________\n"
          ]
        },
        {
          "output_type": "display_data",
          "data": {
            "text/plain": [
              "<IPython.core.display.Javascript object>"
            ],
            "application/javascript": [
              "\n",
              "        window._wandbApiKey = new Promise((resolve, reject) => {\n",
              "            function loadScript(url) {\n",
              "            return new Promise(function(resolve, reject) {\n",
              "                let newScript = document.createElement(\"script\");\n",
              "                newScript.onerror = reject;\n",
              "                newScript.onload = resolve;\n",
              "                document.body.appendChild(newScript);\n",
              "                newScript.src = url;\n",
              "            });\n",
              "            }\n",
              "            loadScript(\"https://cdn.jsdelivr.net/npm/postmate/build/postmate.min.js\").then(() => {\n",
              "            const iframe = document.createElement('iframe')\n",
              "            iframe.style.cssText = \"width:0;height:0;border:none\"\n",
              "            document.body.appendChild(iframe)\n",
              "            const handshake = new Postmate({\n",
              "                container: iframe,\n",
              "                url: 'https://wandb.ai/authorize'\n",
              "            });\n",
              "            const timeout = setTimeout(() => reject(\"Couldn't auto authenticate\"), 5000)\n",
              "            handshake.then(function(child) {\n",
              "                child.on('authorize', data => {\n",
              "                    clearTimeout(timeout)\n",
              "                    resolve(data)\n",
              "                });\n",
              "            });\n",
              "            })\n",
              "        });\n",
              "    "
            ]
          },
          "metadata": {}
        },
        {
          "output_type": "stream",
          "name": "stderr",
          "text": [
            "\u001b[34m\u001b[1mwandb\u001b[0m: Logging into wandb.ai. (Learn how to deploy a W&B server locally: https://wandb.me/wandb-server)\n",
            "\u001b[34m\u001b[1mwandb\u001b[0m: You can find your API key in your browser here: https://wandb.ai/authorize\n",
            "wandb: Paste an API key from your profile and hit enter, or press ctrl+c to quit:"
          ]
        },
        {
          "name": "stdout",
          "output_type": "stream",
          "text": [
            " ··········\n"
          ]
        },
        {
          "output_type": "stream",
          "name": "stderr",
          "text": [
            "\u001b[34m\u001b[1mwandb\u001b[0m: Appending key for api.wandb.ai to your netrc file: /root/.netrc\n"
          ]
        },
        {
          "output_type": "display_data",
          "data": {
            "text/plain": [
              "<IPython.core.display.HTML object>"
            ],
            "text/html": [
              "Tracking run with wandb version 0.16.4"
            ]
          },
          "metadata": {}
        },
        {
          "output_type": "display_data",
          "data": {
            "text/plain": [
              "<IPython.core.display.HTML object>"
            ],
            "text/html": [
              "Run data is saved locally in <code>/content/wandb/run-20240320_203033-pp7z2rfp</code>"
            ]
          },
          "metadata": {}
        },
        {
          "output_type": "display_data",
          "data": {
            "text/plain": [
              "<IPython.core.display.HTML object>"
            ],
            "text/html": [
              "Syncing run <strong><a href='https://wandb.ai/health_info/WPO%205/runs/pp7z2rfp' target=\"_blank\">helpful-darkness-2</a></strong> to <a href='https://wandb.ai/health_info/WPO%205' target=\"_blank\">Weights & Biases</a> (<a href='https://wandb.me/run' target=\"_blank\">docs</a>)<br/>"
            ]
          },
          "metadata": {}
        },
        {
          "output_type": "display_data",
          "data": {
            "text/plain": [
              "<IPython.core.display.HTML object>"
            ],
            "text/html": [
              " View project at <a href='https://wandb.ai/health_info/WPO%205' target=\"_blank\">https://wandb.ai/health_info/WPO%205</a>"
            ]
          },
          "metadata": {}
        },
        {
          "output_type": "display_data",
          "data": {
            "text/plain": [
              "<IPython.core.display.HTML object>"
            ],
            "text/html": [
              " View run at <a href='https://wandb.ai/health_info/WPO%205/runs/pp7z2rfp' target=\"_blank\">https://wandb.ai/health_info/WPO%205/runs/pp7z2rfp</a>"
            ]
          },
          "metadata": {}
        },
        {
          "output_type": "stream",
          "name": "stdout",
          "text": [
            "Epoch 1/20\n",
            "66/66 [==============================] - 1s 2ms/step - loss: 0.8842 - accuracy: 0.5163\n",
            "Epoch 2/20\n",
            "66/66 [==============================] - 0s 2ms/step - loss: 0.8526 - accuracy: 0.5148\n",
            "Epoch 3/20\n",
            "66/66 [==============================] - 0s 2ms/step - loss: 0.8259 - accuracy: 0.5105\n",
            "Epoch 4/20\n",
            "66/66 [==============================] - 0s 2ms/step - loss: 0.8037 - accuracy: 0.5072\n",
            "Epoch 5/20\n",
            "66/66 [==============================] - 0s 2ms/step - loss: 0.7854 - accuracy: 0.5043\n",
            "Epoch 6/20\n",
            "66/66 [==============================] - 0s 2ms/step - loss: 0.7703 - accuracy: 0.5000\n",
            "Epoch 7/20\n",
            "66/66 [==============================] - 0s 3ms/step - loss: 0.7579 - accuracy: 0.5000\n",
            "Epoch 8/20\n",
            "66/66 [==============================] - 0s 2ms/step - loss: 0.7478 - accuracy: 0.5019\n",
            "Epoch 9/20\n",
            "66/66 [==============================] - 0s 2ms/step - loss: 0.7394 - accuracy: 0.4947\n",
            "Epoch 10/20\n",
            "66/66 [==============================] - 0s 2ms/step - loss: 0.7325 - accuracy: 0.4914\n",
            "Epoch 11/20\n",
            "66/66 [==============================] - 0s 2ms/step - loss: 0.7266 - accuracy: 0.4837\n",
            "Epoch 12/20\n",
            "66/66 [==============================] - 0s 2ms/step - loss: 0.7216 - accuracy: 0.4694\n",
            "Epoch 13/20\n",
            "66/66 [==============================] - 0s 2ms/step - loss: 0.7172 - accuracy: 0.4694\n",
            "Epoch 14/20\n",
            "66/66 [==============================] - 0s 2ms/step - loss: 0.7134 - accuracy: 0.4689\n",
            "Epoch 15/20\n",
            "66/66 [==============================] - 0s 2ms/step - loss: 0.7100 - accuracy: 0.4732\n",
            "Epoch 16/20\n",
            "66/66 [==============================] - 0s 2ms/step - loss: 0.7070 - accuracy: 0.4775\n",
            "Epoch 17/20\n",
            "66/66 [==============================] - 0s 2ms/step - loss: 0.7043 - accuracy: 0.4809\n",
            "Epoch 18/20\n",
            "66/66 [==============================] - 0s 2ms/step - loss: 0.7018 - accuracy: 0.4857\n",
            "Epoch 19/20\n",
            "66/66 [==============================] - 0s 2ms/step - loss: 0.6995 - accuracy: 0.4852\n",
            "Epoch 20/20\n",
            "66/66 [==============================] - 0s 2ms/step - loss: 0.6973 - accuracy: 0.4895\n",
            "Epoch 1/20\n",
            "66/66 [==============================] - 0s 7ms/step - loss: 0.6952 - accuracy: 0.4938 - val_loss: 0.6974 - val_accuracy: 0.5279\n",
            "Epoch 2/20\n",
            "66/66 [==============================] - 0s 3ms/step - loss: 0.6932 - accuracy: 0.4976 - val_loss: 0.6962 - val_accuracy: 0.5236\n",
            "Epoch 3/20\n",
            "66/66 [==============================] - 0s 3ms/step - loss: 0.6913 - accuracy: 0.5057 - val_loss: 0.6951 - val_accuracy: 0.5150\n",
            "Epoch 4/20\n",
            "66/66 [==============================] - 0s 2ms/step - loss: 0.6895 - accuracy: 0.5115 - val_loss: 0.6940 - val_accuracy: 0.5365\n",
            "Epoch 5/20\n",
            "66/66 [==============================] - 0s 3ms/step - loss: 0.6877 - accuracy: 0.5201 - val_loss: 0.6929 - val_accuracy: 0.5451\n",
            "Epoch 6/20\n",
            "66/66 [==============================] - 0s 3ms/step - loss: 0.6860 - accuracy: 0.5234 - val_loss: 0.6919 - val_accuracy: 0.5408\n",
            "Epoch 7/20\n",
            "66/66 [==============================] - 0s 2ms/step - loss: 0.6843 - accuracy: 0.5244 - val_loss: 0.6908 - val_accuracy: 0.5365\n",
            "Epoch 8/20\n",
            "66/66 [==============================] - 0s 2ms/step - loss: 0.6827 - accuracy: 0.5263 - val_loss: 0.6898 - val_accuracy: 0.5365\n",
            "Epoch 9/20\n",
            "66/66 [==============================] - 0s 2ms/step - loss: 0.6811 - accuracy: 0.5335 - val_loss: 0.6888 - val_accuracy: 0.5365\n",
            "Epoch 10/20\n",
            "66/66 [==============================] - 0s 2ms/step - loss: 0.6795 - accuracy: 0.5378 - val_loss: 0.6878 - val_accuracy: 0.5365\n",
            "Epoch 11/20\n",
            "66/66 [==============================] - 0s 2ms/step - loss: 0.6780 - accuracy: 0.5397 - val_loss: 0.6868 - val_accuracy: 0.5365\n",
            "Epoch 12/20\n",
            "66/66 [==============================] - 0s 2ms/step - loss: 0.6765 - accuracy: 0.5430 - val_loss: 0.6859 - val_accuracy: 0.5365\n",
            "Epoch 13/20\n",
            "66/66 [==============================] - 0s 3ms/step - loss: 0.6750 - accuracy: 0.5488 - val_loss: 0.6850 - val_accuracy: 0.5365\n",
            "Epoch 14/20\n",
            "66/66 [==============================] - 0s 2ms/step - loss: 0.6735 - accuracy: 0.5488 - val_loss: 0.6840 - val_accuracy: 0.5408\n",
            "Epoch 15/20\n",
            "66/66 [==============================] - 0s 2ms/step - loss: 0.6721 - accuracy: 0.5535 - val_loss: 0.6831 - val_accuracy: 0.5408\n",
            "Epoch 16/20\n",
            "66/66 [==============================] - 0s 3ms/step - loss: 0.6707 - accuracy: 0.5545 - val_loss: 0.6822 - val_accuracy: 0.5494\n",
            "Epoch 17/20\n",
            "66/66 [==============================] - 0s 4ms/step - loss: 0.6693 - accuracy: 0.5569 - val_loss: 0.6813 - val_accuracy: 0.5451\n",
            "Epoch 18/20\n",
            "66/66 [==============================] - 0s 4ms/step - loss: 0.6679 - accuracy: 0.5602 - val_loss: 0.6804 - val_accuracy: 0.5451\n",
            "Epoch 19/20\n",
            "66/66 [==============================] - 0s 4ms/step - loss: 0.6666 - accuracy: 0.5631 - val_loss: 0.6795 - val_accuracy: 0.5579\n",
            "Epoch 20/20\n",
            "66/66 [==============================] - 0s 4ms/step - loss: 0.6652 - accuracy: 0.5669 - val_loss: 0.6786 - val_accuracy: 0.5665\n"
          ]
        }
      ],
      "source": [
        "# Code for Part 2: Task 2\n",
        "from wandb.keras import WandbMetricsLogger\n",
        "print(X.shape)\n",
        "\n",
        "hyperparameters = {'activation_function': 'softmax', 'learning_rate': 1e-4, 'batch_size': 8, 'optimizer': 'sgd', 'loss_metric': 'categorical_crossentropy', 'val_metric_score': 'accuracy'}\n",
        "model = keras.Sequential()\n",
        "#[ ]\n",
        "model.add(keras.layers.Flatten(input_shape=(20, 20, 1)))\n",
        "model.add(keras.layers.Dense(2, activation='softmax')) # is the output the number of categories (positive and negative for nodules)?\n",
        "# model.compile(optimizer='sgd', loss='categorical_crossentropy', metrics='accuracy')\n",
        "model.compile(optimizer = keras.optimizers.SGD(learning_rate=1e-4), loss='categorical_crossentropy', metrics='accuracy')\n",
        "model.summary()\n",
        "wandb.init(project='WPO 5')\n",
        "model.fit(X, Y_train, epochs = 20, callbacks=[WandbMetricsLogger()])\n",
        "# To automatically integrate wandb in your Keras model.fit function,\n",
        "\n",
        "#model.fit(X_train, Y_train, epochs = 10)\n",
        "#combined_input = np.concatenate((X, Y_train), axis=1)\n",
        "# Now, pass the combined input data to the model.fit() function\n",
        "#history = model.fit(combined_input, epochs=20, validation_data=(X_val, Y_test))\n",
        "#validation_data=(x_val, y_val),\n",
        "history = model.fit(X, Y_train, epochs=20, validation_data=(X_val, Y_test), callbacks=[WandbMetricsLogger()])\n",
        "#history.summary()"
      ]
    },
    {
      "cell_type": "markdown",
      "metadata": {
        "deletable": false,
        "nbgrader": {
          "checksum": "729112bb739cb27832f2c27f1d3d3c5a",
          "grade": false,
          "grade_id": "cell-ec3cbbcde6634b2d",
          "locked": true,
          "schema_version": 1,
          "solution": false
        },
        "id": "KCHB4e-tw_tw"
      },
      "source": [
        "### Task 3: Test the model\n",
        "In this section you are going to write a <b>generic</b> validation function to assess the performance of out trained models. To do so, we will need the following modules from `sklearn`:\n",
        "- `confusion_matrix`\n",
        "- `accuracy_score`\n",
        "- `roc_curve`\n",
        "\n",
        "Import the modules and create a `python` function which takes two input arguments (validation test data and its GT labels). Use `model.predict` method to predict the class of our test set. Using the function print the `confusion_matrix`, `accuracy_score` and a `roc_curve` of this specific model.\n",
        "\n",
        "Use to function to assess the performance of your first train model. Print all of the validation metrics and a ROC curve.\n",
        "\n",
        "__Hint__: For the calculation of `confusion_matrix` and `accuracy_score` you need to transform your predicted and GT labels using `np.argmax`.\n",
        "\n",
        "__Hint__: For the calculation of `roc_curve` take only the second column of the predicted one-hot label e.g. `test_preds = test_preds[:,1]`\n",
        "\n",
        "Explain these graphs and the ROC curve. What role does the decision threshold play and why it is so important? Can we have a single value as the decision threshold? Why?"
      ]
    },
    {
      "cell_type": "code",
      "execution_count": null,
      "metadata": {
        "id": "96ksnO_Sw_tw"
      },
      "outputs": [],
      "source": [
        "# Answer to the question\n"
      ]
    },
    {
      "cell_type": "code",
      "execution_count": null,
      "metadata": {
        "id": "Yh2FQbTuw_tx"
      },
      "outputs": [],
      "source": [
        "# Confusion matrix\n",
        "# accuracy score\n",
        "#roc curve\n",
        "def perfomance_assessing(validation_test, GT_labels):\n",
        "\n",
        "\n",
        "      # Predict the class probabilities for the validation set\n",
        "    y_pred_proba = model.predict(X_val)\n",
        "\n",
        "    # Convert predicted probabilities to class labels\n",
        "    y_pred = np.argmax(y_pred_proba, axis=1)\n",
        "\n",
        "    # Convert ground truth labels to class labels\n",
        "    y_true = np.argmax(y_val, axis=1)\n",
        "\n",
        "    # Calculate confusion matrix\n",
        "    cm = confusion_matrix(y_true, y_pred)\n",
        "    print(\"Confusion Matrix:\")\n",
        "    print(cm)\n",
        "\n",
        "    # Calculate accuracy score\n",
        "    accuracy = accuracy_score(y_true, y_pred)\n",
        "    print(\"Accuracy:\", accuracy)\n",
        "\n",
        "    # Calculate ROC curve\n",
        "    fpr, tpr, thresholds = roc_curve(y_true, y_pred_proba[:, 1])\n",
        "\n",
        "    # Plot ROC curve\n",
        "    plt.figure()\n",
        "    plt.plot(fpr, tpr, color='blue', lw=2, label='ROC curve')\n",
        "    plt.plot([0, 1], [0, 1], color='gray', lw=2, linestyle='--', label='Random')\n",
        "    plt.xlim([0.0, 1.0])\n",
        "    plt.ylim([0.0, 1.05])\n",
        "    plt.xlabel('False Positive Rate')\n",
        "    plt.ylabel('True Positive Rate')\n",
        "    plt.title('Receiver Operating Characteristic (ROC) Curve')\n",
        "    plt.legend(loc=\"lower right\")\n",
        "    plt.show()\n",
        "\n",
        "    return cm, accuracy, (fpr, tpr, thresholds)\n",
        "\n",
        "\n",
        "\n",
        "\n",
        "  print(\"the confusion matrix is:\", confusion_matrix())\n",
        "  print(\"the accuracy score is:\", accuracy_score)\n",
        "\n",
        "'''\n",
        "  # Split your dataset into training and testing data\n",
        "X_train, X_test, Y_train, Y_test = train_test_split(X, Y, test_size=0.2, random_state=0)\n",
        "\n",
        "random_forest_official = RandomForestClassifier(n_estimators=10, random_state=42)\n",
        "random_forest_official.fit(X_train, Y_train)\n",
        "\n",
        "# Use the forest's predict method on the test data\n",
        "predictions = random_forest_official.predict(X_test)\n",
        "\n",
        "conf_mat = confusion_matrix(Y_test, predictions)\n",
        "print(\"Confusion Matrix:\")\n",
        "print(conf_mat)\n",
        "\n",
        "print(\"\\nClassification Report:\")\n",
        "print(classification_report(Y_test, predictions, labels=[0, 1], target_names=['Healthy', 'Lesion']))\n",
        "\n",
        "ax = plt.gca()\n",
        "rfc_disp = RocCurveDisplay.from_estimator(random_forest_official, X_test, Y_test, ax=ax, alpha=0.8)\n",
        "'''\n",
        "  return 0"
      ]
    },
    {
      "cell_type": "markdown",
      "metadata": {
        "deletable": false,
        "nbgrader": {
          "checksum": "d82ad9587727760dd790c5846e9ba05f",
          "grade": false,
          "grade_id": "cell-ec462a6ad2168c48",
          "locked": true,
          "schema_version": 1,
          "solution": false
        },
        "id": "fU6-4hAOw_tx"
      },
      "source": [
        "### Task 4.1: Artificial Neural Networks (3 layers) - Let's go deep!\n",
        "\n",
        "From now on, we will try various networks with increasing complexity. Make sure with every network/parameter change, you update any hyperameters; you test and evaluate the new model with the previously used evaluation metrics (ROC curve, confusion matrix...). Moreover, every time check the training curves in `wandb`.\n",
        "\n",
        "Let's try 3 fully-connected layers using `sigmoid` activation function.\n",
        "\n",
        "Here is an example network but you are free to choose your own network.\n",
        "* 1st dense layer with 80 neurons, `sigmoid` activation\n",
        "* 2nd dense layer with 40 neurons, `sigmoid` activation\n",
        "* 3rd dense layer with 2 neurons and `softmax` activation\n",
        "* optimizer: `sgd`\n",
        "* learning rate: `1e-4`\n",
        "\n",
        "Explain your network's architecture and **test** your system as you did for the previous simple neural network. What do you observe? Make sure you tune again any hyperparameters like the amount of training epochs. Choose different values for the learning rate, number of epochs and batch size (e.g. 10, 20, 30...). Can you find some training curves which indicate **underfitting** and **overfitting**? If so, what network parameters play a crucial role in observing **underfitting** or **overfitting**?\n",
        "\n",
        "**Remark:** Some deeper models require more training to reach their optimal performance. If possible with your computational resources, try to train them for more epochs until no increase in accuracy is observed."
      ]
    },
    {
      "cell_type": "code",
      "execution_count": null,
      "metadata": {
        "id": "Aa1LItpRw_ty"
      },
      "outputs": [],
      "source": [
        "# Answer to the question"
      ]
    },
    {
      "cell_type": "code",
      "execution_count": null,
      "metadata": {
        "collapsed": true,
        "jupyter": {
          "outputs_hidden": true
        },
        "id": "s24svd9Rw_ty"
      },
      "outputs": [],
      "source": [
        "# Code for Part 2: Task 4.1"
      ]
    },
    {
      "cell_type": "markdown",
      "metadata": {
        "deletable": false,
        "editable": false,
        "nbgrader": {
          "checksum": "822f2a649d5f2f9cebf5cfb29e5681f1",
          "grade": false,
          "grade_id": "cell-2f4b91a56afdcffa",
          "locked": true,
          "schema_version": 1,
          "solution": false
        },
        "id": "X9jkrp-_w_tz"
      },
      "source": [
        "### Task 4.2: Relu!\n",
        "RELU = Rectified Linear Unit\n",
        "\n",
        "Let's try the same network but using RELU instead of sigmoid now."
      ]
    },
    {
      "cell_type": "code",
      "execution_count": null,
      "metadata": {
        "collapsed": true,
        "jupyter": {
          "outputs_hidden": true
        },
        "id": "_yEak5w5w_tz"
      },
      "outputs": [],
      "source": [
        "# Code for Part 2: Task 4.2"
      ]
    },
    {
      "cell_type": "markdown",
      "metadata": {
        "deletable": false,
        "nbgrader": {
          "checksum": "9daeec5dcb3d381740aeac3613a7b8ba",
          "grade": false,
          "grade_id": "cell-a6394cf303cb2289",
          "locked": true,
          "schema_version": 1,
          "solution": false
        },
        "id": "Q-dC3UrBw_t0"
      },
      "source": [
        "### Task 4.3: Dropout!\n",
        "Now lets add two dropout layers (each after the dense layer with relu activation). Some recommended values to investigate are 0.9, 0.5, 0.1. Explain the results."
      ]
    },
    {
      "cell_type": "code",
      "execution_count": null,
      "metadata": {
        "id": "RLp1S7Vbw_t0"
      },
      "outputs": [],
      "source": [
        "# Your answer here"
      ]
    },
    {
      "cell_type": "code",
      "execution_count": null,
      "metadata": {
        "collapsed": true,
        "jupyter": {
          "outputs_hidden": true
        },
        "id": "cbyNUbVjw_t1"
      },
      "outputs": [],
      "source": [
        "# Code for Part 2: Task 4.3"
      ]
    },
    {
      "cell_type": "markdown",
      "metadata": {
        "deletable": false,
        "nbgrader": {
          "checksum": "c7c0f2e845aafc10ec8ad052d48e9119",
          "grade": false,
          "grade_id": "cell-2df072bbe1906a59",
          "locked": true,
          "schema_version": 1,
          "solution": false
        },
        "id": "nlGssC0Fw_t1"
      },
      "source": [
        "### Task 5. A Convolutional Neural Network\n",
        "\n",
        "Finally, we are going to implement a convolutional neural network - a network type showing state-of-the-art results in learning from images. This time, your input will not be flattened but we will provide a 2D image as an input (20x20x1 pixels). Use the same hyperparameters as before, unless specified differenly.\n",
        "\n",
        "#### Model definition\n",
        "\n",
        "input -> conv1 -> pool1 -> conv2 -> dense1 -> dense2 -> softmax\n",
        "* convolution layers: kernel size = 3x3, number of channels = 64, activation function = sigmoid\n",
        "* max-pooling layers: kernel size = 2x2, strides = 2\n",
        "* 1st dense layer: 50 neurons, activation function = sigmoid\n",
        "* 2nd dense layer: 2 neurons, activation function = softmax\n",
        "* optimizer = `sgd`\n",
        "* use dropout (e.g. 0.2)\n",
        "\n",
        "__Hint__: Use `.Flatten()` after before the dense layers to ensure a 1D vector as an input.\n",
        "\n",
        "Like before, measure system's prerfomance and explain."
      ]
    },
    {
      "cell_type": "code",
      "execution_count": null,
      "metadata": {
        "collapsed": true,
        "jupyter": {
          "outputs_hidden": true
        },
        "id": "oSYI-fU9w_t1"
      },
      "outputs": [],
      "source": [
        "# Code for Part 2: Task 5"
      ]
    },
    {
      "cell_type": "markdown",
      "metadata": {
        "deletable": false,
        "nbgrader": {
          "checksum": "c7c0f2e845aafc10ec8ad052d48e9119",
          "grade": false,
          "grade_id": "cell-2df072bbe1906a59",
          "locked": true,
          "schema_version": 1,
          "solution": false
        },
        "id": "lZ2ai6p_w_t2"
      },
      "source": [
        "### Task 6. A Deeper Convolutional Neural Network\n",
        "\n",
        "#### Model definition\n",
        "\n",
        "input -> conv1 -> pool1 -> conv2 -> conv3 -> fc1 -> fc2 -> softmax\n",
        "* convolution layers: kernel size = 5x5, number of channels = 64, activation function = 'relu', padding = 'same'\n",
        "* max-pooling layers: kernel size = 2x2, strides = 2\n",
        "* 1st fully connected: 100 neurons, activation function = relu\n",
        "* 2nd fully connected: 2 neurons, activation function = softmax\n",
        "* optimizer = `sgd` (try also `adam`)\n",
        "* use dropout (e.g. 0.5)\n",
        "\n",
        "Like before, measure system's prerfomance and explain.\n",
        "\n",
        "This was the last model you have trained. The `wandb` should now allow you to generate a common report for all train models (on the same graphs). Generate the report, download it as a `pdf`, and upload it in your assignment together with the notebook file."
      ]
    },
    {
      "cell_type": "code",
      "execution_count": null,
      "metadata": {
        "collapsed": true,
        "jupyter": {
          "outputs_hidden": true
        },
        "id": "Wt6z7LkBw_t2"
      },
      "outputs": [],
      "source": [
        "# Code for Part 2: Task 6"
      ]
    }
  ],
  "metadata": {
    "anaconda-cloud": {},
    "celltoolbar": "Edit Metadata",
    "kernelspec": {
      "display_name": "Python 3",
      "name": "python3"
    },
    "language_info": {
      "codemirror_mode": {
        "name": "ipython",
        "version": 3
      },
      "file_extension": ".py",
      "mimetype": "text/x-python",
      "name": "python",
      "nbconvert_exporter": "python",
      "pygments_lexer": "ipython3",
      "version": "3.8.3"
    },
    "colab": {
      "provenance": [],
      "gpuType": "T4"
    },
    "accelerator": "GPU"
  },
  "nbformat": 4,
  "nbformat_minor": 0
}