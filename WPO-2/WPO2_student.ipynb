{
 "cells": [
  {
   "cell_type": "markdown",
   "metadata": {
    "id": "lfKgg5QPM0HI",
    "nbgrader": {
     "grade": false,
     "grade_id": "cell-7d39188686aa0d09",
     "locked": true,
     "schema_version": 1,
     "solution": false
    }
   },
   "source": [
    "## Health Information Systems and Decision Support Systems\n",
    "## WPO 2: Data-driven systems  (23/02/24)\n",
    "***\n",
    "*Jakub Ceranka,Joris Wuts, Jef Vandemeulebroucke* <br>\n",
    "*Department of Electronics and Informatics (ETRO)* <br>\n",
    "*Vrije Universiteit Brussel, Pleinlaan 2, B-1050 Brussels, Belgium*"
   ]
  },
  {
   "cell_type": "markdown",
   "metadata": {
    "id": "c-wN4stEM0HP"
   },
   "source": [
    "<font color=blue>Insert students names and IDs here</font>"
   ]
  },
  {
   "cell_type": "markdown",
   "metadata": {
    "id": "yRg33BYkM0HP",
    "nbgrader": {
     "grade": false,
     "grade_id": "cell-6c5875e85168bc04",
     "locked": true,
     "schema_version": 1,
     "solution": false
    }
   },
   "source": [
    "### Goal\n",
    "The goal of this practical session is to get an insight into methods and algorithms for building knowledge-based decision-support systems. Your tasks will involve designing the systems, examining the output, tuning the parameters and validating the performance of your system against the ground-truth predictions done manually by an experienced radiologist. Students must send their notebook via Canvas Assignment functionality before the __29th of February, 2024, 23:59__. The grade from this practical session will contribute to your final grade."
   ]
  },
  {
   "cell_type": "markdown",
   "metadata": {
    "id": "I1aAGx0tM0HQ",
    "nbgrader": {
     "grade": false,
     "grade_id": "cell-ec1409430738c87f",
     "locked": true,
     "schema_version": 1,
     "solution": false
    }
   },
   "source": [
    "### Libraries\n",
    "\n",
    "During this practical session, the following libraries will be used.\n",
    "\n",
    "- [__Scikit-fuzzy__](https://pypi.python.org/pypi/scikit-fuzzy): library for fuzzy sets and logic\n",
    "- [__Numpy__](https://docs.scipy.org/doc/numpy-dev/user/quickstart.html):      library used for scientific computing containing N-dimensional arrays, functions and Fourier transform.\n",
    "- [__Graphviz__](https://pypi.python.org/pypi/graphviz):     Visualization of graphs. You may need to the perform installation via conda.  \n",
    "- [__Matplotlib__](https://matplotlib.org/users/pyplot_tutorial.html): plotting library used for the visualization of data from python.\n",
    "- [__Pgmpy__](http://pgmpy.org/): Module for building and performing inference on probabilistic graphical models\n",
    "\n",
    "\n",
    "To import any external library, you need to import it using the **import** statement followed by the name of the library and the shortcut. You can additionally check for the module version using __version__ command.\n",
    "\n",
    "Run the cell below to download all the specific packages for this lab session. Note that we can run shell code within a jupyter notebook by adding an ! mark before the line of code.\n",
    "Aditionally, we are going to plot graphs in this notebook, to make them appear nicely as output of a cell, we use the **%matplotlib inline** command."
   ]
  },
  {
   "cell_type": "code",
   "execution_count": 1,
   "metadata": {
    "id": "NaIdmeGzNEun"
   },
   "outputs": [
    {
     "name": "stdout",
     "output_type": "stream",
     "text": [
      "Requirement already satisfied: scikit-fuzzy in /Users/jceranka/opt/anaconda3/lib/python3.8/site-packages (0.4.2)\n",
      "Requirement already satisfied: networkx>=1.9.0 in /Users/jceranka/opt/anaconda3/lib/python3.8/site-packages (from scikit-fuzzy) (2.4)\n",
      "Requirement already satisfied: scipy>=0.9.0 in /Users/jceranka/opt/anaconda3/lib/python3.8/site-packages (from scikit-fuzzy) (1.5.0)\n",
      "Requirement already satisfied: numpy>=1.6.0 in /Users/jceranka/opt/anaconda3/lib/python3.8/site-packages (from scikit-fuzzy) (1.18.5)\n",
      "Requirement already satisfied: decorator>=4.3.0 in /Users/jceranka/opt/anaconda3/lib/python3.8/site-packages (from networkx>=1.9.0->scikit-fuzzy) (4.4.2)\n",
      "Requirement already satisfied: graphviz in /Users/jceranka/opt/anaconda3/lib/python3.8/site-packages (0.8.2)\n",
      "Requirement already satisfied: pgmpy in /Users/jceranka/opt/anaconda3/lib/python3.8/site-packages (0.1.13)\n"
     ]
    }
   ],
   "source": [
    "!pip install scikit-fuzzy\n",
    "!pip install graphviz\n",
    "!pip install pgmpy\n",
    "%matplotlib inline"
   ]
  },
  {
   "cell_type": "markdown",
   "metadata": {
    "id": "fEP_409HM0HR",
    "nbgrader": {
     "grade": false,
     "grade_id": "cell-0e6961adb9be6d43",
     "locked": true,
     "schema_version": 1,
     "solution": false
    }
   },
   "source": [
    "## Part 1: A fuzzy logic alert system at the pediatric ICU\n",
    "At the intensive care unit of a pediatric hospital, the staff wants to implement a priority-based alert system that allows to rank the urgency of the different monitors of physiological signs of the infants. The physiological sensor outputs are combined with patient-specific information (age, history, etc,) to determine the urgency. The output of each monitor should be a value between 0 (no alert) and 100 (alert with the highest priority), allowing the output of all monitors to be ranked in terms of urgency. The responsible nurse is notified of the most urgent which needs to be addressed first."
   ]
  },
  {
   "cell_type": "markdown",
   "metadata": {
    "id": "h7U0m41QM0HR",
    "nbgrader": {
     "grade": false,
     "grade_id": "cell-d1411f4ab2c769e3",
     "locked": true,
     "schema_version": 1,
     "solution": false
    }
   },
   "source": [
    "### Task 1: Design a monitor system for body temperature\n",
    "The output of a temperature sensor should be combined with the (priorly given) age of the patient. The variables to consider are:\n",
    "\n",
    "* Temperature\n",
    "   - The temperature in degrees Celcius.\n",
    "       * Values of about 35,5 and below are `hypothermia`\n",
    "       * Values of  roughly 37 are  `normal`\n",
    "       * Values between roughly 37,5 and 38 are `elevated`\n",
    "       * Values of around 38,5 indicate `mild fever`\n",
    "       * Values of 39 and higher indicate `high fever`\n",
    "       * Values outside of the range [30,44] are likely to indicate malfunctioning of the sensor\n",
    "       \n",
    "* Age\n",
    "   - The age of the infant in months, from 0 to 36\n",
    "       * We make a distinction between newborns (0-3 months), babies (3-6 months), infants (6-12 months) and toddlers (12-36 months)\n",
    "\n",
    "* Alert-level\n",
    "   -  A value between 0 and 100\n",
    "       * Five levels are distinguished: no alert, low, moderate, high, critical\n",
    "\n",
    "\n",
    "**Note that these variables are all derived from clinical practice, you might need to change them slightly( +- half a degree) to make the membership functions work properly. Ensure that the total membership at any point is always sums up to 1.**\n",
    "\n",
    "The behaviour of the monitoring system should be the following.\n",
    "* For newborns, elevated temperature should give a moderate alert, a mild fever should correspond to a high alert, and a high fever should correspond to critical alert-level.\n",
    "* Babies with a mild fever should give a moderate alarm, while high fever should be high alert.\n",
    "* Infants with a mild fever should be a low priority alert, and high fever should be moderate alert.\n",
    "* Toddlers with a mild and high fever both should give a low alert.\n",
    "* Hypothermia should always give a high alert level, except for newborns where it should be critical.\n",
    "* Malfunctioning sensors should always give a moderate alert.\n",
    "\n",
    "The alert level should evolve continuously for ages and temperatures in the correct functioning range of the sensor, and have a logical progression for values not mentioned above."
   ]
  },
  {
   "cell_type": "markdown",
   "metadata": {
    "id": "WUY04zWqM0HS",
    "nbgrader": {
     "grade": false,
     "grade_id": "cell-f42f3f8bdabfd1c3",
     "locked": true,
     "schema_version": 1,
     "solution": false
    }
   },
   "source": [
    "Use the packages *skfuzzy* and *matplotlib* to design and visualize a fuzzy logic controller. Instead of *%matplotlib inline* you can use *%matplotlib notebook*, which provide interactive plots.\n"
   ]
  },
  {
   "cell_type": "markdown",
   "metadata": {
    "id": "jXwjkbCmM0HS",
    "nbgrader": {
     "grade": false,
     "grade_id": "cell-be3e9070fca0a154",
     "locked": true,
     "schema_version": 1,
     "solution": false
    }
   },
   "source": [
    "### Step 1: Define and visualize the membership funtions\n",
    "Use custom triangular and trapezoid membership functions for the temperature and age, and have at least 1 degree Celcius and 2 months of overlap between functions on each side, respectively. Ensure the total membership is always one. Use automatically generated membership function for the alert-level. Have a look at the examples for the syntax (http://pythonhosted.org/scikit-fuzzy/auto_examples/index.html)."
   ]
  },
  {
   "cell_type": "code",
   "execution_count": null,
   "metadata": {
    "collapsed": true,
    "id": "LEV91UWOM0HT",
    "jupyter": {
     "outputs_hidden": true
    }
   },
   "outputs": [],
   "source": [
    "#YOUR code here"
   ]
  },
  {
   "cell_type": "markdown",
   "metadata": {
    "id": "0ayTI8VoM0HU",
    "nbgrader": {
     "grade": false,
     "grade_id": "cell-7c74fdfa799f7d1f",
     "locked": true,
     "schema_version": 1,
     "solution": false
    }
   },
   "source": [
    "### Step 2: Define the rules\n",
    "Translate the desired behaviour given above, to rules for alert levels. Start by only defining those which are given. More may be needed, after inspecting the output (Step 4)."
   ]
  },
  {
   "cell_type": "code",
   "execution_count": null,
   "metadata": {
    "collapsed": true,
    "id": "FpIXH3rnM0HU",
    "jupyter": {
     "outputs_hidden": true
    }
   },
   "outputs": [],
   "source": [
    "#YOUR code here"
   ]
  },
  {
   "cell_type": "markdown",
   "metadata": {
    "id": "HYZRhHrNM0HU",
    "nbgrader": {
     "grade": false,
     "grade_id": "cell-c426700f701af68a",
     "locked": true,
     "schema_version": 1,
     "solution": false
    }
   },
   "source": [
    "### Step 3: Load and test the system\n",
    "Make a control system by loading the rules. Now verify the output for particular inputs using the control system simulation. Output the alert level, and visualize the alert membership. __Tip:__ use the functions ctrl.ControlSystemSimulation and alert.view().\n"
   ]
  },
  {
   "cell_type": "code",
   "execution_count": null,
   "metadata": {
    "collapsed": true,
    "id": "oP82y2JnM0HV",
    "jupyter": {
     "outputs_hidden": true
    }
   },
   "outputs": [],
   "source": [
    "#YOUR code here"
   ]
  },
  {
   "cell_type": "markdown",
   "metadata": {
    "id": "alKBD7scM0HV",
    "nbgrader": {
     "grade": false,
     "grade_id": "cell-f2e97b2e207396e0",
     "locked": true,
     "schema_version": 1,
     "solution": false
    }
   },
   "source": [
    "### Step 4: Test the system\n",
    "\n",
    "Make plots of the evolution of the alerts, for the following cases\n",
    "\n",
    "    * For an age of 1 month, the alert level as a function of the temperature [28, 50] with increments of 0.5.\n",
    "    * For an age of 8 months, the alert level as a function of the temperature [28, 50] with increments of 0.5.\n",
    "    * For a temperature of 38.5 degrees Celcius, the alert level as a function of the age [1,36] with increments of 1.\n",
    "    * For a temperature of 40 degrees Celcius, the alert level as a function of the age [1,36] with increments of 1.\n",
    "    \n",
    "Add rules for cases not currently covered (and which may give errors due to sparsity in the inference engine).\n",
    "\n",
    "\n",
    "        "
   ]
  },
  {
   "cell_type": "code",
   "execution_count": null,
   "metadata": {
    "collapsed": true,
    "id": "m-GYZ2DaM0HV",
    "jupyter": {
     "outputs_hidden": true
    }
   },
   "outputs": [],
   "source": [
    "#YOUR code here For an age of 1 month, the alert level as a function of the temperature [28, 50] with increments of 0.5."
   ]
  },
  {
   "cell_type": "code",
   "execution_count": null,
   "metadata": {
    "id": "VjrgVUwyVQOm"
   },
   "outputs": [],
   "source": [
    "#YOUR code here For an age of 8 months, the alert level as a function of the temperature [28, 50] with increments of 0.5."
   ]
  },
  {
   "cell_type": "code",
   "execution_count": null,
   "metadata": {
    "id": "ADGw0ZktVS7A"
   },
   "outputs": [],
   "source": [
    "#YOUR code here For a temperature of 38.5 degrees Celcius, the alert level as a function of the age [1,36] with increments of 1."
   ]
  },
  {
   "cell_type": "code",
   "execution_count": null,
   "metadata": {
    "id": "gClSZwDOVVNn"
   },
   "outputs": [],
   "source": [
    "#YOUR code here For a temperature of 40 degrees Celcius, the alert level as a function of the age [1,36] with increments of 1."
   ]
  },
  {
   "cell_type": "markdown",
   "metadata": {
    "id": "3Jj86jYvM0HW",
    "nbgrader": {
     "grade": false,
     "grade_id": "cell-28fc329affb3aa0a",
     "locked": true,
     "schema_version": 1,
     "solution": false
    }
   },
   "source": [
    "### Step 5:  Visualize the output and tune the system\n",
    "\n",
    "Make a 3D surface plot (function ***plot_surface()***) with the output of the alert system for ages [1,36] and temperatures [28, 46]. Tune the system such that the alert level is always within the no-alert range for temperatures in the range [36.5, 37.5]. You can adjust the system by modifying the membership functions, changing the rules or inference system; till you obtain the desired behaviour. Modifications towards Step 1 are allowed here."
   ]
  },
  {
   "cell_type": "code",
   "execution_count": null,
   "metadata": {
    "collapsed": true,
    "id": "We8RRnTGM0HW",
    "jupyter": {
     "outputs_hidden": true
    }
   },
   "outputs": [],
   "source": [
    "#YOUR code here"
   ]
  },
  {
   "cell_type": "markdown",
   "metadata": {
    "id": "HKvmVAWIM0HW",
    "nbgrader": {
     "grade": false,
     "grade_id": "cell-2013c0b47b471367",
     "locked": true,
     "schema_version": 1,
     "solution": false
    }
   },
   "source": [
    "## Part 2: A Bayesian belief network for lung cancer\n",
    "In this exercise we will translate clinical knowledge into a bayesian belief network (the percentages given below are fictive). The goal is to compute the probabilities of presence of cancer, given certain information about the patient. Additionally, we wish to determine the impact on diagnostic tests, when prior information about the patient is given.\n",
    "\n",
    "The changes for lung cancer for someone living a healthy life in a healthy surrounding are slim (3%). They are mainly influenced by smoking, being exposed to pollution, or both. This results in eleveated chances of having lung cancer of 7%, 6% and 9% respectivly. Patients over 50 (about 30% of the population) have the biggest chance of being exposed to pollution (60%), which is significantly more than patients with ages below 50 (10%). Patients over 50 are also more likely to smoke. In fact, one in four males over 50 still smokes, while only 13% of females over 50 smokes. With respect to the population with ages below 50 the difference is remarkable: 20% and 7% for males and females, respectively.  \n",
    "\n",
    "Two tests are primarily done to determine lung cancer: an X-ray scan of the chest, and a Serum Calcium test. Lung cancer has about 85% chance of getting detected using an X-ray. In rare cases (5%), X-ray leads to a positive reading for cases where there is no tumour present. This can be verified using CT imaging. The serum calcium test is cheap, but not very reliable for lung cancer: only 70% sensitivity and a false positive result in about 35% of the negative cases.\n"
   ]
  },
  {
   "cell_type": "markdown",
   "metadata": {
    "id": "CeKezPIgM0HX",
    "nbgrader": {
     "grade": false,
     "grade_id": "cell-a0adbf81c090464e",
     "locked": true,
     "schema_version": 1,
     "solution": false
    }
   },
   "source": [
    "### Step 1: Design the probalistic graphical model\n",
    "Use the package graphviz to draw the bayesian belief network and visualize the network. For now, focuss on dependencies between the different criteria by establishing edges between the different nodes. You should end up with a graph of seven nodes.\n"
   ]
  },
  {
   "cell_type": "code",
   "execution_count": null,
   "metadata": {
    "collapsed": true,
    "id": "YopxX4ewM0HX",
    "jupyter": {
     "outputs_hidden": true
    }
   },
   "outputs": [],
   "source": [
    "#YOUR code here"
   ]
  },
  {
   "cell_type": "markdown",
   "metadata": {
    "id": "xG-uhOOQM0HX",
    "nbgrader": {
     "grade": false,
     "grade_id": "cell-dd8755a709bbc275",
     "locked": true,
     "schema_version": 1,
     "solution": false
    }
   },
   "source": [
    "### Step 2: Build the probabilistic graphical model\n",
    "Now use the package pgmpy to build the computational probabilistic graphical model, named cancer_model, by specifying the edges. You can verify the model you defined using the cancer_model.edges() and cancer_model.nodes() commands."
   ]
  },
  {
   "cell_type": "code",
   "execution_count": null,
   "metadata": {
    "collapsed": true,
    "id": "8Pi7vJ2PM0HY",
    "jupyter": {
     "outputs_hidden": true
    }
   },
   "outputs": [],
   "source": [
    "#YOUR code here"
   ]
  },
  {
   "cell_type": "markdown",
   "metadata": {
    "id": "e1pLdySJM0HY",
    "nbgrader": {
     "grade": false,
     "grade_id": "cell-37df8372decf9827",
     "locked": true,
     "schema_version": 1,
     "solution": false
    }
   },
   "source": [
    "### Step 3: Define the conditional probability distributions (CPDs)\n",
    "Using the knowledge given above, fill in the conditional probabilities for each node using the TabularCPD command. Finding out the order of the probabilities can be a bit tricky. Have a look at http://pgmpy.org/factors.html for an example. The probability of male vs female is 50%."
   ]
  },
  {
   "cell_type": "code",
   "execution_count": null,
   "metadata": {
    "collapsed": true,
    "id": "gcW4CAbBM0HY",
    "jupyter": {
     "outputs_hidden": true
    }
   },
   "outputs": [],
   "source": [
    "#YOUR code here"
   ]
  },
  {
   "cell_type": "markdown",
   "metadata": {
    "id": "BDp6PdBjM0HY",
    "nbgrader": {
     "grade": false,
     "grade_id": "cell-bbe50fac4caa7971",
     "locked": true,
     "schema_version": 1,
     "solution": false
    }
   },
   "source": [
    "### Step 4: Associate the CPDs to the model structure, and test the model\n",
    "Next, associate the CPDs to the model structure and check for consistency. using model.check_model().\n",
    "\n",
    "Perform inference on you model using VariableElimination and verify the outcome is intuitively correct for all nodes (e.g. chance of cancer should increase given evidence of smoking, etc.). Adjust the definition of the CPDs if needed."
   ]
  },
  {
   "cell_type": "code",
   "execution_count": null,
   "metadata": {
    "collapsed": true,
    "id": "5kJ4NqgfM0HZ",
    "jupyter": {
     "outputs_hidden": true
    }
   },
   "outputs": [],
   "source": [
    "#YOUR code here"
   ]
  },
  {
   "cell_type": "markdown",
   "metadata": {
    "id": "LNzma_SXM0HZ",
    "nbgrader": {
     "grade": false,
     "grade_id": "cell-8eab17e49b28ffd7",
     "locked": true,
     "schema_version": 1,
     "solution": false
    }
   },
   "source": [
    "### Step 5: Use your model to compute probabilities and answer questions\n",
    "\n",
    "**5.1. Whithout any information about the patient, what are the chances of having:**\n",
    "* lung cancer,\n",
    "* positive X-ray\n",
    "* positive serum Calcium test.\n",
    "\n",
    "Why are they not the same?"
   ]
  },
  {
   "cell_type": "code",
   "execution_count": null,
   "metadata": {
    "collapsed": true,
    "id": "dubaWNX0M0Ha",
    "jupyter": {
     "outputs_hidden": true
    }
   },
   "outputs": [],
   "source": [
    "#YOUR code here"
   ]
  },
  {
   "cell_type": "code",
   "execution_count": null,
   "metadata": {
    "id": "R2m6rmUBOc9T"
   },
   "outputs": [],
   "source": [
    "## YOUR answer here"
   ]
  },
  {
   "cell_type": "markdown",
   "metadata": {
    "id": "rkK1TTzsM0Ha",
    "nbgrader": {
     "grade": false,
     "grade_id": "cell-720eec837b25c346",
     "locked": true,
     "schema_version": 1,
     "solution": false
    }
   },
   "source": [
    "**5.2. What are the probabilities for lung cancer, the X-ray and test results  in case we have evidence about the age (>50) and smoking behaviour (smoker) of the patient? Explain the difference with the first case.**"
   ]
  },
  {
   "cell_type": "code",
   "execution_count": null,
   "metadata": {
    "collapsed": true,
    "id": "f2_E0UXKM0Ha",
    "jupyter": {
     "outputs_hidden": true
    }
   },
   "outputs": [],
   "source": [
    "#YOUR code here"
   ]
  },
  {
   "cell_type": "code",
   "execution_count": null,
   "metadata": {
    "id": "XvNB5UQVObY6"
   },
   "outputs": [],
   "source": [
    "## YOUR answer here"
   ]
  },
  {
   "cell_type": "markdown",
   "metadata": {
    "id": "6_Tbb3MeM0Hb",
    "nbgrader": {
     "grade": false,
     "grade_id": "cell-49414e5c3095804a",
     "locked": true,
     "schema_version": 1,
     "solution": false
    }
   },
   "source": [
    "**5.3What are the probabilities for the X-ray and test results in case we have evidence of cancer (but not about the about the age and smoking behaviour of the patient)? Explain the difference with the previous cases.**  "
   ]
  },
  {
   "cell_type": "code",
   "execution_count": null,
   "metadata": {
    "collapsed": true,
    "id": "cDuzCc-JM0Hb",
    "jupyter": {
     "outputs_hidden": true
    }
   },
   "outputs": [],
   "source": [
    "#YOUR code here"
   ]
  },
  {
   "cell_type": "code",
   "execution_count": null,
   "metadata": {
    "id": "RcNKscUNOZS8"
   },
   "outputs": [],
   "source": [
    "## YOUR answer here"
   ]
  },
  {
   "cell_type": "markdown",
   "metadata": {
    "id": "b3YyuUKSM0Hc",
    "nbgrader": {
     "grade": false,
     "grade_id": "cell-2b18c025efb062ae",
     "locked": true,
     "schema_version": 1,
     "solution": false
    }
   },
   "source": [
    "  **5.4 What are the probabilities in case we have evidence of cancer, and about the age (>50) and smoking behaviour (smoker) of the patient? Explain Your obersvation.**"
   ]
  },
  {
   "cell_type": "code",
   "execution_count": null,
   "metadata": {
    "collapsed": true,
    "id": "aoPnbr8pM0Hc",
    "jupyter": {
     "outputs_hidden": true
    }
   },
   "outputs": [],
   "source": [
    "#YOUR code here"
   ]
  },
  {
   "cell_type": "code",
   "execution_count": null,
   "metadata": {
    "id": "i-gkLLFEOVdS"
   },
   "outputs": [],
   "source": [
    "## YOUR answer here"
   ]
  }
 ],
 "metadata": {
  "celltoolbar": "Create Assignment",
  "colab": {
   "provenance": []
  },
  "kernelspec": {
   "display_name": "Python 3",
   "language": "python",
   "name": "python3"
  },
  "language_info": {
   "codemirror_mode": {
    "name": "ipython",
    "version": 3
   },
   "file_extension": ".py",
   "mimetype": "text/x-python",
   "name": "python",
   "nbconvert_exporter": "python",
   "pygments_lexer": "ipython3",
   "version": "3.8.3"
  }
 },
 "nbformat": 4,
 "nbformat_minor": 4
}
