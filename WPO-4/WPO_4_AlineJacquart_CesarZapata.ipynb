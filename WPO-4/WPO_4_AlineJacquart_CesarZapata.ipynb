{
  "cells": [
    {
      "cell_type": "markdown",
      "metadata": {
        "id": "e0oKncKmOkcr"
      },
      "source": [
        "# Health Information Systems and Decision Support Systems\n",
        "## WPO 4: Data-driven systems 2  (08/03/24)\n",
        "***\n",
        "*Jakub Ceranka, Pieter Boonen, Jef Vandemeulebroucke* <br>\n",
        "*Department of Electronics and Informatics (ETRO)* <br>\n",
        "*Vrije Universiteit Brussel, Pleinlaan 2, B-1050 Brussels, Belgium*"
      ]
    },
    {
      "cell_type": "markdown",
      "metadata": {
        "id": "x67FL5jvOkcv"
      },
      "source": [
        "<font color=blue>Aline Jacquart - 0567936 <br>\n",
        "                 César Zapata - 0596811</font>"
      ]
    },
    {
      "cell_type": "markdown",
      "metadata": {
        "id": "z1wtGs8EOkcw"
      },
      "source": [
        "***\n",
        "### Goal\n",
        "The goal of this practical session is to get an insight into architecture and basic functionalities of an automatic bone cancer detection system using real life medical image dataset of metastatic bone disease patients. Your tasks will involve examining and preprocessing the data, training various classifiers and validating the performance of your system against the ground-truth predictions done manually by an experienced radiologist. Students must send their notebook using the Assignment functionality of Canvas before the __14th of March, 2024, 23:59. Remember to include the HTML format!.__ The grade from this practical session will contribute to your final grade.\n",
        "Questions: discussion panel on Canvas or [jakub.ceranka@vub.be](mailto:jakub.ceranka@vub.be), [joris.sebastiaan.wuts@vub.be](mailto:joris.sebastiaan.wuts@vub.be)\n",
        "***\n",
        "### Metastatic bone disease MRI dataset\n",
        "***\n",
        "#### Bone metastases\n",
        "Cancer that begins in an organ, such as lungs, breast or prostate, and then spreads via blood stream or lymph vessels to the bone is called a __metastatic bone disease__ (MBD). Bone metastases mostly affect axial skeleton, pelvis and upper parts of the femur bones. Patients with advanced breast or prostate cancer have more than 50% chance to develop bone metastases. MBD results in severe bone pain, fractures, spinal cord compression and eventually death.\n",
        "***\n",
        "#### Assessment of treatment response\n",
        "In order to assess the treatment response of a MBD patient over time, the volume and several functional properties of all present bone metastases have to be compared before and after the treatment. This is done using various whole-body medical imaging modalities such as computed tomography, bone scintigraphy or magnetic resonance imaging. A decrease in tumour volume over time usually indicates good response to the treatment. However, the assessment of the response to treatment of bone lesions has been considered difficult and time consuming, compared to lesions involving soft tissues or other organs. Commercial software that enable radiologists to interactively or semi-automatically define individual volumes of interest (VOIs) is beginning to emerge. However, in patients with metastatic bone disease, the number of metastases can be large, making it impractical and extremely time consuming to use such software to evaluate all lesions. This motivates us to work on fully automated segmentation algorithms for the extraction of bone metastases, which could greatly facilitate the disease management for such patients. Additionally, it could also provide valuable tools for studies on large patient populations.\n",
        "***\n",
        "#### Whole-body MRI\n",
        "Whole-body magnetic resonance imaging (MRI) offers excellent sensitivity for the detection of neoplastic cells within the bone marrow using so-called anatomic sequences. Basic sequences, i.e. T1-weighted sequences, provide a high contrast between the low signal intensity of the lesions and the high signal intensity of the surrounding marrow. This contrast enables lesion measurement and has been shown feasible in prostate and breast cancer metastases.\n",
        "Additionally, due to the development of parallel imaging and ultra-fast MRI sequences (i.e. echo-planar imaging), functional sequences can be additionally acquired. The whole-body diffusion-weighted imaging (WB-DWI) showed a great potential in tumour detection [<cite>[1]</cite>](https://www.ncbi.nlm.nih.gov/pubmed/24510426)[<cite>[2]</cite>](http://journals.plos.org/plosone/article?id=10.1371/journal.pone.0091779).  Moreover, the technique provides quantitative functional parameters showing early changes after therapy: apparent diffusion coefficient (ADC)[<cite>[3]</cite>](https://radiopaedia.org/articles/apparent-diffusion-coefficient-1) and allows for computations of artificial images: high b-value computed DWI [<cite>[4]</cite>](https://www.ncbi.nlm.nih.gov/pubmed/21852566)\n",
        "***\n",
        "#### Anatomical and functional images\n",
        "![modalities](modalities.png)\n",
        "The above image represents all whole-body MRI image modalities used to characterize bone metastases (marked with red arrows). From the left:\n",
        "- T1 anatomical image (bone metastases are darker than the healthy bone)\n",
        "- B-0 diffusion weighted image (lesions are usually brighter than normal bone)\n",
        "- B-1000 diffusion weighted image (lesions are usually much brighter than normal bone)\n",
        "- ADC map (lesions usually lie within a range of 600 to 1200 voxel intensity value)\n",
        "- B-1500 and B-2000 computed diffusion weighted image (lesions are usually much brighter than normal bone, less false positive high intensity signal (e.g. kidneys, bladder)\n",
        "\n",
        "The following image shows a manual delineation of lesions done by radiologist using T1 anatomy image (superior resolution). Segmentation was mapped on complementary image modalities (B-0, B-1000 and ADC respectively).\n",
        "\n",
        "![lesions_zoom](lesions_zoom.png)\n",
        "***\n",
        "#### Features:\n",
        "The goal of the classification task (binary classification) is to determine if a certain voxel of patient's skeleton corresponds to bone lesion or healthy bone tissue, which will allow to automatically construct a segmentation image highlighting bone metastases. In order to do so, you are provided with a dataset consisting of a list of all voxels of the skeleton tissue from 9 metastatic bone disease patients.\n",
        "\n",
        "Each skeleton voxel has an independent set of features describing its individual properties:\n",
        "- The medical diagnosis label assessed by a radiologist via manual segmentation: *healthy* or *lesion*.\n",
        "- The (x, y ,z) 3D position coordinates.\n",
        "- A set of 5 unique features representing its intensity values across each of 6 different modalities used (T1, B-0, B-1000, ADC, B-1500, B-2000):\n",
        "        a) Intensity of a voxel\n",
        "        b) Mean intensity of a kernel of size 5 around the voxel of interest\n",
        "        c) Median intensity of a kernel of size 5 around the voxel of interest\n",
        "        d) Maximum intensity of a kernel of size 5 around the voxel of interest\n",
        "        e) Minimum  intensity of a kernel of size 5 around the voxel of interest\n",
        "        \n",
        "All features were computed automatically, using automatic image processing algorithms. In total the dataset consists of 291776 voxels labeled *healthy* or *lesion*. The dataset is balanced and has a 50-50 distribution: 145888 *healthy* voxels, 145888 *lesion* voxels.\n",
        "\n",
        "You can read more about the way the features were extracted in [<cite>[5]</cite>](https://www.spiedigitallibrary.org/conference-proceedings-of-spie/9414/1/Spinal-focal-lesion-detection-in-multiple-myeloma-using-multimodal-image/10.1117/12.2081990.short?SSO=1), where authors have used a similar feature extraction method.\n"
      ]
    },
    {
      "cell_type": "markdown",
      "metadata": {
        "id": "HH5WYdX0Okcy"
      },
      "source": [
        "***\n",
        "### Task 1: Prepare the data for Machine Learning Algorithms  \n",
        "\n",
        "Before doing any manipulations to the data, lets inspect it first. Open metastases features of the first patient and have a look at the data using the head() and info() commands. In order to create an effective training dataset, several preprocessing steps have to be performed. The following steps have to be performed for each patient's data individually.\n",
        "__Hint__: it is useful to use a for loop, performing all of the following steps for each patient (1-9).\n",
        "<br><br>\n",
        "1. __Removing useless columns.__ Have a look at the *head()* of the dataframe. Some columns are not needed at your classifier training stage since they do not hold any relevant information. Remove the column with the ordinal number and all three positional columns (X,Y,Z). Your dataset should be 4 columns narrower in shape now.\n",
        "<br><br>\n",
        "2. __Handling missing data.__ Most machine learning algorithms cannot work with missing features, so let's take care of that. Use panda's function *info()* to check if any feature has missing 'not-a-number' values. You can solve that problem easily by either dropping those lines with a *dropna()* function or setting them to zero, mean or median of the feature column (function *fillna()*). Because the more the data, usually, the better the performance of the classifier, lets substitute the missing values with the median of the column in which the values are missing.\n",
        "<br><br>\n",
        "3. __Separation of data.__ Separate the training set from the labels (classes). Save the training set as X and label column as Y.\n",
        "<br><br>\n",
        "4. __Concatenation of features.__ Inside the for loop, concatenate all dataframes. __Hint__: In order to append all patient's data, create two empty dataframes (intensity train dataset and label column) and copy column names from the first patient's dataframe. Append empty dataframes with new data with every iteration of the loop. The function should return a formated intensity dataframe and Y dataframe containing the label column.\n",
        "<br><br>\n"
      ]
    },
    {
      "cell_type": "code",
      "execution_count": null,
      "metadata": {
        "colab": {
          "base_uri": "https://localhost:8080/"
        },
        "id": "FGQxilJjsUAR",
        "outputId": "b5ec03b7-093d-46fb-d02f-84165df0e15b"
      },
      "outputs": [
        {
          "name": "stdout",
          "output_type": "stream",
          "text": [
            "Archive:  Data.zip\n",
            "   creating: Data/\n",
            "  inflating: __MACOSX/._Data         \n",
            "  inflating: Data/.DS_Store          \n",
            "  inflating: __MACOSX/Data/._.DS_Store  \n",
            "   creating: Data/Patient_8/\n",
            "  inflating: __MACOSX/Data/._Patient_8  \n",
            "   creating: Data/Patient_1/\n",
            "  inflating: __MACOSX/Data/._Patient_1  \n",
            "   creating: Data/Patient_6/\n",
            "  inflating: __MACOSX/Data/._Patient_6  \n",
            "   creating: Data/Patient_7/\n",
            "  inflating: __MACOSX/Data/._Patient_7  \n",
            "   creating: Data/Patient_9/\n",
            "  inflating: __MACOSX/Data/._Patient_9  \n",
            "   creating: Data/Patient_Test/\n",
            "  inflating: __MACOSX/Data/._Patient_Test  \n",
            "   creating: Data/Patient_5/\n",
            "  inflating: __MACOSX/Data/._Patient_5  \n",
            "   creating: Data/Patient_2/\n",
            "  inflating: __MACOSX/Data/._Patient_2  \n",
            "   creating: Data/Patient_3/\n",
            "  inflating: __MACOSX/Data/._Patient_3  \n",
            "   creating: Data/Patient_4/\n",
            "  inflating: __MACOSX/Data/._Patient_4  \n",
            "  inflating: Data/Patient_8/Features_Balanced.csv  \n",
            "  inflating: __MACOSX/Data/Patient_8/._Features_Balanced.csv  \n",
            "  inflating: Data/Patient_1/Features_Balanced.csv  \n",
            "  inflating: __MACOSX/Data/Patient_1/._Features_Balanced.csv  \n",
            "  inflating: Data/Patient_6/Features_Balanced.csv  \n",
            "  inflating: __MACOSX/Data/Patient_6/._Features_Balanced.csv  \n",
            "  inflating: Data/Patient_7/Features_Balanced.csv  \n",
            "  inflating: __MACOSX/Data/Patient_7/._Features_Balanced.csv  \n",
            "  inflating: Data/Patient_9/Features_Balanced.csv  \n",
            "  inflating: __MACOSX/Data/Patient_9/._Features_Balanced.csv  \n",
            "   creating: Data/Patient_Test/slice_132/\n",
            "  inflating: __MACOSX/Data/Patient_Test/._slice_132  \n",
            "  inflating: Data/Patient_Test/.DS_Store  \n",
            "  inflating: __MACOSX/Data/Patient_Test/._.DS_Store  \n",
            "   creating: Data/Patient_Test/slice_154/\n",
            "  inflating: __MACOSX/Data/Patient_Test/._slice_154  \n",
            "   creating: Data/Patient_Test/slice_124/\n",
            "  inflating: __MACOSX/Data/Patient_Test/._slice_124  \n",
            "  inflating: Data/Patient_5/Features_Balanced.csv  \n",
            "  inflating: __MACOSX/Data/Patient_5/._Features_Balanced.csv  \n",
            "  inflating: Data/Patient_2/Features_Balanced.csv  \n",
            "  inflating: __MACOSX/Data/Patient_2/._Features_Balanced.csv  \n",
            "  inflating: Data/Patient_3/Features_Balanced.csv  \n",
            "  inflating: __MACOSX/Data/Patient_3/._Features_Balanced.csv  \n",
            "  inflating: Data/Patient_4/Features_Balanced.csv  \n",
            "  inflating: __MACOSX/Data/Patient_4/._Features_Balanced.csv  \n",
            "  inflating: Data/Patient_Test/slice_132/slice_GT.raw  \n",
            "  inflating: __MACOSX/Data/Patient_Test/slice_132/._slice_GT.raw  \n",
            "  inflating: Data/Patient_Test/slice_132/slice_T1.mhd  \n",
            "  inflating: __MACOSX/Data/Patient_Test/slice_132/._slice_T1.mhd  \n",
            "  inflating: Data/Patient_Test/slice_132/slice_T1.raw  \n",
            "  inflating: __MACOSX/Data/Patient_Test/slice_132/._slice_T1.raw  \n",
            "  inflating: Data/Patient_Test/slice_132/slice_GT.mhd  \n",
            "  inflating: __MACOSX/Data/Patient_Test/slice_132/._slice_GT.mhd  \n",
            "  inflating: Data/Patient_Test/slice_132/Features_Slice_132.csv  \n",
            "  inflating: __MACOSX/Data/Patient_Test/slice_132/._Features_Slice_132.csv  \n",
            "  inflating: Data/Patient_Test/slice_154/slice_GT.raw  \n",
            "  inflating: __MACOSX/Data/Patient_Test/slice_154/._slice_GT.raw  \n",
            "  inflating: Data/Patient_Test/slice_154/slice_T1.mhd  \n",
            "  inflating: __MACOSX/Data/Patient_Test/slice_154/._slice_T1.mhd  \n",
            "  inflating: Data/Patient_Test/slice_154/slice_T1.raw  \n",
            "  inflating: __MACOSX/Data/Patient_Test/slice_154/._slice_T1.raw  \n",
            "  inflating: Data/Patient_Test/slice_154/slice_GT.mhd  \n",
            "  inflating: __MACOSX/Data/Patient_Test/slice_154/._slice_GT.mhd  \n",
            "  inflating: Data/Patient_Test/slice_154/Features_Slice_154.csv  \n",
            "  inflating: __MACOSX/Data/Patient_Test/slice_154/._Features_Slice_154.csv  \n",
            "  inflating: Data/Patient_Test/slice_124/slice_GT.raw  \n",
            "  inflating: __MACOSX/Data/Patient_Test/slice_124/._slice_GT.raw  \n",
            "  inflating: Data/Patient_Test/slice_124/slice_T1.mhd  \n",
            "  inflating: __MACOSX/Data/Patient_Test/slice_124/._slice_T1.mhd  \n",
            "  inflating: Data/Patient_Test/slice_124/slice_T1.raw  \n",
            "  inflating: __MACOSX/Data/Patient_Test/slice_124/._slice_T1.raw  \n",
            "  inflating: Data/Patient_Test/slice_124/slice_GT.mhd  \n",
            "  inflating: __MACOSX/Data/Patient_Test/slice_124/._slice_GT.mhd  \n",
            "  inflating: Data/Patient_Test/slice_124/Features_Slice_124.csv  \n",
            "  inflating: __MACOSX/Data/Patient_Test/slice_124/._Features_Slice_124.csv  \n"
          ]
        }
      ],
      "source": [
        "!unzip 'Data.zip'"
      ]
    },
    {
      "cell_type": "code",
      "execution_count": null,
      "metadata": {
        "collapsed": true,
        "id": "4NIfRo3yOkcz",
        "scrolled": true
      },
      "outputs": [],
      "source": [
        "import numpy as np\n",
        "import pandas as pd\n",
        "from matplotlib import pyplot as plt"
      ]
    },
    {
      "cell_type": "code",
      "execution_count": null,
      "metadata": {
        "colab": {
          "base_uri": "https://localhost:8080/"
        },
        "id": "KW9DykKjPRg-",
        "outputId": "0c456702-0099-4c6b-9086-4ec2b18ad28e"
      },
      "outputs": [
        {
          "name": "stdout",
          "output_type": "stream",
          "text": [
            "<class 'pandas.core.frame.DataFrame'>\n",
            "Int64Index: 291776 entries, 0 to 39749\n",
            "Data columns (total 30 columns):\n",
            " #   Column        Non-Null Count   Dtype  \n",
            "---  ------        --------------   -----  \n",
            " 0   T1            291776 non-null  float64\n",
            " 1   Mean_T1       291770 non-null  float64\n",
            " 2   Median_T1     291776 non-null  float64\n",
            " 3   Max_T1        291776 non-null  float64\n",
            " 4   Min_T1        291776 non-null  float64\n",
            " 5   B0            291776 non-null  float64\n",
            " 6   Mean_B0       291776 non-null  float64\n",
            " 7   Median_B0     291776 non-null  float64\n",
            " 8   Max_B0        291776 non-null  float64\n",
            " 9   Min_B0        291776 non-null  float64\n",
            " 10  B1000         291776 non-null  float64\n",
            " 11  Mean_B1000    291776 non-null  float64\n",
            " 12  Median_B1000  291776 non-null  float64\n",
            " 13  Max_B1000     291776 non-null  float64\n",
            " 14  Min_B1000     291776 non-null  float64\n",
            " 15  B1500         291776 non-null  float64\n",
            " 16  Mean_B1500    291776 non-null  float64\n",
            " 17  Median_B1500  291776 non-null  float64\n",
            " 18  Max_B1500     291776 non-null  float64\n",
            " 19  Min_B1500     291776 non-null  float64\n",
            " 20  B2000         291776 non-null  float64\n",
            " 21  Mean_B2000    291776 non-null  float64\n",
            " 22  Median_B2000  291776 non-null  float64\n",
            " 23  Max_B2000     291776 non-null  float64\n",
            " 24  Min_B2000     291776 non-null  float64\n",
            " 25  ADC           291776 non-null  float64\n",
            " 26  Mean_ADC      291775 non-null  float64\n",
            " 27  Median_ADC    291776 non-null  float64\n",
            " 28  Max_ADC       291776 non-null  float64\n",
            " 29  Min_ADC       291776 non-null  float64\n",
            "dtypes: float64(30)\n",
            "memory usage: 69.0 MB\n",
            "None\n",
            "\n",
            "\n",
            "       T1  Mean_T1  Median_T1  Max_T1  Min_T1      B0   Mean_B0  Median_B0  \\\n",
            "0   653.0  864.664      863.0  1150.0   517.0    63.0    81.872       61.0   \n",
            "1   622.0  759.960      778.0  1024.0   442.0    59.0    97.400       95.0   \n",
            "2  1047.0  781.800      778.0  1047.0   493.0    67.0   102.248       88.0   \n",
            "3   728.0  612.944      607.0   819.0   395.0  1853.0  1140.992     1326.0   \n",
            "4   953.0  780.696      800.0  1023.0   483.0    99.0   193.384       91.0   \n",
            "\n",
            "   Max_B0  Min_B0  ...  B2000  Mean_B2000  Median_B2000  Max_B2000  Min_B2000  \\\n",
            "0   454.0     7.0  ...   14.0      11.920          12.0       21.0        4.0   \n",
            "1   227.0    34.0  ...   20.0      13.728          13.0       22.0        5.0   \n",
            "2   462.0     0.0  ...   12.0      11.640          11.0       19.0        5.0   \n",
            "3  2056.0    61.0  ...    1.0      11.544           7.0       39.0        0.0   \n",
            "4  1271.0     0.0  ...   15.0      16.120          18.0       24.0        1.0   \n",
            "\n",
            "      ADC  Mean_ADC  Median_ADC  Max_ADC  Min_ADC  \n",
            "0   787.0   905.912       873.0   1773.0    197.0  \n",
            "1   758.0   907.400       758.0   1755.0    427.0  \n",
            "2   862.0   890.144       868.0   1807.0     45.0  \n",
            "3  1957.0  2130.600      1946.0   4004.0    558.0  \n",
            "4   326.0   889.504       822.0   2377.0    167.0  \n",
            "\n",
            "[5 rows x 30 columns]\n"
          ]
        }
      ],
      "source": [
        "# pre-processing function to be used for every patient\n",
        "def pre_process(patient_n):\n",
        "    df_patient = pd.read_csv(f\"Data/{patient_n}/Features_Balanced.csv\")\n",
        "    df_patient.drop(df_patient.loc[:, df_patient.columns.str.contains('^Unnamed')], axis=1, inplace=True) # drop column if it's unnamed\n",
        "    df_patient.drop(df_patient.loc[:, df_patient.columns.str.contains('Position')], axis=1, inplace=True)\n",
        "    df_patient['class'] = (df_patient['class'] == 'lesion') * 1 # binarizing the class: Healthy=0 | Lesion=1\n",
        "    df_patient = df_patient.fillna(df_patient.median()) # if there are NaN values, fill them with the median\n",
        "\n",
        "    x = df_patient.loc[:, ~df_patient.columns.str.contains('class')] # x: every feature except for class\n",
        "    y = df_patient['class']\n",
        "\n",
        "    return x, y\n",
        "\n",
        "# concatenating all the patients' data\n",
        "x_old, y_old = pre_process('Patient_1') # i-1 patient\n",
        "for i in range(2, 10):\n",
        "    x_new, y_new = pre_process(f\"Patient_{i}\") # x and y for the i-th  patient\n",
        "    X = pd.concat([x_old, x_new], axis=0) # concatenate i-1 and i-th\n",
        "    Y = pd.concat([y_old, y_new], axis=0)\n",
        "\n",
        "    x_old, y_old = X, Y\n",
        "\n",
        "\n",
        "print(f\"{X.info()}\\n\\n\")\n",
        "print(f\"{X.head()}\")\n"
      ]
    },
    {
      "cell_type": "code",
      "execution_count": null,
      "metadata": {
        "colab": {
          "base_uri": "https://localhost:8080/"
        },
        "id": "IXtjuaIEkOvA",
        "outputId": "2657db7e-1552-44e0-9785-794298e7bb65"
      },
      "outputs": [
        {
          "name": "stdout",
          "output_type": "stream",
          "text": [
            "0    0\n",
            "1    0\n",
            "2    0\n",
            "3    0\n",
            "4    0\n",
            "Name: class, dtype: int64\n"
          ]
        }
      ],
      "source": [
        "print(f\"{Y.head()}\")"
      ]
    },
    {
      "cell_type": "code",
      "execution_count": null,
      "metadata": {
        "id": "uyhA9K-alNJv"
      },
      "outputs": [],
      "source": [
        "X = X.fillna(X.median())"
      ]
    },
    {
      "cell_type": "markdown",
      "metadata": {
        "id": "4WVevx6qOkc0"
      },
      "source": [
        "***\n",
        "### Task 2: Data visualization\n",
        "\n",
        "Make a scatter plot and a seaborn's kde plot showing relation of the classes (healthy/lesion) for the T1 intensity vs B-1000 intensity.\n",
        "\n",
        "Which plot is better for the visualization of that many datapoints (scatter or kde)?\n",
        "\n",
        "KDE plots are compute intense. If it takes too long use only part of the data (e.g. ```pandas.sample frac 10%```)"
      ]
    },
    {
      "cell_type": "markdown",
      "metadata": {
        "id": "MgIW51diOkc1"
      },
      "source": [
        "YOUR ANSWER HERE"
      ]
    },
    {
      "cell_type": "code",
      "execution_count": null,
      "metadata": {
        "colab": {
          "base_uri": "https://localhost:8080/",
          "height": 522
        },
        "collapsed": true,
        "id": "k91YHbBYOkc1",
        "outputId": "6da46af4-2861-4561-a492-cd7be44b9322"
      },
      "outputs": [
        {
          "name": "stderr",
          "output_type": "stream",
          "text": [
            "WARNING:matplotlib.legend:No artists with labels found to put in legend.  Note that artists whose label start with an underscore are ignored when legend() is called with no argument.\n"
          ]
        },
        {
          "data": {
            "image/png": "[encoded data removed]",
            "text/plain": [
              "<Figure size 640x480 with 1 Axes>"
            ]
          },
          "metadata": {},
          "output_type": "display_data"
        },
        {
          "data": {
            "application/vnd.google.colaboratory.intrinsic+json": {
              "type": "string"
            },
            "text/plain": [
              "'\\n\\nplt.scatter(df_malignant[\\'radius_mean_N\\'], df_malignant[\\'texture_mean_N\\'], label=\"Malignant\", alpha=0.7)\\nplt.title(\"Mean texture vs Mean Radius\")\\n\\n'"
            ]
          },
          "execution_count": 14,
          "metadata": {},
          "output_type": "execute_result"
        }
      ],
      "source": [
        "### Code for Task 2\n",
        "import seaborn as sns\n",
        "sns.kdeplot(data=X, x='B1000', y = 'T1', hue=Y)\n",
        "plt.title(\"B-1000 vs T1 intensities\")\n",
        "plt.show()\n",
        "\n",
        "plt.scatter(X['B1000'], X['T1'], c=Y)\n",
        "plt.legend()\n",
        "\n",
        "plt.xlabel(\"T1 intensity\")\n",
        "plt.ylabel(\"B-1000 intensity\")\n",
        "plt.title(\"B-1000 vs T1 intensities\")\n",
        "plt.show()\n"
      ]
    },
    {
      "cell_type": "markdown",
      "metadata": {
        "id": "iNSUq0LzOkc2"
      },
      "source": [
        "***\n",
        "### Task 3: Training classifiers\n",
        "\n",
        "After the data is preprocessed and formated for machine learning purposes, lets train our first classifier. In order to have a reliable and unbiased result of the classifier accuracy, the classifier cannot be trained on the same data, which later is used for validation. Therefore, you have to split your dataset into training and testing data. A quick option is to use Scikit-Learn's __cross-validation__ feature. It performs a K-fold cross-validation: it randomly splits the training set into *K* distinct subsets called folds, then trains and evaluates your classifier model *K* times, picking a different fold for evaluation every time and training on the other *K-1* folds. The result will contain *K* evaluation scores. Additionally, shuffle your data during cross-validation to make sure that you use an equal part of each patient data. __Hint__: [__ShuffleSplit__](http://scikit-learn.org/stable/modules/cross_validation.html#computing-cross-validated-metrics)\n",
        "\n",
        "Declare two classifier models: random forest and K-neighbors classifier and using the function *cross_val_score* calculate the mean of 10-fold cross validation on your feature dataset. Print the obtained scores per classifier, their mean and standard deviation.\n",
        "\n",
        "What is the accuracy score? Which classifier performed best?"
      ]
    },
    {
      "cell_type": "markdown",
      "metadata": {
        "id": "Rzd6ld5wOkc3"
      },
      "source": [
        "YOUR ANSWER HERE"
      ]
    },
    {
      "cell_type": "code",
      "execution_count": null,
      "metadata": {
        "colab": {
          "base_uri": "https://localhost:8080/",
          "height": 356
        },
        "collapsed": true,
        "id": "YA28DxxDOkc3",
        "scrolled": true,
        "outputId": "bfc0ee1b-9694-4522-f44b-b28b425515e6"
      },
      "outputs": [
        {
          "output_type": "error",
          "ename": "KeyboardInterrupt",
          "evalue": "",
          "traceback": [
            "\u001b[0;31m---------------------------------------------------------------------------\u001b[0m",
            "\u001b[0;31mKeyboardInterrupt\u001b[0m                         Traceback (most recent call last)",
            "\u001b[0;32m<ipython-input-17-80d8b0bbeb2a>\u001b[0m in \u001b[0;36m<cell line: 22>\u001b[0;34m()\u001b[0m\n\u001b[1;32m     20\u001b[0m \u001b[0;34m\u001b[0m\u001b[0m\n\u001b[1;32m     21\u001b[0m \u001b[0;31m# Cross-validation for Random Forest classifier\u001b[0m\u001b[0;34m\u001b[0m\u001b[0;34m\u001b[0m\u001b[0m\n\u001b[0;32m---> 22\u001b[0;31m \u001b[0mrandom_forest_scores\u001b[0m \u001b[0;34m=\u001b[0m \u001b[0mcross_val_score\u001b[0m\u001b[0;34m(\u001b[0m\u001b[0mrandom_forest\u001b[0m\u001b[0;34m,\u001b[0m \u001b[0mX_train\u001b[0m\u001b[0;34m,\u001b[0m \u001b[0mY_train\u001b[0m\u001b[0;34m,\u001b[0m \u001b[0mcv\u001b[0m\u001b[0;34m=\u001b[0m\u001b[0mshuffle\u001b[0m\u001b[0;34m,\u001b[0m \u001b[0merror_score\u001b[0m\u001b[0;34m=\u001b[0m\u001b[0;34m'raise'\u001b[0m\u001b[0;34m)\u001b[0m\u001b[0;34m\u001b[0m\u001b[0;34m\u001b[0m\u001b[0m\n\u001b[0m\u001b[1;32m     23\u001b[0m \u001b[0;34m\u001b[0m\u001b[0m\n\u001b[1;32m     24\u001b[0m \u001b[0;31m# Cross-validation for K-Neighbors classifier\u001b[0m\u001b[0;34m\u001b[0m\u001b[0;34m\u001b[0m\u001b[0m\n",
            "\u001b[0;32m/usr/local/lib/python3.10/dist-packages/sklearn/model_selection/_validation.py\u001b[0m in \u001b[0;36mcross_val_score\u001b[0;34m(estimator, X, y, groups, scoring, cv, n_jobs, verbose, fit_params, pre_dispatch, error_score)\u001b[0m\n\u001b[1;32m    513\u001b[0m     \u001b[0mscorer\u001b[0m \u001b[0;34m=\u001b[0m \u001b[0mcheck_scoring\u001b[0m\u001b[0;34m(\u001b[0m\u001b[0mestimator\u001b[0m\u001b[0;34m,\u001b[0m \u001b[0mscoring\u001b[0m\u001b[0;34m=\u001b[0m\u001b[0mscoring\u001b[0m\u001b[0;34m)\u001b[0m\u001b[0;34m\u001b[0m\u001b[0;34m\u001b[0m\u001b[0m\n\u001b[1;32m    514\u001b[0m \u001b[0;34m\u001b[0m\u001b[0m\n\u001b[0;32m--> 515\u001b[0;31m     cv_results = cross_validate(\n\u001b[0m\u001b[1;32m    516\u001b[0m         \u001b[0mestimator\u001b[0m\u001b[0;34m=\u001b[0m\u001b[0mestimator\u001b[0m\u001b[0;34m,\u001b[0m\u001b[0;34m\u001b[0m\u001b[0;34m\u001b[0m\u001b[0m\n\u001b[1;32m    517\u001b[0m         \u001b[0mX\u001b[0m\u001b[0;34m=\u001b[0m\u001b[0mX\u001b[0m\u001b[0;34m,\u001b[0m\u001b[0;34m\u001b[0m\u001b[0;34m\u001b[0m\u001b[0m\n",
            "\u001b[0;32m/usr/local/lib/python3.10/dist-packages/sklearn/model_selection/_validation.py\u001b[0m in \u001b[0;36mcross_validate\u001b[0;34m(estimator, X, y, groups, scoring, cv, n_jobs, verbose, fit_params, pre_dispatch, return_train_score, return_estimator, error_score)\u001b[0m\n\u001b[1;32m    264\u001b[0m     \u001b[0;31m# independent, and that it is pickle-able.\u001b[0m\u001b[0;34m\u001b[0m\u001b[0;34m\u001b[0m\u001b[0m\n\u001b[1;32m    265\u001b[0m     \u001b[0mparallel\u001b[0m \u001b[0;34m=\u001b[0m \u001b[0mParallel\u001b[0m\u001b[0;34m(\u001b[0m\u001b[0mn_jobs\u001b[0m\u001b[0;34m=\u001b[0m\u001b[0mn_jobs\u001b[0m\u001b[0;34m,\u001b[0m \u001b[0mverbose\u001b[0m\u001b[0;34m=\u001b[0m\u001b[0mverbose\u001b[0m\u001b[0;34m,\u001b[0m \u001b[0mpre_dispatch\u001b[0m\u001b[0;34m=\u001b[0m\u001b[0mpre_dispatch\u001b[0m\u001b[0;34m)\u001b[0m\u001b[0;34m\u001b[0m\u001b[0;34m\u001b[0m\u001b[0m\n\u001b[0;32m--> 266\u001b[0;31m     results = parallel(\n\u001b[0m\u001b[1;32m    267\u001b[0m         delayed(_fit_and_score)(\n\u001b[1;32m    268\u001b[0m             \u001b[0mclone\u001b[0m\u001b[0;34m(\u001b[0m\u001b[0mestimator\u001b[0m\u001b[0;34m)\u001b[0m\u001b[0;34m,\u001b[0m\u001b[0;34m\u001b[0m\u001b[0;34m\u001b[0m\u001b[0m\n",
            "\u001b[0;32m/usr/local/lib/python3.10/dist-packages/sklearn/utils/parallel.py\u001b[0m in \u001b[0;36m__call__\u001b[0;34m(self, iterable)\u001b[0m\n\u001b[1;32m     61\u001b[0m             \u001b[0;32mfor\u001b[0m \u001b[0mdelayed_func\u001b[0m\u001b[0;34m,\u001b[0m \u001b[0margs\u001b[0m\u001b[0;34m,\u001b[0m \u001b[0mkwargs\u001b[0m \u001b[0;32min\u001b[0m \u001b[0miterable\u001b[0m\u001b[0;34m\u001b[0m\u001b[0;34m\u001b[0m\u001b[0m\n\u001b[1;32m     62\u001b[0m         )\n\u001b[0;32m---> 63\u001b[0;31m         \u001b[0;32mreturn\u001b[0m \u001b[0msuper\u001b[0m\u001b[0;34m(\u001b[0m\u001b[0;34m)\u001b[0m\u001b[0;34m.\u001b[0m\u001b[0m__call__\u001b[0m\u001b[0;34m(\u001b[0m\u001b[0miterable_with_config\u001b[0m\u001b[0;34m)\u001b[0m\u001b[0;34m\u001b[0m\u001b[0;34m\u001b[0m\u001b[0m\n\u001b[0m\u001b[1;32m     64\u001b[0m \u001b[0;34m\u001b[0m\u001b[0m\n\u001b[1;32m     65\u001b[0m \u001b[0;34m\u001b[0m\u001b[0m\n",
            "\u001b[0;32m/usr/local/lib/python3.10/dist-packages/joblib/parallel.py\u001b[0m in \u001b[0;36m__call__\u001b[0;34m(self, iterable)\u001b[0m\n\u001b[1;32m   1861\u001b[0m             \u001b[0moutput\u001b[0m \u001b[0;34m=\u001b[0m \u001b[0mself\u001b[0m\u001b[0;34m.\u001b[0m\u001b[0m_get_sequential_output\u001b[0m\u001b[0;34m(\u001b[0m\u001b[0miterable\u001b[0m\u001b[0;34m)\u001b[0m\u001b[0;34m\u001b[0m\u001b[0;34m\u001b[0m\u001b[0m\n\u001b[1;32m   1862\u001b[0m             \u001b[0mnext\u001b[0m\u001b[0;34m(\u001b[0m\u001b[0moutput\u001b[0m\u001b[0;34m)\u001b[0m\u001b[0;34m\u001b[0m\u001b[0;34m\u001b[0m\u001b[0m\n\u001b[0;32m-> 1863\u001b[0;31m             \u001b[0;32mreturn\u001b[0m \u001b[0moutput\u001b[0m \u001b[0;32mif\u001b[0m \u001b[0mself\u001b[0m\u001b[0;34m.\u001b[0m\u001b[0mreturn_generator\u001b[0m \u001b[0;32melse\u001b[0m \u001b[0mlist\u001b[0m\u001b[0;34m(\u001b[0m\u001b[0moutput\u001b[0m\u001b[0;34m)\u001b[0m\u001b[0;34m\u001b[0m\u001b[0;34m\u001b[0m\u001b[0m\n\u001b[0m\u001b[1;32m   1864\u001b[0m \u001b[0;34m\u001b[0m\u001b[0m\n\u001b[1;32m   1865\u001b[0m         \u001b[0;31m# Let's create an ID that uniquely identifies the current call. If the\u001b[0m\u001b[0;34m\u001b[0m\u001b[0;34m\u001b[0m\u001b[0m\n",
            "\u001b[0;32m/usr/local/lib/python3.10/dist-packages/joblib/parallel.py\u001b[0m in \u001b[0;36m_get_sequential_output\u001b[0;34m(self, iterable)\u001b[0m\n\u001b[1;32m   1790\u001b[0m                 \u001b[0mself\u001b[0m\u001b[0;34m.\u001b[0m\u001b[0mn_dispatched_batches\u001b[0m \u001b[0;34m+=\u001b[0m \u001b[0;36m1\u001b[0m\u001b[0;34m\u001b[0m\u001b[0;34m\u001b[0m\u001b[0m\n\u001b[1;32m   1791\u001b[0m                 \u001b[0mself\u001b[0m\u001b[0;34m.\u001b[0m\u001b[0mn_dispatched_tasks\u001b[0m \u001b[0;34m+=\u001b[0m \u001b[0;36m1\u001b[0m\u001b[0;34m\u001b[0m\u001b[0;34m\u001b[0m\u001b[0m\n\u001b[0;32m-> 1792\u001b[0;31m                 \u001b[0mres\u001b[0m \u001b[0;34m=\u001b[0m \u001b[0mfunc\u001b[0m\u001b[0;34m(\u001b[0m\u001b[0;34m*\u001b[0m\u001b[0margs\u001b[0m\u001b[0;34m,\u001b[0m \u001b[0;34m**\u001b[0m\u001b[0mkwargs\u001b[0m\u001b[0;34m)\u001b[0m\u001b[0;34m\u001b[0m\u001b[0;34m\u001b[0m\u001b[0m\n\u001b[0m\u001b[1;32m   1793\u001b[0m                 \u001b[0mself\u001b[0m\u001b[0;34m.\u001b[0m\u001b[0mn_completed_tasks\u001b[0m \u001b[0;34m+=\u001b[0m \u001b[0;36m1\u001b[0m\u001b[0;34m\u001b[0m\u001b[0;34m\u001b[0m\u001b[0m\n\u001b[1;32m   1794\u001b[0m                 \u001b[0mself\u001b[0m\u001b[0;34m.\u001b[0m\u001b[0mprint_progress\u001b[0m\u001b[0;34m(\u001b[0m\u001b[0;34m)\u001b[0m\u001b[0;34m\u001b[0m\u001b[0;34m\u001b[0m\u001b[0m\n",
            "\u001b[0;32m/usr/local/lib/python3.10/dist-packages/sklearn/utils/parallel.py\u001b[0m in \u001b[0;36m__call__\u001b[0;34m(self, *args, **kwargs)\u001b[0m\n\u001b[1;32m    121\u001b[0m             \u001b[0mconfig\u001b[0m \u001b[0;34m=\u001b[0m \u001b[0;34m{\u001b[0m\u001b[0;34m}\u001b[0m\u001b[0;34m\u001b[0m\u001b[0;34m\u001b[0m\u001b[0m\n\u001b[1;32m    122\u001b[0m         \u001b[0;32mwith\u001b[0m \u001b[0mconfig_context\u001b[0m\u001b[0;34m(\u001b[0m\u001b[0;34m**\u001b[0m\u001b[0mconfig\u001b[0m\u001b[0;34m)\u001b[0m\u001b[0;34m:\u001b[0m\u001b[0;34m\u001b[0m\u001b[0;34m\u001b[0m\u001b[0m\n\u001b[0;32m--> 123\u001b[0;31m             \u001b[0;32mreturn\u001b[0m \u001b[0mself\u001b[0m\u001b[0;34m.\u001b[0m\u001b[0mfunction\u001b[0m\u001b[0;34m(\u001b[0m\u001b[0;34m*\u001b[0m\u001b[0margs\u001b[0m\u001b[0;34m,\u001b[0m \u001b[0;34m**\u001b[0m\u001b[0mkwargs\u001b[0m\u001b[0;34m)\u001b[0m\u001b[0;34m\u001b[0m\u001b[0;34m\u001b[0m\u001b[0m\n\u001b[0m",
            "\u001b[0;32m/usr/local/lib/python3.10/dist-packages/sklearn/model_selection/_validation.py\u001b[0m in \u001b[0;36m_fit_and_score\u001b[0;34m(estimator, X, y, scorer, train, test, verbose, parameters, fit_params, return_train_score, return_parameters, return_n_test_samples, return_times, return_estimator, split_progress, candidate_progress, error_score)\u001b[0m\n\u001b[1;32m    684\u001b[0m             \u001b[0mestimator\u001b[0m\u001b[0;34m.\u001b[0m\u001b[0mfit\u001b[0m\u001b[0;34m(\u001b[0m\u001b[0mX_train\u001b[0m\u001b[0;34m,\u001b[0m \u001b[0;34m**\u001b[0m\u001b[0mfit_params\u001b[0m\u001b[0;34m)\u001b[0m\u001b[0;34m\u001b[0m\u001b[0;34m\u001b[0m\u001b[0m\n\u001b[1;32m    685\u001b[0m         \u001b[0;32melse\u001b[0m\u001b[0;34m:\u001b[0m\u001b[0;34m\u001b[0m\u001b[0;34m\u001b[0m\u001b[0m\n\u001b[0;32m--> 686\u001b[0;31m             \u001b[0mestimator\u001b[0m\u001b[0;34m.\u001b[0m\u001b[0mfit\u001b[0m\u001b[0;34m(\u001b[0m\u001b[0mX_train\u001b[0m\u001b[0;34m,\u001b[0m \u001b[0my_train\u001b[0m\u001b[0;34m,\u001b[0m \u001b[0;34m**\u001b[0m\u001b[0mfit_params\u001b[0m\u001b[0;34m)\u001b[0m\u001b[0;34m\u001b[0m\u001b[0;34m\u001b[0m\u001b[0m\n\u001b[0m\u001b[1;32m    687\u001b[0m \u001b[0;34m\u001b[0m\u001b[0m\n\u001b[1;32m    688\u001b[0m     \u001b[0;32mexcept\u001b[0m \u001b[0mException\u001b[0m\u001b[0;34m:\u001b[0m\u001b[0;34m\u001b[0m\u001b[0;34m\u001b[0m\u001b[0m\n",
            "\u001b[0;32m/usr/local/lib/python3.10/dist-packages/sklearn/ensemble/_forest.py\u001b[0m in \u001b[0;36mfit\u001b[0;34m(self, X, y, sample_weight)\u001b[0m\n\u001b[1;32m    471\u001b[0m             \u001b[0;31m# parallel_backend contexts set at a higher level,\u001b[0m\u001b[0;34m\u001b[0m\u001b[0;34m\u001b[0m\u001b[0m\n\u001b[1;32m    472\u001b[0m             \u001b[0;31m# since correctness does not rely on using threads.\u001b[0m\u001b[0;34m\u001b[0m\u001b[0;34m\u001b[0m\u001b[0m\n\u001b[0;32m--> 473\u001b[0;31m             trees = Parallel(\n\u001b[0m\u001b[1;32m    474\u001b[0m                 \u001b[0mn_jobs\u001b[0m\u001b[0;34m=\u001b[0m\u001b[0mself\u001b[0m\u001b[0;34m.\u001b[0m\u001b[0mn_jobs\u001b[0m\u001b[0;34m,\u001b[0m\u001b[0;34m\u001b[0m\u001b[0;34m\u001b[0m\u001b[0m\n\u001b[1;32m    475\u001b[0m                 \u001b[0mverbose\u001b[0m\u001b[0;34m=\u001b[0m\u001b[0mself\u001b[0m\u001b[0;34m.\u001b[0m\u001b[0mverbose\u001b[0m\u001b[0;34m,\u001b[0m\u001b[0;34m\u001b[0m\u001b[0;34m\u001b[0m\u001b[0m\n",
            "\u001b[0;32m/usr/local/lib/python3.10/dist-packages/sklearn/utils/parallel.py\u001b[0m in \u001b[0;36m__call__\u001b[0;34m(self, iterable)\u001b[0m\n\u001b[1;32m     61\u001b[0m             \u001b[0;32mfor\u001b[0m \u001b[0mdelayed_func\u001b[0m\u001b[0;34m,\u001b[0m \u001b[0margs\u001b[0m\u001b[0;34m,\u001b[0m \u001b[0mkwargs\u001b[0m \u001b[0;32min\u001b[0m \u001b[0miterable\u001b[0m\u001b[0;34m\u001b[0m\u001b[0;34m\u001b[0m\u001b[0m\n\u001b[1;32m     62\u001b[0m         )\n\u001b[0;32m---> 63\u001b[0;31m         \u001b[0;32mreturn\u001b[0m \u001b[0msuper\u001b[0m\u001b[0;34m(\u001b[0m\u001b[0;34m)\u001b[0m\u001b[0;34m.\u001b[0m\u001b[0m__call__\u001b[0m\u001b[0;34m(\u001b[0m\u001b[0miterable_with_config\u001b[0m\u001b[0;34m)\u001b[0m\u001b[0;34m\u001b[0m\u001b[0;34m\u001b[0m\u001b[0m\n\u001b[0m\u001b[1;32m     64\u001b[0m \u001b[0;34m\u001b[0m\u001b[0m\n\u001b[1;32m     65\u001b[0m \u001b[0;34m\u001b[0m\u001b[0m\n",
            "\u001b[0;32m/usr/local/lib/python3.10/dist-packages/joblib/parallel.py\u001b[0m in \u001b[0;36m__call__\u001b[0;34m(self, iterable)\u001b[0m\n\u001b[1;32m   1861\u001b[0m             \u001b[0moutput\u001b[0m \u001b[0;34m=\u001b[0m \u001b[0mself\u001b[0m\u001b[0;34m.\u001b[0m\u001b[0m_get_sequential_output\u001b[0m\u001b[0;34m(\u001b[0m\u001b[0miterable\u001b[0m\u001b[0;34m)\u001b[0m\u001b[0;34m\u001b[0m\u001b[0;34m\u001b[0m\u001b[0m\n\u001b[1;32m   1862\u001b[0m             \u001b[0mnext\u001b[0m\u001b[0;34m(\u001b[0m\u001b[0moutput\u001b[0m\u001b[0;34m)\u001b[0m\u001b[0;34m\u001b[0m\u001b[0;34m\u001b[0m\u001b[0m\n\u001b[0;32m-> 1863\u001b[0;31m             \u001b[0;32mreturn\u001b[0m \u001b[0moutput\u001b[0m \u001b[0;32mif\u001b[0m \u001b[0mself\u001b[0m\u001b[0;34m.\u001b[0m\u001b[0mreturn_generator\u001b[0m \u001b[0;32melse\u001b[0m \u001b[0mlist\u001b[0m\u001b[0;34m(\u001b[0m\u001b[0moutput\u001b[0m\u001b[0;34m)\u001b[0m\u001b[0;34m\u001b[0m\u001b[0;34m\u001b[0m\u001b[0m\n\u001b[0m\u001b[1;32m   1864\u001b[0m \u001b[0;34m\u001b[0m\u001b[0m\n\u001b[1;32m   1865\u001b[0m         \u001b[0;31m# Let's create an ID that uniquely identifies the current call. If the\u001b[0m\u001b[0;34m\u001b[0m\u001b[0;34m\u001b[0m\u001b[0m\n",
            "\u001b[0;32m/usr/local/lib/python3.10/dist-packages/joblib/parallel.py\u001b[0m in \u001b[0;36m_get_sequential_output\u001b[0;34m(self, iterable)\u001b[0m\n\u001b[1;32m   1790\u001b[0m                 \u001b[0mself\u001b[0m\u001b[0;34m.\u001b[0m\u001b[0mn_dispatched_batches\u001b[0m \u001b[0;34m+=\u001b[0m \u001b[0;36m1\u001b[0m\u001b[0;34m\u001b[0m\u001b[0;34m\u001b[0m\u001b[0m\n\u001b[1;32m   1791\u001b[0m                 \u001b[0mself\u001b[0m\u001b[0;34m.\u001b[0m\u001b[0mn_dispatched_tasks\u001b[0m \u001b[0;34m+=\u001b[0m \u001b[0;36m1\u001b[0m\u001b[0;34m\u001b[0m\u001b[0;34m\u001b[0m\u001b[0m\n\u001b[0;32m-> 1792\u001b[0;31m                 \u001b[0mres\u001b[0m \u001b[0;34m=\u001b[0m \u001b[0mfunc\u001b[0m\u001b[0;34m(\u001b[0m\u001b[0;34m*\u001b[0m\u001b[0margs\u001b[0m\u001b[0;34m,\u001b[0m \u001b[0;34m**\u001b[0m\u001b[0mkwargs\u001b[0m\u001b[0;34m)\u001b[0m\u001b[0;34m\u001b[0m\u001b[0;34m\u001b[0m\u001b[0m\n\u001b[0m\u001b[1;32m   1793\u001b[0m                 \u001b[0mself\u001b[0m\u001b[0;34m.\u001b[0m\u001b[0mn_completed_tasks\u001b[0m \u001b[0;34m+=\u001b[0m \u001b[0;36m1\u001b[0m\u001b[0;34m\u001b[0m\u001b[0;34m\u001b[0m\u001b[0m\n\u001b[1;32m   1794\u001b[0m                 \u001b[0mself\u001b[0m\u001b[0;34m.\u001b[0m\u001b[0mprint_progress\u001b[0m\u001b[0;34m(\u001b[0m\u001b[0;34m)\u001b[0m\u001b[0;34m\u001b[0m\u001b[0;34m\u001b[0m\u001b[0m\n",
            "\u001b[0;32m/usr/local/lib/python3.10/dist-packages/sklearn/utils/parallel.py\u001b[0m in \u001b[0;36m__call__\u001b[0;34m(self, *args, **kwargs)\u001b[0m\n\u001b[1;32m    121\u001b[0m             \u001b[0mconfig\u001b[0m \u001b[0;34m=\u001b[0m \u001b[0;34m{\u001b[0m\u001b[0;34m}\u001b[0m\u001b[0;34m\u001b[0m\u001b[0;34m\u001b[0m\u001b[0m\n\u001b[1;32m    122\u001b[0m         \u001b[0;32mwith\u001b[0m \u001b[0mconfig_context\u001b[0m\u001b[0;34m(\u001b[0m\u001b[0;34m**\u001b[0m\u001b[0mconfig\u001b[0m\u001b[0;34m)\u001b[0m\u001b[0;34m:\u001b[0m\u001b[0;34m\u001b[0m\u001b[0;34m\u001b[0m\u001b[0m\n\u001b[0;32m--> 123\u001b[0;31m             \u001b[0;32mreturn\u001b[0m \u001b[0mself\u001b[0m\u001b[0;34m.\u001b[0m\u001b[0mfunction\u001b[0m\u001b[0;34m(\u001b[0m\u001b[0;34m*\u001b[0m\u001b[0margs\u001b[0m\u001b[0;34m,\u001b[0m \u001b[0;34m**\u001b[0m\u001b[0mkwargs\u001b[0m\u001b[0;34m)\u001b[0m\u001b[0;34m\u001b[0m\u001b[0;34m\u001b[0m\u001b[0m\n\u001b[0m",
            "\u001b[0;32m/usr/local/lib/python3.10/dist-packages/sklearn/ensemble/_forest.py\u001b[0m in \u001b[0;36m_parallel_build_trees\u001b[0;34m(tree, bootstrap, X, y, sample_weight, tree_idx, n_trees, verbose, class_weight, n_samples_bootstrap)\u001b[0m\n\u001b[1;32m    182\u001b[0m             \u001b[0mcurr_sample_weight\u001b[0m \u001b[0;34m*=\u001b[0m \u001b[0mcompute_sample_weight\u001b[0m\u001b[0;34m(\u001b[0m\u001b[0;34m\"balanced\"\u001b[0m\u001b[0;34m,\u001b[0m \u001b[0my\u001b[0m\u001b[0;34m,\u001b[0m \u001b[0mindices\u001b[0m\u001b[0;34m=\u001b[0m\u001b[0mindices\u001b[0m\u001b[0;34m)\u001b[0m\u001b[0;34m\u001b[0m\u001b[0;34m\u001b[0m\u001b[0m\n\u001b[1;32m    183\u001b[0m \u001b[0;34m\u001b[0m\u001b[0m\n\u001b[0;32m--> 184\u001b[0;31m         \u001b[0mtree\u001b[0m\u001b[0;34m.\u001b[0m\u001b[0mfit\u001b[0m\u001b[0;34m(\u001b[0m\u001b[0mX\u001b[0m\u001b[0;34m,\u001b[0m \u001b[0my\u001b[0m\u001b[0;34m,\u001b[0m \u001b[0msample_weight\u001b[0m\u001b[0;34m=\u001b[0m\u001b[0mcurr_sample_weight\u001b[0m\u001b[0;34m,\u001b[0m \u001b[0mcheck_input\u001b[0m\u001b[0;34m=\u001b[0m\u001b[0;32mFalse\u001b[0m\u001b[0;34m)\u001b[0m\u001b[0;34m\u001b[0m\u001b[0;34m\u001b[0m\u001b[0m\n\u001b[0m\u001b[1;32m    185\u001b[0m     \u001b[0;32melse\u001b[0m\u001b[0;34m:\u001b[0m\u001b[0;34m\u001b[0m\u001b[0;34m\u001b[0m\u001b[0m\n\u001b[1;32m    186\u001b[0m         \u001b[0mtree\u001b[0m\u001b[0;34m.\u001b[0m\u001b[0mfit\u001b[0m\u001b[0;34m(\u001b[0m\u001b[0mX\u001b[0m\u001b[0;34m,\u001b[0m \u001b[0my\u001b[0m\u001b[0;34m,\u001b[0m \u001b[0msample_weight\u001b[0m\u001b[0;34m=\u001b[0m\u001b[0msample_weight\u001b[0m\u001b[0;34m,\u001b[0m \u001b[0mcheck_input\u001b[0m\u001b[0;34m=\u001b[0m\u001b[0;32mFalse\u001b[0m\u001b[0;34m)\u001b[0m\u001b[0;34m\u001b[0m\u001b[0;34m\u001b[0m\u001b[0m\n",
            "\u001b[0;32m/usr/local/lib/python3.10/dist-packages/sklearn/tree/_classes.py\u001b[0m in \u001b[0;36mfit\u001b[0;34m(self, X, y, sample_weight, check_input)\u001b[0m\n\u001b[1;32m    887\u001b[0m         \"\"\"\n\u001b[1;32m    888\u001b[0m \u001b[0;34m\u001b[0m\u001b[0m\n\u001b[0;32m--> 889\u001b[0;31m         super().fit(\n\u001b[0m\u001b[1;32m    890\u001b[0m             \u001b[0mX\u001b[0m\u001b[0;34m,\u001b[0m\u001b[0;34m\u001b[0m\u001b[0;34m\u001b[0m\u001b[0m\n\u001b[1;32m    891\u001b[0m             \u001b[0my\u001b[0m\u001b[0;34m,\u001b[0m\u001b[0;34m\u001b[0m\u001b[0;34m\u001b[0m\u001b[0m\n",
            "\u001b[0;32m/usr/local/lib/python3.10/dist-packages/sklearn/tree/_classes.py\u001b[0m in \u001b[0;36mfit\u001b[0;34m(self, X, y, sample_weight, check_input)\u001b[0m\n\u001b[1;32m    377\u001b[0m             )\n\u001b[1;32m    378\u001b[0m \u001b[0;34m\u001b[0m\u001b[0m\n\u001b[0;32m--> 379\u001b[0;31m         \u001b[0mbuilder\u001b[0m\u001b[0;34m.\u001b[0m\u001b[0mbuild\u001b[0m\u001b[0;34m(\u001b[0m\u001b[0mself\u001b[0m\u001b[0;34m.\u001b[0m\u001b[0mtree_\u001b[0m\u001b[0;34m,\u001b[0m \u001b[0mX\u001b[0m\u001b[0;34m,\u001b[0m \u001b[0my\u001b[0m\u001b[0;34m,\u001b[0m \u001b[0msample_weight\u001b[0m\u001b[0;34m)\u001b[0m\u001b[0;34m\u001b[0m\u001b[0;34m\u001b[0m\u001b[0m\n\u001b[0m\u001b[1;32m    380\u001b[0m \u001b[0;34m\u001b[0m\u001b[0m\n\u001b[1;32m    381\u001b[0m         \u001b[0;32mif\u001b[0m \u001b[0mself\u001b[0m\u001b[0;34m.\u001b[0m\u001b[0mn_outputs_\u001b[0m \u001b[0;34m==\u001b[0m \u001b[0;36m1\u001b[0m \u001b[0;32mand\u001b[0m \u001b[0mis_classifier\u001b[0m\u001b[0;34m(\u001b[0m\u001b[0mself\u001b[0m\u001b[0;34m)\u001b[0m\u001b[0;34m:\u001b[0m\u001b[0;34m\u001b[0m\u001b[0;34m\u001b[0m\u001b[0m\n",
            "\u001b[0;31mKeyboardInterrupt\u001b[0m: "
          ]
        }
      ],
      "source": [
        "from sklearn.model_selection import train_test_split\n",
        "from sklearn import datasets\n",
        "from sklearn import svm\n",
        "from sklearn.ensemble import RandomForestClassifier\n",
        "from sklearn.neighbors import KNeighborsClassifier\n",
        "from sklearn.model_selection import cross_val_score\n",
        "\n",
        "# Split your dataset into training and testing data\n",
        "X_train, X_test, Y_train, Y_test = train_test_split(X, Y, test_size=0.25, random_state=0)\n",
        "#cross-validation (k-fold)\n",
        "\n",
        "from sklearn.model_selection import ShuffleSplit\n",
        "#shuffle your data during cross-validation to make sure that you use an equal part of each patient data.\n",
        "number_splits = 10\n",
        "shuffle = ShuffleSplit(n_splits=number_splits, test_size=0.3, random_state=0)\n",
        "\n",
        "# Declare two classifier models\n",
        "random_forest = RandomForestClassifier() # Random forest\n",
        "k_neighbors = KNeighborsClassifier() # K-neighbors classifier\n",
        "\n",
        "# Cross-validation for Random Forest classifier\n",
        "random_forest_scores = cross_val_score(random_forest, X_train, Y_train, cv=shuffle, error_score='raise')\n",
        "\n",
        "# Cross-validation for K-Neighbors classifier\n",
        "knn_scores = cross_val_score(k_neighbors, X_train, Y_train, cv=shuffle)\n",
        "\n",
        "\n"
      ]
    },
    {
      "cell_type": "code",
      "execution_count": null,
      "metadata": {
        "id": "etQmoFS4jNpm",
        "colab": {
          "base_uri": "https://localhost:8080/"
        },
        "outputId": "5e8eb72d-a6a1-4d68-fdb5-e83683d288f4"
      },
      "outputs": [
        {
          "output_type": "stream",
          "name": "stdout",
          "text": [
            "The random forest has a 0.98 accuracy with a standard deviation of 0.00\n",
            "The K-Neighbours classifier has a 0.96 accuracy with a standard deviation of 0.00\n"
          ]
        }
      ],
      "source": [
        "#calculate the mean of 10-fold cross validation on your feature dataset\n",
        "\n",
        "print(\"The random forest has a %0.2f accuracy with a standard deviation of %0.2f\" % (random_forest_scores.mean(), random_forest_scores.std()))\n",
        "print(\"The K-Neighbours classifier has a %0.2f accuracy with a standard deviation of %0.2f\" % (knn_scores.mean(), knn_scores.std()))\n"
      ]
    },
    {
      "cell_type": "markdown",
      "metadata": {
        "id": "0-G23-PHOkc4"
      },
      "source": [
        "***\n",
        "### Task 4: Validation of predicted values\n",
        "\n",
        "Based on the results from Task 3, chose the best classifier. Using sklearn __train_test_split__, split the data into 2 sets: the _training_ set and the _test_ set. It is common to use 80% of the data for training and 20% for testing. Train the classifier on the _training_ set and use it to predict the _test_ set. Measure & visualise the perfomance of your classifier using the confusion matrix, the classification report and the ROC curve.\n",
        "__Hint__: Transform the Healthy/Lesion parameters into binary in order to create the ROC curve"
      ]
    },
    {
      "cell_type": "code",
      "execution_count": null,
      "metadata": {
        "collapsed": true,
        "id": "qUsCzO4sOkc5"
      },
      "outputs": [],
      "source": [
        "### Code for Task 4\n",
        "# Split your dataset into training and testing data\n",
        "X_train, X_test, Y_train, Y_test = train_test_split(X, Y, test_size=0.2, random_state=0)\n"
      ]
    },
    {
      "cell_type": "markdown",
      "metadata": {
        "id": "HEvV8etEOkc6"
      },
      "source": [
        "***\n",
        "### Task 5: Optimization of the classifier (Optional)\n",
        "\n",
        "Optimize your classifier using sklearn __grid search__. Grid optimizes your classifier based on the parameters you want it to experiment with and what values to try out. It uses cross-validation to evaluate all possible combinations of the parameters and values, providing the optimal combinations in the end. For the sake of time, choose 3 parameters you want to optimize. More info on the parameters can be found [__here__](https://towardsdatascience.com/hyperparameter-tuning-the-random-forest-in-python-using-scikit-learn-28d2aa77dd74). Retrain your optimized classifier and compare performance with the non-optimized classifier."
      ]
    },
    {
      "cell_type": "code",
      "execution_count": null,
      "metadata": {
        "collapsed": true,
        "id": "wcZs0_SJOkc6"
      },
      "outputs": [],
      "source": [
        "###Code for task 5"
      ]
    },
    {
      "cell_type": "markdown",
      "metadata": {
        "id": "gIB606ebOkc6"
      },
      "source": [
        "***\n",
        "### Task 6: Segmentation result image - inference\n",
        "\n",
        "It is time to test our machine learning algorithm on a new data, which was not involved in a training stage. You are going to detect bone lesions in a test patient to test the performance of your classifier. After tissue classification, we will create a segmentation image.\n",
        "\n",
        "1. Train the best performing classifier with suitable parameters on the whole dataset of 9 patients (do not use cross validation).\n",
        "\n",
        "2. Have a look at the *Patient_Test* folder. The folder contains information extracted from 3 different frontal slices of the same bone metastases patient. For each slice the following files are given:\n",
        "    - .csv file containing a list of features extracted from every skeleton voxel visible on the slice\n",
        "    - .mhd image file representing T1-anatomy MRI image (slice_T1.mhd)\n",
        "    - .mhd image file representing a ground-truth segmentation image (slice_GT.mhd)\n",
        "    \n",
        "3. Load and plot the T1 image using provided SimpleITK functions. For more information on SimpleITK click [here](http://insightsoftwareconsortium.github.io/SimpleITK-Notebooks/)\n",
        "\n",
        "4. Choose a slice and load a corresponding .csv file. Remove not needed columns and split the dataframe into features, positions and class columns of size 30, 2 and 1 accordingly.\n",
        "\n",
        "5. Using your trained intensity classifier, predict if the voxels from the slice are of a healthy or metastatic bone. Compare your findings with a ground truth vector extracted in point 4. Print classification report.\n",
        "\n",
        "6. Reconstruct segmentation using provided function using obtained predicted classes vector and position data. Plot your result in the overlay with T1 image.\n",
        "\n",
        "7. Repeat for the remaining two slices."
      ]
    },
    {
      "cell_type": "code",
      "execution_count": null,
      "metadata": {
        "collapsed": true,
        "id": "BzfqryWPOkc7"
      },
      "outputs": [],
      "source": [
        "### Code for task 6\n",
        "import SimpleITK as sitk\n",
        "import matplotlib.pyplot as plt\n",
        "%matplotlib inline\n",
        "\n",
        "def loadImage(filename):\n",
        "    image = sitk.ReadImage(filename)\n",
        "    return image\n",
        "\n",
        "def showImage(image):\n",
        "    plt.figure(figsize=(5, 20))\n",
        "    plt.imshow(sitk.GetArrayViewFromImage(image), cmap=plt.cm.Greys_r)\n",
        "\n",
        "def showImageOverlay(image1, image2):\n",
        "    plt.figure(figsize=(5, 20))\n",
        "    plt.imshow(sitk.GetArrayViewFromImage(image1), cmap='gray', interpolation='none')\n",
        "    plt.imshow(sitk.GetArrayViewFromImage(image2), cmap='Reds', alpha=0.3, interpolation='none')\n",
        "\n",
        "def reconstruct_segmentation_image(predicted, positions, slice_filename):\n",
        "\n",
        "    # Load slice image and convert to numpy array\n",
        "    slice_image = sitk.ReadImage(slice_filename)\n",
        "    slice_image = sitk.GetArrayFromImage(slice_image)\n",
        "\n",
        "    # Convert position columns to int type\n",
        "    position = positions.to_numpy()\n",
        "    position = position.astype(int)\n",
        "\n",
        "    # Create empty slice template\n",
        "    output_seg = np.zeros((slice_image.shape[0], slice_image.shape[1]))\n",
        "\n",
        "    # Fill in the template using predictions\n",
        "    for i in range(len(predicted)):\n",
        "        if predicted[i] == 'healthy':\n",
        "            output_seg[position[i,0],position[i,1]] = 0\n",
        "        else:\n",
        "            output_seg[position[i,0],position[i,1]] = 1\n",
        "\n",
        "    output_seg = sitk.GetImageFromArray(output_seg)\n",
        "\n",
        "    return output_seg"
      ]
    }
  ],
  "metadata": {
    "celltoolbar": "Create Assignment",
    "colab": {
      "provenance": []
    },
    "kernelspec": {
      "display_name": "Python 3",
      "language": "python",
      "name": "python3"
    },
    "language_info": {
      "codemirror_mode": {
        "name": "ipython",
        "version": 3
      },
      "file_extension": ".py",
      "mimetype": "text/x-python",
      "name": "python",
      "nbconvert_exporter": "python",
      "pygments_lexer": "ipython3",
      "version": "3.11.5"
    }
  },
  "nbformat": 4,
  "nbformat_minor": 0
}